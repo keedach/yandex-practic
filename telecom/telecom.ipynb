{
 "cells": [
  {
   "cell_type": "markdown",
   "metadata": {},
   "source": [
    "# Телеком"
   ]
  },
  {
   "cell_type": "markdown",
   "metadata": {},
   "source": [
    "Оператор связи хочет научиться прогнозировать отток клиентов. Если выяснится, что пользователь планирует уйти, ему будут предложены промокоды и специальные условия. Команда оператора собрала персональные данные о некоторых клиентах, информацию об их тарифах и договорах.\n",
    "\n",
    "**Описание услуг**\n",
    "\n",
    "Оператор предоставляет два основных типа услуг: \n",
    "\n",
    "1. Стационарную телефонную связь. Возможно подключение телефонного аппарата к нескольким линиям одновременно.\n",
    "2. Интернет. Подключение может быть двух типов: через телефонную линию (DSL*,* от англ. *digital subscriber line*, «цифровая абонентская линия») или оптоволоконный кабель (*Fiber optic*).  \n",
    "\n",
    "Также доступны такие услуги:\n",
    "\n",
    "- Интернет-безопасность: антивирус (*DeviceProtection*) и блокировка небезопасных сайтов (*OnlineSecurity*);\n",
    "- Выделенная линия технической поддержки (*TechSupport*);\n",
    "- Облачное хранилище файлов для резервного копирования данных (*OnlineBackup*);\n",
    "- Стриминговое телевидение (*StreamingTV*) и каталог фильмов (*StreamingMovies*).\n",
    "\n",
    "За услуги клиенты могут платить каждый месяц или заключить договор на 1–2 года. Доступны различные способы расчёта и возможность получения электронного чека.\n",
    "\n",
    "**Описание данных**\n",
    "\n",
    "Данные состоят из файлов, полученных из разных источников:\n",
    "\n",
    "- `contract.csv` — информация о договоре;\n",
    "- `personal.csv` — персональные данные клиента;\n",
    "- `internet.csv` — информация об интернет-услугах;\n",
    "- `phone.csv` — информация об услугах телефонии.\n",
    "\n",
    "Во всех файлах столбец `customerID` содержит код клиента.\n",
    "\n",
    "Информация о договорах актуальна на 1 февраля 2020."
   ]
  },
  {
   "cell_type": "markdown",
   "metadata": {},
   "source": [
    "## Исследовательский анализ"
   ]
  },
  {
   "cell_type": "code",
   "execution_count": 1,
   "metadata": {},
   "outputs": [],
   "source": [
    "# Импортируем библиотеки\n",
    "\n",
    "import imp\n",
    "import pandas as pd\n",
    "import numpy as np\n",
    "\n",
    "from pathlib import Path\n",
    "from tqdm import notebook\n",
    "\n",
    "from sklearn.model_selection import (\n",
    "    train_test_split, RepeatedKFold, cross_val_score, GridSearchCV)\n",
    "from sklearn.ensemble import RandomForestClassifier\n",
    "from sklearn.metrics import roc_auc_score, accuracy_score, f1_score, make_scorer, log_loss\n",
    "from sklearn.utils import shuffle\n",
    "from sklearn.preprocessing import OneHotEncoder\n",
    "\n",
    "from catboost import CatBoostClassifier, CatBoost\n",
    "from catboost import cv, Pool\n",
    "from catboost.utils import get_roc_curve\n",
    "\n",
    "from imblearn.over_sampling import SMOTE\n",
    "\n",
    "import matplotlib.pyplot as plt"
   ]
  },
  {
   "cell_type": "code",
   "execution_count": 2,
   "metadata": {},
   "outputs": [],
   "source": [
    "# Прочитаем файлы\n",
    "\n",
    "def orf(name):\n",
    "    try:\n",
    "        my_csv = Path(\"C:/Users/Счастливый/Desktop/final_provider/final_provider/\" + name)\n",
    "        return pd.read_csv(my_csv.resolve(), sep=',').copy()\n",
    "    except:\n",
    "        my_csv = Path(\"/datasets/final_provider/\" + name)\n",
    "        return pd.read_csv(my_csv, sep=',').copy()"
   ]
  },
  {
   "cell_type": "code",
   "execution_count": 3,
   "metadata": {},
   "outputs": [],
   "source": [
    "contract = orf('contract.csv')\n",
    "personal = orf('personal.csv')\n",
    "internet = orf('internet.csv')\n",
    "phone = orf('phone.csv')"
   ]
  },
  {
   "cell_type": "markdown",
   "metadata": {},
   "source": [
    "### contract.csv"
   ]
  },
  {
   "cell_type": "markdown",
   "metadata": {},
   "source": [
    "`contract.csv` — информация о договоре."
   ]
  },
  {
   "cell_type": "code",
   "execution_count": 4,
   "metadata": {},
   "outputs": [
    {
     "data": {
      "text/html": [
       "<div>\n",
       "<style scoped>\n",
       "    .dataframe tbody tr th:only-of-type {\n",
       "        vertical-align: middle;\n",
       "    }\n",
       "\n",
       "    .dataframe tbody tr th {\n",
       "        vertical-align: top;\n",
       "    }\n",
       "\n",
       "    .dataframe thead th {\n",
       "        text-align: right;\n",
       "    }\n",
       "</style>\n",
       "<table border=\"1\" class=\"dataframe\">\n",
       "  <thead>\n",
       "    <tr style=\"text-align: right;\">\n",
       "      <th></th>\n",
       "      <th>customerID</th>\n",
       "      <th>BeginDate</th>\n",
       "      <th>EndDate</th>\n",
       "      <th>Type</th>\n",
       "      <th>PaperlessBilling</th>\n",
       "      <th>PaymentMethod</th>\n",
       "      <th>MonthlyCharges</th>\n",
       "      <th>TotalCharges</th>\n",
       "    </tr>\n",
       "  </thead>\n",
       "  <tbody>\n",
       "    <tr>\n",
       "      <th>0</th>\n",
       "      <td>7590-VHVEG</td>\n",
       "      <td>2020-01-01</td>\n",
       "      <td>No</td>\n",
       "      <td>Month-to-month</td>\n",
       "      <td>Yes</td>\n",
       "      <td>Electronic check</td>\n",
       "      <td>29.85</td>\n",
       "      <td>29.85</td>\n",
       "    </tr>\n",
       "    <tr>\n",
       "      <th>1</th>\n",
       "      <td>5575-GNVDE</td>\n",
       "      <td>2017-04-01</td>\n",
       "      <td>No</td>\n",
       "      <td>One year</td>\n",
       "      <td>No</td>\n",
       "      <td>Mailed check</td>\n",
       "      <td>56.95</td>\n",
       "      <td>1889.5</td>\n",
       "    </tr>\n",
       "    <tr>\n",
       "      <th>2</th>\n",
       "      <td>3668-QPYBK</td>\n",
       "      <td>2019-10-01</td>\n",
       "      <td>2019-12-01 00:00:00</td>\n",
       "      <td>Month-to-month</td>\n",
       "      <td>Yes</td>\n",
       "      <td>Mailed check</td>\n",
       "      <td>53.85</td>\n",
       "      <td>108.15</td>\n",
       "    </tr>\n",
       "  </tbody>\n",
       "</table>\n",
       "</div>"
      ],
      "text/plain": [
       "   customerID   BeginDate              EndDate            Type  \\\n",
       "0  7590-VHVEG  2020-01-01                   No  Month-to-month   \n",
       "1  5575-GNVDE  2017-04-01                   No        One year   \n",
       "2  3668-QPYBK  2019-10-01  2019-12-01 00:00:00  Month-to-month   \n",
       "\n",
       "  PaperlessBilling     PaymentMethod  MonthlyCharges TotalCharges  \n",
       "0              Yes  Electronic check           29.85        29.85  \n",
       "1               No      Mailed check           56.95       1889.5  \n",
       "2              Yes      Mailed check           53.85       108.15  "
      ]
     },
     "execution_count": 4,
     "metadata": {},
     "output_type": "execute_result"
    }
   ],
   "source": [
    "contract.head(3)"
   ]
  },
  {
   "cell_type": "code",
   "execution_count": 5,
   "metadata": {},
   "outputs": [],
   "source": [
    "# функция для преобразования названий столбцов из CamelCase в snake_case\n",
    "def camel_to_snake(data):\n",
    "    col = []\n",
    "    for row in data.columns:\n",
    "        index = [i for i, c in enumerate(row) if c.isupper()]\n",
    "        count = -1\n",
    "        y=0\n",
    "        for i in index:\n",
    "            if (i!=0) and (i!=y):\n",
    "                count += 1\n",
    "                row = row[:i+count] + '_' + row[i+count:]\n",
    "            y=i+1\n",
    "        col.append(row.lower())\n",
    "    return col"
   ]
  },
  {
   "cell_type": "code",
   "execution_count": 6,
   "metadata": {},
   "outputs": [],
   "source": [
    "contract.columns = camel_to_snake(contract)"
   ]
  },
  {
   "cell_type": "code",
   "execution_count": 7,
   "metadata": {},
   "outputs": [
    {
     "name": "stdout",
     "output_type": "stream",
     "text": [
      "<class 'pandas.core.frame.DataFrame'>\n",
      "RangeIndex: 7043 entries, 0 to 7042\n",
      "Data columns (total 8 columns):\n",
      " #   Column             Non-Null Count  Dtype  \n",
      "---  ------             --------------  -----  \n",
      " 0   customer_id        7043 non-null   object \n",
      " 1   begin_date         7043 non-null   object \n",
      " 2   end_date           7043 non-null   object \n",
      " 3   type               7043 non-null   object \n",
      " 4   paperless_billing  7043 non-null   object \n",
      " 5   payment_method     7043 non-null   object \n",
      " 6   monthly_charges    7043 non-null   float64\n",
      " 7   total_charges      7043 non-null   object \n",
      "dtypes: float64(1), object(7)\n",
      "memory usage: 440.3+ KB\n"
     ]
    }
   ],
   "source": [
    "contract.info()"
   ]
  },
  {
   "cell_type": "markdown",
   "metadata": {},
   "source": [
    "Пропусков нет."
   ]
  },
  {
   "cell_type": "code",
   "execution_count": 8,
   "metadata": {},
   "outputs": [
    {
     "data": {
      "text/plain": [
       "7043"
      ]
     },
     "execution_count": 8,
     "metadata": {},
     "output_type": "execute_result"
    }
   ],
   "source": [
    "contract['customer_id'].nunique()"
   ]
  },
  {
   "cell_type": "markdown",
   "metadata": {},
   "source": [
    "Все записи 'customer_id' уникальны."
   ]
  },
  {
   "cell_type": "code",
   "execution_count": 9,
   "metadata": {},
   "outputs": [
    {
     "data": {
      "text/plain": [
       "0.0"
      ]
     },
     "execution_count": 9,
     "metadata": {},
     "output_type": "execute_result"
    }
   ],
   "source": [
    "# Проверка на дубликаты\n",
    "\n",
    "contract.duplicated().mean()"
   ]
  },
  {
   "cell_type": "markdown",
   "metadata": {},
   "source": [
    "Дубликатов нет."
   ]
  },
  {
   "cell_type": "code",
   "execution_count": 10,
   "metadata": {},
   "outputs": [
    {
     "data": {
      "text/plain": [
       "0     2020-01-01\n",
       "1     2017-04-01\n",
       "2     2019-10-01\n",
       "3     2016-05-01\n",
       "4     2019-09-01\n",
       "5     2019-03-01\n",
       "6     2018-04-01\n",
       "7     2019-04-01\n",
       "8     2017-07-01\n",
       "9     2014-12-01\n",
       "10    2019-01-01\n",
       "11    2018-10-01\n",
       "12    2015-04-01\n",
       "13    2015-09-01\n",
       "14    2018-01-01\n",
       "15    2014-05-01\n",
       "16    2015-10-01\n",
       "17    2014-03-01\n",
       "18    2019-01-01\n",
       "19    2018-05-01\n",
       "Name: begin_date, dtype: object"
      ]
     },
     "execution_count": 10,
     "metadata": {},
     "output_type": "execute_result"
    }
   ],
   "source": [
    "contract['begin_date'].head(20)"
   ]
  },
  {
   "cell_type": "markdown",
   "metadata": {},
   "source": [
    "Судя по всему число начала договора всегда 1, меняется только месяц и год. Переведем в нужный тип данных."
   ]
  },
  {
   "cell_type": "code",
   "execution_count": 11,
   "metadata": {},
   "outputs": [
    {
     "name": "stdout",
     "output_type": "stream",
     "text": [
      "<class 'pandas.core.frame.DataFrame'>\n",
      "RangeIndex: 7043 entries, 0 to 7042\n",
      "Data columns (total 8 columns):\n",
      " #   Column             Non-Null Count  Dtype         \n",
      "---  ------             --------------  -----         \n",
      " 0   customer_id        7043 non-null   object        \n",
      " 1   begin_date         7043 non-null   datetime64[ns]\n",
      " 2   end_date           7043 non-null   object        \n",
      " 3   type               7043 non-null   object        \n",
      " 4   paperless_billing  7043 non-null   object        \n",
      " 5   payment_method     7043 non-null   object        \n",
      " 6   monthly_charges    7043 non-null   float64       \n",
      " 7   total_charges      7043 non-null   object        \n",
      "dtypes: datetime64[ns](1), float64(1), object(6)\n",
      "memory usage: 440.3+ KB\n"
     ]
    }
   ],
   "source": [
    "contract['begin_date'] = pd.to_datetime(\n",
    "    contract['begin_date'], format='%Y.%m.%d %H:%M:%S')\n",
    "\n",
    "contract.info()"
   ]
  },
  {
   "cell_type": "code",
   "execution_count": 12,
   "metadata": {},
   "outputs": [
    {
     "data": {
      "text/plain": [
       "Int64Index([2013, 2014, 2015, 2016, 2017, 2018, 2019, 2020], dtype='int64', name='begin_date')"
      ]
     },
     "metadata": {},
     "output_type": "display_data"
    },
    {
     "data": {
      "text/plain": [
       "Int64Index([1, 2, 3, 4, 5, 6, 7, 8, 9, 10, 11, 12], dtype='int64', name='begin_date')"
      ]
     },
     "metadata": {},
     "output_type": "display_data"
    },
    {
     "data": {
      "text/plain": [
       "Int64Index([1], dtype='int64', name='begin_date')"
      ]
     },
     "metadata": {},
     "output_type": "display_data"
    }
   ],
   "source": [
    "display(pd.DatetimeIndex(contract['begin_date']) \\\n",
    "    .year.sort_values().unique())\n",
    "\n",
    "display(pd.DatetimeIndex(contract['begin_date']) \\\n",
    "    .month.sort_values().unique())\n",
    "\n",
    "display(pd.DatetimeIndex(contract['begin_date']) \\\n",
    "    .day.sort_values().unique())"
   ]
  },
  {
   "cell_type": "code",
   "execution_count": 13,
   "metadata": {},
   "outputs": [
    {
     "data": {
      "text/plain": [
       "count                             7043\n",
       "mean     2017-04-30 13:01:50.918642688\n",
       "min                2013-10-01 00:00:00\n",
       "25%                2015-06-01 00:00:00\n",
       "50%                2017-09-01 00:00:00\n",
       "75%                2019-04-01 00:00:00\n",
       "max                2020-02-01 00:00:00\n",
       "Name: begin_date, dtype: object"
      ]
     },
     "execution_count": 13,
     "metadata": {},
     "output_type": "execute_result"
    }
   ],
   "source": [
    "contract['begin_date'].describe(datetime_is_numeric=True)"
   ]
  },
  {
   "cell_type": "markdown",
   "metadata": {},
   "source": [
    "Годы с 2013 по 2020, месяцы сходятся, дата начала действия договора как и предполагалось единица. Движемся дальше."
   ]
  },
  {
   "cell_type": "code",
   "execution_count": 14,
   "metadata": {},
   "outputs": [
    {
     "data": {
      "text/plain": [
       "No                     5174\n",
       "2019-11-01 00:00:00     485\n",
       "2019-12-01 00:00:00     466\n",
       "2020-01-01 00:00:00     460\n",
       "2019-10-01 00:00:00     458\n",
       "Name: end_date, dtype: int64"
      ]
     },
     "execution_count": 14,
     "metadata": {},
     "output_type": "execute_result"
    }
   ],
   "source": [
    "contract['end_date'].value_counts()"
   ]
  },
  {
   "cell_type": "markdown",
   "metadata": {},
   "source": [
    "Посчитаем количество завершенных договоров."
   ]
  },
  {
   "cell_type": "code",
   "execution_count": 15,
   "metadata": {
    "scrolled": true
   },
   "outputs": [
    {
     "name": "stdout",
     "output_type": "stream",
     "text": [
      "Kоличество завершенных договоров:  1869\n"
     ]
    }
   ],
   "source": [
    "print(\"Kоличество завершенных договоров: \", \n",
    "      contract['end_date'].value_counts()[1:].sum())"
   ]
  },
  {
   "cell_type": "code",
   "execution_count": 16,
   "metadata": {},
   "outputs": [
    {
     "data": {
      "text/plain": [
       "0.2654"
      ]
     },
     "execution_count": 16,
     "metadata": {},
     "output_type": "execute_result"
    }
   ],
   "source": [
    "(contract['end_date'].value_counts()[1:].sum() / len(contract)).round(4)"
   ]
  },
  {
   "cell_type": "markdown",
   "metadata": {},
   "source": [
    "Даты окончания договора все рядом: с 2019 года месяцы 10, 11 и 12; и 1 месяц 2020 года. В количестве суммарно 1869, что составляет 26,54% от всех записей. Месяцы:\n",
    "\n",
    "* 2019-10: 458 записей;\n",
    "* 2019-11: 485 записей;\n",
    "* 2019-12: 466 записей;\n",
    "* 2020-01: 460 записей.\n",
    "\n",
    "Пока оставим без изменений. Движемся дальше."
   ]
  },
  {
   "cell_type": "code",
   "execution_count": 17,
   "metadata": {},
   "outputs": [
    {
     "data": {
      "text/plain": [
       "array(['Month-to-month', 'One year', 'Two year'], dtype=object)"
      ]
     },
     "execution_count": 17,
     "metadata": {},
     "output_type": "execute_result"
    }
   ],
   "source": [
    "contract['type'].unique()"
   ]
  },
  {
   "cell_type": "code",
   "execution_count": 18,
   "metadata": {},
   "outputs": [],
   "source": [
    "# функция для просмотра доли значений\n",
    "\n",
    "def frequens(data, rot=None, title=None):\n",
    "    print(data.value_counts(normalize=True).round(4))\n",
    "    data.value_counts(normalize=True) \\\n",
    "        .plot(kind='bar', grid=True, rot=rot, title=title);\n",
    "    return"
   ]
  },
  {
   "cell_type": "code",
   "execution_count": 19,
   "metadata": {},
   "outputs": [
    {
     "name": "stdout",
     "output_type": "stream",
     "text": [
      "Month-to-month    0.5502\n",
      "Two year          0.2407\n",
      "One year          0.2091\n",
      "Name: type, dtype: float64\n"
     ]
    },
    {
     "data": {
      "image/png": "[encoded data removed]",
      "text/plain": [
       "<Figure size 432x288 with 1 Axes>"
      ]
     },
     "metadata": {
      "needs_background": "light"
     },
     "output_type": "display_data"
    }
   ],
   "source": [
    "frequens(contract['type'], 0, 'Тип оплаты')"
   ]
  },
  {
   "cell_type": "markdown",
   "metadata": {},
   "source": [
    "Тип оплаты: \n",
    "\n",
    "* 'Month-to-month' — каждый месяц, доля — 55.02%;\n",
    "* 'Two year' — раз в два года, доля — 24.07%;\n",
    "* 'One year' — раз в год, доля — 20.91%."
   ]
  },
  {
   "cell_type": "code",
   "execution_count": 20,
   "metadata": {},
   "outputs": [
    {
     "data": {
      "text/plain": [
       "array(['Yes', 'No'], dtype=object)"
      ]
     },
     "execution_count": 20,
     "metadata": {},
     "output_type": "execute_result"
    }
   ],
   "source": [
    "contract['paperless_billing'].unique()"
   ]
  },
  {
   "cell_type": "code",
   "execution_count": 21,
   "metadata": {},
   "outputs": [
    {
     "name": "stdout",
     "output_type": "stream",
     "text": [
      "Yes    0.5922\n",
      "No     0.4078\n",
      "Name: paperless_billing, dtype: float64\n"
     ]
    },
    {
     "data": {
      "image/png": "[encoded data removed]",
      "text/plain": [
       "<Figure size 432x288 with 1 Axes>"
      ]
     },
     "metadata": {
      "needs_background": "light"
     },
     "output_type": "display_data"
    }
   ],
   "source": [
    "frequens(contract['paperless_billing'], 0, \n",
    "    'Электронный документ об оплате')"
   ]
  },
  {
   "cell_type": "markdown",
   "metadata": {},
   "source": [
    "'paperless_billing' — электронный документ об оплате. Соответственно: 'Yes', 'No'. Доля 'Yes' — 59.22%."
   ]
  },
  {
   "cell_type": "code",
   "execution_count": 22,
   "metadata": {},
   "outputs": [
    {
     "data": {
      "text/plain": [
       "array(['Electronic check', 'Mailed check', 'Bank transfer (automatic)',\n",
       "       'Credit card (automatic)'], dtype=object)"
      ]
     },
     "execution_count": 22,
     "metadata": {},
     "output_type": "execute_result"
    }
   ],
   "source": [
    "contract['payment_method'].unique()"
   ]
  },
  {
   "cell_type": "code",
   "execution_count": 23,
   "metadata": {},
   "outputs": [
    {
     "name": "stdout",
     "output_type": "stream",
     "text": [
      "Electronic check             0.3358\n",
      "Mailed check                 0.2289\n",
      "Bank transfer (automatic)    0.2192\n",
      "Credit card (automatic)      0.2161\n",
      "Name: payment_method, dtype: float64\n"
     ]
    },
    {
     "data": {
      "image/png": "[encoded data removed]",
      "text/plain": [
       "<Figure size 432x288 with 1 Axes>"
      ]
     },
     "metadata": {
      "needs_background": "light"
     },
     "output_type": "display_data"
    }
   ],
   "source": [
    "frequens(contract['payment_method'], 45, 'Вид оплаты')"
   ]
  },
  {
   "cell_type": "markdown",
   "metadata": {},
   "source": [
    "Вид оплаты:\n",
    "\n",
    "* 'Electronic check' — электронная оплата, доля — 33.58%;\n",
    "* 'Mailed check' — оплата почтой, доля — 22.89%;\n",
    "* 'Bank transfer (automatic)' — банквоский перевод автоматически со счета, доля — 21.92%;\n",
    "* 'Credit card (automatic)' — автоматическое списание с кредитной карты, доля — 21.61%."
   ]
  },
  {
   "cell_type": "code",
   "execution_count": 24,
   "metadata": {},
   "outputs": [
    {
     "data": {
      "text/plain": [
       "count    7043.000000\n",
       "mean       64.761692\n",
       "std        30.090047\n",
       "min        18.250000\n",
       "25%        35.500000\n",
       "50%        70.350000\n",
       "75%        89.850000\n",
       "max       118.750000\n",
       "Name: monthly_charges, dtype: float64"
      ]
     },
     "execution_count": 24,
     "metadata": {},
     "output_type": "execute_result"
    }
   ],
   "source": [
    "contract['monthly_charges'].describe()"
   ]
  },
  {
   "cell_type": "code",
   "execution_count": 25,
   "metadata": {},
   "outputs": [
    {
     "data": {
      "image/png": "[encoded data removed]",
      "text/plain": [
       "<Figure size 432x288 with 1 Axes>"
      ]
     },
     "metadata": {
      "needs_background": "light"
     },
     "output_type": "display_data"
    }
   ],
   "source": [
    "contract.boxplot(column='monthly_charges', showmeans=True);"
   ]
  },
  {
   "cell_type": "markdown",
   "metadata": {},
   "source": [
    "Данные 'monthly_charges' без аномалий. Распределение с небольшим скосом вправо."
   ]
  },
  {
   "cell_type": "code",
   "execution_count": 26,
   "metadata": {},
   "outputs": [
    {
     "name": "stdout",
     "output_type": "stream",
     "text": [
      "Ошибка: \n",
      " Unable to parse string \" \" at position 488\n"
     ]
    }
   ],
   "source": [
    "try:\n",
    "    contract['total_charges'] =  pd.to_numeric(contract['total_charges'])\n",
    "except (ValueError, TypeError) as vt:\n",
    "    print(\"Ошибка: \\n\", vt)"
   ]
  },
  {
   "cell_type": "markdown",
   "metadata": {},
   "source": [
    "При попытке перевести значения в числовые вылезла ошибка."
   ]
  },
  {
   "cell_type": "code",
   "execution_count": 27,
   "metadata": {},
   "outputs": [
    {
     "data": {
      "text/plain": [
       "customer_id                         4472-LVYGI\n",
       "begin_date                 2020-02-01 00:00:00\n",
       "end_date                                    No\n",
       "type                                  Two year\n",
       "paperless_billing                          Yes\n",
       "payment_method       Bank transfer (automatic)\n",
       "monthly_charges                          52.55\n",
       "total_charges                                 \n",
       "Name: 488, dtype: object"
      ]
     },
     "execution_count": 27,
     "metadata": {},
     "output_type": "execute_result"
    }
   ],
   "source": [
    "contract.iloc[488]"
   ]
  },
  {
   "cell_type": "markdown",
   "metadata": {},
   "source": [
    "Заполним нулями, где дата создания договора 2020-02-01."
   ]
  },
  {
   "cell_type": "code",
   "execution_count": 28,
   "metadata": {},
   "outputs": [
    {
     "data": {
      "text/html": [
       "<div>\n",
       "<style scoped>\n",
       "    .dataframe tbody tr th:only-of-type {\n",
       "        vertical-align: middle;\n",
       "    }\n",
       "\n",
       "    .dataframe tbody tr th {\n",
       "        vertical-align: top;\n",
       "    }\n",
       "\n",
       "    .dataframe thead th {\n",
       "        text-align: right;\n",
       "    }\n",
       "</style>\n",
       "<table border=\"1\" class=\"dataframe\">\n",
       "  <thead>\n",
       "    <tr style=\"text-align: right;\">\n",
       "      <th></th>\n",
       "      <th>customer_id</th>\n",
       "      <th>begin_date</th>\n",
       "      <th>end_date</th>\n",
       "      <th>type</th>\n",
       "      <th>paperless_billing</th>\n",
       "      <th>payment_method</th>\n",
       "      <th>monthly_charges</th>\n",
       "      <th>total_charges</th>\n",
       "    </tr>\n",
       "  </thead>\n",
       "  <tbody>\n",
       "    <tr>\n",
       "      <th>0</th>\n",
       "      <td>7590-VHVEG</td>\n",
       "      <td>2020-01-01</td>\n",
       "      <td>No</td>\n",
       "      <td>Month-to-month</td>\n",
       "      <td>Yes</td>\n",
       "      <td>Electronic check</td>\n",
       "      <td>29.85</td>\n",
       "      <td>29.85</td>\n",
       "    </tr>\n",
       "    <tr>\n",
       "      <th>1</th>\n",
       "      <td>5575-GNVDE</td>\n",
       "      <td>2017-04-01</td>\n",
       "      <td>No</td>\n",
       "      <td>One year</td>\n",
       "      <td>No</td>\n",
       "      <td>Mailed check</td>\n",
       "      <td>56.95</td>\n",
       "      <td>1889.5</td>\n",
       "    </tr>\n",
       "    <tr>\n",
       "      <th>2</th>\n",
       "      <td>3668-QPYBK</td>\n",
       "      <td>2019-10-01</td>\n",
       "      <td>2019-12-01 00:00:00</td>\n",
       "      <td>Month-to-month</td>\n",
       "      <td>Yes</td>\n",
       "      <td>Mailed check</td>\n",
       "      <td>53.85</td>\n",
       "      <td>108.15</td>\n",
       "    </tr>\n",
       "  </tbody>\n",
       "</table>\n",
       "</div>"
      ],
      "text/plain": [
       "  customer_id begin_date             end_date            type  \\\n",
       "0  7590-VHVEG 2020-01-01                   No  Month-to-month   \n",
       "1  5575-GNVDE 2017-04-01                   No        One year   \n",
       "2  3668-QPYBK 2019-10-01  2019-12-01 00:00:00  Month-to-month   \n",
       "\n",
       "  paperless_billing    payment_method  monthly_charges total_charges  \n",
       "0               Yes  Electronic check            29.85         29.85  \n",
       "1                No      Mailed check            56.95        1889.5  \n",
       "2               Yes      Mailed check            53.85        108.15  "
      ]
     },
     "execution_count": 28,
     "metadata": {},
     "output_type": "execute_result"
    }
   ],
   "source": [
    "contract.head(3)"
   ]
  },
  {
   "cell_type": "code",
   "execution_count": 29,
   "metadata": {},
   "outputs": [
    {
     "data": {
      "text/plain": [
       "array([' '], dtype=object)"
      ]
     },
     "execution_count": 29,
     "metadata": {},
     "output_type": "execute_result"
    }
   ],
   "source": [
    "contract.query('begin_date == \"2020-02-01\"')['total_charges'].unique()"
   ]
  },
  {
   "cell_type": "code",
   "execution_count": 30,
   "metadata": {},
   "outputs": [
    {
     "data": {
      "text/plain": [
       "array(['0'], dtype=object)"
      ]
     },
     "execution_count": 30,
     "metadata": {},
     "output_type": "execute_result"
    }
   ],
   "source": [
    "for i in \\\n",
    "    contract.query('begin_date == \"2020-02-01\"')['total_charges'].index:\n",
    "    contract.loc[i, 'total_charges'] = '0'\n",
    "\n",
    "contract.query('begin_date == \"2020-02-01\"')['total_charges'].unique()"
   ]
  },
  {
   "cell_type": "code",
   "execution_count": 31,
   "metadata": {},
   "outputs": [],
   "source": [
    "contract['total_charges'] =  pd.to_numeric(contract['total_charges'])"
   ]
  },
  {
   "cell_type": "code",
   "execution_count": 32,
   "metadata": {},
   "outputs": [
    {
     "data": {
      "text/plain": [
       "count    7043.000000\n",
       "mean     2279.734304\n",
       "std      2266.794470\n",
       "min         0.000000\n",
       "25%       398.550000\n",
       "50%      1394.550000\n",
       "75%      3786.600000\n",
       "max      8684.800000\n",
       "Name: total_charges, dtype: float64"
      ]
     },
     "execution_count": 32,
     "metadata": {},
     "output_type": "execute_result"
    }
   ],
   "source": [
    "contract['total_charges'].describe()"
   ]
  },
  {
   "cell_type": "code",
   "execution_count": 33,
   "metadata": {},
   "outputs": [
    {
     "data": {
      "image/png": "[encoded data removed]",
      "text/plain": [
       "<Figure size 432x288 with 1 Axes>"
      ]
     },
     "metadata": {
      "needs_background": "light"
     },
     "output_type": "display_data"
    }
   ],
   "source": [
    "contract.boxplot(column='total_charges', showmeans=True);"
   ]
  },
  {
   "cell_type": "markdown",
   "metadata": {},
   "source": [
    "Данные 'total_charges' без аномалий со скосом влево."
   ]
  },
  {
   "cell_type": "markdown",
   "metadata": {},
   "source": [
    "**Выводы `contract.csv`:**\n",
    "\n",
    "* **customer_id**: уникальный код клиента;\n",
    "* **begin_date**: дата заключения договора;\n",
    "* **end_date**: дата прерывания договора;\n",
    "* **type**: тип оплаты:\n",
    "    * 'Month-to-month' — каждый месяц, доля — 55.02%;\n",
    "    * 'Two year' — раз в два года, доля — 24.07%;\n",
    "    * 'One year' — раз в год, доля — 20.91%.\n",
    "* **paperless_billing**: электронный документ об оплате. Соответственно: 'Yes', 'No'. \n",
    "    * Доля 'Yes' — 59.22%;\n",
    "* **payment_method**: вид оплаты:\n",
    "    * 'Electronic check' — электронная оплата, доля — 33.58%;\n",
    "    * 'Mailed check' — оплата почтой, доля — 22.89%;\n",
    "    * 'Bank transfer (automatic)' — банквоский перевод автоматически со счета, доля — 21.92%;\n",
    "    * 'Credit card (automatic)' — автоматическое списание с кредитной карты, доля — 21.61%.\n",
    "* **monthly_charges**: ежемесячная плата;\n",
    "    * Данные без аномалий; \n",
    "    * Распределение с небольшим скосом вправо;\n",
    "* **total_charges**: общая сумма выплат;\n",
    "    * Данные без аномалий; \n",
    "    * Распределение с небольшим скосом влево;\n",
    "\n",
    "* Пропусков нет;\n",
    "* Всего 7043 записи, все id клиента уникальны;\n",
    "* Данные с 2013-10-01 по 2020-02-01;\n",
    "* Даты заключения договора с 2013 по 2020, разница только в месяце, исчисление идет с 1 числа;\n",
    "* Даты окончания договора все рядом: с 2019 года месяцы 10, 11 и 12; и 1 месяц 2020 года. В количестве суммарно 1869, что составляет 26,54% от всех записей. Месяцы:\n",
    "\n",
    "    * 2019-10: 458 записей;\n",
    "    * 2019-11: 485 записей;\n",
    "    * 2019-12: 466 записей;\n",
    "    * 2020-01: 460 записей;\n",
    "\n",
    "* Договоры, созданные 2020-02-01, имеют нулевую общую сумму выплат."
   ]
  },
  {
   "cell_type": "markdown",
   "metadata": {},
   "source": [
    "### personal.csv"
   ]
  },
  {
   "cell_type": "markdown",
   "metadata": {},
   "source": [
    "`personal.csv` — персональные данные клиента."
   ]
  },
  {
   "cell_type": "code",
   "execution_count": 34,
   "metadata": {},
   "outputs": [
    {
     "data": {
      "text/html": [
       "<div>\n",
       "<style scoped>\n",
       "    .dataframe tbody tr th:only-of-type {\n",
       "        vertical-align: middle;\n",
       "    }\n",
       "\n",
       "    .dataframe tbody tr th {\n",
       "        vertical-align: top;\n",
       "    }\n",
       "\n",
       "    .dataframe thead th {\n",
       "        text-align: right;\n",
       "    }\n",
       "</style>\n",
       "<table border=\"1\" class=\"dataframe\">\n",
       "  <thead>\n",
       "    <tr style=\"text-align: right;\">\n",
       "      <th></th>\n",
       "      <th>customerID</th>\n",
       "      <th>gender</th>\n",
       "      <th>SeniorCitizen</th>\n",
       "      <th>Partner</th>\n",
       "      <th>Dependents</th>\n",
       "    </tr>\n",
       "  </thead>\n",
       "  <tbody>\n",
       "    <tr>\n",
       "      <th>0</th>\n",
       "      <td>7590-VHVEG</td>\n",
       "      <td>Female</td>\n",
       "      <td>0</td>\n",
       "      <td>Yes</td>\n",
       "      <td>No</td>\n",
       "    </tr>\n",
       "    <tr>\n",
       "      <th>1</th>\n",
       "      <td>5575-GNVDE</td>\n",
       "      <td>Male</td>\n",
       "      <td>0</td>\n",
       "      <td>No</td>\n",
       "      <td>No</td>\n",
       "    </tr>\n",
       "    <tr>\n",
       "      <th>2</th>\n",
       "      <td>3668-QPYBK</td>\n",
       "      <td>Male</td>\n",
       "      <td>0</td>\n",
       "      <td>No</td>\n",
       "      <td>No</td>\n",
       "    </tr>\n",
       "  </tbody>\n",
       "</table>\n",
       "</div>"
      ],
      "text/plain": [
       "   customerID  gender  SeniorCitizen Partner Dependents\n",
       "0  7590-VHVEG  Female              0     Yes         No\n",
       "1  5575-GNVDE    Male              0      No         No\n",
       "2  3668-QPYBK    Male              0      No         No"
      ]
     },
     "execution_count": 34,
     "metadata": {},
     "output_type": "execute_result"
    }
   ],
   "source": [
    "personal.head(3)"
   ]
  },
  {
   "cell_type": "markdown",
   "metadata": {},
   "source": [
    "Пойдем по такому же порядку исследования."
   ]
  },
  {
   "cell_type": "code",
   "execution_count": 35,
   "metadata": {},
   "outputs": [
    {
     "name": "stdout",
     "output_type": "stream",
     "text": [
      "<class 'pandas.core.frame.DataFrame'>\n",
      "RangeIndex: 7043 entries, 0 to 7042\n",
      "Data columns (total 5 columns):\n",
      " #   Column          Non-Null Count  Dtype \n",
      "---  ------          --------------  ----- \n",
      " 0   customer_id     7043 non-null   object\n",
      " 1   gender          7043 non-null   object\n",
      " 2   senior_citizen  7043 non-null   int64 \n",
      " 3   partner         7043 non-null   object\n",
      " 4   dependents      7043 non-null   object\n",
      "dtypes: int64(1), object(4)\n",
      "memory usage: 275.2+ KB\n"
     ]
    }
   ],
   "source": [
    "personal.columns = camel_to_snake(personal)\n",
    "personal.info()"
   ]
  },
  {
   "cell_type": "markdown",
   "metadata": {},
   "source": [
    "Пропусков нет."
   ]
  },
  {
   "cell_type": "code",
   "execution_count": 36,
   "metadata": {},
   "outputs": [
    {
     "data": {
      "text/plain": [
       "7043"
      ]
     },
     "execution_count": 36,
     "metadata": {},
     "output_type": "execute_result"
    }
   ],
   "source": [
    "personal['customer_id'].nunique()"
   ]
  },
  {
   "cell_type": "markdown",
   "metadata": {},
   "source": [
    "Все записи 'customer_id' уникальны."
   ]
  },
  {
   "cell_type": "code",
   "execution_count": 37,
   "metadata": {},
   "outputs": [
    {
     "data": {
      "text/plain": [
       "0.0"
      ]
     },
     "execution_count": 37,
     "metadata": {},
     "output_type": "execute_result"
    }
   ],
   "source": [
    "# Проверка на дубликаты\n",
    "\n",
    "personal.duplicated().mean()"
   ]
  },
  {
   "cell_type": "markdown",
   "metadata": {},
   "source": [
    "Дубликатов нет."
   ]
  },
  {
   "cell_type": "code",
   "execution_count": 38,
   "metadata": {},
   "outputs": [
    {
     "data": {
      "text/plain": [
       "array(['Female', 'Male'], dtype=object)"
      ]
     },
     "execution_count": 38,
     "metadata": {},
     "output_type": "execute_result"
    }
   ],
   "source": [
    "personal['gender'].unique()"
   ]
  },
  {
   "cell_type": "code",
   "execution_count": 39,
   "metadata": {},
   "outputs": [
    {
     "name": "stdout",
     "output_type": "stream",
     "text": [
      "Male      0.5048\n",
      "Female    0.4952\n",
      "Name: gender, dtype: float64\n"
     ]
    },
    {
     "data": {
      "image/png": "[encoded data removed]",
      "text/plain": [
       "<Figure size 432x288 with 1 Axes>"
      ]
     },
     "metadata": {
      "needs_background": "light"
     },
     "output_type": "display_data"
    }
   ],
   "source": [
    "frequens(personal['gender'], 0, 'Cоотношение мужчин и женщин')"
   ]
  },
  {
   "cell_type": "markdown",
   "metadata": {},
   "source": [
    "50/50 соотношение мужчин и женщин."
   ]
  },
  {
   "cell_type": "code",
   "execution_count": 40,
   "metadata": {},
   "outputs": [
    {
     "data": {
      "text/plain": [
       "array([0, 1], dtype=int64)"
      ]
     },
     "execution_count": 40,
     "metadata": {},
     "output_type": "execute_result"
    }
   ],
   "source": [
    "personal['senior_citizen'].sort_values().unique()"
   ]
  },
  {
   "cell_type": "code",
   "execution_count": 41,
   "metadata": {},
   "outputs": [
    {
     "name": "stdout",
     "output_type": "stream",
     "text": [
      "0    0.8379\n",
      "1    0.1621\n",
      "Name: senior_citizen, dtype: float64\n"
     ]
    },
    {
     "data": {
      "image/png": "[encoded data removed]",
      "text/plain": [
       "<Figure size 432x288 with 1 Axes>"
      ]
     },
     "metadata": {
      "needs_background": "light"
     },
     "output_type": "display_data"
    }
   ],
   "source": [
    "frequens(personal['senior_citizen'], 0, 'Статус пенсионера')"
   ]
  },
  {
   "cell_type": "markdown",
   "metadata": {},
   "source": [
    "Пенсионер клиент или нет. Пенсионеров 16.21%."
   ]
  },
  {
   "cell_type": "code",
   "execution_count": 42,
   "metadata": {},
   "outputs": [
    {
     "data": {
      "text/plain": [
       "array(['No', 'Yes'], dtype=object)"
      ]
     },
     "execution_count": 42,
     "metadata": {},
     "output_type": "execute_result"
    }
   ],
   "source": [
    "personal['partner'].sort_values().unique()"
   ]
  },
  {
   "cell_type": "code",
   "execution_count": 43,
   "metadata": {},
   "outputs": [
    {
     "name": "stdout",
     "output_type": "stream",
     "text": [
      "No     0.517\n",
      "Yes    0.483\n",
      "Name: partner, dtype: float64\n"
     ]
    },
    {
     "data": {
      "image/png": "[encoded data removed]",
      "text/plain": [
       "<Figure size 432x288 with 1 Axes>"
      ]
     },
     "metadata": {
      "needs_background": "light"
     },
     "output_type": "display_data"
    }
   ],
   "source": [
    "frequens(personal['partner'], 0, 'В браке или нет')"
   ]
  },
  {
   "cell_type": "markdown",
   "metadata": {},
   "source": [
    "Примерно поровну клиентов в зарегистрированном браке:\n",
    "\n",
    "    * No     51.7%;\n",
    "    * Yes    48.3%."
   ]
  },
  {
   "cell_type": "code",
   "execution_count": 44,
   "metadata": {},
   "outputs": [
    {
     "data": {
      "text/plain": [
       "array(['No', 'Yes'], dtype=object)"
      ]
     },
     "execution_count": 44,
     "metadata": {},
     "output_type": "execute_result"
    }
   ],
   "source": [
    "personal['dependents'].sort_values().unique()"
   ]
  },
  {
   "cell_type": "code",
   "execution_count": 45,
   "metadata": {},
   "outputs": [
    {
     "name": "stdout",
     "output_type": "stream",
     "text": [
      "No     0.7004\n",
      "Yes    0.2996\n",
      "Name: dependents, dtype: float64\n"
     ]
    },
    {
     "data": {
      "image/png": "[encoded data removed]",
      "text/plain": [
       "<Figure size 432x288 with 1 Axes>"
      ]
     },
     "metadata": {
      "needs_background": "light"
     },
     "output_type": "display_data"
    }
   ],
   "source": [
    "frequens(personal['dependents'], 0, 'Наличие иждевенцев')"
   ]
  },
  {
   "cell_type": "markdown",
   "metadata": {},
   "source": [
    "Примерно 30% клиентов имеют иждевенцев."
   ]
  },
  {
   "cell_type": "markdown",
   "metadata": {},
   "source": [
    "**Выводы `personal.csv`:**\n",
    "\n",
    "* **customer_id**: уникальный код клиента;\n",
    "* Пропусков нет;\n",
    "* Всего 7043 записей, все id клиента уникальны;\n",
    "* **gender**: пол клиента, доли:\n",
    "    * Male — 50.48%;\n",
    "    * Female — 49.52%;\n",
    "* **senior_citizen**: доля пенсионеров 16.21%;\n",
    "* **partner**: доля, кто состоит в зарегистрированном браке:\n",
    "    * No     51.7%;\n",
    "    * Yes    48.3%.\n",
    "* **dependents**: примерно 30% клиентов имеют иждевенцев;\n",
    "* 'dependents' —  брак ли это зарегистрированный или просто партнер по жизни? На построение модели ответ на этот вопрос роли играть не будет.\n",
    "* Аномалий нет."
   ]
  },
  {
   "cell_type": "markdown",
   "metadata": {},
   "source": [
    "### internet.csv"
   ]
  },
  {
   "cell_type": "markdown",
   "metadata": {},
   "source": [
    "`internet.csv` — информация об интернет-услугах."
   ]
  },
  {
   "cell_type": "code",
   "execution_count": 46,
   "metadata": {},
   "outputs": [
    {
     "data": {
      "text/html": [
       "<div>\n",
       "<style scoped>\n",
       "    .dataframe tbody tr th:only-of-type {\n",
       "        vertical-align: middle;\n",
       "    }\n",
       "\n",
       "    .dataframe tbody tr th {\n",
       "        vertical-align: top;\n",
       "    }\n",
       "\n",
       "    .dataframe thead th {\n",
       "        text-align: right;\n",
       "    }\n",
       "</style>\n",
       "<table border=\"1\" class=\"dataframe\">\n",
       "  <thead>\n",
       "    <tr style=\"text-align: right;\">\n",
       "      <th></th>\n",
       "      <th>customerID</th>\n",
       "      <th>InternetService</th>\n",
       "      <th>OnlineSecurity</th>\n",
       "      <th>OnlineBackup</th>\n",
       "      <th>DeviceProtection</th>\n",
       "      <th>TechSupport</th>\n",
       "      <th>StreamingTV</th>\n",
       "      <th>StreamingMovies</th>\n",
       "    </tr>\n",
       "  </thead>\n",
       "  <tbody>\n",
       "    <tr>\n",
       "      <th>0</th>\n",
       "      <td>7590-VHVEG</td>\n",
       "      <td>DSL</td>\n",
       "      <td>No</td>\n",
       "      <td>Yes</td>\n",
       "      <td>No</td>\n",
       "      <td>No</td>\n",
       "      <td>No</td>\n",
       "      <td>No</td>\n",
       "    </tr>\n",
       "    <tr>\n",
       "      <th>1</th>\n",
       "      <td>5575-GNVDE</td>\n",
       "      <td>DSL</td>\n",
       "      <td>Yes</td>\n",
       "      <td>No</td>\n",
       "      <td>Yes</td>\n",
       "      <td>No</td>\n",
       "      <td>No</td>\n",
       "      <td>No</td>\n",
       "    </tr>\n",
       "    <tr>\n",
       "      <th>2</th>\n",
       "      <td>3668-QPYBK</td>\n",
       "      <td>DSL</td>\n",
       "      <td>Yes</td>\n",
       "      <td>Yes</td>\n",
       "      <td>No</td>\n",
       "      <td>No</td>\n",
       "      <td>No</td>\n",
       "      <td>No</td>\n",
       "    </tr>\n",
       "  </tbody>\n",
       "</table>\n",
       "</div>"
      ],
      "text/plain": [
       "   customerID InternetService OnlineSecurity OnlineBackup DeviceProtection  \\\n",
       "0  7590-VHVEG             DSL             No          Yes               No   \n",
       "1  5575-GNVDE             DSL            Yes           No              Yes   \n",
       "2  3668-QPYBK             DSL            Yes          Yes               No   \n",
       "\n",
       "  TechSupport StreamingTV StreamingMovies  \n",
       "0          No          No              No  \n",
       "1          No          No              No  \n",
       "2          No          No              No  "
      ]
     },
     "execution_count": 46,
     "metadata": {},
     "output_type": "execute_result"
    }
   ],
   "source": [
    "internet.head(3)"
   ]
  },
  {
   "cell_type": "code",
   "execution_count": 47,
   "metadata": {},
   "outputs": [
    {
     "name": "stdout",
     "output_type": "stream",
     "text": [
      "<class 'pandas.core.frame.DataFrame'>\n",
      "RangeIndex: 5517 entries, 0 to 5516\n",
      "Data columns (total 8 columns):\n",
      " #   Column             Non-Null Count  Dtype \n",
      "---  ------             --------------  ----- \n",
      " 0   customer_id        5517 non-null   object\n",
      " 1   internet_service   5517 non-null   object\n",
      " 2   online_security    5517 non-null   object\n",
      " 3   online_backup      5517 non-null   object\n",
      " 4   device_protection  5517 non-null   object\n",
      " 5   tech_support       5517 non-null   object\n",
      " 6   streaming_tv       5517 non-null   object\n",
      " 7   streaming_movies   5517 non-null   object\n",
      "dtypes: object(8)\n",
      "memory usage: 344.9+ KB\n"
     ]
    }
   ],
   "source": [
    "internet.columns = camel_to_snake(internet)\n",
    "internet.info()"
   ]
  },
  {
   "cell_type": "markdown",
   "metadata": {},
   "source": [
    "Пропусков нет."
   ]
  },
  {
   "cell_type": "code",
   "execution_count": 48,
   "metadata": {},
   "outputs": [
    {
     "data": {
      "text/plain": [
       "5517"
      ]
     },
     "execution_count": 48,
     "metadata": {},
     "output_type": "execute_result"
    }
   ],
   "source": [
    "internet['customer_id'].nunique()"
   ]
  },
  {
   "cell_type": "markdown",
   "metadata": {},
   "source": [
    "Все записи 'customer_id' уникальны."
   ]
  },
  {
   "cell_type": "code",
   "execution_count": 49,
   "metadata": {},
   "outputs": [
    {
     "data": {
      "text/plain": [
       "0.0"
      ]
     },
     "execution_count": 49,
     "metadata": {},
     "output_type": "execute_result"
    }
   ],
   "source": [
    "# Проверка на дубликаты\n",
    "\n",
    "internet.duplicated().mean()"
   ]
  },
  {
   "cell_type": "markdown",
   "metadata": {},
   "source": [
    "Дубликатов нет."
   ]
  },
  {
   "cell_type": "code",
   "execution_count": 50,
   "metadata": {},
   "outputs": [
    {
     "data": {
      "text/plain": [
       "array(['DSL', 'Fiber optic'], dtype=object)"
      ]
     },
     "execution_count": 50,
     "metadata": {},
     "output_type": "execute_result"
    }
   ],
   "source": [
    "internet['internet_service'].unique()"
   ]
  },
  {
   "cell_type": "code",
   "execution_count": 51,
   "metadata": {},
   "outputs": [
    {
     "name": "stdout",
     "output_type": "stream",
     "text": [
      "Fiber optic    0.5612\n",
      "DSL            0.4388\n",
      "Name: internet_service, dtype: float64\n"
     ]
    },
    {
     "data": {
      "image/png": "[encoded data removed]",
      "text/plain": [
       "<Figure size 432x288 with 1 Axes>"
      ]
     },
     "metadata": {
      "needs_background": "light"
     },
     "output_type": "display_data"
    }
   ],
   "source": [
    "frequens(internet['internet_service'], 0, 'Тип подключения')"
   ]
  },
  {
   "cell_type": "markdown",
   "metadata": {},
   "source": [
    "Подключение может быть двух типов: через телефонную линию (DSL*,* от англ. *digital subscriber line*, «цифровая абонентская линия») или оптоволоконный кабель (*Fiber optic*). \n",
    "Доли:\n",
    "\n",
    "* Fiber optic: 0.5612;\n",
    "* DSL: 0.4388."
   ]
  },
  {
   "cell_type": "code",
   "execution_count": 52,
   "metadata": {},
   "outputs": [
    {
     "name": "stdout",
     "output_type": "stream",
     "text": [
      "No     0.634\n",
      "Yes    0.366\n",
      "Name: online_security, dtype: float64\n"
     ]
    },
    {
     "data": {
      "image/png": "[encoded data removed]",
      "text/plain": [
       "<Figure size 432x288 with 1 Axes>"
      ]
     },
     "metadata": {
      "needs_background": "light"
     },
     "output_type": "display_data"
    }
   ],
   "source": [
    "frequens(internet['online_security'], 0, 'Услуга *OnlineSecurity*')"
   ]
  },
  {
   "cell_type": "markdown",
   "metadata": {},
   "source": [
    "Доля услуги \"Блокировка небезопасных сайтов\" (*OnlineSecurity*) — доля 36.6%."
   ]
  },
  {
   "cell_type": "code",
   "execution_count": 53,
   "metadata": {},
   "outputs": [
    {
     "name": "stdout",
     "output_type": "stream",
     "text": [
      "No     0.5597\n",
      "Yes    0.4403\n",
      "Name: online_backup, dtype: float64\n"
     ]
    },
    {
     "data": {
      "image/png": "[encoded data removed]",
      "text/plain": [
       "<Figure size 432x288 with 1 Axes>"
      ]
     },
     "metadata": {
      "needs_background": "light"
     },
     "output_type": "display_data"
    }
   ],
   "source": [
    "frequens(internet['online_backup'], 0, 'Услуга *OnlineBackup*')"
   ]
  },
  {
   "cell_type": "markdown",
   "metadata": {},
   "source": [
    "Облачное хранилище файлов для резервного копирования данных (*OnlineBackup*) — доля услуги 44.03%."
   ]
  },
  {
   "cell_type": "code",
   "execution_count": 54,
   "metadata": {},
   "outputs": [
    {
     "name": "stdout",
     "output_type": "stream",
     "text": [
      "No     0.561\n",
      "Yes    0.439\n",
      "Name: device_protection, dtype: float64\n"
     ]
    },
    {
     "data": {
      "image/png": "[encoded data removed]",
      "text/plain": [
       "<Figure size 432x288 with 1 Axes>"
      ]
     },
     "metadata": {
      "needs_background": "light"
     },
     "output_type": "display_data"
    }
   ],
   "source": [
    "frequens(internet['device_protection'], 0, 'Услуга *DeviceProtection*')"
   ]
  },
  {
   "cell_type": "markdown",
   "metadata": {},
   "source": [
    "Антивирус (*DeviceProtection*) — доля услуги 43.9%."
   ]
  },
  {
   "cell_type": "code",
   "execution_count": 55,
   "metadata": {},
   "outputs": [
    {
     "name": "stdout",
     "output_type": "stream",
     "text": [
      "No     0.6295\n",
      "Yes    0.3705\n",
      "Name: tech_support, dtype: float64\n"
     ]
    },
    {
     "data": {
      "image/png": "[encoded data removed]",
      "text/plain": [
       "<Figure size 432x288 with 1 Axes>"
      ]
     },
     "metadata": {
      "needs_background": "light"
     },
     "output_type": "display_data"
    }
   ],
   "source": [
    "frequens(internet['tech_support'], 0, 'Услуга *TechSupport*')"
   ]
  },
  {
   "cell_type": "markdown",
   "metadata": {},
   "source": [
    "Выделенная линия технической поддержки (*TechSupport*) — доля услуги 37.05%."
   ]
  },
  {
   "cell_type": "code",
   "execution_count": 56,
   "metadata": {},
   "outputs": [
    {
     "name": "stdout",
     "output_type": "stream",
     "text": [
      "No     0.5093\n",
      "Yes    0.4907\n",
      "Name: streaming_tv, dtype: float64\n"
     ]
    },
    {
     "data": {
      "image/png": "[encoded data removed]",
      "text/plain": [
       "<Figure size 432x288 with 1 Axes>"
      ]
     },
     "metadata": {
      "needs_background": "light"
     },
     "output_type": "display_data"
    }
   ],
   "source": [
    "frequens(internet['streaming_tv'], 0, 'Услуга *StreamingTV*')"
   ]
  },
  {
   "cell_type": "markdown",
   "metadata": {},
   "source": [
    "Стриминговое телевидение (*StreamingTV*) — доля услуги 49.07%."
   ]
  },
  {
   "cell_type": "code",
   "execution_count": 57,
   "metadata": {},
   "outputs": [
    {
     "name": "stdout",
     "output_type": "stream",
     "text": [
      "No     0.5048\n",
      "Yes    0.4952\n",
      "Name: streaming_movies, dtype: float64\n"
     ]
    },
    {
     "data": {
      "image/png": "[encoded data removed]",
      "text/plain": [
       "<Figure size 432x288 with 1 Axes>"
      ]
     },
     "metadata": {
      "needs_background": "light"
     },
     "output_type": "display_data"
    }
   ],
   "source": [
    "frequens(internet['streaming_movies'], 0, 'Услуга *StreamingMovies*')"
   ]
  },
  {
   "cell_type": "markdown",
   "metadata": {},
   "source": [
    "Каталог фильмов (*StreamingMovies*) — доля услуги 49.52%."
   ]
  },
  {
   "cell_type": "markdown",
   "metadata": {},
   "source": [
    "**Выводы `internet.csv`:**\n",
    "\n",
    "* **customer_id**: уникальный код клиента;\n",
    "* Пропусков нет;\n",
    "* Всего 5517 записей, все id клиента уникальны;\n",
    "* **internet_service**: тип подключения:\n",
    "    * Fiber optic: доля 56.12%;\n",
    "    * DSL: доля 43.88%;\n",
    "* **online_security**: услуга \"Блокировка небезопасных сайтов\" — доля 36.6%;\n",
    "* **online_backup**: услуга \"Облачное хранилище файлов для резервного копирования данных\"  — доля 44.03%;\n",
    "* **device_protection**: услуга \"Антивирус\"  — доля 43.9%;\n",
    "* **tech_support**: услуга \"Выделенная линия технической поддержки\" — доля 37.05%;\n",
    "* **streaming_tv**: услуга \"Стриминговое телевидение\" — доля 49.07%;\n",
    "* **streaming_movies**: услуга \"Каталог фильмов\" — доля 49.52%;\n",
    "* Аномалий нет."
   ]
  },
  {
   "cell_type": "markdown",
   "metadata": {},
   "source": [
    "### phone.csv"
   ]
  },
  {
   "cell_type": "markdown",
   "metadata": {},
   "source": [
    "`phone.csv` — информация об услугах телефонии."
   ]
  },
  {
   "cell_type": "code",
   "execution_count": 58,
   "metadata": {},
   "outputs": [
    {
     "data": {
      "text/html": [
       "<div>\n",
       "<style scoped>\n",
       "    .dataframe tbody tr th:only-of-type {\n",
       "        vertical-align: middle;\n",
       "    }\n",
       "\n",
       "    .dataframe tbody tr th {\n",
       "        vertical-align: top;\n",
       "    }\n",
       "\n",
       "    .dataframe thead th {\n",
       "        text-align: right;\n",
       "    }\n",
       "</style>\n",
       "<table border=\"1\" class=\"dataframe\">\n",
       "  <thead>\n",
       "    <tr style=\"text-align: right;\">\n",
       "      <th></th>\n",
       "      <th>customerID</th>\n",
       "      <th>MultipleLines</th>\n",
       "    </tr>\n",
       "  </thead>\n",
       "  <tbody>\n",
       "    <tr>\n",
       "      <th>0</th>\n",
       "      <td>5575-GNVDE</td>\n",
       "      <td>No</td>\n",
       "    </tr>\n",
       "    <tr>\n",
       "      <th>1</th>\n",
       "      <td>3668-QPYBK</td>\n",
       "      <td>No</td>\n",
       "    </tr>\n",
       "    <tr>\n",
       "      <th>2</th>\n",
       "      <td>9237-HQITU</td>\n",
       "      <td>No</td>\n",
       "    </tr>\n",
       "  </tbody>\n",
       "</table>\n",
       "</div>"
      ],
      "text/plain": [
       "   customerID MultipleLines\n",
       "0  5575-GNVDE            No\n",
       "1  3668-QPYBK            No\n",
       "2  9237-HQITU            No"
      ]
     },
     "execution_count": 58,
     "metadata": {},
     "output_type": "execute_result"
    }
   ],
   "source": [
    "phone.head(3)"
   ]
  },
  {
   "cell_type": "code",
   "execution_count": 59,
   "metadata": {},
   "outputs": [
    {
     "name": "stdout",
     "output_type": "stream",
     "text": [
      "<class 'pandas.core.frame.DataFrame'>\n",
      "RangeIndex: 6361 entries, 0 to 6360\n",
      "Data columns (total 2 columns):\n",
      " #   Column          Non-Null Count  Dtype \n",
      "---  ------          --------------  ----- \n",
      " 0   customer_id     6361 non-null   object\n",
      " 1   multiple_lines  6361 non-null   object\n",
      "dtypes: object(2)\n",
      "memory usage: 99.5+ KB\n"
     ]
    }
   ],
   "source": [
    "phone.columns = camel_to_snake(phone)\n",
    "phone.info()"
   ]
  },
  {
   "cell_type": "markdown",
   "metadata": {},
   "source": [
    "Пропусков нет."
   ]
  },
  {
   "cell_type": "code",
   "execution_count": 60,
   "metadata": {},
   "outputs": [
    {
     "data": {
      "text/plain": [
       "6361"
      ]
     },
     "execution_count": 60,
     "metadata": {},
     "output_type": "execute_result"
    }
   ],
   "source": [
    "phone['customer_id'].nunique()"
   ]
  },
  {
   "cell_type": "markdown",
   "metadata": {},
   "source": [
    "Все записи 'customer_id' уникальны."
   ]
  },
  {
   "cell_type": "code",
   "execution_count": 61,
   "metadata": {},
   "outputs": [
    {
     "data": {
      "text/plain": [
       "0.0"
      ]
     },
     "execution_count": 61,
     "metadata": {},
     "output_type": "execute_result"
    }
   ],
   "source": [
    "# Проверка на дубликаты\n",
    "\n",
    "phone.duplicated().mean()"
   ]
  },
  {
   "cell_type": "markdown",
   "metadata": {},
   "source": [
    "Дубликатов нет."
   ]
  },
  {
   "cell_type": "code",
   "execution_count": 62,
   "metadata": {},
   "outputs": [
    {
     "name": "stdout",
     "output_type": "stream",
     "text": [
      "No     0.5329\n",
      "Yes    0.4671\n",
      "Name: multiple_lines, dtype: float64\n"
     ]
    },
    {
     "data": {
      "image/png": "[encoded data removed]",
      "text/plain": [
       "<Figure size 432x288 with 1 Axes>"
      ]
     },
     "metadata": {
      "needs_background": "light"
     },
     "output_type": "display_data"
    }
   ],
   "source": [
    "frequens(phone['multiple_lines'], 0, 'Услуга *MultipleLines*')"
   ]
  },
  {
   "cell_type": "markdown",
   "metadata": {},
   "source": [
    "**Выводы `phone.csv`:**\n",
    "\n",
    "* **customer_id**: уникальный код клиента;\n",
    "* Пропусков нет;\n",
    "* Всего 6361 записей, все id клиента уникальны;\n",
    "* **multiple_lines**: услуга \"Подключение телефонного аппарата к нескольким линиям одновременно\":\n",
    "    * Доля — 46.71%;\n",
    "* Аномалий нет."
   ]
  },
  {
   "cell_type": "markdown",
   "metadata": {},
   "source": [
    "### Общий вывод"
   ]
  },
  {
   "cell_type": "markdown",
   "metadata": {},
   "source": [
    "**Выводы `contract.csv`:**\n",
    "\n",
    "* **customer_id**: уникальный код клиента;\n",
    "* **begin_date**: дата заключения договора;\n",
    "* **end_date**: дата прерывания договора;\n",
    "* **type**: тип оплаты:\n",
    "    * 'Month-to-month' — каждый месяц, доля — 55.02%;\n",
    "    * 'Two year' — раз в два года, доля — 24.07%;\n",
    "    * 'One year' — раз в год, доля — 20.91%.\n",
    "* **paperless_billing**: электронный документ об оплате. Соответственно: 'Yes', 'No'. \n",
    "    * Доля 'Yes' — 59.22%;\n",
    "* **payment_method**: вид оплаты:\n",
    "    * 'Electronic check' — электронная оплата, доля — 33.58%;\n",
    "    * 'Mailed check' — оплата почтой, доля — 22.89%;\n",
    "    * 'Bank transfer (automatic)' — банквоский перевод автоматически со счета, доля — 21.92%;\n",
    "    * 'Credit card (automatic)' — автоматическое списание с кредитной карты, доля — 21.61%.\n",
    "* **monthly_charges**: ежемесячная плата;\n",
    "    * Данные без аномалий; \n",
    "    * Распределение с небольшим скосом вправо;\n",
    "* **total_charges**: общая сумма выплат;\n",
    "    * Данные без аномалий; \n",
    "    * Распределение с небольшим скосом влево;\n",
    "\n",
    "* Пропусков нет;\n",
    "* Всего 7043 записи, все id клиента уникальны;\n",
    "* Данные с 2013-10-01 по 2020-02-01;\n",
    "* Даты заключения договора с 2013 по 2020, разница только в месяце, исчисление идет с 1 числа;\n",
    "* Даты окончания договора все рядом: с 2019 года месяцы 10, 11 и 12; и 1 месяц 2020 года. В количестве суммарно 1869, что составляет 26,54% от всех записей. Месяцы:\n",
    "\n",
    "    * 2019-10: 458 записей;\n",
    "    * 2019-11: 485 записей;\n",
    "    * 2019-12: 466 записей;\n",
    "    * 2020-01: 460 записей;\n",
    "\n",
    "* Договоры, созданные 2020-02-01, имеют нулевую общую сумму выплат."
   ]
  },
  {
   "cell_type": "markdown",
   "metadata": {},
   "source": [
    "**Выводы `personal.csv`:**\n",
    "\n",
    "* **customer_id**: уникальный код клиента;\n",
    "* Пропусков нет;\n",
    "* Всего 7043 записей, все id клиента уникальны;\n",
    "* **gender**: пол клиента, доли:\n",
    "    * Male — 50.48%;\n",
    "    * Female — 49.52%;\n",
    "* **senior_citizen**: доля пенсионеров 16.21%;\n",
    "* **partner**: доля, кто состоит в зарегистрированном браке:\n",
    "    * No     51.7%;\n",
    "    * Yes    48.3%.\n",
    "* **dependents**: примерно 30% клиентов имеют иждевенцев;\n",
    "* 'dependents' —  брак ли это зарегистрированный или просто партнер по жизни? На построение модели ответ на этот вопрос роли играть не будет.\n",
    "* Аномалий нет."
   ]
  },
  {
   "cell_type": "markdown",
   "metadata": {},
   "source": [
    "**Выводы `internet.csv`:**\n",
    "\n",
    "* **customer_id**: уникальный код клиента;\n",
    "* Пропусков нет;\n",
    "* Всего 5517 записей, все id клиента уникальны;\n",
    "* **internet_service**: тип подключения:\n",
    "    * Fiber optic: доля 56.12%;\n",
    "    * DSL: доля 43.88%;\n",
    "* **online_security**: услуга \"Блокировка небезопасных сайтов\" — доля 36.6%;\n",
    "* **online_backup**: услуга \"Облачное хранилище файлов для резервного копирования данных\"  — доля 44.03%;\n",
    "* **device_protection**: услуга \"Антивирус\"  — доля 43.9%;\n",
    "* **tech_support**: услуга \"Выделенная линия технической поддержки\" — доля 37.05%;\n",
    "* **streaming_tv**: услуга \"Стриминговое телевидение\" — доля 49.07%;\n",
    "* **streaming_movies**: услуга \"Каталог фильмов\" — доля 49.52%;\n",
    "* Аномалий нет."
   ]
  },
  {
   "cell_type": "markdown",
   "metadata": {},
   "source": [
    "**Выводы `phone.csv`:**\n",
    "\n",
    "* **customer_id**: уникальный код клиента;\n",
    "* Пропусков нет;\n",
    "* Всего 6361 записей, все id клиента уникальны;\n",
    "* **multiple_lines**: услуга \"Подключение телефонного аппарата к нескольким линиям одновременно\":\n",
    "    * Доля — 46.71%;\n",
    "* Аномалий нет."
   ]
  },
  {
   "cell_type": "markdown",
   "metadata": {},
   "source": [
    "## План работы"
   ]
  },
  {
   "cell_type": "markdown",
   "metadata": {},
   "source": [
    "0. Объеденить таблицы по `customer_id`;\n",
    "0. Обработать признаки, например:\n",
    "    * \"дата окончания договора\" будет служить для модели классификации, будет целевым признаком;\n",
    "    * Посмотреть, где образовались пропуски после объединения, обработать их;\n",
    "    * Добавить признак: срок жизни договора клиента;\n",
    "0. Сделать дополнительную предобработку, исследование;\n",
    "0. Построить модели `CatBoost` и `sklearn.ensemble.RandomForestClassifier`."
   ]
  },
  {
   "cell_type": "markdown",
   "metadata": {},
   "source": [
    "## Подготовка выборки"
   ]
  },
  {
   "cell_type": "code",
   "execution_count": 63,
   "metadata": {},
   "outputs": [
    {
     "data": {
      "text/html": [
       "<div>\n",
       "<style scoped>\n",
       "    .dataframe tbody tr th:only-of-type {\n",
       "        vertical-align: middle;\n",
       "    }\n",
       "\n",
       "    .dataframe tbody tr th {\n",
       "        vertical-align: top;\n",
       "    }\n",
       "\n",
       "    .dataframe thead th {\n",
       "        text-align: right;\n",
       "    }\n",
       "</style>\n",
       "<table border=\"1\" class=\"dataframe\">\n",
       "  <thead>\n",
       "    <tr style=\"text-align: right;\">\n",
       "      <th></th>\n",
       "      <th>customer_id</th>\n",
       "      <th>begin_date</th>\n",
       "      <th>end_date</th>\n",
       "      <th>type</th>\n",
       "      <th>paperless_billing</th>\n",
       "      <th>payment_method</th>\n",
       "      <th>monthly_charges</th>\n",
       "      <th>total_charges</th>\n",
       "    </tr>\n",
       "  </thead>\n",
       "  <tbody>\n",
       "    <tr>\n",
       "      <th>0</th>\n",
       "      <td>7590-VHVEG</td>\n",
       "      <td>2020-01-01</td>\n",
       "      <td>No</td>\n",
       "      <td>Month-to-month</td>\n",
       "      <td>Yes</td>\n",
       "      <td>Electronic check</td>\n",
       "      <td>29.85</td>\n",
       "      <td>29.85</td>\n",
       "    </tr>\n",
       "    <tr>\n",
       "      <th>1</th>\n",
       "      <td>5575-GNVDE</td>\n",
       "      <td>2017-04-01</td>\n",
       "      <td>No</td>\n",
       "      <td>One year</td>\n",
       "      <td>No</td>\n",
       "      <td>Mailed check</td>\n",
       "      <td>56.95</td>\n",
       "      <td>1889.50</td>\n",
       "    </tr>\n",
       "    <tr>\n",
       "      <th>2</th>\n",
       "      <td>3668-QPYBK</td>\n",
       "      <td>2019-10-01</td>\n",
       "      <td>2019-12-01 00:00:00</td>\n",
       "      <td>Month-to-month</td>\n",
       "      <td>Yes</td>\n",
       "      <td>Mailed check</td>\n",
       "      <td>53.85</td>\n",
       "      <td>108.15</td>\n",
       "    </tr>\n",
       "  </tbody>\n",
       "</table>\n",
       "</div>"
      ],
      "text/plain": [
       "  customer_id begin_date             end_date            type  \\\n",
       "0  7590-VHVEG 2020-01-01                   No  Month-to-month   \n",
       "1  5575-GNVDE 2017-04-01                   No        One year   \n",
       "2  3668-QPYBK 2019-10-01  2019-12-01 00:00:00  Month-to-month   \n",
       "\n",
       "  paperless_billing    payment_method  monthly_charges  total_charges  \n",
       "0               Yes  Electronic check            29.85          29.85  \n",
       "1                No      Mailed check            56.95        1889.50  \n",
       "2               Yes      Mailed check            53.85         108.15  "
      ]
     },
     "execution_count": 63,
     "metadata": {},
     "output_type": "execute_result"
    }
   ],
   "source": [
    "contract.head(3)"
   ]
  },
  {
   "cell_type": "markdown",
   "metadata": {},
   "source": [
    "### Объединение и пропуски"
   ]
  },
  {
   "cell_type": "markdown",
   "metadata": {},
   "source": [
    "Объеденим таблицы по `customer_id`."
   ]
  },
  {
   "cell_type": "code",
   "execution_count": 64,
   "metadata": {},
   "outputs": [
    {
     "data": {
      "text/html": [
       "<div>\n",
       "<style scoped>\n",
       "    .dataframe tbody tr th:only-of-type {\n",
       "        vertical-align: middle;\n",
       "    }\n",
       "\n",
       "    .dataframe tbody tr th {\n",
       "        vertical-align: top;\n",
       "    }\n",
       "\n",
       "    .dataframe thead th {\n",
       "        text-align: right;\n",
       "    }\n",
       "</style>\n",
       "<table border=\"1\" class=\"dataframe\">\n",
       "  <thead>\n",
       "    <tr style=\"text-align: right;\">\n",
       "      <th></th>\n",
       "      <th>customer_id</th>\n",
       "      <th>begin_date</th>\n",
       "      <th>end_date</th>\n",
       "      <th>type</th>\n",
       "      <th>paperless_billing</th>\n",
       "      <th>payment_method</th>\n",
       "      <th>monthly_charges</th>\n",
       "      <th>total_charges</th>\n",
       "      <th>internet_service</th>\n",
       "      <th>online_security</th>\n",
       "      <th>online_backup</th>\n",
       "      <th>device_protection</th>\n",
       "      <th>tech_support</th>\n",
       "      <th>streaming_tv</th>\n",
       "      <th>streaming_movies</th>\n",
       "      <th>multiple_lines</th>\n",
       "      <th>gender</th>\n",
       "      <th>senior_citizen</th>\n",
       "      <th>partner</th>\n",
       "      <th>dependents</th>\n",
       "    </tr>\n",
       "  </thead>\n",
       "  <tbody>\n",
       "    <tr>\n",
       "      <th>0</th>\n",
       "      <td>7590-VHVEG</td>\n",
       "      <td>2020-01-01</td>\n",
       "      <td>No</td>\n",
       "      <td>Month-to-month</td>\n",
       "      <td>Yes</td>\n",
       "      <td>Electronic check</td>\n",
       "      <td>29.85</td>\n",
       "      <td>29.85</td>\n",
       "      <td>DSL</td>\n",
       "      <td>No</td>\n",
       "      <td>Yes</td>\n",
       "      <td>No</td>\n",
       "      <td>No</td>\n",
       "      <td>No</td>\n",
       "      <td>No</td>\n",
       "      <td>NaN</td>\n",
       "      <td>Female</td>\n",
       "      <td>0</td>\n",
       "      <td>Yes</td>\n",
       "      <td>No</td>\n",
       "    </tr>\n",
       "    <tr>\n",
       "      <th>1</th>\n",
       "      <td>5575-GNVDE</td>\n",
       "      <td>2017-04-01</td>\n",
       "      <td>No</td>\n",
       "      <td>One year</td>\n",
       "      <td>No</td>\n",
       "      <td>Mailed check</td>\n",
       "      <td>56.95</td>\n",
       "      <td>1889.50</td>\n",
       "      <td>DSL</td>\n",
       "      <td>Yes</td>\n",
       "      <td>No</td>\n",
       "      <td>Yes</td>\n",
       "      <td>No</td>\n",
       "      <td>No</td>\n",
       "      <td>No</td>\n",
       "      <td>No</td>\n",
       "      <td>Male</td>\n",
       "      <td>0</td>\n",
       "      <td>No</td>\n",
       "      <td>No</td>\n",
       "    </tr>\n",
       "    <tr>\n",
       "      <th>2</th>\n",
       "      <td>3668-QPYBK</td>\n",
       "      <td>2019-10-01</td>\n",
       "      <td>2019-12-01 00:00:00</td>\n",
       "      <td>Month-to-month</td>\n",
       "      <td>Yes</td>\n",
       "      <td>Mailed check</td>\n",
       "      <td>53.85</td>\n",
       "      <td>108.15</td>\n",
       "      <td>DSL</td>\n",
       "      <td>Yes</td>\n",
       "      <td>Yes</td>\n",
       "      <td>No</td>\n",
       "      <td>No</td>\n",
       "      <td>No</td>\n",
       "      <td>No</td>\n",
       "      <td>No</td>\n",
       "      <td>Male</td>\n",
       "      <td>0</td>\n",
       "      <td>No</td>\n",
       "      <td>No</td>\n",
       "    </tr>\n",
       "  </tbody>\n",
       "</table>\n",
       "</div>"
      ],
      "text/plain": [
       "  customer_id begin_date             end_date            type  \\\n",
       "0  7590-VHVEG 2020-01-01                   No  Month-to-month   \n",
       "1  5575-GNVDE 2017-04-01                   No        One year   \n",
       "2  3668-QPYBK 2019-10-01  2019-12-01 00:00:00  Month-to-month   \n",
       "\n",
       "  paperless_billing    payment_method  monthly_charges  total_charges  \\\n",
       "0               Yes  Electronic check            29.85          29.85   \n",
       "1                No      Mailed check            56.95        1889.50   \n",
       "2               Yes      Mailed check            53.85         108.15   \n",
       "\n",
       "  internet_service online_security online_backup device_protection  \\\n",
       "0              DSL              No           Yes                No   \n",
       "1              DSL             Yes            No               Yes   \n",
       "2              DSL             Yes           Yes                No   \n",
       "\n",
       "  tech_support streaming_tv streaming_movies multiple_lines  gender  \\\n",
       "0           No           No               No            NaN  Female   \n",
       "1           No           No               No             No    Male   \n",
       "2           No           No               No             No    Male   \n",
       "\n",
       "   senior_citizen partner dependents  \n",
       "0               0     Yes         No  \n",
       "1               0      No         No  \n",
       "2               0      No         No  "
      ]
     },
     "execution_count": 64,
     "metadata": {},
     "output_type": "execute_result"
    }
   ],
   "source": [
    "telecom = contract.merge(internet, how='outer')\n",
    "telecom = telecom.merge(phone, how='outer')\n",
    "telecom = telecom.merge(personal, how='outer')\n",
    "telecom.head(3)"
   ]
  },
  {
   "cell_type": "markdown",
   "metadata": {},
   "source": [
    "Теперь будем разбираться с `NaN`. Начнем со столбцами из `internet`."
   ]
  },
  {
   "cell_type": "code",
   "execution_count": 65,
   "metadata": {},
   "outputs": [
    {
     "data": {
      "text/plain": [
       "Index(['customer_id', 'internet_service', 'online_security', 'online_backup',\n",
       "       'device_protection', 'tech_support', 'streaming_tv',\n",
       "       'streaming_movies'],\n",
       "      dtype='object')"
      ]
     },
     "execution_count": 65,
     "metadata": {},
     "output_type": "execute_result"
    }
   ],
   "source": [
    "internet.columns"
   ]
  },
  {
   "cell_type": "code",
   "execution_count": 66,
   "metadata": {},
   "outputs": [
    {
     "data": {
      "text/plain": [
       "0.21666903308249325"
      ]
     },
     "execution_count": 66,
     "metadata": {},
     "output_type": "execute_result"
    }
   ],
   "source": [
    "telecom['internet_service'].isna().mean()"
   ]
  },
  {
   "cell_type": "markdown",
   "metadata": {},
   "source": [
    "21.6% пропущенных значений. Посмотрим, быть может это клиенты пользующиеся только телефонной связью."
   ]
  },
  {
   "cell_type": "code",
   "execution_count": 67,
   "metadata": {},
   "outputs": [
    {
     "data": {
      "text/plain": [
       "array(['No', 'Yes'], dtype=object)"
      ]
     },
     "execution_count": 67,
     "metadata": {},
     "output_type": "execute_result"
    }
   ],
   "source": [
    "telecom[telecom['internet_service'].isna() != False]\\\n",
    "    ['multiple_lines'].unique()"
   ]
  },
  {
   "cell_type": "markdown",
   "metadata": {},
   "source": [
    "`phone` содержит идентификаторы клиентов, кто пользуется телефонной стационарной связью и где указано только наличие дополнительной услуги *MultipleLines*. Значит можно заключить, что появившиеся `NaN` значения, означают, что пользователи используют только телефонную связь и не пользуются интернетом. Проверим гипотезу."
   ]
  },
  {
   "cell_type": "code",
   "execution_count": 68,
   "metadata": {},
   "outputs": [
    {
     "data": {
      "text/html": [
       "<div>\n",
       "<style scoped>\n",
       "    .dataframe tbody tr th:only-of-type {\n",
       "        vertical-align: middle;\n",
       "    }\n",
       "\n",
       "    .dataframe tbody tr th {\n",
       "        vertical-align: top;\n",
       "    }\n",
       "\n",
       "    .dataframe thead th {\n",
       "        text-align: right;\n",
       "    }\n",
       "</style>\n",
       "<table border=\"1\" class=\"dataframe\">\n",
       "  <thead>\n",
       "    <tr style=\"text-align: right;\">\n",
       "      <th></th>\n",
       "      <th>customer_id</th>\n",
       "      <th>begin_date</th>\n",
       "      <th>end_date</th>\n",
       "      <th>type</th>\n",
       "      <th>paperless_billing</th>\n",
       "      <th>payment_method</th>\n",
       "      <th>monthly_charges</th>\n",
       "      <th>total_charges</th>\n",
       "      <th>internet_service</th>\n",
       "      <th>online_security</th>\n",
       "      <th>online_backup</th>\n",
       "      <th>device_protection</th>\n",
       "      <th>tech_support</th>\n",
       "      <th>streaming_tv</th>\n",
       "      <th>streaming_movies</th>\n",
       "      <th>multiple_lines</th>\n",
       "      <th>gender</th>\n",
       "      <th>senior_citizen</th>\n",
       "      <th>partner</th>\n",
       "      <th>dependents</th>\n",
       "    </tr>\n",
       "  </thead>\n",
       "  <tbody>\n",
       "    <tr>\n",
       "      <th>11</th>\n",
       "      <td>7469-LKBCI</td>\n",
       "      <td>2018-10-01</td>\n",
       "      <td>No</td>\n",
       "      <td>Two year</td>\n",
       "      <td>No</td>\n",
       "      <td>Credit card (automatic)</td>\n",
       "      <td>18.95</td>\n",
       "      <td>326.80</td>\n",
       "      <td>NaN</td>\n",
       "      <td>NaN</td>\n",
       "      <td>NaN</td>\n",
       "      <td>NaN</td>\n",
       "      <td>NaN</td>\n",
       "      <td>NaN</td>\n",
       "      <td>NaN</td>\n",
       "      <td>No</td>\n",
       "      <td>Male</td>\n",
       "      <td>0</td>\n",
       "      <td>No</td>\n",
       "      <td>No</td>\n",
       "    </tr>\n",
       "    <tr>\n",
       "      <th>16</th>\n",
       "      <td>8191-XWSZG</td>\n",
       "      <td>2015-10-01</td>\n",
       "      <td>No</td>\n",
       "      <td>One year</td>\n",
       "      <td>No</td>\n",
       "      <td>Mailed check</td>\n",
       "      <td>20.65</td>\n",
       "      <td>1022.95</td>\n",
       "      <td>NaN</td>\n",
       "      <td>NaN</td>\n",
       "      <td>NaN</td>\n",
       "      <td>NaN</td>\n",
       "      <td>NaN</td>\n",
       "      <td>NaN</td>\n",
       "      <td>NaN</td>\n",
       "      <td>No</td>\n",
       "      <td>Female</td>\n",
       "      <td>0</td>\n",
       "      <td>No</td>\n",
       "      <td>No</td>\n",
       "    </tr>\n",
       "    <tr>\n",
       "      <th>21</th>\n",
       "      <td>1680-VDCWW</td>\n",
       "      <td>2019-02-01</td>\n",
       "      <td>No</td>\n",
       "      <td>One year</td>\n",
       "      <td>No</td>\n",
       "      <td>Bank transfer (automatic)</td>\n",
       "      <td>19.80</td>\n",
       "      <td>202.25</td>\n",
       "      <td>NaN</td>\n",
       "      <td>NaN</td>\n",
       "      <td>NaN</td>\n",
       "      <td>NaN</td>\n",
       "      <td>NaN</td>\n",
       "      <td>NaN</td>\n",
       "      <td>NaN</td>\n",
       "      <td>No</td>\n",
       "      <td>Male</td>\n",
       "      <td>0</td>\n",
       "      <td>Yes</td>\n",
       "      <td>No</td>\n",
       "    </tr>\n",
       "  </tbody>\n",
       "</table>\n",
       "</div>"
      ],
      "text/plain": [
       "   customer_id begin_date end_date      type paperless_billing  \\\n",
       "11  7469-LKBCI 2018-10-01       No  Two year                No   \n",
       "16  8191-XWSZG 2015-10-01       No  One year                No   \n",
       "21  1680-VDCWW 2019-02-01       No  One year                No   \n",
       "\n",
       "               payment_method  monthly_charges  total_charges  \\\n",
       "11    Credit card (automatic)            18.95         326.80   \n",
       "16               Mailed check            20.65        1022.95   \n",
       "21  Bank transfer (automatic)            19.80         202.25   \n",
       "\n",
       "   internet_service online_security online_backup device_protection  \\\n",
       "11              NaN             NaN           NaN               NaN   \n",
       "16              NaN             NaN           NaN               NaN   \n",
       "21              NaN             NaN           NaN               NaN   \n",
       "\n",
       "   tech_support streaming_tv streaming_movies multiple_lines  gender  \\\n",
       "11          NaN          NaN              NaN             No    Male   \n",
       "16          NaN          NaN              NaN             No  Female   \n",
       "21          NaN          NaN              NaN             No    Male   \n",
       "\n",
       "    senior_citizen partner dependents  \n",
       "11               0      No         No  \n",
       "16               0      No         No  \n",
       "21               0     Yes         No  "
      ]
     },
     "execution_count": 68,
     "metadata": {},
     "output_type": "execute_result"
    }
   ],
   "source": [
    "telecom[telecom['internet_service'].isna() != False].head(3)"
   ]
  },
  {
   "cell_type": "markdown",
   "metadata": {},
   "source": [
    "Видим пропуски в услугах интернета. Проверим по всем данным."
   ]
  },
  {
   "cell_type": "code",
   "execution_count": 69,
   "metadata": {},
   "outputs": [
    {
     "data": {
      "text/plain": [
       "customer_id          0.0\n",
       "begin_date           0.0\n",
       "end_date             0.0\n",
       "type                 0.0\n",
       "paperless_billing    0.0\n",
       "payment_method       0.0\n",
       "monthly_charges      0.0\n",
       "total_charges        0.0\n",
       "internet_service     1.0\n",
       "online_security      1.0\n",
       "online_backup        1.0\n",
       "device_protection    1.0\n",
       "tech_support         1.0\n",
       "streaming_tv         1.0\n",
       "streaming_movies     1.0\n",
       "multiple_lines       0.0\n",
       "gender               0.0\n",
       "senior_citizen       0.0\n",
       "partner              0.0\n",
       "dependents           0.0\n",
       "dtype: float64"
      ]
     },
     "execution_count": 69,
     "metadata": {},
     "output_type": "execute_result"
    }
   ],
   "source": [
    "telecom[telecom['internet_service'].isna() != False].isna().mean()"
   ]
  },
  {
   "cell_type": "markdown",
   "metadata": {},
   "source": [
    "Что мы и наблюдаем: интернет услуги имеют везде пропуски в 100% строк. Клиент не пользуется интернетом, но пользуется услугами связи. Заполним пропуски значением `No`."
   ]
  },
  {
   "cell_type": "code",
   "execution_count": 70,
   "metadata": {},
   "outputs": [],
   "source": [
    "telecom[telecom['internet_service'].isna() != False] = \\\n",
    "telecom[telecom['internet_service'].isna() != False].fillna('No')"
   ]
  },
  {
   "cell_type": "code",
   "execution_count": 71,
   "metadata": {},
   "outputs": [
    {
     "data": {
      "text/plain": [
       "customer_id          0.000000\n",
       "begin_date           0.000000\n",
       "end_date             0.000000\n",
       "type                 0.000000\n",
       "paperless_billing    0.000000\n",
       "payment_method       0.000000\n",
       "monthly_charges      0.000000\n",
       "total_charges        0.000000\n",
       "internet_service     0.000000\n",
       "online_security      0.000000\n",
       "online_backup        0.000000\n",
       "device_protection    0.000000\n",
       "tech_support         0.000000\n",
       "streaming_tv         0.000000\n",
       "streaming_movies     0.000000\n",
       "multiple_lines       0.096834\n",
       "gender               0.000000\n",
       "senior_citizen       0.000000\n",
       "partner              0.000000\n",
       "dependents           0.000000\n",
       "dtype: float64"
      ]
     },
     "execution_count": 71,
     "metadata": {},
     "output_type": "execute_result"
    }
   ],
   "source": [
    "telecom.isna().mean()"
   ]
  },
  {
   "cell_type": "markdown",
   "metadata": {},
   "source": [
    "Пропуски заполнили, остались значения в `multiple_lines`. Исследуем."
   ]
  },
  {
   "cell_type": "code",
   "execution_count": 72,
   "metadata": {},
   "outputs": [
    {
     "data": {
      "text/html": [
       "<div>\n",
       "<style scoped>\n",
       "    .dataframe tbody tr th:only-of-type {\n",
       "        vertical-align: middle;\n",
       "    }\n",
       "\n",
       "    .dataframe tbody tr th {\n",
       "        vertical-align: top;\n",
       "    }\n",
       "\n",
       "    .dataframe thead th {\n",
       "        text-align: right;\n",
       "    }\n",
       "</style>\n",
       "<table border=\"1\" class=\"dataframe\">\n",
       "  <thead>\n",
       "    <tr style=\"text-align: right;\">\n",
       "      <th></th>\n",
       "      <th>customer_id</th>\n",
       "      <th>begin_date</th>\n",
       "      <th>end_date</th>\n",
       "      <th>type</th>\n",
       "      <th>paperless_billing</th>\n",
       "      <th>payment_method</th>\n",
       "      <th>monthly_charges</th>\n",
       "      <th>total_charges</th>\n",
       "      <th>internet_service</th>\n",
       "      <th>online_security</th>\n",
       "      <th>online_backup</th>\n",
       "      <th>device_protection</th>\n",
       "      <th>tech_support</th>\n",
       "      <th>streaming_tv</th>\n",
       "      <th>streaming_movies</th>\n",
       "      <th>multiple_lines</th>\n",
       "      <th>gender</th>\n",
       "      <th>senior_citizen</th>\n",
       "      <th>partner</th>\n",
       "      <th>dependents</th>\n",
       "    </tr>\n",
       "  </thead>\n",
       "  <tbody>\n",
       "    <tr>\n",
       "      <th>0</th>\n",
       "      <td>7590-VHVEG</td>\n",
       "      <td>2020-01-01</td>\n",
       "      <td>No</td>\n",
       "      <td>Month-to-month</td>\n",
       "      <td>Yes</td>\n",
       "      <td>Electronic check</td>\n",
       "      <td>29.85</td>\n",
       "      <td>29.85</td>\n",
       "      <td>DSL</td>\n",
       "      <td>No</td>\n",
       "      <td>Yes</td>\n",
       "      <td>No</td>\n",
       "      <td>No</td>\n",
       "      <td>No</td>\n",
       "      <td>No</td>\n",
       "      <td>NaN</td>\n",
       "      <td>Female</td>\n",
       "      <td>0</td>\n",
       "      <td>Yes</td>\n",
       "      <td>No</td>\n",
       "    </tr>\n",
       "    <tr>\n",
       "      <th>3</th>\n",
       "      <td>7795-CFOCW</td>\n",
       "      <td>2016-05-01</td>\n",
       "      <td>No</td>\n",
       "      <td>One year</td>\n",
       "      <td>No</td>\n",
       "      <td>Bank transfer (automatic)</td>\n",
       "      <td>42.30</td>\n",
       "      <td>1840.75</td>\n",
       "      <td>DSL</td>\n",
       "      <td>Yes</td>\n",
       "      <td>No</td>\n",
       "      <td>Yes</td>\n",
       "      <td>Yes</td>\n",
       "      <td>No</td>\n",
       "      <td>No</td>\n",
       "      <td>NaN</td>\n",
       "      <td>Male</td>\n",
       "      <td>0</td>\n",
       "      <td>No</td>\n",
       "      <td>No</td>\n",
       "    </tr>\n",
       "    <tr>\n",
       "      <th>7</th>\n",
       "      <td>6713-OKOMC</td>\n",
       "      <td>2019-04-01</td>\n",
       "      <td>No</td>\n",
       "      <td>Month-to-month</td>\n",
       "      <td>No</td>\n",
       "      <td>Mailed check</td>\n",
       "      <td>29.75</td>\n",
       "      <td>301.90</td>\n",
       "      <td>DSL</td>\n",
       "      <td>Yes</td>\n",
       "      <td>No</td>\n",
       "      <td>No</td>\n",
       "      <td>No</td>\n",
       "      <td>No</td>\n",
       "      <td>No</td>\n",
       "      <td>NaN</td>\n",
       "      <td>Female</td>\n",
       "      <td>0</td>\n",
       "      <td>No</td>\n",
       "      <td>No</td>\n",
       "    </tr>\n",
       "    <tr>\n",
       "      <th>20</th>\n",
       "      <td>8779-QRDMV</td>\n",
       "      <td>2019-11-01</td>\n",
       "      <td>2019-12-01 00:00:00</td>\n",
       "      <td>Month-to-month</td>\n",
       "      <td>Yes</td>\n",
       "      <td>Electronic check</td>\n",
       "      <td>39.65</td>\n",
       "      <td>39.65</td>\n",
       "      <td>DSL</td>\n",
       "      <td>No</td>\n",
       "      <td>No</td>\n",
       "      <td>Yes</td>\n",
       "      <td>No</td>\n",
       "      <td>No</td>\n",
       "      <td>Yes</td>\n",
       "      <td>NaN</td>\n",
       "      <td>Male</td>\n",
       "      <td>1</td>\n",
       "      <td>No</td>\n",
       "      <td>No</td>\n",
       "    </tr>\n",
       "    <tr>\n",
       "      <th>27</th>\n",
       "      <td>8665-UTDHZ</td>\n",
       "      <td>2019-11-01</td>\n",
       "      <td>2019-12-01 00:00:00</td>\n",
       "      <td>Month-to-month</td>\n",
       "      <td>No</td>\n",
       "      <td>Electronic check</td>\n",
       "      <td>30.20</td>\n",
       "      <td>30.20</td>\n",
       "      <td>DSL</td>\n",
       "      <td>No</td>\n",
       "      <td>Yes</td>\n",
       "      <td>No</td>\n",
       "      <td>No</td>\n",
       "      <td>No</td>\n",
       "      <td>No</td>\n",
       "      <td>NaN</td>\n",
       "      <td>Male</td>\n",
       "      <td>0</td>\n",
       "      <td>Yes</td>\n",
       "      <td>Yes</td>\n",
       "    </tr>\n",
       "  </tbody>\n",
       "</table>\n",
       "</div>"
      ],
      "text/plain": [
       "   customer_id begin_date             end_date            type  \\\n",
       "0   7590-VHVEG 2020-01-01                   No  Month-to-month   \n",
       "3   7795-CFOCW 2016-05-01                   No        One year   \n",
       "7   6713-OKOMC 2019-04-01                   No  Month-to-month   \n",
       "20  8779-QRDMV 2019-11-01  2019-12-01 00:00:00  Month-to-month   \n",
       "27  8665-UTDHZ 2019-11-01  2019-12-01 00:00:00  Month-to-month   \n",
       "\n",
       "   paperless_billing             payment_method  monthly_charges  \\\n",
       "0                Yes           Electronic check            29.85   \n",
       "3                 No  Bank transfer (automatic)            42.30   \n",
       "7                 No               Mailed check            29.75   \n",
       "20               Yes           Electronic check            39.65   \n",
       "27                No           Electronic check            30.20   \n",
       "\n",
       "    total_charges internet_service online_security online_backup  \\\n",
       "0           29.85              DSL              No           Yes   \n",
       "3         1840.75              DSL             Yes            No   \n",
       "7          301.90              DSL             Yes            No   \n",
       "20          39.65              DSL              No            No   \n",
       "27          30.20              DSL              No           Yes   \n",
       "\n",
       "   device_protection tech_support streaming_tv streaming_movies  \\\n",
       "0                 No           No           No               No   \n",
       "3                Yes          Yes           No               No   \n",
       "7                 No           No           No               No   \n",
       "20               Yes           No           No              Yes   \n",
       "27                No           No           No               No   \n",
       "\n",
       "   multiple_lines  gender  senior_citizen partner dependents  \n",
       "0             NaN  Female               0     Yes         No  \n",
       "3             NaN    Male               0      No         No  \n",
       "7             NaN  Female               0      No         No  \n",
       "20            NaN    Male               1      No         No  \n",
       "27            NaN    Male               0     Yes        Yes  "
      ]
     },
     "execution_count": 72,
     "metadata": {},
     "output_type": "execute_result"
    }
   ],
   "source": [
    "telecom[telecom['multiple_lines'].isna() != False].head(5)"
   ]
  },
  {
   "cell_type": "markdown",
   "metadata": {},
   "source": [
    "Видим, что `internet_service` не имеет значений `No`."
   ]
  },
  {
   "cell_type": "code",
   "execution_count": 73,
   "metadata": {},
   "outputs": [
    {
     "data": {
      "text/plain": [
       "array(['DSL'], dtype=object)"
      ]
     },
     "execution_count": 73,
     "metadata": {},
     "output_type": "execute_result"
    }
   ],
   "source": [
    "telecom[telecom['multiple_lines'].isna() != False]['internet_service'].unique()"
   ]
  },
  {
   "cell_type": "markdown",
   "metadata": {},
   "source": [
    "Поскольку у этих значений нет пропусков в столбце `internet_service` и получается нет данных о том, что это `multiple_lines`, можно заключить:\n",
    "\n",
    "* Пользователи не используют `multiple_lines`, но являются возможными пользователями простой телефонной линии помимо интернета.\n",
    "* Можно заполнить пропуски значением `No`.\n",
    "* Следует добавить новый признак — использование телефонной связи одной линии, что для модели будет более полным описанием пользователя.\n",
    "* Новый признак выявит клиентов кто пользуется интернетом и простой телефонной связью и не пользуется услугой `multiple_lines`.\n",
    "\n",
    "Чтобы не отличаться в данных, заполним новый признак аналогично остальным: `Yes` и `No`."
   ]
  },
  {
   "cell_type": "markdown",
   "metadata": {},
   "source": [
    "Заполним пропуски в `multiple_lines`."
   ]
  },
  {
   "cell_type": "code",
   "execution_count": 74,
   "metadata": {},
   "outputs": [
    {
     "data": {
      "text/plain": [
       "0.09683373562402385"
      ]
     },
     "execution_count": 74,
     "metadata": {},
     "output_type": "execute_result"
    }
   ],
   "source": [
    "telecom['multiple_lines'].isna().mean()"
   ]
  },
  {
   "cell_type": "code",
   "execution_count": 75,
   "metadata": {},
   "outputs": [
    {
     "data": {
      "text/plain": [
       "0.0"
      ]
     },
     "execution_count": 75,
     "metadata": {},
     "output_type": "execute_result"
    }
   ],
   "source": [
    "telecom['multiple_lines'] = telecom['multiple_lines'].fillna('No')\n",
    "telecom['multiple_lines'].isna().mean()"
   ]
  },
  {
   "cell_type": "code",
   "execution_count": 76,
   "metadata": {},
   "outputs": [
    {
     "data": {
      "text/plain": [
       "0.0"
      ]
     },
     "execution_count": 76,
     "metadata": {},
     "output_type": "execute_result"
    }
   ],
   "source": [
    "telecom.isna().mean().mean()"
   ]
  },
  {
   "cell_type": "markdown",
   "metadata": {},
   "source": [
    "Пропуски заполнили, теперь добавим новый признак."
   ]
  },
  {
   "cell_type": "code",
   "execution_count": 77,
   "metadata": {},
   "outputs": [
    {
     "data": {
      "text/plain": [
       "6361"
      ]
     },
     "execution_count": 77,
     "metadata": {},
     "output_type": "execute_result"
    }
   ],
   "source": [
    "len(telecom[telecom['customer_id'].isin(phone['customer_id']) != False])"
   ]
  },
  {
   "cell_type": "code",
   "execution_count": 78,
   "metadata": {},
   "outputs": [
    {
     "data": {
      "text/plain": [
       "6361"
      ]
     },
     "execution_count": 78,
     "metadata": {},
     "output_type": "execute_result"
    }
   ],
   "source": [
    "len(phone)"
   ]
  },
  {
   "cell_type": "code",
   "execution_count": 79,
   "metadata": {},
   "outputs": [
    {
     "data": {
      "text/plain": [
       "customer_id          0.000000\n",
       "begin_date           0.000000\n",
       "end_date             0.000000\n",
       "type                 0.000000\n",
       "paperless_billing    0.000000\n",
       "payment_method       0.000000\n",
       "monthly_charges      0.000000\n",
       "total_charges        0.000000\n",
       "internet_service     0.000000\n",
       "online_security      0.000000\n",
       "online_backup        0.000000\n",
       "device_protection    0.000000\n",
       "tech_support         0.000000\n",
       "streaming_tv         0.000000\n",
       "streaming_movies     0.000000\n",
       "multiple_lines       0.000000\n",
       "gender               0.000000\n",
       "senior_citizen       0.000000\n",
       "partner              0.000000\n",
       "dependents           0.000000\n",
       "one_line             0.096834\n",
       "dtype: float64"
      ]
     },
     "execution_count": 79,
     "metadata": {},
     "output_type": "execute_result"
    }
   ],
   "source": [
    "telecom.loc[\n",
    "    (telecom['customer_id'].isin(phone['customer_id']) != False), \n",
    "    'one_line'] = 'Yes'\n",
    "telecom.isna().mean()"
   ]
  },
  {
   "cell_type": "markdown",
   "metadata": {},
   "source": [
    "Остается оставшееся заполнить значениями `No`, поскольку добавляли по идентификаторам из `phone`."
   ]
  },
  {
   "cell_type": "code",
   "execution_count": 80,
   "metadata": {},
   "outputs": [
    {
     "data": {
      "text/plain": [
       "array(['No', 'Yes'], dtype=object)"
      ]
     },
     "execution_count": 80,
     "metadata": {},
     "output_type": "execute_result"
    }
   ],
   "source": [
    "telecom['one_line'] = telecom['one_line'].fillna('No')\n",
    "telecom['one_line'].unique()"
   ]
  },
  {
   "cell_type": "code",
   "execution_count": 81,
   "metadata": {},
   "outputs": [
    {
     "data": {
      "text/plain": [
       "0.0"
      ]
     },
     "execution_count": 81,
     "metadata": {},
     "output_type": "execute_result"
    }
   ],
   "source": [
    "telecom.isna().mean().mean()"
   ]
  },
  {
   "cell_type": "markdown",
   "metadata": {},
   "source": [
    "Можно посчитать, что этот признак будет лишним, однако:\n",
    "\n",
    "* Раз клиент не пользуется многоканальной телефонной линией, то он пользуется просто телефонной связью."
   ]
  },
  {
   "cell_type": "code",
   "execution_count": 82,
   "metadata": {},
   "outputs": [
    {
     "data": {
      "text/plain": [
       "array(['No', 'Yes'], dtype=object)"
      ]
     },
     "execution_count": 82,
     "metadata": {},
     "output_type": "execute_result"
    }
   ],
   "source": [
    "telecom[telecom['multiple_lines'] == 'No']['one_line'].unique()"
   ]
  },
  {
   "cell_type": "markdown",
   "metadata": {},
   "source": [
    "Однако мы видим, что и пользуется и не пользуется. А что с интернетом?"
   ]
  },
  {
   "cell_type": "code",
   "execution_count": 83,
   "metadata": {},
   "outputs": [
    {
     "data": {
      "text/plain": [
       "array(['DSL', 'Fiber optic', 'No'], dtype=object)"
      ]
     },
     "execution_count": 83,
     "metadata": {},
     "output_type": "execute_result"
    }
   ],
   "source": [
    "telecom[telecom['multiple_lines'] == 'No'].query('one_line == \"Yes\"')\\\n",
    "    ['internet_service'].unique()"
   ]
  },
  {
   "cell_type": "markdown",
   "metadata": {},
   "source": [
    "Как мы видим, наш новый признак разделил и выявил клиентов, кто:\n",
    "\n",
    "* Не пользуется многоканальной связью;\n",
    "* Пользуется телефонной связью;\n",
    "* И при этом может пользоваться интернетом, а может и не пользоваться.\n",
    "\n",
    "Отсюда вывод:\n",
    "\n",
    "* Если бы мы не добавили новый признак, то мы бы считали, что раз клиент не пользуется многоканальной связью, то значит он пользуется только интернетом, а связью простой не пользуется. Однако это не так.\n",
    "* И у нас бы было, что клиент не пользуется многоканальной связью и не пользуется интернетом. Тогда чем он пользуется и почему он клиент?\n",
    "\n",
    "* Все это верно, поскольку `one_line == \"Yes\"` мы добавили из `phone`. Где если, если есть клиент, значит и есть договор; и если есть договор и `'multiple_lines' == 'No'`, то значит пользуется простой связью.\n",
    "\n",
    "Значит должно быть и верно следующее:\n",
    "\n",
    "* Клиент имеет `'multiple_lines' == 'No'`, также `one_line == \"No\"`, значит обязательно должен пользоваться интернетом. Иначе на чем основан его контракт/договор? Проверим."
   ]
  },
  {
   "cell_type": "code",
   "execution_count": 84,
   "metadata": {},
   "outputs": [
    {
     "data": {
      "text/plain": [
       "array(['DSL'], dtype=object)"
      ]
     },
     "execution_count": 84,
     "metadata": {},
     "output_type": "execute_result"
    }
   ],
   "source": [
    "telecom[telecom['multiple_lines'] == 'No'].query('one_line == \"No\"')\\\n",
    "    ['internet_service'].unique()"
   ]
  },
  {
   "cell_type": "markdown",
   "metadata": {},
   "source": [
    "Все сошлось. Значит можно считать наше мышление разумным. Для еще проверки можно оставить следующие строчки кода."
   ]
  },
  {
   "cell_type": "code",
   "execution_count": 85,
   "metadata": {},
   "outputs": [
    {
     "data": {
      "text/plain": [
       "array(['Yes'], dtype=object)"
      ]
     },
     "execution_count": 85,
     "metadata": {},
     "output_type": "execute_result"
    }
   ],
   "source": [
    "telecom[telecom['multiple_lines'] == 'Yes']['one_line'].unique()"
   ]
  },
  {
   "cell_type": "code",
   "execution_count": 86,
   "metadata": {},
   "outputs": [
    {
     "data": {
      "text/plain": [
       "array(['Yes'], dtype=object)"
      ]
     },
     "execution_count": 86,
     "metadata": {},
     "output_type": "execute_result"
    }
   ],
   "source": [
    "telecom[telecom['multiple_lines'] == 'No'].query('internet_service == \"No\"')\\\n",
    "    ['one_line'].unique()"
   ]
  },
  {
   "cell_type": "markdown",
   "metadata": {},
   "source": [
    "Все сошлось."
   ]
  },
  {
   "cell_type": "markdown",
   "metadata": {},
   "source": [
    "### Обработка признаков с датами"
   ]
  },
  {
   "cell_type": "code",
   "execution_count": 87,
   "metadata": {},
   "outputs": [
    {
     "data": {
      "text/html": [
       "<div>\n",
       "<style scoped>\n",
       "    .dataframe tbody tr th:only-of-type {\n",
       "        vertical-align: middle;\n",
       "    }\n",
       "\n",
       "    .dataframe tbody tr th {\n",
       "        vertical-align: top;\n",
       "    }\n",
       "\n",
       "    .dataframe thead th {\n",
       "        text-align: right;\n",
       "    }\n",
       "</style>\n",
       "<table border=\"1\" class=\"dataframe\">\n",
       "  <thead>\n",
       "    <tr style=\"text-align: right;\">\n",
       "      <th></th>\n",
       "      <th>customer_id</th>\n",
       "      <th>begin_date</th>\n",
       "      <th>end_date</th>\n",
       "      <th>type</th>\n",
       "      <th>paperless_billing</th>\n",
       "      <th>payment_method</th>\n",
       "      <th>monthly_charges</th>\n",
       "      <th>total_charges</th>\n",
       "      <th>internet_service</th>\n",
       "      <th>online_security</th>\n",
       "      <th>...</th>\n",
       "      <th>device_protection</th>\n",
       "      <th>tech_support</th>\n",
       "      <th>streaming_tv</th>\n",
       "      <th>streaming_movies</th>\n",
       "      <th>multiple_lines</th>\n",
       "      <th>gender</th>\n",
       "      <th>senior_citizen</th>\n",
       "      <th>partner</th>\n",
       "      <th>dependents</th>\n",
       "      <th>one_line</th>\n",
       "    </tr>\n",
       "  </thead>\n",
       "  <tbody>\n",
       "    <tr>\n",
       "      <th>0</th>\n",
       "      <td>7590-VHVEG</td>\n",
       "      <td>2020-01-01</td>\n",
       "      <td>No</td>\n",
       "      <td>Month-to-month</td>\n",
       "      <td>Yes</td>\n",
       "      <td>Electronic check</td>\n",
       "      <td>29.85</td>\n",
       "      <td>29.85</td>\n",
       "      <td>DSL</td>\n",
       "      <td>No</td>\n",
       "      <td>...</td>\n",
       "      <td>No</td>\n",
       "      <td>No</td>\n",
       "      <td>No</td>\n",
       "      <td>No</td>\n",
       "      <td>No</td>\n",
       "      <td>Female</td>\n",
       "      <td>0</td>\n",
       "      <td>Yes</td>\n",
       "      <td>No</td>\n",
       "      <td>No</td>\n",
       "    </tr>\n",
       "    <tr>\n",
       "      <th>1</th>\n",
       "      <td>5575-GNVDE</td>\n",
       "      <td>2017-04-01</td>\n",
       "      <td>No</td>\n",
       "      <td>One year</td>\n",
       "      <td>No</td>\n",
       "      <td>Mailed check</td>\n",
       "      <td>56.95</td>\n",
       "      <td>1889.50</td>\n",
       "      <td>DSL</td>\n",
       "      <td>Yes</td>\n",
       "      <td>...</td>\n",
       "      <td>Yes</td>\n",
       "      <td>No</td>\n",
       "      <td>No</td>\n",
       "      <td>No</td>\n",
       "      <td>No</td>\n",
       "      <td>Male</td>\n",
       "      <td>0</td>\n",
       "      <td>No</td>\n",
       "      <td>No</td>\n",
       "      <td>Yes</td>\n",
       "    </tr>\n",
       "    <tr>\n",
       "      <th>2</th>\n",
       "      <td>3668-QPYBK</td>\n",
       "      <td>2019-10-01</td>\n",
       "      <td>2019-12-01 00:00:00</td>\n",
       "      <td>Month-to-month</td>\n",
       "      <td>Yes</td>\n",
       "      <td>Mailed check</td>\n",
       "      <td>53.85</td>\n",
       "      <td>108.15</td>\n",
       "      <td>DSL</td>\n",
       "      <td>Yes</td>\n",
       "      <td>...</td>\n",
       "      <td>No</td>\n",
       "      <td>No</td>\n",
       "      <td>No</td>\n",
       "      <td>No</td>\n",
       "      <td>No</td>\n",
       "      <td>Male</td>\n",
       "      <td>0</td>\n",
       "      <td>No</td>\n",
       "      <td>No</td>\n",
       "      <td>Yes</td>\n",
       "    </tr>\n",
       "  </tbody>\n",
       "</table>\n",
       "<p>3 rows × 21 columns</p>\n",
       "</div>"
      ],
      "text/plain": [
       "  customer_id begin_date             end_date            type  \\\n",
       "0  7590-VHVEG 2020-01-01                   No  Month-to-month   \n",
       "1  5575-GNVDE 2017-04-01                   No        One year   \n",
       "2  3668-QPYBK 2019-10-01  2019-12-01 00:00:00  Month-to-month   \n",
       "\n",
       "  paperless_billing    payment_method  monthly_charges  total_charges  \\\n",
       "0               Yes  Electronic check            29.85          29.85   \n",
       "1                No      Mailed check            56.95        1889.50   \n",
       "2               Yes      Mailed check            53.85         108.15   \n",
       "\n",
       "  internet_service online_security  ... device_protection tech_support  \\\n",
       "0              DSL              No  ...                No           No   \n",
       "1              DSL             Yes  ...               Yes           No   \n",
       "2              DSL             Yes  ...                No           No   \n",
       "\n",
       "  streaming_tv streaming_movies multiple_lines  gender senior_citizen  \\\n",
       "0           No               No             No  Female              0   \n",
       "1           No               No             No    Male              0   \n",
       "2           No               No             No    Male              0   \n",
       "\n",
       "   partner dependents one_line  \n",
       "0      Yes         No       No  \n",
       "1       No         No      Yes  \n",
       "2       No         No      Yes  \n",
       "\n",
       "[3 rows x 21 columns]"
      ]
     },
     "execution_count": 87,
     "metadata": {},
     "output_type": "execute_result"
    }
   ],
   "source": [
    "telecom.head(3)"
   ]
  },
  {
   "cell_type": "code",
   "execution_count": 88,
   "metadata": {},
   "outputs": [
    {
     "data": {
      "text/plain": [
       "array(['No', '2019-12-01 00:00:00', '2019-11-01 00:00:00',\n",
       "       '2019-10-01 00:00:00', '2020-01-01 00:00:00'], dtype=object)"
      ]
     },
     "execution_count": 88,
     "metadata": {},
     "output_type": "execute_result"
    }
   ],
   "source": [
    "telecom['end_date'].unique()"
   ]
  },
  {
   "cell_type": "markdown",
   "metadata": {},
   "source": [
    "`No` превратим в `NaN` и далее изменим тип данных на `datetime`."
   ]
  },
  {
   "cell_type": "code",
   "execution_count": 89,
   "metadata": {},
   "outputs": [
    {
     "name": "stdout",
     "output_type": "stream",
     "text": [
      "<class 'pandas.core.frame.DataFrame'>\n",
      "Int64Index: 7043 entries, 0 to 7042\n",
      "Data columns (total 21 columns):\n",
      " #   Column             Non-Null Count  Dtype         \n",
      "---  ------             --------------  -----         \n",
      " 0   customer_id        7043 non-null   object        \n",
      " 1   begin_date         7043 non-null   datetime64[ns]\n",
      " 2   end_date           1869 non-null   datetime64[ns]\n",
      " 3   type               7043 non-null   object        \n",
      " 4   paperless_billing  7043 non-null   object        \n",
      " 5   payment_method     7043 non-null   object        \n",
      " 6   monthly_charges    7043 non-null   float64       \n",
      " 7   total_charges      7043 non-null   float64       \n",
      " 8   internet_service   7043 non-null   object        \n",
      " 9   online_security    7043 non-null   object        \n",
      " 10  online_backup      7043 non-null   object        \n",
      " 11  device_protection  7043 non-null   object        \n",
      " 12  tech_support       7043 non-null   object        \n",
      " 13  streaming_tv       7043 non-null   object        \n",
      " 14  streaming_movies   7043 non-null   object        \n",
      " 15  multiple_lines     7043 non-null   object        \n",
      " 16  gender             7043 non-null   object        \n",
      " 17  senior_citizen     7043 non-null   int64         \n",
      " 18  partner            7043 non-null   object        \n",
      " 19  dependents         7043 non-null   object        \n",
      " 20  one_line           7043 non-null   object        \n",
      "dtypes: datetime64[ns](2), float64(2), int64(1), object(16)\n",
      "memory usage: 1.2+ MB\n"
     ]
    }
   ],
   "source": [
    "telecom.loc[(telecom['end_date'] == 'No'), 'end_date'] = np.nan\n",
    "\n",
    "telecom['end_date'] = pd.to_datetime(\n",
    "    telecom['end_date'], format='%Y.%m.%d %H:%M:%S')\n",
    "\n",
    "telecom.info()"
   ]
  },
  {
   "cell_type": "markdown",
   "metadata": {},
   "source": [
    "Добавим новый признак: срок жизни договора клиента."
   ]
  },
  {
   "cell_type": "code",
   "execution_count": 90,
   "metadata": {},
   "outputs": [
    {
     "data": {
      "text/plain": [
       "0       NaT\n",
       "1       NaT\n",
       "2   61 days\n",
       "Name: lifetime_contract, dtype: timedelta64[ns]"
      ]
     },
     "execution_count": 90,
     "metadata": {},
     "output_type": "execute_result"
    }
   ],
   "source": [
    "telecom['lifetime_contract'] = telecom['end_date'] - telecom['begin_date']\n",
    "telecom['lifetime_contract'].head(3)"
   ]
  },
  {
   "cell_type": "code",
   "execution_count": 91,
   "metadata": {},
   "outputs": [
    {
     "data": {
      "text/html": [
       "<div>\n",
       "<style scoped>\n",
       "    .dataframe tbody tr th:only-of-type {\n",
       "        vertical-align: middle;\n",
       "    }\n",
       "\n",
       "    .dataframe tbody tr th {\n",
       "        vertical-align: top;\n",
       "    }\n",
       "\n",
       "    .dataframe thead th {\n",
       "        text-align: right;\n",
       "    }\n",
       "</style>\n",
       "<table border=\"1\" class=\"dataframe\">\n",
       "  <thead>\n",
       "    <tr style=\"text-align: right;\">\n",
       "      <th></th>\n",
       "      <th>customer_id</th>\n",
       "      <th>begin_date</th>\n",
       "      <th>end_date</th>\n",
       "      <th>type</th>\n",
       "      <th>paperless_billing</th>\n",
       "      <th>payment_method</th>\n",
       "      <th>monthly_charges</th>\n",
       "      <th>total_charges</th>\n",
       "      <th>internet_service</th>\n",
       "      <th>online_security</th>\n",
       "      <th>...</th>\n",
       "      <th>tech_support</th>\n",
       "      <th>streaming_tv</th>\n",
       "      <th>streaming_movies</th>\n",
       "      <th>multiple_lines</th>\n",
       "      <th>gender</th>\n",
       "      <th>senior_citizen</th>\n",
       "      <th>partner</th>\n",
       "      <th>dependents</th>\n",
       "      <th>one_line</th>\n",
       "      <th>lifetime_contract</th>\n",
       "    </tr>\n",
       "  </thead>\n",
       "  <tbody>\n",
       "    <tr>\n",
       "      <th>0</th>\n",
       "      <td>7590-VHVEG</td>\n",
       "      <td>2020-01-01</td>\n",
       "      <td>NaT</td>\n",
       "      <td>Month-to-month</td>\n",
       "      <td>Yes</td>\n",
       "      <td>Electronic check</td>\n",
       "      <td>29.85</td>\n",
       "      <td>29.85</td>\n",
       "      <td>DSL</td>\n",
       "      <td>No</td>\n",
       "      <td>...</td>\n",
       "      <td>No</td>\n",
       "      <td>No</td>\n",
       "      <td>No</td>\n",
       "      <td>No</td>\n",
       "      <td>Female</td>\n",
       "      <td>0</td>\n",
       "      <td>Yes</td>\n",
       "      <td>No</td>\n",
       "      <td>No</td>\n",
       "      <td>NaT</td>\n",
       "    </tr>\n",
       "    <tr>\n",
       "      <th>1</th>\n",
       "      <td>5575-GNVDE</td>\n",
       "      <td>2017-04-01</td>\n",
       "      <td>NaT</td>\n",
       "      <td>One year</td>\n",
       "      <td>No</td>\n",
       "      <td>Mailed check</td>\n",
       "      <td>56.95</td>\n",
       "      <td>1889.50</td>\n",
       "      <td>DSL</td>\n",
       "      <td>Yes</td>\n",
       "      <td>...</td>\n",
       "      <td>No</td>\n",
       "      <td>No</td>\n",
       "      <td>No</td>\n",
       "      <td>No</td>\n",
       "      <td>Male</td>\n",
       "      <td>0</td>\n",
       "      <td>No</td>\n",
       "      <td>No</td>\n",
       "      <td>Yes</td>\n",
       "      <td>NaT</td>\n",
       "    </tr>\n",
       "    <tr>\n",
       "      <th>2</th>\n",
       "      <td>3668-QPYBK</td>\n",
       "      <td>2019-10-01</td>\n",
       "      <td>2019-12-01</td>\n",
       "      <td>Month-to-month</td>\n",
       "      <td>Yes</td>\n",
       "      <td>Mailed check</td>\n",
       "      <td>53.85</td>\n",
       "      <td>108.15</td>\n",
       "      <td>DSL</td>\n",
       "      <td>Yes</td>\n",
       "      <td>...</td>\n",
       "      <td>No</td>\n",
       "      <td>No</td>\n",
       "      <td>No</td>\n",
       "      <td>No</td>\n",
       "      <td>Male</td>\n",
       "      <td>0</td>\n",
       "      <td>No</td>\n",
       "      <td>No</td>\n",
       "      <td>Yes</td>\n",
       "      <td>61 days</td>\n",
       "    </tr>\n",
       "  </tbody>\n",
       "</table>\n",
       "<p>3 rows × 22 columns</p>\n",
       "</div>"
      ],
      "text/plain": [
       "  customer_id begin_date   end_date            type paperless_billing  \\\n",
       "0  7590-VHVEG 2020-01-01        NaT  Month-to-month               Yes   \n",
       "1  5575-GNVDE 2017-04-01        NaT        One year                No   \n",
       "2  3668-QPYBK 2019-10-01 2019-12-01  Month-to-month               Yes   \n",
       "\n",
       "     payment_method  monthly_charges  total_charges internet_service  \\\n",
       "0  Electronic check            29.85          29.85              DSL   \n",
       "1      Mailed check            56.95        1889.50              DSL   \n",
       "2      Mailed check            53.85         108.15              DSL   \n",
       "\n",
       "  online_security  ... tech_support streaming_tv streaming_movies  \\\n",
       "0              No  ...           No           No               No   \n",
       "1             Yes  ...           No           No               No   \n",
       "2             Yes  ...           No           No               No   \n",
       "\n",
       "  multiple_lines  gender senior_citizen partner  dependents one_line  \\\n",
       "0             No  Female              0     Yes          No       No   \n",
       "1             No    Male              0      No          No      Yes   \n",
       "2             No    Male              0      No          No      Yes   \n",
       "\n",
       "  lifetime_contract  \n",
       "0               NaT  \n",
       "1               NaT  \n",
       "2           61 days  \n",
       "\n",
       "[3 rows x 22 columns]"
      ]
     },
     "execution_count": 91,
     "metadata": {},
     "output_type": "execute_result"
    }
   ],
   "source": [
    "telecom.head(3)"
   ]
  },
  {
   "cell_type": "markdown",
   "metadata": {},
   "source": [
    "Изменим тип данных на `float64`."
   ]
  },
  {
   "cell_type": "code",
   "execution_count": 92,
   "metadata": {},
   "outputs": [
    {
     "data": {
      "text/plain": [
       "dtype('float64')"
      ]
     },
     "execution_count": 92,
     "metadata": {},
     "output_type": "execute_result"
    }
   ],
   "source": [
    "telecom['lifetime_contract'] = \\\n",
    "    pd.TimedeltaIndex(telecom['lifetime_contract']).days\n",
    "\n",
    "telecom['lifetime_contract'].dtypes"
   ]
  },
  {
   "cell_type": "markdown",
   "metadata": {},
   "source": [
    "Сразу изучим получившиеся данные."
   ]
  },
  {
   "cell_type": "code",
   "execution_count": 93,
   "metadata": {},
   "outputs": [
    {
     "data": {
      "text/plain": [
       "count    1869.000000\n",
       "mean      547.352060\n",
       "std       594.389607\n",
       "min        30.000000\n",
       "25%        61.000000\n",
       "50%       304.000000\n",
       "75%       883.000000\n",
       "max      2191.000000\n",
       "Name: lifetime_contract, dtype: float64"
      ]
     },
     "execution_count": 93,
     "metadata": {},
     "output_type": "execute_result"
    }
   ],
   "source": [
    "telecom['lifetime_contract'].describe()"
   ]
  },
  {
   "cell_type": "code",
   "execution_count": 94,
   "metadata": {},
   "outputs": [
    {
     "data": {
      "image/png": "[encoded data removed]",
      "text/plain": [
       "<Figure size 432x288 with 1 Axes>"
      ]
     },
     "metadata": {
      "needs_background": "light"
     },
     "output_type": "display_data"
    }
   ],
   "source": [
    "telecom.boxplot(column='lifetime_contract', showmeans=True);"
   ]
  },
  {
   "cell_type": "code",
   "execution_count": 95,
   "metadata": {},
   "outputs": [
    {
     "data": {
      "image/png": "[encoded data removed]",
      "text/plain": [
       "<Figure size 432x288 with 1 Axes>"
      ]
     },
     "metadata": {
      "needs_background": "light"
     },
     "output_type": "display_data"
    }
   ],
   "source": [
    "telecom.hist('lifetime_contract', bins=40);"
   ]
  },
  {
   "cell_type": "markdown",
   "metadata": {},
   "source": [
    "Дополнительно вычислим процент уходящих в 1 месяц."
   ]
  },
  {
   "cell_type": "code",
   "execution_count": 96,
   "metadata": {},
   "outputs": [
    {
     "data": {
      "text/plain": [
       "0.2033"
      ]
     },
     "execution_count": 96,
     "metadata": {},
     "output_type": "execute_result"
    }
   ],
   "source": [
    "(len(telecom[telecom['lifetime_contract'] < 32]['lifetime_contract'])\n",
    "     / telecom['lifetime_contract'].describe()[0]).round(4)"
   ]
  },
  {
   "cell_type": "markdown",
   "metadata": {},
   "source": [
    "О чем нам говорят данные об ушедших клиентах, что бросается в глаза:\n",
    "\n",
    "* Распределение значений — со скосом влево.\n",
    "* Медиана 304 дня.\n",
    "* Среднее 594 дня.\n",
    "* Половина клиентов уходит в первый год.\n",
    "* Ровно четверть из ушедших ушли в первые два месяца.\n",
    "* 20.33% ушли в первый месяц."
   ]
  },
  {
   "cell_type": "markdown",
   "metadata": {},
   "source": [
    "Заполним оставшиеся значения `NaN` в `lifetime_contract`."
   ]
  },
  {
   "cell_type": "code",
   "execution_count": 97,
   "metadata": {},
   "outputs": [
    {
     "data": {
      "text/html": [
       "<div>\n",
       "<style scoped>\n",
       "    .dataframe tbody tr th:only-of-type {\n",
       "        vertical-align: middle;\n",
       "    }\n",
       "\n",
       "    .dataframe tbody tr th {\n",
       "        vertical-align: top;\n",
       "    }\n",
       "\n",
       "    .dataframe thead th {\n",
       "        text-align: right;\n",
       "    }\n",
       "</style>\n",
       "<table border=\"1\" class=\"dataframe\">\n",
       "  <thead>\n",
       "    <tr style=\"text-align: right;\">\n",
       "      <th></th>\n",
       "      <th>customer_id</th>\n",
       "      <th>begin_date</th>\n",
       "      <th>end_date</th>\n",
       "      <th>type</th>\n",
       "      <th>paperless_billing</th>\n",
       "      <th>payment_method</th>\n",
       "      <th>monthly_charges</th>\n",
       "      <th>total_charges</th>\n",
       "      <th>internet_service</th>\n",
       "      <th>online_security</th>\n",
       "      <th>...</th>\n",
       "      <th>tech_support</th>\n",
       "      <th>streaming_tv</th>\n",
       "      <th>streaming_movies</th>\n",
       "      <th>multiple_lines</th>\n",
       "      <th>gender</th>\n",
       "      <th>senior_citizen</th>\n",
       "      <th>partner</th>\n",
       "      <th>dependents</th>\n",
       "      <th>one_line</th>\n",
       "      <th>lifetime_contract</th>\n",
       "    </tr>\n",
       "  </thead>\n",
       "  <tbody>\n",
       "    <tr>\n",
       "      <th>0</th>\n",
       "      <td>7590-VHVEG</td>\n",
       "      <td>2020-01-01</td>\n",
       "      <td>NaT</td>\n",
       "      <td>Month-to-month</td>\n",
       "      <td>Yes</td>\n",
       "      <td>Electronic check</td>\n",
       "      <td>29.85</td>\n",
       "      <td>29.85</td>\n",
       "      <td>DSL</td>\n",
       "      <td>No</td>\n",
       "      <td>...</td>\n",
       "      <td>No</td>\n",
       "      <td>No</td>\n",
       "      <td>No</td>\n",
       "      <td>No</td>\n",
       "      <td>Female</td>\n",
       "      <td>0</td>\n",
       "      <td>Yes</td>\n",
       "      <td>No</td>\n",
       "      <td>No</td>\n",
       "      <td>NaN</td>\n",
       "    </tr>\n",
       "    <tr>\n",
       "      <th>1</th>\n",
       "      <td>5575-GNVDE</td>\n",
       "      <td>2017-04-01</td>\n",
       "      <td>NaT</td>\n",
       "      <td>One year</td>\n",
       "      <td>No</td>\n",
       "      <td>Mailed check</td>\n",
       "      <td>56.95</td>\n",
       "      <td>1889.50</td>\n",
       "      <td>DSL</td>\n",
       "      <td>Yes</td>\n",
       "      <td>...</td>\n",
       "      <td>No</td>\n",
       "      <td>No</td>\n",
       "      <td>No</td>\n",
       "      <td>No</td>\n",
       "      <td>Male</td>\n",
       "      <td>0</td>\n",
       "      <td>No</td>\n",
       "      <td>No</td>\n",
       "      <td>Yes</td>\n",
       "      <td>NaN</td>\n",
       "    </tr>\n",
       "    <tr>\n",
       "      <th>2</th>\n",
       "      <td>3668-QPYBK</td>\n",
       "      <td>2019-10-01</td>\n",
       "      <td>2019-12-01</td>\n",
       "      <td>Month-to-month</td>\n",
       "      <td>Yes</td>\n",
       "      <td>Mailed check</td>\n",
       "      <td>53.85</td>\n",
       "      <td>108.15</td>\n",
       "      <td>DSL</td>\n",
       "      <td>Yes</td>\n",
       "      <td>...</td>\n",
       "      <td>No</td>\n",
       "      <td>No</td>\n",
       "      <td>No</td>\n",
       "      <td>No</td>\n",
       "      <td>Male</td>\n",
       "      <td>0</td>\n",
       "      <td>No</td>\n",
       "      <td>No</td>\n",
       "      <td>Yes</td>\n",
       "      <td>61.0</td>\n",
       "    </tr>\n",
       "  </tbody>\n",
       "</table>\n",
       "<p>3 rows × 22 columns</p>\n",
       "</div>"
      ],
      "text/plain": [
       "  customer_id begin_date   end_date            type paperless_billing  \\\n",
       "0  7590-VHVEG 2020-01-01        NaT  Month-to-month               Yes   \n",
       "1  5575-GNVDE 2017-04-01        NaT        One year                No   \n",
       "2  3668-QPYBK 2019-10-01 2019-12-01  Month-to-month               Yes   \n",
       "\n",
       "     payment_method  monthly_charges  total_charges internet_service  \\\n",
       "0  Electronic check            29.85          29.85              DSL   \n",
       "1      Mailed check            56.95        1889.50              DSL   \n",
       "2      Mailed check            53.85         108.15              DSL   \n",
       "\n",
       "  online_security  ... tech_support streaming_tv streaming_movies  \\\n",
       "0              No  ...           No           No               No   \n",
       "1             Yes  ...           No           No               No   \n",
       "2             Yes  ...           No           No               No   \n",
       "\n",
       "  multiple_lines  gender senior_citizen partner  dependents one_line  \\\n",
       "0             No  Female              0     Yes          No       No   \n",
       "1             No    Male              0      No          No      Yes   \n",
       "2             No    Male              0      No          No      Yes   \n",
       "\n",
       "  lifetime_contract  \n",
       "0               NaN  \n",
       "1               NaN  \n",
       "2              61.0  \n",
       "\n",
       "[3 rows x 22 columns]"
      ]
     },
     "execution_count": 97,
     "metadata": {},
     "output_type": "execute_result"
    }
   ],
   "source": [
    "telecom.head(3)"
   ]
  },
  {
   "cell_type": "code",
   "execution_count": 98,
   "metadata": {},
   "outputs": [
    {
     "data": {
      "text/plain": [
       "count                             7043\n",
       "mean     2017-04-30 13:01:50.918642688\n",
       "min                2013-10-01 00:00:00\n",
       "25%                2015-06-01 00:00:00\n",
       "50%                2017-09-01 00:00:00\n",
       "75%                2019-04-01 00:00:00\n",
       "max                2020-02-01 00:00:00\n",
       "Name: begin_date, dtype: object"
      ]
     },
     "execution_count": 98,
     "metadata": {},
     "output_type": "execute_result"
    }
   ],
   "source": [
    "telecom['begin_date'].describe(datetime_is_numeric=True)"
   ]
  },
  {
   "cell_type": "markdown",
   "metadata": {},
   "source": [
    "* Создадим сначала target признак, чтобы столбец `end_date` больше нам не нужен был.\n",
    "* Заполним пропуски `end_date` датой выгрузки данных 2020-02-01 00:00:00.\n",
    "* Заново создадим `lifetime_contract` уже со всеми клиентами."
   ]
  },
  {
   "cell_type": "code",
   "execution_count": 99,
   "metadata": {},
   "outputs": [
    {
     "data": {
      "text/html": [
       "<div>\n",
       "<style scoped>\n",
       "    .dataframe tbody tr th:only-of-type {\n",
       "        vertical-align: middle;\n",
       "    }\n",
       "\n",
       "    .dataframe tbody tr th {\n",
       "        vertical-align: top;\n",
       "    }\n",
       "\n",
       "    .dataframe thead th {\n",
       "        text-align: right;\n",
       "    }\n",
       "</style>\n",
       "<table border=\"1\" class=\"dataframe\">\n",
       "  <thead>\n",
       "    <tr style=\"text-align: right;\">\n",
       "      <th></th>\n",
       "      <th>customer_id</th>\n",
       "      <th>begin_date</th>\n",
       "      <th>end_date</th>\n",
       "      <th>type</th>\n",
       "      <th>paperless_billing</th>\n",
       "      <th>payment_method</th>\n",
       "      <th>monthly_charges</th>\n",
       "      <th>total_charges</th>\n",
       "      <th>internet_service</th>\n",
       "      <th>online_security</th>\n",
       "      <th>...</th>\n",
       "      <th>streaming_tv</th>\n",
       "      <th>streaming_movies</th>\n",
       "      <th>multiple_lines</th>\n",
       "      <th>gender</th>\n",
       "      <th>senior_citizen</th>\n",
       "      <th>partner</th>\n",
       "      <th>dependents</th>\n",
       "      <th>one_line</th>\n",
       "      <th>lifetime_contract</th>\n",
       "      <th>term_contract</th>\n",
       "    </tr>\n",
       "  </thead>\n",
       "  <tbody>\n",
       "    <tr>\n",
       "      <th>0</th>\n",
       "      <td>7590-VHVEG</td>\n",
       "      <td>2020-01-01</td>\n",
       "      <td>NaT</td>\n",
       "      <td>Month-to-month</td>\n",
       "      <td>Yes</td>\n",
       "      <td>Electronic check</td>\n",
       "      <td>29.85</td>\n",
       "      <td>29.85</td>\n",
       "      <td>DSL</td>\n",
       "      <td>No</td>\n",
       "      <td>...</td>\n",
       "      <td>No</td>\n",
       "      <td>No</td>\n",
       "      <td>No</td>\n",
       "      <td>Female</td>\n",
       "      <td>0</td>\n",
       "      <td>Yes</td>\n",
       "      <td>No</td>\n",
       "      <td>No</td>\n",
       "      <td>NaN</td>\n",
       "      <td>0</td>\n",
       "    </tr>\n",
       "    <tr>\n",
       "      <th>1</th>\n",
       "      <td>5575-GNVDE</td>\n",
       "      <td>2017-04-01</td>\n",
       "      <td>NaT</td>\n",
       "      <td>One year</td>\n",
       "      <td>No</td>\n",
       "      <td>Mailed check</td>\n",
       "      <td>56.95</td>\n",
       "      <td>1889.50</td>\n",
       "      <td>DSL</td>\n",
       "      <td>Yes</td>\n",
       "      <td>...</td>\n",
       "      <td>No</td>\n",
       "      <td>No</td>\n",
       "      <td>No</td>\n",
       "      <td>Male</td>\n",
       "      <td>0</td>\n",
       "      <td>No</td>\n",
       "      <td>No</td>\n",
       "      <td>Yes</td>\n",
       "      <td>NaN</td>\n",
       "      <td>0</td>\n",
       "    </tr>\n",
       "    <tr>\n",
       "      <th>2</th>\n",
       "      <td>3668-QPYBK</td>\n",
       "      <td>2019-10-01</td>\n",
       "      <td>2019-12-01</td>\n",
       "      <td>Month-to-month</td>\n",
       "      <td>Yes</td>\n",
       "      <td>Mailed check</td>\n",
       "      <td>53.85</td>\n",
       "      <td>108.15</td>\n",
       "      <td>DSL</td>\n",
       "      <td>Yes</td>\n",
       "      <td>...</td>\n",
       "      <td>No</td>\n",
       "      <td>No</td>\n",
       "      <td>No</td>\n",
       "      <td>Male</td>\n",
       "      <td>0</td>\n",
       "      <td>No</td>\n",
       "      <td>No</td>\n",
       "      <td>Yes</td>\n",
       "      <td>61.0</td>\n",
       "      <td>1</td>\n",
       "    </tr>\n",
       "  </tbody>\n",
       "</table>\n",
       "<p>3 rows × 23 columns</p>\n",
       "</div>"
      ],
      "text/plain": [
       "  customer_id begin_date   end_date            type paperless_billing  \\\n",
       "0  7590-VHVEG 2020-01-01        NaT  Month-to-month               Yes   \n",
       "1  5575-GNVDE 2017-04-01        NaT        One year                No   \n",
       "2  3668-QPYBK 2019-10-01 2019-12-01  Month-to-month               Yes   \n",
       "\n",
       "     payment_method  monthly_charges  total_charges internet_service  \\\n",
       "0  Electronic check            29.85          29.85              DSL   \n",
       "1      Mailed check            56.95        1889.50              DSL   \n",
       "2      Mailed check            53.85         108.15              DSL   \n",
       "\n",
       "  online_security  ... streaming_tv streaming_movies multiple_lines  gender  \\\n",
       "0              No  ...           No               No             No  Female   \n",
       "1             Yes  ...           No               No             No    Male   \n",
       "2             Yes  ...           No               No             No    Male   \n",
       "\n",
       "  senior_citizen partner dependents  one_line lifetime_contract term_contract  \n",
       "0              0     Yes         No        No               NaN             0  \n",
       "1              0      No         No       Yes               NaN             0  \n",
       "2              0      No         No       Yes              61.0             1  \n",
       "\n",
       "[3 rows x 23 columns]"
      ]
     },
     "execution_count": 99,
     "metadata": {},
     "output_type": "execute_result"
    }
   ],
   "source": [
    "telecom['term_contract'] = (telecom['end_date'].isna() == False)*1\n",
    "telecom.head(3)"
   ]
  },
  {
   "cell_type": "markdown",
   "metadata": {},
   "source": [
    "* Заполним пропуски `end_date` последней датой 2020-02-01 00:00:00."
   ]
  },
  {
   "cell_type": "code",
   "execution_count": 100,
   "metadata": {},
   "outputs": [
    {
     "data": {
      "text/plain": [
       "0   2020-02-01\n",
       "1   2020-02-01\n",
       "2   2019-12-01\n",
       "Name: end_date, dtype: datetime64[ns]"
      ]
     },
     "execution_count": 100,
     "metadata": {},
     "output_type": "execute_result"
    }
   ],
   "source": [
    "telecom['end_date'] = telecom['end_date'].fillna(pd.Timestamp('2020-02-01 00:00:00'))\n",
    "\n",
    "telecom['end_date'].head(3)"
   ]
  },
  {
   "cell_type": "markdown",
   "metadata": {},
   "source": [
    "* Заного создадим `lifetime_contract` уже со всеми клиентами."
   ]
  },
  {
   "cell_type": "code",
   "execution_count": 101,
   "metadata": {},
   "outputs": [
    {
     "data": {
      "text/plain": [
       "dtype('int64')"
      ]
     },
     "execution_count": 101,
     "metadata": {},
     "output_type": "execute_result"
    }
   ],
   "source": [
    "telecom['lifetime_contract'] = telecom['begin_date'] - telecom['end_date']\n",
    "telecom['lifetime_contract'] = \\\n",
    "    abs(pd.TimedeltaIndex(telecom['lifetime_contract']).days)\n",
    "\n",
    "telecom['lifetime_contract'].dtypes"
   ]
  },
  {
   "cell_type": "code",
   "execution_count": 102,
   "metadata": {},
   "outputs": [
    {
     "data": {
      "text/html": [
       "<div>\n",
       "<style scoped>\n",
       "    .dataframe tbody tr th:only-of-type {\n",
       "        vertical-align: middle;\n",
       "    }\n",
       "\n",
       "    .dataframe tbody tr th {\n",
       "        vertical-align: top;\n",
       "    }\n",
       "\n",
       "    .dataframe thead th {\n",
       "        text-align: right;\n",
       "    }\n",
       "</style>\n",
       "<table border=\"1\" class=\"dataframe\">\n",
       "  <thead>\n",
       "    <tr style=\"text-align: right;\">\n",
       "      <th></th>\n",
       "      <th>customer_id</th>\n",
       "      <th>begin_date</th>\n",
       "      <th>end_date</th>\n",
       "      <th>type</th>\n",
       "      <th>paperless_billing</th>\n",
       "      <th>payment_method</th>\n",
       "      <th>monthly_charges</th>\n",
       "      <th>total_charges</th>\n",
       "      <th>internet_service</th>\n",
       "      <th>online_security</th>\n",
       "      <th>...</th>\n",
       "      <th>streaming_tv</th>\n",
       "      <th>streaming_movies</th>\n",
       "      <th>multiple_lines</th>\n",
       "      <th>gender</th>\n",
       "      <th>senior_citizen</th>\n",
       "      <th>partner</th>\n",
       "      <th>dependents</th>\n",
       "      <th>one_line</th>\n",
       "      <th>lifetime_contract</th>\n",
       "      <th>term_contract</th>\n",
       "    </tr>\n",
       "  </thead>\n",
       "  <tbody>\n",
       "    <tr>\n",
       "      <th>0</th>\n",
       "      <td>7590-VHVEG</td>\n",
       "      <td>2020-01-01</td>\n",
       "      <td>2020-02-01</td>\n",
       "      <td>Month-to-month</td>\n",
       "      <td>Yes</td>\n",
       "      <td>Electronic check</td>\n",
       "      <td>29.85</td>\n",
       "      <td>29.85</td>\n",
       "      <td>DSL</td>\n",
       "      <td>No</td>\n",
       "      <td>...</td>\n",
       "      <td>No</td>\n",
       "      <td>No</td>\n",
       "      <td>No</td>\n",
       "      <td>Female</td>\n",
       "      <td>0</td>\n",
       "      <td>Yes</td>\n",
       "      <td>No</td>\n",
       "      <td>No</td>\n",
       "      <td>31</td>\n",
       "      <td>0</td>\n",
       "    </tr>\n",
       "    <tr>\n",
       "      <th>1</th>\n",
       "      <td>5575-GNVDE</td>\n",
       "      <td>2017-04-01</td>\n",
       "      <td>2020-02-01</td>\n",
       "      <td>One year</td>\n",
       "      <td>No</td>\n",
       "      <td>Mailed check</td>\n",
       "      <td>56.95</td>\n",
       "      <td>1889.50</td>\n",
       "      <td>DSL</td>\n",
       "      <td>Yes</td>\n",
       "      <td>...</td>\n",
       "      <td>No</td>\n",
       "      <td>No</td>\n",
       "      <td>No</td>\n",
       "      <td>Male</td>\n",
       "      <td>0</td>\n",
       "      <td>No</td>\n",
       "      <td>No</td>\n",
       "      <td>Yes</td>\n",
       "      <td>1036</td>\n",
       "      <td>0</td>\n",
       "    </tr>\n",
       "    <tr>\n",
       "      <th>2</th>\n",
       "      <td>3668-QPYBK</td>\n",
       "      <td>2019-10-01</td>\n",
       "      <td>2019-12-01</td>\n",
       "      <td>Month-to-month</td>\n",
       "      <td>Yes</td>\n",
       "      <td>Mailed check</td>\n",
       "      <td>53.85</td>\n",
       "      <td>108.15</td>\n",
       "      <td>DSL</td>\n",
       "      <td>Yes</td>\n",
       "      <td>...</td>\n",
       "      <td>No</td>\n",
       "      <td>No</td>\n",
       "      <td>No</td>\n",
       "      <td>Male</td>\n",
       "      <td>0</td>\n",
       "      <td>No</td>\n",
       "      <td>No</td>\n",
       "      <td>Yes</td>\n",
       "      <td>61</td>\n",
       "      <td>1</td>\n",
       "    </tr>\n",
       "  </tbody>\n",
       "</table>\n",
       "<p>3 rows × 23 columns</p>\n",
       "</div>"
      ],
      "text/plain": [
       "  customer_id begin_date   end_date            type paperless_billing  \\\n",
       "0  7590-VHVEG 2020-01-01 2020-02-01  Month-to-month               Yes   \n",
       "1  5575-GNVDE 2017-04-01 2020-02-01        One year                No   \n",
       "2  3668-QPYBK 2019-10-01 2019-12-01  Month-to-month               Yes   \n",
       "\n",
       "     payment_method  monthly_charges  total_charges internet_service  \\\n",
       "0  Electronic check            29.85          29.85              DSL   \n",
       "1      Mailed check            56.95        1889.50              DSL   \n",
       "2      Mailed check            53.85         108.15              DSL   \n",
       "\n",
       "  online_security  ... streaming_tv streaming_movies multiple_lines  gender  \\\n",
       "0              No  ...           No               No             No  Female   \n",
       "1             Yes  ...           No               No             No    Male   \n",
       "2             Yes  ...           No               No             No    Male   \n",
       "\n",
       "  senior_citizen partner dependents  one_line lifetime_contract term_contract  \n",
       "0              0     Yes         No        No                31             0  \n",
       "1              0      No         No       Yes              1036             0  \n",
       "2              0      No         No       Yes                61             1  \n",
       "\n",
       "[3 rows x 23 columns]"
      ]
     },
     "execution_count": 102,
     "metadata": {},
     "output_type": "execute_result"
    }
   ],
   "source": [
    "telecom.head(3)"
   ]
  },
  {
   "cell_type": "markdown",
   "metadata": {},
   "source": [
    "Удалим столбцы \t`begin_date` и `end_date`. Также `customer_id` для модели будет не нужен."
   ]
  },
  {
   "cell_type": "code",
   "execution_count": 103,
   "metadata": {},
   "outputs": [
    {
     "data": {
      "text/html": [
       "<div>\n",
       "<style scoped>\n",
       "    .dataframe tbody tr th:only-of-type {\n",
       "        vertical-align: middle;\n",
       "    }\n",
       "\n",
       "    .dataframe tbody tr th {\n",
       "        vertical-align: top;\n",
       "    }\n",
       "\n",
       "    .dataframe thead th {\n",
       "        text-align: right;\n",
       "    }\n",
       "</style>\n",
       "<table border=\"1\" class=\"dataframe\">\n",
       "  <thead>\n",
       "    <tr style=\"text-align: right;\">\n",
       "      <th></th>\n",
       "      <th>type</th>\n",
       "      <th>paperless_billing</th>\n",
       "      <th>payment_method</th>\n",
       "      <th>monthly_charges</th>\n",
       "      <th>total_charges</th>\n",
       "      <th>internet_service</th>\n",
       "      <th>online_security</th>\n",
       "      <th>online_backup</th>\n",
       "      <th>device_protection</th>\n",
       "      <th>tech_support</th>\n",
       "      <th>streaming_tv</th>\n",
       "      <th>streaming_movies</th>\n",
       "      <th>multiple_lines</th>\n",
       "      <th>gender</th>\n",
       "      <th>senior_citizen</th>\n",
       "      <th>partner</th>\n",
       "      <th>dependents</th>\n",
       "      <th>one_line</th>\n",
       "      <th>lifetime_contract</th>\n",
       "      <th>term_contract</th>\n",
       "    </tr>\n",
       "  </thead>\n",
       "  <tbody>\n",
       "    <tr>\n",
       "      <th>0</th>\n",
       "      <td>Month-to-month</td>\n",
       "      <td>Yes</td>\n",
       "      <td>Electronic check</td>\n",
       "      <td>29.85</td>\n",
       "      <td>29.85</td>\n",
       "      <td>DSL</td>\n",
       "      <td>No</td>\n",
       "      <td>Yes</td>\n",
       "      <td>No</td>\n",
       "      <td>No</td>\n",
       "      <td>No</td>\n",
       "      <td>No</td>\n",
       "      <td>No</td>\n",
       "      <td>Female</td>\n",
       "      <td>0</td>\n",
       "      <td>Yes</td>\n",
       "      <td>No</td>\n",
       "      <td>No</td>\n",
       "      <td>31</td>\n",
       "      <td>0</td>\n",
       "    </tr>\n",
       "    <tr>\n",
       "      <th>1</th>\n",
       "      <td>One year</td>\n",
       "      <td>No</td>\n",
       "      <td>Mailed check</td>\n",
       "      <td>56.95</td>\n",
       "      <td>1889.50</td>\n",
       "      <td>DSL</td>\n",
       "      <td>Yes</td>\n",
       "      <td>No</td>\n",
       "      <td>Yes</td>\n",
       "      <td>No</td>\n",
       "      <td>No</td>\n",
       "      <td>No</td>\n",
       "      <td>No</td>\n",
       "      <td>Male</td>\n",
       "      <td>0</td>\n",
       "      <td>No</td>\n",
       "      <td>No</td>\n",
       "      <td>Yes</td>\n",
       "      <td>1036</td>\n",
       "      <td>0</td>\n",
       "    </tr>\n",
       "    <tr>\n",
       "      <th>2</th>\n",
       "      <td>Month-to-month</td>\n",
       "      <td>Yes</td>\n",
       "      <td>Mailed check</td>\n",
       "      <td>53.85</td>\n",
       "      <td>108.15</td>\n",
       "      <td>DSL</td>\n",
       "      <td>Yes</td>\n",
       "      <td>Yes</td>\n",
       "      <td>No</td>\n",
       "      <td>No</td>\n",
       "      <td>No</td>\n",
       "      <td>No</td>\n",
       "      <td>No</td>\n",
       "      <td>Male</td>\n",
       "      <td>0</td>\n",
       "      <td>No</td>\n",
       "      <td>No</td>\n",
       "      <td>Yes</td>\n",
       "      <td>61</td>\n",
       "      <td>1</td>\n",
       "    </tr>\n",
       "  </tbody>\n",
       "</table>\n",
       "</div>"
      ],
      "text/plain": [
       "             type paperless_billing    payment_method  monthly_charges  \\\n",
       "0  Month-to-month               Yes  Electronic check            29.85   \n",
       "1        One year                No      Mailed check            56.95   \n",
       "2  Month-to-month               Yes      Mailed check            53.85   \n",
       "\n",
       "   total_charges internet_service online_security online_backup  \\\n",
       "0          29.85              DSL              No           Yes   \n",
       "1        1889.50              DSL             Yes            No   \n",
       "2         108.15              DSL             Yes           Yes   \n",
       "\n",
       "  device_protection tech_support streaming_tv streaming_movies multiple_lines  \\\n",
       "0                No           No           No               No             No   \n",
       "1               Yes           No           No               No             No   \n",
       "2                No           No           No               No             No   \n",
       "\n",
       "   gender  senior_citizen partner dependents one_line  lifetime_contract  \\\n",
       "0  Female               0     Yes         No       No                 31   \n",
       "1    Male               0      No         No      Yes               1036   \n",
       "2    Male               0      No         No      Yes                 61   \n",
       "\n",
       "   term_contract  \n",
       "0              0  \n",
       "1              0  \n",
       "2              1  "
      ]
     },
     "execution_count": 103,
     "metadata": {},
     "output_type": "execute_result"
    }
   ],
   "source": [
    "telecom = telecom.drop(\n",
    "    labels=['begin_date', 'end_date', 'customer_id'], axis=1)\n",
    "telecom.head(3)"
   ]
  },
  {
   "cell_type": "code",
   "execution_count": 104,
   "metadata": {},
   "outputs": [
    {
     "data": {
      "text/plain": [
       "Index(['type', 'paperless_billing', 'payment_method', 'monthly_charges',\n",
       "       'total_charges', 'internet_service', 'online_security', 'online_backup',\n",
       "       'device_protection', 'tech_support', 'streaming_tv', 'streaming_movies',\n",
       "       'multiple_lines', 'gender', 'senior_citizen', 'partner', 'dependents',\n",
       "       'one_line', 'lifetime_contract', 'term_contract'],\n",
       "      dtype='object')"
      ]
     },
     "execution_count": 104,
     "metadata": {},
     "output_type": "execute_result"
    }
   ],
   "source": [
    "telecom.columns"
   ]
  },
  {
   "cell_type": "markdown",
   "metadata": {},
   "source": [
    "Все преобразования прошли успешно."
   ]
  },
  {
   "cell_type": "markdown",
   "metadata": {},
   "source": [
    "**Вывод:**\n",
    "\n",
    "* Объеденили 4 таблицы.\n",
    "* После обработали пропуски, где интернет и его услуги имели `NaN`:\n",
    "    * Интернет услуги имели везде пропуски в 100% строк, где клиент не пользуется интернетом, но пользуется услугами связи. Заполнили пропуски значением `No`.\n",
    "\n",
    "* После оставшиеся единственные пропуски в `multiple_lines` значением `No`, поскольку слияние происходило по `phone`.\n",
    "\n",
    "* Добавили признак `one_line`, выявивший  клиентов:\n",
    "    * Кто не пользуется многоканальной связью, пользуется интернетом и пользуется простой связью.\n",
    "    * Также выявлена прозрачность, если клиент не пользуется многоканальной связью и не пользуется интернетом, то на чем основан его контракт/договор (?) — на простой связи.\n",
    "    * Эту гипотезу проверили.\n",
    "\n",
    "* Исследовали срок жизни договора клиентов, кто расторгнул этот договор:\n",
    "\n",
    "    * Распределение значений — со скосом влево.\n",
    "    * Медиана 304 дня.\n",
    "    * Среднее 594 дня.\n",
    "    * Половина клиентов уходит в первый год.\n",
    "    * Ровно четверть из ушедших ушли в первые два месяца.\n",
    "    * 14.67% ушли через 2000 дней (5.5 лет).\n",
    "    * 20.33% ушли в первый месяц.\n",
    "\n",
    "* Добавили новый признак `lifetime_contract`, означающий срок жизни клиентов.\n",
    "* Добавили новый признак `term_contract`, означающий уход клиента (целевой признак для моделей)."
   ]
  },
  {
   "cell_type": "markdown",
   "metadata": {},
   "source": [
    "## Построение моделей"
   ]
  },
  {
   "cell_type": "markdown",
   "metadata": {},
   "source": [
    "Будем использовать:\n",
    "\n",
    "*  `sklearn.ensemble.RandomForestClassifier`\n",
    "* `CatBoost`"
   ]
  },
  {
   "cell_type": "code",
   "execution_count": 105,
   "metadata": {},
   "outputs": [
    {
     "data": {
      "text/html": [
       "<div>\n",
       "<style scoped>\n",
       "    .dataframe tbody tr th:only-of-type {\n",
       "        vertical-align: middle;\n",
       "    }\n",
       "\n",
       "    .dataframe tbody tr th {\n",
       "        vertical-align: top;\n",
       "    }\n",
       "\n",
       "    .dataframe thead th {\n",
       "        text-align: right;\n",
       "    }\n",
       "</style>\n",
       "<table border=\"1\" class=\"dataframe\">\n",
       "  <thead>\n",
       "    <tr style=\"text-align: right;\">\n",
       "      <th></th>\n",
       "      <th>type</th>\n",
       "      <th>paperless_billing</th>\n",
       "      <th>payment_method</th>\n",
       "      <th>monthly_charges</th>\n",
       "      <th>total_charges</th>\n",
       "      <th>internet_service</th>\n",
       "      <th>online_security</th>\n",
       "      <th>online_backup</th>\n",
       "      <th>device_protection</th>\n",
       "      <th>tech_support</th>\n",
       "      <th>streaming_tv</th>\n",
       "      <th>streaming_movies</th>\n",
       "      <th>multiple_lines</th>\n",
       "      <th>gender</th>\n",
       "      <th>senior_citizen</th>\n",
       "      <th>partner</th>\n",
       "      <th>dependents</th>\n",
       "      <th>one_line</th>\n",
       "      <th>lifetime_contract</th>\n",
       "      <th>term_contract</th>\n",
       "    </tr>\n",
       "  </thead>\n",
       "  <tbody>\n",
       "    <tr>\n",
       "      <th>0</th>\n",
       "      <td>Month-to-month</td>\n",
       "      <td>Yes</td>\n",
       "      <td>Electronic check</td>\n",
       "      <td>29.85</td>\n",
       "      <td>29.85</td>\n",
       "      <td>DSL</td>\n",
       "      <td>No</td>\n",
       "      <td>Yes</td>\n",
       "      <td>No</td>\n",
       "      <td>No</td>\n",
       "      <td>No</td>\n",
       "      <td>No</td>\n",
       "      <td>No</td>\n",
       "      <td>Female</td>\n",
       "      <td>0</td>\n",
       "      <td>Yes</td>\n",
       "      <td>No</td>\n",
       "      <td>No</td>\n",
       "      <td>31</td>\n",
       "      <td>0</td>\n",
       "    </tr>\n",
       "    <tr>\n",
       "      <th>1</th>\n",
       "      <td>One year</td>\n",
       "      <td>No</td>\n",
       "      <td>Mailed check</td>\n",
       "      <td>56.95</td>\n",
       "      <td>1889.50</td>\n",
       "      <td>DSL</td>\n",
       "      <td>Yes</td>\n",
       "      <td>No</td>\n",
       "      <td>Yes</td>\n",
       "      <td>No</td>\n",
       "      <td>No</td>\n",
       "      <td>No</td>\n",
       "      <td>No</td>\n",
       "      <td>Male</td>\n",
       "      <td>0</td>\n",
       "      <td>No</td>\n",
       "      <td>No</td>\n",
       "      <td>Yes</td>\n",
       "      <td>1036</td>\n",
       "      <td>0</td>\n",
       "    </tr>\n",
       "    <tr>\n",
       "      <th>2</th>\n",
       "      <td>Month-to-month</td>\n",
       "      <td>Yes</td>\n",
       "      <td>Mailed check</td>\n",
       "      <td>53.85</td>\n",
       "      <td>108.15</td>\n",
       "      <td>DSL</td>\n",
       "      <td>Yes</td>\n",
       "      <td>Yes</td>\n",
       "      <td>No</td>\n",
       "      <td>No</td>\n",
       "      <td>No</td>\n",
       "      <td>No</td>\n",
       "      <td>No</td>\n",
       "      <td>Male</td>\n",
       "      <td>0</td>\n",
       "      <td>No</td>\n",
       "      <td>No</td>\n",
       "      <td>Yes</td>\n",
       "      <td>61</td>\n",
       "      <td>1</td>\n",
       "    </tr>\n",
       "  </tbody>\n",
       "</table>\n",
       "</div>"
      ],
      "text/plain": [
       "             type paperless_billing    payment_method  monthly_charges  \\\n",
       "0  Month-to-month               Yes  Electronic check            29.85   \n",
       "1        One year                No      Mailed check            56.95   \n",
       "2  Month-to-month               Yes      Mailed check            53.85   \n",
       "\n",
       "   total_charges internet_service online_security online_backup  \\\n",
       "0          29.85              DSL              No           Yes   \n",
       "1        1889.50              DSL             Yes            No   \n",
       "2         108.15              DSL             Yes           Yes   \n",
       "\n",
       "  device_protection tech_support streaming_tv streaming_movies multiple_lines  \\\n",
       "0                No           No           No               No             No   \n",
       "1               Yes           No           No               No             No   \n",
       "2                No           No           No               No             No   \n",
       "\n",
       "   gender  senior_citizen partner dependents one_line  lifetime_contract  \\\n",
       "0  Female               0     Yes         No       No                 31   \n",
       "1    Male               0      No         No      Yes               1036   \n",
       "2    Male               0      No         No      Yes                 61   \n",
       "\n",
       "   term_contract  \n",
       "0              0  \n",
       "1              0  \n",
       "2              1  "
      ]
     },
     "execution_count": 105,
     "metadata": {},
     "output_type": "execute_result"
    }
   ],
   "source": [
    "telecom.head(3)"
   ]
  },
  {
   "cell_type": "markdown",
   "metadata": {},
   "source": [
    "### Предобработка данных"
   ]
  },
  {
   "cell_type": "markdown",
   "metadata": {},
   "source": [
    "Поделим `telecom` на `train` и `test`."
   ]
  },
  {
   "cell_type": "code",
   "execution_count": 106,
   "metadata": {},
   "outputs": [
    {
     "name": "stdout",
     "output_type": "stream",
     "text": [
      "Получившиеся выборки:\n",
      "X_train:  (5282, 19)\n",
      "y_train:  (5282,)\n",
      "X_test:  (1761, 19)\n",
      "y_test:  (1761,)\n"
     ]
    }
   ],
   "source": [
    "X_train, X_test, y_train, y_test = train_test_split(\n",
    "    telecom.drop('term_contract', axis=1), \n",
    "    telecom['term_contract'], \n",
    "    test_size=0.25, random_state=290822)\n",
    "\n",
    "print('Получившиеся выборки:')\n",
    "print('X_train: ', X_train.shape)\n",
    "print('y_train: ', y_train.shape)\n",
    "print('X_test: ', X_test.shape)\n",
    "print('y_test: ', y_test.shape)"
   ]
  },
  {
   "cell_type": "markdown",
   "metadata": {},
   "source": [
    "* Большинство признаков имеют категориальные и имеют свою вариативность от еденицы до 4. Можно вручную не переделывать, а применить `OneHotEncoder`."
   ]
  },
  {
   "cell_type": "code",
   "execution_count": 107,
   "metadata": {},
   "outputs": [
    {
     "name": "stdout",
     "output_type": "stream",
     "text": [
      "Получившиеся выборки после OneHotEncoder:\n",
      "X_train:  (5282, 23)\n",
      "y_train:  (5282,)\n",
      "X_test:  (1761, 23)\n",
      "y_test:  (1761,)\n"
     ]
    }
   ],
   "source": [
    "cat_f = X_train.columns.drop(['monthly_charges', \n",
    "'total_charges', 'senior_citizen', 'lifetime_contract'])\n",
    "\n",
    "enc = OneHotEncoder(drop='first', sparse=False).fit(X_train[cat_f])\n",
    "\n",
    "X_train.loc[:, enc.get_feature_names_out()] = enc.transform(X_train[cat_f])\n",
    "X_test.loc[:, enc.get_feature_names_out()] = enc.transform(X_test[cat_f])\n",
    "\n",
    "X_train = X_train.drop(columns=cat_f, axis=1)\n",
    "X_test = X_test.drop(columns=cat_f, axis=1)\n",
    "\n",
    "print('Получившиеся выборки после OneHotEncoder:')\n",
    "print('X_train: ', X_train.shape)\n",
    "print('y_train: ', y_train.shape)\n",
    "print('X_test: ', X_test.shape)\n",
    "print('y_test: ', y_test.shape)"
   ]
  },
  {
   "cell_type": "markdown",
   "metadata": {},
   "source": [
    "Взглянем на балансы классов."
   ]
  },
  {
   "cell_type": "code",
   "execution_count": 108,
   "metadata": {},
   "outputs": [
    {
     "name": "stdout",
     "output_type": "stream",
     "text": [
      "0    0.7361\n",
      "1    0.2639\n",
      "Name: term_contract, dtype: float64\n"
     ]
    },
    {
     "data": {
      "image/png": "[encoded data removed]",
      "text/plain": [
       "<Figure size 432x288 with 1 Axes>"
      ]
     },
     "metadata": {
      "needs_background": "light"
     },
     "output_type": "display_data"
    }
   ],
   "source": [
    "frequens(y_train, 0, 'y_train')"
   ]
  },
  {
   "cell_type": "code",
   "execution_count": 109,
   "metadata": {},
   "outputs": [
    {
     "name": "stdout",
     "output_type": "stream",
     "text": [
      "0    0.7303\n",
      "1    0.2697\n",
      "Name: term_contract, dtype: float64\n"
     ]
    },
    {
     "data": {
      "image/png": "[encoded data removed]",
      "text/plain": [
       "<Figure size 432x288 with 1 Axes>"
      ]
     },
     "metadata": {
      "needs_background": "light"
     },
     "output_type": "display_data"
    }
   ],
   "source": [
    "frequens(y_test, 0, 'y_test')"
   ]
  },
  {
   "cell_type": "markdown",
   "metadata": {},
   "source": [
    "Сделаем константное предсказание."
   ]
  },
  {
   "cell_type": "code",
   "execution_count": 110,
   "metadata": {},
   "outputs": [
    {
     "name": "stdout",
     "output_type": "stream",
     "text": [
      "Константное предсказание ROC_AUC:  0.5\n",
      "Константное предсказание Accuracy:  0.736\n",
      "Константное предсказание F1_score:  0.0\n"
     ]
    }
   ],
   "source": [
    "y_constant = pd.Series([0] * len(y_train), index=y_train.index)\n",
    "\n",
    "roc_auc_const = roc_auc_score(y_train, y_constant)\n",
    "acc_const = accuracy_score(y_train, y_constant).round(3)\n",
    "f1_const = f1_score(y_train, y_constant)\n",
    "\n",
    "print('Константное предсказание ROC_AUC: ', roc_auc_const)\n",
    "print('Константное предсказание Accuracy: ', acc_const)\n",
    "print('Константное предсказание F1_score: ', f1_const)"
   ]
  },
  {
   "cell_type": "markdown",
   "metadata": {},
   "source": [
    "Хорошо заметно преимущество `f1_score` перед `Accuracy`."
   ]
  },
  {
   "cell_type": "markdown",
   "metadata": {},
   "source": [
    "### Функции"
   ]
  },
  {
   "cell_type": "code",
   "execution_count": 111,
   "metadata": {},
   "outputs": [],
   "source": [
    "def rfr_model(X_train, y_train, class_weight=None):\n",
    "\n",
    "    name = 'RandomForestClassifier'\n",
    "\n",
    "    model = RandomForestClassifier(\n",
    "                random_state=290822,\n",
    "                class_weight=class_weight,\n",
    "                n_jobs=-1,\n",
    "                criterion='log_loss'\n",
    "            )\n",
    "\n",
    "    grid = {'n_estimators': range(170, 231, 30),\n",
    "            'max_depth': range(6, 13, 2),\n",
    "            'min_samples_split': range(2, 7, 2),\n",
    "            'min_samples_leaf': range(1, 4, 1)}\n",
    "\n",
    "    cv = RepeatedKFold(n_splits=5, n_repeats=2, random_state=290822)\n",
    "\n",
    "    clf = GridSearchCV(model,\n",
    "                    param_grid=grid,\n",
    "                    scoring='roc_auc',\n",
    "                    n_jobs=-1,\n",
    "                    cv=cv,\n",
    "                    )\n",
    "\n",
    "    clf.fit(X_train, y_train)\n",
    "\n",
    "    print('\\n')\n",
    "    print(\"Random Forest Classifier\", '\\n')\n",
    "\n",
    "    best_rfr = clf.best_estimator_\n",
    "\n",
    "\n",
    "    print(\"Лучший score на кросс валидации: \", \n",
    "                        round(clf.best_score_, 3))\n",
    "    print('\\n')\n",
    "    display(\"Лучшие гиперпараметры: \", clf.best_params_)\n",
    "\n",
    "    print('train предсказание ROC_AUC: ', \n",
    "    roc_auc_score(y_train, best_rfr.predict(X_train)).round(3),\n",
    "    'const: ', roc_auc_const)\n",
    "\n",
    "    print('train предсказание Accuracy: ', \n",
    "        accuracy_score(y_train, best_rfr.predict(X_train)).round(3),\n",
    "    'const: ', acc_const)\n",
    "\n",
    "    print('train предсказание F1_score: ', \n",
    "        f1_score(y_train, best_rfr.predict(X_train)).round(3),\n",
    "    'const: ', f1_const)\n",
    "\n",
    "    return"
   ]
  },
  {
   "cell_type": "code",
   "execution_count": 112,
   "metadata": {},
   "outputs": [],
   "source": [
    "def cat_model(X_train, y_train, scale_pos_weight=1):\n",
    "\n",
    "    name = 'CatBoost'\n",
    "\n",
    "    cat_train = Pool(data=X_train, label=y_train)\n",
    "    #cat_test = Pool(data=X_test, label=y_test)\n",
    "\n",
    "    params = {'eval_metric': 'Logloss',\n",
    "            'loss_function': 'Logloss',\n",
    "            'random_seed': 290822,\n",
    "            'iterations': 5000,\n",
    "            'early_stopping_rounds': 200,\n",
    "            'scale_pos_weight': scale_pos_weight,\n",
    "            'verbose':False}\n",
    "\n",
    "    model = CatBoost(params=params)\n",
    "\n",
    "    grid = {'learning_rate': [0.1, 0.15, 0.18],\n",
    "            'depth': range(1,5,1),\n",
    "            'l2_leaf_reg': [1, 2, 3, 4]}\n",
    "\n",
    "    cv = RepeatedKFold(n_splits=6, n_repeats=2, random_state=290822)\n",
    "\n",
    "    grid_search_result = model.grid_search(grid, \n",
    "                                        X=X_train, \n",
    "                                        y=y_train, \n",
    "                                        cv=cv,\n",
    "                                        partition_random_seed=290822,\n",
    "                                        search_by_train_test_split=True,\n",
    "                                        train_size=0.8,\n",
    "                                        stratified=True,\n",
    "                                        shuffle=True,\n",
    "                                        verbose=False,\n",
    "                                        refit=True)\n",
    "\n",
    "    n_iter = np.argmin(grid_search_result['cv_results']['test-Logloss-mean'])\n",
    "\n",
    "    print(\"Cat Boost\", '\\n')\n",
    "\n",
    "    print(\"Лучший Logloss на кросс валидации: \", \n",
    "        round(grid_search_result['cv_results']['test-Logloss-mean'][n_iter], 3))\n",
    "\n",
    "    display('Гиперпараметры лучшего результата', \n",
    "        grid_search_result['params'])\n",
    "\n",
    "    print('iterations: ', n_iter, '\\n')\n",
    "\n",
    "    params = {'eval_metric': 'Logloss',\n",
    "            'loss_function': 'Logloss',\n",
    "            'learning_rate': grid_search_result['params']['learning_rate'],\n",
    "            'depth': grid_search_result['params']['depth'],\n",
    "            'random_seed': 290822,\n",
    "            'l2_leaf_reg': grid_search_result['params']['l2_leaf_reg'],\n",
    "            'random_strength': 290822,\n",
    "            'scale_pos_weight': scale_pos_weight,\n",
    "            'iterations': n_iter,\n",
    "            'verbose':False}\n",
    "\n",
    "    cat = CatBoostClassifier(**params)\n",
    "    cat.fit(cat_train)\n",
    "\n",
    "    (fpr, tpr, thresholds) = get_roc_curve(cat, cat_train)\n",
    "    sum = tpr + (1-fpr)\n",
    "    cat.set_probability_threshold(thresholds[np.argmax(sum)])\n",
    "\n",
    "    print('thresholds: ', thresholds[np.argmax(sum)], '\\n')\n",
    "\n",
    "    print('train предсказание ROC_AUC: ', \n",
    "    roc_auc_score(y_train, cat.predict(cat_train)).round(3),\n",
    "    'const: ', roc_auc_const)\n",
    "\n",
    "    print('train предсказание Accuracy: ', \n",
    "        accuracy_score(y_train, cat.predict(cat_train)).round(3),\n",
    "    'const: ', acc_const)\n",
    "\n",
    "    print('train предсказание F1_score: ', \n",
    "        f1_score(y_train, cat.predict(cat_train)).round(3),\n",
    "    'const: ', f1_const)\n",
    "\n",
    "    return"
   ]
  },
  {
   "cell_type": "markdown",
   "metadata": {},
   "source": [
    "### Исходный баланс классов"
   ]
  },
  {
   "cell_type": "markdown",
   "metadata": {},
   "source": [
    "Взглянем балансы классов."
   ]
  },
  {
   "cell_type": "code",
   "execution_count": 113,
   "metadata": {},
   "outputs": [
    {
     "name": "stdout",
     "output_type": "stream",
     "text": [
      "0    0.7361\n",
      "1    0.2639\n",
      "Name: term_contract, dtype: float64\n"
     ]
    },
    {
     "data": {
      "image/png": "[encoded data removed]",
      "text/plain": [
       "<Figure size 432x288 with 1 Axes>"
      ]
     },
     "metadata": {
      "needs_background": "light"
     },
     "output_type": "display_data"
    }
   ],
   "source": [
    "frequens(y_train, 0, 'y_train')"
   ]
  },
  {
   "cell_type": "code",
   "execution_count": 114,
   "metadata": {},
   "outputs": [
    {
     "name": "stdout",
     "output_type": "stream",
     "text": [
      "0    0.7303\n",
      "1    0.2697\n",
      "Name: term_contract, dtype: float64\n"
     ]
    },
    {
     "data": {
      "image/png": "[encoded data removed]",
      "text/plain": [
       "<Figure size 432x288 with 1 Axes>"
      ]
     },
     "metadata": {
      "needs_background": "light"
     },
     "output_type": "display_data"
    }
   ],
   "source": [
    "frequens(y_test, 0, 'y_test')"
   ]
  },
  {
   "cell_type": "markdown",
   "metadata": {},
   "source": [
    "#### RandomForestClassifier"
   ]
  },
  {
   "cell_type": "code",
   "execution_count": 115,
   "metadata": {},
   "outputs": [
    {
     "name": "stdout",
     "output_type": "stream",
     "text": [
      "\n",
      "\n",
      "Random Forest Classifier \n",
      "\n",
      "Лучший score на кросс валидации:  0.86\n",
      "\n",
      "\n"
     ]
    },
    {
     "data": {
      "text/plain": [
       "'Лучшие гиперпараметры: '"
      ]
     },
     "metadata": {},
     "output_type": "display_data"
    },
    {
     "data": {
      "text/plain": [
       "{'max_depth': 8,\n",
       " 'min_samples_leaf': 1,\n",
       " 'min_samples_split': 4,\n",
       " 'n_estimators': 200}"
      ]
     },
     "metadata": {},
     "output_type": "display_data"
    },
    {
     "name": "stdout",
     "output_type": "stream",
     "text": [
      "train предсказание ROC_AUC:  0.755 const:  0.5\n",
      "train предсказание Accuracy:  0.846 const:  0.736\n",
      "train предсказание F1_score:  0.659 const:  0.0\n",
      "CPU times: total: 6.7 s\n",
      "Wall time: 2min 5s\n"
     ]
    }
   ],
   "source": [
    "%%time\n",
    "\n",
    "rfr_model(X_train, y_train)"
   ]
  },
  {
   "cell_type": "markdown",
   "metadata": {},
   "source": [
    "#### CatBoost"
   ]
  },
  {
   "cell_type": "code",
   "execution_count": 116,
   "metadata": {},
   "outputs": [
    {
     "name": "stdout",
     "output_type": "stream",
     "text": [
      "\n",
      "bestTest = 0.3615035244\n",
      "bestIteration = 4993\n",
      "\n",
      "\n",
      "bestTest = 0.3575471462\n",
      "bestIteration = 4992\n",
      "\n",
      "\n",
      "bestTest = 0.3550741153\n",
      "bestIteration = 4969\n",
      "\n",
      "\n",
      "bestTest = 0.3614398629\n",
      "bestIteration = 4998\n",
      "\n",
      "\n",
      "bestTest = 0.3580257982\n",
      "bestIteration = 4953\n",
      "\n",
      "\n",
      "bestTest = 0.3552337857\n",
      "bestIteration = 4996\n",
      "\n",
      "\n",
      "bestTest = 0.3613735877\n",
      "bestIteration = 4947\n",
      "\n",
      "\n",
      "bestTest = 0.3573773303\n",
      "bestIteration = 4932\n",
      "\n",
      "\n",
      "bestTest = 0.3547759293\n",
      "bestIteration = 4971\n",
      "\n",
      "\n",
      "bestTest = 0.3613039599\n",
      "bestIteration = 4981\n",
      "\n",
      "\n",
      "bestTest = 0.3575342143\n",
      "bestIteration = 4999\n",
      "\n",
      "\n",
      "bestTest = 0.3546277973\n",
      "bestIteration = 4969\n",
      "\n",
      "Stopped by overfitting detector  (200 iterations wait)\n",
      "\n",
      "bestTest = 0.334451932\n",
      "bestIteration = 490\n",
      "\n",
      "Stopped by overfitting detector  (200 iterations wait)\n",
      "\n",
      "bestTest = 0.3065894398\n",
      "bestIteration = 1181\n",
      "\n",
      "Stopped by overfitting detector  (200 iterations wait)\n",
      "\n",
      "bestTest = 0.3053403329\n",
      "bestIteration = 1054\n",
      "\n",
      "Stopped by overfitting detector  (200 iterations wait)\n",
      "\n",
      "bestTest = 0.3212656102\n",
      "bestIteration = 1133\n",
      "\n",
      "Stopped by overfitting detector  (200 iterations wait)\n",
      "\n",
      "bestTest = 0.3128907136\n",
      "bestIteration = 1280\n",
      "\n",
      "Stopped by overfitting detector  (200 iterations wait)\n",
      "\n",
      "bestTest = 0.3126800034\n",
      "bestIteration = 1373\n",
      "\n",
      "Stopped by overfitting detector  (200 iterations wait)\n",
      "\n",
      "bestTest = 0.314348024\n",
      "bestIteration = 2648\n",
      "\n",
      "Stopped by overfitting detector  (200 iterations wait)\n",
      "\n",
      "bestTest = 0.3167595791\n",
      "bestIteration = 1014\n",
      "\n",
      "Stopped by overfitting detector  (200 iterations wait)\n",
      "\n",
      "bestTest = 0.3123224898\n",
      "bestIteration = 1351\n",
      "\n",
      "Stopped by overfitting detector  (200 iterations wait)\n",
      "\n",
      "bestTest = 0.3129204944\n",
      "bestIteration = 2437\n",
      "\n",
      "Stopped by overfitting detector  (200 iterations wait)\n",
      "\n",
      "bestTest = 0.311294442\n",
      "bestIteration = 1690\n",
      "\n",
      "Stopped by overfitting detector  (200 iterations wait)\n",
      "\n",
      "bestTest = 0.3080934174\n",
      "bestIteration = 1214\n",
      "\n",
      "Stopped by overfitting detector  (200 iterations wait)\n",
      "\n",
      "bestTest = 0.321275576\n",
      "bestIteration = 727\n",
      "\n",
      "Stopped by overfitting detector  (200 iterations wait)\n",
      "\n",
      "bestTest = 0.3188542396\n",
      "bestIteration = 622\n",
      "\n",
      "Stopped by overfitting detector  (200 iterations wait)\n",
      "\n",
      "bestTest = 0.317476582\n",
      "bestIteration = 555\n",
      "\n",
      "Stopped by overfitting detector  (200 iterations wait)\n",
      "\n",
      "bestTest = 0.3202881992\n",
      "bestIteration = 830\n",
      "\n",
      "Stopped by overfitting detector  (200 iterations wait)\n",
      "\n",
      "bestTest = 0.324249301\n",
      "bestIteration = 455\n",
      "\n",
      "Stopped by overfitting detector  (200 iterations wait)\n",
      "\n",
      "bestTest = 0.3118210762\n",
      "bestIteration = 673\n",
      "\n",
      "Stopped by overfitting detector  (200 iterations wait)\n",
      "\n",
      "bestTest = 0.3229147704\n",
      "bestIteration = 871\n",
      "\n",
      "Stopped by overfitting detector  (200 iterations wait)\n",
      "\n",
      "bestTest = 0.3155684717\n",
      "bestIteration = 658\n",
      "\n",
      "Stopped by overfitting detector  (200 iterations wait)\n",
      "\n",
      "bestTest = 0.3215140348\n",
      "bestIteration = 462\n",
      "\n",
      "Stopped by overfitting detector  (200 iterations wait)\n",
      "\n",
      "bestTest = 0.3183921955\n",
      "bestIteration = 961\n",
      "\n",
      "Stopped by overfitting detector  (200 iterations wait)\n",
      "\n",
      "bestTest = 0.3215454726\n",
      "bestIteration = 760\n",
      "\n",
      "Stopped by overfitting detector  (200 iterations wait)\n",
      "\n",
      "bestTest = 0.3225521625\n",
      "bestIteration = 805\n",
      "\n",
      "Stopped by overfitting detector  (200 iterations wait)\n",
      "\n",
      "bestTest = 0.3241532243\n",
      "bestIteration = 464\n",
      "\n",
      "Stopped by overfitting detector  (200 iterations wait)\n",
      "\n",
      "bestTest = 0.3274899839\n",
      "bestIteration = 318\n",
      "\n",
      "Stopped by overfitting detector  (200 iterations wait)\n",
      "\n",
      "bestTest = 0.319213161\n",
      "bestIteration = 205\n",
      "\n",
      "Stopped by overfitting detector  (200 iterations wait)\n",
      "\n",
      "bestTest = 0.3225785202\n",
      "bestIteration = 733\n",
      "\n",
      "Stopped by overfitting detector  (200 iterations wait)\n",
      "\n",
      "bestTest = 0.3215705726\n",
      "bestIteration = 287\n",
      "\n",
      "Stopped by overfitting detector  (200 iterations wait)\n",
      "\n",
      "bestTest = 0.3256530015\n",
      "bestIteration = 405\n",
      "\n",
      "Stopped by overfitting detector  (200 iterations wait)\n",
      "\n",
      "bestTest = 0.3261762469\n",
      "bestIteration = 397\n",
      "\n",
      "Stopped by overfitting detector  (200 iterations wait)\n",
      "\n",
      "bestTest = 0.3280382513\n",
      "bestIteration = 371\n",
      "\n",
      "Stopped by overfitting detector  (200 iterations wait)\n",
      "\n",
      "bestTest = 0.3283292928\n",
      "bestIteration = 301\n",
      "\n",
      "Stopped by overfitting detector  (200 iterations wait)\n",
      "\n",
      "bestTest = 0.3267395722\n",
      "bestIteration = 764\n",
      "\n",
      "Stopped by overfitting detector  (200 iterations wait)\n",
      "\n",
      "bestTest = 0.3240766347\n",
      "bestIteration = 488\n",
      "\n",
      "Stopped by overfitting detector  (200 iterations wait)\n",
      "\n",
      "bestTest = 0.3231565306\n",
      "bestIteration = 393\n",
      "\n",
      "Training on fold [0/12]\n",
      "\n",
      "bestTest = 0.2649256403\n",
      "bestIteration = 1616\n",
      "\n",
      "Training on fold [1/12]\n",
      "\n",
      "bestTest = 0.2863115248\n",
      "bestIteration = 1394\n",
      "\n",
      "Training on fold [2/12]\n",
      "\n",
      "bestTest = 0.2914427852\n",
      "bestIteration = 1013\n",
      "\n",
      "Training on fold [3/12]\n",
      "\n",
      "bestTest = 0.263595294\n",
      "bestIteration = 1461\n",
      "\n",
      "Training on fold [4/12]\n",
      "\n",
      "bestTest = 0.278616944\n",
      "bestIteration = 1624\n",
      "\n",
      "Training on fold [5/12]\n",
      "\n",
      "bestTest = 0.2703602557\n",
      "bestIteration = 1414\n",
      "\n",
      "Training on fold [6/12]\n",
      "\n",
      "bestTest = 0.2813515119\n",
      "bestIteration = 1256\n",
      "\n",
      "Training on fold [7/12]\n",
      "\n",
      "bestTest = 0.2484835192\n",
      "bestIteration = 1363\n",
      "\n",
      "Training on fold [8/12]\n",
      "\n",
      "bestTest = 0.2926682664\n",
      "bestIteration = 908\n",
      "\n",
      "Training on fold [9/12]\n",
      "\n",
      "bestTest = 0.3189786616\n",
      "bestIteration = 1490\n",
      "\n",
      "Training on fold [10/12]\n",
      "\n",
      "bestTest = 0.2556586342\n",
      "bestIteration = 1153\n",
      "\n",
      "Training on fold [11/12]\n",
      "\n",
      "bestTest = 0.2940297129\n",
      "bestIteration = 1156\n",
      "\n",
      "Cat Boost \n",
      "\n",
      "Лучший Logloss на кросс валидации:  0.28\n"
     ]
    },
    {
     "data": {
      "text/plain": [
       "'Гиперпараметры лучшего результата'"
      ]
     },
     "metadata": {},
     "output_type": "display_data"
    },
    {
     "data": {
      "text/plain": [
       "{'depth': 2, 'l2_leaf_reg': 1, 'learning_rate': 0.18}"
      ]
     },
     "metadata": {},
     "output_type": "display_data"
    },
    {
     "name": "stdout",
     "output_type": "stream",
     "text": [
      "iterations:  1442 \n",
      "\n",
      "thresholds:  0.30807928051582556 \n",
      "\n",
      "train предсказание ROC_AUC:  0.922 const:  0.5\n",
      "train предсказание Accuracy:  0.926 const:  0.736\n",
      "train предсказание F1_score:  0.868 const:  0.0\n",
      "CPU times: total: 29min 5s\n",
      "Wall time: 3min 10s\n"
     ]
    }
   ],
   "source": [
    "%%time\n",
    "\n",
    "cat_model(X_train, y_train)"
   ]
  },
  {
   "cell_type": "markdown",
   "metadata": {},
   "source": [
    "### Встроенные методы"
   ]
  },
  {
   "cell_type": "markdown",
   "metadata": {},
   "source": [
    "#### RandomForestClassifier"
   ]
  },
  {
   "cell_type": "code",
   "execution_count": 117,
   "metadata": {},
   "outputs": [
    {
     "name": "stdout",
     "output_type": "stream",
     "text": [
      "\n",
      "\n",
      "Random Forest Classifier \n",
      "\n",
      "Лучший score на кросс валидации:  0.859\n",
      "\n",
      "\n"
     ]
    },
    {
     "data": {
      "text/plain": [
       "'Лучшие гиперпараметры: '"
      ]
     },
     "metadata": {},
     "output_type": "display_data"
    },
    {
     "data": {
      "text/plain": [
       "{'max_depth': 10,\n",
       " 'min_samples_leaf': 1,\n",
       " 'min_samples_split': 6,\n",
       " 'n_estimators': 170}"
      ]
     },
     "metadata": {},
     "output_type": "display_data"
    },
    {
     "name": "stdout",
     "output_type": "stream",
     "text": [
      "train предсказание ROC_AUC:  0.866 const:  0.5\n",
      "train предсказание Accuracy:  0.859 const:  0.736\n",
      "train предсказание F1_score:  0.768 const:  0.0\n",
      "CPU times: total: 7.78 s\n",
      "Wall time: 2min 18s\n"
     ]
    }
   ],
   "source": [
    "%%time\n",
    "\n",
    "rfr_model(X_train, y_train, 'balanced')"
   ]
  },
  {
   "cell_type": "markdown",
   "metadata": {},
   "source": [
    "#### CatBoost"
   ]
  },
  {
   "cell_type": "code",
   "execution_count": 118,
   "metadata": {},
   "outputs": [
    {
     "name": "stdout",
     "output_type": "stream",
     "text": [
      "\n",
      "bestTest = 0.428375335\n",
      "bestIteration = 4966\n",
      "\n",
      "\n",
      "bestTest = 0.4239254236\n",
      "bestIteration = 4971\n",
      "\n",
      "\n",
      "bestTest = 0.4212822828\n",
      "bestIteration = 4998\n",
      "\n",
      "\n",
      "bestTest = 0.4286289756\n",
      "bestIteration = 4999\n",
      "\n",
      "\n",
      "bestTest = 0.4232118448\n",
      "bestIteration = 4968\n",
      "\n",
      "\n",
      "bestTest = 0.4207303428\n",
      "bestIteration = 4964\n",
      "\n",
      "\n",
      "bestTest = 0.4280971594\n",
      "bestIteration = 4968\n",
      "\n",
      "\n",
      "bestTest = 0.4233977344\n",
      "bestIteration = 4994\n",
      "\n",
      "\n",
      "bestTest = 0.4204400656\n",
      "bestIteration = 4985\n",
      "\n",
      "\n",
      "bestTest = 0.4286573947\n",
      "bestIteration = 4997\n",
      "\n",
      "\n",
      "bestTest = 0.4230632401\n",
      "bestIteration = 4988\n",
      "\n",
      "\n",
      "bestTest = 0.4212616762\n",
      "bestIteration = 4977\n",
      "\n",
      "Stopped by overfitting detector  (200 iterations wait)\n",
      "\n",
      "bestTest = 0.3677050188\n",
      "bestIteration = 1562\n",
      "\n",
      "Stopped by overfitting detector  (200 iterations wait)\n",
      "\n",
      "bestTest = 0.3617995451\n",
      "bestIteration = 1110\n",
      "\n",
      "Stopped by overfitting detector  (200 iterations wait)\n",
      "\n",
      "bestTest = 0.3635844347\n",
      "bestIteration = 754\n",
      "\n",
      "Stopped by overfitting detector  (200 iterations wait)\n",
      "\n",
      "bestTest = 0.3833582201\n",
      "bestIteration = 1278\n",
      "\n",
      "Stopped by overfitting detector  (200 iterations wait)\n",
      "\n",
      "bestTest = 0.3652782329\n",
      "bestIteration = 1493\n",
      "\n",
      "Stopped by overfitting detector  (200 iterations wait)\n",
      "\n",
      "bestTest = 0.3624694405\n",
      "bestIteration = 1095\n",
      "\n",
      "Stopped by overfitting detector  (200 iterations wait)\n",
      "\n",
      "bestTest = 0.3715386482\n",
      "bestIteration = 1784\n",
      "\n",
      "Stopped by overfitting detector  (200 iterations wait)\n",
      "\n",
      "bestTest = 0.3660727925\n",
      "bestIteration = 1465\n",
      "\n",
      "Stopped by overfitting detector  (200 iterations wait)\n",
      "\n",
      "bestTest = 0.3674686393\n",
      "bestIteration = 821\n",
      "\n",
      "Stopped by overfitting detector  (200 iterations wait)\n",
      "\n",
      "bestTest = 0.3770137551\n",
      "bestIteration = 1195\n",
      "\n",
      "Stopped by overfitting detector  (200 iterations wait)\n",
      "\n",
      "bestTest = 0.3755467947\n",
      "bestIteration = 1178\n",
      "\n",
      "Stopped by overfitting detector  (200 iterations wait)\n",
      "\n",
      "bestTest = 0.3748952668\n",
      "bestIteration = 805\n",
      "\n",
      "Stopped by overfitting detector  (200 iterations wait)\n",
      "\n",
      "bestTest = 0.3776733226\n",
      "bestIteration = 694\n",
      "\n",
      "Stopped by overfitting detector  (200 iterations wait)\n",
      "\n",
      "bestTest = 0.3833369113\n",
      "bestIteration = 426\n",
      "\n",
      "Stopped by overfitting detector  (200 iterations wait)\n",
      "\n",
      "bestTest = 0.3723776967\n",
      "bestIteration = 300\n",
      "\n",
      "Stopped by overfitting detector  (200 iterations wait)\n",
      "\n",
      "bestTest = 0.3749693709\n",
      "bestIteration = 1012\n",
      "\n",
      "Stopped by overfitting detector  (200 iterations wait)\n",
      "\n",
      "bestTest = 0.3736709706\n",
      "bestIteration = 736\n",
      "\n",
      "Stopped by overfitting detector  (200 iterations wait)\n",
      "\n",
      "bestTest = 0.387350322\n",
      "bestIteration = 399\n",
      "\n",
      "Stopped by overfitting detector  (200 iterations wait)\n",
      "\n",
      "bestTest = 0.378828602\n",
      "bestIteration = 1049\n",
      "\n",
      "Stopped by overfitting detector  (200 iterations wait)\n",
      "\n",
      "bestTest = 0.3808669378\n",
      "bestIteration = 512\n",
      "\n",
      "Stopped by overfitting detector  (200 iterations wait)\n",
      "\n",
      "bestTest = 0.3797753573\n",
      "bestIteration = 360\n",
      "\n",
      "Stopped by overfitting detector  (200 iterations wait)\n",
      "\n",
      "bestTest = 0.3781239215\n",
      "bestIteration = 789\n",
      "\n",
      "Stopped by overfitting detector  (200 iterations wait)\n",
      "\n",
      "bestTest = 0.3802501133\n",
      "bestIteration = 739\n",
      "\n",
      "Stopped by overfitting detector  (200 iterations wait)\n",
      "\n",
      "bestTest = 0.3757166246\n",
      "bestIteration = 542\n",
      "\n",
      "Stopped by overfitting detector  (200 iterations wait)\n",
      "\n",
      "bestTest = 0.3937219414\n",
      "bestIteration = 396\n",
      "\n",
      "Stopped by overfitting detector  (200 iterations wait)\n",
      "\n",
      "bestTest = 0.3953833658\n",
      "bestIteration = 276\n",
      "\n",
      "Stopped by overfitting detector  (200 iterations wait)\n",
      "\n",
      "bestTest = 0.3946687658\n",
      "bestIteration = 371\n",
      "\n",
      "Stopped by overfitting detector  (200 iterations wait)\n",
      "\n",
      "bestTest = 0.3910450197\n",
      "bestIteration = 317\n",
      "\n",
      "Stopped by overfitting detector  (200 iterations wait)\n",
      "\n",
      "bestTest = 0.394250926\n",
      "bestIteration = 276\n",
      "\n",
      "Stopped by overfitting detector  (200 iterations wait)\n",
      "\n",
      "bestTest = 0.3922914763\n",
      "bestIteration = 288\n",
      "\n",
      "Stopped by overfitting detector  (200 iterations wait)\n",
      "\n",
      "bestTest = 0.3853961388\n",
      "bestIteration = 618\n",
      "\n",
      "Stopped by overfitting detector  (200 iterations wait)\n",
      "\n",
      "bestTest = 0.3856855483\n",
      "bestIteration = 283\n",
      "\n",
      "Stopped by overfitting detector  (200 iterations wait)\n",
      "\n",
      "bestTest = 0.3908698432\n",
      "bestIteration = 322\n",
      "\n",
      "Stopped by overfitting detector  (200 iterations wait)\n",
      "\n",
      "bestTest = 0.3869366291\n",
      "bestIteration = 689\n",
      "\n",
      "Stopped by overfitting detector  (200 iterations wait)\n",
      "\n",
      "bestTest = 0.396976475\n",
      "bestIteration = 446\n",
      "\n",
      "Stopped by overfitting detector  (200 iterations wait)\n",
      "\n",
      "bestTest = 0.3823766536\n",
      "bestIteration = 469\n",
      "\n",
      "Training on fold [0/12]\n",
      "\n",
      "bestTest = 0.3226568353\n",
      "bestIteration = 1494\n",
      "\n",
      "Training on fold [1/12]\n",
      "\n",
      "bestTest = 0.3418488778\n",
      "bestIteration = 1022\n",
      "\n",
      "Training on fold [2/12]\n",
      "\n",
      "bestTest = 0.3551498146\n",
      "bestIteration = 1030\n",
      "\n",
      "Training on fold [3/12]\n",
      "\n",
      "bestTest = 0.3242924405\n",
      "bestIteration = 921\n",
      "\n",
      "Training on fold [4/12]\n",
      "\n",
      "bestTest = 0.3285120483\n",
      "bestIteration = 1510\n",
      "\n",
      "Training on fold [5/12]\n",
      "\n",
      "bestTest = 0.3321641767\n",
      "bestIteration = 1084\n",
      "\n",
      "Training on fold [6/12]\n",
      "\n",
      "bestTest = 0.3274635563\n",
      "bestIteration = 886\n",
      "\n",
      "Training on fold [7/12]\n",
      "\n",
      "bestTest = 0.2969072949\n",
      "bestIteration = 880\n",
      "\n",
      "Training on fold [8/12]\n",
      "\n",
      "bestTest = 0.3438741024\n",
      "bestIteration = 1558\n",
      "\n",
      "Training on fold [9/12]\n",
      "\n",
      "bestTest = 0.3881612233\n",
      "bestIteration = 1319\n",
      "\n",
      "Training on fold [10/12]\n",
      "\n",
      "bestTest = 0.3076545332\n",
      "bestIteration = 1581\n",
      "\n",
      "Training on fold [11/12]\n",
      "\n",
      "bestTest = 0.3394391132\n",
      "bestIteration = 1177\n",
      "\n",
      "Cat Boost \n",
      "\n",
      "Лучший Logloss на кросс валидации:  0.336\n"
     ]
    },
    {
     "data": {
      "text/plain": [
       "'Гиперпараметры лучшего результата'"
      ]
     },
     "metadata": {},
     "output_type": "display_data"
    },
    {
     "data": {
      "text/plain": [
       "{'depth': 2, 'l2_leaf_reg': 1, 'learning_rate': 0.15}"
      ]
     },
     "metadata": {},
     "output_type": "display_data"
    },
    {
     "name": "stdout",
     "output_type": "stream",
     "text": [
      "iterations:  1475 \n",
      "\n",
      "thresholds:  0.4463893747021972 \n",
      "\n",
      "train предсказание ROC_AUC:  0.919 const:  0.5\n",
      "train предсказание Accuracy:  0.919 const:  0.736\n",
      "train предсказание F1_score:  0.857 const:  0.0\n",
      "CPU times: total: 26min 56s\n",
      "Wall time: 2min 51s\n"
     ]
    }
   ],
   "source": [
    "%%time\n",
    "\n",
    "cat_model(X_train, y_train, 2)"
   ]
  },
  {
   "cell_type": "markdown",
   "metadata": {},
   "source": [
    "### downsampling"
   ]
  },
  {
   "cell_type": "markdown",
   "metadata": {},
   "source": [
    "* Используем downsampling и проверим метрики"
   ]
  },
  {
   "cell_type": "code",
   "execution_count": 119,
   "metadata": {},
   "outputs": [],
   "source": [
    "# downsampling функция\n",
    "def downsample(features, target, fraction):\n",
    "    features_zeros = features[target == 0]\n",
    "    features_ones = features[target == 1]\n",
    "    target_zeros = target[target == 0]\n",
    "    target_ones = target[target == 1]\n",
    "\n",
    "    features_downsampled = pd.concat(\n",
    "        [features_zeros.sample(frac=fraction, random_state=290822)] + [features_ones])\n",
    "    target_downsampled = pd.concat(\n",
    "        [target_zeros.sample(frac=fraction, random_state=290822)] + [target_ones])\n",
    "    \n",
    "    features_downsampled, target_downsampled = shuffle(\n",
    "        features_downsampled, target_downsampled, random_state=290822)\n",
    "    \n",
    "    return features_downsampled, target_downsampled"
   ]
  },
  {
   "cell_type": "code",
   "execution_count": 120,
   "metadata": {},
   "outputs": [
    {
     "name": "stdout",
     "output_type": "stream",
     "text": [
      "Получившиеся выборки:\n",
      "X_train_down:  2794\n",
      "y_train_down:  2794\n"
     ]
    }
   ],
   "source": [
    "X_train_down, y_train_down = downsample(X_train, y_train, 0.36)\n",
    "\n",
    "print('Получившиеся выборки:')\n",
    "print('X_train_down: ', len(X_train_down))\n",
    "print('y_train_down: ', len(y_train_down))"
   ]
  },
  {
   "cell_type": "code",
   "execution_count": 121,
   "metadata": {},
   "outputs": [
    {
     "name": "stdout",
     "output_type": "stream",
     "text": [
      "0    0.5011\n",
      "1    0.4989\n",
      "Name: term_contract, dtype: float64\n"
     ]
    },
    {
     "data": {
      "image/png": "[encoded data removed]",
      "text/plain": [
       "<Figure size 432x288 with 1 Axes>"
      ]
     },
     "metadata": {
      "needs_background": "light"
     },
     "output_type": "display_data"
    }
   ],
   "source": [
    "frequens(y_train_down, 0, 'y_train_down')"
   ]
  },
  {
   "cell_type": "markdown",
   "metadata": {},
   "source": [
    "#### RandomForestClassifier"
   ]
  },
  {
   "cell_type": "code",
   "execution_count": 122,
   "metadata": {},
   "outputs": [
    {
     "name": "stdout",
     "output_type": "stream",
     "text": [
      "\n",
      "\n",
      "Random Forest Classifier \n",
      "\n",
      "Лучший score на кросс валидации:  0.857\n",
      "\n",
      "\n"
     ]
    },
    {
     "data": {
      "text/plain": [
       "'Лучшие гиперпараметры: '"
      ]
     },
     "metadata": {},
     "output_type": "display_data"
    },
    {
     "data": {
      "text/plain": [
       "{'max_depth': 8,\n",
       " 'min_samples_leaf': 1,\n",
       " 'min_samples_split': 6,\n",
       " 'n_estimators': 230}"
      ]
     },
     "metadata": {},
     "output_type": "display_data"
    },
    {
     "name": "stdout",
     "output_type": "stream",
     "text": [
      "train предсказание ROC_AUC:  0.834 const:  0.5\n",
      "train предсказание Accuracy:  0.834 const:  0.736\n",
      "train предсказание F1_score:  0.838 const:  0.0\n",
      "CPU times: total: 4.53 s\n",
      "Wall time: 1min 40s\n"
     ]
    }
   ],
   "source": [
    "%%time\n",
    "\n",
    "rfr_model(X_train_down, y_train_down)"
   ]
  },
  {
   "cell_type": "markdown",
   "metadata": {},
   "source": [
    "#### CatBoost"
   ]
  },
  {
   "cell_type": "code",
   "execution_count": 123,
   "metadata": {},
   "outputs": [
    {
     "name": "stdout",
     "output_type": "stream",
     "text": [
      "Stopped by overfitting detector  (200 iterations wait)\n",
      "\n",
      "bestTest = 0.4297086023\n",
      "bestIteration = 1874\n",
      "\n",
      "Stopped by overfitting detector  (200 iterations wait)\n",
      "\n",
      "bestTest = 0.425647361\n",
      "bestIteration = 3191\n",
      "\n",
      "Stopped by overfitting detector  (200 iterations wait)\n",
      "\n",
      "bestTest = 0.4274017901\n",
      "bestIteration = 2095\n",
      "\n",
      "Stopped by overfitting detector  (200 iterations wait)\n",
      "\n",
      "bestTest = 0.4299509355\n",
      "bestIteration = 2181\n",
      "\n",
      "Stopped by overfitting detector  (200 iterations wait)\n",
      "\n",
      "bestTest = 0.4278482558\n",
      "bestIteration = 2301\n",
      "\n",
      "Stopped by overfitting detector  (200 iterations wait)\n",
      "\n",
      "bestTest = 0.4264163399\n",
      "bestIteration = 2221\n",
      "\n",
      "Stopped by overfitting detector  (200 iterations wait)\n",
      "\n",
      "bestTest = 0.4264529753\n",
      "bestIteration = 3693\n",
      "\n",
      "Stopped by overfitting detector  (200 iterations wait)\n",
      "\n",
      "bestTest = 0.4261557008\n",
      "bestIteration = 2872\n",
      "\n",
      "Stopped by overfitting detector  (200 iterations wait)\n",
      "\n",
      "bestTest = 0.4254050223\n",
      "bestIteration = 2010\n",
      "\n",
      "Stopped by overfitting detector  (200 iterations wait)\n",
      "\n",
      "bestTest = 0.4280766845\n",
      "bestIteration = 2614\n",
      "\n",
      "Stopped by overfitting detector  (200 iterations wait)\n",
      "\n",
      "bestTest = 0.4279118645\n",
      "bestIteration = 1748\n",
      "\n",
      "Stopped by overfitting detector  (200 iterations wait)\n",
      "\n",
      "bestTest = 0.4249550868\n",
      "bestIteration = 3211\n",
      "\n",
      "Stopped by overfitting detector  (200 iterations wait)\n",
      "\n",
      "bestTest = 0.3873368908\n",
      "bestIteration = 952\n",
      "\n",
      "Stopped by overfitting detector  (200 iterations wait)\n",
      "\n",
      "bestTest = 0.3804522394\n",
      "bestIteration = 738\n",
      "\n",
      "Stopped by overfitting detector  (200 iterations wait)\n",
      "\n",
      "bestTest = 0.3822140238\n",
      "bestIteration = 603\n",
      "\n",
      "Stopped by overfitting detector  (200 iterations wait)\n",
      "\n",
      "bestTest = 0.3865687202\n",
      "bestIteration = 1091\n",
      "\n",
      "Stopped by overfitting detector  (200 iterations wait)\n",
      "\n",
      "bestTest = 0.3875695735\n",
      "bestIteration = 524\n",
      "\n",
      "Stopped by overfitting detector  (200 iterations wait)\n",
      "\n",
      "bestTest = 0.3831369841\n",
      "bestIteration = 617\n",
      "\n",
      "Stopped by overfitting detector  (200 iterations wait)\n",
      "\n",
      "bestTest = 0.391961417\n",
      "bestIteration = 1299\n",
      "\n",
      "Stopped by overfitting detector  (200 iterations wait)\n",
      "\n",
      "bestTest = 0.3851213889\n",
      "bestIteration = 1104\n",
      "\n",
      "Stopped by overfitting detector  (200 iterations wait)\n",
      "\n",
      "bestTest = 0.383294725\n",
      "bestIteration = 625\n",
      "\n",
      "Stopped by overfitting detector  (200 iterations wait)\n",
      "\n",
      "bestTest = 0.4023149669\n",
      "bestIteration = 970\n",
      "\n",
      "Stopped by overfitting detector  (200 iterations wait)\n",
      "\n",
      "bestTest = 0.3848007117\n",
      "bestIteration = 1228\n",
      "\n",
      "Stopped by overfitting detector  (200 iterations wait)\n",
      "\n",
      "bestTest = 0.3806806631\n",
      "bestIteration = 649\n",
      "\n",
      "Stopped by overfitting detector  (200 iterations wait)\n",
      "\n",
      "bestTest = 0.3886390288\n",
      "bestIteration = 591\n",
      "\n",
      "Stopped by overfitting detector  (200 iterations wait)\n",
      "\n",
      "bestTest = 0.403025621\n",
      "bestIteration = 376\n",
      "\n",
      "Stopped by overfitting detector  (200 iterations wait)\n",
      "\n",
      "bestTest = 0.3833665237\n",
      "bestIteration = 369\n",
      "\n",
      "Stopped by overfitting detector  (200 iterations wait)\n",
      "\n",
      "bestTest = 0.395588699\n",
      "bestIteration = 615\n",
      "\n",
      "Stopped by overfitting detector  (200 iterations wait)\n",
      "\n",
      "bestTest = 0.384746909\n",
      "bestIteration = 469\n",
      "\n",
      "Stopped by overfitting detector  (200 iterations wait)\n",
      "\n",
      "bestTest = 0.3954099435\n",
      "bestIteration = 262\n",
      "\n",
      "Stopped by overfitting detector  (200 iterations wait)\n",
      "\n",
      "bestTest = 0.3868790286\n",
      "bestIteration = 765\n",
      "\n",
      "Stopped by overfitting detector  (200 iterations wait)\n",
      "\n",
      "bestTest = 0.3957993113\n",
      "bestIteration = 421\n",
      "\n",
      "Stopped by overfitting detector  (200 iterations wait)\n",
      "\n",
      "bestTest = 0.3923735425\n",
      "bestIteration = 307\n",
      "\n",
      "Stopped by overfitting detector  (200 iterations wait)\n",
      "\n",
      "bestTest = 0.3875490803\n",
      "bestIteration = 788\n",
      "\n",
      "Stopped by overfitting detector  (200 iterations wait)\n",
      "\n",
      "bestTest = 0.3920629836\n",
      "bestIteration = 462\n",
      "\n",
      "Stopped by overfitting detector  (200 iterations wait)\n",
      "\n",
      "bestTest = 0.3890809925\n",
      "bestIteration = 303\n",
      "\n",
      "Stopped by overfitting detector  (200 iterations wait)\n",
      "\n",
      "bestTest = 0.4000926475\n",
      "bestIteration = 279\n",
      "\n",
      "Stopped by overfitting detector  (200 iterations wait)\n",
      "\n",
      "bestTest = 0.4133063211\n",
      "bestIteration = 295\n",
      "\n",
      "Stopped by overfitting detector  (200 iterations wait)\n",
      "\n",
      "bestTest = 0.4031082824\n",
      "bestIteration = 92\n",
      "\n",
      "Stopped by overfitting detector  (200 iterations wait)\n",
      "\n",
      "bestTest = 0.3985443769\n",
      "bestIteration = 415\n",
      "\n",
      "Stopped by overfitting detector  (200 iterations wait)\n",
      "\n",
      "bestTest = 0.3915667337\n",
      "bestIteration = 382\n",
      "\n",
      "Stopped by overfitting detector  (200 iterations wait)\n",
      "\n",
      "bestTest = 0.4039226581\n",
      "bestIteration = 201\n",
      "\n",
      "Stopped by overfitting detector  (200 iterations wait)\n",
      "\n",
      "bestTest = 0.4073640929\n",
      "bestIteration = 280\n",
      "\n",
      "Stopped by overfitting detector  (200 iterations wait)\n",
      "\n",
      "bestTest = 0.3961746184\n",
      "bestIteration = 272\n",
      "\n",
      "Stopped by overfitting detector  (200 iterations wait)\n",
      "\n",
      "bestTest = 0.3962187227\n",
      "bestIteration = 184\n",
      "\n",
      "Stopped by overfitting detector  (200 iterations wait)\n",
      "\n",
      "bestTest = 0.4018514623\n",
      "bestIteration = 426\n",
      "\n",
      "Stopped by overfitting detector  (200 iterations wait)\n",
      "\n",
      "bestTest = 0.4069161738\n",
      "bestIteration = 345\n",
      "\n",
      "Stopped by overfitting detector  (200 iterations wait)\n",
      "\n",
      "bestTest = 0.4024820654\n",
      "bestIteration = 243\n",
      "\n",
      "Training on fold [0/12]\n",
      "\n",
      "bestTest = 0.429962777\n",
      "bestIteration = 485\n",
      "\n",
      "Training on fold [1/12]\n",
      "\n",
      "bestTest = 0.3809229931\n",
      "bestIteration = 1142\n",
      "\n",
      "Training on fold [2/12]\n",
      "\n",
      "bestTest = 0.3829971724\n",
      "bestIteration = 1244\n",
      "\n",
      "Training on fold [3/12]\n",
      "\n",
      "bestTest = 0.3339857\n",
      "bestIteration = 1043\n",
      "\n",
      "Training on fold [4/12]\n",
      "\n",
      "bestTest = 0.4322729123\n",
      "bestIteration = 1071\n",
      "\n",
      "Training on fold [5/12]\n",
      "\n",
      "bestTest = 0.3660569574\n",
      "bestIteration = 1105\n",
      "\n",
      "Training on fold [6/12]\n",
      "\n",
      "bestTest = 0.3910907493\n",
      "bestIteration = 966\n",
      "\n",
      "Training on fold [7/12]\n",
      "\n",
      "bestTest = 0.4441763618\n",
      "bestIteration = 886\n",
      "\n",
      "Training on fold [8/12]\n",
      "\n",
      "bestTest = 0.3626094968\n",
      "bestIteration = 763\n",
      "\n",
      "Training on fold [9/12]\n",
      "\n",
      "bestTest = 0.3518182546\n",
      "bestIteration = 1327\n",
      "\n",
      "Training on fold [10/12]\n",
      "\n",
      "bestTest = 0.3456396339\n",
      "bestIteration = 1100\n",
      "\n",
      "Training on fold [11/12]\n",
      "\n",
      "bestTest = 0.3496459688\n",
      "bestIteration = 2020\n",
      "\n",
      "Cat Boost \n",
      "\n",
      "Лучший Logloss на кросс валидации:  0.385\n"
     ]
    },
    {
     "data": {
      "text/plain": [
       "'Гиперпараметры лучшего результата'"
      ]
     },
     "metadata": {},
     "output_type": "display_data"
    },
    {
     "data": {
      "text/plain": [
       "{'depth': 2, 'l2_leaf_reg': 1, 'learning_rate': 0.15}"
      ]
     },
     "metadata": {},
     "output_type": "display_data"
    },
    {
     "name": "stdout",
     "output_type": "stream",
     "text": [
      "iterations:  1100 \n",
      "\n",
      "thresholds:  0.49193121286773966 \n",
      "\n",
      "train предсказание ROC_AUC:  0.919 const:  0.5\n",
      "train предсказание Accuracy:  0.919 const:  0.736\n",
      "train предсказание F1_score:  0.919 const:  0.0\n",
      "CPU times: total: 15min 57s\n",
      "Wall time: 1min 41s\n"
     ]
    }
   ],
   "source": [
    "%%time\n",
    "\n",
    "cat_model(X_train_down, y_train_down)"
   ]
  },
  {
   "cell_type": "markdown",
   "metadata": {},
   "source": [
    "### feature_importance"
   ]
  },
  {
   "cell_type": "markdown",
   "metadata": {},
   "source": [
    "Воспользуемся методами моделей, чтобы изучить важность признаков в наших моделях."
   ]
  },
  {
   "cell_type": "code",
   "execution_count": 124,
   "metadata": {},
   "outputs": [
    {
     "data": {
      "image/png": "[encoded data removed]",
      "text/plain": [
       "<Figure size 720x504 with 1 Axes>"
      ]
     },
     "metadata": {
      "needs_background": "light"
     },
     "output_type": "display_data"
    }
   ],
   "source": [
    "feature_names = X_train.columns \n",
    "model = RandomForestClassifier(n_estimators=200, \n",
    "                            random_state=290822,\n",
    "                            criterion='log_loss',\n",
    "                            max_depth=8,\n",
    "                            min_samples_leaf=1,\n",
    "                            min_samples_split=4)\n",
    "model.fit(X_train, y_train)\n",
    "pred = model.predict(X_test)\n",
    "importances = model.feature_importances_\n",
    "model_importances = pd.DataFrame(importances, index=feature_names)\n",
    "\n",
    "std = np.std([model.feature_importances_ for tree in str(1000)], axis=0)\n",
    "\n",
    "fig, ax = plt.subplots(figsize=(10,7))\n",
    "model_importances.plot.bar(yerr=std, ax=ax)\n",
    "ax.set_title(\"Feature importances\")\n",
    "ax.set_ylabel(\"Mean decrease in impurity\")\n",
    "fig.tight_layout()"
   ]
  },
  {
   "cell_type": "markdown",
   "metadata": {},
   "source": [
    "Выведем таблицей"
   ]
  },
  {
   "cell_type": "code",
   "execution_count": 125,
   "metadata": {},
   "outputs": [
    {
     "data": {
      "text/html": [
       "<div>\n",
       "<style scoped>\n",
       "    .dataframe tbody tr th:only-of-type {\n",
       "        vertical-align: middle;\n",
       "    }\n",
       "\n",
       "    .dataframe tbody tr th {\n",
       "        vertical-align: top;\n",
       "    }\n",
       "\n",
       "    .dataframe thead th {\n",
       "        text-align: right;\n",
       "    }\n",
       "</style>\n",
       "<table border=\"1\" class=\"dataframe\">\n",
       "  <thead>\n",
       "    <tr style=\"text-align: right;\">\n",
       "      <th></th>\n",
       "      <th>0</th>\n",
       "    </tr>\n",
       "  </thead>\n",
       "  <tbody>\n",
       "    <tr>\n",
       "      <th>lifetime_contract</th>\n",
       "      <td>0.240724</td>\n",
       "    </tr>\n",
       "    <tr>\n",
       "      <th>total_charges</th>\n",
       "      <td>0.143464</td>\n",
       "    </tr>\n",
       "    <tr>\n",
       "      <th>type_Two year</th>\n",
       "      <td>0.106125</td>\n",
       "    </tr>\n",
       "    <tr>\n",
       "      <th>monthly_charges</th>\n",
       "      <td>0.103900</td>\n",
       "    </tr>\n",
       "    <tr>\n",
       "      <th>internet_service_Fiber optic</th>\n",
       "      <td>0.089772</td>\n",
       "    </tr>\n",
       "    <tr>\n",
       "      <th>payment_method_Electronic check</th>\n",
       "      <td>0.066567</td>\n",
       "    </tr>\n",
       "    <tr>\n",
       "      <th>type_One year</th>\n",
       "      <td>0.044401</td>\n",
       "    </tr>\n",
       "    <tr>\n",
       "      <th>internet_service_No</th>\n",
       "      <td>0.030951</td>\n",
       "    </tr>\n",
       "    <tr>\n",
       "      <th>tech_support_Yes</th>\n",
       "      <td>0.022448</td>\n",
       "    </tr>\n",
       "    <tr>\n",
       "      <th>online_security_Yes</th>\n",
       "      <td>0.019583</td>\n",
       "    </tr>\n",
       "    <tr>\n",
       "      <th>paperless_billing_Yes</th>\n",
       "      <td>0.018838</td>\n",
       "    </tr>\n",
       "    <tr>\n",
       "      <th>senior_citizen</th>\n",
       "      <td>0.012373</td>\n",
       "    </tr>\n",
       "    <tr>\n",
       "      <th>online_backup_Yes</th>\n",
       "      <td>0.012051</td>\n",
       "    </tr>\n",
       "    <tr>\n",
       "      <th>dependents_Yes</th>\n",
       "      <td>0.011671</td>\n",
       "    </tr>\n",
       "    <tr>\n",
       "      <th>multiple_lines_Yes</th>\n",
       "      <td>0.010903</td>\n",
       "    </tr>\n",
       "    <tr>\n",
       "      <th>streaming_movies_Yes</th>\n",
       "      <td>0.010685</td>\n",
       "    </tr>\n",
       "    <tr>\n",
       "      <th>partner_Yes</th>\n",
       "      <td>0.009489</td>\n",
       "    </tr>\n",
       "    <tr>\n",
       "      <th>payment_method_Mailed check</th>\n",
       "      <td>0.009226</td>\n",
       "    </tr>\n",
       "    <tr>\n",
       "      <th>streaming_tv_Yes</th>\n",
       "      <td>0.009052</td>\n",
       "    </tr>\n",
       "    <tr>\n",
       "      <th>gender_Male</th>\n",
       "      <td>0.008133</td>\n",
       "    </tr>\n",
       "    <tr>\n",
       "      <th>device_protection_Yes</th>\n",
       "      <td>0.007747</td>\n",
       "    </tr>\n",
       "    <tr>\n",
       "      <th>payment_method_Credit card (automatic)</th>\n",
       "      <td>0.006280</td>\n",
       "    </tr>\n",
       "    <tr>\n",
       "      <th>one_line_Yes</th>\n",
       "      <td>0.005618</td>\n",
       "    </tr>\n",
       "  </tbody>\n",
       "</table>\n",
       "</div>"
      ],
      "text/plain": [
       "                                               0\n",
       "lifetime_contract                       0.240724\n",
       "total_charges                           0.143464\n",
       "type_Two year                           0.106125\n",
       "monthly_charges                         0.103900\n",
       "internet_service_Fiber optic            0.089772\n",
       "payment_method_Electronic check         0.066567\n",
       "type_One year                           0.044401\n",
       "internet_service_No                     0.030951\n",
       "tech_support_Yes                        0.022448\n",
       "online_security_Yes                     0.019583\n",
       "paperless_billing_Yes                   0.018838\n",
       "senior_citizen                          0.012373\n",
       "online_backup_Yes                       0.012051\n",
       "dependents_Yes                          0.011671\n",
       "multiple_lines_Yes                      0.010903\n",
       "streaming_movies_Yes                    0.010685\n",
       "partner_Yes                             0.009489\n",
       "payment_method_Mailed check             0.009226\n",
       "streaming_tv_Yes                        0.009052\n",
       "gender_Male                             0.008133\n",
       "device_protection_Yes                   0.007747\n",
       "payment_method_Credit card (automatic)  0.006280\n",
       "one_line_Yes                            0.005618"
      ]
     },
     "execution_count": 125,
     "metadata": {},
     "output_type": "execute_result"
    }
   ],
   "source": [
    "rfr_imp = model_importances.sort_values(by=0, ascending=False)\n",
    "rfr_imp"
   ]
  },
  {
   "cell_type": "markdown",
   "metadata": {},
   "source": [
    "Сделаем то же самое в `CatBoost`."
   ]
  },
  {
   "cell_type": "code",
   "execution_count": 126,
   "metadata": {},
   "outputs": [
    {
     "data": {
      "text/html": [
       "<div>\n",
       "<style scoped>\n",
       "    .dataframe tbody tr th:only-of-type {\n",
       "        vertical-align: middle;\n",
       "    }\n",
       "\n",
       "    .dataframe tbody tr th {\n",
       "        vertical-align: top;\n",
       "    }\n",
       "\n",
       "    .dataframe thead th {\n",
       "        text-align: right;\n",
       "    }\n",
       "</style>\n",
       "<table border=\"1\" class=\"dataframe\">\n",
       "  <thead>\n",
       "    <tr style=\"text-align: right;\">\n",
       "      <th></th>\n",
       "      <th>Feature Id</th>\n",
       "      <th>Importances</th>\n",
       "    </tr>\n",
       "  </thead>\n",
       "  <tbody>\n",
       "    <tr>\n",
       "      <th>0</th>\n",
       "      <td>lifetime_contract</td>\n",
       "      <td>74.537029</td>\n",
       "    </tr>\n",
       "    <tr>\n",
       "      <th>1</th>\n",
       "      <td>total_charges</td>\n",
       "      <td>6.882025</td>\n",
       "    </tr>\n",
       "    <tr>\n",
       "      <th>2</th>\n",
       "      <td>monthly_charges</td>\n",
       "      <td>6.626509</td>\n",
       "    </tr>\n",
       "    <tr>\n",
       "      <th>3</th>\n",
       "      <td>type_Two year</td>\n",
       "      <td>3.982592</td>\n",
       "    </tr>\n",
       "    <tr>\n",
       "      <th>4</th>\n",
       "      <td>internet_service_No</td>\n",
       "      <td>1.204864</td>\n",
       "    </tr>\n",
       "    <tr>\n",
       "      <th>5</th>\n",
       "      <td>type_One year</td>\n",
       "      <td>1.073254</td>\n",
       "    </tr>\n",
       "    <tr>\n",
       "      <th>6</th>\n",
       "      <td>internet_service_Fiber optic</td>\n",
       "      <td>0.821432</td>\n",
       "    </tr>\n",
       "    <tr>\n",
       "      <th>7</th>\n",
       "      <td>payment_method_Mailed check</td>\n",
       "      <td>0.629525</td>\n",
       "    </tr>\n",
       "    <tr>\n",
       "      <th>8</th>\n",
       "      <td>online_security_Yes</td>\n",
       "      <td>0.435371</td>\n",
       "    </tr>\n",
       "    <tr>\n",
       "      <th>9</th>\n",
       "      <td>tech_support_Yes</td>\n",
       "      <td>0.409615</td>\n",
       "    </tr>\n",
       "    <tr>\n",
       "      <th>10</th>\n",
       "      <td>payment_method_Credit card (automatic)</td>\n",
       "      <td>0.386552</td>\n",
       "    </tr>\n",
       "    <tr>\n",
       "      <th>11</th>\n",
       "      <td>paperless_billing_Yes</td>\n",
       "      <td>0.374408</td>\n",
       "    </tr>\n",
       "    <tr>\n",
       "      <th>12</th>\n",
       "      <td>senior_citizen</td>\n",
       "      <td>0.329802</td>\n",
       "    </tr>\n",
       "    <tr>\n",
       "      <th>13</th>\n",
       "      <td>device_protection_Yes</td>\n",
       "      <td>0.315648</td>\n",
       "    </tr>\n",
       "    <tr>\n",
       "      <th>14</th>\n",
       "      <td>payment_method_Electronic check</td>\n",
       "      <td>0.278270</td>\n",
       "    </tr>\n",
       "    <tr>\n",
       "      <th>15</th>\n",
       "      <td>multiple_lines_Yes</td>\n",
       "      <td>0.276894</td>\n",
       "    </tr>\n",
       "    <tr>\n",
       "      <th>16</th>\n",
       "      <td>gender_Male</td>\n",
       "      <td>0.272026</td>\n",
       "    </tr>\n",
       "    <tr>\n",
       "      <th>17</th>\n",
       "      <td>dependents_Yes</td>\n",
       "      <td>0.250716</td>\n",
       "    </tr>\n",
       "    <tr>\n",
       "      <th>18</th>\n",
       "      <td>streaming_movies_Yes</td>\n",
       "      <td>0.241962</td>\n",
       "    </tr>\n",
       "    <tr>\n",
       "      <th>19</th>\n",
       "      <td>one_line_Yes</td>\n",
       "      <td>0.225395</td>\n",
       "    </tr>\n",
       "    <tr>\n",
       "      <th>20</th>\n",
       "      <td>streaming_tv_Yes</td>\n",
       "      <td>0.173809</td>\n",
       "    </tr>\n",
       "    <tr>\n",
       "      <th>21</th>\n",
       "      <td>partner_Yes</td>\n",
       "      <td>0.154805</td>\n",
       "    </tr>\n",
       "    <tr>\n",
       "      <th>22</th>\n",
       "      <td>online_backup_Yes</td>\n",
       "      <td>0.117497</td>\n",
       "    </tr>\n",
       "  </tbody>\n",
       "</table>\n",
       "</div>"
      ],
      "text/plain": [
       "                                Feature Id  Importances\n",
       "0                        lifetime_contract    74.537029\n",
       "1                            total_charges     6.882025\n",
       "2                          monthly_charges     6.626509\n",
       "3                            type_Two year     3.982592\n",
       "4                      internet_service_No     1.204864\n",
       "5                            type_One year     1.073254\n",
       "6             internet_service_Fiber optic     0.821432\n",
       "7              payment_method_Mailed check     0.629525\n",
       "8                      online_security_Yes     0.435371\n",
       "9                         tech_support_Yes     0.409615\n",
       "10  payment_method_Credit card (automatic)     0.386552\n",
       "11                   paperless_billing_Yes     0.374408\n",
       "12                          senior_citizen     0.329802\n",
       "13                   device_protection_Yes     0.315648\n",
       "14         payment_method_Electronic check     0.278270\n",
       "15                      multiple_lines_Yes     0.276894\n",
       "16                             gender_Male     0.272026\n",
       "17                          dependents_Yes     0.250716\n",
       "18                    streaming_movies_Yes     0.241962\n",
       "19                            one_line_Yes     0.225395\n",
       "20                        streaming_tv_Yes     0.173809\n",
       "21                             partner_Yes     0.154805\n",
       "22                       online_backup_Yes     0.117497"
      ]
     },
     "execution_count": 126,
     "metadata": {},
     "output_type": "execute_result"
    }
   ],
   "source": [
    "cat_train = Pool(data=X_train, label=y_train)\n",
    "cat_test = Pool(data=X_test, label=y_test)\n",
    "\n",
    "params = {'eval_metric': 'Logloss',\n",
    "        'loss_function': 'Logloss',\n",
    "        'learning_rate': 0.18,\n",
    "        'depth': 2,\n",
    "        'random_seed': 290822,\n",
    "        'l2_leaf_reg': 1,\n",
    "        'random_strength': 290822,\n",
    "        'scale_pos_weight': 1,\n",
    "        'iterations': 1442,\n",
    "        'verbose':False}\n",
    "\n",
    "cat = CatBoostClassifier(**params)\n",
    "cat.fit(cat_train)\n",
    "\n",
    "cat.set_probability_threshold(0.30807928051582556)\n",
    "\n",
    "cat.get_feature_importance(data=cat_train,\n",
    "                       prettified=True)"
   ]
  },
  {
   "cell_type": "markdown",
   "metadata": {},
   "source": [
    "Сравним."
   ]
  },
  {
   "cell_type": "code",
   "execution_count": 127,
   "metadata": {},
   "outputs": [
    {
     "data": {
      "text/html": [
       "<div>\n",
       "<style scoped>\n",
       "    .dataframe tbody tr th:only-of-type {\n",
       "        vertical-align: middle;\n",
       "    }\n",
       "\n",
       "    .dataframe tbody tr th {\n",
       "        vertical-align: top;\n",
       "    }\n",
       "\n",
       "    .dataframe thead th {\n",
       "        text-align: right;\n",
       "    }\n",
       "</style>\n",
       "<table border=\"1\" class=\"dataframe\">\n",
       "  <thead>\n",
       "    <tr style=\"text-align: right;\">\n",
       "      <th></th>\n",
       "      <th>Feature Id</th>\n",
       "      <th>Importances</th>\n",
       "      <th>0</th>\n",
       "    </tr>\n",
       "  </thead>\n",
       "  <tbody>\n",
       "    <tr>\n",
       "      <th>0</th>\n",
       "      <td>lifetime_contract</td>\n",
       "      <td>74.537029</td>\n",
       "      <td>0.240724</td>\n",
       "    </tr>\n",
       "    <tr>\n",
       "      <th>1</th>\n",
       "      <td>total_charges</td>\n",
       "      <td>6.882025</td>\n",
       "      <td>0.143464</td>\n",
       "    </tr>\n",
       "    <tr>\n",
       "      <th>2</th>\n",
       "      <td>monthly_charges</td>\n",
       "      <td>6.626509</td>\n",
       "      <td>0.103900</td>\n",
       "    </tr>\n",
       "    <tr>\n",
       "      <th>3</th>\n",
       "      <td>type_Two year</td>\n",
       "      <td>3.982592</td>\n",
       "      <td>0.106125</td>\n",
       "    </tr>\n",
       "    <tr>\n",
       "      <th>4</th>\n",
       "      <td>internet_service_No</td>\n",
       "      <td>1.204864</td>\n",
       "      <td>0.030951</td>\n",
       "    </tr>\n",
       "    <tr>\n",
       "      <th>5</th>\n",
       "      <td>type_One year</td>\n",
       "      <td>1.073254</td>\n",
       "      <td>0.044401</td>\n",
       "    </tr>\n",
       "    <tr>\n",
       "      <th>6</th>\n",
       "      <td>internet_service_Fiber optic</td>\n",
       "      <td>0.821432</td>\n",
       "      <td>0.089772</td>\n",
       "    </tr>\n",
       "    <tr>\n",
       "      <th>7</th>\n",
       "      <td>payment_method_Mailed check</td>\n",
       "      <td>0.629525</td>\n",
       "      <td>0.009226</td>\n",
       "    </tr>\n",
       "    <tr>\n",
       "      <th>8</th>\n",
       "      <td>online_security_Yes</td>\n",
       "      <td>0.435371</td>\n",
       "      <td>0.019583</td>\n",
       "    </tr>\n",
       "    <tr>\n",
       "      <th>9</th>\n",
       "      <td>tech_support_Yes</td>\n",
       "      <td>0.409615</td>\n",
       "      <td>0.022448</td>\n",
       "    </tr>\n",
       "    <tr>\n",
       "      <th>10</th>\n",
       "      <td>payment_method_Credit card (automatic)</td>\n",
       "      <td>0.386552</td>\n",
       "      <td>0.006280</td>\n",
       "    </tr>\n",
       "    <tr>\n",
       "      <th>11</th>\n",
       "      <td>paperless_billing_Yes</td>\n",
       "      <td>0.374408</td>\n",
       "      <td>0.018838</td>\n",
       "    </tr>\n",
       "    <tr>\n",
       "      <th>12</th>\n",
       "      <td>senior_citizen</td>\n",
       "      <td>0.329802</td>\n",
       "      <td>0.012373</td>\n",
       "    </tr>\n",
       "    <tr>\n",
       "      <th>13</th>\n",
       "      <td>device_protection_Yes</td>\n",
       "      <td>0.315648</td>\n",
       "      <td>0.007747</td>\n",
       "    </tr>\n",
       "    <tr>\n",
       "      <th>14</th>\n",
       "      <td>payment_method_Electronic check</td>\n",
       "      <td>0.278270</td>\n",
       "      <td>0.066567</td>\n",
       "    </tr>\n",
       "    <tr>\n",
       "      <th>15</th>\n",
       "      <td>multiple_lines_Yes</td>\n",
       "      <td>0.276894</td>\n",
       "      <td>0.010903</td>\n",
       "    </tr>\n",
       "    <tr>\n",
       "      <th>16</th>\n",
       "      <td>gender_Male</td>\n",
       "      <td>0.272026</td>\n",
       "      <td>0.008133</td>\n",
       "    </tr>\n",
       "    <tr>\n",
       "      <th>17</th>\n",
       "      <td>dependents_Yes</td>\n",
       "      <td>0.250716</td>\n",
       "      <td>0.011671</td>\n",
       "    </tr>\n",
       "    <tr>\n",
       "      <th>18</th>\n",
       "      <td>streaming_movies_Yes</td>\n",
       "      <td>0.241962</td>\n",
       "      <td>0.010685</td>\n",
       "    </tr>\n",
       "    <tr>\n",
       "      <th>19</th>\n",
       "      <td>one_line_Yes</td>\n",
       "      <td>0.225395</td>\n",
       "      <td>0.005618</td>\n",
       "    </tr>\n",
       "    <tr>\n",
       "      <th>20</th>\n",
       "      <td>streaming_tv_Yes</td>\n",
       "      <td>0.173809</td>\n",
       "      <td>0.009052</td>\n",
       "    </tr>\n",
       "    <tr>\n",
       "      <th>21</th>\n",
       "      <td>partner_Yes</td>\n",
       "      <td>0.154805</td>\n",
       "      <td>0.009489</td>\n",
       "    </tr>\n",
       "    <tr>\n",
       "      <th>22</th>\n",
       "      <td>online_backup_Yes</td>\n",
       "      <td>0.117497</td>\n",
       "      <td>0.012051</td>\n",
       "    </tr>\n",
       "  </tbody>\n",
       "</table>\n",
       "</div>"
      ],
      "text/plain": [
       "                                Feature Id  Importances         0\n",
       "0                        lifetime_contract    74.537029  0.240724\n",
       "1                            total_charges     6.882025  0.143464\n",
       "2                          monthly_charges     6.626509  0.103900\n",
       "3                            type_Two year     3.982592  0.106125\n",
       "4                      internet_service_No     1.204864  0.030951\n",
       "5                            type_One year     1.073254  0.044401\n",
       "6             internet_service_Fiber optic     0.821432  0.089772\n",
       "7              payment_method_Mailed check     0.629525  0.009226\n",
       "8                      online_security_Yes     0.435371  0.019583\n",
       "9                         tech_support_Yes     0.409615  0.022448\n",
       "10  payment_method_Credit card (automatic)     0.386552  0.006280\n",
       "11                   paperless_billing_Yes     0.374408  0.018838\n",
       "12                          senior_citizen     0.329802  0.012373\n",
       "13                   device_protection_Yes     0.315648  0.007747\n",
       "14         payment_method_Electronic check     0.278270  0.066567\n",
       "15                      multiple_lines_Yes     0.276894  0.010903\n",
       "16                             gender_Male     0.272026  0.008133\n",
       "17                          dependents_Yes     0.250716  0.011671\n",
       "18                    streaming_movies_Yes     0.241962  0.010685\n",
       "19                            one_line_Yes     0.225395  0.005618\n",
       "20                        streaming_tv_Yes     0.173809  0.009052\n",
       "21                             partner_Yes     0.154805  0.009489\n",
       "22                       online_backup_Yes     0.117497  0.012051"
      ]
     },
     "execution_count": 127,
     "metadata": {},
     "output_type": "execute_result"
    }
   ],
   "source": [
    "cat.get_feature_importance(data=cat_train, prettified=True)\\\n",
    "            .merge(rfr_imp, left_on='Feature Id', right_index=True)"
   ]
  },
  {
   "cell_type": "markdown",
   "metadata": {},
   "source": [
    "В целом одинаково. Только `payment_method_Electronic check` у леса более важный признак, чем y буста."
   ]
  },
  {
   "cell_type": "markdown",
   "metadata": {},
   "source": [
    "Возьмем по 14 признак (более значимые по 2 моделям) и добавим `payment_method_Electronic check`. Обучим заново модели и посмотрим на метрики."
   ]
  },
  {
   "cell_type": "code",
   "execution_count": 128,
   "metadata": {},
   "outputs": [
    {
     "data": {
      "text/plain": [
       "'payment_method_Electronic check'"
      ]
     },
     "execution_count": 128,
     "metadata": {},
     "output_type": "execute_result"
    }
   ],
   "source": [
    "cat.get_feature_importance(data=cat_train,\n",
    "                       prettified=True).iloc[14]['Feature Id']"
   ]
  },
  {
   "cell_type": "code",
   "execution_count": 129,
   "metadata": {},
   "outputs": [
    {
     "data": {
      "text/plain": [
       "['lifetime_contract',\n",
       " 'total_charges',\n",
       " 'monthly_charges',\n",
       " 'type_Two year',\n",
       " 'internet_service_No',\n",
       " 'type_One year',\n",
       " 'internet_service_Fiber optic',\n",
       " 'payment_method_Mailed check',\n",
       " 'online_security_Yes',\n",
       " 'tech_support_Yes',\n",
       " 'payment_method_Credit card (automatic)',\n",
       " 'paperless_billing_Yes',\n",
       " 'senior_citizen',\n",
       " 'device_protection_Yes',\n",
       " 'payment_method_Electronic check']"
      ]
     },
     "execution_count": 129,
     "metadata": {},
     "output_type": "execute_result"
    }
   ],
   "source": [
    "f_imp = cat.get_feature_importance(data=cat_train,\n",
    "                       prettified=True).loc[:14, 'Feature Id'].to_list()\n",
    "\n",
    "f_imp"
   ]
  },
  {
   "cell_type": "code",
   "execution_count": 130,
   "metadata": {},
   "outputs": [
    {
     "data": {
      "text/plain": [
       "(5282, 15)"
      ]
     },
     "execution_count": 130,
     "metadata": {},
     "output_type": "execute_result"
    }
   ],
   "source": [
    "X_train_imp = X_train.loc[:, f_imp]\n",
    "X_train_imp.shape"
   ]
  },
  {
   "cell_type": "markdown",
   "metadata": {},
   "source": [
    "Обучим модели и посмотрим на результат."
   ]
  },
  {
   "cell_type": "code",
   "execution_count": 131,
   "metadata": {},
   "outputs": [
    {
     "name": "stdout",
     "output_type": "stream",
     "text": [
      "\n",
      "\n",
      "Random Forest Classifier \n",
      "\n",
      "Лучший score на кросс валидации:  0.86\n",
      "\n",
      "\n"
     ]
    },
    {
     "data": {
      "text/plain": [
       "'Лучшие гиперпараметры: '"
      ]
     },
     "metadata": {},
     "output_type": "display_data"
    },
    {
     "data": {
      "text/plain": [
       "{'max_depth': 8,\n",
       " 'min_samples_leaf': 1,\n",
       " 'min_samples_split': 2,\n",
       " 'n_estimators': 200}"
      ]
     },
     "metadata": {},
     "output_type": "display_data"
    },
    {
     "name": "stdout",
     "output_type": "stream",
     "text": [
      "train предсказание ROC_AUC:  0.751 const:  0.5\n",
      "train предсказание Accuracy:  0.84 const:  0.736\n",
      "train предсказание F1_score:  0.65 const:  0.0\n",
      "CPU times: total: 4.89 s\n",
      "Wall time: 2min 12s\n"
     ]
    }
   ],
   "source": [
    "%%time\n",
    "\n",
    "rfr_model(X_train_imp, y_train)"
   ]
  },
  {
   "cell_type": "code",
   "execution_count": 132,
   "metadata": {},
   "outputs": [
    {
     "name": "stdout",
     "output_type": "stream",
     "text": [
      "\n",
      "bestTest = 0.3599226402\n",
      "bestIteration = 4999\n",
      "\n",
      "\n",
      "bestTest = 0.3557500995\n",
      "bestIteration = 4997\n",
      "\n",
      "\n",
      "bestTest = 0.3534421623\n",
      "bestIteration = 4999\n",
      "\n",
      "\n",
      "bestTest = 0.3600499054\n",
      "bestIteration = 4994\n",
      "\n",
      "\n",
      "bestTest = 0.3556340662\n",
      "bestIteration = 4964\n",
      "\n",
      "\n",
      "bestTest = 0.3538650962\n",
      "bestIteration = 4993\n",
      "\n",
      "\n",
      "bestTest = 0.3602792504\n",
      "bestIteration = 4933\n",
      "\n",
      "\n",
      "bestTest = 0.3556938657\n",
      "bestIteration = 4989\n",
      "\n",
      "\n",
      "bestTest = 0.3533501925\n",
      "bestIteration = 4994\n",
      "\n",
      "\n",
      "bestTest = 0.360556785\n",
      "bestIteration = 4925\n",
      "\n",
      "\n",
      "bestTest = 0.3558833457\n",
      "bestIteration = 4986\n",
      "\n",
      "\n",
      "bestTest = 0.3537120652\n",
      "bestIteration = 4995\n",
      "\n",
      "Stopped by overfitting detector  (200 iterations wait)\n",
      "\n",
      "bestTest = 0.3144997061\n",
      "bestIteration = 1476\n",
      "\n",
      "Stopped by overfitting detector  (200 iterations wait)\n",
      "\n",
      "bestTest = 0.3099381991\n",
      "bestIteration = 1007\n",
      "\n",
      "Stopped by overfitting detector  (200 iterations wait)\n",
      "\n",
      "bestTest = 0.3063928147\n",
      "bestIteration = 718\n",
      "\n",
      "Stopped by overfitting detector  (200 iterations wait)\n",
      "\n",
      "bestTest = 0.3105511606\n",
      "bestIteration = 2311\n",
      "\n",
      "Stopped by overfitting detector  (200 iterations wait)\n",
      "\n",
      "bestTest = 0.3082030638\n",
      "bestIteration = 1125\n",
      "\n",
      "Stopped by overfitting detector  (200 iterations wait)\n",
      "\n",
      "bestTest = 0.3073808612\n",
      "bestIteration = 1128\n",
      "\n",
      "Stopped by overfitting detector  (200 iterations wait)\n",
      "\n",
      "bestTest = 0.3205676332\n",
      "bestIteration = 1463\n",
      "\n",
      "Stopped by overfitting detector  (200 iterations wait)\n",
      "\n",
      "bestTest = 0.3131816486\n",
      "bestIteration = 1512\n",
      "\n",
      "Stopped by overfitting detector  (200 iterations wait)\n",
      "\n",
      "bestTest = 0.3154243138\n",
      "bestIteration = 944\n",
      "\n",
      "Stopped by overfitting detector  (200 iterations wait)\n",
      "\n",
      "bestTest = 0.3190834661\n",
      "bestIteration = 1650\n",
      "\n",
      "Stopped by overfitting detector  (200 iterations wait)\n",
      "\n",
      "bestTest = 0.3135493595\n",
      "bestIteration = 1207\n",
      "\n",
      "Stopped by overfitting detector  (200 iterations wait)\n",
      "\n",
      "bestTest = 0.3090936333\n",
      "bestIteration = 1560\n",
      "\n",
      "Stopped by overfitting detector  (200 iterations wait)\n",
      "\n",
      "bestTest = 0.3131401201\n",
      "bestIteration = 919\n",
      "\n",
      "Stopped by overfitting detector  (200 iterations wait)\n",
      "\n",
      "bestTest = 0.31366573\n",
      "bestIteration = 413\n",
      "\n",
      "Stopped by overfitting detector  (200 iterations wait)\n",
      "\n",
      "bestTest = 0.3193241926\n",
      "bestIteration = 407\n",
      "\n",
      "Stopped by overfitting detector  (200 iterations wait)\n",
      "\n",
      "bestTest = 0.3169945805\n",
      "bestIteration = 733\n",
      "\n",
      "Stopped by overfitting detector  (200 iterations wait)\n",
      "\n",
      "bestTest = 0.3149561387\n",
      "bestIteration = 530\n",
      "\n",
      "Stopped by overfitting detector  (200 iterations wait)\n",
      "\n",
      "bestTest = 0.3141079524\n",
      "bestIteration = 401\n",
      "\n",
      "Stopped by overfitting detector  (200 iterations wait)\n",
      "\n",
      "bestTest = 0.3188146417\n",
      "bestIteration = 1105\n",
      "\n",
      "Stopped by overfitting detector  (200 iterations wait)\n",
      "\n",
      "bestTest = 0.3202145112\n",
      "bestIteration = 412\n",
      "\n",
      "Stopped by overfitting detector  (200 iterations wait)\n",
      "\n",
      "bestTest = 0.3199463804\n",
      "bestIteration = 353\n",
      "\n",
      "Stopped by overfitting detector  (200 iterations wait)\n",
      "\n",
      "bestTest = 0.3165089204\n",
      "bestIteration = 1017\n",
      "\n",
      "Stopped by overfitting detector  (200 iterations wait)\n",
      "\n",
      "bestTest = 0.3179845745\n",
      "bestIteration = 742\n",
      "\n",
      "Stopped by overfitting detector  (200 iterations wait)\n",
      "\n",
      "bestTest = 0.3164563906\n",
      "bestIteration = 591\n",
      "\n",
      "Stopped by overfitting detector  (200 iterations wait)\n",
      "\n",
      "bestTest = 0.3263843147\n",
      "bestIteration = 319\n",
      "\n",
      "Stopped by overfitting detector  (200 iterations wait)\n",
      "\n",
      "bestTest = 0.3173076238\n",
      "bestIteration = 334\n",
      "\n",
      "Stopped by overfitting detector  (200 iterations wait)\n",
      "\n",
      "bestTest = 0.3181900399\n",
      "bestIteration = 339\n",
      "\n",
      "Stopped by overfitting detector  (200 iterations wait)\n",
      "\n",
      "bestTest = 0.3283396657\n",
      "bestIteration = 348\n",
      "\n",
      "Stopped by overfitting detector  (200 iterations wait)\n",
      "\n",
      "bestTest = 0.323462872\n",
      "bestIteration = 340\n",
      "\n",
      "Stopped by overfitting detector  (200 iterations wait)\n",
      "\n",
      "bestTest = 0.3209606415\n",
      "bestIteration = 316\n",
      "\n",
      "Stopped by overfitting detector  (200 iterations wait)\n",
      "\n",
      "bestTest = 0.3252820357\n",
      "bestIteration = 613\n",
      "\n",
      "Stopped by overfitting detector  (200 iterations wait)\n",
      "\n",
      "bestTest = 0.326396506\n",
      "bestIteration = 478\n",
      "\n",
      "Stopped by overfitting detector  (200 iterations wait)\n",
      "\n",
      "bestTest = 0.3223038224\n",
      "bestIteration = 245\n",
      "\n",
      "Stopped by overfitting detector  (200 iterations wait)\n",
      "\n",
      "bestTest = 0.3253429982\n",
      "bestIteration = 734\n",
      "\n",
      "Stopped by overfitting detector  (200 iterations wait)\n",
      "\n",
      "bestTest = 0.3217217497\n",
      "bestIteration = 427\n",
      "\n",
      "Stopped by overfitting detector  (200 iterations wait)\n",
      "\n",
      "bestTest = 0.3232554479\n",
      "bestIteration = 292\n",
      "\n",
      "Training on fold [0/12]\n",
      "\n",
      "bestTest = 0.2632480458\n",
      "bestIteration = 1278\n",
      "\n",
      "Training on fold [1/12]\n",
      "\n",
      "bestTest = 0.2739545969\n",
      "bestIteration = 1524\n",
      "\n",
      "Training on fold [2/12]\n",
      "\n",
      "bestTest = 0.288693044\n",
      "bestIteration = 1155\n",
      "\n",
      "Training on fold [3/12]\n",
      "\n",
      "bestTest = 0.2621549342\n",
      "bestIteration = 1346\n",
      "\n",
      "Training on fold [4/12]\n",
      "\n",
      "bestTest = 0.2812196173\n",
      "bestIteration = 1534\n",
      "\n",
      "Training on fold [5/12]\n",
      "\n",
      "bestTest = 0.2679002447\n",
      "bestIteration = 1344\n",
      "\n",
      "Training on fold [6/12]\n",
      "\n",
      "bestTest = 0.2710313194\n",
      "bestIteration = 1657\n",
      "\n",
      "Training on fold [7/12]\n",
      "\n",
      "bestTest = 0.2503351539\n",
      "bestIteration = 1879\n",
      "\n",
      "Training on fold [8/12]\n",
      "\n",
      "bestTest = 0.2831460348\n",
      "bestIteration = 1063\n",
      "\n",
      "Training on fold [9/12]\n",
      "\n",
      "bestTest = 0.321003243\n",
      "bestIteration = 923\n",
      "\n",
      "Training on fold [10/12]\n",
      "\n",
      "bestTest = 0.2448312979\n",
      "bestIteration = 1805\n",
      "\n",
      "Training on fold [11/12]\n",
      "\n",
      "bestTest = 0.2900329581\n",
      "bestIteration = 1051\n",
      "\n",
      "Cat Boost \n",
      "\n",
      "Лучший Logloss на кросс валидации:  0.276\n"
     ]
    },
    {
     "data": {
      "text/plain": [
       "'Гиперпараметры лучшего результата'"
      ]
     },
     "metadata": {},
     "output_type": "display_data"
    },
    {
     "data": {
      "text/plain": [
       "{'depth': 2, 'l2_leaf_reg': 1, 'learning_rate': 0.18}"
      ]
     },
     "metadata": {},
     "output_type": "display_data"
    },
    {
     "name": "stdout",
     "output_type": "stream",
     "text": [
      "iterations:  1808 \n",
      "\n",
      "thresholds:  0.27381419399180923 \n",
      "\n",
      "train предсказание ROC_AUC:  0.926 const:  0.5\n",
      "train предсказание Accuracy:  0.923 const:  0.736\n",
      "train предсказание F1_score:  0.865 const:  0.0\n",
      "CPU times: total: 30min 3s\n",
      "Wall time: 3min 19s\n"
     ]
    }
   ],
   "source": [
    "%%time\n",
    "\n",
    "cat_model(X_train_imp, y_train)"
   ]
  },
  {
   "cell_type": "markdown",
   "metadata": {},
   "source": [
    "### Вывод"
   ]
  },
  {
   "cell_type": "markdown",
   "metadata": {},
   "source": [
    "* Разделили данные на `train` и `test` в соотношении 75/25.\n",
    "\n",
    "* Для построение моделей использовали:\n",
    "\n",
    "    *  `sklearn.ensemble.RandomForestClassifier`\n",
    "    * `CatBoost`\n",
    "\n",
    "* Большинство признаков имеют категориальные и имеют свою вариативность от еденицы до 4, поэтому для простоты предобработки применили `OneHotEncoder`.\n",
    "* Масштабирование для наших моделей не требуется.\n",
    "* Обнаружен небольшой дисбаланс классов:\n",
    "\n",
    "    * 26.39% класса 1.\n",
    "\n",
    "* Константное предсказание для оценок адекватности моделей (**const**):\n",
    "\n",
    "    * Константное предсказание ROC_AUC:  0.5\n",
    "    * Константное предсказание Accuracy:  0.736\n",
    "    * Константное предсказание F1_score:  0.0\n",
    "\n",
    "* В моделях для поиска лучших гиперпараметров будем использовать GridSearchCV, а также через AUG_ROG кривую подбирать лучший thresholds.\n",
    "\n",
    "**Построение моделей без изменения баланса классов:**\n",
    "\n",
    "* **RandomForestClassifier:**\n",
    "\n",
    "    * Лучшие гиперпараметры:\n",
    "\n",
    "        * 'max_depth': 8,\n",
    "        * 'min_samples_leaf': 1,\n",
    "        * 'min_samples_split': 4,\n",
    "        * 'n_estimators': 200\n",
    "\n",
    "    * train предсказание ROC_AUC:  0.755; const:  0.5\n",
    "    * train предсказание Accuracy:  0.846; const:  0.736\n",
    "    * train предсказание F1_score:  0.659; const:  0.0\n",
    "\n",
    "* **CatBoost:**\n",
    "\n",
    "    * Гиперпараметры лучшего результата\n",
    "    \n",
    "        * 'depth': 2, \n",
    "        * 'l2_leaf_reg': 1, \n",
    "        * 'learning_rate': 0.18\n",
    "        * 'iterations': 1442\n",
    "        * 'thresholds':  0.30807928051582556\n",
    "\n",
    "    * train предсказание ROC_AUC:  0.922; const:  0.5\n",
    "    * train предсказание Accuracy:  0.926; const:  0.736\n",
    "    * train предсказание F1_score:  0.868; const:  0.0\n",
    "\n",
    "\n",
    "\n",
    "\n",
    "**Построение моделей со встроенными методами:**\n",
    "\n",
    "* **RandomForestClassifier с class_weight='balanced':**\n",
    "\n",
    "    * Лучшие гиперпараметры:\n",
    "\n",
    "        * 'max_depth': 10,\n",
    "        * 'min_samples_leaf': 1,\n",
    "        * 'min_samples_split': 6,\n",
    "        * 'n_estimators': 170\n",
    "\n",
    "    * train предсказание ROC_AUC:  0.866 const:  0.5\n",
    "    * train предсказание Accuracy:  0.859 const:  0.736\n",
    "    * train предсказание F1_score:  0.768 const:  0.0\n",
    "\n",
    "* **CatBoost с scale_pos_weight=2:**\n",
    "\n",
    "    * Гиперпараметры лучшего результата\n",
    "    \n",
    "        * 'depth': 2, \n",
    "        * 'l2_leaf_reg': 1, \n",
    "        * 'learning_rate': 0.15\n",
    "        * 'iterations': 1475\n",
    "        * 'thresholds':  0.4463893747021972\n",
    "\n",
    "    * train предсказание ROC_AUC:  0.919; const:  0.5\n",
    "    * train предсказание Accuracy:  0.919; const:  0.736\n",
    "    * train предсказание F1_score:  0.857; const:  0.0\n",
    "\n",
    "\n",
    "\n",
    "\n",
    "**Построение моделей с downsampling:**\n",
    "\n",
    "* **RandomForestClassifier:**\n",
    "\n",
    "    * Лучшие гиперпараметры:\n",
    "\n",
    "        * 'max_depth': 8,\n",
    "        * 'min_samples_leaf': 2,\n",
    "        * 'min_samples_split': 6,\n",
    "        * 'n_estimators': 230\n",
    "\n",
    "    * train предсказание ROC_AUC:  0.834; const:  0.5\n",
    "    * train предсказание Accuracy:  0.834; const:  0.736\n",
    "    * train предсказание F1_score:  0.838; const:  0.0\n",
    "\n",
    "* **CatBoost:**\n",
    "\n",
    "    * Гиперпараметры лучшего результата\n",
    "    \n",
    "        * 'depth': 2, \n",
    "        * 'l2_leaf_reg': 1, \n",
    "        * 'learning_rate': 0.15\n",
    "        * 'iterations': 1100\n",
    "        * 'thresholds':  0.49193121286773966\n",
    "\n",
    "    * train предсказание ROC_AUC:  0.919; const:  0.5\n",
    "    * train предсказание Accuracy:  0.919; const:  0.736\n",
    "    * train предсказание F1_score:  0.919; const:  0.0\n",
    "\n",
    "\n",
    "* Изучили с помощью методов от `RandomForestClassifier` и `CatBoost` важность признаков в построении модели.\n",
    "* Обе модели определили примерно одинаково признаки по важности.\n",
    "* Если брать за 100% как суммарный фактор важности всех наших признаков, то топ 5 признаков, влияющие на уход клиента:\n",
    "\n",
    "    * `lifetime_contract`: 74.537 %\n",
    "    * `total_charges`: 6.882 %\n",
    "    * `monthly_charges`: 6.626 %\n",
    "    * `type_Two year`: 3.982 %\n",
    "    * `internet_service_No`: 1.205 %\n",
    "\n",
    "* Выбрали топ 15 и заново обучили модели, чтобы посмотреть как изменится результат.\n",
    "\n",
    "\n",
    "\n",
    "**Построение моделей с 15 признаками:**\n",
    "\n",
    "* **RandomForestClassifier:**\n",
    "\n",
    "    * Лучшие гиперпараметры:\n",
    "\n",
    "        * 'max_depth': 8,\n",
    "        * 'min_samples_leaf': 1,\n",
    "        * 'min_samples_split': 2,\n",
    "        * 'n_estimators': 200\n",
    "\n",
    "    * train предсказание ROC_AUC:  0.751; const:  0.5\n",
    "    * train предсказание Accuracy:  0.84; const:  0.736\n",
    "    * train предсказание F1_score:  0.65; const:  0.0\n",
    "\n",
    "* **CatBoost:**\n",
    "\n",
    "    * Гиперпараметры лучшего результата\n",
    "    \n",
    "        * 'depth': 2, \n",
    "        * 'l2_leaf_reg': 1, \n",
    "        * 'learning_rate': 0.18\n",
    "        * 'iterations': 1808\n",
    "        * 'thresholds':  0.27381419399180923\n",
    "\n",
    "    * train предсказание ROC_AUC:  0.926; const:  0.5\n",
    "    * train предсказание Accuracy:  0.923; const:  0.736\n",
    "    * train предсказание F1_score:  0.865; const:  0.0\n",
    "\n",
    "**Заключение:**\n",
    "\n",
    "* Добились слегка увеличения метрик. \n",
    "* Лучший результат среди всех экспериментов:\n",
    "\n",
    "**CatBoost с отобранными 15 признаками:**\n",
    "\n",
    "    * Гиперпараметры лучшего результата\n",
    "    \n",
    "        * 'depth': 2, \n",
    "        * 'l2_leaf_reg': 1, \n",
    "        * 'learning_rate': 0.18\n",
    "        * 'iterations': 1808\n",
    "        * 'thresholds':  0.27381419399180923\n",
    "\n",
    "    * train предсказание ROC_AUC:  0.926; const:  0.5\n",
    "    * train предсказание Accuracy:  0.923; const:  0.736\n",
    "    * train предсказание F1_score:  0.865; const:  0.0"
   ]
  },
  {
   "cell_type": "markdown",
   "metadata": {},
   "source": [
    "## Тест"
   ]
  },
  {
   "cell_type": "markdown",
   "metadata": {},
   "source": [
    "Проверим на тестовой выборке"
   ]
  },
  {
   "cell_type": "code",
   "execution_count": 133,
   "metadata": {},
   "outputs": [
    {
     "name": "stdout",
     "output_type": "stream",
     "text": [
      "Итоговое предсказание ROC_AUC:  0.856 const:  0.5\n",
      "Итоговое предсказание Accuracy:  0.869 const:  0.736\n",
      "Итоговое предсказание F1_score:  0.773 const:  0.0\n"
     ]
    }
   ],
   "source": [
    "cat_train = Pool(data=X_train_imp, label=y_train)\n",
    "cat_test = Pool(data=X_test, label=y_test)\n",
    "\n",
    "params = {'eval_metric': 'Logloss',\n",
    "        'loss_function': 'Logloss',\n",
    "        'learning_rate': 0.18,\n",
    "        'depth': 2,\n",
    "        'random_seed': 290822,\n",
    "        'l2_leaf_reg': 1,\n",
    "        'random_strength': 290822,\n",
    "        'scale_pos_weight': 1,\n",
    "        'iterations': 1808,\n",
    "        'verbose':False}\n",
    "\n",
    "cat = CatBoostClassifier(**params)\n",
    "cat.fit(cat_train)\n",
    "\n",
    "cat.set_probability_threshold(0.27381419399180923)\n",
    "\n",
    "print('Итоговое предсказание ROC_AUC: ', \n",
    "roc_auc_score(y_test, cat.predict(cat_test)).round(3),\n",
    "'const: ', roc_auc_const)\n",
    "\n",
    "print('Итоговое предсказание Accuracy: ', \n",
    "    accuracy_score(y_test, cat.predict(cat_test)).round(3),\n",
    "'const: ', acc_const)\n",
    "\n",
    "print('Итоговое предсказание F1_score: ', \n",
    "    f1_score(y_test, cat.predict(cat_test)).round(3),\n",
    "'const: ', f1_const)"
   ]
  },
  {
   "cell_type": "markdown",
   "metadata": {},
   "source": [
    "## Общие выводы"
   ]
  },
  {
   "cell_type": "markdown",
   "metadata": {},
   "source": [
    "**Выводы `contract.csv`:**\n",
    "\n",
    "* **customer_id**: уникальный код клиента;\n",
    "* **begin_date**: дата заключения договора;\n",
    "* **end_date**: дата прерывания договора;\n",
    "* **type**: тип оплаты:\n",
    "    * 'Month-to-month' — каждый месяц, доля — 55.02%;\n",
    "    * 'Two year' — раз в два года, доля — 24.07%;\n",
    "    * 'One year' — раз в год, доля — 20.91%.\n",
    "* **paperless_billing**: электронный документ об оплате. Соответственно: 'Yes', 'No'. \n",
    "    * Доля 'Yes' — 59.22%;\n",
    "* **payment_method**: вид оплаты:\n",
    "    * 'Electronic check' — электронная оплата, доля — 33.58%;\n",
    "    * 'Mailed check' — оплата почтой, доля — 22.89%;\n",
    "    * 'Bank transfer (automatic)' — банквоский перевод автоматически со счета, доля — 21.92%;\n",
    "    * 'Credit card (automatic)' — автоматическое списание с кредитной карты, доля — 21.61%.\n",
    "* **monthly_charges**: ежемесячная плата;\n",
    "    * Данные без аномалий; \n",
    "    * Распределение с небольшим скосом вправо;\n",
    "* **total_charges**: общая сумма выплат;\n",
    "    * Данные без аномалий; \n",
    "    * Распределение с небольшим скосом влево;\n",
    "\n",
    "* Пропусков нет;\n",
    "* Всего 7043 записи, все id клиента уникальны;\n",
    "* Данные с 2013-10-01 по 2020-02-01;\n",
    "* Даты заключения договора с 2013 по 2020, разница только в месяце, исчисление идет с 1 числа;\n",
    "* Даты окончания договора все рядом: с 2019 года месяцы 10, 11 и 12; и 1 месяц 2020 года. В количестве суммарно 1869, что составляет 26,54% от всех записей. Месяцы:\n",
    "\n",
    "    * 2019-10: 458 записей;\n",
    "    * 2019-11: 485 записей;\n",
    "    * 2019-12: 466 записей;\n",
    "    * 2020-01: 460 записей;\n",
    "\n",
    "* Договоры, созданные 2020-02-01, имеют нулевую общую сумму выплат."
   ]
  },
  {
   "cell_type": "markdown",
   "metadata": {},
   "source": [
    "**Выводы `personal.csv`:**\n",
    "\n",
    "* **customer_id**: уникальный код клиента;\n",
    "* Пропусков нет;\n",
    "* Всего 7043 записей, все id клиента уникальны;\n",
    "* **gender**: пол клиента, доли:\n",
    "    * Male — 50.48%;\n",
    "    * Female — 49.52%;\n",
    "* **senior_citizen**: доля пенсионеров 16.21%;\n",
    "* **partner**: доля, кто состоит в зарегистрированном браке:\n",
    "    * No     51.7%;\n",
    "    * Yes    48.3%.\n",
    "* **dependents**: примерно 30% клиентов имеют иждевенцев;\n",
    "* 'dependents' —  брак ли это зарегистрированный или просто партнер по жизни? На построение модели ответ на этот вопрос роли играть не будет.\n",
    "* Аномалий нет."
   ]
  },
  {
   "cell_type": "markdown",
   "metadata": {},
   "source": [
    "**Выводы `internet.csv`:**\n",
    "\n",
    "* **customer_id**: уникальный код клиента;\n",
    "* Пропусков нет;\n",
    "* Всего 5517 записей, все id клиента уникальны;\n",
    "* **internet_service**: тип подключения:\n",
    "    * Fiber optic: доля 56.12%;\n",
    "    * DSL: доля 43.88%;\n",
    "* **online_security**: услуга \"Блокировка небезопасных сайтов\" — доля 36.6%;\n",
    "* **online_backup**: услуга \"Облачное хранилище файлов для резервного копирования данных\"  — доля 44.03%;\n",
    "* **device_protection**: услуга \"Антивирус\"  — доля 43.9%;\n",
    "* **tech_support**: услуга \"Выделенная линия технической поддержки\" — доля 37.05%;\n",
    "* **streaming_tv**: услуга \"Стриминговое телевидение\" — доля 49.07%;\n",
    "* **streaming_movies**: услуга \"Каталог фильмов\" — доля 49.52%;\n",
    "* Аномалий нет."
   ]
  },
  {
   "cell_type": "markdown",
   "metadata": {},
   "source": [
    "**Выводы `phone.csv`:**\n",
    "\n",
    "* **customer_id**: уникальный код клиента;\n",
    "* Пропусков нет;\n",
    "* Всего 6361 записей, все id клиента уникальны;\n",
    "* **multiple_lines**: услуга \"Подключение телефонного аппарата к нескольким линиям одновременно\":\n",
    "    * Доля — 46.71%;\n",
    "* Аномалий нет."
   ]
  },
  {
   "cell_type": "markdown",
   "metadata": {},
   "source": [
    "**Вывод после объединения:**\n",
    "\n",
    "* Объеденили 4 таблицы.\n",
    "* После обработали пропуски, где интернет и его услуги имели `NaN`:\n",
    "    * Интернет услуги имели везде пропуски в 100% строк, где клиент не пользуется интернетом, но пользуется услугами связи. Заполнили пропуски значением `No`.\n",
    "\n",
    "* После оставшиеся единственные пропуски в `multiple_lines` заполнили значением `No`, поскольку слияние происходило по `phone`.\n",
    "\n",
    "* Добавили признак `one_line`, выявивший  клиентов:\n",
    "    * Кто не пользуется многоканальной связью, пользуется интернетом и пользуется простой связью.\n",
    "    * Также выявлена прозрачность, если клиент не пользуется многоканальной связью и не пользуется интернетом, то на чем основан его контракт/договор (?) — на простой связи.\n",
    "    * Эту гипотезу проверили.\n",
    "\n",
    "* Исследовали срок жизни договора клиентов, кто расторгнул этот договор:\n",
    "\n",
    "    * Распределение значений — со скосом влево.\n",
    "    * Медиана 304 дня.\n",
    "    * Среднее 594 дня.\n",
    "    * Половина клиентов уходит в первый год.\n",
    "    * Ровно четверть из ушедших ушли в первые два месяца.\n",
    "    * 20.33% ушли в первый месяц.\n",
    "\n",
    "* Добавили новый признак `lifetime_contract`, означающий срок жизни клиентов.\n",
    "* Добавили новый признак `term_contract`, означающий уход клиента (целевой признак для моделей)."
   ]
  },
  {
   "cell_type": "markdown",
   "metadata": {},
   "source": [
    "**Вывод по построению и поиска лучшей модели:**\n",
    "\n",
    "* Разделили данные на `train` и `test` в соотношении 75/25.\n",
    "\n",
    "* Для построения моделей использовали:\n",
    "\n",
    "    *  `sklearn.ensemble.RandomForestClassifier`\n",
    "    * `CatBoost`\n",
    "\n",
    "* Большинство признаков имеют категориальные и имеют свою вариативность от еденицы до 4, поэтому для простоты применили `OneHotEncoder`.\n",
    "* Масштабирование для наших моделей не требуется.\n",
    "* Обнаружен небольшой дисбаланс классов:\n",
    "\n",
    "    * 26.39% класса 1.\n",
    "\n",
    "* Константное предсказание для оценок адекватности моделей (**const**):\n",
    "\n",
    "    * Константное предсказание ROC_AUC:  0.5\n",
    "    * Константное предсказание Accuracy:  0.736\n",
    "    * Константное предсказание F1_score:  0.0\n",
    "\n",
    "* В моделях для поиска лучших гиперпараметров использовали GridSearchCV, а также через AUG_ROG кривую подбирали лучший thresholds.\n",
    "\n",
    "**Построение моделей без изменения баланса классов:**\n",
    "\n",
    "* **RandomForestClassifier:**\n",
    "\n",
    "    * Лучшие гиперпараметры:\n",
    "\n",
    "        * 'max_depth': 8,\n",
    "        * 'min_samples_leaf': 1,\n",
    "        * 'min_samples_split': 4,\n",
    "        * 'n_estimators': 200\n",
    "\n",
    "    * train предсказание ROC_AUC:  0.755; const:  0.5\n",
    "    * train предсказание Accuracy:  0.846; const:  0.736\n",
    "    * train предсказание F1_score:  0.659; const:  0.0\n",
    "\n",
    "* **CatBoost:**\n",
    "\n",
    "    * Гиперпараметры лучшего результата\n",
    "    \n",
    "        * 'depth': 2, \n",
    "        * 'l2_leaf_reg': 1, \n",
    "        * 'learning_rate': 0.18\n",
    "        * 'iterations': 1442\n",
    "        * 'thresholds':  0.30807928051582556\n",
    "\n",
    "    * train предсказание ROC_AUC:  0.922; const:  0.5\n",
    "    * train предсказание Accuracy:  0.926; const:  0.736\n",
    "    * train предсказание F1_score:  0.868; const:  0.0\n",
    "\n",
    "\n",
    "\n",
    "\n",
    "**Построение моделей со встроенными методами:**\n",
    "\n",
    "* **RandomForestClassifier с class_weight='balanced':**\n",
    "\n",
    "    * Лучшие гиперпараметры:\n",
    "\n",
    "        * 'max_depth': 10,\n",
    "        * 'min_samples_leaf': 1,\n",
    "        * 'min_samples_split': 6,\n",
    "        * 'n_estimators': 170\n",
    "\n",
    "    * train предсказание ROC_AUC:  0.866 const:  0.5\n",
    "    * train предсказание Accuracy:  0.859 const:  0.736\n",
    "    * train предсказание F1_score:  0.768 const:  0.0\n",
    "\n",
    "* **CatBoost с scale_pos_weight=2:**\n",
    "\n",
    "    * Гиперпараметры лучшего результата\n",
    "    \n",
    "        * 'depth': 2, \n",
    "        * 'l2_leaf_reg': 1, \n",
    "        * 'learning_rate': 0.15\n",
    "        * 'iterations': 1475\n",
    "        * 'thresholds':  0.4463893747021972\n",
    "\n",
    "    * train предсказание ROC_AUC:  0.919; const:  0.5\n",
    "    * train предсказание Accuracy:  0.919; const:  0.736\n",
    "    * train предсказание F1_score:  0.857; const:  0.0\n",
    "\n",
    "\n",
    "\n",
    "\n",
    "**Построение моделей с downsampling:**\n",
    "\n",
    "* **RandomForestClassifier:**\n",
    "\n",
    "    * Лучшие гиперпараметры:\n",
    "\n",
    "        * 'max_depth': 8,\n",
    "        * 'min_samples_leaf': 2,\n",
    "        * 'min_samples_split': 6,\n",
    "        * 'n_estimators': 230\n",
    "\n",
    "    * train предсказание ROC_AUC:  0.834; const:  0.5\n",
    "    * train предсказание Accuracy:  0.834; const:  0.736\n",
    "    * train предсказание F1_score:  0.838; const:  0.0\n",
    "\n",
    "* **CatBoost:**\n",
    "\n",
    "    * Гиперпараметры лучшего результата\n",
    "    \n",
    "        * 'depth': 2, \n",
    "        * 'l2_leaf_reg': 1, \n",
    "        * 'learning_rate': 0.15\n",
    "        * 'iterations': 1100\n",
    "        * 'thresholds':  0.49193121286773966\n",
    "\n",
    "    * train предсказание ROC_AUC:  0.919; const:  0.5\n",
    "    * train предсказание Accuracy:  0.919; const:  0.736\n",
    "    * train предсказание F1_score:  0.919; const:  0.0\n",
    "\n",
    "\n",
    "* Изучили с помощью методов от `RandomForestClassifier` и `CatBoost` важность признаков в построении модели.\n",
    "* Обе модели определили примерно одинаково признаки по важности.\n",
    "* Выбрали топ 15 и заново обучили модели, чтобы посмотреть как изменится результат.\n",
    "\n",
    "\n",
    "\n",
    "**Построение моделей с 15 признаками:**\n",
    "\n",
    "* **RandomForestClassifier:**\n",
    "\n",
    "    * Лучшие гиперпараметры:\n",
    "\n",
    "        * 'max_depth': 8,\n",
    "        * 'min_samples_leaf': 1,\n",
    "        * 'min_samples_split': 2,\n",
    "        * 'n_estimators': 200\n",
    "\n",
    "    * train предсказание ROC_AUC:  0.751; const:  0.5\n",
    "    * train предсказание Accuracy:  0.84; const:  0.736\n",
    "    * train предсказание F1_score:  0.65; const:  0.0\n",
    "\n",
    "* **CatBoost:**\n",
    "\n",
    "    * Гиперпараметры лучшего результата\n",
    "    \n",
    "        * 'depth': 2, \n",
    "        * 'l2_leaf_reg': 1, \n",
    "        * 'learning_rate': 0.18\n",
    "        * 'iterations': 1808\n",
    "        * 'thresholds':  0.27381419399180923\n",
    "\n",
    "    * train предсказание ROC_AUC:  0.926; const:  0.5\n",
    "    * train предсказание Accuracy:  0.923; const:  0.736\n",
    "    * train предсказание F1_score:  0.865; const:  0.0\n",
    "\n",
    "**Заключение:**\n",
    "\n",
    "* Добились слегка увеличения метрики. \n",
    "* Лучший результат среди всех экспериментов:\n",
    "\n",
    "**CatBoost с 15 признаками:**\n",
    "\n",
    "    * Гиперпараметры лучшего результата\n",
    "    \n",
    "        * 'depth': 2, \n",
    "        * 'l2_leaf_reg': 1, \n",
    "        * 'learning_rate': 0.18\n",
    "        * 'iterations': 1808\n",
    "        * 'thresholds':  0.27381419399180923\n",
    "\n",
    "    * train предсказание ROC_AUC:  0.926; const:  0.5\n",
    "    * train предсказание Accuracy:  0.923; const:  0.736\n",
    "    * train предсказание F1_score:  0.865; const:  0.0"
   ]
  },
  {
   "cell_type": "markdown",
   "metadata": {},
   "source": [
    "### Отчетный вывод"
   ]
  },
  {
   "cell_type": "markdown",
   "metadata": {},
   "source": [
    "Задача:\n",
    "\n",
    "    * научиться прогнозировать отток клиентов.\n",
    "\n",
    "Лучшая модель:\n",
    "\n",
    "**CatBoost с отобранными 15 признаками:**\n",
    "\n",
    "* Гиперпараметры лучшего результата\n",
    "\n",
    "    * 'depth': 2, \n",
    "    * 'l2_leaf_reg': 1, \n",
    "    * 'learning_rate': 0.18\n",
    "    * 'iterations': 1808\n",
    "    * 'thresholds':  0.27381419399180923\n",
    "\n",
    "* Итоговое test предсказание ROC_AUC:  0.856 const:  0.5\n",
    "* Итоговое test предсказание Accuracy:  0.869 const:  0.736\n",
    "* Итоговое test предсказание F1_score:  0.773 const:  0.0"
   ]
  },
  {
   "cell_type": "markdown",
   "metadata": {},
   "source": [
    "Точность предсказаний модели 86.9%, что позволит бизнесу помочь прогнозировать отток клиентов и совершить необходимые действия по их удержанию и обратной связи."
   ]
  },
  {
   "cell_type": "markdown",
   "metadata": {},
   "source": [
    "## Финальный отчет"
   ]
  },
  {
   "cell_type": "markdown",
   "metadata": {},
   "source": [
    "**План выполнения был:**\n",
    "\n",
    "0. Объеденить таблицы по `customer_id`;\n",
    "0. Обработать признаки, например:\n",
    "    * \"дата окончания договора\" будет служить для модели классификации, будет целевым признаком;\n",
    "    * Посмотреть, где образовались пропуски после объединения, обработать их;\n",
    "    * Добавить признак: срок жизни договора клиента;\n",
    "0. Сделать дополнительную предобработку, исследование;\n",
    "0. Построить модели `CatBoost` и `sklearn.ensemble.RandomForestClassifier`."
   ]
  },
  {
   "cell_type": "markdown",
   "metadata": {},
   "source": [
    "**Выполнение плана:**\n",
    "\n",
    "0. **Объеденили 4 таблицы. Обработка признаков.**\n",
    "\n",
    "\n",
    "* После объединения обработали пропуски, где интернет и его услуги имели `NaN`:\n",
    "    * Интернет услуги имели везде пропуски в 100% строк, где клиент не пользуется интернетом, но пользуется услугами связи. Заполнили пропуски значением `No`.\n",
    "\n",
    "* После оставшиеся единственные пропуски в `multiple_lines` заполнили значением `No`, поскольку слияние происходило по `phone`.\n",
    "\n",
    "* Добавили признак `one_line`, выявивший  клиентов:\n",
    "    * Кто не пользуется многоканальной связью, пользуется интернетом и пользуется простой связью.\n",
    "    * Также выявлена прозрачность, если клиент не пользуется многоканальной связью и не пользуется интернетом, то на чем основан его контракт/договор (?) — на простой связи.\n",
    "    * Эту гипотезу проверили.\n",
    "\n",
    "* Исследовали срок жизни договора клиентов, кто расторгнул этот договор:\n",
    "\n",
    "    * Распределение значений — со скосом влево.\n",
    "    * Медиана 304 дня.\n",
    "    * Среднее 594 дня.\n",
    "    * Половина клиентов уходит в первый год.\n",
    "    * Ровно четверть из ушедших ушли в первые два месяца.\n",
    "    * 20.33% ушли в первый месяц.\n",
    "\n",
    "* Добавили новый признак `lifetime_contract`, означающий срок жизни клиентов.\n",
    "* Добавили новый признак `term_contract`, означающий уход клиента (целевой признак для моделей).\n",
    "\n",
    "\n",
    "0. **Построение и поиск лучшей модели.**\n",
    "\n",
    "* Разделили данные на `train` и `test` в соотношении 75/25.\n",
    "\n",
    "* Для построения моделей использовали:\n",
    "\n",
    "    *  `sklearn.ensemble.RandomForestClassifier`\n",
    "    * `CatBoost`\n",
    "\n",
    "* Большинство признаков имеют категориальные и имеют свою вариативность от еденицы до 4, поэтому для простоты предобработки применили `OneHotEncoder`.\n",
    "* Масштабирование для наших моделей не требуется.\n",
    "* Обнаружен небольшой дисбаланс классов:\n",
    "\n",
    "    * 26.39% класса 1.\n",
    "\n",
    "* Константное предсказание для оценок адекватности моделей (**const**):\n",
    "\n",
    "    * Константное предсказание ROC_AUC:  0.5\n",
    "    * Константное предсказание Accuracy:  0.736\n",
    "    * Константное предсказание F1_score:  0.0\n",
    "\n",
    "* В моделях для поиска лучших гиперпараметров использовали GridSearchCV, а также через AUG_ROG кривую подбирали лучший thresholds.\n",
    "\n",
    "**Построение моделей без изменения баланса классов:**\n",
    "\n",
    "* **RandomForestClassifier:**\n",
    "\n",
    "    * Лучшие гиперпараметры:\n",
    "\n",
    "        * 'max_depth': 8,\n",
    "        * 'min_samples_leaf': 1,\n",
    "        * 'min_samples_split': 4,\n",
    "        * 'n_estimators': 200\n",
    "\n",
    "    * train предсказание ROC_AUC:  0.755; const:  0.5\n",
    "    * train предсказание Accuracy:  0.846; const:  0.736\n",
    "    * train предсказание F1_score:  0.659; const:  0.0\n",
    "\n",
    "* **CatBoost:**\n",
    "\n",
    "    * Гиперпараметры лучшего результата\n",
    "    \n",
    "        * 'depth': 2, \n",
    "        * 'l2_leaf_reg': 1, \n",
    "        * 'learning_rate': 0.18\n",
    "        * 'iterations': 1442\n",
    "        * 'thresholds':  0.30807928051582556\n",
    "\n",
    "    * train предсказание ROC_AUC:  0.922; const:  0.5\n",
    "    * train предсказание Accuracy:  0.926; const:  0.736\n",
    "    * train предсказание F1_score:  0.868; const:  0.0\n",
    "\n",
    "\n",
    "\n",
    "\n",
    "**Построение моделей со встроенными методами:**\n",
    "\n",
    "* **RandomForestClassifier с class_weight='balanced':**\n",
    "\n",
    "    * Лучшие гиперпараметры:\n",
    "\n",
    "        * 'max_depth': 10,\n",
    "        * 'min_samples_leaf': 1,\n",
    "        * 'min_samples_split': 6,\n",
    "        * 'n_estimators': 170\n",
    "\n",
    "    * train предсказание ROC_AUC:  0.866 const:  0.5\n",
    "    * train предсказание Accuracy:  0.859 const:  0.736\n",
    "    * train предсказание F1_score:  0.768 const:  0.0\n",
    "\n",
    "* **CatBoost с scale_pos_weight=2:**\n",
    "\n",
    "    * Гиперпараметры лучшего результата\n",
    "    \n",
    "        * 'depth': 2, \n",
    "        * 'l2_leaf_reg': 1, \n",
    "        * 'learning_rate': 0.15\n",
    "        * 'iterations': 1475\n",
    "        * 'thresholds':  0.4463893747021972\n",
    "\n",
    "    * train предсказание ROC_AUC:  0.919; const:  0.5\n",
    "    * train предсказание Accuracy:  0.919; const:  0.736\n",
    "    * train предсказание F1_score:  0.857; const:  0.0\n",
    "\n",
    "\n",
    "\n",
    "\n",
    "**Построение моделей с downsampling:**\n",
    "\n",
    "* **RandomForestClassifier:**\n",
    "\n",
    "    * Лучшие гиперпараметры:\n",
    "\n",
    "        * 'max_depth': 8,\n",
    "        * 'min_samples_leaf': 2,\n",
    "        * 'min_samples_split': 6,\n",
    "        * 'n_estimators': 230\n",
    "\n",
    "    * train предсказание ROC_AUC:  0.834; const:  0.5\n",
    "    * train предсказание Accuracy:  0.834; const:  0.736\n",
    "    * train предсказание F1_score:  0.838; const:  0.0\n",
    "\n",
    "* **CatBoost:**\n",
    "\n",
    "    * Гиперпараметры лучшего результата\n",
    "    \n",
    "        * 'depth': 2, \n",
    "        * 'l2_leaf_reg': 1, \n",
    "        * 'learning_rate': 0.15\n",
    "        * 'iterations': 1100\n",
    "        * 'thresholds':  0.49193121286773966\n",
    "\n",
    "    * train предсказание ROC_AUC:  0.919; const:  0.5\n",
    "    * train предсказание Accuracy:  0.919; const:  0.736\n",
    "    * train предсказание F1_score:  0.919; const:  0.0\n",
    "\n",
    "\n",
    "* Изучили с помощью методов от `RandomForestClassifier` и `CatBoost` важность признаков в построении модели.\n",
    "* Обе модели определили примерно одинаково признаки по важности.\n",
    "* Выбрали топ 15 и заново обучили модели, чтобы посмотреть как изменится результат.\n",
    "* 15 признаков: \n",
    "\n",
    "`['lifetime_contract',\n",
    " 'total_charges',\n",
    " 'monthly_charges',\n",
    " 'type_Two year',\n",
    " 'internet_service_No',\n",
    " 'type_One year',\n",
    " 'internet_service_Fiber optic',\n",
    " 'payment_method_Mailed check',\n",
    " 'online_security_Yes',\n",
    " 'tech_support_Yes',\n",
    " 'payment_method_Credit card (automatic)',\n",
    " 'paperless_billing_Yes',\n",
    " 'senior_citizen',\n",
    " 'device_protection_Yes',\n",
    " 'payment_method_Electronic check']`\n",
    "\n",
    "\n",
    "\n",
    "**Построение моделей с 15 признаками:**\n",
    "\n",
    "* **RandomForestClassifier:**\n",
    "\n",
    "    * Лучшие гиперпараметры:\n",
    "\n",
    "        * 'max_depth': 8,\n",
    "        * 'min_samples_leaf': 1,\n",
    "        * 'min_samples_split': 2,\n",
    "        * 'n_estimators': 200\n",
    "\n",
    "    * train предсказание ROC_AUC:  0.751; const:  0.5\n",
    "    * train предсказание Accuracy:  0.84; const:  0.736\n",
    "    * train предсказание F1_score:  0.65; const:  0.0\n",
    "\n",
    "* **CatBoost:**\n",
    "\n",
    "    * Гиперпараметры лучшего результата\n",
    "    \n",
    "        * 'depth': 2, \n",
    "        * 'l2_leaf_reg': 1, \n",
    "        * 'learning_rate': 0.18\n",
    "        * 'iterations': 1808\n",
    "        * 'thresholds':  0.27381419399180923\n",
    "\n",
    "    * train предсказание ROC_AUC:  0.926; const:  0.5\n",
    "    * train предсказание Accuracy:  0.923; const:  0.736\n",
    "    * train предсказание F1_score:  0.865; const:  0.0\n",
    "\n",
    "**Заключение:**\n",
    "\n",
    "* Добились слегка увеличения метрики. \n",
    "* Лучший результат среди всех экспериментов:\n",
    "\n",
    "**CatBoost с 15 признаками:**\n",
    "\n",
    "    * Гиперпараметры лучшего результата\n",
    "    \n",
    "        * 'depth': 2, \n",
    "        * 'l2_leaf_reg': 1, \n",
    "        * 'learning_rate': 0.18\n",
    "        * 'iterations': 1808\n",
    "        * 'thresholds':  0.27381419399180923\n",
    "\n",
    "    * train предсказание ROC_AUC:  0.926; const:  0.5\n",
    "    * train предсказание Accuracy:  0.923; const:  0.736\n",
    "    * train предсказание F1_score:  0.865; const:  0.0\n",
    "    \n",
    "* Метрики на тестововй выборке:\n",
    "    \n",
    "    * Итоговое test предсказание ROC_AUC:  0.856 const:  0.5\n",
    "    * Итоговое test предсказание Accuracy:  0.869 const:  0.736\n",
    "    * Итоговое test предсказание F1_score:  0.773 const:  0.0\n",
    "    \n",
    "* Везде во всех моделях использовали random_state=290822.\n",
    "    \n",
    "**Ключевые моменты для решения задачи:**\n",
    "  \n",
    "* Не должно быть утечки данных на кроссвалидации и в тесте.\n",
    "* Правильная подготовка выборки для обучения (обработка NaN, выбросы, изучение/добавление признаков, дисбаланс классов, прочие аномалии), то есть подготовка данных, чтобы модель обучилась предсказывать то, что требуется \"без всяких искажающих факторов\".\n",
    "* Полноценный подбор гиперпараметров: использование всех доступных методов \"тюнинга\" обучения.\n",
    "* Анализ лучшей модели и улучшение результата через изучение предсказаний/признаков."
   ]
  },
  {
   "cell_type": "markdown",
   "metadata": {},
   "source": [
    "0. **Возникшие трудности:**\n",
    "\n",
    "* Были попытки использования upsampling и SMOTE для дисбаланса классов, однако утечка данных на кросс валидации обучала модель не правильно. Пробовал без кроссвалидации просто через .fit в CatBoost с eval_set обучать, но улучшения метрики это все равно не дало. Пришел к выводу, что это только искажает данные и модель не правильно обучается. Возможно, в каких то случаях эти методы борьбы с дисбалансом будут полезны, однако не в этом случае. Все попытки были удалены из проекта."
   ]
  }
 ],
 "metadata": {
  "ExecuteTimeLog": [
   {
    "duration": 383,
    "start_time": "2022-08-31T13:25:06.931Z"
   },
   {
    "duration": 74,
    "start_time": "2022-08-31T13:25:10.323Z"
   },
   {
    "duration": 75,
    "start_time": "2022-08-31T13:26:11.323Z"
   },
   {
    "duration": 59,
    "start_time": "2022-08-31T13:29:06.011Z"
   },
   {
    "duration": 4,
    "start_time": "2022-08-31T13:32:39.460Z"
   },
   {
    "duration": 1806,
    "start_time": "2022-08-31T13:32:41.949Z"
   },
   {
    "duration": 3,
    "start_time": "2022-08-31T13:32:56.372Z"
   },
   {
    "duration": 432,
    "start_time": "2022-08-31T13:32:57.411Z"
   },
   {
    "duration": 78,
    "start_time": "2022-08-31T13:33:29.370Z"
   },
   {
    "duration": 90,
    "start_time": "2022-08-31T13:34:30.421Z"
   },
   {
    "duration": 132,
    "start_time": "2022-08-31T13:34:38.708Z"
   },
   {
    "duration": 3,
    "start_time": "2022-08-31T13:34:58.323Z"
   },
   {
    "duration": 645,
    "start_time": "2022-08-31T13:34:59.723Z"
   },
   {
    "duration": 760,
    "start_time": "2022-08-31T13:35:51.819Z"
   },
   {
    "duration": 260,
    "start_time": "2022-08-31T13:36:39.531Z"
   },
   {
    "duration": 4,
    "start_time": "2022-08-31T13:45:28.010Z"
   },
   {
    "duration": 1638,
    "start_time": "2022-08-31T13:45:30.962Z"
   },
   {
    "duration": 7,
    "start_time": "2022-08-31T13:47:44.771Z"
   },
   {
    "duration": 17,
    "start_time": "2022-08-31T13:47:51.771Z"
   },
   {
    "duration": 4,
    "start_time": "2022-08-31T13:47:52.460Z"
   },
   {
    "duration": 3,
    "start_time": "2022-08-31T13:47:53.842Z"
   },
   {
    "duration": 14,
    "start_time": "2022-08-31T13:47:54.923Z"
   },
   {
    "duration": 10,
    "start_time": "2022-08-31T13:47:56.691Z"
   },
   {
    "duration": 5,
    "start_time": "2022-08-31T13:48:57.184Z"
   },
   {
    "duration": 9,
    "start_time": "2022-08-31T13:49:07.090Z"
   },
   {
    "duration": 5,
    "start_time": "2022-08-31T13:49:47.003Z"
   },
   {
    "duration": 6,
    "start_time": "2022-08-31T13:50:42.493Z"
   },
   {
    "duration": 11,
    "start_time": "2022-08-31T13:51:31.885Z"
   },
   {
    "duration": 10,
    "start_time": "2022-08-31T13:54:11.060Z"
   },
   {
    "duration": 10,
    "start_time": "2022-08-31T13:57:02.127Z"
   },
   {
    "duration": 10,
    "start_time": "2022-08-31T13:57:11.058Z"
   },
   {
    "duration": 6,
    "start_time": "2022-08-31T14:06:20.470Z"
   },
   {
    "duration": 16,
    "start_time": "2022-08-31T14:06:32.651Z"
   },
   {
    "duration": 12,
    "start_time": "2022-08-31T14:06:37.452Z"
   },
   {
    "duration": 12,
    "start_time": "2022-08-31T14:07:15.491Z"
   },
   {
    "duration": 6,
    "start_time": "2022-08-31T14:12:31.602Z"
   },
   {
    "duration": 6,
    "start_time": "2022-08-31T14:12:33.131Z"
   },
   {
    "duration": 7,
    "start_time": "2022-08-31T14:12:47.552Z"
   },
   {
    "duration": 5,
    "start_time": "2022-08-31T14:16:23.459Z"
   },
   {
    "duration": 3,
    "start_time": "2022-08-31T14:18:00.043Z"
   },
   {
    "duration": 689,
    "start_time": "2022-08-31T14:18:16.630Z"
   },
   {
    "duration": 6,
    "start_time": "2022-08-31T14:25:04.450Z"
   },
   {
    "duration": 6,
    "start_time": "2022-08-31T14:25:06.739Z"
   },
   {
    "duration": 9,
    "start_time": "2022-08-31T14:25:08.291Z"
   },
   {
    "duration": 130,
    "start_time": "2022-08-31T14:29:50.211Z"
   },
   {
    "duration": 129,
    "start_time": "2022-08-31T14:30:00.963Z"
   },
   {
    "duration": 113,
    "start_time": "2022-08-31T14:30:27.381Z"
   },
   {
    "duration": 97,
    "start_time": "2022-08-31T14:31:02.091Z"
   },
   {
    "duration": 103,
    "start_time": "2022-08-31T14:33:27.950Z"
   },
   {
    "duration": 198,
    "start_time": "2022-08-31T14:41:55.454Z"
   },
   {
    "duration": 117,
    "start_time": "2022-08-31T14:42:05.243Z"
   },
   {
    "duration": 5,
    "start_time": "2022-08-31T14:52:08.590Z"
   },
   {
    "duration": 4,
    "start_time": "2022-08-31T14:52:30.182Z"
   },
   {
    "duration": 91,
    "start_time": "2022-08-31T14:52:46.531Z"
   },
   {
    "duration": 86,
    "start_time": "2022-08-31T14:52:51.257Z"
   },
   {
    "duration": 87,
    "start_time": "2022-08-31T14:52:58.851Z"
   },
   {
    "duration": 5,
    "start_time": "2022-08-31T14:53:11.362Z"
   },
   {
    "duration": 75,
    "start_time": "2022-08-31T14:53:53.965Z"
   },
   {
    "duration": 5,
    "start_time": "2022-08-31T14:54:06.650Z"
   },
   {
    "duration": 6,
    "start_time": "2022-08-31T14:54:58.183Z"
   },
   {
    "duration": 5,
    "start_time": "2022-08-31T14:55:16.419Z"
   },
   {
    "duration": 15,
    "start_time": "2022-08-31T14:55:21.204Z"
   },
   {
    "duration": 9,
    "start_time": "2022-08-31T14:55:42.204Z"
   },
   {
    "duration": 14,
    "start_time": "2022-08-31T14:55:44.030Z"
   },
   {
    "duration": 9,
    "start_time": "2022-08-31T14:55:45.291Z"
   },
   {
    "duration": 10,
    "start_time": "2022-08-31T14:55:46.249Z"
   },
   {
    "duration": 105,
    "start_time": "2022-08-31T14:55:57.922Z"
   },
   {
    "duration": 107,
    "start_time": "2022-08-31T14:56:16.465Z"
   },
   {
    "duration": 355,
    "start_time": "2022-09-01T13:28:03.938Z"
   },
   {
    "duration": 4,
    "start_time": "2022-09-01T13:28:05.379Z"
   },
   {
    "duration": 2010,
    "start_time": "2022-09-01T13:28:07.278Z"
   },
   {
    "duration": 15,
    "start_time": "2022-09-01T13:28:12.224Z"
   },
   {
    "duration": 4,
    "start_time": "2022-09-01T13:28:14.678Z"
   },
   {
    "duration": 0,
    "start_time": "2022-09-03T11:22:56.298Z"
   },
   {
    "duration": 14,
    "start_time": "2022-09-03T11:23:09.598Z"
   },
   {
    "duration": 1111,
    "start_time": "2022-09-03T12:48:01.485Z"
   },
   {
    "duration": 4,
    "start_time": "2022-09-03T12:48:02.601Z"
   },
   {
    "duration": 1516,
    "start_time": "2022-09-03T12:48:02.609Z"
   },
   {
    "duration": 21,
    "start_time": "2022-09-03T12:48:04.127Z"
   },
   {
    "duration": 7,
    "start_time": "2022-09-03T12:48:04.151Z"
   },
   {
    "duration": 7,
    "start_time": "2022-09-03T12:48:04.159Z"
   },
   {
    "duration": 18,
    "start_time": "2022-09-03T12:48:04.167Z"
   },
   {
    "duration": 22,
    "start_time": "2022-09-03T12:48:04.191Z"
   },
   {
    "duration": 12,
    "start_time": "2022-09-03T12:48:04.216Z"
   },
   {
    "duration": 5,
    "start_time": "2022-09-03T12:48:04.230Z"
   },
   {
    "duration": 21,
    "start_time": "2022-09-03T12:48:04.237Z"
   },
   {
    "duration": 39,
    "start_time": "2022-09-03T12:48:04.259Z"
   },
   {
    "duration": 12,
    "start_time": "2022-09-03T12:48:04.301Z"
   },
   {
    "duration": 7,
    "start_time": "2022-09-03T12:48:04.315Z"
   },
   {
    "duration": 8,
    "start_time": "2022-09-03T12:48:04.324Z"
   },
   {
    "duration": 8,
    "start_time": "2022-09-03T12:48:04.334Z"
   },
   {
    "duration": 42,
    "start_time": "2022-09-03T12:48:04.344Z"
   },
   {
    "duration": 5,
    "start_time": "2022-09-03T12:48:04.387Z"
   },
   {
    "duration": 458,
    "start_time": "2022-09-03T12:48:04.394Z"
   },
   {
    "duration": 5,
    "start_time": "2022-09-03T12:48:04.853Z"
   },
   {
    "duration": 150,
    "start_time": "2022-09-03T12:48:04.860Z"
   },
   {
    "duration": 6,
    "start_time": "2022-09-03T12:48:05.012Z"
   },
   {
    "duration": 189,
    "start_time": "2022-09-03T12:48:05.020Z"
   },
   {
    "duration": 9,
    "start_time": "2022-09-03T12:48:05.211Z"
   },
   {
    "duration": 130,
    "start_time": "2022-09-03T12:48:05.222Z"
   },
   {
    "duration": 5,
    "start_time": "2022-09-03T12:48:05.355Z"
   },
   {
    "duration": 25,
    "start_time": "2022-09-03T12:48:05.365Z"
   },
   {
    "duration": 30,
    "start_time": "2022-09-03T12:48:05.394Z"
   },
   {
    "duration": 10,
    "start_time": "2022-09-03T12:48:05.426Z"
   },
   {
    "duration": 17,
    "start_time": "2022-09-03T12:48:05.437Z"
   },
   {
    "duration": 19,
    "start_time": "2022-09-03T12:48:05.456Z"
   },
   {
    "duration": 25,
    "start_time": "2022-09-03T12:48:05.477Z"
   },
   {
    "duration": 121,
    "start_time": "2022-09-03T12:48:05.504Z"
   },
   {
    "duration": 9,
    "start_time": "2022-09-03T12:48:05.626Z"
   },
   {
    "duration": 15,
    "start_time": "2022-09-03T12:48:05.637Z"
   },
   {
    "duration": 34,
    "start_time": "2022-09-03T12:48:05.653Z"
   },
   {
    "duration": 12,
    "start_time": "2022-09-03T12:48:05.690Z"
   },
   {
    "duration": 5,
    "start_time": "2022-09-03T12:48:05.704Z"
   },
   {
    "duration": 221,
    "start_time": "2022-09-03T12:48:05.711Z"
   },
   {
    "duration": 5,
    "start_time": "2022-09-03T12:48:05.935Z"
   },
   {
    "duration": 141,
    "start_time": "2022-09-03T12:48:05.941Z"
   },
   {
    "duration": 14,
    "start_time": "2022-09-03T12:48:06.087Z"
   },
   {
    "duration": 147,
    "start_time": "2022-09-03T12:48:06.103Z"
   },
   {
    "duration": 9,
    "start_time": "2022-09-03T12:48:06.252Z"
   },
   {
    "duration": 146,
    "start_time": "2022-09-03T12:48:06.263Z"
   },
   {
    "duration": 11,
    "start_time": "2022-09-03T12:48:06.411Z"
   },
   {
    "duration": 17,
    "start_time": "2022-09-03T12:48:06.424Z"
   },
   {
    "duration": 12,
    "start_time": "2022-09-03T12:48:06.443Z"
   },
   {
    "duration": 41,
    "start_time": "2022-09-03T12:48:06.457Z"
   },
   {
    "duration": 5,
    "start_time": "2022-09-03T12:48:06.501Z"
   },
   {
    "duration": 119,
    "start_time": "2022-09-03T12:48:06.507Z"
   },
   {
    "duration": 138,
    "start_time": "2022-09-03T12:48:06.628Z"
   },
   {
    "duration": 126,
    "start_time": "2022-09-03T12:48:06.768Z"
   },
   {
    "duration": 154,
    "start_time": "2022-09-03T12:48:06.896Z"
   },
   {
    "duration": 145,
    "start_time": "2022-09-03T12:48:07.052Z"
   },
   {
    "duration": 132,
    "start_time": "2022-09-03T12:48:07.199Z"
   },
   {
    "duration": 125,
    "start_time": "2022-09-03T12:48:07.333Z"
   },
   {
    "duration": 8,
    "start_time": "2022-09-03T12:48:07.460Z"
   },
   {
    "duration": 17,
    "start_time": "2022-09-03T12:48:07.485Z"
   },
   {
    "duration": 10,
    "start_time": "2022-09-03T12:48:07.504Z"
   },
   {
    "duration": 9,
    "start_time": "2022-09-03T12:48:07.516Z"
   },
   {
    "duration": 168,
    "start_time": "2022-09-03T12:48:07.527Z"
   },
   {
    "duration": 11,
    "start_time": "2022-09-03T12:48:07.701Z"
   },
   {
    "duration": 43,
    "start_time": "2022-09-03T12:48:07.714Z"
   },
   {
    "duration": 4,
    "start_time": "2022-09-03T12:48:07.759Z"
   },
   {
    "duration": 24,
    "start_time": "2022-09-03T12:48:07.764Z"
   },
   {
    "duration": 23,
    "start_time": "2022-09-03T12:48:07.792Z"
   },
   {
    "duration": 19,
    "start_time": "2022-09-03T12:48:07.817Z"
   },
   {
    "duration": 11,
    "start_time": "2022-09-03T12:48:07.838Z"
   },
   {
    "duration": 48,
    "start_time": "2022-09-03T12:48:07.851Z"
   },
   {
    "duration": 13,
    "start_time": "2022-09-03T12:48:07.900Z"
   },
   {
    "duration": 24,
    "start_time": "2022-09-03T12:48:07.914Z"
   },
   {
    "duration": 7,
    "start_time": "2022-09-03T12:48:07.939Z"
   },
   {
    "duration": 40,
    "start_time": "2022-09-03T12:48:07.948Z"
   },
   {
    "duration": 20,
    "start_time": "2022-09-03T12:48:07.992Z"
   },
   {
    "duration": 13,
    "start_time": "2022-09-03T12:48:08.013Z"
   },
   {
    "duration": 15,
    "start_time": "2022-09-03T12:48:08.028Z"
   },
   {
    "duration": 5,
    "start_time": "2022-09-03T12:48:08.045Z"
   },
   {
    "duration": 39,
    "start_time": "2022-09-03T12:48:08.052Z"
   },
   {
    "duration": 11,
    "start_time": "2022-09-03T12:48:08.093Z"
   },
   {
    "duration": 11,
    "start_time": "2022-09-03T12:48:08.112Z"
   },
   {
    "duration": 11,
    "start_time": "2022-09-03T12:48:08.125Z"
   },
   {
    "duration": 53,
    "start_time": "2022-09-03T12:48:08.138Z"
   },
   {
    "duration": 13,
    "start_time": "2022-09-03T12:48:08.193Z"
   },
   {
    "duration": 17,
    "start_time": "2022-09-03T12:48:08.208Z"
   },
   {
    "duration": 11,
    "start_time": "2022-09-03T12:48:08.227Z"
   },
   {
    "duration": 59,
    "start_time": "2022-09-03T12:48:08.240Z"
   },
   {
    "duration": 13,
    "start_time": "2022-09-03T12:48:08.300Z"
   },
   {
    "duration": 21,
    "start_time": "2022-09-03T12:48:08.316Z"
   },
   {
    "duration": 9,
    "start_time": "2022-09-03T12:48:08.339Z"
   },
   {
    "duration": 55,
    "start_time": "2022-09-03T12:48:08.349Z"
   },
   {
    "duration": 6,
    "start_time": "2022-09-03T12:48:08.405Z"
   },
   {
    "duration": 10,
    "start_time": "2022-09-03T12:48:08.413Z"
   },
   {
    "duration": 141,
    "start_time": "2022-09-03T12:48:08.425Z"
   },
   {
    "duration": 275,
    "start_time": "2022-09-03T12:48:08.568Z"
   },
   {
    "duration": 9,
    "start_time": "2022-09-03T12:48:08.845Z"
   },
   {
    "duration": 15,
    "start_time": "2022-09-03T12:48:08.855Z"
   },
   {
    "duration": 29,
    "start_time": "2022-09-03T12:48:08.885Z"
   },
   {
    "duration": 8,
    "start_time": "2022-09-03T12:48:08.916Z"
   },
   {
    "duration": 25,
    "start_time": "2022-09-03T12:48:08.926Z"
   },
   {
    "duration": 50,
    "start_time": "2022-09-03T12:48:08.952Z"
   },
   {
    "duration": 8,
    "start_time": "2022-09-03T12:48:09.004Z"
   },
   {
    "duration": 23,
    "start_time": "2022-09-03T12:48:09.013Z"
   },
   {
    "duration": 19,
    "start_time": "2022-09-03T12:48:09.038Z"
   },
   {
    "duration": 11,
    "start_time": "2022-09-03T12:48:09.088Z"
   },
   {
    "duration": 24,
    "start_time": "2022-09-03T12:48:09.102Z"
   },
   {
    "duration": 71,
    "start_time": "2022-09-03T12:48:09.128Z"
   },
   {
    "duration": 5,
    "start_time": "2022-09-03T12:48:09.201Z"
   },
   {
    "duration": 10,
    "start_time": "2022-09-03T12:48:09.208Z"
   },
   {
    "duration": 139,
    "start_time": "2022-09-03T12:48:09.221Z"
   },
   {
    "duration": 135,
    "start_time": "2022-09-03T12:48:09.362Z"
   },
   {
    "duration": 10,
    "start_time": "2022-09-03T12:48:09.501Z"
   },
   {
    "duration": 19,
    "start_time": "2022-09-03T12:48:09.513Z"
   },
   {
    "duration": 23,
    "start_time": "2022-09-03T12:48:09.534Z"
   },
   {
    "duration": 164,
    "start_time": "2022-09-03T12:48:09.559Z"
   },
   {
    "duration": 141,
    "start_time": "2022-09-03T12:48:09.725Z"
   },
   {
    "duration": 135744,
    "start_time": "2022-09-03T12:48:09.868Z"
   },
   {
    "duration": 135951,
    "start_time": "2022-09-03T12:50:25.614Z"
   },
   {
    "duration": 1351,
    "start_time": "2022-09-03T12:52:41.567Z"
   },
   {
    "duration": 4,
    "start_time": "2022-09-03T12:52:42.920Z"
   },
   {
    "duration": 18,
    "start_time": "2022-09-03T12:52:42.926Z"
   },
   {
    "duration": 129,
    "start_time": "2022-09-03T12:52:42.946Z"
   },
   {
    "duration": 1075,
    "start_time": "2022-09-03T12:54:09.027Z"
   },
   {
    "duration": 3,
    "start_time": "2022-09-03T12:54:10.104Z"
   },
   {
    "duration": 1750,
    "start_time": "2022-09-03T12:54:10.109Z"
   },
   {
    "duration": 17,
    "start_time": "2022-09-03T12:54:11.861Z"
   },
   {
    "duration": 15,
    "start_time": "2022-09-03T12:54:11.880Z"
   },
   {
    "duration": 4,
    "start_time": "2022-09-03T12:54:11.897Z"
   },
   {
    "duration": 14,
    "start_time": "2022-09-03T12:54:11.903Z"
   },
   {
    "duration": 10,
    "start_time": "2022-09-03T12:54:11.919Z"
   },
   {
    "duration": 11,
    "start_time": "2022-09-03T12:54:11.930Z"
   },
   {
    "duration": 5,
    "start_time": "2022-09-03T12:54:11.944Z"
   },
   {
    "duration": 44,
    "start_time": "2022-09-03T12:54:11.950Z"
   },
   {
    "duration": 12,
    "start_time": "2022-09-03T12:54:11.996Z"
   },
   {
    "duration": 8,
    "start_time": "2022-09-03T12:54:12.010Z"
   },
   {
    "duration": 6,
    "start_time": "2022-09-03T12:54:12.019Z"
   },
   {
    "duration": 7,
    "start_time": "2022-09-03T12:54:12.027Z"
   },
   {
    "duration": 7,
    "start_time": "2022-09-03T12:54:12.035Z"
   },
   {
    "duration": 7,
    "start_time": "2022-09-03T12:54:12.044Z"
   },
   {
    "duration": 42,
    "start_time": "2022-09-03T12:54:12.053Z"
   },
   {
    "duration": 418,
    "start_time": "2022-09-03T12:54:12.097Z"
   },
   {
    "duration": 4,
    "start_time": "2022-09-03T12:54:12.517Z"
   },
   {
    "duration": 130,
    "start_time": "2022-09-03T12:54:12.523Z"
   },
   {
    "duration": 5,
    "start_time": "2022-09-03T12:54:12.654Z"
   },
   {
    "duration": 165,
    "start_time": "2022-09-03T12:54:12.661Z"
   },
   {
    "duration": 11,
    "start_time": "2022-09-03T12:54:12.828Z"
   },
   {
    "duration": 133,
    "start_time": "2022-09-03T12:54:12.842Z"
   },
   {
    "duration": 4,
    "start_time": "2022-09-03T12:54:12.977Z"
   },
   {
    "duration": 17,
    "start_time": "2022-09-03T12:54:12.984Z"
   },
   {
    "duration": 11,
    "start_time": "2022-09-03T12:54:13.006Z"
   },
   {
    "duration": 8,
    "start_time": "2022-09-03T12:54:13.019Z"
   },
   {
    "duration": 14,
    "start_time": "2022-09-03T12:54:13.029Z"
   },
   {
    "duration": 6,
    "start_time": "2022-09-03T12:54:13.044Z"
   },
   {
    "duration": 55,
    "start_time": "2022-09-03T12:54:13.052Z"
   },
   {
    "duration": 100,
    "start_time": "2022-09-03T12:54:13.109Z"
   },
   {
    "duration": 9,
    "start_time": "2022-09-03T12:54:13.211Z"
   },
   {
    "duration": 16,
    "start_time": "2022-09-03T12:54:13.222Z"
   },
   {
    "duration": 6,
    "start_time": "2022-09-03T12:54:13.240Z"
   },
   {
    "duration": 7,
    "start_time": "2022-09-03T12:54:13.248Z"
   },
   {
    "duration": 28,
    "start_time": "2022-09-03T12:54:13.257Z"
   },
   {
    "duration": 209,
    "start_time": "2022-09-03T12:54:13.288Z"
   },
   {
    "duration": 6,
    "start_time": "2022-09-03T12:54:13.498Z"
   },
   {
    "duration": 117,
    "start_time": "2022-09-03T12:54:13.505Z"
   },
   {
    "duration": 8,
    "start_time": "2022-09-03T12:54:13.623Z"
   },
   {
    "duration": 116,
    "start_time": "2022-09-03T12:54:13.632Z"
   },
   {
    "duration": 7,
    "start_time": "2022-09-03T12:54:13.749Z"
   },
   {
    "duration": 156,
    "start_time": "2022-09-03T12:54:13.758Z"
   },
   {
    "duration": 11,
    "start_time": "2022-09-03T12:54:13.916Z"
   },
   {
    "duration": 17,
    "start_time": "2022-09-03T12:54:13.929Z"
   },
   {
    "duration": 7,
    "start_time": "2022-09-03T12:54:13.948Z"
   },
   {
    "duration": 8,
    "start_time": "2022-09-03T12:54:13.957Z"
   },
   {
    "duration": 4,
    "start_time": "2022-09-03T12:54:13.967Z"
   },
   {
    "duration": 133,
    "start_time": "2022-09-03T12:54:13.973Z"
   },
   {
    "duration": 133,
    "start_time": "2022-09-03T12:54:14.107Z"
   },
   {
    "duration": 119,
    "start_time": "2022-09-03T12:54:14.241Z"
   },
   {
    "duration": 157,
    "start_time": "2022-09-03T12:54:14.362Z"
   },
   {
    "duration": 179,
    "start_time": "2022-09-03T12:54:14.521Z"
   },
   {
    "duration": 113,
    "start_time": "2022-09-03T12:54:14.702Z"
   },
   {
    "duration": 118,
    "start_time": "2022-09-03T12:54:14.817Z"
   },
   {
    "duration": 7,
    "start_time": "2022-09-03T12:54:14.937Z"
   },
   {
    "duration": 20,
    "start_time": "2022-09-03T12:54:14.946Z"
   },
   {
    "duration": 21,
    "start_time": "2022-09-03T12:54:14.967Z"
   },
   {
    "duration": 10,
    "start_time": "2022-09-03T12:54:14.991Z"
   },
   {
    "duration": 130,
    "start_time": "2022-09-03T12:54:15.003Z"
   },
   {
    "duration": 12,
    "start_time": "2022-09-03T12:54:15.135Z"
   },
   {
    "duration": 61,
    "start_time": "2022-09-03T12:54:15.149Z"
   },
   {
    "duration": 4,
    "start_time": "2022-09-03T12:54:15.212Z"
   },
   {
    "duration": 7,
    "start_time": "2022-09-03T12:54:15.218Z"
   },
   {
    "duration": 11,
    "start_time": "2022-09-03T12:54:15.227Z"
   },
   {
    "duration": 18,
    "start_time": "2022-09-03T12:54:15.239Z"
   },
   {
    "duration": 43,
    "start_time": "2022-09-03T12:54:15.259Z"
   },
   {
    "duration": 19,
    "start_time": "2022-09-03T12:54:15.303Z"
   },
   {
    "duration": 11,
    "start_time": "2022-09-03T12:54:15.323Z"
   },
   {
    "duration": 20,
    "start_time": "2022-09-03T12:54:15.336Z"
   },
   {
    "duration": 39,
    "start_time": "2022-09-03T12:54:15.358Z"
   },
   {
    "duration": 7,
    "start_time": "2022-09-03T12:54:15.399Z"
   },
   {
    "duration": 7,
    "start_time": "2022-09-03T12:54:15.407Z"
   },
   {
    "duration": 14,
    "start_time": "2022-09-03T12:54:15.416Z"
   },
   {
    "duration": 8,
    "start_time": "2022-09-03T12:54:15.431Z"
   },
   {
    "duration": 5,
    "start_time": "2022-09-03T12:54:15.440Z"
   },
   {
    "duration": 15,
    "start_time": "2022-09-03T12:54:15.447Z"
   },
   {
    "duration": 36,
    "start_time": "2022-09-03T12:54:15.464Z"
   },
   {
    "duration": 10,
    "start_time": "2022-09-03T12:54:15.502Z"
   },
   {
    "duration": 11,
    "start_time": "2022-09-03T12:54:15.520Z"
   },
   {
    "duration": 11,
    "start_time": "2022-09-03T12:54:15.533Z"
   },
   {
    "duration": 38,
    "start_time": "2022-09-03T12:54:15.546Z"
   },
   {
    "duration": 7,
    "start_time": "2022-09-03T12:54:15.598Z"
   },
   {
    "duration": 11,
    "start_time": "2022-09-03T12:54:15.607Z"
   },
   {
    "duration": 21,
    "start_time": "2022-09-03T12:54:15.620Z"
   },
   {
    "duration": 8,
    "start_time": "2022-09-03T12:54:15.642Z"
   },
   {
    "duration": 50,
    "start_time": "2022-09-03T12:54:15.651Z"
   },
   {
    "duration": 7,
    "start_time": "2022-09-03T12:54:15.703Z"
   },
   {
    "duration": 21,
    "start_time": "2022-09-03T12:54:15.711Z"
   },
   {
    "duration": 6,
    "start_time": "2022-09-03T12:54:15.733Z"
   },
   {
    "duration": 9,
    "start_time": "2022-09-03T12:54:15.741Z"
   },
   {
    "duration": 130,
    "start_time": "2022-09-03T12:54:15.752Z"
   },
   {
    "duration": 276,
    "start_time": "2022-09-03T12:54:15.886Z"
   },
   {
    "duration": 10,
    "start_time": "2022-09-03T12:54:16.163Z"
   },
   {
    "duration": 24,
    "start_time": "2022-09-03T12:54:16.174Z"
   },
   {
    "duration": 23,
    "start_time": "2022-09-03T12:54:16.200Z"
   },
   {
    "duration": 10,
    "start_time": "2022-09-03T12:54:16.224Z"
   },
   {
    "duration": 27,
    "start_time": "2022-09-03T12:54:16.236Z"
   },
   {
    "duration": 7,
    "start_time": "2022-09-03T12:54:16.297Z"
   },
   {
    "duration": 9,
    "start_time": "2022-09-03T12:54:16.306Z"
   },
   {
    "duration": 23,
    "start_time": "2022-09-03T12:54:16.316Z"
   },
   {
    "duration": 22,
    "start_time": "2022-09-03T12:54:16.340Z"
   },
   {
    "duration": 31,
    "start_time": "2022-09-03T12:54:16.363Z"
   },
   {
    "duration": 20,
    "start_time": "2022-09-03T12:54:16.396Z"
   },
   {
    "duration": 37,
    "start_time": "2022-09-03T12:54:16.418Z"
   },
   {
    "duration": 5,
    "start_time": "2022-09-03T12:54:16.457Z"
   },
   {
    "duration": 20,
    "start_time": "2022-09-03T12:54:16.487Z"
   },
   {
    "duration": 122,
    "start_time": "2022-09-03T12:54:16.509Z"
   },
   {
    "duration": 134,
    "start_time": "2022-09-03T12:54:16.633Z"
   },
   {
    "duration": 28,
    "start_time": "2022-09-03T12:54:16.769Z"
   },
   {
    "duration": 8,
    "start_time": "2022-09-03T12:54:16.799Z"
   },
   {
    "duration": 10,
    "start_time": "2022-09-03T12:54:16.808Z"
   },
   {
    "duration": 128,
    "start_time": "2022-09-03T12:54:16.819Z"
   },
   {
    "duration": 123,
    "start_time": "2022-09-03T12:54:16.948Z"
   },
   {
    "duration": 96598,
    "start_time": "2022-09-03T12:54:17.073Z"
   },
   {
    "duration": 1128,
    "start_time": "2022-09-03T12:55:53.673Z"
   },
   {
    "duration": 279074,
    "start_time": "2022-09-03T12:55:54.803Z"
   },
   {
    "duration": 4,
    "start_time": "2022-09-03T13:00:33.879Z"
   },
   {
    "duration": 20,
    "start_time": "2022-09-03T13:00:33.896Z"
   },
   {
    "duration": 108,
    "start_time": "2022-09-03T13:00:33.918Z"
   },
   {
    "duration": 61,
    "start_time": "2022-09-06T21:27:23.763Z"
   }
  ],
  "kernelspec": {
   "display_name": "Python 3 (ipykernel)",
   "language": "python",
   "name": "python3"
  },
  "language_info": {
   "codemirror_mode": {
    "name": "ipython",
    "version": 3
   },
   "file_extension": ".py",
   "mimetype": "text/x-python",
   "name": "python",
   "nbconvert_exporter": "python",
   "pygments_lexer": "ipython3",
   "version": "3.9.12"
  },
  "toc": {
   "base_numbering": 1,
   "nav_menu": {},
   "number_sections": true,
   "sideBar": true,
   "skip_h1_title": true,
   "title_cell": "Table of Contents",
   "title_sidebar": "Contents",
   "toc_cell": false,
   "toc_position": {
    "height": "calc(100% - 180px)",
    "left": "10px",
    "top": "150px",
    "width": "250.797px"
   },
   "toc_section_display": true,
   "toc_window_display": true
  },
  "vscode": {
   "interpreter": {
    "hash": "ad2bdc8ecc057115af97d19610ffacc2b4e99fae6737bb82f5d7fb13d2f2c186"
   }
  }
 },
 "nbformat": 4,
 "nbformat_minor": 2
}
