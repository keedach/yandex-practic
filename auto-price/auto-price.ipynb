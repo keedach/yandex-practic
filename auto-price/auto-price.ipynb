{
 "cells": [
  {
   "cell_type": "markdown",
   "metadata": {},
   "source": [
    "# Определение стоимости автомобилей"
   ]
  },
  {
   "cell_type": "markdown",
   "metadata": {},
   "source": [
    "Сервис по продаже автомобилей с пробегом разрабатывает приложение для привлечения новых клиентов. В нём можно быстро узнать рыночную стоимость своего автомобиля. В вашем распоряжении исторические данные: технические характеристики, комплектации и цены автомобилей. Вам нужно построить модель для определения стоимости. \n",
    "\n",
    "Заказчику важны:\n",
    "\n",
    "- качество предсказания;\n",
    "- скорость предсказания;\n",
    "- время обучения."
   ]
  },
  {
   "cell_type": "markdown",
   "metadata": {},
   "source": [
    "## Подготовка данных"
   ]
  },
  {
   "cell_type": "code",
   "execution_count": 3,
   "metadata": {},
   "outputs": [],
   "source": [
    "import pandas as pd\n",
    "import numpy as np\n",
    "import matplotlib.pyplot as plt\n",
    "import lightgbm as lgb\n",
    "\n",
    "from sklearn.ensemble import RandomForestRegressor\n",
    "from sklearn.metrics import mean_squared_error\n",
    "from sklearn.model_selection import train_test_split, cross_val_score, RepeatedKFold\n",
    "from sklearn.preprocessing import StandardScaler, OrdinalEncoder\n",
    "\n",
    "import phik\n",
    "from phik.report import plot_correlation_matrix\n",
    "\n",
    "from tqdm import tqdm\n",
    "\n",
    "from IPython.display import display\n",
    "\n",
    "from catboost import CatBoostRegressor\n",
    "from catboost import cv, Pool"
   ]
  },
  {
   "cell_type": "code",
   "execution_count": 4,
   "metadata": {},
   "outputs": [
    {
     "data": {
      "text/html": [
       "<div>\n",
       "<style scoped>\n",
       "    .dataframe tbody tr th:only-of-type {\n",
       "        vertical-align: middle;\n",
       "    }\n",
       "\n",
       "    .dataframe tbody tr th {\n",
       "        vertical-align: top;\n",
       "    }\n",
       "\n",
       "    .dataframe thead th {\n",
       "        text-align: right;\n",
       "    }\n",
       "</style>\n",
       "<table border=\"1\" class=\"dataframe\">\n",
       "  <thead>\n",
       "    <tr style=\"text-align: right;\">\n",
       "      <th></th>\n",
       "      <th>DateCrawled</th>\n",
       "      <th>Price</th>\n",
       "      <th>VehicleType</th>\n",
       "      <th>RegistrationYear</th>\n",
       "      <th>Gearbox</th>\n",
       "      <th>Power</th>\n",
       "      <th>Model</th>\n",
       "      <th>Kilometer</th>\n",
       "      <th>RegistrationMonth</th>\n",
       "      <th>FuelType</th>\n",
       "      <th>Brand</th>\n",
       "      <th>NotRepaired</th>\n",
       "      <th>DateCreated</th>\n",
       "      <th>NumberOfPictures</th>\n",
       "      <th>PostalCode</th>\n",
       "      <th>LastSeen</th>\n",
       "    </tr>\n",
       "  </thead>\n",
       "  <tbody>\n",
       "    <tr>\n",
       "      <th>0</th>\n",
       "      <td>2016-03-24 11:52:17</td>\n",
       "      <td>480</td>\n",
       "      <td>NaN</td>\n",
       "      <td>1993</td>\n",
       "      <td>manual</td>\n",
       "      <td>0</td>\n",
       "      <td>golf</td>\n",
       "      <td>150000</td>\n",
       "      <td>0</td>\n",
       "      <td>petrol</td>\n",
       "      <td>volkswagen</td>\n",
       "      <td>NaN</td>\n",
       "      <td>2016-03-24 00:00:00</td>\n",
       "      <td>0</td>\n",
       "      <td>70435</td>\n",
       "      <td>2016-04-07 03:16:57</td>\n",
       "    </tr>\n",
       "    <tr>\n",
       "      <th>1</th>\n",
       "      <td>2016-03-24 10:58:45</td>\n",
       "      <td>18300</td>\n",
       "      <td>coupe</td>\n",
       "      <td>2011</td>\n",
       "      <td>manual</td>\n",
       "      <td>190</td>\n",
       "      <td>NaN</td>\n",
       "      <td>125000</td>\n",
       "      <td>5</td>\n",
       "      <td>gasoline</td>\n",
       "      <td>audi</td>\n",
       "      <td>yes</td>\n",
       "      <td>2016-03-24 00:00:00</td>\n",
       "      <td>0</td>\n",
       "      <td>66954</td>\n",
       "      <td>2016-04-07 01:46:50</td>\n",
       "    </tr>\n",
       "    <tr>\n",
       "      <th>2</th>\n",
       "      <td>2016-03-14 12:52:21</td>\n",
       "      <td>9800</td>\n",
       "      <td>suv</td>\n",
       "      <td>2004</td>\n",
       "      <td>auto</td>\n",
       "      <td>163</td>\n",
       "      <td>grand</td>\n",
       "      <td>125000</td>\n",
       "      <td>8</td>\n",
       "      <td>gasoline</td>\n",
       "      <td>jeep</td>\n",
       "      <td>NaN</td>\n",
       "      <td>2016-03-14 00:00:00</td>\n",
       "      <td>0</td>\n",
       "      <td>90480</td>\n",
       "      <td>2016-04-05 12:47:46</td>\n",
       "    </tr>\n",
       "  </tbody>\n",
       "</table>\n",
       "</div>"
      ],
      "text/plain": [
       "           DateCrawled  Price VehicleType  RegistrationYear Gearbox  Power  \\\n",
       "0  2016-03-24 11:52:17    480         NaN              1993  manual      0   \n",
       "1  2016-03-24 10:58:45  18300       coupe              2011  manual    190   \n",
       "2  2016-03-14 12:52:21   9800         suv              2004    auto    163   \n",
       "\n",
       "   Model  Kilometer  RegistrationMonth  FuelType       Brand NotRepaired  \\\n",
       "0   golf     150000                  0    petrol  volkswagen         NaN   \n",
       "1    NaN     125000                  5  gasoline        audi         yes   \n",
       "2  grand     125000                  8  gasoline        jeep         NaN   \n",
       "\n",
       "           DateCreated  NumberOfPictures  PostalCode             LastSeen  \n",
       "0  2016-03-24 00:00:00                 0       70435  2016-04-07 03:16:57  \n",
       "1  2016-03-24 00:00:00                 0       66954  2016-04-07 01:46:50  \n",
       "2  2016-03-14 00:00:00                 0       90480  2016-04-05 12:47:46  "
      ]
     },
     "execution_count": 4,
     "metadata": {},
     "output_type": "execute_result"
    }
   ],
   "source": [
    "# Прочитаем, взглянем на первые 3 строки.\n",
    "data = pd.read_csv('https://code.s3.yandex.net/datasets/autos.csv')\n",
    "\n",
    "# Сохраним без изменений\n",
    "data_origin = data.copy()\n",
    "data.head(3)"
   ]
  },
  {
   "cell_type": "markdown",
   "metadata": {},
   "source": [
    "**Признаки:**\n",
    "* DateCrawled — дата скачивания анкеты из базы;\n",
    "* VehicleType — тип автомобильного кузова;\n",
    "* RegistrationYear — год регистрации автомобиля;\n",
    "* Gearbox — тип коробки передач;\n",
    "* Power — мощность (л. с.);\n",
    "* Model — модель автомобиля;\n",
    "* Kilometer — пробег (км);\n",
    "* RegistrationMonth — месяц регистрации автомобиля;\n",
    "* FuelType — тип топлива;\n",
    "* Brand — марка автомобиля;\n",
    "* NotRepaired — была машина в ремонте или нет;\n",
    "* DateCreated — дата создания анкеты;\n",
    "* NumberOfPictures — количество фотографий автомобиля;\n",
    "* PostalCode — почтовый индекс владельца анкеты (пользователя);\n",
    "* LastSeen — дата последней активности пользователя.\n",
    "\n",
    "**Целевой признак:**\n",
    "* Price — цена (евро)."
   ]
  },
  {
   "cell_type": "markdown",
   "metadata": {},
   "source": [
    "Посмотрим `info()`"
   ]
  },
  {
   "cell_type": "code",
   "execution_count": 5,
   "metadata": {},
   "outputs": [
    {
     "name": "stdout",
     "output_type": "stream",
     "text": [
      "<class 'pandas.core.frame.DataFrame'>\n",
      "RangeIndex: 354369 entries, 0 to 354368\n",
      "Data columns (total 16 columns):\n",
      " #   Column             Non-Null Count   Dtype \n",
      "---  ------             --------------   ----- \n",
      " 0   DateCrawled        354369 non-null  object\n",
      " 1   Price              354369 non-null  int64 \n",
      " 2   VehicleType        316879 non-null  object\n",
      " 3   RegistrationYear   354369 non-null  int64 \n",
      " 4   Gearbox            334536 non-null  object\n",
      " 5   Power              354369 non-null  int64 \n",
      " 6   Model              334664 non-null  object\n",
      " 7   Kilometer          354369 non-null  int64 \n",
      " 8   RegistrationMonth  354369 non-null  int64 \n",
      " 9   FuelType           321474 non-null  object\n",
      " 10  Brand              354369 non-null  object\n",
      " 11  NotRepaired        283215 non-null  object\n",
      " 12  DateCreated        354369 non-null  object\n",
      " 13  NumberOfPictures   354369 non-null  int64 \n",
      " 14  PostalCode         354369 non-null  int64 \n",
      " 15  LastSeen           354369 non-null  object\n",
      "dtypes: int64(7), object(9)\n",
      "memory usage: 43.3+ MB\n"
     ]
    }
   ],
   "source": [
    "data.info()"
   ]
  },
  {
   "cell_type": "code",
   "execution_count": 6,
   "metadata": {},
   "outputs": [
    {
     "data": {
      "text/plain": [
       "VehicleType    0.105794\n",
       "Gearbox        0.055967\n",
       "Model          0.055606\n",
       "FuelType       0.092827\n",
       "NotRepaired    0.200791\n",
       "dtype: float64"
      ]
     },
     "execution_count": 6,
     "metadata": {},
     "output_type": "execute_result"
    }
   ],
   "source": [
    "data.isna().mean()[data.isna().mean() > 0]"
   ]
  },
  {
   "cell_type": "markdown",
   "metadata": {},
   "source": [
    "Есть пропуски. Проверим каждый столбец на тип данных, пропуски, изучим сами данные."
   ]
  },
  {
   "cell_type": "markdown",
   "metadata": {},
   "source": [
    "### Анализ столбцов"
   ]
  },
  {
   "cell_type": "markdown",
   "metadata": {},
   "source": [
    "Для начала приведем к единому регистру названия столбцов."
   ]
  },
  {
   "cell_type": "code",
   "execution_count": 7,
   "metadata": {},
   "outputs": [],
   "source": [
    "# функция для преобразования названий столбцов из CamelCase в snake_case\n",
    "def camel_to_snake(data):\n",
    "    col = []\n",
    "    for row in data.columns:\n",
    "        index = [i for i, c in enumerate(row) if c.isupper()]\n",
    "        count = -1\n",
    "        for i in index:\n",
    "            if i != 0:\n",
    "                count += 1\n",
    "                row = row[:i+count] + '_' + row[i+count:]\n",
    "        col.append(row.lower())\n",
    "    return col\n",
    "    "
   ]
  },
  {
   "cell_type": "code",
   "execution_count": 8,
   "metadata": {},
   "outputs": [],
   "source": [
    "data.columns = camel_to_snake(data)"
   ]
  },
  {
   "cell_type": "code",
   "execution_count": 9,
   "metadata": {},
   "outputs": [
    {
     "data": {
      "text/html": [
       "<div>\n",
       "<style scoped>\n",
       "    .dataframe tbody tr th:only-of-type {\n",
       "        vertical-align: middle;\n",
       "    }\n",
       "\n",
       "    .dataframe tbody tr th {\n",
       "        vertical-align: top;\n",
       "    }\n",
       "\n",
       "    .dataframe thead th {\n",
       "        text-align: right;\n",
       "    }\n",
       "</style>\n",
       "<table border=\"1\" class=\"dataframe\">\n",
       "  <thead>\n",
       "    <tr style=\"text-align: right;\">\n",
       "      <th></th>\n",
       "      <th>date_crawled</th>\n",
       "      <th>price</th>\n",
       "      <th>vehicle_type</th>\n",
       "      <th>registration_year</th>\n",
       "      <th>gearbox</th>\n",
       "      <th>power</th>\n",
       "      <th>model</th>\n",
       "      <th>kilometer</th>\n",
       "      <th>registration_month</th>\n",
       "      <th>fuel_type</th>\n",
       "      <th>brand</th>\n",
       "      <th>not_repaired</th>\n",
       "      <th>date_created</th>\n",
       "      <th>number_of_pictures</th>\n",
       "      <th>postal_code</th>\n",
       "      <th>last_seen</th>\n",
       "    </tr>\n",
       "  </thead>\n",
       "  <tbody>\n",
       "    <tr>\n",
       "      <th>0</th>\n",
       "      <td>2016-03-24 11:52:17</td>\n",
       "      <td>480</td>\n",
       "      <td>NaN</td>\n",
       "      <td>1993</td>\n",
       "      <td>manual</td>\n",
       "      <td>0</td>\n",
       "      <td>golf</td>\n",
       "      <td>150000</td>\n",
       "      <td>0</td>\n",
       "      <td>petrol</td>\n",
       "      <td>volkswagen</td>\n",
       "      <td>NaN</td>\n",
       "      <td>2016-03-24 00:00:00</td>\n",
       "      <td>0</td>\n",
       "      <td>70435</td>\n",
       "      <td>2016-04-07 03:16:57</td>\n",
       "    </tr>\n",
       "    <tr>\n",
       "      <th>1</th>\n",
       "      <td>2016-03-24 10:58:45</td>\n",
       "      <td>18300</td>\n",
       "      <td>coupe</td>\n",
       "      <td>2011</td>\n",
       "      <td>manual</td>\n",
       "      <td>190</td>\n",
       "      <td>NaN</td>\n",
       "      <td>125000</td>\n",
       "      <td>5</td>\n",
       "      <td>gasoline</td>\n",
       "      <td>audi</td>\n",
       "      <td>yes</td>\n",
       "      <td>2016-03-24 00:00:00</td>\n",
       "      <td>0</td>\n",
       "      <td>66954</td>\n",
       "      <td>2016-04-07 01:46:50</td>\n",
       "    </tr>\n",
       "    <tr>\n",
       "      <th>2</th>\n",
       "      <td>2016-03-14 12:52:21</td>\n",
       "      <td>9800</td>\n",
       "      <td>suv</td>\n",
       "      <td>2004</td>\n",
       "      <td>auto</td>\n",
       "      <td>163</td>\n",
       "      <td>grand</td>\n",
       "      <td>125000</td>\n",
       "      <td>8</td>\n",
       "      <td>gasoline</td>\n",
       "      <td>jeep</td>\n",
       "      <td>NaN</td>\n",
       "      <td>2016-03-14 00:00:00</td>\n",
       "      <td>0</td>\n",
       "      <td>90480</td>\n",
       "      <td>2016-04-05 12:47:46</td>\n",
       "    </tr>\n",
       "  </tbody>\n",
       "</table>\n",
       "</div>"
      ],
      "text/plain": [
       "          date_crawled  price vehicle_type  registration_year gearbox  power  \\\n",
       "0  2016-03-24 11:52:17    480          NaN               1993  manual      0   \n",
       "1  2016-03-24 10:58:45  18300        coupe               2011  manual    190   \n",
       "2  2016-03-14 12:52:21   9800          suv               2004    auto    163   \n",
       "\n",
       "   model  kilometer  registration_month fuel_type       brand not_repaired  \\\n",
       "0   golf     150000                   0    petrol  volkswagen          NaN   \n",
       "1    NaN     125000                   5  gasoline        audi          yes   \n",
       "2  grand     125000                   8  gasoline        jeep          NaN   \n",
       "\n",
       "          date_created  number_of_pictures  postal_code            last_seen  \n",
       "0  2016-03-24 00:00:00                   0        70435  2016-04-07 03:16:57  \n",
       "1  2016-03-24 00:00:00                   0        66954  2016-04-07 01:46:50  \n",
       "2  2016-03-14 00:00:00                   0        90480  2016-04-05 12:47:46  "
      ]
     },
     "execution_count": 9,
     "metadata": {},
     "output_type": "execute_result"
    }
   ],
   "source": [
    "# Проверка\n",
    "data.head(3)"
   ]
  },
  {
   "cell_type": "markdown",
   "metadata": {},
   "source": [
    "#### date_crawled"
   ]
  },
  {
   "cell_type": "code",
   "execution_count": 10,
   "metadata": {},
   "outputs": [
    {
     "data": {
      "text/plain": [
       "dtype('O')"
      ]
     },
     "execution_count": 10,
     "metadata": {},
     "output_type": "execute_result"
    }
   ],
   "source": [
    "# проверим тип данных\n",
    "data['date_crawled'].dtype"
   ]
  },
  {
   "cell_type": "code",
   "execution_count": 11,
   "metadata": {},
   "outputs": [
    {
     "data": {
      "text/plain": [
       "0   2016-03-24 11:52:17\n",
       "1   2016-03-24 10:58:45\n",
       "2   2016-03-14 12:52:21\n",
       "Name: date_crawled, dtype: datetime64[ns]"
      ]
     },
     "execution_count": 11,
     "metadata": {},
     "output_type": "execute_result"
    }
   ],
   "source": [
    "# переведем во временной формат\n",
    "data['date_crawled'] = pd.to_datetime(\n",
    "    data['date_crawled'], format='%Y.%m.%d %H:%M:%S')\n",
    "\n",
    "data['date_crawled'].head(3)"
   ]
  },
  {
   "cell_type": "code",
   "execution_count": 12,
   "metadata": {},
   "outputs": [
    {
     "data": {
      "text/plain": [
       "(76431,)"
      ]
     },
     "execution_count": 12,
     "metadata": {},
     "output_type": "execute_result"
    }
   ],
   "source": [
    "# посмотрим сколько не уникальных значений\n",
    "data['date_crawled'].value_counts().loc[\n",
    "    (data['date_crawled'].value_counts() > 1)\n",
    "    ].shape"
   ]
  },
  {
   "cell_type": "markdown",
   "metadata": {},
   "source": [
    "Много значений, проверим датафрейм на дубликаты."
   ]
  },
  {
   "cell_type": "code",
   "execution_count": 13,
   "metadata": {},
   "outputs": [
    {
     "data": {
      "text/plain": [
       "4"
      ]
     },
     "execution_count": 13,
     "metadata": {},
     "output_type": "execute_result"
    }
   ],
   "source": [
    "data.duplicated().sum()"
   ]
  },
  {
   "cell_type": "code",
   "execution_count": 14,
   "metadata": {},
   "outputs": [
    {
     "data": {
      "text/html": [
       "<div>\n",
       "<style scoped>\n",
       "    .dataframe tbody tr th:only-of-type {\n",
       "        vertical-align: middle;\n",
       "    }\n",
       "\n",
       "    .dataframe tbody tr th {\n",
       "        vertical-align: top;\n",
       "    }\n",
       "\n",
       "    .dataframe thead th {\n",
       "        text-align: right;\n",
       "    }\n",
       "</style>\n",
       "<table border=\"1\" class=\"dataframe\">\n",
       "  <thead>\n",
       "    <tr style=\"text-align: right;\">\n",
       "      <th></th>\n",
       "      <th>date_crawled</th>\n",
       "      <th>price</th>\n",
       "      <th>vehicle_type</th>\n",
       "      <th>registration_year</th>\n",
       "      <th>gearbox</th>\n",
       "      <th>power</th>\n",
       "      <th>model</th>\n",
       "      <th>kilometer</th>\n",
       "      <th>registration_month</th>\n",
       "      <th>fuel_type</th>\n",
       "      <th>brand</th>\n",
       "      <th>not_repaired</th>\n",
       "      <th>date_created</th>\n",
       "      <th>number_of_pictures</th>\n",
       "      <th>postal_code</th>\n",
       "      <th>last_seen</th>\n",
       "    </tr>\n",
       "  </thead>\n",
       "  <tbody>\n",
       "    <tr>\n",
       "      <th>171088</th>\n",
       "      <td>2016-03-08 18:42:48</td>\n",
       "      <td>1799</td>\n",
       "      <td>coupe</td>\n",
       "      <td>1999</td>\n",
       "      <td>auto</td>\n",
       "      <td>193</td>\n",
       "      <td>clk</td>\n",
       "      <td>20000</td>\n",
       "      <td>7</td>\n",
       "      <td>petrol</td>\n",
       "      <td>mercedes_benz</td>\n",
       "      <td>no</td>\n",
       "      <td>2016-03-08 00:00:00</td>\n",
       "      <td>0</td>\n",
       "      <td>89518</td>\n",
       "      <td>2016-03-09 09:46:57</td>\n",
       "    </tr>\n",
       "    <tr>\n",
       "      <th>231258</th>\n",
       "      <td>2016-03-28 00:56:10</td>\n",
       "      <td>1000</td>\n",
       "      <td>small</td>\n",
       "      <td>2002</td>\n",
       "      <td>manual</td>\n",
       "      <td>83</td>\n",
       "      <td>other</td>\n",
       "      <td>150000</td>\n",
       "      <td>1</td>\n",
       "      <td>petrol</td>\n",
       "      <td>suzuki</td>\n",
       "      <td>no</td>\n",
       "      <td>2016-03-28 00:00:00</td>\n",
       "      <td>0</td>\n",
       "      <td>66589</td>\n",
       "      <td>2016-03-28 08:46:21</td>\n",
       "    </tr>\n",
       "    <tr>\n",
       "      <th>258109</th>\n",
       "      <td>2016-04-03 09:01:15</td>\n",
       "      <td>4699</td>\n",
       "      <td>coupe</td>\n",
       "      <td>2003</td>\n",
       "      <td>auto</td>\n",
       "      <td>218</td>\n",
       "      <td>clk</td>\n",
       "      <td>125000</td>\n",
       "      <td>6</td>\n",
       "      <td>petrol</td>\n",
       "      <td>mercedes_benz</td>\n",
       "      <td>yes</td>\n",
       "      <td>2016-04-03 00:00:00</td>\n",
       "      <td>0</td>\n",
       "      <td>75196</td>\n",
       "      <td>2016-04-07 09:44:54</td>\n",
       "    </tr>\n",
       "    <tr>\n",
       "      <th>325651</th>\n",
       "      <td>2016-03-18 18:46:15</td>\n",
       "      <td>1999</td>\n",
       "      <td>wagon</td>\n",
       "      <td>2001</td>\n",
       "      <td>manual</td>\n",
       "      <td>131</td>\n",
       "      <td>passat</td>\n",
       "      <td>150000</td>\n",
       "      <td>7</td>\n",
       "      <td>gasoline</td>\n",
       "      <td>volkswagen</td>\n",
       "      <td>no</td>\n",
       "      <td>2016-03-18 00:00:00</td>\n",
       "      <td>0</td>\n",
       "      <td>36391</td>\n",
       "      <td>2016-03-18 18:46:15</td>\n",
       "    </tr>\n",
       "  </tbody>\n",
       "</table>\n",
       "</div>"
      ],
      "text/plain": [
       "              date_crawled  price vehicle_type  registration_year gearbox  \\\n",
       "171088 2016-03-08 18:42:48   1799        coupe               1999    auto   \n",
       "231258 2016-03-28 00:56:10   1000        small               2002  manual   \n",
       "258109 2016-04-03 09:01:15   4699        coupe               2003    auto   \n",
       "325651 2016-03-18 18:46:15   1999        wagon               2001  manual   \n",
       "\n",
       "        power   model  kilometer  registration_month fuel_type          brand  \\\n",
       "171088    193     clk      20000                   7    petrol  mercedes_benz   \n",
       "231258     83   other     150000                   1    petrol         suzuki   \n",
       "258109    218     clk     125000                   6    petrol  mercedes_benz   \n",
       "325651    131  passat     150000                   7  gasoline     volkswagen   \n",
       "\n",
       "       not_repaired         date_created  number_of_pictures  postal_code  \\\n",
       "171088           no  2016-03-08 00:00:00                   0        89518   \n",
       "231258           no  2016-03-28 00:00:00                   0        66589   \n",
       "258109          yes  2016-04-03 00:00:00                   0        75196   \n",
       "325651           no  2016-03-18 00:00:00                   0        36391   \n",
       "\n",
       "                  last_seen  \n",
       "171088  2016-03-09 09:46:57  \n",
       "231258  2016-03-28 08:46:21  \n",
       "258109  2016-04-07 09:44:54  \n",
       "325651  2016-03-18 18:46:15  "
      ]
     },
     "execution_count": 14,
     "metadata": {},
     "output_type": "execute_result"
    }
   ],
   "source": [
    "# поглядим\n",
    "data[data.duplicated()]"
   ]
  },
  {
   "cell_type": "markdown",
   "metadata": {},
   "source": [
    "Явно не дубликаты... Посмотрим по дублирующей дате."
   ]
  },
  {
   "cell_type": "code",
   "execution_count": 15,
   "metadata": {},
   "outputs": [
    {
     "data": {
      "text/plain": [
       "Timestamp('2016-03-24 14:49:47')"
      ]
     },
     "execution_count": 15,
     "metadata": {},
     "output_type": "execute_result"
    }
   ],
   "source": [
    "(\n",
    "    data['date_crawled'].value_counts()\n",
    "    .loc[(data['date_crawled'].value_counts() > 6)].index[0]\n",
    ")"
   ]
  },
  {
   "cell_type": "code",
   "execution_count": 16,
   "metadata": {},
   "outputs": [
    {
     "data": {
      "text/html": [
       "<div>\n",
       "<style scoped>\n",
       "    .dataframe tbody tr th:only-of-type {\n",
       "        vertical-align: middle;\n",
       "    }\n",
       "\n",
       "    .dataframe tbody tr th {\n",
       "        vertical-align: top;\n",
       "    }\n",
       "\n",
       "    .dataframe thead th {\n",
       "        text-align: right;\n",
       "    }\n",
       "</style>\n",
       "<table border=\"1\" class=\"dataframe\">\n",
       "  <thead>\n",
       "    <tr style=\"text-align: right;\">\n",
       "      <th></th>\n",
       "      <th>date_crawled</th>\n",
       "      <th>price</th>\n",
       "      <th>vehicle_type</th>\n",
       "      <th>registration_year</th>\n",
       "      <th>gearbox</th>\n",
       "      <th>power</th>\n",
       "      <th>model</th>\n",
       "      <th>kilometer</th>\n",
       "      <th>registration_month</th>\n",
       "      <th>fuel_type</th>\n",
       "      <th>brand</th>\n",
       "      <th>not_repaired</th>\n",
       "      <th>date_created</th>\n",
       "      <th>number_of_pictures</th>\n",
       "      <th>postal_code</th>\n",
       "      <th>last_seen</th>\n",
       "    </tr>\n",
       "  </thead>\n",
       "  <tbody>\n",
       "    <tr>\n",
       "      <th>33696</th>\n",
       "      <td>2016-03-24 14:49:47</td>\n",
       "      <td>3799</td>\n",
       "      <td>sedan</td>\n",
       "      <td>2002</td>\n",
       "      <td>manual</td>\n",
       "      <td>101</td>\n",
       "      <td>a4</td>\n",
       "      <td>150000</td>\n",
       "      <td>10</td>\n",
       "      <td>gasoline</td>\n",
       "      <td>audi</td>\n",
       "      <td>yes</td>\n",
       "      <td>2016-03-24 00:00:00</td>\n",
       "      <td>0</td>\n",
       "      <td>72800</td>\n",
       "      <td>2016-04-07 06:45:17</td>\n",
       "    </tr>\n",
       "    <tr>\n",
       "      <th>41468</th>\n",
       "      <td>2016-03-24 14:49:47</td>\n",
       "      <td>990</td>\n",
       "      <td>wagon</td>\n",
       "      <td>2000</td>\n",
       "      <td>manual</td>\n",
       "      <td>0</td>\n",
       "      <td>passat</td>\n",
       "      <td>150000</td>\n",
       "      <td>3</td>\n",
       "      <td>gasoline</td>\n",
       "      <td>volkswagen</td>\n",
       "      <td>NaN</td>\n",
       "      <td>2016-03-24 00:00:00</td>\n",
       "      <td>0</td>\n",
       "      <td>83646</td>\n",
       "      <td>2016-04-01 23:41:53</td>\n",
       "    </tr>\n",
       "    <tr>\n",
       "      <th>43209</th>\n",
       "      <td>2016-03-24 14:49:47</td>\n",
       "      <td>3000</td>\n",
       "      <td>sedan</td>\n",
       "      <td>2004</td>\n",
       "      <td>manual</td>\n",
       "      <td>116</td>\n",
       "      <td>3er</td>\n",
       "      <td>150000</td>\n",
       "      <td>1</td>\n",
       "      <td>gasoline</td>\n",
       "      <td>bmw</td>\n",
       "      <td>no</td>\n",
       "      <td>2016-03-24 00:00:00</td>\n",
       "      <td>0</td>\n",
       "      <td>78467</td>\n",
       "      <td>2016-04-07 06:45:18</td>\n",
       "    </tr>\n",
       "    <tr>\n",
       "      <th>72521</th>\n",
       "      <td>2016-03-24 14:49:47</td>\n",
       "      <td>4800</td>\n",
       "      <td>small</td>\n",
       "      <td>1982</td>\n",
       "      <td>manual</td>\n",
       "      <td>34</td>\n",
       "      <td>kaefer</td>\n",
       "      <td>70000</td>\n",
       "      <td>12</td>\n",
       "      <td>petrol</td>\n",
       "      <td>volkswagen</td>\n",
       "      <td>no</td>\n",
       "      <td>2016-03-24 00:00:00</td>\n",
       "      <td>0</td>\n",
       "      <td>14947</td>\n",
       "      <td>2016-04-07 06:45:17</td>\n",
       "    </tr>\n",
       "    <tr>\n",
       "      <th>131819</th>\n",
       "      <td>2016-03-24 14:49:47</td>\n",
       "      <td>850</td>\n",
       "      <td>convertible</td>\n",
       "      <td>1992</td>\n",
       "      <td>manual</td>\n",
       "      <td>198</td>\n",
       "      <td>80</td>\n",
       "      <td>150000</td>\n",
       "      <td>5</td>\n",
       "      <td>petrol</td>\n",
       "      <td>audi</td>\n",
       "      <td>yes</td>\n",
       "      <td>2016-03-24 00:00:00</td>\n",
       "      <td>0</td>\n",
       "      <td>90443</td>\n",
       "      <td>2016-03-30 16:15:57</td>\n",
       "    </tr>\n",
       "    <tr>\n",
       "      <th>150172</th>\n",
       "      <td>2016-03-24 14:49:47</td>\n",
       "      <td>399</td>\n",
       "      <td>small</td>\n",
       "      <td>1999</td>\n",
       "      <td>manual</td>\n",
       "      <td>0</td>\n",
       "      <td>NaN</td>\n",
       "      <td>150000</td>\n",
       "      <td>0</td>\n",
       "      <td>petrol</td>\n",
       "      <td>lancia</td>\n",
       "      <td>yes</td>\n",
       "      <td>2016-03-24 00:00:00</td>\n",
       "      <td>0</td>\n",
       "      <td>89231</td>\n",
       "      <td>2016-04-07 06:45:19</td>\n",
       "    </tr>\n",
       "    <tr>\n",
       "      <th>218110</th>\n",
       "      <td>2016-03-24 14:49:47</td>\n",
       "      <td>7500</td>\n",
       "      <td>sedan</td>\n",
       "      <td>2002</td>\n",
       "      <td>auto</td>\n",
       "      <td>309</td>\n",
       "      <td>e_klasse</td>\n",
       "      <td>150000</td>\n",
       "      <td>11</td>\n",
       "      <td>petrol</td>\n",
       "      <td>mercedes_benz</td>\n",
       "      <td>no</td>\n",
       "      <td>2016-03-24 00:00:00</td>\n",
       "      <td>0</td>\n",
       "      <td>50321</td>\n",
       "      <td>2016-03-27 11:44:58</td>\n",
       "    </tr>\n",
       "  </tbody>\n",
       "</table>\n",
       "</div>"
      ],
      "text/plain": [
       "              date_crawled  price vehicle_type  registration_year gearbox  \\\n",
       "33696  2016-03-24 14:49:47   3799        sedan               2002  manual   \n",
       "41468  2016-03-24 14:49:47    990        wagon               2000  manual   \n",
       "43209  2016-03-24 14:49:47   3000        sedan               2004  manual   \n",
       "72521  2016-03-24 14:49:47   4800        small               1982  manual   \n",
       "131819 2016-03-24 14:49:47    850  convertible               1992  manual   \n",
       "150172 2016-03-24 14:49:47    399        small               1999  manual   \n",
       "218110 2016-03-24 14:49:47   7500        sedan               2002    auto   \n",
       "\n",
       "        power     model  kilometer  registration_month fuel_type  \\\n",
       "33696     101        a4     150000                  10  gasoline   \n",
       "41468       0    passat     150000                   3  gasoline   \n",
       "43209     116       3er     150000                   1  gasoline   \n",
       "72521      34    kaefer      70000                  12    petrol   \n",
       "131819    198        80     150000                   5    petrol   \n",
       "150172      0       NaN     150000                   0    petrol   \n",
       "218110    309  e_klasse     150000                  11    petrol   \n",
       "\n",
       "                brand not_repaired         date_created  number_of_pictures  \\\n",
       "33696            audi          yes  2016-03-24 00:00:00                   0   \n",
       "41468      volkswagen          NaN  2016-03-24 00:00:00                   0   \n",
       "43209             bmw           no  2016-03-24 00:00:00                   0   \n",
       "72521      volkswagen           no  2016-03-24 00:00:00                   0   \n",
       "131819           audi          yes  2016-03-24 00:00:00                   0   \n",
       "150172         lancia          yes  2016-03-24 00:00:00                   0   \n",
       "218110  mercedes_benz           no  2016-03-24 00:00:00                   0   \n",
       "\n",
       "        postal_code            last_seen  \n",
       "33696         72800  2016-04-07 06:45:17  \n",
       "41468         83646  2016-04-01 23:41:53  \n",
       "43209         78467  2016-04-07 06:45:18  \n",
       "72521         14947  2016-04-07 06:45:17  \n",
       "131819        90443  2016-03-30 16:15:57  \n",
       "150172        89231  2016-04-07 06:45:19  \n",
       "218110        50321  2016-03-27 11:44:58  "
      ]
     },
     "execution_count": 16,
     "metadata": {},
     "output_type": "execute_result"
    }
   ],
   "source": [
    "data[\n",
    "    data['date_crawled'] == \n",
    "    data['date_crawled'].value_counts()\n",
    "    .loc[(data['date_crawled'].value_counts() > 6)].index[0]\n",
    "    ]"
   ]
  },
  {
   "cell_type": "markdown",
   "metadata": {},
   "source": [
    "Аномалий нет. Посмотрим пропуски."
   ]
  },
  {
   "cell_type": "code",
   "execution_count": 17,
   "metadata": {},
   "outputs": [
    {
     "data": {
      "text/plain": [
       "0.0"
      ]
     },
     "execution_count": 17,
     "metadata": {},
     "output_type": "execute_result"
    }
   ],
   "source": [
    "# Пропусков нет\n",
    "data['date_crawled'].isna().mean()"
   ]
  },
  {
   "cell_type": "code",
   "execution_count": 18,
   "metadata": {},
   "outputs": [
    {
     "data": {
      "text/plain": [
       "count                           354369\n",
       "mean     2016-03-21 12:58:10.450648320\n",
       "min                2016-03-05 14:06:22\n",
       "25%                2016-03-13 11:52:33\n",
       "50%                2016-03-21 17:50:55\n",
       "75%                2016-03-29 14:37:20\n",
       "max                2016-04-07 14:36:58\n",
       "Name: date_crawled, dtype: object"
      ]
     },
     "execution_count": 18,
     "metadata": {},
     "output_type": "execute_result"
    }
   ],
   "source": [
    "# Аномалий нет\n",
    "data['date_crawled'].describe(datetime_is_numeric=True)"
   ]
  },
  {
   "cell_type": "markdown",
   "metadata": {},
   "source": [
    "#### price"
   ]
  },
  {
   "cell_type": "code",
   "execution_count": 19,
   "metadata": {},
   "outputs": [
    {
     "data": {
      "text/plain": [
       "0.0"
      ]
     },
     "execution_count": 19,
     "metadata": {},
     "output_type": "execute_result"
    }
   ],
   "source": [
    "# Пропусков нет\n",
    "data['price'].isna().mean()"
   ]
  },
  {
   "cell_type": "code",
   "execution_count": 20,
   "metadata": {},
   "outputs": [
    {
     "data": {
      "text/plain": [
       "count    354369.000000\n",
       "mean       4416.656776\n",
       "std        4514.158514\n",
       "min           0.000000\n",
       "25%        1050.000000\n",
       "50%        2700.000000\n",
       "75%        6400.000000\n",
       "max       20000.000000\n",
       "Name: price, dtype: float64"
      ]
     },
     "execution_count": 20,
     "metadata": {},
     "output_type": "execute_result"
    }
   ],
   "source": [
    "data['price'].describe()"
   ]
  },
  {
   "cell_type": "markdown",
   "metadata": {},
   "source": [
    "Пропусков нет, но есть нули. Исследуем."
   ]
  },
  {
   "cell_type": "code",
   "execution_count": 21,
   "metadata": {},
   "outputs": [
    {
     "data": {
      "text/plain": [
       "13314"
      ]
     },
     "execution_count": 21,
     "metadata": {},
     "output_type": "execute_result"
    }
   ],
   "source": [
    "# Количество значений, где цена на авто ниже 100 долларов\n",
    "len(data[data['price'] < 100])"
   ]
  },
  {
   "cell_type": "code",
   "execution_count": 22,
   "metadata": {},
   "outputs": [
    {
     "data": {
      "text/html": [
       "<div>\n",
       "<style scoped>\n",
       "    .dataframe tbody tr th:only-of-type {\n",
       "        vertical-align: middle;\n",
       "    }\n",
       "\n",
       "    .dataframe tbody tr th {\n",
       "        vertical-align: top;\n",
       "    }\n",
       "\n",
       "    .dataframe thead th {\n",
       "        text-align: right;\n",
       "    }\n",
       "</style>\n",
       "<table border=\"1\" class=\"dataframe\">\n",
       "  <thead>\n",
       "    <tr style=\"text-align: right;\">\n",
       "      <th></th>\n",
       "      <th>date_crawled</th>\n",
       "      <th>price</th>\n",
       "      <th>vehicle_type</th>\n",
       "      <th>registration_year</th>\n",
       "      <th>gearbox</th>\n",
       "      <th>power</th>\n",
       "      <th>model</th>\n",
       "      <th>kilometer</th>\n",
       "      <th>registration_month</th>\n",
       "      <th>fuel_type</th>\n",
       "      <th>brand</th>\n",
       "      <th>not_repaired</th>\n",
       "      <th>date_created</th>\n",
       "      <th>number_of_pictures</th>\n",
       "      <th>postal_code</th>\n",
       "      <th>last_seen</th>\n",
       "    </tr>\n",
       "  </thead>\n",
       "  <tbody>\n",
       "    <tr>\n",
       "      <th>7</th>\n",
       "      <td>2016-03-21 18:54:38</td>\n",
       "      <td>0</td>\n",
       "      <td>sedan</td>\n",
       "      <td>1980</td>\n",
       "      <td>manual</td>\n",
       "      <td>50</td>\n",
       "      <td>other</td>\n",
       "      <td>40000</td>\n",
       "      <td>7</td>\n",
       "      <td>petrol</td>\n",
       "      <td>volkswagen</td>\n",
       "      <td>no</td>\n",
       "      <td>2016-03-21 00:00:00</td>\n",
       "      <td>0</td>\n",
       "      <td>19348</td>\n",
       "      <td>2016-03-25 16:47:58</td>\n",
       "    </tr>\n",
       "    <tr>\n",
       "      <th>40</th>\n",
       "      <td>2016-03-26 22:06:17</td>\n",
       "      <td>0</td>\n",
       "      <td>NaN</td>\n",
       "      <td>1990</td>\n",
       "      <td>NaN</td>\n",
       "      <td>0</td>\n",
       "      <td>corsa</td>\n",
       "      <td>150000</td>\n",
       "      <td>1</td>\n",
       "      <td>petrol</td>\n",
       "      <td>opel</td>\n",
       "      <td>NaN</td>\n",
       "      <td>2016-03-26 00:00:00</td>\n",
       "      <td>0</td>\n",
       "      <td>56412</td>\n",
       "      <td>2016-03-27 17:43:34</td>\n",
       "    </tr>\n",
       "    <tr>\n",
       "      <th>59</th>\n",
       "      <td>2016-03-29 15:48:15</td>\n",
       "      <td>1</td>\n",
       "      <td>suv</td>\n",
       "      <td>1994</td>\n",
       "      <td>manual</td>\n",
       "      <td>286</td>\n",
       "      <td>NaN</td>\n",
       "      <td>150000</td>\n",
       "      <td>11</td>\n",
       "      <td>NaN</td>\n",
       "      <td>sonstige_autos</td>\n",
       "      <td>NaN</td>\n",
       "      <td>2016-03-29 00:00:00</td>\n",
       "      <td>0</td>\n",
       "      <td>53721</td>\n",
       "      <td>2016-04-06 01:44:38</td>\n",
       "    </tr>\n",
       "    <tr>\n",
       "      <th>89</th>\n",
       "      <td>2016-03-28 09:37:01</td>\n",
       "      <td>1</td>\n",
       "      <td>sedan</td>\n",
       "      <td>1995</td>\n",
       "      <td>manual</td>\n",
       "      <td>113</td>\n",
       "      <td>e_klasse</td>\n",
       "      <td>150000</td>\n",
       "      <td>4</td>\n",
       "      <td>gasoline</td>\n",
       "      <td>mercedes_benz</td>\n",
       "      <td>no</td>\n",
       "      <td>2016-03-28 00:00:00</td>\n",
       "      <td>0</td>\n",
       "      <td>40589</td>\n",
       "      <td>2016-04-06 12:15:54</td>\n",
       "    </tr>\n",
       "    <tr>\n",
       "      <th>111</th>\n",
       "      <td>2016-03-19 18:40:12</td>\n",
       "      <td>0</td>\n",
       "      <td>NaN</td>\n",
       "      <td>2017</td>\n",
       "      <td>manual</td>\n",
       "      <td>0</td>\n",
       "      <td>golf</td>\n",
       "      <td>5000</td>\n",
       "      <td>12</td>\n",
       "      <td>petrol</td>\n",
       "      <td>volkswagen</td>\n",
       "      <td>NaN</td>\n",
       "      <td>2016-03-19 00:00:00</td>\n",
       "      <td>0</td>\n",
       "      <td>21698</td>\n",
       "      <td>2016-04-01 08:47:05</td>\n",
       "    </tr>\n",
       "    <tr>\n",
       "      <th>115</th>\n",
       "      <td>2016-03-20 18:53:27</td>\n",
       "      <td>0</td>\n",
       "      <td>small</td>\n",
       "      <td>1999</td>\n",
       "      <td>NaN</td>\n",
       "      <td>0</td>\n",
       "      <td>NaN</td>\n",
       "      <td>5000</td>\n",
       "      <td>0</td>\n",
       "      <td>petrol</td>\n",
       "      <td>volkswagen</td>\n",
       "      <td>NaN</td>\n",
       "      <td>2016-03-20 00:00:00</td>\n",
       "      <td>0</td>\n",
       "      <td>37520</td>\n",
       "      <td>2016-04-07 02:45:22</td>\n",
       "    </tr>\n",
       "    <tr>\n",
       "      <th>152</th>\n",
       "      <td>2016-03-11 18:55:53</td>\n",
       "      <td>0</td>\n",
       "      <td>bus</td>\n",
       "      <td>2004</td>\n",
       "      <td>manual</td>\n",
       "      <td>101</td>\n",
       "      <td>meriva</td>\n",
       "      <td>150000</td>\n",
       "      <td>10</td>\n",
       "      <td>lpg</td>\n",
       "      <td>opel</td>\n",
       "      <td>yes</td>\n",
       "      <td>2016-03-11 00:00:00</td>\n",
       "      <td>0</td>\n",
       "      <td>27432</td>\n",
       "      <td>2016-03-12 23:47:10</td>\n",
       "    </tr>\n",
       "    <tr>\n",
       "      <th>154</th>\n",
       "      <td>2016-03-22 16:37:59</td>\n",
       "      <td>0</td>\n",
       "      <td>NaN</td>\n",
       "      <td>2006</td>\n",
       "      <td>NaN</td>\n",
       "      <td>0</td>\n",
       "      <td>other</td>\n",
       "      <td>5000</td>\n",
       "      <td>0</td>\n",
       "      <td>NaN</td>\n",
       "      <td>fiat</td>\n",
       "      <td>NaN</td>\n",
       "      <td>2016-03-22 00:00:00</td>\n",
       "      <td>0</td>\n",
       "      <td>44867</td>\n",
       "      <td>2016-04-06 06:17:56</td>\n",
       "    </tr>\n",
       "    <tr>\n",
       "      <th>231</th>\n",
       "      <td>2016-03-16 22:06:24</td>\n",
       "      <td>0</td>\n",
       "      <td>wagon</td>\n",
       "      <td>2001</td>\n",
       "      <td>manual</td>\n",
       "      <td>115</td>\n",
       "      <td>mondeo</td>\n",
       "      <td>150000</td>\n",
       "      <td>0</td>\n",
       "      <td>NaN</td>\n",
       "      <td>ford</td>\n",
       "      <td>NaN</td>\n",
       "      <td>2016-03-16 00:00:00</td>\n",
       "      <td>0</td>\n",
       "      <td>57627</td>\n",
       "      <td>2016-03-26 11:17:50</td>\n",
       "    </tr>\n",
       "    <tr>\n",
       "      <th>268</th>\n",
       "      <td>2016-03-12 07:26:49</td>\n",
       "      <td>1</td>\n",
       "      <td>sedan</td>\n",
       "      <td>1990</td>\n",
       "      <td>manual</td>\n",
       "      <td>90</td>\n",
       "      <td>80</td>\n",
       "      <td>70000</td>\n",
       "      <td>6</td>\n",
       "      <td>petrol</td>\n",
       "      <td>audi</td>\n",
       "      <td>no</td>\n",
       "      <td>2016-03-11 00:00:00</td>\n",
       "      <td>0</td>\n",
       "      <td>55122</td>\n",
       "      <td>2016-03-26 23:15:49</td>\n",
       "    </tr>\n",
       "  </tbody>\n",
       "</table>\n",
       "</div>"
      ],
      "text/plain": [
       "           date_crawled  price vehicle_type  registration_year gearbox  power  \\\n",
       "7   2016-03-21 18:54:38      0        sedan               1980  manual     50   \n",
       "40  2016-03-26 22:06:17      0          NaN               1990     NaN      0   \n",
       "59  2016-03-29 15:48:15      1          suv               1994  manual    286   \n",
       "89  2016-03-28 09:37:01      1        sedan               1995  manual    113   \n",
       "111 2016-03-19 18:40:12      0          NaN               2017  manual      0   \n",
       "115 2016-03-20 18:53:27      0        small               1999     NaN      0   \n",
       "152 2016-03-11 18:55:53      0          bus               2004  manual    101   \n",
       "154 2016-03-22 16:37:59      0          NaN               2006     NaN      0   \n",
       "231 2016-03-16 22:06:24      0        wagon               2001  manual    115   \n",
       "268 2016-03-12 07:26:49      1        sedan               1990  manual     90   \n",
       "\n",
       "        model  kilometer  registration_month fuel_type           brand  \\\n",
       "7       other      40000                   7    petrol      volkswagen   \n",
       "40      corsa     150000                   1    petrol            opel   \n",
       "59        NaN     150000                  11       NaN  sonstige_autos   \n",
       "89   e_klasse     150000                   4  gasoline   mercedes_benz   \n",
       "111      golf       5000                  12    petrol      volkswagen   \n",
       "115       NaN       5000                   0    petrol      volkswagen   \n",
       "152    meriva     150000                  10       lpg            opel   \n",
       "154     other       5000                   0       NaN            fiat   \n",
       "231    mondeo     150000                   0       NaN            ford   \n",
       "268        80      70000                   6    petrol            audi   \n",
       "\n",
       "    not_repaired         date_created  number_of_pictures  postal_code  \\\n",
       "7             no  2016-03-21 00:00:00                   0        19348   \n",
       "40           NaN  2016-03-26 00:00:00                   0        56412   \n",
       "59           NaN  2016-03-29 00:00:00                   0        53721   \n",
       "89            no  2016-03-28 00:00:00                   0        40589   \n",
       "111          NaN  2016-03-19 00:00:00                   0        21698   \n",
       "115          NaN  2016-03-20 00:00:00                   0        37520   \n",
       "152          yes  2016-03-11 00:00:00                   0        27432   \n",
       "154          NaN  2016-03-22 00:00:00                   0        44867   \n",
       "231          NaN  2016-03-16 00:00:00                   0        57627   \n",
       "268           no  2016-03-11 00:00:00                   0        55122   \n",
       "\n",
       "               last_seen  \n",
       "7    2016-03-25 16:47:58  \n",
       "40   2016-03-27 17:43:34  \n",
       "59   2016-04-06 01:44:38  \n",
       "89   2016-04-06 12:15:54  \n",
       "111  2016-04-01 08:47:05  \n",
       "115  2016-04-07 02:45:22  \n",
       "152  2016-03-12 23:47:10  \n",
       "154  2016-04-06 06:17:56  \n",
       "231  2016-03-26 11:17:50  \n",
       "268  2016-03-26 23:15:49  "
      ]
     },
     "execution_count": 22,
     "metadata": {},
     "output_type": "execute_result"
    }
   ],
   "source": [
    "# Взглянем на эти значения\n",
    "data[data['price'] < 100].head(10)"
   ]
  },
  {
   "cell_type": "code",
   "execution_count": 23,
   "metadata": {},
   "outputs": [
    {
     "data": {
      "text/plain": [
       "array([ 0,  1,  2,  3,  4,  5,  7,  8,  9, 10, 11, 12, 13, 14, 15, 16, 17,\n",
       "       18, 19, 20, 21, 24, 25, 26, 27, 29, 30, 32, 33, 35, 38, 39, 40, 45,\n",
       "       47, 49, 50, 55, 58, 59, 60, 65, 66, 69, 70, 74, 75, 77, 79, 80, 85,\n",
       "       88, 89, 90, 95, 98, 99], dtype=int64)"
      ]
     },
     "execution_count": 23,
     "metadata": {},
     "output_type": "execute_result"
    }
   ],
   "source": [
    "data[data['price'] < 100]['price'].sort_values().unique()"
   ]
  },
  {
   "cell_type": "code",
   "execution_count": 24,
   "metadata": {},
   "outputs": [
    {
     "data": {
      "text/plain": [
       "array([1000, 1111, 1200, 1253, 1500, 1688, 1800, 1910, 1915, 1919, 1920,\n",
       "       1929, 1930, 1933, 1934, 1935, 1937, 1942, 1948, 1950, 1951, 1952,\n",
       "       1954, 1955, 1956, 1958, 1959, 1960, 1961, 1962, 1963, 1964, 1965,\n",
       "       1966, 1967, 1968, 1969, 1970, 1971, 1972, 1973, 1974, 1975, 1976,\n",
       "       1977, 1978, 1979, 1980, 1981, 1982, 1983, 1984, 1985, 1986, 1987,\n",
       "       1988, 1989, 1990, 1991, 1992, 1993, 1994, 1995, 1996, 1997, 1998,\n",
       "       1999, 2000, 2001, 2002, 2003, 2004, 2005, 2006, 2007, 2008, 2009,\n",
       "       2010, 2011, 2012, 2013, 2014, 2015, 2016, 2017, 2018, 2019, 2222,\n",
       "       2500, 2800, 3000, 3500, 5000, 6500, 7500, 8000, 8455, 9000, 9229,\n",
       "       9996, 9999], dtype=int64)"
      ]
     },
     "execution_count": 24,
     "metadata": {},
     "output_type": "execute_result"
    }
   ],
   "source": [
    "data[data['price'] < 100]['registration_year'].sort_values().unique()"
   ]
  },
  {
   "cell_type": "code",
   "execution_count": 25,
   "metadata": {},
   "outputs": [
    {
     "data": {
      "text/plain": [
       "array([1000, 1001, 1039, 1111, 1234, 1300, 1400, 1500, 1600, 1602, 1800,\n",
       "       1910, 1923, 1925, 1927, 1928, 1929, 1930, 1931, 1932, 1933, 1934,\n",
       "       1935, 1936, 1937, 1938, 1940, 1941, 1942, 1943, 1944, 1945, 1946,\n",
       "       1947, 1948, 1949, 1950, 1951, 1952, 1953, 1954, 1955, 1956, 1957,\n",
       "       1958, 1959, 1960, 1961, 1962, 1963, 1964, 1965, 1966, 1967, 1968,\n",
       "       1969, 1970, 1971, 1972, 1973, 1974, 1975, 1976, 1977, 1978, 1979,\n",
       "       1980, 1981, 1982, 1983, 1984, 1985, 1986, 1987, 1988, 1989, 1990,\n",
       "       1991, 1992, 1993, 1994, 1995, 1996, 1997, 1998, 1999, 2000, 2001,\n",
       "       2002, 2003, 2004, 2005, 2006, 2007, 2008, 2009, 2010, 2011, 2012,\n",
       "       2013, 2014, 2015, 2016, 2017, 2018, 2019, 2066, 2200, 2290, 2500,\n",
       "       2800, 2900, 3000, 3200, 3700, 3800, 4000, 4100, 4500, 4800, 5000,\n",
       "       5300, 5555, 5600, 5900, 5911, 6000, 7000, 7100, 7800, 8200, 8500,\n",
       "       8888, 9000, 9450, 9999], dtype=int64)"
      ]
     },
     "execution_count": 25,
     "metadata": {},
     "output_type": "execute_result"
    }
   ],
   "source": [
    "data[data['price'] > 100]['registration_year'].sort_values().unique()"
   ]
  },
  {
   "cell_type": "markdown",
   "metadata": {},
   "source": [
    "Много аномалий по цене. При просмотре зависимости от года выявились аномалии и в годах регистрации."
   ]
  },
  {
   "cell_type": "code",
   "execution_count": 26,
   "metadata": {},
   "outputs": [
    {
     "data": {
      "image/png": "[encoded data removed]",
      "text/plain": [
       "<Figure size 432x288 with 1 Axes>"
      ]
     },
     "metadata": {
      "needs_background": "light"
     },
     "output_type": "display_data"
    }
   ],
   "source": [
    "# Посмотрим гистограмму по цене\n",
    "data['price'].hist(bins=30);"
   ]
  },
  {
   "cell_type": "code",
   "execution_count": 27,
   "metadata": {},
   "outputs": [
    {
     "data": {
      "text/html": [
       "<div>\n",
       "<style scoped>\n",
       "    .dataframe tbody tr th:only-of-type {\n",
       "        vertical-align: middle;\n",
       "    }\n",
       "\n",
       "    .dataframe tbody tr th {\n",
       "        vertical-align: top;\n",
       "    }\n",
       "\n",
       "    .dataframe thead th {\n",
       "        text-align: right;\n",
       "    }\n",
       "</style>\n",
       "<table border=\"1\" class=\"dataframe\">\n",
       "  <thead>\n",
       "    <tr style=\"text-align: right;\">\n",
       "      <th></th>\n",
       "      <th>date_crawled</th>\n",
       "      <th>price</th>\n",
       "      <th>vehicle_type</th>\n",
       "      <th>registration_year</th>\n",
       "      <th>gearbox</th>\n",
       "      <th>power</th>\n",
       "      <th>model</th>\n",
       "      <th>kilometer</th>\n",
       "      <th>registration_month</th>\n",
       "      <th>fuel_type</th>\n",
       "      <th>brand</th>\n",
       "      <th>not_repaired</th>\n",
       "      <th>date_created</th>\n",
       "      <th>number_of_pictures</th>\n",
       "      <th>postal_code</th>\n",
       "      <th>last_seen</th>\n",
       "    </tr>\n",
       "  </thead>\n",
       "  <tbody>\n",
       "    <tr>\n",
       "      <th>1</th>\n",
       "      <td>2016-03-24 10:58:45</td>\n",
       "      <td>18300</td>\n",
       "      <td>coupe</td>\n",
       "      <td>2011</td>\n",
       "      <td>manual</td>\n",
       "      <td>190</td>\n",
       "      <td>NaN</td>\n",
       "      <td>125000</td>\n",
       "      <td>5</td>\n",
       "      <td>gasoline</td>\n",
       "      <td>audi</td>\n",
       "      <td>yes</td>\n",
       "      <td>2016-03-24 00:00:00</td>\n",
       "      <td>0</td>\n",
       "      <td>66954</td>\n",
       "      <td>2016-04-07 01:46:50</td>\n",
       "    </tr>\n",
       "    <tr>\n",
       "      <th>14</th>\n",
       "      <td>2016-03-21 12:57:01</td>\n",
       "      <td>17999</td>\n",
       "      <td>suv</td>\n",
       "      <td>2011</td>\n",
       "      <td>manual</td>\n",
       "      <td>190</td>\n",
       "      <td>navara</td>\n",
       "      <td>70000</td>\n",
       "      <td>3</td>\n",
       "      <td>gasoline</td>\n",
       "      <td>nissan</td>\n",
       "      <td>no</td>\n",
       "      <td>2016-03-21 00:00:00</td>\n",
       "      <td>0</td>\n",
       "      <td>4177</td>\n",
       "      <td>2016-04-06 07:45:42</td>\n",
       "    </tr>\n",
       "    <tr>\n",
       "      <th>33</th>\n",
       "      <td>2016-03-25 21:48:47</td>\n",
       "      <td>18000</td>\n",
       "      <td>sedan</td>\n",
       "      <td>2007</td>\n",
       "      <td>auto</td>\n",
       "      <td>218</td>\n",
       "      <td>3er</td>\n",
       "      <td>20000</td>\n",
       "      <td>5</td>\n",
       "      <td>petrol</td>\n",
       "      <td>bmw</td>\n",
       "      <td>no</td>\n",
       "      <td>2016-03-25 00:00:00</td>\n",
       "      <td>0</td>\n",
       "      <td>39179</td>\n",
       "      <td>2016-04-07 04:45:21</td>\n",
       "    </tr>\n",
       "    <tr>\n",
       "      <th>172</th>\n",
       "      <td>2016-03-07 12:38:19</td>\n",
       "      <td>19750</td>\n",
       "      <td>convertible</td>\n",
       "      <td>2006</td>\n",
       "      <td>manual</td>\n",
       "      <td>305</td>\n",
       "      <td>mustang</td>\n",
       "      <td>50000</td>\n",
       "      <td>7</td>\n",
       "      <td>petrol</td>\n",
       "      <td>ford</td>\n",
       "      <td>no</td>\n",
       "      <td>2016-03-07 00:00:00</td>\n",
       "      <td>0</td>\n",
       "      <td>38350</td>\n",
       "      <td>2016-03-12 20:18:29</td>\n",
       "    </tr>\n",
       "    <tr>\n",
       "      <th>204</th>\n",
       "      <td>2016-03-31 12:58:26</td>\n",
       "      <td>18400</td>\n",
       "      <td>wagon</td>\n",
       "      <td>2011</td>\n",
       "      <td>auto</td>\n",
       "      <td>313</td>\n",
       "      <td>5er</td>\n",
       "      <td>150000</td>\n",
       "      <td>11</td>\n",
       "      <td>gasoline</td>\n",
       "      <td>bmw</td>\n",
       "      <td>no</td>\n",
       "      <td>2016-03-31 00:00:00</td>\n",
       "      <td>0</td>\n",
       "      <td>52477</td>\n",
       "      <td>2016-03-31 13:44:44</td>\n",
       "    </tr>\n",
       "    <tr>\n",
       "      <th>282</th>\n",
       "      <td>2016-03-06 12:38:13</td>\n",
       "      <td>18700</td>\n",
       "      <td>coupe</td>\n",
       "      <td>2009</td>\n",
       "      <td>auto</td>\n",
       "      <td>213</td>\n",
       "      <td>mustang</td>\n",
       "      <td>80000</td>\n",
       "      <td>8</td>\n",
       "      <td>petrol</td>\n",
       "      <td>ford</td>\n",
       "      <td>no</td>\n",
       "      <td>2016-03-06 00:00:00</td>\n",
       "      <td>0</td>\n",
       "      <td>97424</td>\n",
       "      <td>2016-04-06 05:44:39</td>\n",
       "    </tr>\n",
       "    <tr>\n",
       "      <th>337</th>\n",
       "      <td>2016-03-20 11:44:15</td>\n",
       "      <td>18880</td>\n",
       "      <td>bus</td>\n",
       "      <td>2014</td>\n",
       "      <td>manual</td>\n",
       "      <td>116</td>\n",
       "      <td>5_reihe</td>\n",
       "      <td>20000</td>\n",
       "      <td>11</td>\n",
       "      <td>gasoline</td>\n",
       "      <td>mazda</td>\n",
       "      <td>no</td>\n",
       "      <td>2016-03-20 00:00:00</td>\n",
       "      <td>0</td>\n",
       "      <td>59872</td>\n",
       "      <td>2016-04-06 08:46:43</td>\n",
       "    </tr>\n",
       "    <tr>\n",
       "      <th>484</th>\n",
       "      <td>2016-03-31 23:52:32</td>\n",
       "      <td>19900</td>\n",
       "      <td>bus</td>\n",
       "      <td>2009</td>\n",
       "      <td>manual</td>\n",
       "      <td>150</td>\n",
       "      <td>viano</td>\n",
       "      <td>90000</td>\n",
       "      <td>5</td>\n",
       "      <td>gasoline</td>\n",
       "      <td>mercedes_benz</td>\n",
       "      <td>no</td>\n",
       "      <td>2016-03-31 00:00:00</td>\n",
       "      <td>0</td>\n",
       "      <td>59348</td>\n",
       "      <td>2016-04-07 03:17:20</td>\n",
       "    </tr>\n",
       "    <tr>\n",
       "      <th>521</th>\n",
       "      <td>2016-03-14 22:57:33</td>\n",
       "      <td>18300</td>\n",
       "      <td>suv</td>\n",
       "      <td>2013</td>\n",
       "      <td>manual</td>\n",
       "      <td>122</td>\n",
       "      <td>tiguan</td>\n",
       "      <td>40000</td>\n",
       "      <td>1</td>\n",
       "      <td>petrol</td>\n",
       "      <td>volkswagen</td>\n",
       "      <td>no</td>\n",
       "      <td>2016-03-14 00:00:00</td>\n",
       "      <td>0</td>\n",
       "      <td>92685</td>\n",
       "      <td>2016-04-07 05:46:14</td>\n",
       "    </tr>\n",
       "    <tr>\n",
       "      <th>742</th>\n",
       "      <td>2016-04-03 16:58:42</td>\n",
       "      <td>18000</td>\n",
       "      <td>convertible</td>\n",
       "      <td>2012</td>\n",
       "      <td>manual</td>\n",
       "      <td>122</td>\n",
       "      <td>golf</td>\n",
       "      <td>20000</td>\n",
       "      <td>6</td>\n",
       "      <td>petrol</td>\n",
       "      <td>volkswagen</td>\n",
       "      <td>no</td>\n",
       "      <td>2016-04-03 00:00:00</td>\n",
       "      <td>0</td>\n",
       "      <td>49124</td>\n",
       "      <td>2016-04-05 16:46:42</td>\n",
       "    </tr>\n",
       "  </tbody>\n",
       "</table>\n",
       "</div>"
      ],
      "text/plain": [
       "           date_crawled  price vehicle_type  registration_year gearbox  power  \\\n",
       "1   2016-03-24 10:58:45  18300        coupe               2011  manual    190   \n",
       "14  2016-03-21 12:57:01  17999          suv               2011  manual    190   \n",
       "33  2016-03-25 21:48:47  18000        sedan               2007    auto    218   \n",
       "172 2016-03-07 12:38:19  19750  convertible               2006  manual    305   \n",
       "204 2016-03-31 12:58:26  18400        wagon               2011    auto    313   \n",
       "282 2016-03-06 12:38:13  18700        coupe               2009    auto    213   \n",
       "337 2016-03-20 11:44:15  18880          bus               2014  manual    116   \n",
       "484 2016-03-31 23:52:32  19900          bus               2009  manual    150   \n",
       "521 2016-03-14 22:57:33  18300          suv               2013  manual    122   \n",
       "742 2016-04-03 16:58:42  18000  convertible               2012  manual    122   \n",
       "\n",
       "       model  kilometer  registration_month fuel_type          brand  \\\n",
       "1        NaN     125000                   5  gasoline           audi   \n",
       "14    navara      70000                   3  gasoline         nissan   \n",
       "33       3er      20000                   5    petrol            bmw   \n",
       "172  mustang      50000                   7    petrol           ford   \n",
       "204      5er     150000                  11  gasoline            bmw   \n",
       "282  mustang      80000                   8    petrol           ford   \n",
       "337  5_reihe      20000                  11  gasoline          mazda   \n",
       "484    viano      90000                   5  gasoline  mercedes_benz   \n",
       "521   tiguan      40000                   1    petrol     volkswagen   \n",
       "742     golf      20000                   6    petrol     volkswagen   \n",
       "\n",
       "    not_repaired         date_created  number_of_pictures  postal_code  \\\n",
       "1            yes  2016-03-24 00:00:00                   0        66954   \n",
       "14            no  2016-03-21 00:00:00                   0         4177   \n",
       "33            no  2016-03-25 00:00:00                   0        39179   \n",
       "172           no  2016-03-07 00:00:00                   0        38350   \n",
       "204           no  2016-03-31 00:00:00                   0        52477   \n",
       "282           no  2016-03-06 00:00:00                   0        97424   \n",
       "337           no  2016-03-20 00:00:00                   0        59872   \n",
       "484           no  2016-03-31 00:00:00                   0        59348   \n",
       "521           no  2016-03-14 00:00:00                   0        92685   \n",
       "742           no  2016-04-03 00:00:00                   0        49124   \n",
       "\n",
       "               last_seen  \n",
       "1    2016-04-07 01:46:50  \n",
       "14   2016-04-06 07:45:42  \n",
       "33   2016-04-07 04:45:21  \n",
       "172  2016-03-12 20:18:29  \n",
       "204  2016-03-31 13:44:44  \n",
       "282  2016-04-06 05:44:39  \n",
       "337  2016-04-06 08:46:43  \n",
       "484  2016-04-07 03:17:20  \n",
       "521  2016-04-07 05:46:14  \n",
       "742  2016-04-05 16:46:42  "
      ]
     },
     "execution_count": 27,
     "metadata": {},
     "output_type": "execute_result"
    }
   ],
   "source": [
    "data[data['price'] > 17500].head(10)"
   ]
  },
  {
   "cell_type": "code",
   "execution_count": 28,
   "metadata": {},
   "outputs": [
    {
     "data": {
      "text/plain": [
       "array(['audi', 'nissan', 'bmw', 'ford', 'mazda', 'mercedes_benz',\n",
       "       'volkswagen', 'skoda', 'peugeot', 'smart', 'seat', 'subaru',\n",
       "       'porsche', 'hyundai', 'toyota', 'kia', 'sonstige_autos', 'mini',\n",
       "       'opel', 'saab', 'mitsubishi', 'jeep', 'chevrolet', 'fiat', 'dacia',\n",
       "       'alfa_romeo', 'jaguar', 'renault', 'volvo', 'citroen', 'chrysler',\n",
       "       'honda', 'land_rover', 'suzuki', 'lancia'], dtype=object)"
      ]
     },
     "execution_count": 28,
     "metadata": {},
     "output_type": "execute_result"
    }
   ],
   "source": [
    "data[data['price'] > 17500]['brand'].unique()"
   ]
  },
  {
   "cell_type": "markdown",
   "metadata": {},
   "source": [
    "В общем и целом верхний потолок цен не выглядит аномальным. Изучим низкие цены."
   ]
  },
  {
   "cell_type": "code",
   "execution_count": 29,
   "metadata": {},
   "outputs": [
    {
     "data": {
      "image/png": "[encoded data removed]",
      "text/plain": [
       "<Figure size 432x288 with 1 Axes>"
      ]
     },
     "metadata": {
      "needs_background": "light"
     },
     "output_type": "display_data"
    }
   ],
   "source": [
    "data[data['price'] < 1000]['price'].hist();"
   ]
  },
  {
   "cell_type": "code",
   "execution_count": 30,
   "metadata": {},
   "outputs": [
    {
     "data": {
      "text/plain": [
       "array([1234, 1910, 1960, 1965, 1969, 1970, 1974, 1975, 1977, 1980, 1983,\n",
       "       1984, 1985, 1986, 1987, 1988, 1989, 1990, 1991, 1992, 1993, 1994,\n",
       "       1995, 1996, 1997, 1998, 1999, 2000, 2001, 2002, 2003, 2004, 2005,\n",
       "       2006, 2008, 2009, 2010, 2011, 2012, 2013, 2014, 2015, 2016, 2017,\n",
       "       2018, 2019, 4000, 5000], dtype=int64)"
      ]
     },
     "execution_count": 30,
     "metadata": {},
     "output_type": "execute_result"
    }
   ],
   "source": [
    "data[\n",
    "    (data['price'] > 200) & (data['price'] < 300)\n",
    "    ]['registration_year'].sort_values().unique()"
   ]
  },
  {
   "cell_type": "markdown",
   "metadata": {},
   "source": [
    "Логично будет при подготовке выборки для модели сначала обработать аномалии в остальных признаках, а цену в последнюю очередь. Пока держим в уме наши заключения и исследуем дальше."
   ]
  },
  {
   "cell_type": "markdown",
   "metadata": {},
   "source": [
    "#### vehicle_type"
   ]
  },
  {
   "cell_type": "code",
   "execution_count": 31,
   "metadata": {},
   "outputs": [
    {
     "data": {
      "text/plain": [
       "0.1057936783409384"
      ]
     },
     "execution_count": 31,
     "metadata": {},
     "output_type": "execute_result"
    }
   ],
   "source": [
    "data['vehicle_type'].isna().mean()"
   ]
  },
  {
   "cell_type": "markdown",
   "metadata": {},
   "source": [
    "Есть пропуски ~10%."
   ]
  },
  {
   "cell_type": "code",
   "execution_count": 32,
   "metadata": {},
   "outputs": [
    {
     "data": {
      "text/plain": [
       "array(['bus', 'convertible', 'coupe', 'other', 'sedan', 'small', 'suv',\n",
       "       'wagon', nan], dtype=object)"
      ]
     },
     "execution_count": 32,
     "metadata": {},
     "output_type": "execute_result"
    }
   ],
   "source": [
    "data['vehicle_type'].sort_values().unique()"
   ]
  },
  {
   "cell_type": "code",
   "execution_count": 33,
   "metadata": {},
   "outputs": [
    {
     "data": {
      "text/html": [
       "<div>\n",
       "<style scoped>\n",
       "    .dataframe tbody tr th:only-of-type {\n",
       "        vertical-align: middle;\n",
       "    }\n",
       "\n",
       "    .dataframe tbody tr th {\n",
       "        vertical-align: top;\n",
       "    }\n",
       "\n",
       "    .dataframe thead th {\n",
       "        text-align: right;\n",
       "    }\n",
       "</style>\n",
       "<table border=\"1\" class=\"dataframe\">\n",
       "  <thead>\n",
       "    <tr style=\"text-align: right;\">\n",
       "      <th></th>\n",
       "      <th>date_crawled</th>\n",
       "      <th>price</th>\n",
       "      <th>vehicle_type</th>\n",
       "      <th>registration_year</th>\n",
       "      <th>gearbox</th>\n",
       "      <th>power</th>\n",
       "      <th>model</th>\n",
       "      <th>kilometer</th>\n",
       "      <th>registration_month</th>\n",
       "      <th>fuel_type</th>\n",
       "      <th>brand</th>\n",
       "      <th>not_repaired</th>\n",
       "      <th>date_created</th>\n",
       "      <th>number_of_pictures</th>\n",
       "      <th>postal_code</th>\n",
       "      <th>last_seen</th>\n",
       "    </tr>\n",
       "  </thead>\n",
       "  <tbody>\n",
       "    <tr>\n",
       "      <th>32</th>\n",
       "      <td>2016-03-15 20:59:01</td>\n",
       "      <td>245</td>\n",
       "      <td>sedan</td>\n",
       "      <td>1994</td>\n",
       "      <td>NaN</td>\n",
       "      <td>0</td>\n",
       "      <td>golf</td>\n",
       "      <td>150000</td>\n",
       "      <td>2</td>\n",
       "      <td>petrol</td>\n",
       "      <td>volkswagen</td>\n",
       "      <td>no</td>\n",
       "      <td>2016-03-15 00:00:00</td>\n",
       "      <td>0</td>\n",
       "      <td>44145</td>\n",
       "      <td>2016-03-17 18:17:43</td>\n",
       "    </tr>\n",
       "    <tr>\n",
       "      <th>58</th>\n",
       "      <td>2016-03-31 08:57:44</td>\n",
       "      <td>1000</td>\n",
       "      <td>sedan</td>\n",
       "      <td>1998</td>\n",
       "      <td>manual</td>\n",
       "      <td>101</td>\n",
       "      <td>golf</td>\n",
       "      <td>150000</td>\n",
       "      <td>10</td>\n",
       "      <td>petrol</td>\n",
       "      <td>volkswagen</td>\n",
       "      <td>no</td>\n",
       "      <td>2016-03-31 00:00:00</td>\n",
       "      <td>0</td>\n",
       "      <td>39624</td>\n",
       "      <td>2016-04-06 03:15:47</td>\n",
       "    </tr>\n",
       "    <tr>\n",
       "      <th>74</th>\n",
       "      <td>2016-03-31 18:46:36</td>\n",
       "      <td>6600</td>\n",
       "      <td>sedan</td>\n",
       "      <td>2006</td>\n",
       "      <td>manual</td>\n",
       "      <td>105</td>\n",
       "      <td>golf</td>\n",
       "      <td>150000</td>\n",
       "      <td>10</td>\n",
       "      <td>gasoline</td>\n",
       "      <td>volkswagen</td>\n",
       "      <td>no</td>\n",
       "      <td>2016-03-31 00:00:00</td>\n",
       "      <td>0</td>\n",
       "      <td>41812</td>\n",
       "      <td>2016-03-31 18:46:36</td>\n",
       "    </tr>\n",
       "    <tr>\n",
       "      <th>113</th>\n",
       "      <td>2016-03-20 18:38:02</td>\n",
       "      <td>6300</td>\n",
       "      <td>sedan</td>\n",
       "      <td>2002</td>\n",
       "      <td>manual</td>\n",
       "      <td>265</td>\n",
       "      <td>golf</td>\n",
       "      <td>150000</td>\n",
       "      <td>3</td>\n",
       "      <td>petrol</td>\n",
       "      <td>volkswagen</td>\n",
       "      <td>no</td>\n",
       "      <td>2016-03-20 00:00:00</td>\n",
       "      <td>0</td>\n",
       "      <td>56759</td>\n",
       "      <td>2016-04-07 01:45:06</td>\n",
       "    </tr>\n",
       "    <tr>\n",
       "      <th>124</th>\n",
       "      <td>2016-03-18 23:41:18</td>\n",
       "      <td>1000</td>\n",
       "      <td>sedan</td>\n",
       "      <td>1990</td>\n",
       "      <td>manual</td>\n",
       "      <td>54</td>\n",
       "      <td>golf</td>\n",
       "      <td>150000</td>\n",
       "      <td>2</td>\n",
       "      <td>petrol</td>\n",
       "      <td>volkswagen</td>\n",
       "      <td>no</td>\n",
       "      <td>2016-03-18 00:00:00</td>\n",
       "      <td>0</td>\n",
       "      <td>47447</td>\n",
       "      <td>2016-04-05 23:16:13</td>\n",
       "    </tr>\n",
       "  </tbody>\n",
       "</table>\n",
       "</div>"
      ],
      "text/plain": [
       "           date_crawled  price vehicle_type  registration_year gearbox  power  \\\n",
       "32  2016-03-15 20:59:01    245        sedan               1994     NaN      0   \n",
       "58  2016-03-31 08:57:44   1000        sedan               1998  manual    101   \n",
       "74  2016-03-31 18:46:36   6600        sedan               2006  manual    105   \n",
       "113 2016-03-20 18:38:02   6300        sedan               2002  manual    265   \n",
       "124 2016-03-18 23:41:18   1000        sedan               1990  manual     54   \n",
       "\n",
       "    model  kilometer  registration_month fuel_type       brand not_repaired  \\\n",
       "32   golf     150000                   2    petrol  volkswagen           no   \n",
       "58   golf     150000                  10    petrol  volkswagen           no   \n",
       "74   golf     150000                  10  gasoline  volkswagen           no   \n",
       "113  golf     150000                   3    petrol  volkswagen           no   \n",
       "124  golf     150000                   2    petrol  volkswagen           no   \n",
       "\n",
       "            date_created  number_of_pictures  postal_code            last_seen  \n",
       "32   2016-03-15 00:00:00                   0        44145  2016-03-17 18:17:43  \n",
       "58   2016-03-31 00:00:00                   0        39624  2016-04-06 03:15:47  \n",
       "74   2016-03-31 00:00:00                   0        41812  2016-03-31 18:46:36  \n",
       "113  2016-03-20 00:00:00                   0        56759  2016-04-07 01:45:06  \n",
       "124  2016-03-18 00:00:00                   0        47447  2016-04-05 23:16:13  "
      ]
     },
     "execution_count": 33,
     "metadata": {},
     "output_type": "execute_result"
    }
   ],
   "source": [
    "data[(data['vehicle_type']== 'sedan') & (data['model'] == 'golf')].head(5)"
   ]
  },
  {
   "cell_type": "code",
   "execution_count": 34,
   "metadata": {},
   "outputs": [
    {
     "data": {
      "text/html": [
       "<div>\n",
       "<style scoped>\n",
       "    .dataframe tbody tr th:only-of-type {\n",
       "        vertical-align: middle;\n",
       "    }\n",
       "\n",
       "    .dataframe tbody tr th {\n",
       "        vertical-align: top;\n",
       "    }\n",
       "\n",
       "    .dataframe thead th {\n",
       "        text-align: right;\n",
       "    }\n",
       "</style>\n",
       "<table border=\"1\" class=\"dataframe\">\n",
       "  <thead>\n",
       "    <tr style=\"text-align: right;\">\n",
       "      <th></th>\n",
       "      <th>date_crawled</th>\n",
       "      <th>price</th>\n",
       "      <th>vehicle_type</th>\n",
       "      <th>registration_year</th>\n",
       "      <th>gearbox</th>\n",
       "      <th>power</th>\n",
       "      <th>model</th>\n",
       "      <th>kilometer</th>\n",
       "      <th>registration_month</th>\n",
       "      <th>fuel_type</th>\n",
       "      <th>brand</th>\n",
       "      <th>not_repaired</th>\n",
       "      <th>date_created</th>\n",
       "      <th>number_of_pictures</th>\n",
       "      <th>postal_code</th>\n",
       "      <th>last_seen</th>\n",
       "    </tr>\n",
       "  </thead>\n",
       "  <tbody>\n",
       "    <tr>\n",
       "      <th>0</th>\n",
       "      <td>2016-03-24 11:52:17</td>\n",
       "      <td>480</td>\n",
       "      <td>NaN</td>\n",
       "      <td>1993</td>\n",
       "      <td>manual</td>\n",
       "      <td>0</td>\n",
       "      <td>golf</td>\n",
       "      <td>150000</td>\n",
       "      <td>0</td>\n",
       "      <td>petrol</td>\n",
       "      <td>volkswagen</td>\n",
       "      <td>NaN</td>\n",
       "      <td>2016-03-24 00:00:00</td>\n",
       "      <td>0</td>\n",
       "      <td>70435</td>\n",
       "      <td>2016-04-07 03:16:57</td>\n",
       "    </tr>\n",
       "    <tr>\n",
       "      <th>16</th>\n",
       "      <td>2016-04-01 12:46:46</td>\n",
       "      <td>300</td>\n",
       "      <td>NaN</td>\n",
       "      <td>2016</td>\n",
       "      <td>NaN</td>\n",
       "      <td>60</td>\n",
       "      <td>polo</td>\n",
       "      <td>150000</td>\n",
       "      <td>0</td>\n",
       "      <td>petrol</td>\n",
       "      <td>volkswagen</td>\n",
       "      <td>NaN</td>\n",
       "      <td>2016-04-01 00:00:00</td>\n",
       "      <td>0</td>\n",
       "      <td>38871</td>\n",
       "      <td>2016-04-01 12:46:46</td>\n",
       "    </tr>\n",
       "    <tr>\n",
       "      <th>22</th>\n",
       "      <td>2016-03-23 14:52:51</td>\n",
       "      <td>2900</td>\n",
       "      <td>NaN</td>\n",
       "      <td>2018</td>\n",
       "      <td>manual</td>\n",
       "      <td>90</td>\n",
       "      <td>meriva</td>\n",
       "      <td>150000</td>\n",
       "      <td>5</td>\n",
       "      <td>petrol</td>\n",
       "      <td>opel</td>\n",
       "      <td>no</td>\n",
       "      <td>2016-03-23 00:00:00</td>\n",
       "      <td>0</td>\n",
       "      <td>49716</td>\n",
       "      <td>2016-03-31 01:16:33</td>\n",
       "    </tr>\n",
       "    <tr>\n",
       "      <th>26</th>\n",
       "      <td>2016-03-10 19:38:18</td>\n",
       "      <td>5555</td>\n",
       "      <td>NaN</td>\n",
       "      <td>2017</td>\n",
       "      <td>manual</td>\n",
       "      <td>125</td>\n",
       "      <td>c4</td>\n",
       "      <td>125000</td>\n",
       "      <td>4</td>\n",
       "      <td>NaN</td>\n",
       "      <td>citroen</td>\n",
       "      <td>no</td>\n",
       "      <td>2016-03-10 00:00:00</td>\n",
       "      <td>0</td>\n",
       "      <td>31139</td>\n",
       "      <td>2016-03-16 09:16:46</td>\n",
       "    </tr>\n",
       "    <tr>\n",
       "      <th>31</th>\n",
       "      <td>2016-03-29 16:57:02</td>\n",
       "      <td>899</td>\n",
       "      <td>NaN</td>\n",
       "      <td>2016</td>\n",
       "      <td>manual</td>\n",
       "      <td>60</td>\n",
       "      <td>clio</td>\n",
       "      <td>150000</td>\n",
       "      <td>6</td>\n",
       "      <td>petrol</td>\n",
       "      <td>renault</td>\n",
       "      <td>NaN</td>\n",
       "      <td>2016-03-29 00:00:00</td>\n",
       "      <td>0</td>\n",
       "      <td>37075</td>\n",
       "      <td>2016-03-29 17:43:07</td>\n",
       "    </tr>\n",
       "    <tr>\n",
       "      <th>35</th>\n",
       "      <td>2016-03-08 07:54:46</td>\n",
       "      <td>350</td>\n",
       "      <td>NaN</td>\n",
       "      <td>2016</td>\n",
       "      <td>manual</td>\n",
       "      <td>75</td>\n",
       "      <td>golf</td>\n",
       "      <td>150000</td>\n",
       "      <td>4</td>\n",
       "      <td>petrol</td>\n",
       "      <td>volkswagen</td>\n",
       "      <td>no</td>\n",
       "      <td>2016-03-08 00:00:00</td>\n",
       "      <td>0</td>\n",
       "      <td>19386</td>\n",
       "      <td>2016-03-08 09:44:50</td>\n",
       "    </tr>\n",
       "    <tr>\n",
       "      <th>37</th>\n",
       "      <td>2016-03-28 17:50:15</td>\n",
       "      <td>1500</td>\n",
       "      <td>NaN</td>\n",
       "      <td>2016</td>\n",
       "      <td>NaN</td>\n",
       "      <td>0</td>\n",
       "      <td>kangoo</td>\n",
       "      <td>150000</td>\n",
       "      <td>1</td>\n",
       "      <td>gasoline</td>\n",
       "      <td>renault</td>\n",
       "      <td>no</td>\n",
       "      <td>2016-03-28 00:00:00</td>\n",
       "      <td>0</td>\n",
       "      <td>46483</td>\n",
       "      <td>2016-03-30 09:18:02</td>\n",
       "    </tr>\n",
       "    <tr>\n",
       "      <th>40</th>\n",
       "      <td>2016-03-26 22:06:17</td>\n",
       "      <td>0</td>\n",
       "      <td>NaN</td>\n",
       "      <td>1990</td>\n",
       "      <td>NaN</td>\n",
       "      <td>0</td>\n",
       "      <td>corsa</td>\n",
       "      <td>150000</td>\n",
       "      <td>1</td>\n",
       "      <td>petrol</td>\n",
       "      <td>opel</td>\n",
       "      <td>NaN</td>\n",
       "      <td>2016-03-26 00:00:00</td>\n",
       "      <td>0</td>\n",
       "      <td>56412</td>\n",
       "      <td>2016-03-27 17:43:34</td>\n",
       "    </tr>\n",
       "    <tr>\n",
       "      <th>48</th>\n",
       "      <td>2016-03-25 14:40:12</td>\n",
       "      <td>7750</td>\n",
       "      <td>NaN</td>\n",
       "      <td>2017</td>\n",
       "      <td>manual</td>\n",
       "      <td>80</td>\n",
       "      <td>golf</td>\n",
       "      <td>100000</td>\n",
       "      <td>1</td>\n",
       "      <td>petrol</td>\n",
       "      <td>volkswagen</td>\n",
       "      <td>NaN</td>\n",
       "      <td>2016-03-25 00:00:00</td>\n",
       "      <td>0</td>\n",
       "      <td>48499</td>\n",
       "      <td>2016-03-31 21:47:44</td>\n",
       "    </tr>\n",
       "    <tr>\n",
       "      <th>51</th>\n",
       "      <td>2016-03-07 18:57:08</td>\n",
       "      <td>2000</td>\n",
       "      <td>NaN</td>\n",
       "      <td>2017</td>\n",
       "      <td>manual</td>\n",
       "      <td>90</td>\n",
       "      <td>punto</td>\n",
       "      <td>150000</td>\n",
       "      <td>11</td>\n",
       "      <td>gasoline</td>\n",
       "      <td>fiat</td>\n",
       "      <td>yes</td>\n",
       "      <td>2016-03-07 00:00:00</td>\n",
       "      <td>0</td>\n",
       "      <td>66115</td>\n",
       "      <td>2016-03-07 18:57:08</td>\n",
       "    </tr>\n",
       "  </tbody>\n",
       "</table>\n",
       "</div>"
      ],
      "text/plain": [
       "          date_crawled  price vehicle_type  registration_year gearbox  power  \\\n",
       "0  2016-03-24 11:52:17    480          NaN               1993  manual      0   \n",
       "16 2016-04-01 12:46:46    300          NaN               2016     NaN     60   \n",
       "22 2016-03-23 14:52:51   2900          NaN               2018  manual     90   \n",
       "26 2016-03-10 19:38:18   5555          NaN               2017  manual    125   \n",
       "31 2016-03-29 16:57:02    899          NaN               2016  manual     60   \n",
       "35 2016-03-08 07:54:46    350          NaN               2016  manual     75   \n",
       "37 2016-03-28 17:50:15   1500          NaN               2016     NaN      0   \n",
       "40 2016-03-26 22:06:17      0          NaN               1990     NaN      0   \n",
       "48 2016-03-25 14:40:12   7750          NaN               2017  manual     80   \n",
       "51 2016-03-07 18:57:08   2000          NaN               2017  manual     90   \n",
       "\n",
       "     model  kilometer  registration_month fuel_type       brand not_repaired  \\\n",
       "0     golf     150000                   0    petrol  volkswagen          NaN   \n",
       "16    polo     150000                   0    petrol  volkswagen          NaN   \n",
       "22  meriva     150000                   5    petrol        opel           no   \n",
       "26      c4     125000                   4       NaN     citroen           no   \n",
       "31    clio     150000                   6    petrol     renault          NaN   \n",
       "35    golf     150000                   4    petrol  volkswagen           no   \n",
       "37  kangoo     150000                   1  gasoline     renault           no   \n",
       "40   corsa     150000                   1    petrol        opel          NaN   \n",
       "48    golf     100000                   1    petrol  volkswagen          NaN   \n",
       "51   punto     150000                  11  gasoline        fiat          yes   \n",
       "\n",
       "           date_created  number_of_pictures  postal_code            last_seen  \n",
       "0   2016-03-24 00:00:00                   0        70435  2016-04-07 03:16:57  \n",
       "16  2016-04-01 00:00:00                   0        38871  2016-04-01 12:46:46  \n",
       "22  2016-03-23 00:00:00                   0        49716  2016-03-31 01:16:33  \n",
       "26  2016-03-10 00:00:00                   0        31139  2016-03-16 09:16:46  \n",
       "31  2016-03-29 00:00:00                   0        37075  2016-03-29 17:43:07  \n",
       "35  2016-03-08 00:00:00                   0        19386  2016-03-08 09:44:50  \n",
       "37  2016-03-28 00:00:00                   0        46483  2016-03-30 09:18:02  \n",
       "40  2016-03-26 00:00:00                   0        56412  2016-03-27 17:43:34  \n",
       "48  2016-03-25 00:00:00                   0        48499  2016-03-31 21:47:44  \n",
       "51  2016-03-07 00:00:00                   0        66115  2016-03-07 18:57:08  "
      ]
     },
     "execution_count": 34,
     "metadata": {},
     "output_type": "execute_result"
    }
   ],
   "source": [
    "data[data['vehicle_type'].isna() == True].head(10)"
   ]
  },
  {
   "cell_type": "markdown",
   "metadata": {},
   "source": [
    "Попробуем заполнить через столбец `model`."
   ]
  },
  {
   "cell_type": "code",
   "execution_count": 35,
   "metadata": {},
   "outputs": [
    {
     "data": {
      "text/plain": [
       "4035"
      ]
     },
     "execution_count": 35,
     "metadata": {},
     "output_type": "execute_result"
    }
   ],
   "source": [
    "# Количество пропусков модели `golf`\n",
    "len(data[\n",
    "    (data['vehicle_type'].isna() == True) & (data['model'] == 'golf')\n",
    "    ])"
   ]
  },
  {
   "cell_type": "code",
   "execution_count": 36,
   "metadata": {},
   "outputs": [
    {
     "data": {
      "text/html": [
       "<div>\n",
       "<style scoped>\n",
       "    .dataframe tbody tr th:only-of-type {\n",
       "        vertical-align: middle;\n",
       "    }\n",
       "\n",
       "    .dataframe tbody tr th {\n",
       "        vertical-align: top;\n",
       "    }\n",
       "\n",
       "    .dataframe thead th {\n",
       "        text-align: right;\n",
       "    }\n",
       "</style>\n",
       "<table border=\"1\" class=\"dataframe\">\n",
       "  <thead>\n",
       "    <tr style=\"text-align: right;\">\n",
       "      <th></th>\n",
       "      <th>date_crawled</th>\n",
       "      <th>price</th>\n",
       "      <th>vehicle_type</th>\n",
       "      <th>registration_year</th>\n",
       "      <th>gearbox</th>\n",
       "      <th>power</th>\n",
       "      <th>model</th>\n",
       "      <th>kilometer</th>\n",
       "      <th>registration_month</th>\n",
       "      <th>fuel_type</th>\n",
       "      <th>brand</th>\n",
       "      <th>not_repaired</th>\n",
       "      <th>date_created</th>\n",
       "      <th>number_of_pictures</th>\n",
       "      <th>postal_code</th>\n",
       "      <th>last_seen</th>\n",
       "    </tr>\n",
       "  </thead>\n",
       "  <tbody>\n",
       "    <tr>\n",
       "      <th>3</th>\n",
       "      <td>2016-03-17 16:54:04</td>\n",
       "      <td>1500</td>\n",
       "      <td>small</td>\n",
       "      <td>2001</td>\n",
       "      <td>manual</td>\n",
       "      <td>75</td>\n",
       "      <td>golf</td>\n",
       "      <td>150000</td>\n",
       "      <td>6</td>\n",
       "      <td>petrol</td>\n",
       "      <td>volkswagen</td>\n",
       "      <td>no</td>\n",
       "      <td>2016-03-17 00:00:00</td>\n",
       "      <td>0</td>\n",
       "      <td>91074</td>\n",
       "      <td>2016-03-17 17:40:17</td>\n",
       "    </tr>\n",
       "    <tr>\n",
       "      <th>4</th>\n",
       "      <td>2016-03-31 17:25:20</td>\n",
       "      <td>3600</td>\n",
       "      <td>small</td>\n",
       "      <td>2008</td>\n",
       "      <td>manual</td>\n",
       "      <td>69</td>\n",
       "      <td>fabia</td>\n",
       "      <td>90000</td>\n",
       "      <td>7</td>\n",
       "      <td>gasoline</td>\n",
       "      <td>skoda</td>\n",
       "      <td>no</td>\n",
       "      <td>2016-03-31 00:00:00</td>\n",
       "      <td>0</td>\n",
       "      <td>60437</td>\n",
       "      <td>2016-04-06 10:17:21</td>\n",
       "    </tr>\n",
       "    <tr>\n",
       "      <th>9</th>\n",
       "      <td>2016-03-17 10:53:50</td>\n",
       "      <td>999</td>\n",
       "      <td>small</td>\n",
       "      <td>1998</td>\n",
       "      <td>manual</td>\n",
       "      <td>101</td>\n",
       "      <td>golf</td>\n",
       "      <td>150000</td>\n",
       "      <td>0</td>\n",
       "      <td>NaN</td>\n",
       "      <td>volkswagen</td>\n",
       "      <td>NaN</td>\n",
       "      <td>2016-03-17 00:00:00</td>\n",
       "      <td>0</td>\n",
       "      <td>27472</td>\n",
       "      <td>2016-03-31 17:17:06</td>\n",
       "    </tr>\n",
       "    <tr>\n",
       "      <th>15</th>\n",
       "      <td>2016-03-11 21:39:15</td>\n",
       "      <td>450</td>\n",
       "      <td>small</td>\n",
       "      <td>1910</td>\n",
       "      <td>NaN</td>\n",
       "      <td>0</td>\n",
       "      <td>ka</td>\n",
       "      <td>5000</td>\n",
       "      <td>0</td>\n",
       "      <td>petrol</td>\n",
       "      <td>ford</td>\n",
       "      <td>NaN</td>\n",
       "      <td>2016-03-11 00:00:00</td>\n",
       "      <td>0</td>\n",
       "      <td>24148</td>\n",
       "      <td>2016-03-19 08:46:47</td>\n",
       "    </tr>\n",
       "    <tr>\n",
       "      <th>17</th>\n",
       "      <td>2016-03-20 10:25:19</td>\n",
       "      <td>1750</td>\n",
       "      <td>small</td>\n",
       "      <td>2004</td>\n",
       "      <td>auto</td>\n",
       "      <td>75</td>\n",
       "      <td>twingo</td>\n",
       "      <td>150000</td>\n",
       "      <td>2</td>\n",
       "      <td>petrol</td>\n",
       "      <td>renault</td>\n",
       "      <td>no</td>\n",
       "      <td>2016-03-20 00:00:00</td>\n",
       "      <td>0</td>\n",
       "      <td>65599</td>\n",
       "      <td>2016-04-06 13:16:07</td>\n",
       "    </tr>\n",
       "  </tbody>\n",
       "</table>\n",
       "</div>"
      ],
      "text/plain": [
       "          date_crawled  price vehicle_type  registration_year gearbox  power  \\\n",
       "3  2016-03-17 16:54:04   1500        small               2001  manual     75   \n",
       "4  2016-03-31 17:25:20   3600        small               2008  manual     69   \n",
       "9  2016-03-17 10:53:50    999        small               1998  manual    101   \n",
       "15 2016-03-11 21:39:15    450        small               1910     NaN      0   \n",
       "17 2016-03-20 10:25:19   1750        small               2004    auto     75   \n",
       "\n",
       "     model  kilometer  registration_month fuel_type       brand not_repaired  \\\n",
       "3     golf     150000                   6    petrol  volkswagen           no   \n",
       "4    fabia      90000                   7  gasoline       skoda           no   \n",
       "9     golf     150000                   0       NaN  volkswagen          NaN   \n",
       "15      ka       5000                   0    petrol        ford          NaN   \n",
       "17  twingo     150000                   2    petrol     renault           no   \n",
       "\n",
       "           date_created  number_of_pictures  postal_code            last_seen  \n",
       "3   2016-03-17 00:00:00                   0        91074  2016-03-17 17:40:17  \n",
       "4   2016-03-31 00:00:00                   0        60437  2016-04-06 10:17:21  \n",
       "9   2016-03-17 00:00:00                   0        27472  2016-03-31 17:17:06  \n",
       "15  2016-03-11 00:00:00                   0        24148  2016-03-19 08:46:47  \n",
       "17  2016-03-20 00:00:00                   0        65599  2016-04-06 13:16:07  "
      ]
     },
     "execution_count": 36,
     "metadata": {},
     "output_type": "execute_result"
    }
   ],
   "source": [
    "# Изучим класс `small`\n",
    "data[data['vehicle_type'] == 'small'].head()"
   ]
  },
  {
   "cell_type": "markdown",
   "metadata": {},
   "source": [
    "Видим опять `golf`. Значит можно заполнить часть пропусков. Вообще максимально странно выглядят данные пропуски. Попоробуем решить задачу с помощью поиска класса автомобиля через модель."
   ]
  },
  {
   "cell_type": "code",
   "execution_count": 37,
   "metadata": {},
   "outputs": [
    {
     "data": {
      "text/plain": [
       "nan"
      ]
     },
     "execution_count": 37,
     "metadata": {},
     "output_type": "execute_result"
    }
   ],
   "source": [
    "# Все модели с NaN в `vehicle_type`\n",
    "t = (\n",
    "    data[data['vehicle_type'].isna() == True]['model']\n",
    "    .sort_values().unique().tolist()\n",
    ")\n",
    "# Удалим NaN из списка\n",
    "t.pop()"
   ]
  },
  {
   "cell_type": "code",
   "execution_count": 38,
   "metadata": {},
   "outputs": [
    {
     "data": {
      "text/plain": [
       "['yaris', 'yeti', 'ypsilon', 'z_reihe', 'zafira']"
      ]
     },
     "metadata": {},
     "output_type": "display_data"
    },
    {
     "data": {
      "text/plain": [
       "241"
      ]
     },
     "metadata": {},
     "output_type": "display_data"
    }
   ],
   "source": [
    "# Проверка, что нет NaN\n",
    "display(t[-5:])\n",
    "display(len(t))"
   ]
  },
  {
   "cell_type": "code",
   "execution_count": 39,
   "metadata": {},
   "outputs": [
    {
     "data": {
      "text/html": [
       "<div>\n",
       "<style scoped>\n",
       "    .dataframe tbody tr th:only-of-type {\n",
       "        vertical-align: middle;\n",
       "    }\n",
       "\n",
       "    .dataframe tbody tr th {\n",
       "        vertical-align: top;\n",
       "    }\n",
       "\n",
       "    .dataframe thead th {\n",
       "        text-align: right;\n",
       "    }\n",
       "</style>\n",
       "<table border=\"1\" class=\"dataframe\">\n",
       "  <thead>\n",
       "    <tr style=\"text-align: right;\">\n",
       "      <th></th>\n",
       "      <th>date_crawled</th>\n",
       "      <th>price</th>\n",
       "      <th>vehicle_type</th>\n",
       "      <th>registration_year</th>\n",
       "      <th>gearbox</th>\n",
       "      <th>power</th>\n",
       "      <th>model</th>\n",
       "      <th>kilometer</th>\n",
       "      <th>registration_month</th>\n",
       "      <th>fuel_type</th>\n",
       "      <th>brand</th>\n",
       "      <th>not_repaired</th>\n",
       "      <th>date_created</th>\n",
       "      <th>number_of_pictures</th>\n",
       "      <th>postal_code</th>\n",
       "      <th>last_seen</th>\n",
       "    </tr>\n",
       "  </thead>\n",
       "  <tbody>\n",
       "    <tr>\n",
       "      <th>3</th>\n",
       "      <td>2016-03-17 16:54:04</td>\n",
       "      <td>1500</td>\n",
       "      <td>small</td>\n",
       "      <td>2001</td>\n",
       "      <td>manual</td>\n",
       "      <td>75</td>\n",
       "      <td>golf</td>\n",
       "      <td>150000</td>\n",
       "      <td>6</td>\n",
       "      <td>petrol</td>\n",
       "      <td>volkswagen</td>\n",
       "      <td>no</td>\n",
       "      <td>2016-03-17 00:00:00</td>\n",
       "      <td>0</td>\n",
       "      <td>91074</td>\n",
       "      <td>2016-03-17 17:40:17</td>\n",
       "    </tr>\n",
       "    <tr>\n",
       "      <th>9</th>\n",
       "      <td>2016-03-17 10:53:50</td>\n",
       "      <td>999</td>\n",
       "      <td>small</td>\n",
       "      <td>1998</td>\n",
       "      <td>manual</td>\n",
       "      <td>101</td>\n",
       "      <td>golf</td>\n",
       "      <td>150000</td>\n",
       "      <td>0</td>\n",
       "      <td>NaN</td>\n",
       "      <td>volkswagen</td>\n",
       "      <td>NaN</td>\n",
       "      <td>2016-03-17 00:00:00</td>\n",
       "      <td>0</td>\n",
       "      <td>27472</td>\n",
       "      <td>2016-03-31 17:17:06</td>\n",
       "    </tr>\n",
       "    <tr>\n",
       "      <th>32</th>\n",
       "      <td>2016-03-15 20:59:01</td>\n",
       "      <td>245</td>\n",
       "      <td>sedan</td>\n",
       "      <td>1994</td>\n",
       "      <td>NaN</td>\n",
       "      <td>0</td>\n",
       "      <td>golf</td>\n",
       "      <td>150000</td>\n",
       "      <td>2</td>\n",
       "      <td>petrol</td>\n",
       "      <td>volkswagen</td>\n",
       "      <td>no</td>\n",
       "      <td>2016-03-15 00:00:00</td>\n",
       "      <td>0</td>\n",
       "      <td>44145</td>\n",
       "      <td>2016-03-17 18:17:43</td>\n",
       "    </tr>\n",
       "    <tr>\n",
       "      <th>58</th>\n",
       "      <td>2016-03-31 08:57:44</td>\n",
       "      <td>1000</td>\n",
       "      <td>sedan</td>\n",
       "      <td>1998</td>\n",
       "      <td>manual</td>\n",
       "      <td>101</td>\n",
       "      <td>golf</td>\n",
       "      <td>150000</td>\n",
       "      <td>10</td>\n",
       "      <td>petrol</td>\n",
       "      <td>volkswagen</td>\n",
       "      <td>no</td>\n",
       "      <td>2016-03-31 00:00:00</td>\n",
       "      <td>0</td>\n",
       "      <td>39624</td>\n",
       "      <td>2016-04-06 03:15:47</td>\n",
       "    </tr>\n",
       "    <tr>\n",
       "      <th>74</th>\n",
       "      <td>2016-03-31 18:46:36</td>\n",
       "      <td>6600</td>\n",
       "      <td>sedan</td>\n",
       "      <td>2006</td>\n",
       "      <td>manual</td>\n",
       "      <td>105</td>\n",
       "      <td>golf</td>\n",
       "      <td>150000</td>\n",
       "      <td>10</td>\n",
       "      <td>gasoline</td>\n",
       "      <td>volkswagen</td>\n",
       "      <td>no</td>\n",
       "      <td>2016-03-31 00:00:00</td>\n",
       "      <td>0</td>\n",
       "      <td>41812</td>\n",
       "      <td>2016-03-31 18:46:36</td>\n",
       "    </tr>\n",
       "    <tr>\n",
       "      <th>113</th>\n",
       "      <td>2016-03-20 18:38:02</td>\n",
       "      <td>6300</td>\n",
       "      <td>sedan</td>\n",
       "      <td>2002</td>\n",
       "      <td>manual</td>\n",
       "      <td>265</td>\n",
       "      <td>golf</td>\n",
       "      <td>150000</td>\n",
       "      <td>3</td>\n",
       "      <td>petrol</td>\n",
       "      <td>volkswagen</td>\n",
       "      <td>no</td>\n",
       "      <td>2016-03-20 00:00:00</td>\n",
       "      <td>0</td>\n",
       "      <td>56759</td>\n",
       "      <td>2016-04-07 01:45:06</td>\n",
       "    </tr>\n",
       "    <tr>\n",
       "      <th>124</th>\n",
       "      <td>2016-03-18 23:41:18</td>\n",
       "      <td>1000</td>\n",
       "      <td>sedan</td>\n",
       "      <td>1990</td>\n",
       "      <td>manual</td>\n",
       "      <td>54</td>\n",
       "      <td>golf</td>\n",
       "      <td>150000</td>\n",
       "      <td>2</td>\n",
       "      <td>petrol</td>\n",
       "      <td>volkswagen</td>\n",
       "      <td>no</td>\n",
       "      <td>2016-03-18 00:00:00</td>\n",
       "      <td>0</td>\n",
       "      <td>47447</td>\n",
       "      <td>2016-04-05 23:16:13</td>\n",
       "    </tr>\n",
       "    <tr>\n",
       "      <th>136</th>\n",
       "      <td>2016-04-03 15:58:09</td>\n",
       "      <td>4300</td>\n",
       "      <td>sedan</td>\n",
       "      <td>2005</td>\n",
       "      <td>manual</td>\n",
       "      <td>90</td>\n",
       "      <td>golf</td>\n",
       "      <td>150000</td>\n",
       "      <td>11</td>\n",
       "      <td>gasoline</td>\n",
       "      <td>volkswagen</td>\n",
       "      <td>NaN</td>\n",
       "      <td>2016-04-03 00:00:00</td>\n",
       "      <td>0</td>\n",
       "      <td>28779</td>\n",
       "      <td>2016-04-05 15:46:23</td>\n",
       "    </tr>\n",
       "    <tr>\n",
       "      <th>146</th>\n",
       "      <td>2016-03-27 12:59:00</td>\n",
       "      <td>1000</td>\n",
       "      <td>small</td>\n",
       "      <td>1996</td>\n",
       "      <td>manual</td>\n",
       "      <td>75</td>\n",
       "      <td>golf</td>\n",
       "      <td>150000</td>\n",
       "      <td>3</td>\n",
       "      <td>petrol</td>\n",
       "      <td>volkswagen</td>\n",
       "      <td>no</td>\n",
       "      <td>2016-03-27 00:00:00</td>\n",
       "      <td>0</td>\n",
       "      <td>38640</td>\n",
       "      <td>2016-04-01 12:45:50</td>\n",
       "    </tr>\n",
       "    <tr>\n",
       "      <th>158</th>\n",
       "      <td>2016-04-01 16:06:24</td>\n",
       "      <td>800</td>\n",
       "      <td>sedan</td>\n",
       "      <td>1993</td>\n",
       "      <td>manual</td>\n",
       "      <td>0</td>\n",
       "      <td>golf</td>\n",
       "      <td>10000</td>\n",
       "      <td>9</td>\n",
       "      <td>petrol</td>\n",
       "      <td>volkswagen</td>\n",
       "      <td>yes</td>\n",
       "      <td>2016-04-01 00:00:00</td>\n",
       "      <td>0</td>\n",
       "      <td>65929</td>\n",
       "      <td>2016-04-07 11:17:07</td>\n",
       "    </tr>\n",
       "  </tbody>\n",
       "</table>\n",
       "</div>"
      ],
      "text/plain": [
       "           date_crawled  price vehicle_type  registration_year gearbox  power  \\\n",
       "3   2016-03-17 16:54:04   1500        small               2001  manual     75   \n",
       "9   2016-03-17 10:53:50    999        small               1998  manual    101   \n",
       "32  2016-03-15 20:59:01    245        sedan               1994     NaN      0   \n",
       "58  2016-03-31 08:57:44   1000        sedan               1998  manual    101   \n",
       "74  2016-03-31 18:46:36   6600        sedan               2006  manual    105   \n",
       "113 2016-03-20 18:38:02   6300        sedan               2002  manual    265   \n",
       "124 2016-03-18 23:41:18   1000        sedan               1990  manual     54   \n",
       "136 2016-04-03 15:58:09   4300        sedan               2005  manual     90   \n",
       "146 2016-03-27 12:59:00   1000        small               1996  manual     75   \n",
       "158 2016-04-01 16:06:24    800        sedan               1993  manual      0   \n",
       "\n",
       "    model  kilometer  registration_month fuel_type       brand not_repaired  \\\n",
       "3    golf     150000                   6    petrol  volkswagen           no   \n",
       "9    golf     150000                   0       NaN  volkswagen          NaN   \n",
       "32   golf     150000                   2    petrol  volkswagen           no   \n",
       "58   golf     150000                  10    petrol  volkswagen           no   \n",
       "74   golf     150000                  10  gasoline  volkswagen           no   \n",
       "113  golf     150000                   3    petrol  volkswagen           no   \n",
       "124  golf     150000                   2    petrol  volkswagen           no   \n",
       "136  golf     150000                  11  gasoline  volkswagen          NaN   \n",
       "146  golf     150000                   3    petrol  volkswagen           no   \n",
       "158  golf      10000                   9    petrol  volkswagen          yes   \n",
       "\n",
       "            date_created  number_of_pictures  postal_code            last_seen  \n",
       "3    2016-03-17 00:00:00                   0        91074  2016-03-17 17:40:17  \n",
       "9    2016-03-17 00:00:00                   0        27472  2016-03-31 17:17:06  \n",
       "32   2016-03-15 00:00:00                   0        44145  2016-03-17 18:17:43  \n",
       "58   2016-03-31 00:00:00                   0        39624  2016-04-06 03:15:47  \n",
       "74   2016-03-31 00:00:00                   0        41812  2016-03-31 18:46:36  \n",
       "113  2016-03-20 00:00:00                   0        56759  2016-04-07 01:45:06  \n",
       "124  2016-03-18 00:00:00                   0        47447  2016-04-05 23:16:13  \n",
       "136  2016-04-03 00:00:00                   0        28779  2016-04-05 15:46:23  \n",
       "146  2016-03-27 00:00:00                   0        38640  2016-04-01 12:45:50  \n",
       "158  2016-04-01 00:00:00                   0        65929  2016-04-07 11:17:07  "
      ]
     },
     "execution_count": 39,
     "metadata": {},
     "output_type": "execute_result"
    }
   ],
   "source": [
    "# Проверим наоборот по гольфу, где нет пропусков в `vehicle_type`\n",
    "data[\n",
    "    (data['vehicle_type'].isna() != True) & (data['model'] == 'golf')\n",
    "    ].head(10)"
   ]
  },
  {
   "cell_type": "markdown",
   "metadata": {},
   "source": [
    "Не учли, что одна и та же модель может быть и седаном и хетчбеком. Значит пропуски заполнить по какой-либо взаимосвязи не сможем. Запоним как `unknown`."
   ]
  },
  {
   "cell_type": "code",
   "execution_count": 40,
   "metadata": {},
   "outputs": [
    {
     "data": {
      "text/plain": [
       "array(['bus', 'convertible', 'coupe', 'other', 'sedan', 'small', 'suv',\n",
       "       'unknown', 'wagon'], dtype=object)"
      ]
     },
     "execution_count": 40,
     "metadata": {},
     "output_type": "execute_result"
    }
   ],
   "source": [
    "# Проверка\n",
    "data['vehicle_type'] = data['vehicle_type'].fillna(value='unknown')\n",
    "data['vehicle_type'].sort_values().unique()"
   ]
  },
  {
   "cell_type": "markdown",
   "metadata": {},
   "source": [
    "#### gearbox"
   ]
  },
  {
   "cell_type": "code",
   "execution_count": 41,
   "metadata": {},
   "outputs": [
    {
     "data": {
      "text/plain": [
       "array(['auto', 'manual', nan], dtype=object)"
      ]
     },
     "execution_count": 41,
     "metadata": {},
     "output_type": "execute_result"
    }
   ],
   "source": [
    "data['gearbox'].sort_values().unique()"
   ]
  },
  {
   "cell_type": "markdown",
   "metadata": {},
   "source": [
    "Заполнить пропуски никак не можем. Никакой взаимосвязи с другими столбцами."
   ]
  },
  {
   "cell_type": "code",
   "execution_count": 42,
   "metadata": {},
   "outputs": [
    {
     "data": {
      "text/plain": [
       "array(['auto', 'manual', 'unknown'], dtype=object)"
      ]
     },
     "execution_count": 42,
     "metadata": {},
     "output_type": "execute_result"
    }
   ],
   "source": [
    "# Заполним NaN на `unknown`.\n",
    "data['gearbox'] = data['gearbox'].fillna(value='unknown')\n",
    "data['gearbox'].sort_values().unique()"
   ]
  },
  {
   "cell_type": "code",
   "execution_count": 43,
   "metadata": {
    "scrolled": false
   },
   "outputs": [
    {
     "data": {
      "text/plain": [
       "0.0"
      ]
     },
     "execution_count": 43,
     "metadata": {},
     "output_type": "execute_result"
    }
   ],
   "source": [
    "# Проверка\n",
    "data['gearbox'].isna().mean()"
   ]
  },
  {
   "cell_type": "markdown",
   "metadata": {},
   "source": [
    "#### power"
   ]
  },
  {
   "cell_type": "code",
   "execution_count": 44,
   "metadata": {},
   "outputs": [
    {
     "data": {
      "text/plain": [
       "0.0"
      ]
     },
     "execution_count": 44,
     "metadata": {},
     "output_type": "execute_result"
    }
   ],
   "source": [
    "data['power'].isna().mean()"
   ]
  },
  {
   "cell_type": "code",
   "execution_count": 45,
   "metadata": {},
   "outputs": [
    {
     "data": {
      "text/plain": [
       "count    354369.000000\n",
       "mean        110.094337\n",
       "std         189.850405\n",
       "min           0.000000\n",
       "25%          69.000000\n",
       "50%         105.000000\n",
       "75%         143.000000\n",
       "max       20000.000000\n",
       "Name: power, dtype: float64"
      ]
     },
     "execution_count": 45,
     "metadata": {},
     "output_type": "execute_result"
    }
   ],
   "source": [
    "data['power'].describe()"
   ]
  },
  {
   "cell_type": "markdown",
   "metadata": {},
   "source": [
    "Мощность 20000..."
   ]
  },
  {
   "cell_type": "code",
   "execution_count": 46,
   "metadata": {},
   "outputs": [
    {
     "data": {
      "text/html": [
       "<div>\n",
       "<style scoped>\n",
       "    .dataframe tbody tr th:only-of-type {\n",
       "        vertical-align: middle;\n",
       "    }\n",
       "\n",
       "    .dataframe tbody tr th {\n",
       "        vertical-align: top;\n",
       "    }\n",
       "\n",
       "    .dataframe thead th {\n",
       "        text-align: right;\n",
       "    }\n",
       "</style>\n",
       "<table border=\"1\" class=\"dataframe\">\n",
       "  <thead>\n",
       "    <tr style=\"text-align: right;\">\n",
       "      <th></th>\n",
       "      <th>date_crawled</th>\n",
       "      <th>price</th>\n",
       "      <th>vehicle_type</th>\n",
       "      <th>registration_year</th>\n",
       "      <th>gearbox</th>\n",
       "      <th>power</th>\n",
       "      <th>model</th>\n",
       "      <th>kilometer</th>\n",
       "      <th>registration_month</th>\n",
       "      <th>fuel_type</th>\n",
       "      <th>brand</th>\n",
       "      <th>not_repaired</th>\n",
       "      <th>date_created</th>\n",
       "      <th>number_of_pictures</th>\n",
       "      <th>postal_code</th>\n",
       "      <th>last_seen</th>\n",
       "    </tr>\n",
       "  </thead>\n",
       "  <tbody>\n",
       "    <tr>\n",
       "      <th>1816</th>\n",
       "      <td>2016-03-22 20:52:00</td>\n",
       "      <td>3200</td>\n",
       "      <td>small</td>\n",
       "      <td>2004</td>\n",
       "      <td>manual</td>\n",
       "      <td>1398</td>\n",
       "      <td>corolla</td>\n",
       "      <td>5000</td>\n",
       "      <td>6</td>\n",
       "      <td>petrol</td>\n",
       "      <td>toyota</td>\n",
       "      <td>no</td>\n",
       "      <td>2016-03-22 00:00:00</td>\n",
       "      <td>0</td>\n",
       "      <td>22043</td>\n",
       "      <td>2016-03-22 21:43:26</td>\n",
       "    </tr>\n",
       "    <tr>\n",
       "      <th>2102</th>\n",
       "      <td>2016-03-21 11:55:22</td>\n",
       "      <td>0</td>\n",
       "      <td>sedan</td>\n",
       "      <td>1999</td>\n",
       "      <td>unknown</td>\n",
       "      <td>1799</td>\n",
       "      <td>vectra</td>\n",
       "      <td>150000</td>\n",
       "      <td>1</td>\n",
       "      <td>petrol</td>\n",
       "      <td>opel</td>\n",
       "      <td>yes</td>\n",
       "      <td>2016-03-21 00:00:00</td>\n",
       "      <td>0</td>\n",
       "      <td>1723</td>\n",
       "      <td>2016-04-04 04:49:06</td>\n",
       "    </tr>\n",
       "    <tr>\n",
       "      <th>3746</th>\n",
       "      <td>2016-03-21 14:48:31</td>\n",
       "      <td>0</td>\n",
       "      <td>unknown</td>\n",
       "      <td>2017</td>\n",
       "      <td>manual</td>\n",
       "      <td>750</td>\n",
       "      <td>NaN</td>\n",
       "      <td>150000</td>\n",
       "      <td>8</td>\n",
       "      <td>petrol</td>\n",
       "      <td>smart</td>\n",
       "      <td>no</td>\n",
       "      <td>2016-03-21 00:00:00</td>\n",
       "      <td>0</td>\n",
       "      <td>49356</td>\n",
       "      <td>2016-03-24 03:44:59</td>\n",
       "    </tr>\n",
       "    <tr>\n",
       "      <th>4060</th>\n",
       "      <td>2016-04-03 20:31:00</td>\n",
       "      <td>3100</td>\n",
       "      <td>sedan</td>\n",
       "      <td>2005</td>\n",
       "      <td>manual</td>\n",
       "      <td>953</td>\n",
       "      <td>colt</td>\n",
       "      <td>150000</td>\n",
       "      <td>4</td>\n",
       "      <td>gasoline</td>\n",
       "      <td>mitsubishi</td>\n",
       "      <td>no</td>\n",
       "      <td>2016-04-03 00:00:00</td>\n",
       "      <td>0</td>\n",
       "      <td>60326</td>\n",
       "      <td>2016-04-07 14:56:46</td>\n",
       "    </tr>\n",
       "    <tr>\n",
       "      <th>5328</th>\n",
       "      <td>2016-03-29 19:44:48</td>\n",
       "      <td>500</td>\n",
       "      <td>wagon</td>\n",
       "      <td>1999</td>\n",
       "      <td>manual</td>\n",
       "      <td>1001</td>\n",
       "      <td>astra</td>\n",
       "      <td>150000</td>\n",
       "      <td>7</td>\n",
       "      <td>petrol</td>\n",
       "      <td>opel</td>\n",
       "      <td>NaN</td>\n",
       "      <td>2016-03-29 00:00:00</td>\n",
       "      <td>0</td>\n",
       "      <td>33154</td>\n",
       "      <td>2016-04-06 05:44:36</td>\n",
       "    </tr>\n",
       "    <tr>\n",
       "      <th>6296</th>\n",
       "      <td>2016-03-31 23:50:47</td>\n",
       "      <td>599</td>\n",
       "      <td>small</td>\n",
       "      <td>2002</td>\n",
       "      <td>manual</td>\n",
       "      <td>603</td>\n",
       "      <td>matiz</td>\n",
       "      <td>5000</td>\n",
       "      <td>11</td>\n",
       "      <td>petrol</td>\n",
       "      <td>chevrolet</td>\n",
       "      <td>yes</td>\n",
       "      <td>2016-03-31 00:00:00</td>\n",
       "      <td>0</td>\n",
       "      <td>44379</td>\n",
       "      <td>2016-04-01 03:41:52</td>\n",
       "    </tr>\n",
       "    <tr>\n",
       "      <th>6504</th>\n",
       "      <td>2016-03-14 15:54:34</td>\n",
       "      <td>3000</td>\n",
       "      <td>small</td>\n",
       "      <td>2009</td>\n",
       "      <td>manual</td>\n",
       "      <td>771</td>\n",
       "      <td>punto</td>\n",
       "      <td>125000</td>\n",
       "      <td>0</td>\n",
       "      <td>petrol</td>\n",
       "      <td>fiat</td>\n",
       "      <td>NaN</td>\n",
       "      <td>2016-03-14 00:00:00</td>\n",
       "      <td>0</td>\n",
       "      <td>40721</td>\n",
       "      <td>2016-03-14 15:54:34</td>\n",
       "    </tr>\n",
       "    <tr>\n",
       "      <th>6637</th>\n",
       "      <td>2016-03-31 19:48:22</td>\n",
       "      <td>600</td>\n",
       "      <td>small</td>\n",
       "      <td>1996</td>\n",
       "      <td>manual</td>\n",
       "      <td>603</td>\n",
       "      <td>corsa</td>\n",
       "      <td>150000</td>\n",
       "      <td>8</td>\n",
       "      <td>petrol</td>\n",
       "      <td>opel</td>\n",
       "      <td>yes</td>\n",
       "      <td>2016-03-31 00:00:00</td>\n",
       "      <td>0</td>\n",
       "      <td>70327</td>\n",
       "      <td>2016-04-06 14:17:51</td>\n",
       "    </tr>\n",
       "    <tr>\n",
       "      <th>7661</th>\n",
       "      <td>2016-04-02 19:25:25</td>\n",
       "      <td>1499</td>\n",
       "      <td>small</td>\n",
       "      <td>1999</td>\n",
       "      <td>manual</td>\n",
       "      <td>7515</td>\n",
       "      <td>lupo</td>\n",
       "      <td>150000</td>\n",
       "      <td>4</td>\n",
       "      <td>petrol</td>\n",
       "      <td>volkswagen</td>\n",
       "      <td>NaN</td>\n",
       "      <td>2016-04-02 00:00:00</td>\n",
       "      <td>0</td>\n",
       "      <td>65830</td>\n",
       "      <td>2016-04-06 11:46:49</td>\n",
       "    </tr>\n",
       "    <tr>\n",
       "      <th>7720</th>\n",
       "      <td>2016-04-02 11:48:54</td>\n",
       "      <td>1500</td>\n",
       "      <td>small</td>\n",
       "      <td>2000</td>\n",
       "      <td>manual</td>\n",
       "      <td>1400</td>\n",
       "      <td>NaN</td>\n",
       "      <td>150000</td>\n",
       "      <td>0</td>\n",
       "      <td>petrol</td>\n",
       "      <td>honda</td>\n",
       "      <td>NaN</td>\n",
       "      <td>2016-04-02 00:00:00</td>\n",
       "      <td>0</td>\n",
       "      <td>21509</td>\n",
       "      <td>2016-04-04 09:15:26</td>\n",
       "    </tr>\n",
       "  </tbody>\n",
       "</table>\n",
       "</div>"
      ],
      "text/plain": [
       "            date_crawled  price vehicle_type  registration_year  gearbox  \\\n",
       "1816 2016-03-22 20:52:00   3200        small               2004   manual   \n",
       "2102 2016-03-21 11:55:22      0        sedan               1999  unknown   \n",
       "3746 2016-03-21 14:48:31      0      unknown               2017   manual   \n",
       "4060 2016-04-03 20:31:00   3100        sedan               2005   manual   \n",
       "5328 2016-03-29 19:44:48    500        wagon               1999   manual   \n",
       "6296 2016-03-31 23:50:47    599        small               2002   manual   \n",
       "6504 2016-03-14 15:54:34   3000        small               2009   manual   \n",
       "6637 2016-03-31 19:48:22    600        small               1996   manual   \n",
       "7661 2016-04-02 19:25:25   1499        small               1999   manual   \n",
       "7720 2016-04-02 11:48:54   1500        small               2000   manual   \n",
       "\n",
       "      power    model  kilometer  registration_month fuel_type       brand  \\\n",
       "1816   1398  corolla       5000                   6    petrol      toyota   \n",
       "2102   1799   vectra     150000                   1    petrol        opel   \n",
       "3746    750      NaN     150000                   8    petrol       smart   \n",
       "4060    953     colt     150000                   4  gasoline  mitsubishi   \n",
       "5328   1001    astra     150000                   7    petrol        opel   \n",
       "6296    603    matiz       5000                  11    petrol   chevrolet   \n",
       "6504    771    punto     125000                   0    petrol        fiat   \n",
       "6637    603    corsa     150000                   8    petrol        opel   \n",
       "7661   7515     lupo     150000                   4    petrol  volkswagen   \n",
       "7720   1400      NaN     150000                   0    petrol       honda   \n",
       "\n",
       "     not_repaired         date_created  number_of_pictures  postal_code  \\\n",
       "1816           no  2016-03-22 00:00:00                   0        22043   \n",
       "2102          yes  2016-03-21 00:00:00                   0         1723   \n",
       "3746           no  2016-03-21 00:00:00                   0        49356   \n",
       "4060           no  2016-04-03 00:00:00                   0        60326   \n",
       "5328          NaN  2016-03-29 00:00:00                   0        33154   \n",
       "6296          yes  2016-03-31 00:00:00                   0        44379   \n",
       "6504          NaN  2016-03-14 00:00:00                   0        40721   \n",
       "6637          yes  2016-03-31 00:00:00                   0        70327   \n",
       "7661          NaN  2016-04-02 00:00:00                   0        65830   \n",
       "7720          NaN  2016-04-02 00:00:00                   0        21509   \n",
       "\n",
       "                last_seen  \n",
       "1816  2016-03-22 21:43:26  \n",
       "2102  2016-04-04 04:49:06  \n",
       "3746  2016-03-24 03:44:59  \n",
       "4060  2016-04-07 14:56:46  \n",
       "5328  2016-04-06 05:44:36  \n",
       "6296  2016-04-01 03:41:52  \n",
       "6504  2016-03-14 15:54:34  \n",
       "6637  2016-04-06 14:17:51  \n",
       "7661  2016-04-06 11:46:49  \n",
       "7720  2016-04-04 09:15:26  "
      ]
     },
     "execution_count": 46,
     "metadata": {},
     "output_type": "execute_result"
    }
   ],
   "source": [
    "data[data['power'] > 600].head(10)"
   ]
  },
  {
   "cell_type": "code",
   "execution_count": 47,
   "metadata": {},
   "outputs": [
    {
     "data": {
      "text/plain": [
       "384"
      ]
     },
     "execution_count": 47,
     "metadata": {},
     "output_type": "execute_result"
    }
   ],
   "source": [
    "len(data[data['power'] > 600])"
   ]
  },
  {
   "cell_type": "code",
   "execution_count": 48,
   "metadata": {},
   "outputs": [
    {
     "data": {
      "text/plain": [
       "count      384.000000\n",
       "mean      2946.791667\n",
       "std       3471.159656\n",
       "min          0.000000\n",
       "25%        650.000000\n",
       "50%       1600.000000\n",
       "75%       3762.250000\n",
       "max      18550.000000\n",
       "Name: price, dtype: float64"
      ]
     },
     "execution_count": 48,
     "metadata": {},
     "output_type": "execute_result"
    }
   ],
   "source": [
    "data[data['power'] > 600]['price'].describe()"
   ]
  },
  {
   "cell_type": "markdown",
   "metadata": {},
   "source": [
    "При мощности более 600 сил выводятся такие как матиз, пунто и т.д. По идее можно исправить, заполнить. Но из-за 384 строки при полном датасете в 354тыс проще будет удалить. \n",
    "\n",
    "\n",
    "Также есть нулевая мощность. Пока оставим как есть."
   ]
  },
  {
   "cell_type": "markdown",
   "metadata": {},
   "source": [
    "#### model"
   ]
  },
  {
   "cell_type": "code",
   "execution_count": 49,
   "metadata": {},
   "outputs": [
    {
     "data": {
      "text/plain": [
       "251"
      ]
     },
     "execution_count": 49,
     "metadata": {},
     "output_type": "execute_result"
    }
   ],
   "source": [
    "# Количество уникальных моделей\n",
    "len(data['model'].unique())"
   ]
  },
  {
   "cell_type": "code",
   "execution_count": 50,
   "metadata": {},
   "outputs": [
    {
     "data": {
      "text/plain": [
       "0.055605879746817584"
      ]
     },
     "execution_count": 50,
     "metadata": {},
     "output_type": "execute_result"
    }
   ],
   "source": [
    "# Пропуски\n",
    "data['model'].isna().mean()"
   ]
  },
  {
   "cell_type": "code",
   "execution_count": 51,
   "metadata": {},
   "outputs": [
    {
     "data": {
      "text/plain": [
       "0.0"
      ]
     },
     "metadata": {},
     "output_type": "display_data"
    }
   ],
   "source": [
    "# Заполним на `unknown`.\n",
    "data['model'] = data['model'].fillna(value='unknown')\n",
    "display(data['model'].isna().mean())\n"
   ]
  },
  {
   "cell_type": "markdown",
   "metadata": {},
   "source": [
    "#### kilometer"
   ]
  },
  {
   "cell_type": "code",
   "execution_count": 52,
   "metadata": {},
   "outputs": [
    {
     "data": {
      "text/plain": [
       "0.0"
      ]
     },
     "execution_count": 52,
     "metadata": {},
     "output_type": "execute_result"
    }
   ],
   "source": [
    "data['kilometer'].isna().mean()"
   ]
  },
  {
   "cell_type": "code",
   "execution_count": 53,
   "metadata": {},
   "outputs": [
    {
     "data": {
      "text/plain": [
       "count    354369.000000\n",
       "mean     128211.172535\n",
       "std       37905.341530\n",
       "min        5000.000000\n",
       "25%      125000.000000\n",
       "50%      150000.000000\n",
       "75%      150000.000000\n",
       "max      150000.000000\n",
       "Name: kilometer, dtype: float64"
      ]
     },
     "execution_count": 53,
     "metadata": {},
     "output_type": "execute_result"
    }
   ],
   "source": [
    "data['kilometer'].describe()"
   ]
  },
  {
   "cell_type": "markdown",
   "metadata": {},
   "source": [
    "Очень странно, что более 50% значений ровно 150000. Будем считать, что сервис просто ограничил пробег для заполнения."
   ]
  },
  {
   "cell_type": "code",
   "execution_count": 54,
   "metadata": {},
   "outputs": [
    {
     "data": {
      "text/html": [
       "<div>\n",
       "<style scoped>\n",
       "    .dataframe tbody tr th:only-of-type {\n",
       "        vertical-align: middle;\n",
       "    }\n",
       "\n",
       "    .dataframe tbody tr th {\n",
       "        vertical-align: top;\n",
       "    }\n",
       "\n",
       "    .dataframe thead th {\n",
       "        text-align: right;\n",
       "    }\n",
       "</style>\n",
       "<table border=\"1\" class=\"dataframe\">\n",
       "  <thead>\n",
       "    <tr style=\"text-align: right;\">\n",
       "      <th></th>\n",
       "      <th>date_crawled</th>\n",
       "      <th>price</th>\n",
       "      <th>vehicle_type</th>\n",
       "      <th>registration_year</th>\n",
       "      <th>gearbox</th>\n",
       "      <th>power</th>\n",
       "      <th>model</th>\n",
       "      <th>kilometer</th>\n",
       "      <th>registration_month</th>\n",
       "      <th>fuel_type</th>\n",
       "      <th>brand</th>\n",
       "      <th>not_repaired</th>\n",
       "      <th>date_created</th>\n",
       "      <th>number_of_pictures</th>\n",
       "      <th>postal_code</th>\n",
       "      <th>last_seen</th>\n",
       "    </tr>\n",
       "  </thead>\n",
       "  <tbody>\n",
       "    <tr>\n",
       "      <th>0</th>\n",
       "      <td>2016-03-24 11:52:17</td>\n",
       "      <td>480</td>\n",
       "      <td>unknown</td>\n",
       "      <td>1993</td>\n",
       "      <td>manual</td>\n",
       "      <td>0</td>\n",
       "      <td>golf</td>\n",
       "      <td>150000</td>\n",
       "      <td>0</td>\n",
       "      <td>petrol</td>\n",
       "      <td>volkswagen</td>\n",
       "      <td>NaN</td>\n",
       "      <td>2016-03-24 00:00:00</td>\n",
       "      <td>0</td>\n",
       "      <td>70435</td>\n",
       "      <td>2016-04-07 03:16:57</td>\n",
       "    </tr>\n",
       "    <tr>\n",
       "      <th>1</th>\n",
       "      <td>2016-03-24 10:58:45</td>\n",
       "      <td>18300</td>\n",
       "      <td>coupe</td>\n",
       "      <td>2011</td>\n",
       "      <td>manual</td>\n",
       "      <td>190</td>\n",
       "      <td>unknown</td>\n",
       "      <td>125000</td>\n",
       "      <td>5</td>\n",
       "      <td>gasoline</td>\n",
       "      <td>audi</td>\n",
       "      <td>yes</td>\n",
       "      <td>2016-03-24 00:00:00</td>\n",
       "      <td>0</td>\n",
       "      <td>66954</td>\n",
       "      <td>2016-04-07 01:46:50</td>\n",
       "    </tr>\n",
       "    <tr>\n",
       "      <th>2</th>\n",
       "      <td>2016-03-14 12:52:21</td>\n",
       "      <td>9800</td>\n",
       "      <td>suv</td>\n",
       "      <td>2004</td>\n",
       "      <td>auto</td>\n",
       "      <td>163</td>\n",
       "      <td>grand</td>\n",
       "      <td>125000</td>\n",
       "      <td>8</td>\n",
       "      <td>gasoline</td>\n",
       "      <td>jeep</td>\n",
       "      <td>NaN</td>\n",
       "      <td>2016-03-14 00:00:00</td>\n",
       "      <td>0</td>\n",
       "      <td>90480</td>\n",
       "      <td>2016-04-05 12:47:46</td>\n",
       "    </tr>\n",
       "  </tbody>\n",
       "</table>\n",
       "</div>"
      ],
      "text/plain": [
       "         date_crawled  price vehicle_type  registration_year gearbox  power  \\\n",
       "0 2016-03-24 11:52:17    480      unknown               1993  manual      0   \n",
       "1 2016-03-24 10:58:45  18300        coupe               2011  manual    190   \n",
       "2 2016-03-14 12:52:21   9800          suv               2004    auto    163   \n",
       "\n",
       "     model  kilometer  registration_month fuel_type       brand not_repaired  \\\n",
       "0     golf     150000                   0    petrol  volkswagen          NaN   \n",
       "1  unknown     125000                   5  gasoline        audi          yes   \n",
       "2    grand     125000                   8  gasoline        jeep          NaN   \n",
       "\n",
       "          date_created  number_of_pictures  postal_code            last_seen  \n",
       "0  2016-03-24 00:00:00                   0        70435  2016-04-07 03:16:57  \n",
       "1  2016-03-24 00:00:00                   0        66954  2016-04-07 01:46:50  \n",
       "2  2016-03-14 00:00:00                   0        90480  2016-04-05 12:47:46  "
      ]
     },
     "execution_count": 54,
     "metadata": {},
     "output_type": "execute_result"
    }
   ],
   "source": [
    "data.head(3)"
   ]
  },
  {
   "cell_type": "markdown",
   "metadata": {},
   "source": [
    "#### registration_month\t"
   ]
  },
  {
   "cell_type": "code",
   "execution_count": 55,
   "metadata": {},
   "outputs": [
    {
     "data": {
      "text/plain": [
       "0.0"
      ]
     },
     "execution_count": 55,
     "metadata": {},
     "output_type": "execute_result"
    }
   ],
   "source": [
    "data['registration_month'].isna().mean()"
   ]
  },
  {
   "cell_type": "code",
   "execution_count": 56,
   "metadata": {},
   "outputs": [
    {
     "data": {
      "text/plain": [
       "array([ 0,  1,  2,  3,  4,  5,  6,  7,  8,  9, 10, 11, 12], dtype=int64)"
      ]
     },
     "execution_count": 56,
     "metadata": {},
     "output_type": "execute_result"
    }
   ],
   "source": [
    "data['registration_month'].sort_values().unique()"
   ]
  },
  {
   "cell_type": "code",
   "execution_count": 57,
   "metadata": {},
   "outputs": [
    {
     "data": {
      "text/plain": [
       "37352"
      ]
     },
     "execution_count": 57,
     "metadata": {},
     "output_type": "execute_result"
    }
   ],
   "source": [
    "len(data[data['registration_month'] == 0])"
   ]
  },
  {
   "cell_type": "markdown",
   "metadata": {},
   "source": [
    "Аномалия: нулевой месяц регистрации. Число строк 37352. Пока оставим как есть."
   ]
  },
  {
   "cell_type": "markdown",
   "metadata": {},
   "source": [
    "#### fuel_type"
   ]
  },
  {
   "cell_type": "code",
   "execution_count": 58,
   "metadata": {},
   "outputs": [
    {
     "data": {
      "text/plain": [
       "0.09282696849893755"
      ]
     },
     "execution_count": 58,
     "metadata": {},
     "output_type": "execute_result"
    }
   ],
   "source": [
    "data['fuel_type'].isna().mean()"
   ]
  },
  {
   "cell_type": "code",
   "execution_count": 59,
   "metadata": {},
   "outputs": [
    {
     "data": {
      "text/plain": [
       "array(['cng', 'electric', 'gasoline', 'hybrid', 'lpg', 'other', 'petrol',\n",
       "       nan], dtype=object)"
      ]
     },
     "execution_count": 59,
     "metadata": {},
     "output_type": "execute_result"
    }
   ],
   "source": [
    "data['fuel_type'].sort_values().unique()"
   ]
  },
  {
   "cell_type": "code",
   "execution_count": 60,
   "metadata": {},
   "outputs": [
    {
     "data": {
      "text/plain": [
       "0.0"
      ]
     },
     "metadata": {},
     "output_type": "display_data"
    }
   ],
   "source": [
    "# Заполним на `unknown`. Все аналогично\n",
    "data['fuel_type'] = data['fuel_type'].fillna(value='unknown')\n",
    "display(data['fuel_type'].isna().mean())"
   ]
  },
  {
   "cell_type": "code",
   "execution_count": 61,
   "metadata": {},
   "outputs": [
    {
     "data": {
      "text/plain": [
       "array(['cng', 'electric', 'gasoline', 'hybrid', 'lpg', 'other', 'petrol',\n",
       "       'unknown'], dtype=object)"
      ]
     },
     "execution_count": 61,
     "metadata": {},
     "output_type": "execute_result"
    }
   ],
   "source": [
    "data['fuel_type'].sort_values().unique()"
   ]
  },
  {
   "cell_type": "markdown",
   "metadata": {},
   "source": [
    "#### brand"
   ]
  },
  {
   "cell_type": "code",
   "execution_count": 62,
   "metadata": {},
   "outputs": [
    {
     "data": {
      "text/plain": [
       "0.0"
      ]
     },
     "execution_count": 62,
     "metadata": {},
     "output_type": "execute_result"
    }
   ],
   "source": [
    "data['brand'].isna().mean()"
   ]
  },
  {
   "cell_type": "code",
   "execution_count": 63,
   "metadata": {},
   "outputs": [
    {
     "data": {
      "text/plain": [
       "array(['alfa_romeo', 'audi', 'bmw', 'chevrolet', 'chrysler', 'citroen',\n",
       "       'dacia', 'daewoo', 'daihatsu', 'fiat', 'ford', 'honda', 'hyundai',\n",
       "       'jaguar', 'jeep', 'kia', 'lada', 'lancia', 'land_rover', 'mazda',\n",
       "       'mercedes_benz', 'mini', 'mitsubishi', 'nissan', 'opel', 'peugeot',\n",
       "       'porsche', 'renault', 'rover', 'saab', 'seat', 'skoda', 'smart',\n",
       "       'sonstige_autos', 'subaru', 'suzuki', 'toyota', 'trabant',\n",
       "       'volkswagen', 'volvo'], dtype=object)"
      ]
     },
     "execution_count": 63,
     "metadata": {},
     "output_type": "execute_result"
    }
   ],
   "source": [
    "data['brand'].sort_values().unique()"
   ]
  },
  {
   "cell_type": "markdown",
   "metadata": {},
   "source": [
    "Хоть тут все более менее."
   ]
  },
  {
   "cell_type": "markdown",
   "metadata": {},
   "source": [
    "#### not_repaired"
   ]
  },
  {
   "cell_type": "code",
   "execution_count": 64,
   "metadata": {},
   "outputs": [
    {
     "data": {
      "text/plain": [
       "0.20079070121822168"
      ]
     },
     "execution_count": 64,
     "metadata": {},
     "output_type": "execute_result"
    }
   ],
   "source": [
    "data['not_repaired'].isna().mean()"
   ]
  },
  {
   "cell_type": "code",
   "execution_count": 65,
   "metadata": {},
   "outputs": [
    {
     "data": {
      "text/plain": [
       "array(['no', 'yes', nan], dtype=object)"
      ]
     },
     "execution_count": 65,
     "metadata": {},
     "output_type": "execute_result"
    }
   ],
   "source": [
    "data['not_repaired'].sort_values().unique()"
   ]
  },
  {
   "cell_type": "code",
   "execution_count": 66,
   "metadata": {},
   "outputs": [
    {
     "data": {
      "text/plain": [
       "<AxesSubplot:>"
      ]
     },
     "execution_count": 66,
     "metadata": {},
     "output_type": "execute_result"
    },
    {
     "data": {
      "image/png": "[encoded data removed]",
      "text/plain": [
       "<Figure size 432x288 with 1 Axes>"
      ]
     },
     "metadata": {
      "needs_background": "light"
     },
     "output_type": "display_data"
    }
   ],
   "source": [
    "data[data['not_repaired'] == 'no'].boxplot(column='kilometer')"
   ]
  },
  {
   "cell_type": "code",
   "execution_count": 67,
   "metadata": {},
   "outputs": [
    {
     "data": {
      "text/plain": [
       "<AxesSubplot:>"
      ]
     },
     "execution_count": 67,
     "metadata": {},
     "output_type": "execute_result"
    },
    {
     "data": {
      "image/png": "[encoded data removed]",
      "text/plain": [
       "<Figure size 432x288 with 1 Axes>"
      ]
     },
     "metadata": {
      "needs_background": "light"
     },
     "output_type": "display_data"
    }
   ],
   "source": [
    "data[data['not_repaired'] == 'yes'].boxplot(column='kilometer')"
   ]
  },
  {
   "cell_type": "code",
   "execution_count": 68,
   "metadata": {},
   "outputs": [
    {
     "data": {
      "text/plain": [
       "<AxesSubplot:>"
      ]
     },
     "execution_count": 68,
     "metadata": {},
     "output_type": "execute_result"
    },
    {
     "data": {
      "image/png": "[encoded data removed]",
      "text/plain": [
       "<Figure size 432x288 with 1 Axes>"
      ]
     },
     "metadata": {
      "needs_background": "light"
     },
     "output_type": "display_data"
    }
   ],
   "source": [
    "data[data['not_repaired'].isna()].boxplot(column='kilometer')"
   ]
  },
  {
   "cell_type": "markdown",
   "metadata": {},
   "source": [
    "Будем считать, что если клиент не указал, значит не было ремонта."
   ]
  },
  {
   "cell_type": "code",
   "execution_count": 69,
   "metadata": {},
   "outputs": [
    {
     "data": {
      "text/plain": [
       "0.0"
      ]
     },
     "execution_count": 69,
     "metadata": {},
     "output_type": "execute_result"
    }
   ],
   "source": [
    "data['not_repaired'] = data['not_repaired'].fillna(value='no')\n",
    "data['not_repaired'].isna().mean()"
   ]
  },
  {
   "cell_type": "code",
   "execution_count": 70,
   "metadata": {},
   "outputs": [
    {
     "data": {
      "text/plain": [
       "no     318315\n",
       "yes     36054\n",
       "Name: not_repaired, dtype: int64"
      ]
     },
     "execution_count": 70,
     "metadata": {},
     "output_type": "execute_result"
    }
   ],
   "source": [
    "# Проверка\n",
    "data['not_repaired'].value_counts()"
   ]
  },
  {
   "cell_type": "markdown",
   "metadata": {},
   "source": [
    "Последние 4 столбца, никакой роли в построении модели играть не будут. Удалим. Также первый столбец — дата скачивания анкеты из базы."
   ]
  },
  {
   "cell_type": "code",
   "execution_count": 71,
   "metadata": {},
   "outputs": [
    {
     "data": {
      "text/html": [
       "<div>\n",
       "<style scoped>\n",
       "    .dataframe tbody tr th:only-of-type {\n",
       "        vertical-align: middle;\n",
       "    }\n",
       "\n",
       "    .dataframe tbody tr th {\n",
       "        vertical-align: top;\n",
       "    }\n",
       "\n",
       "    .dataframe thead th {\n",
       "        text-align: right;\n",
       "    }\n",
       "</style>\n",
       "<table border=\"1\" class=\"dataframe\">\n",
       "  <thead>\n",
       "    <tr style=\"text-align: right;\">\n",
       "      <th></th>\n",
       "      <th>price</th>\n",
       "      <th>vehicle_type</th>\n",
       "      <th>registration_year</th>\n",
       "      <th>gearbox</th>\n",
       "      <th>power</th>\n",
       "      <th>model</th>\n",
       "      <th>kilometer</th>\n",
       "      <th>registration_month</th>\n",
       "      <th>fuel_type</th>\n",
       "      <th>brand</th>\n",
       "      <th>not_repaired</th>\n",
       "    </tr>\n",
       "  </thead>\n",
       "  <tbody>\n",
       "    <tr>\n",
       "      <th>0</th>\n",
       "      <td>480</td>\n",
       "      <td>unknown</td>\n",
       "      <td>1993</td>\n",
       "      <td>manual</td>\n",
       "      <td>0</td>\n",
       "      <td>golf</td>\n",
       "      <td>150000</td>\n",
       "      <td>0</td>\n",
       "      <td>petrol</td>\n",
       "      <td>volkswagen</td>\n",
       "      <td>no</td>\n",
       "    </tr>\n",
       "    <tr>\n",
       "      <th>1</th>\n",
       "      <td>18300</td>\n",
       "      <td>coupe</td>\n",
       "      <td>2011</td>\n",
       "      <td>manual</td>\n",
       "      <td>190</td>\n",
       "      <td>unknown</td>\n",
       "      <td>125000</td>\n",
       "      <td>5</td>\n",
       "      <td>gasoline</td>\n",
       "      <td>audi</td>\n",
       "      <td>yes</td>\n",
       "    </tr>\n",
       "    <tr>\n",
       "      <th>2</th>\n",
       "      <td>9800</td>\n",
       "      <td>suv</td>\n",
       "      <td>2004</td>\n",
       "      <td>auto</td>\n",
       "      <td>163</td>\n",
       "      <td>grand</td>\n",
       "      <td>125000</td>\n",
       "      <td>8</td>\n",
       "      <td>gasoline</td>\n",
       "      <td>jeep</td>\n",
       "      <td>no</td>\n",
       "    </tr>\n",
       "  </tbody>\n",
       "</table>\n",
       "</div>"
      ],
      "text/plain": [
       "   price vehicle_type  registration_year gearbox  power    model  kilometer  \\\n",
       "0    480      unknown               1993  manual      0     golf     150000   \n",
       "1  18300        coupe               2011  manual    190  unknown     125000   \n",
       "2   9800          suv               2004    auto    163    grand     125000   \n",
       "\n",
       "   registration_month fuel_type       brand not_repaired  \n",
       "0                   0    petrol  volkswagen           no  \n",
       "1                   5  gasoline        audi          yes  \n",
       "2                   8  gasoline        jeep           no  "
      ]
     },
     "execution_count": 71,
     "metadata": {},
     "output_type": "execute_result"
    }
   ],
   "source": [
    "data = data.loc[:, 'price':'not_repaired']\n",
    "data.head(3)"
   ]
  },
  {
   "cell_type": "code",
   "execution_count": 72,
   "metadata": {},
   "outputs": [
    {
     "data": {
      "text/plain": [
       "price                 0.0\n",
       "vehicle_type          0.0\n",
       "registration_year     0.0\n",
       "gearbox               0.0\n",
       "power                 0.0\n",
       "model                 0.0\n",
       "kilometer             0.0\n",
       "registration_month    0.0\n",
       "fuel_type             0.0\n",
       "brand                 0.0\n",
       "not_repaired          0.0\n",
       "dtype: float64"
      ]
     },
     "execution_count": 72,
     "metadata": {},
     "output_type": "execute_result"
    }
   ],
   "source": [
    "data.isna().mean()"
   ]
  },
  {
   "cell_type": "markdown",
   "metadata": {},
   "source": [
    "#### Вывод"
   ]
  },
  {
   "cell_type": "markdown",
   "metadata": {},
   "source": [
    "1. Привели названия столбцов из CamelCase в snake_case;\n",
    "2. Обнаружили пропуски в столбцах:\n",
    "    * VehicleType    0.105794\n",
    "    * Gearbox        0.055967\n",
    "    * Model          0.055606\n",
    "    * FuelType       0.092827\n",
    "    * NotRepaired    0.200791\n",
    "3. Пропуски заполнили значением `unknown`, поскольку определить/заполнить по имеющимся данным/взаимосвязям не получилось;\n",
    "4. В столбце NotRepaired заполнили пропуски значением `no`. Посчитав, что если клиент не указал, то значит не было ремонта;\n",
    "5. Дубликатов не обнаружено;\n",
    "6. Много аномалий по цене. Есть неадекватно низкие цены меньше 100 долларов. При просмотре зависимости от года регистрации авто выявились аномалии и в годах регистрации;\n",
    "7. Есть аномалии в столбце Power: при мощности более 600 сил выводятся такие как матиз, пунто и т.д. при также неадекватно низкой цене;\n",
    "8. В столбце Kilometer более 50% значений ровно 150000. Будем считать, что сервис просто ограничил пробег для заполнения.\n",
    "9. В столбце RegistrationMonth аномалия: нулевой месяц регистрации. Число строк 37352;\n",
    "10. Последние 4 столбца, никакой роли в построении модели играть не будут. Удалили. Также первый столбец — дата скачивания анкеты из базы."
   ]
  },
  {
   "cell_type": "markdown",
   "metadata": {},
   "source": [
    "### Подготовка выборок"
   ]
  },
  {
   "cell_type": "markdown",
   "metadata": {},
   "source": [
    "В этом подразделе создадим словарь для различных выборок, на которых будем искать лучшие метрики качества и поиск лучшей модели."
   ]
  },
  {
   "cell_type": "code",
   "execution_count": 73,
   "metadata": {},
   "outputs": [
    {
     "data": {
      "text/html": [
       "<div>\n",
       "<style scoped>\n",
       "    .dataframe tbody tr th:only-of-type {\n",
       "        vertical-align: middle;\n",
       "    }\n",
       "\n",
       "    .dataframe tbody tr th {\n",
       "        vertical-align: top;\n",
       "    }\n",
       "\n",
       "    .dataframe thead th {\n",
       "        text-align: right;\n",
       "    }\n",
       "</style>\n",
       "<table border=\"1\" class=\"dataframe\">\n",
       "  <thead>\n",
       "    <tr style=\"text-align: right;\">\n",
       "      <th></th>\n",
       "      <th>price</th>\n",
       "      <th>vehicle_type</th>\n",
       "      <th>registration_year</th>\n",
       "      <th>gearbox</th>\n",
       "      <th>power</th>\n",
       "      <th>model</th>\n",
       "      <th>kilometer</th>\n",
       "      <th>registration_month</th>\n",
       "      <th>fuel_type</th>\n",
       "      <th>brand</th>\n",
       "      <th>not_repaired</th>\n",
       "    </tr>\n",
       "  </thead>\n",
       "  <tbody>\n",
       "    <tr>\n",
       "      <th>0</th>\n",
       "      <td>480</td>\n",
       "      <td>unknown</td>\n",
       "      <td>1993</td>\n",
       "      <td>manual</td>\n",
       "      <td>0</td>\n",
       "      <td>golf</td>\n",
       "      <td>150000</td>\n",
       "      <td>0</td>\n",
       "      <td>petrol</td>\n",
       "      <td>volkswagen</td>\n",
       "      <td>no</td>\n",
       "    </tr>\n",
       "    <tr>\n",
       "      <th>1</th>\n",
       "      <td>18300</td>\n",
       "      <td>coupe</td>\n",
       "      <td>2011</td>\n",
       "      <td>manual</td>\n",
       "      <td>190</td>\n",
       "      <td>unknown</td>\n",
       "      <td>125000</td>\n",
       "      <td>5</td>\n",
       "      <td>gasoline</td>\n",
       "      <td>audi</td>\n",
       "      <td>yes</td>\n",
       "    </tr>\n",
       "    <tr>\n",
       "      <th>2</th>\n",
       "      <td>9800</td>\n",
       "      <td>suv</td>\n",
       "      <td>2004</td>\n",
       "      <td>auto</td>\n",
       "      <td>163</td>\n",
       "      <td>grand</td>\n",
       "      <td>125000</td>\n",
       "      <td>8</td>\n",
       "      <td>gasoline</td>\n",
       "      <td>jeep</td>\n",
       "      <td>no</td>\n",
       "    </tr>\n",
       "  </tbody>\n",
       "</table>\n",
       "</div>"
      ],
      "text/plain": [
       "   price vehicle_type  registration_year gearbox  power    model  kilometer  \\\n",
       "0    480      unknown               1993  manual      0     golf     150000   \n",
       "1  18300        coupe               2011  manual    190  unknown     125000   \n",
       "2   9800          suv               2004    auto    163    grand     125000   \n",
       "\n",
       "   registration_month fuel_type       brand not_repaired  \n",
       "0                   0    petrol  volkswagen           no  \n",
       "1                   5  gasoline        audi          yes  \n",
       "2                   8  gasoline        jeep           no  "
      ]
     },
     "execution_count": 73,
     "metadata": {},
     "output_type": "execute_result"
    }
   ],
   "source": [
    "data.head(3)"
   ]
  },
  {
   "cell_type": "markdown",
   "metadata": {},
   "source": [
    "* У нас есть аномалии в значениях. \n",
    "* Можно пробовать без некоторых обучающих признаков, которые логически не играют роли влияния на цену.\n",
    "\n"
   ]
  },
  {
   "cell_type": "markdown",
   "metadata": {},
   "source": [
    "#### Обработка аномалий"
   ]
  },
  {
   "cell_type": "markdown",
   "metadata": {},
   "source": [
    "**Примечание:**\n",
    "\n",
    "* Поскольку у нас дальше пойдет разбиение выборок и их \"тосовка\", то, чтобы при применении OrdinalEncoder() не было различной кодировки значений признаков `[['model', 'brand']]`, мы применим его сейчас до всех мунипуляций с выборками.\n",
    "* Суть оставил закомментаренным в дальнейшей функции preprocessing().\n",
    "* В результате через функцию, качество на тесте из-ра разной кодировки признаков получалось ниже.\n",
    "* Реализовать через функцию preprocessing() можно (объеденив данные, проскалировав и обратно по датасету), но проще сейчас через три строчки кода."
   ]
  },
  {
   "cell_type": "code",
   "execution_count": 74,
   "metadata": {},
   "outputs": [],
   "source": [
    "encoder = OrdinalEncoder()\n",
    "\n",
    "data.loc[:, ['model', 'brand']] = encoder.fit_transform(\n",
    "    data[['model', 'brand']])"
   ]
  },
  {
   "cell_type": "code",
   "execution_count": 75,
   "metadata": {},
   "outputs": [],
   "source": [
    "# Сохраним выборку до изменений\n",
    "data_anomaly = data.copy()"
   ]
  },
  {
   "cell_type": "markdown",
   "metadata": {},
   "source": [
    "Начнем чистить датасет с года регистрации."
   ]
  },
  {
   "cell_type": "code",
   "execution_count": 76,
   "metadata": {},
   "outputs": [
    {
     "data": {
      "text/plain": [
       "array([1000, 1001, 1039, 1111, 1200, 1234, 1253, 1255, 1300, 1400, 1500,\n",
       "       1600, 1602, 1688, 1800, 1910, 1915, 1919, 1920, 1923, 1925, 1927,\n",
       "       1928, 1929, 1930, 1931, 1932, 1933, 1934, 1935, 1936, 1937, 1938,\n",
       "       1940, 1941, 1942, 1943, 1944, 1945, 1946, 1947, 1948, 1949, 1950,\n",
       "       1951, 1952, 1953, 1954, 1955, 1956, 1957, 1958, 1959, 1960, 1961,\n",
       "       1962, 1963, 1964, 1965, 1966, 1967, 1968, 1969, 1970, 1971, 1972,\n",
       "       1973, 1974, 1975, 1976, 1977, 1978, 1979, 1980, 1981, 1982, 1983,\n",
       "       1984, 1985, 1986, 1987, 1988, 1989, 1990, 1991, 1992, 1993, 1994,\n",
       "       1995, 1996, 1997, 1998, 1999, 2000, 2001, 2002, 2003, 2004, 2005,\n",
       "       2006, 2007, 2008, 2009, 2010, 2011, 2012, 2013, 2014, 2015, 2016,\n",
       "       2017, 2018, 2019, 2066, 2200, 2222, 2290, 2500, 2800, 2900, 3000,\n",
       "       3200, 3500, 3700, 3800, 4000, 4100, 4500, 4800, 5000, 5300, 5555,\n",
       "       5600, 5900, 5911, 6000, 6500, 7000, 7100, 7500, 7800, 8000, 8200,\n",
       "       8455, 8500, 8888, 9000, 9229, 9450, 9996, 9999], dtype=int64)"
      ]
     },
     "execution_count": 76,
     "metadata": {},
     "output_type": "execute_result"
    }
   ],
   "source": [
    "data['registration_year'].sort_values().unique()"
   ]
  },
  {
   "cell_type": "markdown",
   "metadata": {},
   "source": [
    "Датасет до 2016 года включительно судя по дате скачивания анкеты."
   ]
  },
  {
   "cell_type": "code",
   "execution_count": 77,
   "metadata": {},
   "outputs": [],
   "source": [
    "data = data[data['registration_year'] <= 2016]"
   ]
  },
  {
   "cell_type": "markdown",
   "metadata": {},
   "source": [
    "Удалим явные < 1900."
   ]
  },
  {
   "cell_type": "code",
   "execution_count": 78,
   "metadata": {},
   "outputs": [],
   "source": [
    "data = data[data['registration_year'] > 1900]"
   ]
  },
  {
   "cell_type": "code",
   "execution_count": 79,
   "metadata": {},
   "outputs": [
    {
     "data": {
      "text/plain": [
       "array([1910, 1915, 1919, 1920, 1923, 1925, 1927, 1928, 1929, 1930, 1931,\n",
       "       1932, 1933, 1934, 1935, 1936, 1937, 1938, 1940, 1941, 1942, 1943,\n",
       "       1944, 1945, 1946, 1947, 1948, 1949, 1950, 1951, 1952, 1953, 1954,\n",
       "       1955, 1956, 1957, 1958, 1959, 1960, 1961, 1962, 1963, 1964, 1965,\n",
       "       1966, 1967, 1968, 1969, 1970, 1971, 1972, 1973, 1974, 1975, 1976,\n",
       "       1977, 1978, 1979, 1980, 1981, 1982, 1983, 1984, 1985, 1986, 1987,\n",
       "       1988, 1989, 1990, 1991, 1992, 1993, 1994, 1995, 1996, 1997, 1998,\n",
       "       1999, 2000, 2001, 2002, 2003, 2004, 2005, 2006, 2007, 2008, 2009,\n",
       "       2010, 2011, 2012, 2013, 2014, 2015, 2016], dtype=int64)"
      ]
     },
     "execution_count": 79,
     "metadata": {},
     "output_type": "execute_result"
    }
   ],
   "source": [
    "data['registration_year'].sort_values().unique()"
   ]
  },
  {
   "cell_type": "code",
   "execution_count": 80,
   "metadata": {},
   "outputs": [
    {
     "data": {
      "image/png": "[encoded data removed]",
      "text/plain": [
       "<Figure size 432x288 with 1 Axes>"
      ]
     },
     "metadata": {
      "needs_background": "light"
     },
     "output_type": "display_data"
    }
   ],
   "source": [
    "data['registration_year'].hist(bins=30);"
   ]
  },
  {
   "cell_type": "markdown",
   "metadata": {},
   "source": [
    "Попробуем посмотреть по цене"
   ]
  },
  {
   "cell_type": "code",
   "execution_count": 81,
   "metadata": {},
   "outputs": [
    {
     "data": {
      "image/png": "[encoded data removed]",
      "text/plain": [
       "<Figure size 432x288 with 1 Axes>"
      ]
     },
     "metadata": {
      "needs_background": "light"
     },
     "output_type": "display_data"
    }
   ],
   "source": [
    "data[data['registration_year'] <= 1980].plot(\n",
    "    x='registration_year', y='price', style='o');"
   ]
  },
  {
   "cell_type": "code",
   "execution_count": 82,
   "metadata": {},
   "outputs": [
    {
     "data": {
      "text/html": [
       "<div>\n",
       "<style scoped>\n",
       "    .dataframe tbody tr th:only-of-type {\n",
       "        vertical-align: middle;\n",
       "    }\n",
       "\n",
       "    .dataframe tbody tr th {\n",
       "        vertical-align: top;\n",
       "    }\n",
       "\n",
       "    .dataframe thead th {\n",
       "        text-align: right;\n",
       "    }\n",
       "</style>\n",
       "<table border=\"1\" class=\"dataframe\">\n",
       "  <thead>\n",
       "    <tr style=\"text-align: right;\">\n",
       "      <th></th>\n",
       "      <th>price</th>\n",
       "      <th>vehicle_type</th>\n",
       "      <th>registration_year</th>\n",
       "      <th>gearbox</th>\n",
       "      <th>power</th>\n",
       "      <th>model</th>\n",
       "      <th>kilometer</th>\n",
       "      <th>registration_month</th>\n",
       "      <th>fuel_type</th>\n",
       "      <th>brand</th>\n",
       "      <th>not_repaired</th>\n",
       "    </tr>\n",
       "  </thead>\n",
       "  <tbody>\n",
       "    <tr>\n",
       "      <th>15</th>\n",
       "      <td>450</td>\n",
       "      <td>small</td>\n",
       "      <td>1910</td>\n",
       "      <td>unknown</td>\n",
       "      <td>0</td>\n",
       "      <td>128.0</td>\n",
       "      <td>5000</td>\n",
       "      <td>0</td>\n",
       "      <td>petrol</td>\n",
       "      <td>10.0</td>\n",
       "      <td>no</td>\n",
       "    </tr>\n",
       "    <tr>\n",
       "      <th>6629</th>\n",
       "      <td>0</td>\n",
       "      <td>small</td>\n",
       "      <td>1910</td>\n",
       "      <td>unknown</td>\n",
       "      <td>0</td>\n",
       "      <td>228.0</td>\n",
       "      <td>5000</td>\n",
       "      <td>1</td>\n",
       "      <td>other</td>\n",
       "      <td>33.0</td>\n",
       "      <td>no</td>\n",
       "    </tr>\n",
       "    <tr>\n",
       "      <th>6977</th>\n",
       "      <td>135</td>\n",
       "      <td>unknown</td>\n",
       "      <td>1910</td>\n",
       "      <td>unknown</td>\n",
       "      <td>0</td>\n",
       "      <td>228.0</td>\n",
       "      <td>5000</td>\n",
       "      <td>0</td>\n",
       "      <td>unknown</td>\n",
       "      <td>24.0</td>\n",
       "      <td>no</td>\n",
       "    </tr>\n",
       "    <tr>\n",
       "      <th>10183</th>\n",
       "      <td>1250</td>\n",
       "      <td>unknown</td>\n",
       "      <td>1910</td>\n",
       "      <td>unknown</td>\n",
       "      <td>0</td>\n",
       "      <td>166.0</td>\n",
       "      <td>5000</td>\n",
       "      <td>0</td>\n",
       "      <td>unknown</td>\n",
       "      <td>1.0</td>\n",
       "      <td>no</td>\n",
       "    </tr>\n",
       "    <tr>\n",
       "      <th>18023</th>\n",
       "      <td>1</td>\n",
       "      <td>unknown</td>\n",
       "      <td>1910</td>\n",
       "      <td>unknown</td>\n",
       "      <td>0</td>\n",
       "      <td>228.0</td>\n",
       "      <td>5000</td>\n",
       "      <td>0</td>\n",
       "      <td>unknown</td>\n",
       "      <td>38.0</td>\n",
       "      <td>no</td>\n",
       "    </tr>\n",
       "    <tr>\n",
       "      <th>23750</th>\n",
       "      <td>3900</td>\n",
       "      <td>wagon</td>\n",
       "      <td>1910</td>\n",
       "      <td>manual</td>\n",
       "      <td>90</td>\n",
       "      <td>170.0</td>\n",
       "      <td>150000</td>\n",
       "      <td>0</td>\n",
       "      <td>petrol</td>\n",
       "      <td>38.0</td>\n",
       "      <td>no</td>\n",
       "    </tr>\n",
       "    <tr>\n",
       "      <th>24458</th>\n",
       "      <td>50</td>\n",
       "      <td>small</td>\n",
       "      <td>1910</td>\n",
       "      <td>manual</td>\n",
       "      <td>0</td>\n",
       "      <td>228.0</td>\n",
       "      <td>5000</td>\n",
       "      <td>1</td>\n",
       "      <td>unknown</td>\n",
       "      <td>38.0</td>\n",
       "      <td>yes</td>\n",
       "    </tr>\n",
       "    <tr>\n",
       "      <th>26579</th>\n",
       "      <td>0</td>\n",
       "      <td>unknown</td>\n",
       "      <td>1910</td>\n",
       "      <td>unknown</td>\n",
       "      <td>0</td>\n",
       "      <td>228.0</td>\n",
       "      <td>150000</td>\n",
       "      <td>0</td>\n",
       "      <td>unknown</td>\n",
       "      <td>0.0</td>\n",
       "      <td>no</td>\n",
       "    </tr>\n",
       "    <tr>\n",
       "      <th>29383</th>\n",
       "      <td>0</td>\n",
       "      <td>unknown</td>\n",
       "      <td>1910</td>\n",
       "      <td>unknown</td>\n",
       "      <td>0</td>\n",
       "      <td>228.0</td>\n",
       "      <td>5000</td>\n",
       "      <td>1</td>\n",
       "      <td>unknown</td>\n",
       "      <td>33.0</td>\n",
       "      <td>no</td>\n",
       "    </tr>\n",
       "    <tr>\n",
       "      <th>29516</th>\n",
       "      <td>80</td>\n",
       "      <td>small</td>\n",
       "      <td>1910</td>\n",
       "      <td>unknown</td>\n",
       "      <td>0</td>\n",
       "      <td>176.0</td>\n",
       "      <td>150000</td>\n",
       "      <td>0</td>\n",
       "      <td>unknown</td>\n",
       "      <td>9.0</td>\n",
       "      <td>no</td>\n",
       "    </tr>\n",
       "  </tbody>\n",
       "</table>\n",
       "</div>"
      ],
      "text/plain": [
       "       price vehicle_type  registration_year  gearbox  power  model  \\\n",
       "15       450        small               1910  unknown      0  128.0   \n",
       "6629       0        small               1910  unknown      0  228.0   \n",
       "6977     135      unknown               1910  unknown      0  228.0   \n",
       "10183   1250      unknown               1910  unknown      0  166.0   \n",
       "18023      1      unknown               1910  unknown      0  228.0   \n",
       "23750   3900        wagon               1910   manual     90  170.0   \n",
       "24458     50        small               1910   manual      0  228.0   \n",
       "26579      0      unknown               1910  unknown      0  228.0   \n",
       "29383      0      unknown               1910  unknown      0  228.0   \n",
       "29516     80        small               1910  unknown      0  176.0   \n",
       "\n",
       "       kilometer  registration_month fuel_type  brand not_repaired  \n",
       "15          5000                   0    petrol   10.0           no  \n",
       "6629        5000                   1     other   33.0           no  \n",
       "6977        5000                   0   unknown   24.0           no  \n",
       "10183       5000                   0   unknown    1.0           no  \n",
       "18023       5000                   0   unknown   38.0           no  \n",
       "23750     150000                   0    petrol   38.0           no  \n",
       "24458       5000                   1   unknown   38.0          yes  \n",
       "26579     150000                   0   unknown    0.0           no  \n",
       "29383       5000                   1   unknown   33.0           no  \n",
       "29516     150000                   0   unknown    9.0           no  "
      ]
     },
     "execution_count": 82,
     "metadata": {},
     "output_type": "execute_result"
    }
   ],
   "source": [
    "data[data['registration_year'] == 1910].head(10)"
   ]
  },
  {
   "cell_type": "code",
   "execution_count": 83,
   "metadata": {},
   "outputs": [
    {
     "data": {
      "text/html": [
       "<div>\n",
       "<style scoped>\n",
       "    .dataframe tbody tr th:only-of-type {\n",
       "        vertical-align: middle;\n",
       "    }\n",
       "\n",
       "    .dataframe tbody tr th {\n",
       "        vertical-align: top;\n",
       "    }\n",
       "\n",
       "    .dataframe thead th {\n",
       "        text-align: right;\n",
       "    }\n",
       "</style>\n",
       "<table border=\"1\" class=\"dataframe\">\n",
       "  <thead>\n",
       "    <tr style=\"text-align: right;\">\n",
       "      <th></th>\n",
       "      <th>price</th>\n",
       "      <th>vehicle_type</th>\n",
       "      <th>registration_year</th>\n",
       "      <th>gearbox</th>\n",
       "      <th>power</th>\n",
       "      <th>model</th>\n",
       "      <th>kilometer</th>\n",
       "      <th>registration_month</th>\n",
       "      <th>fuel_type</th>\n",
       "      <th>brand</th>\n",
       "      <th>not_repaired</th>\n",
       "    </tr>\n",
       "  </thead>\n",
       "  <tbody>\n",
       "    <tr>\n",
       "      <th>60844</th>\n",
       "      <td>160</td>\n",
       "      <td>sedan</td>\n",
       "      <td>1950</td>\n",
       "      <td>manual</td>\n",
       "      <td>0</td>\n",
       "      <td>166.0</td>\n",
       "      <td>150000</td>\n",
       "      <td>2</td>\n",
       "      <td>petrol</td>\n",
       "      <td>20.0</td>\n",
       "      <td>no</td>\n",
       "    </tr>\n",
       "    <tr>\n",
       "      <th>74705</th>\n",
       "      <td>3900</td>\n",
       "      <td>other</td>\n",
       "      <td>1950</td>\n",
       "      <td>auto</td>\n",
       "      <td>180</td>\n",
       "      <td>166.0</td>\n",
       "      <td>150000</td>\n",
       "      <td>5</td>\n",
       "      <td>petrol</td>\n",
       "      <td>20.0</td>\n",
       "      <td>no</td>\n",
       "    </tr>\n",
       "    <tr>\n",
       "      <th>77819</th>\n",
       "      <td>1</td>\n",
       "      <td>coupe</td>\n",
       "      <td>1950</td>\n",
       "      <td>manual</td>\n",
       "      <td>0</td>\n",
       "      <td>166.0</td>\n",
       "      <td>100000</td>\n",
       "      <td>1</td>\n",
       "      <td>petrol</td>\n",
       "      <td>26.0</td>\n",
       "      <td>no</td>\n",
       "    </tr>\n",
       "    <tr>\n",
       "      <th>83020</th>\n",
       "      <td>20000</td>\n",
       "      <td>sedan</td>\n",
       "      <td>1950</td>\n",
       "      <td>manual</td>\n",
       "      <td>0</td>\n",
       "      <td>228.0</td>\n",
       "      <td>5000</td>\n",
       "      <td>3</td>\n",
       "      <td>petrol</td>\n",
       "      <td>33.0</td>\n",
       "      <td>no</td>\n",
       "    </tr>\n",
       "    <tr>\n",
       "      <th>103192</th>\n",
       "      <td>10000</td>\n",
       "      <td>coupe</td>\n",
       "      <td>1950</td>\n",
       "      <td>manual</td>\n",
       "      <td>130</td>\n",
       "      <td>166.0</td>\n",
       "      <td>5000</td>\n",
       "      <td>1</td>\n",
       "      <td>petrol</td>\n",
       "      <td>0.0</td>\n",
       "      <td>no</td>\n",
       "    </tr>\n",
       "    <tr>\n",
       "      <th>174755</th>\n",
       "      <td>17900</td>\n",
       "      <td>coupe</td>\n",
       "      <td>1950</td>\n",
       "      <td>manual</td>\n",
       "      <td>110</td>\n",
       "      <td>228.0</td>\n",
       "      <td>100000</td>\n",
       "      <td>1</td>\n",
       "      <td>petrol</td>\n",
       "      <td>33.0</td>\n",
       "      <td>no</td>\n",
       "    </tr>\n",
       "    <tr>\n",
       "      <th>204589</th>\n",
       "      <td>0</td>\n",
       "      <td>bus</td>\n",
       "      <td>1950</td>\n",
       "      <td>unknown</td>\n",
       "      <td>0</td>\n",
       "      <td>224.0</td>\n",
       "      <td>5000</td>\n",
       "      <td>11</td>\n",
       "      <td>petrol</td>\n",
       "      <td>38.0</td>\n",
       "      <td>no</td>\n",
       "    </tr>\n",
       "    <tr>\n",
       "      <th>207313</th>\n",
       "      <td>1</td>\n",
       "      <td>coupe</td>\n",
       "      <td>1950</td>\n",
       "      <td>manual</td>\n",
       "      <td>0</td>\n",
       "      <td>25.0</td>\n",
       "      <td>100000</td>\n",
       "      <td>5</td>\n",
       "      <td>petrol</td>\n",
       "      <td>26.0</td>\n",
       "      <td>no</td>\n",
       "    </tr>\n",
       "    <tr>\n",
       "      <th>216233</th>\n",
       "      <td>6500</td>\n",
       "      <td>other</td>\n",
       "      <td>1950</td>\n",
       "      <td>manual</td>\n",
       "      <td>0</td>\n",
       "      <td>228.0</td>\n",
       "      <td>5000</td>\n",
       "      <td>12</td>\n",
       "      <td>other</td>\n",
       "      <td>33.0</td>\n",
       "      <td>no</td>\n",
       "    </tr>\n",
       "    <tr>\n",
       "      <th>217944</th>\n",
       "      <td>900</td>\n",
       "      <td>small</td>\n",
       "      <td>1950</td>\n",
       "      <td>manual</td>\n",
       "      <td>0</td>\n",
       "      <td>228.0</td>\n",
       "      <td>150000</td>\n",
       "      <td>1</td>\n",
       "      <td>petrol</td>\n",
       "      <td>24.0</td>\n",
       "      <td>no</td>\n",
       "    </tr>\n",
       "  </tbody>\n",
       "</table>\n",
       "</div>"
      ],
      "text/plain": [
       "        price vehicle_type  registration_year  gearbox  power  model  \\\n",
       "60844     160        sedan               1950   manual      0  166.0   \n",
       "74705    3900        other               1950     auto    180  166.0   \n",
       "77819       1        coupe               1950   manual      0  166.0   \n",
       "83020   20000        sedan               1950   manual      0  228.0   \n",
       "103192  10000        coupe               1950   manual    130  166.0   \n",
       "174755  17900        coupe               1950   manual    110  228.0   \n",
       "204589      0          bus               1950  unknown      0  224.0   \n",
       "207313      1        coupe               1950   manual      0   25.0   \n",
       "216233   6500        other               1950   manual      0  228.0   \n",
       "217944    900        small               1950   manual      0  228.0   \n",
       "\n",
       "        kilometer  registration_month fuel_type  brand not_repaired  \n",
       "60844      150000                   2    petrol   20.0           no  \n",
       "74705      150000                   5    petrol   20.0           no  \n",
       "77819      100000                   1    petrol   26.0           no  \n",
       "83020        5000                   3    petrol   33.0           no  \n",
       "103192       5000                   1    petrol    0.0           no  \n",
       "174755     100000                   1    petrol   33.0           no  \n",
       "204589       5000                  11    petrol   38.0           no  \n",
       "207313     100000                   5    petrol   26.0           no  \n",
       "216233       5000                  12     other   33.0           no  \n",
       "217944     150000                   1    petrol   24.0           no  "
      ]
     },
     "execution_count": 83,
     "metadata": {},
     "output_type": "execute_result"
    }
   ],
   "source": [
    "data[data['registration_year'] == 1950].head(10)"
   ]
  },
  {
   "cell_type": "markdown",
   "metadata": {},
   "source": [
    "Пробуем аккуратно срезать выбросы. Уберем нулевую мощность и цены ниже 300 долларов."
   ]
  },
  {
   "cell_type": "code",
   "execution_count": 84,
   "metadata": {},
   "outputs": [],
   "source": [
    "data = data[\n",
    "    (data['price'] > 300) &\n",
    "    (data['power'] != 0)\n",
    "]"
   ]
  },
  {
   "cell_type": "code",
   "execution_count": 85,
   "metadata": {},
   "outputs": [
    {
     "data": {
      "text/plain": [
       "array([1910, 1923, 1927, 1928, 1929, 1930, 1931, 1932, 1933, 1935, 1936,\n",
       "       1937, 1938, 1940, 1941, 1942, 1943, 1944, 1945, 1947, 1948, 1949,\n",
       "       1950, 1951, 1952, 1953, 1954, 1955, 1956, 1957, 1958, 1959, 1960,\n",
       "       1961, 1962, 1963, 1964, 1965, 1966, 1967, 1968, 1969, 1970, 1971,\n",
       "       1972, 1973, 1974, 1975, 1976, 1977, 1978, 1979, 1980, 1981, 1982,\n",
       "       1983, 1984, 1985, 1986, 1987, 1988, 1989, 1990, 1991, 1992, 1993,\n",
       "       1994, 1995, 1996, 1997, 1998, 1999, 2000, 2001, 2002, 2003, 2004,\n",
       "       2005, 2006, 2007, 2008, 2009, 2010, 2011, 2012, 2013, 2014, 2015,\n",
       "       2016], dtype=int64)"
      ]
     },
     "execution_count": 85,
     "metadata": {},
     "output_type": "execute_result"
    }
   ],
   "source": [
    "data['registration_year'].sort_values().unique()"
   ]
  },
  {
   "cell_type": "code",
   "execution_count": 86,
   "metadata": {},
   "outputs": [
    {
     "data": {
      "image/png": "[encoded data removed]",
      "text/plain": [
       "<Figure size 432x288 with 1 Axes>"
      ]
     },
     "metadata": {
      "needs_background": "light"
     },
     "output_type": "display_data"
    }
   ],
   "source": [
    "data[data['registration_year'] <= 1980].plot(\n",
    "    x='registration_year', y='price', style='o');"
   ]
  },
  {
   "cell_type": "code",
   "execution_count": 87,
   "metadata": {},
   "outputs": [
    {
     "data": {
      "text/html": [
       "<div>\n",
       "<style scoped>\n",
       "    .dataframe tbody tr th:only-of-type {\n",
       "        vertical-align: middle;\n",
       "    }\n",
       "\n",
       "    .dataframe tbody tr th {\n",
       "        vertical-align: top;\n",
       "    }\n",
       "\n",
       "    .dataframe thead th {\n",
       "        text-align: right;\n",
       "    }\n",
       "</style>\n",
       "<table border=\"1\" class=\"dataframe\">\n",
       "  <thead>\n",
       "    <tr style=\"text-align: right;\">\n",
       "      <th></th>\n",
       "      <th>price</th>\n",
       "      <th>vehicle_type</th>\n",
       "      <th>registration_year</th>\n",
       "      <th>gearbox</th>\n",
       "      <th>power</th>\n",
       "      <th>model</th>\n",
       "      <th>kilometer</th>\n",
       "      <th>registration_month</th>\n",
       "      <th>fuel_type</th>\n",
       "      <th>brand</th>\n",
       "      <th>not_repaired</th>\n",
       "    </tr>\n",
       "  </thead>\n",
       "  <tbody>\n",
       "    <tr>\n",
       "      <th>1208</th>\n",
       "      <td>7900</td>\n",
       "      <td>sedan</td>\n",
       "      <td>1980</td>\n",
       "      <td>auto</td>\n",
       "      <td>194</td>\n",
       "      <td>95.0</td>\n",
       "      <td>125000</td>\n",
       "      <td>9</td>\n",
       "      <td>petrol</td>\n",
       "      <td>20.0</td>\n",
       "      <td>no</td>\n",
       "    </tr>\n",
       "    <tr>\n",
       "      <th>1249</th>\n",
       "      <td>5500</td>\n",
       "      <td>sedan</td>\n",
       "      <td>1980</td>\n",
       "      <td>manual</td>\n",
       "      <td>96</td>\n",
       "      <td>166.0</td>\n",
       "      <td>60000</td>\n",
       "      <td>1</td>\n",
       "      <td>petrol</td>\n",
       "      <td>10.0</td>\n",
       "      <td>no</td>\n",
       "    </tr>\n",
       "    <tr>\n",
       "      <th>2512</th>\n",
       "      <td>11111</td>\n",
       "      <td>coupe</td>\n",
       "      <td>1980</td>\n",
       "      <td>auto</td>\n",
       "      <td>136</td>\n",
       "      <td>228.0</td>\n",
       "      <td>100000</td>\n",
       "      <td>7</td>\n",
       "      <td>petrol</td>\n",
       "      <td>10.0</td>\n",
       "      <td>no</td>\n",
       "    </tr>\n",
       "    <tr>\n",
       "      <th>3209</th>\n",
       "      <td>500</td>\n",
       "      <td>unknown</td>\n",
       "      <td>1980</td>\n",
       "      <td>manual</td>\n",
       "      <td>44</td>\n",
       "      <td>130.0</td>\n",
       "      <td>5000</td>\n",
       "      <td>12</td>\n",
       "      <td>petrol</td>\n",
       "      <td>38.0</td>\n",
       "      <td>no</td>\n",
       "    </tr>\n",
       "    <tr>\n",
       "      <th>4539</th>\n",
       "      <td>15000</td>\n",
       "      <td>convertible</td>\n",
       "      <td>1980</td>\n",
       "      <td>manual</td>\n",
       "      <td>67</td>\n",
       "      <td>228.0</td>\n",
       "      <td>150000</td>\n",
       "      <td>7</td>\n",
       "      <td>petrol</td>\n",
       "      <td>33.0</td>\n",
       "      <td>no</td>\n",
       "    </tr>\n",
       "    <tr>\n",
       "      <th>4920</th>\n",
       "      <td>1300</td>\n",
       "      <td>unknown</td>\n",
       "      <td>1980</td>\n",
       "      <td>unknown</td>\n",
       "      <td>110</td>\n",
       "      <td>228.0</td>\n",
       "      <td>150000</td>\n",
       "      <td>0</td>\n",
       "      <td>unknown</td>\n",
       "      <td>24.0</td>\n",
       "      <td>no</td>\n",
       "    </tr>\n",
       "    <tr>\n",
       "      <th>5770</th>\n",
       "      <td>10000</td>\n",
       "      <td>unknown</td>\n",
       "      <td>1980</td>\n",
       "      <td>manual</td>\n",
       "      <td>26</td>\n",
       "      <td>16.0</td>\n",
       "      <td>40000</td>\n",
       "      <td>0</td>\n",
       "      <td>unknown</td>\n",
       "      <td>37.0</td>\n",
       "      <td>no</td>\n",
       "    </tr>\n",
       "    <tr>\n",
       "      <th>7180</th>\n",
       "      <td>12500</td>\n",
       "      <td>coupe</td>\n",
       "      <td>1980</td>\n",
       "      <td>auto</td>\n",
       "      <td>136</td>\n",
       "      <td>95.0</td>\n",
       "      <td>150000</td>\n",
       "      <td>9</td>\n",
       "      <td>petrol</td>\n",
       "      <td>20.0</td>\n",
       "      <td>no</td>\n",
       "    </tr>\n",
       "    <tr>\n",
       "      <th>7985</th>\n",
       "      <td>4800</td>\n",
       "      <td>unknown</td>\n",
       "      <td>1980</td>\n",
       "      <td>unknown</td>\n",
       "      <td>50</td>\n",
       "      <td>224.0</td>\n",
       "      <td>150000</td>\n",
       "      <td>3</td>\n",
       "      <td>unknown</td>\n",
       "      <td>38.0</td>\n",
       "      <td>no</td>\n",
       "    </tr>\n",
       "    <tr>\n",
       "      <th>10833</th>\n",
       "      <td>17900</td>\n",
       "      <td>convertible</td>\n",
       "      <td>1980</td>\n",
       "      <td>auto</td>\n",
       "      <td>245</td>\n",
       "      <td>166.0</td>\n",
       "      <td>150000</td>\n",
       "      <td>5</td>\n",
       "      <td>petrol</td>\n",
       "      <td>20.0</td>\n",
       "      <td>no</td>\n",
       "    </tr>\n",
       "  </tbody>\n",
       "</table>\n",
       "</div>"
      ],
      "text/plain": [
       "       price vehicle_type  registration_year  gearbox  power  model  \\\n",
       "1208    7900        sedan               1980     auto    194   95.0   \n",
       "1249    5500        sedan               1980   manual     96  166.0   \n",
       "2512   11111        coupe               1980     auto    136  228.0   \n",
       "3209     500      unknown               1980   manual     44  130.0   \n",
       "4539   15000  convertible               1980   manual     67  228.0   \n",
       "4920    1300      unknown               1980  unknown    110  228.0   \n",
       "5770   10000      unknown               1980   manual     26   16.0   \n",
       "7180   12500        coupe               1980     auto    136   95.0   \n",
       "7985    4800      unknown               1980  unknown     50  224.0   \n",
       "10833  17900  convertible               1980     auto    245  166.0   \n",
       "\n",
       "       kilometer  registration_month fuel_type  brand not_repaired  \n",
       "1208      125000                   9    petrol   20.0           no  \n",
       "1249       60000                   1    petrol   10.0           no  \n",
       "2512      100000                   7    petrol   10.0           no  \n",
       "3209        5000                  12    petrol   38.0           no  \n",
       "4539      150000                   7    petrol   33.0           no  \n",
       "4920      150000                   0   unknown   24.0           no  \n",
       "5770       40000                   0   unknown   37.0           no  \n",
       "7180      150000                   9    petrol   20.0           no  \n",
       "7985      150000                   3   unknown   38.0           no  \n",
       "10833     150000                   5    petrol   20.0           no  "
      ]
     },
     "execution_count": 87,
     "metadata": {},
     "output_type": "execute_result"
    }
   ],
   "source": [
    "data[data['registration_year'] == 1980].head(10)"
   ]
  },
  {
   "cell_type": "code",
   "execution_count": 88,
   "metadata": {},
   "outputs": [
    {
     "data": {
      "text/html": [
       "<div>\n",
       "<style scoped>\n",
       "    .dataframe tbody tr th:only-of-type {\n",
       "        vertical-align: middle;\n",
       "    }\n",
       "\n",
       "    .dataframe tbody tr th {\n",
       "        vertical-align: top;\n",
       "    }\n",
       "\n",
       "    .dataframe thead th {\n",
       "        text-align: right;\n",
       "    }\n",
       "</style>\n",
       "<table border=\"1\" class=\"dataframe\">\n",
       "  <thead>\n",
       "    <tr style=\"text-align: right;\">\n",
       "      <th></th>\n",
       "      <th>price</th>\n",
       "      <th>vehicle_type</th>\n",
       "      <th>registration_year</th>\n",
       "      <th>gearbox</th>\n",
       "      <th>power</th>\n",
       "      <th>model</th>\n",
       "      <th>kilometer</th>\n",
       "      <th>registration_month</th>\n",
       "      <th>fuel_type</th>\n",
       "      <th>brand</th>\n",
       "      <th>not_repaired</th>\n",
       "    </tr>\n",
       "  </thead>\n",
       "  <tbody>\n",
       "    <tr>\n",
       "      <th>16902</th>\n",
       "      <td>19000</td>\n",
       "      <td>suv</td>\n",
       "      <td>1960</td>\n",
       "      <td>manual</td>\n",
       "      <td>22</td>\n",
       "      <td>228.0</td>\n",
       "      <td>60000</td>\n",
       "      <td>4</td>\n",
       "      <td>petrol</td>\n",
       "      <td>33.0</td>\n",
       "      <td>no</td>\n",
       "    </tr>\n",
       "    <tr>\n",
       "      <th>17806</th>\n",
       "      <td>17900</td>\n",
       "      <td>suv</td>\n",
       "      <td>1960</td>\n",
       "      <td>manual</td>\n",
       "      <td>30</td>\n",
       "      <td>166.0</td>\n",
       "      <td>60000</td>\n",
       "      <td>7</td>\n",
       "      <td>gasoline</td>\n",
       "      <td>20.0</td>\n",
       "      <td>no</td>\n",
       "    </tr>\n",
       "    <tr>\n",
       "      <th>19106</th>\n",
       "      <td>1500</td>\n",
       "      <td>small</td>\n",
       "      <td>1960</td>\n",
       "      <td>manual</td>\n",
       "      <td>21</td>\n",
       "      <td>166.0</td>\n",
       "      <td>5000</td>\n",
       "      <td>1</td>\n",
       "      <td>petrol</td>\n",
       "      <td>27.0</td>\n",
       "      <td>yes</td>\n",
       "    </tr>\n",
       "    <tr>\n",
       "      <th>22607</th>\n",
       "      <td>9900</td>\n",
       "      <td>sedan</td>\n",
       "      <td>1960</td>\n",
       "      <td>manual</td>\n",
       "      <td>60</td>\n",
       "      <td>166.0</td>\n",
       "      <td>50000</td>\n",
       "      <td>1</td>\n",
       "      <td>petrol</td>\n",
       "      <td>39.0</td>\n",
       "      <td>no</td>\n",
       "    </tr>\n",
       "    <tr>\n",
       "      <th>23059</th>\n",
       "      <td>16900</td>\n",
       "      <td>convertible</td>\n",
       "      <td>1960</td>\n",
       "      <td>manual</td>\n",
       "      <td>44</td>\n",
       "      <td>228.0</td>\n",
       "      <td>5000</td>\n",
       "      <td>7</td>\n",
       "      <td>petrol</td>\n",
       "      <td>33.0</td>\n",
       "      <td>no</td>\n",
       "    </tr>\n",
       "    <tr>\n",
       "      <th>50229</th>\n",
       "      <td>2000</td>\n",
       "      <td>sedan</td>\n",
       "      <td>1960</td>\n",
       "      <td>manual</td>\n",
       "      <td>30</td>\n",
       "      <td>130.0</td>\n",
       "      <td>150000</td>\n",
       "      <td>6</td>\n",
       "      <td>petrol</td>\n",
       "      <td>38.0</td>\n",
       "      <td>no</td>\n",
       "    </tr>\n",
       "    <tr>\n",
       "      <th>58906</th>\n",
       "      <td>9900</td>\n",
       "      <td>coupe</td>\n",
       "      <td>1960</td>\n",
       "      <td>manual</td>\n",
       "      <td>50</td>\n",
       "      <td>228.0</td>\n",
       "      <td>70000</td>\n",
       "      <td>7</td>\n",
       "      <td>petrol</td>\n",
       "      <td>33.0</td>\n",
       "      <td>no</td>\n",
       "    </tr>\n",
       "    <tr>\n",
       "      <th>61316</th>\n",
       "      <td>2460</td>\n",
       "      <td>sedan</td>\n",
       "      <td>1960</td>\n",
       "      <td>manual</td>\n",
       "      <td>60</td>\n",
       "      <td>228.0</td>\n",
       "      <td>60000</td>\n",
       "      <td>3</td>\n",
       "      <td>petrol</td>\n",
       "      <td>33.0</td>\n",
       "      <td>no</td>\n",
       "    </tr>\n",
       "    <tr>\n",
       "      <th>70316</th>\n",
       "      <td>11300</td>\n",
       "      <td>other</td>\n",
       "      <td>1960</td>\n",
       "      <td>manual</td>\n",
       "      <td>60</td>\n",
       "      <td>166.0</td>\n",
       "      <td>125000</td>\n",
       "      <td>7</td>\n",
       "      <td>petrol</td>\n",
       "      <td>39.0</td>\n",
       "      <td>no</td>\n",
       "    </tr>\n",
       "    <tr>\n",
       "      <th>77582</th>\n",
       "      <td>14990</td>\n",
       "      <td>suv</td>\n",
       "      <td>1960</td>\n",
       "      <td>manual</td>\n",
       "      <td>69</td>\n",
       "      <td>202.0</td>\n",
       "      <td>5000</td>\n",
       "      <td>1</td>\n",
       "      <td>petrol</td>\n",
       "      <td>18.0</td>\n",
       "      <td>no</td>\n",
       "    </tr>\n",
       "  </tbody>\n",
       "</table>\n",
       "</div>"
      ],
      "text/plain": [
       "       price vehicle_type  registration_year gearbox  power  model  kilometer  \\\n",
       "16902  19000          suv               1960  manual     22  228.0      60000   \n",
       "17806  17900          suv               1960  manual     30  166.0      60000   \n",
       "19106   1500        small               1960  manual     21  166.0       5000   \n",
       "22607   9900        sedan               1960  manual     60  166.0      50000   \n",
       "23059  16900  convertible               1960  manual     44  228.0       5000   \n",
       "50229   2000        sedan               1960  manual     30  130.0     150000   \n",
       "58906   9900        coupe               1960  manual     50  228.0      70000   \n",
       "61316   2460        sedan               1960  manual     60  228.0      60000   \n",
       "70316  11300        other               1960  manual     60  166.0     125000   \n",
       "77582  14990          suv               1960  manual     69  202.0       5000   \n",
       "\n",
       "       registration_month fuel_type  brand not_repaired  \n",
       "16902                   4    petrol   33.0           no  \n",
       "17806                   7  gasoline   20.0           no  \n",
       "19106                   1    petrol   27.0          yes  \n",
       "22607                   1    petrol   39.0           no  \n",
       "23059                   7    petrol   33.0           no  \n",
       "50229                   6    petrol   38.0           no  \n",
       "58906                   7    petrol   33.0           no  \n",
       "61316                   3    petrol   33.0           no  \n",
       "70316                   7    petrol   39.0           no  \n",
       "77582                   1    petrol   18.0           no  "
      ]
     },
     "execution_count": 88,
     "metadata": {},
     "output_type": "execute_result"
    }
   ],
   "source": [
    "data[data['registration_year'] == 1960].head(10)"
   ]
  },
  {
   "cell_type": "code",
   "execution_count": 89,
   "metadata": {},
   "outputs": [
    {
     "data": {
      "text/html": [
       "<div>\n",
       "<style scoped>\n",
       "    .dataframe tbody tr th:only-of-type {\n",
       "        vertical-align: middle;\n",
       "    }\n",
       "\n",
       "    .dataframe tbody tr th {\n",
       "        vertical-align: top;\n",
       "    }\n",
       "\n",
       "    .dataframe thead th {\n",
       "        text-align: right;\n",
       "    }\n",
       "</style>\n",
       "<table border=\"1\" class=\"dataframe\">\n",
       "  <thead>\n",
       "    <tr style=\"text-align: right;\">\n",
       "      <th></th>\n",
       "      <th>price</th>\n",
       "      <th>vehicle_type</th>\n",
       "      <th>registration_year</th>\n",
       "      <th>gearbox</th>\n",
       "      <th>power</th>\n",
       "      <th>model</th>\n",
       "      <th>kilometer</th>\n",
       "      <th>registration_month</th>\n",
       "      <th>fuel_type</th>\n",
       "      <th>brand</th>\n",
       "      <th>not_repaired</th>\n",
       "    </tr>\n",
       "  </thead>\n",
       "  <tbody>\n",
       "    <tr>\n",
       "      <th>74705</th>\n",
       "      <td>3900</td>\n",
       "      <td>other</td>\n",
       "      <td>1950</td>\n",
       "      <td>auto</td>\n",
       "      <td>180</td>\n",
       "      <td>166.0</td>\n",
       "      <td>150000</td>\n",
       "      <td>5</td>\n",
       "      <td>petrol</td>\n",
       "      <td>20.0</td>\n",
       "      <td>no</td>\n",
       "    </tr>\n",
       "    <tr>\n",
       "      <th>103192</th>\n",
       "      <td>10000</td>\n",
       "      <td>coupe</td>\n",
       "      <td>1950</td>\n",
       "      <td>manual</td>\n",
       "      <td>130</td>\n",
       "      <td>166.0</td>\n",
       "      <td>5000</td>\n",
       "      <td>1</td>\n",
       "      <td>petrol</td>\n",
       "      <td>0.0</td>\n",
       "      <td>no</td>\n",
       "    </tr>\n",
       "    <tr>\n",
       "      <th>174755</th>\n",
       "      <td>17900</td>\n",
       "      <td>coupe</td>\n",
       "      <td>1950</td>\n",
       "      <td>manual</td>\n",
       "      <td>110</td>\n",
       "      <td>228.0</td>\n",
       "      <td>100000</td>\n",
       "      <td>1</td>\n",
       "      <td>petrol</td>\n",
       "      <td>33.0</td>\n",
       "      <td>no</td>\n",
       "    </tr>\n",
       "    <tr>\n",
       "      <th>261663</th>\n",
       "      <td>6500</td>\n",
       "      <td>sedan</td>\n",
       "      <td>1950</td>\n",
       "      <td>manual</td>\n",
       "      <td>54</td>\n",
       "      <td>166.0</td>\n",
       "      <td>100000</td>\n",
       "      <td>3</td>\n",
       "      <td>petrol</td>\n",
       "      <td>24.0</td>\n",
       "      <td>no</td>\n",
       "    </tr>\n",
       "    <tr>\n",
       "      <th>291064</th>\n",
       "      <td>12950</td>\n",
       "      <td>suv</td>\n",
       "      <td>1950</td>\n",
       "      <td>manual</td>\n",
       "      <td>45</td>\n",
       "      <td>166.0</td>\n",
       "      <td>5000</td>\n",
       "      <td>0</td>\n",
       "      <td>gasoline</td>\n",
       "      <td>14.0</td>\n",
       "      <td>no</td>\n",
       "    </tr>\n",
       "    <tr>\n",
       "      <th>319809</th>\n",
       "      <td>4100</td>\n",
       "      <td>sedan</td>\n",
       "      <td>1950</td>\n",
       "      <td>manual</td>\n",
       "      <td>37</td>\n",
       "      <td>166.0</td>\n",
       "      <td>100000</td>\n",
       "      <td>7</td>\n",
       "      <td>petrol</td>\n",
       "      <td>24.0</td>\n",
       "      <td>no</td>\n",
       "    </tr>\n",
       "  </tbody>\n",
       "</table>\n",
       "</div>"
      ],
      "text/plain": [
       "        price vehicle_type  registration_year gearbox  power  model  \\\n",
       "74705    3900        other               1950    auto    180  166.0   \n",
       "103192  10000        coupe               1950  manual    130  166.0   \n",
       "174755  17900        coupe               1950  manual    110  228.0   \n",
       "261663   6500        sedan               1950  manual     54  166.0   \n",
       "291064  12950          suv               1950  manual     45  166.0   \n",
       "319809   4100        sedan               1950  manual     37  166.0   \n",
       "\n",
       "        kilometer  registration_month fuel_type  brand not_repaired  \n",
       "74705      150000                   5    petrol   20.0           no  \n",
       "103192       5000                   1    petrol    0.0           no  \n",
       "174755     100000                   1    petrol   33.0           no  \n",
       "261663     100000                   3    petrol   24.0           no  \n",
       "291064       5000                   0  gasoline   14.0           no  \n",
       "319809     100000                   7    petrol   24.0           no  "
      ]
     },
     "execution_count": 89,
     "metadata": {},
     "output_type": "execute_result"
    }
   ],
   "source": [
    "data[data['registration_year'] == 1950].head(10)"
   ]
  },
  {
   "cell_type": "code",
   "execution_count": 90,
   "metadata": {},
   "outputs": [
    {
     "data": {
      "image/png": "[encoded data removed]",
      "text/plain": [
       "<Figure size 432x288 with 1 Axes>"
      ]
     },
     "metadata": {
      "needs_background": "light"
     },
     "output_type": "display_data"
    }
   ],
   "source": [
    "data[\n",
    "    data['registration_year'] <= 1980\n",
    "    ]['registration_year'].hist(bins=30);"
   ]
  },
  {
   "cell_type": "code",
   "execution_count": 91,
   "metadata": {},
   "outputs": [
    {
     "data": {
      "text/plain": [
       "count     2433.000000\n",
       "mean       109.343198\n",
       "std        334.350100\n",
       "min          1.000000\n",
       "25%         50.000000\n",
       "50%         76.000000\n",
       "75%        136.000000\n",
       "max      16051.000000\n",
       "Name: power, dtype: float64"
      ]
     },
     "execution_count": 91,
     "metadata": {},
     "output_type": "execute_result"
    }
   ],
   "source": [
    "data[data['registration_year'] <= 1980]['power'].describe()"
   ]
  },
  {
   "cell_type": "markdown",
   "metadata": {},
   "source": [
    "Минимальное значение 1..."
   ]
  },
  {
   "cell_type": "code",
   "execution_count": 92,
   "metadata": {},
   "outputs": [
    {
     "data": {
      "image/png": "[encoded data removed]",
      "text/plain": [
       "<Figure size 432x288 with 1 Axes>"
      ]
     },
     "metadata": {
      "needs_background": "light"
     },
     "output_type": "display_data"
    }
   ],
   "source": [
    "data[data['power'] <= 50]['power'].hist(bins=30);"
   ]
  },
  {
   "cell_type": "markdown",
   "metadata": {},
   "source": [
    "Срежем мощность меньше 40 и год меньше 1960."
   ]
  },
  {
   "cell_type": "code",
   "execution_count": 93,
   "metadata": {},
   "outputs": [],
   "source": [
    "data = data[\n",
    "    (data['registration_year'] >= 1960) &\n",
    "    (data['power'] > 39)\n",
    "]"
   ]
  },
  {
   "cell_type": "code",
   "execution_count": 94,
   "metadata": {},
   "outputs": [
    {
     "data": {
      "image/png": "[encoded data removed]",
      "text/plain": [
       "<Figure size 432x288 with 1 Axes>"
      ]
     },
     "metadata": {
      "needs_background": "light"
     },
     "output_type": "display_data"
    }
   ],
   "source": [
    "data.boxplot(column='power');"
   ]
  },
  {
   "cell_type": "code",
   "execution_count": 95,
   "metadata": {},
   "outputs": [
    {
     "data": {
      "image/png": "[encoded data removed]",
      "text/plain": [
       "<Figure size 432x288 with 1 Axes>"
      ]
     },
     "metadata": {
      "needs_background": "light"
     },
     "output_type": "display_data"
    }
   ],
   "source": [
    "data[data['power'] < 1000].boxplot(column='power');"
   ]
  },
  {
   "cell_type": "markdown",
   "metadata": {},
   "source": [
    "Допустим посмотрим мощность более 300."
   ]
  },
  {
   "cell_type": "code",
   "execution_count": 96,
   "metadata": {},
   "outputs": [
    {
     "data": {
      "image/png": "[encoded data removed]",
      "text/plain": [
       "<Figure size 432x288 with 1 Axes>"
      ]
     },
     "metadata": {
      "needs_background": "light"
     },
     "output_type": "display_data"
    }
   ],
   "source": [
    "data[\n",
    "    (data['power'] > 300) & (data['power'] < 1000)\n",
    "    ]['price'].hist(bins=30);"
   ]
  },
  {
   "cell_type": "markdown",
   "metadata": {},
   "source": [
    "Значений очень мало. Вдаваться в изучение по марке ради нескольких значений при огромной выборке не стоит. Ограничим разумным выбором в мощность 400 л.с."
   ]
  },
  {
   "cell_type": "code",
   "execution_count": 97,
   "metadata": {},
   "outputs": [],
   "source": [
    "data = data[\n",
    "    (data['power'] <= 400)\n",
    "]"
   ]
  },
  {
   "cell_type": "code",
   "execution_count": 98,
   "metadata": {},
   "outputs": [
    {
     "name": "stdout",
     "output_type": "stream",
     "text": [
      "Процент от изначальной выборки: \n",
      "\n",
      "80.49265031647802  %\n",
      "Длина выборки:  285241\n"
     ]
    }
   ],
   "source": [
    "print(f'Процент от изначальной выборки: \\n')\n",
    "print(len(data) / len(data_origin) * 100, ' %')\n",
    "print('Длина выборки: ', data.shape[0])"
   ]
  },
  {
   "cell_type": "markdown",
   "metadata": {},
   "source": [
    "**Вывод**\n",
    "\n",
    "Убрали аномалии в годе регистрации, цене и мощности:\n",
    "\n",
    "* мощность от 40 до 400\n",
    "* цена не ниже 300 долларов\n",
    "* год от 1960 по 2016\n",
    "\n",
    "Урезанная выборка составляет 80.49 %  от всех данных. Всего длина выборки: 285241."
   ]
  },
  {
   "cell_type": "markdown",
   "metadata": {},
   "source": [
    "#### Выборки"
   ]
  },
  {
   "cell_type": "markdown",
   "metadata": {},
   "source": [
    "Взглягем на корреляюцию данных."
   ]
  },
  {
   "cell_type": "code",
   "execution_count": 99,
   "metadata": {},
   "outputs": [
    {
     "data": {
      "text/html": [
       "<div>\n",
       "<style scoped>\n",
       "    .dataframe tbody tr th:only-of-type {\n",
       "        vertical-align: middle;\n",
       "    }\n",
       "\n",
       "    .dataframe tbody tr th {\n",
       "        vertical-align: top;\n",
       "    }\n",
       "\n",
       "    .dataframe thead th {\n",
       "        text-align: right;\n",
       "    }\n",
       "</style>\n",
       "<table border=\"1\" class=\"dataframe\">\n",
       "  <thead>\n",
       "    <tr style=\"text-align: right;\">\n",
       "      <th></th>\n",
       "      <th>price</th>\n",
       "      <th>registration_year</th>\n",
       "      <th>power</th>\n",
       "      <th>model</th>\n",
       "      <th>kilometer</th>\n",
       "      <th>registration_month</th>\n",
       "      <th>brand</th>\n",
       "    </tr>\n",
       "  </thead>\n",
       "  <tbody>\n",
       "    <tr>\n",
       "      <th>price</th>\n",
       "      <td>1.000000</td>\n",
       "      <td>0.501898</td>\n",
       "      <td>0.501271</td>\n",
       "      <td>-0.027063</td>\n",
       "      <td>-0.396783</td>\n",
       "      <td>0.058060</td>\n",
       "      <td>-0.103676</td>\n",
       "    </tr>\n",
       "    <tr>\n",
       "      <th>registration_year</th>\n",
       "      <td>0.501898</td>\n",
       "      <td>1.000000</td>\n",
       "      <td>0.110093</td>\n",
       "      <td>-0.031792</td>\n",
       "      <td>-0.326677</td>\n",
       "      <td>0.038398</td>\n",
       "      <td>-0.016355</td>\n",
       "    </tr>\n",
       "    <tr>\n",
       "      <th>power</th>\n",
       "      <td>0.501271</td>\n",
       "      <td>0.110093</td>\n",
       "      <td>1.000000</td>\n",
       "      <td>-0.125035</td>\n",
       "      <td>0.108576</td>\n",
       "      <td>0.032411</td>\n",
       "      <td>-0.329569</td>\n",
       "    </tr>\n",
       "    <tr>\n",
       "      <th>model</th>\n",
       "      <td>-0.027063</td>\n",
       "      <td>-0.031792</td>\n",
       "      <td>-0.125035</td>\n",
       "      <td>1.000000</td>\n",
       "      <td>-0.034993</td>\n",
       "      <td>-0.019118</td>\n",
       "      <td>0.451789</td>\n",
       "    </tr>\n",
       "    <tr>\n",
       "      <th>kilometer</th>\n",
       "      <td>-0.396783</td>\n",
       "      <td>-0.326677</td>\n",
       "      <td>0.108576</td>\n",
       "      <td>-0.034993</td>\n",
       "      <td>1.000000</td>\n",
       "      <td>-0.014208</td>\n",
       "      <td>-0.052034</td>\n",
       "    </tr>\n",
       "    <tr>\n",
       "      <th>registration_month</th>\n",
       "      <td>0.058060</td>\n",
       "      <td>0.038398</td>\n",
       "      <td>0.032411</td>\n",
       "      <td>-0.019118</td>\n",
       "      <td>-0.014208</td>\n",
       "      <td>1.000000</td>\n",
       "      <td>-0.008626</td>\n",
       "    </tr>\n",
       "    <tr>\n",
       "      <th>brand</th>\n",
       "      <td>-0.103676</td>\n",
       "      <td>-0.016355</td>\n",
       "      <td>-0.329569</td>\n",
       "      <td>0.451789</td>\n",
       "      <td>-0.052034</td>\n",
       "      <td>-0.008626</td>\n",
       "      <td>1.000000</td>\n",
       "    </tr>\n",
       "  </tbody>\n",
       "</table>\n",
       "</div>"
      ],
      "text/plain": [
       "                       price  registration_year     power     model  \\\n",
       "price               1.000000           0.501898  0.501271 -0.027063   \n",
       "registration_year   0.501898           1.000000  0.110093 -0.031792   \n",
       "power               0.501271           0.110093  1.000000 -0.125035   \n",
       "model              -0.027063          -0.031792 -0.125035  1.000000   \n",
       "kilometer          -0.396783          -0.326677  0.108576 -0.034993   \n",
       "registration_month  0.058060           0.038398  0.032411 -0.019118   \n",
       "brand              -0.103676          -0.016355 -0.329569  0.451789   \n",
       "\n",
       "                    kilometer  registration_month     brand  \n",
       "price               -0.396783            0.058060 -0.103676  \n",
       "registration_year   -0.326677            0.038398 -0.016355  \n",
       "power                0.108576            0.032411 -0.329569  \n",
       "model               -0.034993           -0.019118  0.451789  \n",
       "kilometer            1.000000           -0.014208 -0.052034  \n",
       "registration_month  -0.014208            1.000000 -0.008626  \n",
       "brand               -0.052034           -0.008626  1.000000  "
      ]
     },
     "execution_count": 99,
     "metadata": {},
     "output_type": "execute_result"
    }
   ],
   "source": [
    "data.corr()"
   ]
  },
  {
   "cell_type": "markdown",
   "metadata": {},
   "source": [
    "ККП - коэффициент корреляции Пирсона.\n",
    "\n",
    "* Чем свежее машина по годам, тем выше цена:\n",
    "    * КПП - 0.501;\n",
    "* Чем больше л.с. у машины, тем выше цена:\n",
    "    * КПП - 0.501\n",
    "* Чем больше пробег, тем ниже цена, зависимость слабая:\n",
    "    * КПП - -0.396\n",
    "* Нет корреляции Пирсона у цены и у месяца регистрации авто."
   ]
  },
  {
   "cell_type": "markdown",
   "metadata": {},
   "source": [
    "Столбец `registration_month` можно будет удалить для различных проб обучения моделей."
   ]
  },
  {
   "cell_type": "markdown",
   "metadata": {},
   "source": [
    "Посмотрим на признаки через коэффициент корреляции Phik."
   ]
  },
  {
   "cell_type": "code",
   "execution_count": 100,
   "metadata": {},
   "outputs": [
    {
     "name": "stdout",
     "output_type": "stream",
     "text": [
      "interval columns not set, guessing: ['price', 'registration_year', 'power', 'model', 'kilometer', 'registration_month', 'brand']\n"
     ]
    },
    {
     "data": {
      "text/html": [
       "<div>\n",
       "<style scoped>\n",
       "    .dataframe tbody tr th:only-of-type {\n",
       "        vertical-align: middle;\n",
       "    }\n",
       "\n",
       "    .dataframe tbody tr th {\n",
       "        vertical-align: top;\n",
       "    }\n",
       "\n",
       "    .dataframe thead th {\n",
       "        text-align: right;\n",
       "    }\n",
       "</style>\n",
       "<table border=\"1\" class=\"dataframe\">\n",
       "  <thead>\n",
       "    <tr style=\"text-align: right;\">\n",
       "      <th></th>\n",
       "      <th>price</th>\n",
       "      <th>vehicle_type</th>\n",
       "      <th>registration_year</th>\n",
       "      <th>gearbox</th>\n",
       "      <th>power</th>\n",
       "      <th>model</th>\n",
       "      <th>kilometer</th>\n",
       "      <th>registration_month</th>\n",
       "      <th>fuel_type</th>\n",
       "      <th>brand</th>\n",
       "      <th>not_repaired</th>\n",
       "    </tr>\n",
       "  </thead>\n",
       "  <tbody>\n",
       "    <tr>\n",
       "      <th>price</th>\n",
       "      <td>1.00</td>\n",
       "      <td>0.26</td>\n",
       "      <td>0.66</td>\n",
       "      <td>0.28</td>\n",
       "      <td>0.50</td>\n",
       "      <td>0.21</td>\n",
       "      <td>0.32</td>\n",
       "      <td>0.10</td>\n",
       "      <td>0.25</td>\n",
       "      <td>0.30</td>\n",
       "      <td>0.26</td>\n",
       "    </tr>\n",
       "    <tr>\n",
       "      <th>vehicle_type</th>\n",
       "      <td>0.26</td>\n",
       "      <td>1.00</td>\n",
       "      <td>0.29</td>\n",
       "      <td>0.37</td>\n",
       "      <td>0.49</td>\n",
       "      <td>0.43</td>\n",
       "      <td>0.26</td>\n",
       "      <td>0.12</td>\n",
       "      <td>0.39</td>\n",
       "      <td>0.37</td>\n",
       "      <td>0.04</td>\n",
       "    </tr>\n",
       "    <tr>\n",
       "      <th>registration_year</th>\n",
       "      <td>0.66</td>\n",
       "      <td>0.29</td>\n",
       "      <td>1.00</td>\n",
       "      <td>0.11</td>\n",
       "      <td>0.24</td>\n",
       "      <td>0.21</td>\n",
       "      <td>0.41</td>\n",
       "      <td>0.10</td>\n",
       "      <td>0.26</td>\n",
       "      <td>0.22</td>\n",
       "      <td>0.12</td>\n",
       "    </tr>\n",
       "    <tr>\n",
       "      <th>gearbox</th>\n",
       "      <td>0.28</td>\n",
       "      <td>0.37</td>\n",
       "      <td>0.11</td>\n",
       "      <td>1.00</td>\n",
       "      <td>0.47</td>\n",
       "      <td>0.14</td>\n",
       "      <td>0.05</td>\n",
       "      <td>0.10</td>\n",
       "      <td>0.21</td>\n",
       "      <td>0.37</td>\n",
       "      <td>0.01</td>\n",
       "    </tr>\n",
       "    <tr>\n",
       "      <th>power</th>\n",
       "      <td>0.50</td>\n",
       "      <td>0.49</td>\n",
       "      <td>0.24</td>\n",
       "      <td>0.47</td>\n",
       "      <td>1.00</td>\n",
       "      <td>0.40</td>\n",
       "      <td>0.11</td>\n",
       "      <td>0.05</td>\n",
       "      <td>0.24</td>\n",
       "      <td>0.52</td>\n",
       "      <td>0.03</td>\n",
       "    </tr>\n",
       "    <tr>\n",
       "      <th>model</th>\n",
       "      <td>0.21</td>\n",
       "      <td>0.43</td>\n",
       "      <td>0.21</td>\n",
       "      <td>0.14</td>\n",
       "      <td>0.40</td>\n",
       "      <td>1.00</td>\n",
       "      <td>0.11</td>\n",
       "      <td>0.05</td>\n",
       "      <td>0.17</td>\n",
       "      <td>0.78</td>\n",
       "      <td>0.04</td>\n",
       "    </tr>\n",
       "    <tr>\n",
       "      <th>kilometer</th>\n",
       "      <td>0.32</td>\n",
       "      <td>0.26</td>\n",
       "      <td>0.41</td>\n",
       "      <td>0.05</td>\n",
       "      <td>0.11</td>\n",
       "      <td>0.11</td>\n",
       "      <td>1.00</td>\n",
       "      <td>0.05</td>\n",
       "      <td>0.15</td>\n",
       "      <td>0.16</td>\n",
       "      <td>0.08</td>\n",
       "    </tr>\n",
       "    <tr>\n",
       "      <th>registration_month</th>\n",
       "      <td>0.10</td>\n",
       "      <td>0.12</td>\n",
       "      <td>0.10</td>\n",
       "      <td>0.10</td>\n",
       "      <td>0.05</td>\n",
       "      <td>0.05</td>\n",
       "      <td>0.05</td>\n",
       "      <td>1.00</td>\n",
       "      <td>0.11</td>\n",
       "      <td>0.05</td>\n",
       "      <td>0.04</td>\n",
       "    </tr>\n",
       "    <tr>\n",
       "      <th>fuel_type</th>\n",
       "      <td>0.25</td>\n",
       "      <td>0.39</td>\n",
       "      <td>0.26</td>\n",
       "      <td>0.21</td>\n",
       "      <td>0.24</td>\n",
       "      <td>0.17</td>\n",
       "      <td>0.15</td>\n",
       "      <td>0.11</td>\n",
       "      <td>1.00</td>\n",
       "      <td>0.14</td>\n",
       "      <td>0.05</td>\n",
       "    </tr>\n",
       "    <tr>\n",
       "      <th>brand</th>\n",
       "      <td>0.30</td>\n",
       "      <td>0.37</td>\n",
       "      <td>0.22</td>\n",
       "      <td>0.37</td>\n",
       "      <td>0.52</td>\n",
       "      <td>0.78</td>\n",
       "      <td>0.16</td>\n",
       "      <td>0.05</td>\n",
       "      <td>0.14</td>\n",
       "      <td>1.00</td>\n",
       "      <td>0.04</td>\n",
       "    </tr>\n",
       "    <tr>\n",
       "      <th>not_repaired</th>\n",
       "      <td>0.26</td>\n",
       "      <td>0.04</td>\n",
       "      <td>0.12</td>\n",
       "      <td>0.01</td>\n",
       "      <td>0.03</td>\n",
       "      <td>0.04</td>\n",
       "      <td>0.08</td>\n",
       "      <td>0.04</td>\n",
       "      <td>0.05</td>\n",
       "      <td>0.04</td>\n",
       "      <td>1.00</td>\n",
       "    </tr>\n",
       "  </tbody>\n",
       "</table>\n",
       "</div>"
      ],
      "text/plain": [
       "                    price  vehicle_type  registration_year  gearbox  power  \\\n",
       "price                1.00          0.26               0.66     0.28   0.50   \n",
       "vehicle_type         0.26          1.00               0.29     0.37   0.49   \n",
       "registration_year    0.66          0.29               1.00     0.11   0.24   \n",
       "gearbox              0.28          0.37               0.11     1.00   0.47   \n",
       "power                0.50          0.49               0.24     0.47   1.00   \n",
       "model                0.21          0.43               0.21     0.14   0.40   \n",
       "kilometer            0.32          0.26               0.41     0.05   0.11   \n",
       "registration_month   0.10          0.12               0.10     0.10   0.05   \n",
       "fuel_type            0.25          0.39               0.26     0.21   0.24   \n",
       "brand                0.30          0.37               0.22     0.37   0.52   \n",
       "not_repaired         0.26          0.04               0.12     0.01   0.03   \n",
       "\n",
       "                    model  kilometer  registration_month  fuel_type  brand  \\\n",
       "price                0.21       0.32                0.10       0.25   0.30   \n",
       "vehicle_type         0.43       0.26                0.12       0.39   0.37   \n",
       "registration_year    0.21       0.41                0.10       0.26   0.22   \n",
       "gearbox              0.14       0.05                0.10       0.21   0.37   \n",
       "power                0.40       0.11                0.05       0.24   0.52   \n",
       "model                1.00       0.11                0.05       0.17   0.78   \n",
       "kilometer            0.11       1.00                0.05       0.15   0.16   \n",
       "registration_month   0.05       0.05                1.00       0.11   0.05   \n",
       "fuel_type            0.17       0.15                0.11       1.00   0.14   \n",
       "brand                0.78       0.16                0.05       0.14   1.00   \n",
       "not_repaired         0.04       0.08                0.04       0.05   0.04   \n",
       "\n",
       "                    not_repaired  \n",
       "price                       0.26  \n",
       "vehicle_type                0.04  \n",
       "registration_year           0.12  \n",
       "gearbox                     0.01  \n",
       "power                       0.03  \n",
       "model                       0.04  \n",
       "kilometer                   0.08  \n",
       "registration_month          0.04  \n",
       "fuel_type                   0.05  \n",
       "brand                       0.04  \n",
       "not_repaired                1.00  "
      ]
     },
     "execution_count": 100,
     "metadata": {},
     "output_type": "execute_result"
    }
   ],
   "source": [
    "data.phik_matrix().round(2)"
   ]
  },
  {
   "cell_type": "markdown",
   "metadata": {},
   "source": [
    "Выведем красиво."
   ]
  },
  {
   "cell_type": "code",
   "execution_count": 101,
   "metadata": {
    "scrolled": true
   },
   "outputs": [
    {
     "name": "stdout",
     "output_type": "stream",
     "text": [
      "interval columns not set, guessing: ['price', 'registration_year', 'power', 'model', 'kilometer', 'registration_month', 'brand']\n"
     ]
    },
    {
     "data": {
      "image/png": "[encoded data removed]",
      "text/plain": [
       "<Figure size 720x576 with 2 Axes>"
      ]
     },
     "metadata": {
      "needs_background": "light"
     },
     "output_type": "display_data"
    }
   ],
   "source": [
    "phik_overview = data.phik_matrix().round(2)\n",
    "\n",
    "plot_correlation_matrix(phik_overview.values, \n",
    "                        x_labels=phik_overview.columns, \n",
    "                        y_labels=phik_overview.index, \n",
    "                        vmin=0, vmax=1, color_map=\"Greens\", \n",
    "                        title=r\"correlation $\\phi_K$\", \n",
    "                        fontsize_factor=1.5, \n",
    "                        figsize=(10, 8))\n",
    "plt.tight_layout()"
   ]
  },
  {
   "cell_type": "markdown",
   "metadata": {},
   "source": [
    "1. Целевой признак у нас `price`. Признаки по убыванию, коррелирующие на цену в наибольшей степени **Phik > 0.5**:\n",
    "    * registration_year\n",
    "    * model\n",
    "    * power\n",
    "2. Признаки по убыванию, коррелирующие на цену в наименьшей степени **Phik < 0.5**:\n",
    "    * brand\n",
    "    * kilometer\n",
    "    * gearbox\n",
    "    * not_repaired\n",
    "    * vehicle_type\n",
    "    * fuel_type\n",
    "    * registration_month\n",
    "3. registration_month имеет опять наименьшую корреляцию."
   ]
  },
  {
   "cell_type": "markdown",
   "metadata": {},
   "source": [
    "Сделаем следующие выборки:\n",
    "\n",
    "* Очищенный датасет.\n",
    "* Ради эксперимента уберем признак `registration_month`, поскольку имеет малую корреляцию с целевым признаком.\n",
    "\n",
    "\n",
    "Сделаем обучающие выборки и конечную тестовую. В тестовой выборке данные не будут изменены никоим образом.\n",
    "\n",
    "Тестовая выборка:\n",
    "\n",
    "    * с аномалиями и `unknown`, поскольку при реальных данных с такой выгрузкой мы не имеем право отказываться от каких-либо предсказаний объектов."
   ]
  },
  {
   "cell_type": "code",
   "execution_count": 102,
   "metadata": {},
   "outputs": [],
   "source": [
    "# Словарь для наших выборок\n",
    "data_dict = {}\n",
    "\n",
    "data_down_train, data_down_test = train_test_split(\n",
    "    data, test_size=.25, random_state=13)\n",
    "\n",
    "# Первая выборка без аномалий с заполнением `unknown`\n",
    "data_dict['data_down'] = data_down_train, data_down_test"
   ]
  },
  {
   "cell_type": "code",
   "execution_count": 103,
   "metadata": {},
   "outputs": [
    {
     "data": {
      "text/plain": [
       "(71311, 11)"
      ]
     },
     "execution_count": 103,
     "metadata": {},
     "output_type": "execute_result"
    }
   ],
   "source": [
    "# Проверка\n",
    "data_dict['data_down'][1].shape"
   ]
  },
  {
   "cell_type": "code",
   "execution_count": 104,
   "metadata": {},
   "outputs": [
    {
     "data": {
      "text/plain": [
       "price                 0.0\n",
       "vehicle_type          0.0\n",
       "registration_year     0.0\n",
       "gearbox               0.0\n",
       "power                 0.0\n",
       "model                 0.0\n",
       "kilometer             0.0\n",
       "registration_month    0.0\n",
       "fuel_type             0.0\n",
       "brand                 0.0\n",
       "not_repaired          0.0\n",
       "dtype: float64"
      ]
     },
     "execution_count": 104,
     "metadata": {},
     "output_type": "execute_result"
    }
   ],
   "source": [
    "data.isna().mean()"
   ]
  },
  {
   "cell_type": "code",
   "execution_count": 105,
   "metadata": {},
   "outputs": [
    {
     "data": {
      "text/plain": [
       "Index(['price', 'vehicle_type', 'registration_year', 'gearbox', 'power',\n",
       "       'model', 'kilometer', 'fuel_type', 'brand', 'not_repaired'],\n",
       "      dtype='object')"
      ]
     },
     "execution_count": 105,
     "metadata": {},
     "output_type": "execute_result"
    }
   ],
   "source": [
    "data.drop(columns='registration_month').columns"
   ]
  },
  {
   "cell_type": "code",
   "execution_count": 106,
   "metadata": {},
   "outputs": [],
   "source": [
    "# Выбираем наши признаки без 'registration_month'\n",
    "data_down_cut = data.drop(columns='registration_month')\n",
    "\n",
    "data_down_cut_train, data_down_cut_test = train_test_split(\n",
    "    data_down_cut, test_size=.25, random_state=13)\n",
    "\n",
    "# Вторая выборка: убрали аномалиии с заполнением `unknown`\n",
    "# и без 'registration_month'\n",
    "data_dict['data_down_cut'] = data_down_cut_train, data_down_cut_test"
   ]
  },
  {
   "cell_type": "code",
   "execution_count": 107,
   "metadata": {},
   "outputs": [
    {
     "name": "stdout",
     "output_type": "stream",
     "text": [
      "['data_down', 'data_down_cut']\n"
     ]
    }
   ],
   "source": [
    "# Проверка\n",
    "print([col for col, v in data_dict.items()])"
   ]
  },
  {
   "cell_type": "markdown",
   "metadata": {},
   "source": [
    "Создали словарь `data_dict` из 2-х выборок для поиска лучшей модели предсказаний:\n",
    "\n",
    "    * 'data_down'\n",
    "    * 'data_down_cut'"
   ]
  },
  {
   "cell_type": "markdown",
   "metadata": {},
   "source": [
    "В выборках у нас урезанные данные. То есть для финального тестирования, где нужно учесть, что в применении в реальности выбранной конечной модели, данные будут не урезаны. То есть они будут поступать со значениями NaN и аномалиями и такие данные нужно будет предсказывть.\n",
    "\n",
    "Поэтому сохраним в словарь такие проверочные выборки для наших будущих моделей, где данные не урежутся, пропуски будут заполнены."
   ]
  },
  {
   "cell_type": "code",
   "execution_count": 108,
   "metadata": {
    "scrolled": true
   },
   "outputs": [
    {
     "name": "stdout",
     "output_type": "stream",
     "text": [
      "До:  71311 \n",
      "\n",
      "До:  71311 \n",
      "\n",
      "После:  88593 \n",
      "\n",
      "После:  88593\n"
     ]
    }
   ],
   "source": [
    "# Сделаем тестовые выборки не урезанными, заполненными\n",
    "print('До: ', len(data_dict['data_down'][1]), '\\n')\n",
    "print('До: ', len(data_dict['data_down_cut'][1]), '\\n')\n",
    "\n",
    "data_anomaly_train, data_anomaly_test = train_test_split(\n",
    "    data_anomaly, test_size=.25, random_state=13)\n",
    "\n",
    "data_dict['data_down'] = data_down_train, data_anomaly_test\n",
    "\n",
    "\n",
    "# не забываем убрать 'registration_month' для выборки 'data_down_cut'\n",
    "data_anomaly_test = data_anomaly_test.drop(columns='registration_month')\n",
    "\n",
    "data_dict['data_down_cut'] = data_down_cut_train, data_anomaly_test\n",
    "\n",
    "print('После: ', len(data_dict['data_down'][1]), '\\n')\n",
    "print('После: ', len(data_dict['data_down_cut'][1]))\n",
    "\n",
    "# Проверка"
   ]
  },
  {
   "cell_type": "code",
   "execution_count": 109,
   "metadata": {
    "scrolled": true
   },
   "outputs": [
    {
     "data": {
      "text/html": [
       "<div>\n",
       "<style scoped>\n",
       "    .dataframe tbody tr th:only-of-type {\n",
       "        vertical-align: middle;\n",
       "    }\n",
       "\n",
       "    .dataframe tbody tr th {\n",
       "        vertical-align: top;\n",
       "    }\n",
       "\n",
       "    .dataframe thead th {\n",
       "        text-align: right;\n",
       "    }\n",
       "</style>\n",
       "<table border=\"1\" class=\"dataframe\">\n",
       "  <thead>\n",
       "    <tr style=\"text-align: right;\">\n",
       "      <th></th>\n",
       "      <th>price</th>\n",
       "      <th>registration_year</th>\n",
       "      <th>power</th>\n",
       "      <th>model</th>\n",
       "      <th>kilometer</th>\n",
       "      <th>brand</th>\n",
       "    </tr>\n",
       "  </thead>\n",
       "  <tbody>\n",
       "    <tr>\n",
       "      <th>count</th>\n",
       "      <td>285241.000000</td>\n",
       "      <td>285241.000000</td>\n",
       "      <td>285241.000000</td>\n",
       "      <td>285241.000000</td>\n",
       "      <td>285241.000000</td>\n",
       "      <td>285241.000000</td>\n",
       "    </tr>\n",
       "    <tr>\n",
       "      <th>mean</th>\n",
       "      <td>5004.963838</td>\n",
       "      <td>2003.046378</td>\n",
       "      <td>121.976006</td>\n",
       "      <td>111.947374</td>\n",
       "      <td>128220.750173</td>\n",
       "      <td>20.635473</td>\n",
       "    </tr>\n",
       "    <tr>\n",
       "      <th>std</th>\n",
       "      <td>4599.031871</td>\n",
       "      <td>6.275350</td>\n",
       "      <td>52.332305</td>\n",
       "      <td>73.348829</td>\n",
       "      <td>36598.361262</td>\n",
       "      <td>13.417234</td>\n",
       "    </tr>\n",
       "    <tr>\n",
       "      <th>min</th>\n",
       "      <td>301.000000</td>\n",
       "      <td>1960.000000</td>\n",
       "      <td>40.000000</td>\n",
       "      <td>0.000000</td>\n",
       "      <td>5000.000000</td>\n",
       "      <td>0.000000</td>\n",
       "    </tr>\n",
       "    <tr>\n",
       "      <th>25%</th>\n",
       "      <td>1499.000000</td>\n",
       "      <td>1999.000000</td>\n",
       "      <td>80.000000</td>\n",
       "      <td>42.000000</td>\n",
       "      <td>125000.000000</td>\n",
       "      <td>9.000000</td>\n",
       "    </tr>\n",
       "    <tr>\n",
       "      <th>50%</th>\n",
       "      <td>3350.000000</td>\n",
       "      <td>2003.000000</td>\n",
       "      <td>115.000000</td>\n",
       "      <td>116.000000</td>\n",
       "      <td>150000.000000</td>\n",
       "      <td>23.000000</td>\n",
       "    </tr>\n",
       "    <tr>\n",
       "      <th>75%</th>\n",
       "      <td>7200.000000</td>\n",
       "      <td>2007.000000</td>\n",
       "      <td>150.000000</td>\n",
       "      <td>170.000000</td>\n",
       "      <td>150000.000000</td>\n",
       "      <td>33.000000</td>\n",
       "    </tr>\n",
       "    <tr>\n",
       "      <th>max</th>\n",
       "      <td>20000.000000</td>\n",
       "      <td>2016.000000</td>\n",
       "      <td>400.000000</td>\n",
       "      <td>250.000000</td>\n",
       "      <td>150000.000000</td>\n",
       "      <td>39.000000</td>\n",
       "    </tr>\n",
       "  </tbody>\n",
       "</table>\n",
       "</div>"
      ],
      "text/plain": [
       "               price  registration_year          power          model  \\\n",
       "count  285241.000000      285241.000000  285241.000000  285241.000000   \n",
       "mean     5004.963838        2003.046378     121.976006     111.947374   \n",
       "std      4599.031871           6.275350      52.332305      73.348829   \n",
       "min       301.000000        1960.000000      40.000000       0.000000   \n",
       "25%      1499.000000        1999.000000      80.000000      42.000000   \n",
       "50%      3350.000000        2003.000000     115.000000     116.000000   \n",
       "75%      7200.000000        2007.000000     150.000000     170.000000   \n",
       "max     20000.000000        2016.000000     400.000000     250.000000   \n",
       "\n",
       "           kilometer          brand  \n",
       "count  285241.000000  285241.000000  \n",
       "mean   128220.750173      20.635473  \n",
       "std     36598.361262      13.417234  \n",
       "min      5000.000000       0.000000  \n",
       "25%    125000.000000       9.000000  \n",
       "50%    150000.000000      23.000000  \n",
       "75%    150000.000000      33.000000  \n",
       "max    150000.000000      39.000000  "
      ]
     },
     "execution_count": 109,
     "metadata": {},
     "output_type": "execute_result"
    }
   ],
   "source": [
    "data_down_cut.describe()\n"
   ]
  },
  {
   "cell_type": "markdown",
   "metadata": {},
   "source": [
    "#### Вывод по подготовке выборок"
   ]
  },
  {
   "cell_type": "markdown",
   "metadata": {},
   "source": [
    "0. Убрали аномалии в годе регистрации, цене и мощности:\n",
    "\n",
    "    * мощность от 25 до 450\n",
    "    * цена не ниже 200 долларов\n",
    "    * год от 1950 по 2016\n",
    "\n",
    "    * Урезанная выборка составляет 82.04 %  от всех данных. Всего длина выборки: 290725.\n",
    "\n",
    "\n",
    "0. Провели стат. анализ признаков по КПП (коэффициент корреляции Пирсона) к признаку `price`, без аномалий:\n",
    "\n",
    "    * Чем свежее машина по годам, тем выше цена:\n",
    "        * КПП - 0.489;\n",
    "    * Чем больше л.с. у машины, тем выше цена:\n",
    "        * КПП - 0.505\n",
    "    * Чем больше пробег, тем ниже цена, зависимость слабая:\n",
    "        * КПП - -0.392\n",
    "    * Нет корреляции Пирсона у цены и у месяца регистрации авто.\n",
    "\n",
    "\n",
    "0. Провели стат. анализ через коэффициент корреляции Phik, без аномалий:\n",
    "\n",
    "    * Целевой признак у нас `price`. Признаки по убыванию, коррелирующие на цену в наибольшей степени **Phik > 0.5**:\n",
    "        * registration_year\n",
    "        * model\n",
    "        * power\n",
    "    * Признаки по убыванию, коррелирующие на цену в наименьшей степени **Phik < 0.5**:\n",
    "        * brand\n",
    "        * kilometer\n",
    "        * gearbox\n",
    "        * not_repaired\n",
    "        * vehicle_type\n",
    "        * fuel_type\n",
    "        * registration_month\n",
    "    * registration_month имеет опять наименьшую корреляцию.\n",
    "\n",
    "\n",
    "0.  Сделали следующие выборки:\n",
    "\n",
    "    * Очищенный датасет.\n",
    "    * Ради эксперимента уберем признак `registration_month`, поскольку имеет малую корреляцию с целевым признаком.\n",
    "\n",
    "\n",
    "0.  Создали словарь для различных выборок, на которых будем искать лучшие метрики качества и поиск лучшей модели:\n",
    "\n",
    "    * Сделали обучающие выборки и конечную тестовую. В тестовой выборке данные не будут изменены никоим образом:\n",
    "    \n",
    "        * с аномалиями и `unknown`, поскольку при реальных данных с такой выгрузкой мы не имеем право отказываться от каких-либо предсказаний объектов.\n",
    "\n",
    "\n",
    "0. Создали словарь `data_dict` из 2-х выборок для поиска лучшей модели предсказаний:\n",
    "\n",
    "    * 'data_down'\n",
    "    * 'data_down_cut'\n",
    "\n",
    "\n",
    "0. Тестовые выборки не урезаны по длине, так как в реальности данные будут поступать со значениями NaN и аномалиями и такие данные нужно будет предсказывть."
   ]
  },
  {
   "cell_type": "markdown",
   "metadata": {},
   "source": [
    "## Обучение моделей"
   ]
  },
  {
   "cell_type": "code",
   "execution_count": 110,
   "metadata": {},
   "outputs": [],
   "source": [
    "pd.options.mode.chained_assignment = None"
   ]
  },
  {
   "cell_type": "code",
   "execution_count": 111,
   "metadata": {},
   "outputs": [
    {
     "data": {
      "text/plain": [
       "dict_keys(['data_down', 'data_down_cut'])"
      ]
     },
     "execution_count": 111,
     "metadata": {},
     "output_type": "execute_result"
    }
   ],
   "source": [
    "# Наши ключи к выборкам\n",
    "data_dict.keys()"
   ]
  },
  {
   "cell_type": "code",
   "execution_count": 112,
   "metadata": {},
   "outputs": [
    {
     "data": {
      "text/plain": [
       "Index(['price', 'vehicle_type', 'registration_year', 'gearbox', 'power',\n",
       "       'model', 'kilometer', 'fuel_type', 'brand', 'not_repaired'],\n",
       "      dtype='object')"
      ]
     },
     "execution_count": 112,
     "metadata": {},
     "output_type": "execute_result"
    }
   ],
   "source": [
    "# Проверка урезана ли нужная выборка\n",
    "data_dict['data_down_cut'][1].columns"
   ]
  },
  {
   "cell_type": "markdown",
   "metadata": {},
   "source": [
    "Проделаем для начала все вручную для проверки работы."
   ]
  },
  {
   "cell_type": "code",
   "execution_count": 113,
   "metadata": {},
   "outputs": [],
   "source": [
    "X_train = data_dict['data_down'][0].drop('price', axis=1)\n",
    "y_train = data_dict['data_down'][0]['price']"
   ]
  },
  {
   "cell_type": "code",
   "execution_count": 114,
   "metadata": {},
   "outputs": [
    {
     "data": {
      "text/plain": [
       "4599.48"
      ]
     },
     "execution_count": 114,
     "metadata": {},
     "output_type": "execute_result"
    }
   ],
   "source": [
    "y_constant = pd.Series(y_train.mean(), index=y_train.index)\n",
    "\n",
    "constant = mean_squared_error(y_train, y_constant) ** 0.5\n",
    "constant.round(2)"
   ]
  },
  {
   "cell_type": "markdown",
   "metadata": {},
   "source": [
    "Проверим предобработку данных последовательно."
   ]
  },
  {
   "cell_type": "code",
   "execution_count": 115,
   "metadata": {},
   "outputs": [
    {
     "data": {
      "text/html": [
       "<div>\n",
       "<style scoped>\n",
       "    .dataframe tbody tr th:only-of-type {\n",
       "        vertical-align: middle;\n",
       "    }\n",
       "\n",
       "    .dataframe tbody tr th {\n",
       "        vertical-align: top;\n",
       "    }\n",
       "\n",
       "    .dataframe thead th {\n",
       "        text-align: right;\n",
       "    }\n",
       "</style>\n",
       "<table border=\"1\" class=\"dataframe\">\n",
       "  <thead>\n",
       "    <tr style=\"text-align: right;\">\n",
       "      <th></th>\n",
       "      <th>vehicle_type</th>\n",
       "      <th>registration_year</th>\n",
       "      <th>gearbox</th>\n",
       "      <th>power</th>\n",
       "      <th>model</th>\n",
       "      <th>kilometer</th>\n",
       "      <th>registration_month</th>\n",
       "      <th>fuel_type</th>\n",
       "      <th>brand</th>\n",
       "      <th>not_repaired</th>\n",
       "    </tr>\n",
       "  </thead>\n",
       "  <tbody>\n",
       "    <tr>\n",
       "      <th>193712</th>\n",
       "      <td>wagon</td>\n",
       "      <td>2005</td>\n",
       "      <td>auto</td>\n",
       "      <td>272</td>\n",
       "      <td>15.0</td>\n",
       "      <td>150000</td>\n",
       "      <td>1</td>\n",
       "      <td>gasoline</td>\n",
       "      <td>2.0</td>\n",
       "      <td>no</td>\n",
       "    </tr>\n",
       "    <tr>\n",
       "      <th>269117</th>\n",
       "      <td>bus</td>\n",
       "      <td>2011</td>\n",
       "      <td>manual</td>\n",
       "      <td>109</td>\n",
       "      <td>47.0</td>\n",
       "      <td>80000</td>\n",
       "      <td>11</td>\n",
       "      <td>gasoline</td>\n",
       "      <td>20.0</td>\n",
       "      <td>no</td>\n",
       "    </tr>\n",
       "    <tr>\n",
       "      <th>86891</th>\n",
       "      <td>sedan</td>\n",
       "      <td>1998</td>\n",
       "      <td>auto</td>\n",
       "      <td>130</td>\n",
       "      <td>174.0</td>\n",
       "      <td>150000</td>\n",
       "      <td>4</td>\n",
       "      <td>petrol</td>\n",
       "      <td>23.0</td>\n",
       "      <td>no</td>\n",
       "    </tr>\n",
       "  </tbody>\n",
       "</table>\n",
       "</div>"
      ],
      "text/plain": [
       "       vehicle_type  registration_year gearbox  power  model  kilometer  \\\n",
       "193712        wagon               2005    auto    272   15.0     150000   \n",
       "269117          bus               2011  manual    109   47.0      80000   \n",
       "86891         sedan               1998    auto    130  174.0     150000   \n",
       "\n",
       "        registration_month fuel_type  brand not_repaired  \n",
       "193712                   1  gasoline    2.0           no  \n",
       "269117                  11  gasoline   20.0           no  \n",
       "86891                    4    petrol   23.0           no  "
      ]
     },
     "execution_count": 115,
     "metadata": {},
     "output_type": "execute_result"
    }
   ],
   "source": [
    "X_train.head(3)"
   ]
  },
  {
   "cell_type": "markdown",
   "metadata": {},
   "source": [
    "Методом OHE подготовим признаки, где не так много уникальных значений.\n",
    "\n",
    "Столбцы `model` и `brand` подготовим с помощью Ordinal Encoding, поскольку там очень много уникальных значений."
   ]
  },
  {
   "cell_type": "code",
   "execution_count": 116,
   "metadata": {},
   "outputs": [
    {
     "data": {
      "text/html": [
       "<div>\n",
       "<style scoped>\n",
       "    .dataframe tbody tr th:only-of-type {\n",
       "        vertical-align: middle;\n",
       "    }\n",
       "\n",
       "    .dataframe tbody tr th {\n",
       "        vertical-align: top;\n",
       "    }\n",
       "\n",
       "    .dataframe thead th {\n",
       "        text-align: right;\n",
       "    }\n",
       "</style>\n",
       "<table border=\"1\" class=\"dataframe\">\n",
       "  <thead>\n",
       "    <tr style=\"text-align: right;\">\n",
       "      <th></th>\n",
       "      <th>registration_year</th>\n",
       "      <th>power</th>\n",
       "      <th>kilometer</th>\n",
       "      <th>registration_month</th>\n",
       "      <th>vehicle_type_convertible</th>\n",
       "      <th>vehicle_type_coupe</th>\n",
       "      <th>vehicle_type_other</th>\n",
       "      <th>vehicle_type_sedan</th>\n",
       "      <th>vehicle_type_small</th>\n",
       "      <th>vehicle_type_suv</th>\n",
       "      <th>...</th>\n",
       "      <th>gearbox_manual</th>\n",
       "      <th>gearbox_unknown</th>\n",
       "      <th>fuel_type_electric</th>\n",
       "      <th>fuel_type_gasoline</th>\n",
       "      <th>fuel_type_hybrid</th>\n",
       "      <th>fuel_type_lpg</th>\n",
       "      <th>fuel_type_other</th>\n",
       "      <th>fuel_type_petrol</th>\n",
       "      <th>fuel_type_unknown</th>\n",
       "      <th>not_repaired_yes</th>\n",
       "    </tr>\n",
       "  </thead>\n",
       "  <tbody>\n",
       "    <tr>\n",
       "      <th>193712</th>\n",
       "      <td>2005</td>\n",
       "      <td>272</td>\n",
       "      <td>150000</td>\n",
       "      <td>1</td>\n",
       "      <td>0</td>\n",
       "      <td>0</td>\n",
       "      <td>0</td>\n",
       "      <td>0</td>\n",
       "      <td>0</td>\n",
       "      <td>0</td>\n",
       "      <td>...</td>\n",
       "      <td>0</td>\n",
       "      <td>0</td>\n",
       "      <td>0</td>\n",
       "      <td>1</td>\n",
       "      <td>0</td>\n",
       "      <td>0</td>\n",
       "      <td>0</td>\n",
       "      <td>0</td>\n",
       "      <td>0</td>\n",
       "      <td>0</td>\n",
       "    </tr>\n",
       "    <tr>\n",
       "      <th>269117</th>\n",
       "      <td>2011</td>\n",
       "      <td>109</td>\n",
       "      <td>80000</td>\n",
       "      <td>11</td>\n",
       "      <td>0</td>\n",
       "      <td>0</td>\n",
       "      <td>0</td>\n",
       "      <td>0</td>\n",
       "      <td>0</td>\n",
       "      <td>0</td>\n",
       "      <td>...</td>\n",
       "      <td>1</td>\n",
       "      <td>0</td>\n",
       "      <td>0</td>\n",
       "      <td>1</td>\n",
       "      <td>0</td>\n",
       "      <td>0</td>\n",
       "      <td>0</td>\n",
       "      <td>0</td>\n",
       "      <td>0</td>\n",
       "      <td>0</td>\n",
       "    </tr>\n",
       "    <tr>\n",
       "      <th>86891</th>\n",
       "      <td>1998</td>\n",
       "      <td>130</td>\n",
       "      <td>150000</td>\n",
       "      <td>4</td>\n",
       "      <td>0</td>\n",
       "      <td>0</td>\n",
       "      <td>0</td>\n",
       "      <td>1</td>\n",
       "      <td>0</td>\n",
       "      <td>0</td>\n",
       "      <td>...</td>\n",
       "      <td>0</td>\n",
       "      <td>0</td>\n",
       "      <td>0</td>\n",
       "      <td>0</td>\n",
       "      <td>0</td>\n",
       "      <td>0</td>\n",
       "      <td>0</td>\n",
       "      <td>1</td>\n",
       "      <td>0</td>\n",
       "      <td>0</td>\n",
       "    </tr>\n",
       "  </tbody>\n",
       "</table>\n",
       "<p>3 rows × 22 columns</p>\n",
       "</div>"
      ],
      "text/plain": [
       "        registration_year  power  kilometer  registration_month  \\\n",
       "193712               2005    272     150000                   1   \n",
       "269117               2011    109      80000                  11   \n",
       "86891                1998    130     150000                   4   \n",
       "\n",
       "        vehicle_type_convertible  vehicle_type_coupe  vehicle_type_other  \\\n",
       "193712                         0                   0                   0   \n",
       "269117                         0                   0                   0   \n",
       "86891                          0                   0                   0   \n",
       "\n",
       "        vehicle_type_sedan  vehicle_type_small  vehicle_type_suv  ...  \\\n",
       "193712                   0                   0                 0  ...   \n",
       "269117                   0                   0                 0  ...   \n",
       "86891                    1                   0                 0  ...   \n",
       "\n",
       "        gearbox_manual  gearbox_unknown  fuel_type_electric  \\\n",
       "193712               0                0                   0   \n",
       "269117               1                0                   0   \n",
       "86891                0                0                   0   \n",
       "\n",
       "        fuel_type_gasoline  fuel_type_hybrid  fuel_type_lpg  fuel_type_other  \\\n",
       "193712                   1                 0              0                0   \n",
       "269117                   1                 0              0                0   \n",
       "86891                    0                 0              0                0   \n",
       "\n",
       "        fuel_type_petrol  fuel_type_unknown  not_repaired_yes  \n",
       "193712                 0                  0                 0  \n",
       "269117                 0                  0                 0  \n",
       "86891                  1                  0                 0  \n",
       "\n",
       "[3 rows x 22 columns]"
      ]
     },
     "execution_count": 116,
     "metadata": {},
     "output_type": "execute_result"
    }
   ],
   "source": [
    "# ОНЕ без ['model', 'brand']\n",
    "X_train = pd.get_dummies(\n",
    "    X_train.drop(['model', 'brand'], axis=1), drop_first=True)\n",
    "\n",
    "X_train.head(3)"
   ]
  },
  {
   "cell_type": "code",
   "execution_count": 117,
   "metadata": {},
   "outputs": [
    {
     "data": {
      "text/html": [
       "<div>\n",
       "<style scoped>\n",
       "    .dataframe tbody tr th:only-of-type {\n",
       "        vertical-align: middle;\n",
       "    }\n",
       "\n",
       "    .dataframe tbody tr th {\n",
       "        vertical-align: top;\n",
       "    }\n",
       "\n",
       "    .dataframe thead th {\n",
       "        text-align: right;\n",
       "    }\n",
       "</style>\n",
       "<table border=\"1\" class=\"dataframe\">\n",
       "  <thead>\n",
       "    <tr style=\"text-align: right;\">\n",
       "      <th></th>\n",
       "      <th>registration_year</th>\n",
       "      <th>power</th>\n",
       "      <th>kilometer</th>\n",
       "      <th>registration_month</th>\n",
       "      <th>vehicle_type_convertible</th>\n",
       "      <th>vehicle_type_coupe</th>\n",
       "      <th>vehicle_type_other</th>\n",
       "      <th>vehicle_type_sedan</th>\n",
       "      <th>vehicle_type_small</th>\n",
       "      <th>vehicle_type_suv</th>\n",
       "      <th>...</th>\n",
       "      <th>fuel_type_electric</th>\n",
       "      <th>fuel_type_gasoline</th>\n",
       "      <th>fuel_type_hybrid</th>\n",
       "      <th>fuel_type_lpg</th>\n",
       "      <th>fuel_type_other</th>\n",
       "      <th>fuel_type_petrol</th>\n",
       "      <th>fuel_type_unknown</th>\n",
       "      <th>not_repaired_yes</th>\n",
       "      <th>model</th>\n",
       "      <th>brand</th>\n",
       "    </tr>\n",
       "  </thead>\n",
       "  <tbody>\n",
       "    <tr>\n",
       "      <th>193712</th>\n",
       "      <td>2005</td>\n",
       "      <td>272</td>\n",
       "      <td>150000</td>\n",
       "      <td>1</td>\n",
       "      <td>0</td>\n",
       "      <td>0</td>\n",
       "      <td>0</td>\n",
       "      <td>0</td>\n",
       "      <td>0</td>\n",
       "      <td>0</td>\n",
       "      <td>...</td>\n",
       "      <td>0</td>\n",
       "      <td>1</td>\n",
       "      <td>0</td>\n",
       "      <td>0</td>\n",
       "      <td>0</td>\n",
       "      <td>0</td>\n",
       "      <td>0</td>\n",
       "      <td>0</td>\n",
       "      <td>15.0</td>\n",
       "      <td>2.0</td>\n",
       "    </tr>\n",
       "    <tr>\n",
       "      <th>269117</th>\n",
       "      <td>2011</td>\n",
       "      <td>109</td>\n",
       "      <td>80000</td>\n",
       "      <td>11</td>\n",
       "      <td>0</td>\n",
       "      <td>0</td>\n",
       "      <td>0</td>\n",
       "      <td>0</td>\n",
       "      <td>0</td>\n",
       "      <td>0</td>\n",
       "      <td>...</td>\n",
       "      <td>0</td>\n",
       "      <td>1</td>\n",
       "      <td>0</td>\n",
       "      <td>0</td>\n",
       "      <td>0</td>\n",
       "      <td>0</td>\n",
       "      <td>0</td>\n",
       "      <td>0</td>\n",
       "      <td>47.0</td>\n",
       "      <td>20.0</td>\n",
       "    </tr>\n",
       "    <tr>\n",
       "      <th>86891</th>\n",
       "      <td>1998</td>\n",
       "      <td>130</td>\n",
       "      <td>150000</td>\n",
       "      <td>4</td>\n",
       "      <td>0</td>\n",
       "      <td>0</td>\n",
       "      <td>0</td>\n",
       "      <td>1</td>\n",
       "      <td>0</td>\n",
       "      <td>0</td>\n",
       "      <td>...</td>\n",
       "      <td>0</td>\n",
       "      <td>0</td>\n",
       "      <td>0</td>\n",
       "      <td>0</td>\n",
       "      <td>0</td>\n",
       "      <td>1</td>\n",
       "      <td>0</td>\n",
       "      <td>0</td>\n",
       "      <td>174.0</td>\n",
       "      <td>23.0</td>\n",
       "    </tr>\n",
       "  </tbody>\n",
       "</table>\n",
       "<p>3 rows × 24 columns</p>\n",
       "</div>"
      ],
      "text/plain": [
       "        registration_year  power  kilometer  registration_month  \\\n",
       "193712               2005    272     150000                   1   \n",
       "269117               2011    109      80000                  11   \n",
       "86891                1998    130     150000                   4   \n",
       "\n",
       "        vehicle_type_convertible  vehicle_type_coupe  vehicle_type_other  \\\n",
       "193712                         0                   0                   0   \n",
       "269117                         0                   0                   0   \n",
       "86891                          0                   0                   0   \n",
       "\n",
       "        vehicle_type_sedan  vehicle_type_small  vehicle_type_suv  ...  \\\n",
       "193712                   0                   0                 0  ...   \n",
       "269117                   0                   0                 0  ...   \n",
       "86891                    1                   0                 0  ...   \n",
       "\n",
       "        fuel_type_electric  fuel_type_gasoline  fuel_type_hybrid  \\\n",
       "193712                   0                   1                 0   \n",
       "269117                   0                   1                 0   \n",
       "86891                    0                   0                 0   \n",
       "\n",
       "        fuel_type_lpg  fuel_type_other  fuel_type_petrol  fuel_type_unknown  \\\n",
       "193712              0                0                 0                  0   \n",
       "269117              0                0                 0                  0   \n",
       "86891               0                0                 1                  0   \n",
       "\n",
       "        not_repaired_yes  model  brand  \n",
       "193712                 0   15.0    2.0  \n",
       "269117                 0   47.0   20.0  \n",
       "86891                  0  174.0   23.0  \n",
       "\n",
       "[3 rows x 24 columns]"
      ]
     },
     "execution_count": 117,
     "metadata": {},
     "output_type": "execute_result"
    }
   ],
   "source": [
    "# Добавляем обратно ['model', 'brand']\n",
    "X_train[['model', 'brand']] = (\n",
    "    data_dict['data_down'][0][['model', 'brand']]\n",
    "    )\n",
    "X_train.head(3)"
   ]
  },
  {
   "cell_type": "markdown",
   "metadata": {},
   "source": [
    "Под конец масштабирование."
   ]
  },
  {
   "cell_type": "code",
   "execution_count": 118,
   "metadata": {},
   "outputs": [
    {
     "data": {
      "text/html": [
       "<div>\n",
       "<style scoped>\n",
       "    .dataframe tbody tr th:only-of-type {\n",
       "        vertical-align: middle;\n",
       "    }\n",
       "\n",
       "    .dataframe tbody tr th {\n",
       "        vertical-align: top;\n",
       "    }\n",
       "\n",
       "    .dataframe thead th {\n",
       "        text-align: right;\n",
       "    }\n",
       "</style>\n",
       "<table border=\"1\" class=\"dataframe\">\n",
       "  <thead>\n",
       "    <tr style=\"text-align: right;\">\n",
       "      <th></th>\n",
       "      <th>registration_year</th>\n",
       "      <th>power</th>\n",
       "      <th>kilometer</th>\n",
       "      <th>registration_month</th>\n",
       "      <th>vehicle_type_convertible</th>\n",
       "      <th>vehicle_type_coupe</th>\n",
       "      <th>vehicle_type_other</th>\n",
       "      <th>vehicle_type_sedan</th>\n",
       "      <th>vehicle_type_small</th>\n",
       "      <th>vehicle_type_suv</th>\n",
       "      <th>...</th>\n",
       "      <th>fuel_type_electric</th>\n",
       "      <th>fuel_type_gasoline</th>\n",
       "      <th>fuel_type_hybrid</th>\n",
       "      <th>fuel_type_lpg</th>\n",
       "      <th>fuel_type_other</th>\n",
       "      <th>fuel_type_petrol</th>\n",
       "      <th>fuel_type_unknown</th>\n",
       "      <th>not_repaired_yes</th>\n",
       "      <th>model</th>\n",
       "      <th>brand</th>\n",
       "    </tr>\n",
       "  </thead>\n",
       "  <tbody>\n",
       "    <tr>\n",
       "      <th>193712</th>\n",
       "      <td>0.310706</td>\n",
       "      <td>2.863893</td>\n",
       "      <td>0.596214</td>\n",
       "      <td>-1.414866</td>\n",
       "      <td>-0.263659</td>\n",
       "      <td>-0.229037</td>\n",
       "      <td>-0.089765</td>\n",
       "      <td>-0.629466</td>\n",
       "      <td>-0.544134</td>\n",
       "      <td>-0.19891</td>\n",
       "      <td>...</td>\n",
       "      <td>-0.010141</td>\n",
       "      <td>1.507333</td>\n",
       "      <td>-0.026043</td>\n",
       "      <td>-0.128065</td>\n",
       "      <td>-0.013503</td>\n",
       "      <td>-1.298257</td>\n",
       "      <td>-0.224606</td>\n",
       "      <td>-0.310677</td>\n",
       "      <td>-1.323669</td>\n",
       "      <td>-1.392070</td>\n",
       "    </tr>\n",
       "    <tr>\n",
       "      <th>269117</th>\n",
       "      <td>1.264194</td>\n",
       "      <td>-0.247581</td>\n",
       "      <td>-1.312760</td>\n",
       "      <td>1.389454</td>\n",
       "      <td>-0.263659</td>\n",
       "      <td>-0.229037</td>\n",
       "      <td>-0.089765</td>\n",
       "      <td>-0.629466</td>\n",
       "      <td>-0.544134</td>\n",
       "      <td>-0.19891</td>\n",
       "      <td>...</td>\n",
       "      <td>-0.010141</td>\n",
       "      <td>1.507333</td>\n",
       "      <td>-0.026043</td>\n",
       "      <td>-0.128065</td>\n",
       "      <td>-0.013503</td>\n",
       "      <td>-1.298257</td>\n",
       "      <td>-0.224606</td>\n",
       "      <td>-0.310677</td>\n",
       "      <td>-0.887356</td>\n",
       "      <td>-0.050542</td>\n",
       "    </tr>\n",
       "    <tr>\n",
       "      <th>86891</th>\n",
       "      <td>-0.801696</td>\n",
       "      <td>0.153283</td>\n",
       "      <td>0.596214</td>\n",
       "      <td>-0.573570</td>\n",
       "      <td>-0.263659</td>\n",
       "      <td>-0.229037</td>\n",
       "      <td>-0.089765</td>\n",
       "      <td>1.588648</td>\n",
       "      <td>-0.544134</td>\n",
       "      <td>-0.19891</td>\n",
       "      <td>...</td>\n",
       "      <td>-0.010141</td>\n",
       "      <td>-0.663424</td>\n",
       "      <td>-0.026043</td>\n",
       "      <td>-0.128065</td>\n",
       "      <td>-0.013503</td>\n",
       "      <td>0.770264</td>\n",
       "      <td>-0.224606</td>\n",
       "      <td>-0.310677</td>\n",
       "      <td>0.844260</td>\n",
       "      <td>0.173046</td>\n",
       "    </tr>\n",
       "  </tbody>\n",
       "</table>\n",
       "<p>3 rows × 24 columns</p>\n",
       "</div>"
      ],
      "text/plain": [
       "        registration_year     power  kilometer  registration_month  \\\n",
       "193712           0.310706  2.863893   0.596214           -1.414866   \n",
       "269117           1.264194 -0.247581  -1.312760            1.389454   \n",
       "86891           -0.801696  0.153283   0.596214           -0.573570   \n",
       "\n",
       "        vehicle_type_convertible  vehicle_type_coupe  vehicle_type_other  \\\n",
       "193712                 -0.263659           -0.229037           -0.089765   \n",
       "269117                 -0.263659           -0.229037           -0.089765   \n",
       "86891                  -0.263659           -0.229037           -0.089765   \n",
       "\n",
       "        vehicle_type_sedan  vehicle_type_small  vehicle_type_suv  ...  \\\n",
       "193712           -0.629466           -0.544134          -0.19891  ...   \n",
       "269117           -0.629466           -0.544134          -0.19891  ...   \n",
       "86891             1.588648           -0.544134          -0.19891  ...   \n",
       "\n",
       "        fuel_type_electric  fuel_type_gasoline  fuel_type_hybrid  \\\n",
       "193712           -0.010141            1.507333         -0.026043   \n",
       "269117           -0.010141            1.507333         -0.026043   \n",
       "86891            -0.010141           -0.663424         -0.026043   \n",
       "\n",
       "        fuel_type_lpg  fuel_type_other  fuel_type_petrol  fuel_type_unknown  \\\n",
       "193712      -0.128065        -0.013503         -1.298257          -0.224606   \n",
       "269117      -0.128065        -0.013503         -1.298257          -0.224606   \n",
       "86891       -0.128065        -0.013503          0.770264          -0.224606   \n",
       "\n",
       "        not_repaired_yes     model     brand  \n",
       "193712         -0.310677 -1.323669 -1.392070  \n",
       "269117         -0.310677 -0.887356 -0.050542  \n",
       "86891          -0.310677  0.844260  0.173046  \n",
       "\n",
       "[3 rows x 24 columns]"
      ]
     },
     "execution_count": 118,
     "metadata": {},
     "output_type": "execute_result"
    }
   ],
   "source": [
    "numeric = list(X_train.columns)\n",
    "\n",
    "scaler = StandardScaler()\n",
    "scaler.fit(X_train[numeric])\n",
    "\n",
    "X_train[numeric] = scaler.transform(X_train[numeric])\n",
    "\n",
    "X_train.head(3)"
   ]
  },
  {
   "cell_type": "markdown",
   "metadata": {},
   "source": [
    "### Функции"
   ]
  },
  {
   "cell_type": "markdown",
   "metadata": {},
   "source": [
    "После проверки создадим функции."
   ]
  },
  {
   "cell_type": "code",
   "execution_count": 119,
   "metadata": {},
   "outputs": [],
   "source": [
    "# MSE и RMSE константной модели\n",
    "def y_constant(y_train):\n",
    "\n",
    "    global constant\n",
    "\n",
    "    y_constant = pd.Series(y_train.mean(), index=y_train.index)\n",
    "    constant = mean_squared_error(y_train, y_constant) \n",
    "    return (constant ** 0.5).round(2)"
   ]
  },
  {
   "cell_type": "code",
   "execution_count": 120,
   "metadata": {},
   "outputs": [],
   "source": [
    "# Предобработка данных\n",
    "def preprocessing(data_dict, key):\n",
    "\n",
    "    # Получение train и test по позиционным аргументам\n",
    "    X_train = data_dict[key][0].drop('price', axis=1)\n",
    "    y_train = data_dict[key][0]['price']\n",
    "\n",
    "    X_test = data_dict[key][1].drop('price', axis=1)\n",
    "    y_test = data_dict[key][1]['price']\n",
    "\n",
    "\n",
    "    # OHE кодирование категориальных признаков\n",
    "    # Поскольку в этих признаках мало вариативности, здесь \n",
    "    # можно по отдельности применить, в отличии от ['model', 'brand']\n",
    "    X_train = pd.get_dummies(\n",
    "        X_train.drop(['model', 'brand'], axis=1), drop_first=True)\n",
    "        \n",
    "    X_test = pd.get_dummies(\n",
    "        X_test.drop(['model', 'brand'], axis=1), drop_first=True)\n",
    "\n",
    "    X_train[['model', 'brand']] = data_dict[key][0][['model', 'brand']]\n",
    "    X_test[['model', 'brand']] = data_dict[key][1][['model', 'brand']]\n",
    "\n",
    "\n",
    "    #encoder = OrdinalEncoder()\n",
    "\n",
    "    #X_train.loc[:, ['model', 'brand']] = encoder.fit_transform(\n",
    "    #    X_train[['model', 'brand']])\n",
    "    \n",
    "    #X_test.loc[:, ['model', 'brand']] = encoder.fit_transform(\n",
    "    #    X_test[['model', 'brand']])\n",
    "\n",
    "    # Применение StandardScaler для масштабирования\n",
    "    numeric = list(X_train.columns)\n",
    "    scaler = StandardScaler()\n",
    "    scaler.fit(X_train[numeric])\n",
    "    X_train[numeric] = scaler.transform(X_train[numeric])\n",
    "    X_test[numeric] = scaler.transform(X_test[numeric])\n",
    "\n",
    "    return X_train, y_train, X_test, y_test"
   ]
  },
  {
   "cell_type": "markdown",
   "metadata": {},
   "source": [
    "Проверим работоспособность."
   ]
  },
  {
   "cell_type": "code",
   "execution_count": 121,
   "metadata": {},
   "outputs": [
    {
     "data": {
      "text/plain": [
       "dict_keys(['data_down', 'data_down_cut'])"
      ]
     },
     "execution_count": 121,
     "metadata": {},
     "output_type": "execute_result"
    }
   ],
   "source": [
    "data_dict.keys()"
   ]
  },
  {
   "cell_type": "code",
   "execution_count": 122,
   "metadata": {},
   "outputs": [
    {
     "name": "stdout",
     "output_type": "stream",
     "text": [
      "CPU times: total: 391 ms\n",
      "Wall time: 399 ms\n"
     ]
    }
   ],
   "source": [
    "%%time\n",
    "\n",
    "# Создадим список ключей для нашего словаря с выборками\n",
    "key = ['data_down', 'data_down_cut']\n",
    "\n",
    "X_train, y_train, X_test, y_test = preprocessing(\n",
    "    data_dict, \n",
    "    key[1])"
   ]
  },
  {
   "cell_type": "code",
   "execution_count": 123,
   "metadata": {},
   "outputs": [
    {
     "data": {
      "text/plain": [
       "4599.48"
      ]
     },
     "execution_count": 123,
     "metadata": {},
     "output_type": "execute_result"
    }
   ],
   "source": [
    "y_constant(y_train)"
   ]
  },
  {
   "cell_type": "code",
   "execution_count": 124,
   "metadata": {},
   "outputs": [
    {
     "data": {
      "text/plain": [
       "21155232.07793134"
      ]
     },
     "execution_count": 124,
     "metadata": {},
     "output_type": "execute_result"
    }
   ],
   "source": [
    "constant"
   ]
  },
  {
   "cell_type": "code",
   "execution_count": 125,
   "metadata": {},
   "outputs": [
    {
     "data": {
      "text/plain": [
       "(213930, 23)"
      ]
     },
     "metadata": {},
     "output_type": "display_data"
    },
    {
     "data": {
      "text/plain": [
       "(213930,)"
      ]
     },
     "metadata": {},
     "output_type": "display_data"
    },
    {
     "data": {
      "text/plain": [
       "(88593, 23)"
      ]
     },
     "metadata": {},
     "output_type": "display_data"
    },
    {
     "data": {
      "text/plain": [
       "(88593,)"
      ]
     },
     "metadata": {},
     "output_type": "display_data"
    }
   ],
   "source": [
    "display(X_train.shape)\n",
    "display(y_train.shape)\n",
    "display(X_test.shape)\n",
    "display(y_test.shape)"
   ]
  },
  {
   "cell_type": "code",
   "execution_count": 126,
   "metadata": {},
   "outputs": [],
   "source": [
    "# датасет для финального сравнения, куда будем записывать скоры\n",
    "# всех наших моделей на всех выборках\n",
    "scores = pd.DataFrame(\n",
    "    columns=['RMSE train', 'RMSE test', 'constant RMSE'])"
   ]
  },
  {
   "cell_type": "code",
   "execution_count": 127,
   "metadata": {},
   "outputs": [
    {
     "data": {
      "text/plain": [
       "['data_down', 'data_down_cut']"
      ]
     },
     "execution_count": 127,
     "metadata": {},
     "output_type": "execute_result"
    }
   ],
   "source": [
    "# Ключи\n",
    "key"
   ]
  },
  {
   "cell_type": "markdown",
   "metadata": {},
   "source": [
    "### RandomForestRegressor"
   ]
  },
  {
   "cell_type": "code",
   "execution_count": 128,
   "metadata": {},
   "outputs": [],
   "source": [
    "# функция для RandomForestRegressor\n",
    "\n",
    "def rfr_model(data_dict, key):\n",
    "\n",
    "    # используем для индексирования датасета финального сравнения\n",
    "    name = 'RandomForestRegressor'\n",
    "\n",
    "    # Предобработка данных\n",
    "    X_train, y_train, X_test, y_test = preprocessing(\n",
    "        data_dict, \n",
    "        key)\n",
    "\n",
    "    # RMSE константной модели для сравнения эффективности модели\n",
    "    rmse_const = y_constant(y_test)\n",
    "\n",
    "    # начало самого цикла перебора параметров для модели\n",
    "    best_rfr = None\n",
    "    best_result_rfr = constant * (-1)\n",
    "    best_depth = 0\n",
    "    best_estimator = 0\n",
    "    row_rfr = []\n",
    "\n",
    "    for depth in tqdm(range(15, 28, 6)):\n",
    "        for est in tqdm(range(80, 141, 30)):\n",
    "                \n",
    "            rfr = RandomForestRegressor(\n",
    "                random_state=13, n_estimators=est, max_depth=depth)\n",
    "            cv = RepeatedKFold(n_splits=5, n_repeats=2, random_state=13)\n",
    "            scores_rfr = cross_val_score(\n",
    "                rfr, X_train, y_train, cv=cv, \n",
    "                scoring='neg_mean_squared_error', \n",
    "                error_score='raise', n_jobs=-1)\n",
    "            result = pd.Series(scores_rfr).mean()\n",
    "            row_rfr.append(result)\n",
    "            if result > best_result_rfr:\n",
    "                best_rfr = rfr\n",
    "                best_result_rfr = result\n",
    "                best_depth = depth\n",
    "                best_estimator = est\n",
    "\n",
    "    # Дополнительно дублируем, чтобы простейшим способом \n",
    "    # понять на графике скоры в циклах модели\n",
    "    best_rfr.fit(X_train, y_train)\n",
    "\n",
    "\n",
    "    # Вывод всех результатов     \n",
    "    print('\\n')\n",
    "    print(\"Random Forest Regressor \", key, '\\n')   \n",
    "    plt.plot(row_rfr);\n",
    "    plt.title('MSE')\n",
    "    plt.show()\n",
    "\n",
    "    rmse_train = mean_squared_error(\n",
    "        y_train, best_rfr.predict(X_train)) ** 0.5\n",
    "\n",
    "    rmse_test = mean_squared_error(\n",
    "        y_test, best_rfr.predict(X_test)) ** 0.5\n",
    "\n",
    "    print('\\n')\n",
    "    print(\"Лучший score на кросс валидации: \", (best_result_rfr * (-1)))\n",
    "    print(\"depth =\", best_depth, \": \", '\\n')\n",
    "    print(\"est =\", best_estimator, \": \", '\\n')\n",
    "    print(\"Итоговое RMSE train = \", rmse_train, '\\n')\n",
    "    print(\"constant RMSE test= \", rmse_const, '\\n')\n",
    "    print(\"Итоговое RMSE test = \", rmse_test, '\\n')\n",
    "\n",
    "\n",
    "    # запись в финальный датасет скоров\n",
    "    scores.loc[(\n",
    "        key + ' + ' + name\n",
    "        ), 'RMSE train'] = rmse_train.round(2)\n",
    "    scores.loc[(\n",
    "        key + ' + ' + name\n",
    "        ), 'RMSE test'] = rmse_test.round(2)\n",
    "    scores.loc[(\n",
    "        key + ' + ' + name\n",
    "        ), 'constant RMSE'] = rmse_const\n"
   ]
  },
  {
   "cell_type": "code",
   "execution_count": 129,
   "metadata": {},
   "outputs": [
    {
     "name": "stderr",
     "output_type": "stream",
     "text": [
      "  0%|          | 0/2 [00:00<?, ?it/s]\n",
      "\u001b[A\n",
      "\u001b[A\n",
      "\u001b[A\n",
      "100%|██████████| 3/3 [12:19<00:00, 246.54s/it]\n",
      "\n",
      "\u001b[A\n",
      "\u001b[A\n",
      "\u001b[A\n",
      "100%|██████████| 3/3 [13:19<00:00, 266.41s/it]\n",
      "\n",
      "\u001b[A\n",
      "\u001b[A\n",
      "\u001b[A\n",
      "100%|██████████| 3/3 [12:44<00:00, 254.76s/it]\n",
      "100%|██████████| 3/3 [38:23<00:00, 767.72s/it]\n"
     ]
    },
    {
     "name": "stdout",
     "output_type": "stream",
     "text": [
      "\n",
      "\n",
      "Random Forest Regressor  data_down \n",
      "\n"
     ]
    },
    {
     "data": {
      "image/png": "[encoded data removed]",
      "text/plain": [
       "<Figure size 432x288 with 1 Axes>"
      ]
     },
     "metadata": {
      "needs_background": "light"
     },
     "output_type": "display_data"
    },
    {
     "name": "stderr",
     "output_type": "stream",
     "text": [
      " 50%|█████     | 1/2 [40:10<40:10, 2410.23s/it]"
     ]
    },
    {
     "name": "stdout",
     "output_type": "stream",
     "text": [
      "\n",
      "\n",
      "Лучший score на кросс валидации:  2453116.5354460087\n",
      "depth = 21 :  \n",
      "\n",
      "est = 140 :  \n",
      "\n",
      "Итоговое RMSE train =  857.0531776845875 \n",
      "\n",
      "constant RMSE test=  4518.19 \n",
      "\n",
      "Итоговое RMSE test =  1618.1114978549078 \n",
      "\n"
     ]
    },
    {
     "name": "stderr",
     "output_type": "stream",
     "text": [
      "\n",
      "\u001b[A\n",
      "\u001b[A\n",
      "\u001b[A\n",
      "100%|██████████| 3/3 [09:37<00:00, 192.42s/it]\n",
      "\n",
      "\u001b[A\n",
      "\u001b[A\n",
      "\u001b[A\n",
      "100%|██████████| 3/3 [10:09<00:00, 203.30s/it]\n",
      "\n",
      "\u001b[A\n",
      "\u001b[A\n",
      "\u001b[A\n",
      "100%|██████████| 3/3 [10:37<00:00, 212.55s/it]\n",
      "100%|██████████| 3/3 [30:24<00:00, 608.28s/it]\n"
     ]
    },
    {
     "name": "stdout",
     "output_type": "stream",
     "text": [
      "\n",
      "\n",
      "Random Forest Regressor  data_down_cut \n",
      "\n"
     ]
    },
    {
     "data": {
      "image/png": "[encoded data removed]",
      "text/plain": [
       "<Figure size 432x288 with 1 Axes>"
      ]
     },
     "metadata": {
      "needs_background": "light"
     },
     "output_type": "display_data"
    },
    {
     "name": "stderr",
     "output_type": "stream",
     "text": [
      "100%|██████████| 2/2 [1:12:15<00:00, 2167.82s/it]"
     ]
    },
    {
     "name": "stdout",
     "output_type": "stream",
     "text": [
      "\n",
      "\n",
      "Лучший score на кросс валидации:  2475522.062257834\n",
      "depth = 21 :  \n",
      "\n",
      "est = 140 :  \n",
      "\n",
      "Итоговое RMSE train =  1017.2082310790166 \n",
      "\n",
      "constant RMSE test=  4518.19 \n",
      "\n",
      "Итоговое RMSE test =  1673.402327012258 \n",
      "\n",
      "CPU times: total: 4min 38s\n",
      "Wall time: 1h 12min 15s\n"
     ]
    },
    {
     "name": "stderr",
     "output_type": "stream",
     "text": [
      "\n"
     ]
    }
   ],
   "source": [
    "%%time\n",
    "\n",
    "# цикл для модели по всем выборкам\n",
    "for item in tqdm(key):\n",
    "    rfr_model(data_dict, item)"
   ]
  },
  {
   "cell_type": "markdown",
   "metadata": {},
   "source": [
    "### LightGBM"
   ]
  },
  {
   "cell_type": "code",
   "execution_count": 130,
   "metadata": {},
   "outputs": [],
   "source": [
    "# Функция для модели LightGBM\n",
    "def lgb_model(data_dict, key):\n",
    "    \n",
    "    # используем для индексирования датасета финального сравнения\n",
    "    name = 'LightGBM'\n",
    "\n",
    "    # Предобработка данных\n",
    "    X_train, y_train, X_test, y_test = preprocessing(\n",
    "        data_dict, \n",
    "        key)\n",
    "\n",
    "    # RMSE константной модели для сравнения эффективности модели\n",
    "    rmse_const = y_constant(y_test)\n",
    "\n",
    "    # начало самого цикла перебора параметров для модели\n",
    "    best_lgb = None\n",
    "    best_result_lgb = constant\n",
    "    best_iter = 0\n",
    "    best_nleaves = 0\n",
    "    best_depth = 0\n",
    "    row_lgb = []\n",
    "\n",
    "    for depth in tqdm(range(11, 21, 3)):\n",
    "        for leave in tqdm(range(12, 33, 5)):\n",
    "\n",
    "            lgb_train = lgb.Dataset(X_train, y_train)\n",
    "\n",
    "            params = {\n",
    "                'boosting_type': 'gbdt',\n",
    "                'objective': 'regression',\n",
    "                'metric': 'mse',\n",
    "                'max_depth': depth,\n",
    "                'num_leaves': leave,\n",
    "                'learning_rate': 0.4,\n",
    "                'feature_fraction': 0.9,\n",
    "                'bagging_fraction': 0.8,\n",
    "                'bagging_freq': 5,\n",
    "                'verbose': -1,\n",
    "                'force_col_wise': True,\n",
    "                'random_seed': 13,\n",
    "                'device': 'cpu'\n",
    "            }\n",
    "\n",
    "            callbacks = [\n",
    "                lgb.early_stopping(stopping_rounds=200, verbose=0),\n",
    "                lgb.log_evaluation(period=0)]\n",
    "\n",
    "            gbm = lgb.cv(params,\n",
    "                lgb_train,\n",
    "                num_boost_round=1000,\n",
    "                metrics='mse',\n",
    "                return_cvbooster=True,\n",
    "                callbacks=callbacks,\n",
    "                stratified = False\n",
    "                )\n",
    "            \n",
    "            result = gbm['l2-mean'][\n",
    "                    (gbm['cvbooster'].best_iteration - 1)]\n",
    "\n",
    "            row_lgb.append(result)\n",
    "\n",
    "            if result < best_result_lgb:\n",
    "                best_lgb = gbm['cvbooster']\n",
    "                best_result_lgb = result\n",
    "                best_iter = gbm['cvbooster'].best_iteration\n",
    "                best_nleaves = leave\n",
    "                best_depth = depth\n",
    "\n",
    "        row_lgb.append(result)\n",
    "\n",
    "\n",
    "    # Вывод всех результатов\n",
    "    print('\\n')\n",
    "    print(\"LightGBM \", key, '\\n')   \n",
    "    plt.plot(row_lgb);\n",
    "    plt.title('MSE')\n",
    "    plt.show()\n",
    "\n",
    "    y_pred_train = best_lgb.predict(\n",
    "        X_train, num_iteration=best_lgb.best_iteration)\n",
    "\n",
    "    y_pred_test = best_lgb.predict(\n",
    "        X_test, num_iteration=best_lgb.best_iteration)\n",
    "\n",
    "    rmse_train = mean_squared_error(\n",
    "        y_train, np.mean(y_pred_train, axis=0)) ** 0.5\n",
    "        \n",
    "    rmse_test = mean_squared_error(\n",
    "        y_test, np.mean(y_pred_test, axis=0)) ** 0.5\n",
    "\n",
    "    print('\\n')\n",
    "    print(\"Лучший score на кросс валидации: \", (best_result_lgb), '\\n')\n",
    "    print(f'Best iter: {best_iter}', '\\n')\n",
    "    print(\"best_depth =\", best_depth, '\\n')\n",
    "    print(\"num_leaves =\", best_nleaves, '\\n')\n",
    "    print(\"Итоговое RMSE train = \", rmse_train, '\\n')\n",
    "    print(\"constant RMSE test = \", rmse_const, '\\n')\n",
    "    print(\"Итоговое RMSE test = \", rmse_test, '\\n')\n",
    "\n",
    "\n",
    "    # запись в финальный датасет скоров\n",
    "    scores.loc[(\n",
    "        key + ' + ' + name\n",
    "        ), 'RMSE train'] = rmse_train.round(2)\n",
    "    scores.loc[(\n",
    "        key + ' + ' + name\n",
    "        ), 'RMSE test'] = rmse_test.round(2)\n",
    "    scores.loc[(\n",
    "        key + ' + ' + name\n",
    "        ), 'constant RMSE'] = rmse_const"
   ]
  },
  {
   "cell_type": "code",
   "execution_count": 131,
   "metadata": {},
   "outputs": [
    {
     "name": "stderr",
     "output_type": "stream",
     "text": [
      "  0%|          | 0/2 [00:00<?, ?it/s]\n",
      "\u001b[A\n",
      "\u001b[A\n",
      "\u001b[A\n",
      "\u001b[A\n",
      "\u001b[A\n",
      "100%|██████████| 5/5 [01:19<00:00, 15.84s/it]\n",
      "\n",
      "\u001b[A\n",
      "\u001b[A\n",
      "\u001b[A\n",
      "\u001b[A\n",
      "\u001b[A\n",
      "100%|██████████| 5/5 [01:16<00:00, 15.20s/it]\n",
      "\n",
      "\u001b[A\n",
      "\u001b[A\n",
      "\u001b[A\n",
      "\u001b[A\n",
      "\u001b[A\n",
      "100%|██████████| 5/5 [01:19<00:00, 15.88s/it]\n",
      "\n",
      "\u001b[A\n",
      "\u001b[A\n",
      "\u001b[A\n",
      "\u001b[A\n",
      "\u001b[A\n",
      "100%|██████████| 5/5 [01:18<00:00, 15.63s/it]\n",
      "100%|██████████| 4/4 [05:12<00:00, 78.18s/it]"
     ]
    },
    {
     "name": "stdout",
     "output_type": "stream",
     "text": [
      "\n",
      "\n",
      "LightGBM  data_down \n",
      "\n"
     ]
    },
    {
     "name": "stderr",
     "output_type": "stream",
     "text": [
      "\n"
     ]
    },
    {
     "data": {
      "image/png": "[encoded data removed]",
      "text/plain": [
       "<Figure size 432x288 with 1 Axes>"
      ]
     },
     "metadata": {
      "needs_background": "light"
     },
     "output_type": "display_data"
    },
    {
     "name": "stderr",
     "output_type": "stream",
     "text": [
      " 50%|█████     | 1/2 [05:29<05:29, 329.42s/it]"
     ]
    },
    {
     "name": "stdout",
     "output_type": "stream",
     "text": [
      "\n",
      "\n",
      "Лучший score на кросс валидации:  2436390.613678393 \n",
      "\n",
      "Best iter: 865 \n",
      "\n",
      "best_depth = 11 \n",
      "\n",
      "num_leaves = 27 \n",
      "\n",
      "Итоговое RMSE train =  1221.5694268441682 \n",
      "\n",
      "constant RMSE test =  4518.19 \n",
      "\n",
      "Итоговое RMSE test =  1663.0939714047447 \n",
      "\n"
     ]
    },
    {
     "name": "stderr",
     "output_type": "stream",
     "text": [
      "\n",
      "\u001b[A\n",
      "\u001b[A\n",
      "\u001b[A\n",
      "\u001b[A\n",
      "\u001b[A\n",
      "100%|██████████| 5/5 [01:25<00:00, 17.11s/it]\n",
      "\n",
      "\u001b[A\n",
      "\u001b[A\n",
      "\u001b[A\n",
      "\u001b[A\n",
      "\u001b[A\n",
      "100%|██████████| 5/5 [01:25<00:00, 17.10s/it]\n",
      "\n",
      "\u001b[A\n",
      "\u001b[A\n",
      "\u001b[A\n",
      "\u001b[A\n",
      "\u001b[A\n",
      "100%|██████████| 5/5 [01:37<00:00, 19.42s/it]\n",
      "\n",
      "\u001b[A\n",
      "\u001b[A\n",
      "\u001b[A\n",
      "\u001b[A\n",
      "\u001b[A\n",
      "100%|██████████| 5/5 [01:40<00:00, 20.09s/it]\n",
      "100%|██████████| 4/4 [06:08<00:00, 92.16s/it]"
     ]
    },
    {
     "name": "stdout",
     "output_type": "stream",
     "text": [
      "\n",
      "\n",
      "LightGBM  data_down_cut \n",
      "\n"
     ]
    },
    {
     "name": "stderr",
     "output_type": "stream",
     "text": [
      "\n"
     ]
    },
    {
     "data": {
      "image/png": "[encoded data removed]",
      "text/plain": [
       "<Figure size 432x288 with 1 Axes>"
      ]
     },
     "metadata": {
      "needs_background": "light"
     },
     "output_type": "display_data"
    },
    {
     "name": "stderr",
     "output_type": "stream",
     "text": [
      "100%|██████████| 2/2 [11:49<00:00, 354.86s/it]"
     ]
    },
    {
     "name": "stdout",
     "output_type": "stream",
     "text": [
      "\n",
      "\n",
      "Лучший score на кросс валидации:  2414572.357507149 \n",
      "\n",
      "Best iter: 783 \n",
      "\n",
      "best_depth = 14 \n",
      "\n",
      "num_leaves = 32 \n",
      "\n",
      "Итоговое RMSE train =  1256.9308187430925 \n",
      "\n",
      "constant RMSE test =  4518.19 \n",
      "\n",
      "Итоговое RMSE test =  1681.959493211539 \n",
      "\n",
      "CPU times: total: 2h 15min 48s\n",
      "Wall time: 11min 49s\n"
     ]
    },
    {
     "name": "stderr",
     "output_type": "stream",
     "text": [
      "\n"
     ]
    }
   ],
   "source": [
    "%%time\n",
    "\n",
    "for item in tqdm(key):\n",
    "    lgb_model(data_dict, item)"
   ]
  },
  {
   "cell_type": "markdown",
   "metadata": {},
   "source": [
    "### CatBoost"
   ]
  },
  {
   "cell_type": "code",
   "execution_count": 132,
   "metadata": {},
   "outputs": [],
   "source": [
    "# функция для CatBoost\n",
    "def cat_model(data_dict, key):\n",
    "\n",
    "    # используем для индексирования датасета финального сравнения\n",
    "    name = 'CatBoost'\n",
    "\n",
    "    # Предобработка данных\n",
    "    X_train, y_train, X_test, y_test = preprocessing(\n",
    "        data_dict, \n",
    "        key)\n",
    "\n",
    "    # RMSE константной модели для сравнения эффективности модели\n",
    "    rmse_const = y_constant(y_test)\n",
    "\n",
    "    # начало самой модели\n",
    "\n",
    "    # Поскольку здесь немного проще, то для сравнения с остальными \n",
    "    # моделями удалось подобрать не перебирая через циклы\n",
    "    # определенные гиперпараметры. \n",
    "    # Основная цель проекта – LightGBM\n",
    "    cat_train = Pool(data=X_train, label=y_train)\n",
    "    cat_test = Pool(data=X_test, label=y_test)\n",
    "\n",
    "    params = {'eval_metric': 'RMSE',\n",
    "            'loss_function': 'RMSE',\n",
    "            'learning_rate': 0.1,\n",
    "            'random_seed': 13,\n",
    "            'depth': 14,\n",
    "            'verbose':False}\n",
    "\n",
    "    cv_data = cv(\n",
    "            params = params,\n",
    "            pool = cat_train,\n",
    "            fold_count=5,\n",
    "            shuffle=False,\n",
    "            partition_random_seed=13,\n",
    "            stratified=False,\n",
    "            verbose=False,\n",
    "            iterations = 1500,\n",
    "            early_stopping_rounds=200\n",
    "            )\n",
    "\n",
    "    n_iter = np.argmin(cv_data['test-RMSE-mean'])\n",
    "\n",
    "    cat = CatBoostRegressor(**params, iterations=n_iter)\n",
    "    cat.fit(cat_train)\n",
    "\n",
    "    # Вывод всех результатов \n",
    "\n",
    "    print('\\n')\n",
    "    print(\"Cat Boost Regressor \", key, '\\n')   \n",
    "\n",
    "    best_result_cat = cv_data.loc[\n",
    "        n_iter, 'train-RMSE-mean'].round(2)\n",
    "\n",
    "    rmse_train = mean_squared_error(y_train, cat.predict(cat_train)) ** 0.5\n",
    "    rmse_test = mean_squared_error(y_test, cat.predict(cat_test)) ** 0.5\n",
    "\n",
    "    lrate = params['learning_rate']\n",
    "    depth = params['depth']\n",
    "\n",
    "    print(\"Лучший score на кросс валидации: \", (best_result_cat), '\\n')\n",
    "    print(f'Best iter: {n_iter}', '\\n')\n",
    "    print(\"learning_rate =\", lrate, '\\n')\n",
    "    print(\"depth =\", depth, '\\n')\n",
    "    print(\"Итоговое RMSE train = \", rmse_train, '\\n')\n",
    "    print(\"constant RMSE test = \", rmse_const, '\\n')\n",
    "    print(\"Итоговое RMSE test = \", rmse_test, '\\n \\n')\n",
    "\n",
    "\n",
    "    # запись в финальный датасет скоров\n",
    "    scores.loc[(\n",
    "        key + ' + ' + name\n",
    "        ), 'RMSE train'] = rmse_train.round(2)\n",
    "    scores.loc[(\n",
    "        key + ' + ' + name\n",
    "        ), 'RMSE test'] = rmse_test.round(2)\n",
    "    scores.loc[(\n",
    "        key + ' + ' + name\n",
    "        ), 'constant RMSE'] = rmse_const\n"
   ]
  },
  {
   "cell_type": "markdown",
   "metadata": {},
   "source": [
    "<div class=\"alert alert-success\">\n",
    "<b>Комментарий ревьюера:</b> ✔️Хорошо, что используешь кросс-валидацию!Молодец</div>"
   ]
  },
  {
   "cell_type": "code",
   "execution_count": 133,
   "metadata": {},
   "outputs": [
    {
     "name": "stderr",
     "output_type": "stream",
     "text": [
      "  0%|          | 0/2 [00:00<?, ?it/s]"
     ]
    },
    {
     "name": "stdout",
     "output_type": "stream",
     "text": [
      "Training on fold [0/5]\n",
      "\n",
      "bestTest = 1531.249743\n",
      "bestIteration = 947\n",
      "\n",
      "Training on fold [1/5]\n",
      "\n",
      "bestTest = 1495.536126\n",
      "bestIteration = 850\n",
      "\n",
      "Training on fold [2/5]\n",
      "\n",
      "bestTest = 1523.553712\n",
      "bestIteration = 850\n",
      "\n",
      "Training on fold [3/5]\n",
      "\n",
      "bestTest = 1508.868061\n",
      "bestIteration = 923\n",
      "\n",
      "Training on fold [4/5]\n",
      "\n",
      "bestTest = 1506.176949\n",
      "bestIteration = 1198\n",
      "\n",
      "\n",
      "\n",
      "Cat Boost Regressor  data_down \n",
      "\n"
     ]
    },
    {
     "name": "stderr",
     "output_type": "stream",
     "text": [
      " 50%|█████     | 1/2 [22:53<22:53, 1373.68s/it]"
     ]
    },
    {
     "name": "stdout",
     "output_type": "stream",
     "text": [
      "Лучший score на кросс валидации:  1012.52 \n",
      "\n",
      "Best iter: 977 \n",
      "\n",
      "learning_rate = 0.1 \n",
      "\n",
      "depth = 14 \n",
      "\n",
      "Итоговое RMSE train =  1052.77410709957 \n",
      "\n",
      "constant RMSE test =  4518.19 \n",
      "\n",
      "Итоговое RMSE test =  1587.7450459229863 \n",
      " \n",
      "\n",
      "Training on fold [0/5]\n",
      "\n",
      "bestTest = 1530.552372\n",
      "bestIteration = 881\n",
      "\n",
      "Training on fold [1/5]\n",
      "\n",
      "bestTest = 1493.494148\n",
      "bestIteration = 901\n",
      "\n",
      "Training on fold [2/5]\n",
      "\n",
      "bestTest = 1513.472459\n",
      "bestIteration = 1270\n",
      "\n",
      "Training on fold [3/5]\n",
      "\n",
      "bestTest = 1506.667143\n",
      "bestIteration = 1113\n",
      "\n",
      "Training on fold [4/5]\n",
      "\n",
      "bestTest = 1509.197333\n",
      "bestIteration = 1308\n",
      "\n",
      "\n",
      "\n",
      "Cat Boost Regressor  data_down_cut \n",
      "\n"
     ]
    },
    {
     "name": "stderr",
     "output_type": "stream",
     "text": [
      "100%|██████████| 2/2 [48:34<00:00, 1457.20s/it]"
     ]
    },
    {
     "name": "stdout",
     "output_type": "stream",
     "text": [
      "Лучший score на кросс валидации:  1121.39 \n",
      "\n",
      "Best iter: 1067 \n",
      "\n",
      "learning_rate = 0.1 \n",
      "\n",
      "depth = 14 \n",
      "\n",
      "Итоговое RMSE train =  1148.572892441824 \n",
      "\n",
      "constant RMSE test =  4518.19 \n",
      "\n",
      "Итоговое RMSE test =  1628.5133207377257 \n",
      " \n",
      "\n",
      "CPU times: total: 3h 12min 39s\n",
      "Wall time: 48min 34s\n"
     ]
    },
    {
     "name": "stderr",
     "output_type": "stream",
     "text": [
      "\n"
     ]
    }
   ],
   "source": [
    "%%time\n",
    "\n",
    "for item in tqdm(key):\n",
    "    cat_model(data_dict, item)"
   ]
  },
  {
   "cell_type": "markdown",
   "metadata": {},
   "source": [
    "### Итог"
   ]
  },
  {
   "cell_type": "markdown",
   "metadata": {},
   "source": [
    "Определили оптимальные гиперпараметры для моделей с лучшими RMSE и выборкой data_down:\n",
    "\n",
    "* RandomForestRegressor:\n",
    "\n",
    "    * max_depth = 21\n",
    "    * n_estimators = 140\n",
    "\n",
    "* LightGBM:\n",
    "\n",
    "    * best_iteration = 865\n",
    "    * max_depth = 11\n",
    "    * num_leaves = 27\n",
    "\n",
    "* CatBoost\n",
    "\n",
    "    * iterations = 977 \n",
    "    * learning_rate = 0.1\n",
    "    * depth = 14"
   ]
  },
  {
   "cell_type": "markdown",
   "metadata": {},
   "source": [
    "## Анализ работы моделей"
   ]
  },
  {
   "cell_type": "code",
   "execution_count": 134,
   "metadata": {},
   "outputs": [
    {
     "data": {
      "text/html": [
       "<div>\n",
       "<style scoped>\n",
       "    .dataframe tbody tr th:only-of-type {\n",
       "        vertical-align: middle;\n",
       "    }\n",
       "\n",
       "    .dataframe tbody tr th {\n",
       "        vertical-align: top;\n",
       "    }\n",
       "\n",
       "    .dataframe thead th {\n",
       "        text-align: right;\n",
       "    }\n",
       "</style>\n",
       "<table border=\"1\" class=\"dataframe\">\n",
       "  <thead>\n",
       "    <tr style=\"text-align: right;\">\n",
       "      <th></th>\n",
       "      <th>RMSE train</th>\n",
       "      <th>RMSE test</th>\n",
       "      <th>constant RMSE</th>\n",
       "    </tr>\n",
       "  </thead>\n",
       "  <tbody>\n",
       "    <tr>\n",
       "      <th>data_down + RandomForestRegressor</th>\n",
       "      <td>857.05</td>\n",
       "      <td>1618.11</td>\n",
       "      <td>4518.19</td>\n",
       "    </tr>\n",
       "    <tr>\n",
       "      <th>data_down_cut + RandomForestRegressor</th>\n",
       "      <td>1017.21</td>\n",
       "      <td>1673.4</td>\n",
       "      <td>4518.19</td>\n",
       "    </tr>\n",
       "    <tr>\n",
       "      <th>data_down + LightGBM</th>\n",
       "      <td>1221.57</td>\n",
       "      <td>1663.09</td>\n",
       "      <td>4518.19</td>\n",
       "    </tr>\n",
       "    <tr>\n",
       "      <th>data_down_cut + LightGBM</th>\n",
       "      <td>1256.93</td>\n",
       "      <td>1681.96</td>\n",
       "      <td>4518.19</td>\n",
       "    </tr>\n",
       "    <tr>\n",
       "      <th>data_down + CatBoost</th>\n",
       "      <td>1052.77</td>\n",
       "      <td>1587.75</td>\n",
       "      <td>4518.19</td>\n",
       "    </tr>\n",
       "    <tr>\n",
       "      <th>data_down_cut + CatBoost</th>\n",
       "      <td>1148.57</td>\n",
       "      <td>1628.51</td>\n",
       "      <td>4518.19</td>\n",
       "    </tr>\n",
       "  </tbody>\n",
       "</table>\n",
       "</div>"
      ],
      "text/plain": [
       "                                      RMSE train RMSE test constant RMSE\n",
       "data_down + RandomForestRegressor         857.05   1618.11       4518.19\n",
       "data_down_cut + RandomForestRegressor    1017.21    1673.4       4518.19\n",
       "data_down + LightGBM                     1221.57   1663.09       4518.19\n",
       "data_down_cut + LightGBM                 1256.93   1681.96       4518.19\n",
       "data_down + CatBoost                     1052.77   1587.75       4518.19\n",
       "data_down_cut + CatBoost                 1148.57   1628.51       4518.19"
      ]
     },
     "execution_count": 134,
     "metadata": {},
     "output_type": "execute_result"
    }
   ],
   "source": [
    "scores"
   ]
  },
  {
   "cell_type": "markdown",
   "metadata": {},
   "source": [
    "### Качество предсказания"
   ]
  },
  {
   "cell_type": "markdown",
   "metadata": {},
   "source": [
    "По получившимся результатам RMSE test мы видим:\n",
    "\n",
    "* Лучший результат RMSE на тесте `data_down`: \n",
    "\n",
    "    0. CatBoost – 1587.75\n",
    "    0. RandomForestRegressor – 1618.11\n",
    "    0. LightGBM – 1663.09\n",
    "\n",
    "\n",
    "* CatBoost и LightGBM имеют более перспективные возможности по \"тюнингу\" параметров для улучшения качества предсказаний, в отличие от RandomForestRegressor.\n",
    "\n",
    "* Удаление малозначимых признаков оказалось не эффективным."
   ]
  },
  {
   "cell_type": "markdown",
   "metadata": {},
   "source": [
    "### Время обучения"
   ]
  },
  {
   "cell_type": "code",
   "execution_count": 136,
   "metadata": {},
   "outputs": [],
   "source": [
    "X_train, y_train, X_test, y_test = preprocessing(\n",
    "    data_dict, \n",
    "    key[0])"
   ]
  },
  {
   "cell_type": "code",
   "execution_count": 137,
   "metadata": {},
   "outputs": [
    {
     "data": {
      "text/plain": [
       "(213930, 24)"
      ]
     },
     "execution_count": 137,
     "metadata": {},
     "output_type": "execute_result"
    }
   ],
   "source": [
    "X_train.shape"
   ]
  },
  {
   "cell_type": "markdown",
   "metadata": {},
   "source": [
    "#### RandomForestRegressor"
   ]
  },
  {
   "cell_type": "code",
   "execution_count": 138,
   "metadata": {},
   "outputs": [
    {
     "name": "stdout",
     "output_type": "stream",
     "text": [
      "CPU times: total: 1min 55s\n",
      "Wall time: 1min 55s\n"
     ]
    },
    {
     "data": {
      "text/plain": [
       "RandomForestRegressor(max_depth=21, n_estimators=140, random_state=13)"
      ]
     },
     "execution_count": 138,
     "metadata": {},
     "output_type": "execute_result"
    }
   ],
   "source": [
    "%%time\n",
    "\n",
    "rfr = RandomForestRegressor(\n",
    "    random_state=13, n_estimators=140, max_depth=21)\n",
    "\n",
    "rfr.fit(X_train, y_train)"
   ]
  },
  {
   "cell_type": "markdown",
   "metadata": {},
   "source": [
    "#### LightGBM"
   ]
  },
  {
   "cell_type": "code",
   "execution_count": 139,
   "metadata": {},
   "outputs": [
    {
     "name": "stdout",
     "output_type": "stream",
     "text": [
      "CPU times: total: 3min 41s\n",
      "Wall time: 22.4 s\n"
     ]
    }
   ],
   "source": [
    "%%time\n",
    "\n",
    "lgb_train = lgb.Dataset(X_train, y_train)\n",
    "\n",
    "params = {\n",
    "    'boosting_type': 'gbdt',\n",
    "    'objective': 'regression',\n",
    "    'metric': 'mse',\n",
    "    'max_depth': 11,\n",
    "    'num_leaves': 27,\n",
    "    'learning_rate': 0.4,\n",
    "    'feature_fraction': 0.9,\n",
    "    'bagging_fraction': 0.8,\n",
    "    'bagging_freq': 5,\n",
    "    'verbose': -1,\n",
    "    'force_col_wise': True,\n",
    "    'random_seed': 13,\n",
    "    'device': 'cpu'\n",
    "}\n",
    "\n",
    "callbacks = [\n",
    "    lgb.early_stopping(stopping_rounds=200, verbose=0),\n",
    "    lgb.log_evaluation(period=0)]\n",
    "\n",
    "gbm = lgb.cv(params,\n",
    "    lgb_train,\n",
    "    num_boost_round=1000,\n",
    "    metrics='mse',\n",
    "    return_cvbooster=True,\n",
    "    callbacks=callbacks,\n",
    "    stratified = False\n",
    "    )"
   ]
  },
  {
   "cell_type": "markdown",
   "metadata": {},
   "source": [
    "#### CatBoost"
   ]
  },
  {
   "cell_type": "code",
   "execution_count": 140,
   "metadata": {},
   "outputs": [
    {
     "name": "stdout",
     "output_type": "stream",
     "text": [
      "CPU times: total: 14min 39s\n",
      "Wall time: 4min 7s\n"
     ]
    },
    {
     "data": {
      "text/plain": [
       "<catboost.core.CatBoostRegressor at 0x1e224dd3d30>"
      ]
     },
     "execution_count": 140,
     "metadata": {},
     "output_type": "execute_result"
    }
   ],
   "source": [
    "%%time\n",
    "\n",
    "cat_train = Pool(data=X_train, label=y_train)\n",
    "cat_test = Pool(data=X_test, label=y_test)\n",
    "\n",
    "params = {'eval_metric': 'RMSE',\n",
    "        'loss_function': 'RMSE',\n",
    "        'learning_rate': 0.1,\n",
    "        'random_seed': 13,\n",
    "        'depth': 14,\n",
    "        'verbose':False}\n",
    "\n",
    "cat = CatBoostRegressor(**params, iterations=977)\n",
    "cat.fit(cat_train)"
   ]
  },
  {
   "cell_type": "markdown",
   "metadata": {},
   "source": [
    "#### Вывод\n",
    "\n",
    "Время обучения моделей на одном из запусков ячеек:\n",
    "\n",
    "* LightGBM: 22.4 s\n",
    "* RandomForestRegressor: 1min 55s\n",
    "* CatBoost: 4min 7s\n",
    "\n",
    "* LightGBM оказался быстрей в обучении модели, чем CatBoost при текущем подборе параметров. При огромных датасетах возможно это будет играть свою роль для заказчика.\n",
    "\n",
    "* `.shape` обучающей выборки (213930, 24)."
   ]
  },
  {
   "cell_type": "markdown",
   "metadata": {},
   "source": [
    "### Скорость предсказания"
   ]
  },
  {
   "cell_type": "code",
   "execution_count": 141,
   "metadata": {},
   "outputs": [
    {
     "data": {
      "text/plain": [
       "(88593, 24)"
      ]
     },
     "execution_count": 141,
     "metadata": {},
     "output_type": "execute_result"
    }
   ],
   "source": [
    "X_test.shape"
   ]
  },
  {
   "cell_type": "markdown",
   "metadata": {},
   "source": [
    "#### RandomForestRegressor"
   ]
  },
  {
   "cell_type": "code",
   "execution_count": 142,
   "metadata": {},
   "outputs": [
    {
     "name": "stdout",
     "output_type": "stream",
     "text": [
      "CPU times: total: 3.77 s\n",
      "Wall time: 3.77 s\n"
     ]
    },
    {
     "data": {
      "text/plain": [
       "array([  833.80358146, 12370.03015873,   968.50683336, ...,\n",
       "        6208.40930272,  1491.61603099,  2287.80595333])"
      ]
     },
     "execution_count": 142,
     "metadata": {},
     "output_type": "execute_result"
    }
   ],
   "source": [
    "%%time\n",
    "\n",
    "rfr.predict(X_test)"
   ]
  },
  {
   "cell_type": "markdown",
   "metadata": {},
   "source": [
    "#### LightGBM"
   ]
  },
  {
   "cell_type": "code",
   "execution_count": 143,
   "metadata": {},
   "outputs": [
    {
     "name": "stdout",
     "output_type": "stream",
     "text": [
      "CPU times: total: 36.8 s\n",
      "Wall time: 3.75 s\n"
     ]
    },
    {
     "data": {
      "text/plain": [
       "array([ 800.94184418, 8152.85492612, 1265.65230844, ..., 5977.1243726 ,\n",
       "       1750.36486862, 2314.25021123])"
      ]
     },
     "execution_count": 143,
     "metadata": {},
     "output_type": "execute_result"
    }
   ],
   "source": [
    "%%time\n",
    "\n",
    "np.mean(\n",
    "    gbm['cvbooster'].predict(\n",
    "    X_test, num_iteration=gbm['cvbooster'].best_iteration), axis=0)"
   ]
  },
  {
   "cell_type": "markdown",
   "metadata": {},
   "source": [
    "#### CatBoost"
   ]
  },
  {
   "cell_type": "code",
   "execution_count": 144,
   "metadata": {},
   "outputs": [
    {
     "name": "stdout",
     "output_type": "stream",
     "text": [
      "CPU times: total: 3.19 s\n",
      "Wall time: 369 ms\n"
     ]
    },
    {
     "data": {
      "text/plain": [
       "array([ 863.92077518, 8821.48677785, 1243.64608241, ..., 6281.32160475,\n",
       "       1676.19096332, 2295.65490984])"
      ]
     },
     "execution_count": 144,
     "metadata": {},
     "output_type": "execute_result"
    }
   ],
   "source": [
    "%%time\n",
    "\n",
    "cat.predict(cat_test)"
   ]
  },
  {
   "cell_type": "markdown",
   "metadata": {},
   "source": [
    "#### Вывод\n",
    "\n",
    "Скорость предсказания моделей на одном из запусков ячеек:\n",
    "\n",
    "* CatBoost: ~369 ms\n",
    "* LightGBM: ~3.75 s\n",
    "* RandomForestRegressor: ~3.77 s\n",
    "\n",
    "* CatBoost практически мгновенно при размерности датасета (88593, 24)."
   ]
  },
  {
   "cell_type": "markdown",
   "metadata": {},
   "source": [
    "## Вывод"
   ]
  },
  {
   "cell_type": "markdown",
   "metadata": {},
   "source": [
    "### Вывод по подготовке данных"
   ]
  },
  {
   "cell_type": "markdown",
   "metadata": {},
   "source": [
    "1. Привели названия столбцов из CamelCase в snake_case;\n",
    "2. Обнаружили пропуски в столбцах:\n",
    "    * VehicleType    0.105794\n",
    "    * Gearbox        0.055967\n",
    "    * Model          0.055606\n",
    "    * FuelType       0.092827\n",
    "    * NotRepaired    0.200791\n",
    "3. Пропуски заполнили значением `unknown`, поскольку определить/заполнить по имеющимся данным/взаимосвязям не получилось;\n",
    "4. В столбце NotRepaired заполнили пропуски значением `no`. Посчитав, что если клиент не указал, то значит не было ремонта;\n",
    "5. Дубликатов не обнаружено;\n",
    "6. Много аномалий по цене. Есть неадекватно низкие цены меньше 100 долларов. При просмотре зависимости от года регистрации авто выявились аномалии и в годах регистрации;\n",
    "7. Есть аномалии в столбце Power: при мощности более 600 сил выводятся такие как матиз, пунто и т.д. при также неадекватно низкой цене;\n",
    "8. В столбце Kilometer более 50% значений ровно 150000. Будем считать, что сервис просто ограничил пробег для заполнения.\n",
    "9. В столбце RegistrationMonth аномалия: нулевой месяц регистрации. Число строк 37352;\n",
    "10. Последние 4 столбца, никакой роли в построении модели играть не будут. Удалили. Также первый столбец — дата скачивания анкеты из базы."
   ]
  },
  {
   "cell_type": "markdown",
   "metadata": {},
   "source": [
    "**Вывод по подготовке выборок**"
   ]
  },
  {
   "cell_type": "markdown",
   "metadata": {},
   "source": [
    "0. Убрали аномалии в годе регистрации, цене и мощности:\n",
    "\n",
    "    * мощность от 40 до 400\n",
    "    * цена не ниже 300 долларов\n",
    "    * год от 1960 по 2016\n",
    "\n",
    "    * Урезанная выборка составляет 80.49 %  от всех данных. Всего длина выборки: 285241.\n",
    "\n",
    "\n",
    "0. Провели стат. анализ признаков по КПП (коэффициент корреляции Пирсона) к признаку `price`, без аномалий:\n",
    "\n",
    "    * Чем свежее машина по годам, тем выше цена:\n",
    "        * КПП - 0.501;\n",
    "    * Чем больше л.с. у машины, тем выше цена:\n",
    "        * КПП - 0.501\n",
    "    * Чем больше пробег, тем ниже цена, зависимость слабая:\n",
    "        * КПП - -0.396\n",
    "    * Нет корреляции Пирсона у цены и у месяца регистрации авто.\n",
    "\n",
    "\n",
    "0. Провели стат. анализ через коэффициент корреляции Phik, без аномалий:\n",
    "\n",
    "    * Целевой признак у нас `price`. Признаки по убыванию, коррелирующие на цену в наибольшей степени **Phik > 0.5**:\n",
    "        * registration_year\n",
    "        * model\n",
    "        * power\n",
    "    * Признаки по убыванию, коррелирующие на цену в наименьшей степени **Phik < 0.5**:\n",
    "        * brand\n",
    "        * kilometer\n",
    "        * gearbox\n",
    "        * not_repaired\n",
    "        * vehicle_type\n",
    "        * fuel_type\n",
    "        * registration_month\n",
    "    * registration_month имеет опять наименьшую корреляцию.\n",
    "\n",
    "\n",
    "0.  Сделали следующие выборки:\n",
    "\n",
    "    * Очищенный датасет.\n",
    "    * Ради эксперимента уберем признак `registration_month`, поскольку имеет малую корреляцию с целевым признаком.\n",
    "\n",
    "\n",
    "0.  Создали словарь для различных выборок, на которых будем искать лучшие метрики качества и поиск лучшей модели:\n",
    "\n",
    "    * Сделали обучающие выборки и конечную тестовую. В тестовой выборке данные не будут изменены никоим образом:\n",
    "    \n",
    "        * с аномалиями и `unknown`, поскольку при реальных данных с такой выгрузкой мы не имеем право отказываться от каких-либо предсказаний объектов.\n",
    "\n",
    "\n",
    "0. Создали словарь `data_dict` из 2-х выборок для поиска лучшей модели предсказаний:\n",
    "\n",
    "    * 'data_down'\n",
    "    * 'data_down_cut'\n",
    "\n",
    "\n",
    "0. Тестовые выборки не урезаны по длине, так как в реальности данные будут поступать со значениями NaN и аномалиями и такие данные нужно будет предсказывть."
   ]
  },
  {
   "cell_type": "markdown",
   "metadata": {},
   "source": [
    "### Вывод по обучению моделей"
   ]
  },
  {
   "cell_type": "markdown",
   "metadata": {},
   "source": [
    "Определили оптимальные гиперпараметры для моделей с лучшими RMSE и выборкой data_down:\n",
    "\n",
    "* RandomForestRegressor:\n",
    "\n",
    "    * max_depth = 21\n",
    "    * n_estimators = 140\n",
    "\n",
    "* LightGBM:\n",
    "\n",
    "    * best_iteration = 865\n",
    "    * max_depth = 11\n",
    "    * num_leaves = 27\n",
    "\n",
    "* CatBoost\n",
    "\n",
    "    * iterations = 977 \n",
    "    * learning_rate = 0.1\n",
    "    * depth = 14"
   ]
  },
  {
   "cell_type": "markdown",
   "metadata": {},
   "source": [
    "### Вывод по анализу работы моделей"
   ]
  },
  {
   "cell_type": "markdown",
   "metadata": {},
   "source": [
    "По получившимся результатам RMSE test мы видим:\n",
    "\n",
    "* Лучший результат RMSE на тесте `data_down`: \n",
    "\n",
    "    0. CatBoost – 1587.75\n",
    "    0. RandomForestRegressor – 1618.11\n",
    "    0. LightGBM – 1663.09\n",
    "\n",
    "\n",
    "* CatBoost и LightGBM имеют более перспективные возможности по \"тюнингу\" параметров для улучшения качества предсказаний, в отличие от RandomForestRegressor.\n",
    "\n",
    "* Удаление малозначимых признаков оказалось не эффективным."
   ]
  },
  {
   "cell_type": "markdown",
   "metadata": {},
   "source": [
    "Время обучения моделей на одном из запусков ячеек:\n",
    "\n",
    "* LightGBM: 22.4 s\n",
    "* RandomForestRegressor: 1min 55s\n",
    "* CatBoost: 4min 7s\n",
    "\n",
    "* LightGBM оказался быстрей в обучении модели, чем CatBoost при текущем подборе параметров. При огромных датасетах возможно это будет играть свою роль для заказчика.\n",
    "\n",
    "* `.shape` обучающей выборки (213930, 24)."
   ]
  },
  {
   "cell_type": "markdown",
   "metadata": {},
   "source": [
    "#### Вывод\n",
    "\n",
    "Скорость предсказания моделей на одном из запусков ячеек:\n",
    "\n",
    "* CatBoost: ~369 ms\n",
    "* LightGBM: ~3.75 s\n",
    "* RandomForestRegressor: ~3.77 s\n",
    "\n",
    "* CatBoost практически мгновенно при размерности датасета (88593, 24)."
   ]
  },
  {
   "cell_type": "markdown",
   "metadata": {},
   "source": [
    "### Рекомендации"
   ]
  },
  {
   "cell_type": "markdown",
   "metadata": {},
   "source": [
    "**Заказчику важны:**\n",
    "\n",
    "- качество предсказания;\n",
    "- скорость предсказания;\n",
    "- время обучения.\n",
    "\n",
    "\n",
    "**Качество предсказаний** лучше на датасете `data_down` без аномалий с заполнением пропусков с признаками:\n",
    "\n",
    "    * ['price', 'vehicle_type', 'registration_year', 'gearbox', 'power',\n",
    "       'model', 'kilometer', 'registration_month', 'fuel_type', 'brand',\n",
    "       'not_repaired']\n",
    "\n",
    "* Лучший результат RMSE на тесте `data_down`: \n",
    "\n",
    "    0. CatBoost – 1587.75\n",
    "    0. RandomForestRegressor – 1618.11\n",
    "    0. LightGBM – 1663.09\n",
    "\n",
    "\n",
    "**Время обучения моделей на одном из запусков ячеек:**\n",
    "\n",
    "* LightGBM: 22.4 s\n",
    "* RandomForestRegressor: 1min 55s\n",
    "* CatBoost: 4min 7s\n",
    "\n",
    "* LightGBM оказался быстрей в обучении модели, чем CatBoost при текущем подборе параметров. При огромных датасетах возможно это будет играть свою роль для заказчика.\n",
    "\n",
    "* `.shape` обучающей выборки (218043, 24).\n",
    "\n",
    "**Скорость предсказания моделей на одном из запусков ячеек:**\n",
    "\n",
    "* CatBoost: ~369 ms\n",
    "* LightGBM: ~3.75 s\n",
    "* RandomForestRegressor: ~3.77 s\n",
    "\n",
    "* CatBoost практически мгновенно при размерности датасета (88593, 24)."
   ]
  }
 ],
 "metadata": {
  "ExecuteTimeLog": [
   {
    "duration": 52,
    "start_time": "2022-06-17T17:19:28.072Z"
   },
   {
    "duration": 3353,
    "start_time": "2022-06-17T17:19:40.206Z"
   },
   {
    "duration": 2739,
    "start_time": "2022-06-17T17:20:04.698Z"
   },
   {
    "duration": 2075,
    "start_time": "2022-06-17T17:20:11.211Z"
   },
   {
    "duration": 4510,
    "start_time": "2022-06-17T17:22:55.348Z"
   },
   {
    "duration": 183,
    "start_time": "2022-06-17T17:22:59.861Z"
   },
   {
    "duration": 429,
    "start_time": "2022-06-17T17:23:00.050Z"
   },
   {
    "duration": 3,
    "start_time": "2022-06-17T17:23:07.055Z"
   },
   {
    "duration": 121,
    "start_time": "2022-06-17T17:23:32.406Z"
   },
   {
    "duration": 3,
    "start_time": "2022-06-17T17:23:50.011Z"
   },
   {
    "duration": 17,
    "start_time": "2022-06-17T17:23:51.555Z"
   },
   {
    "duration": 12,
    "start_time": "2022-06-17T17:25:21.911Z"
   },
   {
    "duration": 4,
    "start_time": "2022-06-17T17:25:25.190Z"
   },
   {
    "duration": 14,
    "start_time": "2022-06-17T17:25:25.899Z"
   },
   {
    "duration": 57,
    "start_time": "2022-06-17T17:27:14.570Z"
   },
   {
    "duration": 18,
    "start_time": "2022-06-17T17:27:51.550Z"
   },
   {
    "duration": 4,
    "start_time": "2022-06-17T17:27:53.511Z"
   },
   {
    "duration": 3,
    "start_time": "2022-06-17T17:27:54.419Z"
   },
   {
    "duration": 13,
    "start_time": "2022-06-17T17:27:54.917Z"
   },
   {
    "duration": 5,
    "start_time": "2022-06-17T17:27:56.072Z"
   },
   {
    "duration": 125,
    "start_time": "2022-06-17T17:27:56.494Z"
   },
   {
    "duration": 83,
    "start_time": "2022-06-17T17:27:56.911Z"
   },
   {
    "duration": 405,
    "start_time": "2022-06-17T17:27:57.983Z"
   },
   {
    "duration": 502,
    "start_time": "2022-06-17T17:27:58.426Z"
   },
   {
    "duration": 74,
    "start_time": "2022-06-17T17:27:59.693Z"
   },
   {
    "duration": 89,
    "start_time": "2022-06-17T17:28:00.339Z"
   },
   {
    "duration": 5,
    "start_time": "2022-06-17T17:28:01.531Z"
   },
   {
    "duration": 25,
    "start_time": "2022-06-17T17:28:01.992Z"
   },
   {
    "duration": 25,
    "start_time": "2022-06-17T17:28:03.248Z"
   },
   {
    "duration": 20,
    "start_time": "2022-06-17T17:28:04.019Z"
   },
   {
    "duration": 15,
    "start_time": "2022-06-17T17:28:06.004Z"
   },
   {
    "duration": 31,
    "start_time": "2022-06-17T17:28:06.461Z"
   },
   {
    "duration": 17,
    "start_time": "2022-06-17T17:28:10.800Z"
   },
   {
    "duration": 17,
    "start_time": "2022-06-17T17:28:11.474Z"
   },
   {
    "duration": 99,
    "start_time": "2022-06-17T17:28:12.302Z"
   },
   {
    "duration": 60,
    "start_time": "2022-06-17T17:28:46.377Z"
   },
   {
    "duration": 238,
    "start_time": "2022-06-17T17:35:21.925Z"
   },
   {
    "duration": 9,
    "start_time": "2022-06-17T17:35:47.357Z"
   },
   {
    "duration": 11,
    "start_time": "2022-06-17T17:35:57.115Z"
   },
   {
    "duration": 52,
    "start_time": "2022-06-17T17:36:09.516Z"
   },
   {
    "duration": 61,
    "start_time": "2022-06-17T17:36:16.451Z"
   },
   {
    "duration": 40,
    "start_time": "2022-06-17T17:36:30.684Z"
   },
   {
    "duration": 63,
    "start_time": "2022-06-17T17:37:23.486Z"
   },
   {
    "duration": 2250,
    "start_time": "2022-06-17T17:37:31.044Z"
   },
   {
    "duration": 2518,
    "start_time": "2022-06-17T17:37:33.297Z"
   },
   {
    "duration": 1657,
    "start_time": "2022-06-17T17:37:35.817Z"
   },
   {
    "duration": 2632,
    "start_time": "2022-06-17T17:37:37.476Z"
   },
   {
    "duration": 152,
    "start_time": "2022-06-17T17:37:40.110Z"
   },
   {
    "duration": 280,
    "start_time": "2022-06-17T17:37:40.264Z"
   },
   {
    "duration": 4,
    "start_time": "2022-06-17T17:37:40.547Z"
   },
   {
    "duration": 15,
    "start_time": "2022-06-17T17:37:40.552Z"
   },
   {
    "duration": 37,
    "start_time": "2022-06-17T17:37:40.568Z"
   },
   {
    "duration": 5,
    "start_time": "2022-06-17T17:37:40.607Z"
   },
   {
    "duration": 148,
    "start_time": "2022-06-17T17:37:40.613Z"
   },
   {
    "duration": 71,
    "start_time": "2022-06-17T17:37:40.769Z"
   },
   {
    "duration": 424,
    "start_time": "2022-06-17T17:37:41.482Z"
   },
   {
    "duration": 468,
    "start_time": "2022-06-17T17:37:41.908Z"
   },
   {
    "duration": 83,
    "start_time": "2022-06-17T17:37:42.501Z"
   },
   {
    "duration": 101,
    "start_time": "2022-06-17T17:37:42.807Z"
   },
   {
    "duration": 7,
    "start_time": "2022-06-17T17:37:44.069Z"
   },
   {
    "duration": 27,
    "start_time": "2022-06-17T17:37:44.749Z"
   },
   {
    "duration": 6,
    "start_time": "2022-06-17T17:37:45.419Z"
   },
   {
    "duration": 19,
    "start_time": "2022-06-17T17:37:45.740Z"
   },
   {
    "duration": 16,
    "start_time": "2022-06-17T17:37:46.344Z"
   },
   {
    "duration": 30,
    "start_time": "2022-06-17T17:37:46.636Z"
   },
   {
    "duration": 15,
    "start_time": "2022-06-17T17:37:46.954Z"
   },
   {
    "duration": 16,
    "start_time": "2022-06-17T17:37:47.853Z"
   },
   {
    "duration": 89,
    "start_time": "2022-06-17T17:37:48.141Z"
   },
   {
    "duration": 18,
    "start_time": "2022-06-17T17:37:49.786Z"
   },
   {
    "duration": 299,
    "start_time": "2022-06-17T17:37:54.173Z"
   },
   {
    "duration": 144,
    "start_time": "2022-06-17T17:37:54.841Z"
   },
   {
    "duration": 159,
    "start_time": "2022-06-17T17:38:08.689Z"
   },
   {
    "duration": 81,
    "start_time": "2022-06-17T17:38:49.101Z"
   },
   {
    "duration": 79,
    "start_time": "2022-06-17T17:39:36.159Z"
   },
   {
    "duration": 101,
    "start_time": "2022-06-17T17:48:33.208Z"
   },
   {
    "duration": 2350,
    "start_time": "2022-06-17T17:48:39.823Z"
   },
   {
    "duration": 2468,
    "start_time": "2022-06-17T17:48:42.176Z"
   },
   {
    "duration": 8,
    "start_time": "2022-06-17T17:48:44.648Z"
   },
   {
    "duration": 2740,
    "start_time": "2022-06-17T17:48:44.659Z"
   },
   {
    "duration": 143,
    "start_time": "2022-06-17T17:48:47.401Z"
   },
   {
    "duration": 309,
    "start_time": "2022-06-17T17:48:47.547Z"
   },
   {
    "duration": 5,
    "start_time": "2022-06-17T17:48:47.858Z"
   },
   {
    "duration": 10,
    "start_time": "2022-06-17T17:48:47.865Z"
   },
   {
    "duration": 21,
    "start_time": "2022-06-17T17:48:47.877Z"
   },
   {
    "duration": 10,
    "start_time": "2022-06-17T17:48:47.900Z"
   },
   {
    "duration": 101,
    "start_time": "2022-06-17T17:48:47.912Z"
   },
   {
    "duration": 83,
    "start_time": "2022-06-17T17:48:48.015Z"
   },
   {
    "duration": 395,
    "start_time": "2022-06-17T17:48:48.100Z"
   },
   {
    "duration": 396,
    "start_time": "2022-06-17T17:48:48.497Z"
   },
   {
    "duration": 102,
    "start_time": "2022-06-17T17:48:48.895Z"
   },
   {
    "duration": 88,
    "start_time": "2022-06-17T17:48:48.999Z"
   },
   {
    "duration": 5,
    "start_time": "2022-06-17T17:48:49.088Z"
   },
   {
    "duration": 41,
    "start_time": "2022-06-17T17:48:49.095Z"
   },
   {
    "duration": 6,
    "start_time": "2022-06-17T17:48:49.140Z"
   },
   {
    "duration": 26,
    "start_time": "2022-06-17T17:48:49.149Z"
   },
   {
    "duration": 17,
    "start_time": "2022-06-17T17:48:49.661Z"
   },
   {
    "duration": 38,
    "start_time": "2022-06-17T17:48:49.974Z"
   },
   {
    "duration": 17,
    "start_time": "2022-06-17T17:48:50.306Z"
   },
   {
    "duration": 15,
    "start_time": "2022-06-17T17:48:50.600Z"
   },
   {
    "duration": 96,
    "start_time": "2022-06-17T17:48:50.896Z"
   },
   {
    "duration": 25,
    "start_time": "2022-06-17T17:48:52.288Z"
   },
   {
    "duration": 409,
    "start_time": "2022-06-17T17:48:52.894Z"
   },
   {
    "duration": 105,
    "start_time": "2022-06-17T17:48:53.567Z"
   },
   {
    "duration": 67,
    "start_time": "2022-06-17T17:48:55.164Z"
   },
   {
    "duration": 52,
    "start_time": "2022-06-17T17:48:56.020Z"
   },
   {
    "duration": 67,
    "start_time": "2022-06-17T17:48:56.339Z"
   },
   {
    "duration": 86,
    "start_time": "2022-06-17T17:48:57.038Z"
   },
   {
    "duration": 7,
    "start_time": "2022-06-17T17:48:57.344Z"
   },
   {
    "duration": 78,
    "start_time": "2022-06-17T17:48:57.694Z"
   },
   {
    "duration": 281,
    "start_time": "2022-06-17T17:48:58.796Z"
   },
   {
    "duration": 242,
    "start_time": "2022-06-17T17:48:59.586Z"
   },
   {
    "duration": 296,
    "start_time": "2022-06-17T17:49:00.303Z"
   },
   {
    "duration": 23,
    "start_time": "2022-06-17T17:49:00.634Z"
   },
   {
    "duration": 7,
    "start_time": "2022-06-17T17:49:02.524Z"
   },
   {
    "duration": 20,
    "start_time": "2022-06-17T17:49:03.381Z"
   },
   {
    "duration": 26,
    "start_time": "2022-06-17T17:49:04.247Z"
   },
   {
    "duration": 8,
    "start_time": "2022-06-17T17:49:04.674Z"
   },
   {
    "duration": 14,
    "start_time": "2022-06-17T17:49:05.274Z"
   },
   {
    "duration": 24,
    "start_time": "2022-06-17T17:49:06.982Z"
   },
   {
    "duration": 32,
    "start_time": "2022-06-17T17:49:07.458Z"
   },
   {
    "duration": 68,
    "start_time": "2022-06-17T17:49:07.941Z"
   },
   {
    "duration": 8,
    "start_time": "2022-06-17T17:49:08.856Z"
   },
   {
    "duration": 20,
    "start_time": "2022-06-17T17:49:09.172Z"
   },
   {
    "duration": 19,
    "start_time": "2022-06-17T17:49:10.010Z"
   },
   {
    "duration": 6,
    "start_time": "2022-06-17T17:49:10.793Z"
   },
   {
    "duration": 27,
    "start_time": "2022-06-17T17:49:11.176Z"
   },
   {
    "duration": 15,
    "start_time": "2022-06-17T17:49:11.560Z"
   },
   {
    "duration": 18,
    "start_time": "2022-06-17T17:49:12.564Z"
   },
   {
    "duration": 293,
    "start_time": "2022-06-17T17:49:12.776Z"
   },
   {
    "duration": 39,
    "start_time": "2022-06-17T17:49:13.210Z"
   },
   {
    "duration": 365,
    "start_time": "2022-06-17T17:49:13.629Z"
   },
   {
    "duration": 34,
    "start_time": "2022-06-17T17:49:14.667Z"
   },
   {
    "duration": 428,
    "start_time": "2022-06-17T17:49:15.232Z"
   },
   {
    "duration": 31,
    "start_time": "2022-06-17T17:49:16.648Z"
   },
   {
    "duration": 392,
    "start_time": "2022-06-17T17:49:17.179Z"
   },
   {
    "duration": 71,
    "start_time": "2022-06-17T17:49:18.206Z"
   },
   {
    "duration": 54,
    "start_time": "2022-06-17T17:49:19.337Z"
   },
   {
    "duration": 29,
    "start_time": "2022-06-17T17:49:20.823Z"
   },
   {
    "duration": 168,
    "start_time": "2022-06-17T17:49:21.965Z"
   },
   {
    "duration": 94,
    "start_time": "2022-06-17T17:49:25.162Z"
   },
   {
    "duration": 511,
    "start_time": "2022-06-17T17:49:58.587Z"
   },
   {
    "duration": 17,
    "start_time": "2022-06-17T17:50:25.914Z"
   },
   {
    "duration": 75,
    "start_time": "2022-06-17T17:50:25.934Z"
   },
   {
    "duration": 103,
    "start_time": "2022-06-17T17:50:30.465Z"
   },
   {
    "duration": 140,
    "start_time": "2022-06-17T17:50:53.257Z"
   },
   {
    "duration": 7633,
    "start_time": "2022-06-17T17:50:58.056Z"
   },
   {
    "duration": 8688,
    "start_time": "2022-06-17T17:51:05.692Z"
   },
   {
    "duration": 497,
    "start_time": "2022-06-17T17:51:53.806Z"
   },
   {
    "duration": 99,
    "start_time": "2022-06-17T17:51:54.306Z"
   },
   {
    "duration": 6,
    "start_time": "2022-06-17T17:51:54.469Z"
   },
   {
    "duration": 105,
    "start_time": "2022-06-17T17:51:54.837Z"
   },
   {
    "duration": 18,
    "start_time": "2022-06-17T17:51:55.260Z"
   },
   {
    "duration": 86,
    "start_time": "2022-06-17T17:51:55.842Z"
   },
   {
    "duration": 5,
    "start_time": "2022-06-17T17:51:56.383Z"
   },
   {
    "duration": 18,
    "start_time": "2022-06-17T17:51:57.195Z"
   },
   {
    "duration": 73,
    "start_time": "2022-06-17T17:51:57.801Z"
   },
   {
    "duration": 5,
    "start_time": "2022-06-17T17:51:58.345Z"
   },
   {
    "duration": 5,
    "start_time": "2022-06-17T17:51:58.765Z"
   },
   {
    "duration": 125,
    "start_time": "2022-06-17T17:51:59.070Z"
   },
   {
    "duration": 4,
    "start_time": "2022-06-17T17:51:59.874Z"
   },
   {
    "duration": 9,
    "start_time": "2022-06-17T17:52:08.547Z"
   },
   {
    "duration": 104,
    "start_time": "2022-06-17T17:52:37.465Z"
   }
  ],
  "interpreter": {
   "hash": "ad2bdc8ecc057115af97d19610ffacc2b4e99fae6737bb82f5d7fb13d2f2c186"
  },
  "kernelspec": {
   "display_name": "Python 3 (ipykernel)",
   "language": "python",
   "name": "python3"
  },
  "language_info": {
   "codemirror_mode": {
    "name": "ipython",
    "version": 3
   },
   "file_extension": ".py",
   "mimetype": "text/x-python",
   "name": "python",
   "nbconvert_exporter": "python",
   "pygments_lexer": "ipython3",
   "version": "3.9.12"
  },
  "toc": {
   "base_numbering": 1,
   "nav_menu": {},
   "number_sections": true,
   "sideBar": true,
   "skip_h1_title": true,
   "title_cell": "Table of Contents",
   "title_sidebar": "Contents",
   "toc_cell": false,
   "toc_position": {
    "height": "calc(100% - 180px)",
    "left": "10px",
    "top": "150px",
    "width": "408.889px"
   },
   "toc_section_display": true,
   "toc_window_display": true
  }
 },
 "nbformat": 4,
 "nbformat_minor": 2
}
