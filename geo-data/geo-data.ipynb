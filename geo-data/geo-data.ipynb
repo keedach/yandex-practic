{
 "cells": [
  {
   "cell_type": "markdown",
   "metadata": {},
   "source": [
    "# Выбор локации для скважины"
   ]
  },
  {
   "cell_type": "markdown",
   "metadata": {},
   "source": [
    "Нужно решить, где бурить новую скважину.\n",
    "\n",
    "Предоставлены пробы нефти в трёх регионах: в каждом 10 000 месторождений, где измерили качество нефти и объём её запасов. Нужно построить модель машинного обучения, которая поможет определить регион, где добыча принесёт наибольшую прибыль. Анализировать возможную прибыль и риски будем техникой *Bootstrap.*\n",
    "\n",
    "Шаги для выбора локации:\n",
    "\n",
    "- В избранном регионе ищут месторождения, для каждого определяют значения признаков;\n",
    "- Строят модель и оценивают объём запасов;\n",
    "- Выбирают месторождения с самым высокими оценками значений. Количество месторождений зависит от бюджета компании и стоимости разработки одной скважины;\n",
    "- Прибыль равна суммарной прибыли отобранных месторождений."
   ]
  },
  {
   "cell_type": "markdown",
   "metadata": {},
   "source": [
    "## Загрузка и подготовка данных"
   ]
  },
  {
   "cell_type": "code",
   "execution_count": 1,
   "metadata": {},
   "outputs": [],
   "source": [
    "import pandas as pd\n",
    "import numpy as np\n",
    "\n",
    "from sklearn.model_selection import train_test_split\n",
    "from sklearn.preprocessing import StandardScaler\n",
    "from sklearn.linear_model import LinearRegression\n",
    "from sklearn.metrics import mean_squared_error\n",
    "from sklearn.metrics import mean_absolute_error"
   ]
  },
  {
   "cell_type": "code",
   "execution_count": 2,
   "metadata": {},
   "outputs": [],
   "source": [
    "geo_data_0 = pd.read_csv('https://code.s3.yandex.net/datasets/geo_data_0.csv')\n",
    "geo_data_1 = pd.read_csv('https://code.s3.yandex.net/datasets/geo_data_1.csv')\n",
    "geo_data_2 = pd.read_csv('https://code.s3.yandex.net/datasets/geo_data_2.csv')"
   ]
  },
  {
   "cell_type": "markdown",
   "metadata": {},
   "source": [
    "Данные загружены. Изучим."
   ]
  },
  {
   "cell_type": "markdown",
   "metadata": {},
   "source": [
    "### geo_data_0"
   ]
  },
  {
   "cell_type": "code",
   "execution_count": 3,
   "metadata": {},
   "outputs": [
    {
     "name": "stdout",
     "output_type": "stream",
     "text": [
      "<class 'pandas.core.frame.DataFrame'>\n",
      "RangeIndex: 100000 entries, 0 to 99999\n",
      "Data columns (total 5 columns):\n",
      " #   Column   Non-Null Count   Dtype  \n",
      "---  ------   --------------   -----  \n",
      " 0   id       100000 non-null  object \n",
      " 1   f0       100000 non-null  float64\n",
      " 2   f1       100000 non-null  float64\n",
      " 3   f2       100000 non-null  float64\n",
      " 4   product  100000 non-null  float64\n",
      "dtypes: float64(4), object(1)\n",
      "memory usage: 3.8+ MB\n"
     ]
    }
   ],
   "source": [
    "geo_data_0.info()"
   ]
  },
  {
   "cell_type": "code",
   "execution_count": 4,
   "metadata": {},
   "outputs": [
    {
     "data": {
      "text/html": [
       "<div>\n",
       "<style scoped>\n",
       "    .dataframe tbody tr th:only-of-type {\n",
       "        vertical-align: middle;\n",
       "    }\n",
       "\n",
       "    .dataframe tbody tr th {\n",
       "        vertical-align: top;\n",
       "    }\n",
       "\n",
       "    .dataframe thead th {\n",
       "        text-align: right;\n",
       "    }\n",
       "</style>\n",
       "<table border=\"1\" class=\"dataframe\">\n",
       "  <thead>\n",
       "    <tr style=\"text-align: right;\">\n",
       "      <th></th>\n",
       "      <th>id</th>\n",
       "      <th>f0</th>\n",
       "      <th>f1</th>\n",
       "      <th>f2</th>\n",
       "      <th>product</th>\n",
       "    </tr>\n",
       "  </thead>\n",
       "  <tbody>\n",
       "    <tr>\n",
       "      <th>0</th>\n",
       "      <td>txEyH</td>\n",
       "      <td>0.705745</td>\n",
       "      <td>-0.497823</td>\n",
       "      <td>1.221170</td>\n",
       "      <td>105.280062</td>\n",
       "    </tr>\n",
       "    <tr>\n",
       "      <th>1</th>\n",
       "      <td>2acmU</td>\n",
       "      <td>1.334711</td>\n",
       "      <td>-0.340164</td>\n",
       "      <td>4.365080</td>\n",
       "      <td>73.037750</td>\n",
       "    </tr>\n",
       "    <tr>\n",
       "      <th>2</th>\n",
       "      <td>409Wp</td>\n",
       "      <td>1.022732</td>\n",
       "      <td>0.151990</td>\n",
       "      <td>1.419926</td>\n",
       "      <td>85.265647</td>\n",
       "    </tr>\n",
       "  </tbody>\n",
       "</table>\n",
       "</div>"
      ],
      "text/plain": [
       "      id        f0        f1        f2     product\n",
       "0  txEyH  0.705745 -0.497823  1.221170  105.280062\n",
       "1  2acmU  1.334711 -0.340164  4.365080   73.037750\n",
       "2  409Wp  1.022732  0.151990  1.419926   85.265647"
      ]
     },
     "execution_count": 4,
     "metadata": {},
     "output_type": "execute_result"
    }
   ],
   "source": [
    "geo_data_0.head(3)"
   ]
  },
  {
   "cell_type": "markdown",
   "metadata": {},
   "source": [
    "* **id** — уникальный идентификатор скважины;\n",
    "* **f0, f1, f2** — три признака точек;\n",
    "* **product** — объём запасов в скважине (тыс. баррелей)."
   ]
  },
  {
   "cell_type": "code",
   "execution_count": 5,
   "metadata": {},
   "outputs": [
    {
     "data": {
      "text/plain": [
       "Index(['id', 'f0', 'f1', 'f2', 'product'], dtype='object')"
      ]
     },
     "execution_count": 5,
     "metadata": {},
     "output_type": "execute_result"
    }
   ],
   "source": [
    "geo_data_0.columns"
   ]
  },
  {
   "cell_type": "code",
   "execution_count": 6,
   "metadata": {
    "scrolled": false
   },
   "outputs": [
    {
     "data": {
      "text/plain": [
       "0"
      ]
     },
     "execution_count": 6,
     "metadata": {},
     "output_type": "execute_result"
    }
   ],
   "source": [
    "geo_data_0.duplicated().sum()"
   ]
  },
  {
   "cell_type": "code",
   "execution_count": 7,
   "metadata": {},
   "outputs": [
    {
     "data": {
      "text/plain": [
       "99990"
      ]
     },
     "execution_count": 7,
     "metadata": {},
     "output_type": "execute_result"
    }
   ],
   "source": [
    "len(geo_data_0.id.unique())"
   ]
  },
  {
   "cell_type": "markdown",
   "metadata": {},
   "source": [
    "* Скважины повторяются, так как значений в данных 100 000.\n",
    "\n",
    "* Удалим id скважин, так как не влияет на целевую задачу при построении модели."
   ]
  },
  {
   "cell_type": "code",
   "execution_count": 8,
   "metadata": {},
   "outputs": [
    {
     "data": {
      "text/html": [
       "<div>\n",
       "<style scoped>\n",
       "    .dataframe tbody tr th:only-of-type {\n",
       "        vertical-align: middle;\n",
       "    }\n",
       "\n",
       "    .dataframe tbody tr th {\n",
       "        vertical-align: top;\n",
       "    }\n",
       "\n",
       "    .dataframe thead th {\n",
       "        text-align: right;\n",
       "    }\n",
       "</style>\n",
       "<table border=\"1\" class=\"dataframe\">\n",
       "  <thead>\n",
       "    <tr style=\"text-align: right;\">\n",
       "      <th></th>\n",
       "      <th>f0</th>\n",
       "      <th>f1</th>\n",
       "      <th>f2</th>\n",
       "      <th>product</th>\n",
       "    </tr>\n",
       "  </thead>\n",
       "  <tbody>\n",
       "    <tr>\n",
       "      <th>0</th>\n",
       "      <td>0.705745</td>\n",
       "      <td>-0.497823</td>\n",
       "      <td>1.221170</td>\n",
       "      <td>105.280062</td>\n",
       "    </tr>\n",
       "    <tr>\n",
       "      <th>1</th>\n",
       "      <td>1.334711</td>\n",
       "      <td>-0.340164</td>\n",
       "      <td>4.365080</td>\n",
       "      <td>73.037750</td>\n",
       "    </tr>\n",
       "    <tr>\n",
       "      <th>2</th>\n",
       "      <td>1.022732</td>\n",
       "      <td>0.151990</td>\n",
       "      <td>1.419926</td>\n",
       "      <td>85.265647</td>\n",
       "    </tr>\n",
       "  </tbody>\n",
       "</table>\n",
       "</div>"
      ],
      "text/plain": [
       "         f0        f1        f2     product\n",
       "0  0.705745 -0.497823  1.221170  105.280062\n",
       "1  1.334711 -0.340164  4.365080   73.037750\n",
       "2  1.022732  0.151990  1.419926   85.265647"
      ]
     },
     "execution_count": 8,
     "metadata": {},
     "output_type": "execute_result"
    }
   ],
   "source": [
    "geo_data_0 = geo_data_0.drop(columns='id', axis=1)\n",
    "geo_data_0.head(3)"
   ]
  },
  {
   "cell_type": "code",
   "execution_count": 9,
   "metadata": {},
   "outputs": [
    {
     "data": {
      "text/html": [
       "<div>\n",
       "<style scoped>\n",
       "    .dataframe tbody tr th:only-of-type {\n",
       "        vertical-align: middle;\n",
       "    }\n",
       "\n",
       "    .dataframe tbody tr th {\n",
       "        vertical-align: top;\n",
       "    }\n",
       "\n",
       "    .dataframe thead th {\n",
       "        text-align: right;\n",
       "    }\n",
       "</style>\n",
       "<table border=\"1\" class=\"dataframe\">\n",
       "  <thead>\n",
       "    <tr style=\"text-align: right;\">\n",
       "      <th></th>\n",
       "      <th>f0</th>\n",
       "      <th>f1</th>\n",
       "      <th>f2</th>\n",
       "      <th>product</th>\n",
       "    </tr>\n",
       "  </thead>\n",
       "  <tbody>\n",
       "    <tr>\n",
       "      <th>count</th>\n",
       "      <td>100000.000000</td>\n",
       "      <td>100000.000000</td>\n",
       "      <td>100000.000000</td>\n",
       "      <td>100000.000000</td>\n",
       "    </tr>\n",
       "    <tr>\n",
       "      <th>mean</th>\n",
       "      <td>0.500419</td>\n",
       "      <td>0.250143</td>\n",
       "      <td>2.502647</td>\n",
       "      <td>92.500000</td>\n",
       "    </tr>\n",
       "    <tr>\n",
       "      <th>std</th>\n",
       "      <td>0.871832</td>\n",
       "      <td>0.504433</td>\n",
       "      <td>3.248248</td>\n",
       "      <td>44.288691</td>\n",
       "    </tr>\n",
       "    <tr>\n",
       "      <th>min</th>\n",
       "      <td>-1.408605</td>\n",
       "      <td>-0.848218</td>\n",
       "      <td>-12.088328</td>\n",
       "      <td>0.000000</td>\n",
       "    </tr>\n",
       "    <tr>\n",
       "      <th>25%</th>\n",
       "      <td>-0.072580</td>\n",
       "      <td>-0.200881</td>\n",
       "      <td>0.287748</td>\n",
       "      <td>56.497507</td>\n",
       "    </tr>\n",
       "    <tr>\n",
       "      <th>50%</th>\n",
       "      <td>0.502360</td>\n",
       "      <td>0.250252</td>\n",
       "      <td>2.515969</td>\n",
       "      <td>91.849972</td>\n",
       "    </tr>\n",
       "    <tr>\n",
       "      <th>75%</th>\n",
       "      <td>1.073581</td>\n",
       "      <td>0.700646</td>\n",
       "      <td>4.715088</td>\n",
       "      <td>128.564089</td>\n",
       "    </tr>\n",
       "    <tr>\n",
       "      <th>max</th>\n",
       "      <td>2.362331</td>\n",
       "      <td>1.343769</td>\n",
       "      <td>16.003790</td>\n",
       "      <td>185.364347</td>\n",
       "    </tr>\n",
       "  </tbody>\n",
       "</table>\n",
       "</div>"
      ],
      "text/plain": [
       "                  f0             f1             f2        product\n",
       "count  100000.000000  100000.000000  100000.000000  100000.000000\n",
       "mean        0.500419       0.250143       2.502647      92.500000\n",
       "std         0.871832       0.504433       3.248248      44.288691\n",
       "min        -1.408605      -0.848218     -12.088328       0.000000\n",
       "25%        -0.072580      -0.200881       0.287748      56.497507\n",
       "50%         0.502360       0.250252       2.515969      91.849972\n",
       "75%         1.073581       0.700646       4.715088     128.564089\n",
       "max         2.362331       1.343769      16.003790     185.364347"
      ]
     },
     "execution_count": 9,
     "metadata": {},
     "output_type": "execute_result"
    }
   ],
   "source": [
    "geo_data_0.describe()"
   ]
  },
  {
   "cell_type": "code",
   "execution_count": 10,
   "metadata": {},
   "outputs": [
    {
     "data": {
      "text/html": [
       "<div>\n",
       "<style scoped>\n",
       "    .dataframe tbody tr th:only-of-type {\n",
       "        vertical-align: middle;\n",
       "    }\n",
       "\n",
       "    .dataframe tbody tr th {\n",
       "        vertical-align: top;\n",
       "    }\n",
       "\n",
       "    .dataframe thead th {\n",
       "        text-align: right;\n",
       "    }\n",
       "</style>\n",
       "<table border=\"1\" class=\"dataframe\">\n",
       "  <thead>\n",
       "    <tr style=\"text-align: right;\">\n",
       "      <th></th>\n",
       "      <th>f0</th>\n",
       "      <th>f1</th>\n",
       "      <th>f2</th>\n",
       "      <th>product</th>\n",
       "    </tr>\n",
       "  </thead>\n",
       "  <tbody>\n",
       "    <tr>\n",
       "      <th>57263</th>\n",
       "      <td>-0.702064</td>\n",
       "      <td>0.375992</td>\n",
       "      <td>0.236572</td>\n",
       "      <td>0.0</td>\n",
       "    </tr>\n",
       "  </tbody>\n",
       "</table>\n",
       "</div>"
      ],
      "text/plain": [
       "             f0        f1        f2  product\n",
       "57263 -0.702064  0.375992  0.236572      0.0"
      ]
     },
     "execution_count": 10,
     "metadata": {},
     "output_type": "execute_result"
    }
   ],
   "source": [
    "geo_data_0[geo_data_0['product'] == 0]"
   ]
  },
  {
   "cell_type": "markdown",
   "metadata": {},
   "source": [
    "### geo_data_1"
   ]
  },
  {
   "cell_type": "code",
   "execution_count": 11,
   "metadata": {},
   "outputs": [
    {
     "name": "stdout",
     "output_type": "stream",
     "text": [
      "<class 'pandas.core.frame.DataFrame'>\n",
      "RangeIndex: 100000 entries, 0 to 99999\n",
      "Data columns (total 5 columns):\n",
      " #   Column   Non-Null Count   Dtype  \n",
      "---  ------   --------------   -----  \n",
      " 0   id       100000 non-null  object \n",
      " 1   f0       100000 non-null  float64\n",
      " 2   f1       100000 non-null  float64\n",
      " 3   f2       100000 non-null  float64\n",
      " 4   product  100000 non-null  float64\n",
      "dtypes: float64(4), object(1)\n",
      "memory usage: 3.8+ MB\n"
     ]
    }
   ],
   "source": [
    "geo_data_1.info()"
   ]
  },
  {
   "cell_type": "code",
   "execution_count": 12,
   "metadata": {},
   "outputs": [
    {
     "data": {
      "text/html": [
       "<div>\n",
       "<style scoped>\n",
       "    .dataframe tbody tr th:only-of-type {\n",
       "        vertical-align: middle;\n",
       "    }\n",
       "\n",
       "    .dataframe tbody tr th {\n",
       "        vertical-align: top;\n",
       "    }\n",
       "\n",
       "    .dataframe thead th {\n",
       "        text-align: right;\n",
       "    }\n",
       "</style>\n",
       "<table border=\"1\" class=\"dataframe\">\n",
       "  <thead>\n",
       "    <tr style=\"text-align: right;\">\n",
       "      <th></th>\n",
       "      <th>id</th>\n",
       "      <th>f0</th>\n",
       "      <th>f1</th>\n",
       "      <th>f2</th>\n",
       "      <th>product</th>\n",
       "    </tr>\n",
       "  </thead>\n",
       "  <tbody>\n",
       "    <tr>\n",
       "      <th>0</th>\n",
       "      <td>kBEdx</td>\n",
       "      <td>-15.001348</td>\n",
       "      <td>-8.276000</td>\n",
       "      <td>-0.005876</td>\n",
       "      <td>3.179103</td>\n",
       "    </tr>\n",
       "    <tr>\n",
       "      <th>1</th>\n",
       "      <td>62mP7</td>\n",
       "      <td>14.272088</td>\n",
       "      <td>-3.475083</td>\n",
       "      <td>0.999183</td>\n",
       "      <td>26.953261</td>\n",
       "    </tr>\n",
       "    <tr>\n",
       "      <th>2</th>\n",
       "      <td>vyE1P</td>\n",
       "      <td>6.263187</td>\n",
       "      <td>-5.948386</td>\n",
       "      <td>5.001160</td>\n",
       "      <td>134.766305</td>\n",
       "    </tr>\n",
       "  </tbody>\n",
       "</table>\n",
       "</div>"
      ],
      "text/plain": [
       "      id         f0        f1        f2     product\n",
       "0  kBEdx -15.001348 -8.276000 -0.005876    3.179103\n",
       "1  62mP7  14.272088 -3.475083  0.999183   26.953261\n",
       "2  vyE1P   6.263187 -5.948386  5.001160  134.766305"
      ]
     },
     "execution_count": 12,
     "metadata": {},
     "output_type": "execute_result"
    }
   ],
   "source": [
    "geo_data_1.head(3)"
   ]
  },
  {
   "cell_type": "markdown",
   "metadata": {},
   "source": [
    "* **id** — уникальный идентификатор скважины;\n",
    "* **f0, f1, f2** — три признака точек;\n",
    "* **product** — объём запасов в скважине (тыс. баррелей)."
   ]
  },
  {
   "cell_type": "code",
   "execution_count": 13,
   "metadata": {},
   "outputs": [
    {
     "data": {
      "text/plain": [
       "Index(['id', 'f0', 'f1', 'f2', 'product'], dtype='object')"
      ]
     },
     "execution_count": 13,
     "metadata": {},
     "output_type": "execute_result"
    }
   ],
   "source": [
    "geo_data_1.columns"
   ]
  },
  {
   "cell_type": "code",
   "execution_count": 14,
   "metadata": {
    "scrolled": false
   },
   "outputs": [
    {
     "data": {
      "text/plain": [
       "0"
      ]
     },
     "execution_count": 14,
     "metadata": {},
     "output_type": "execute_result"
    }
   ],
   "source": [
    "geo_data_1.duplicated().sum()"
   ]
  },
  {
   "cell_type": "code",
   "execution_count": 15,
   "metadata": {},
   "outputs": [
    {
     "data": {
      "text/plain": [
       "99996"
      ]
     },
     "execution_count": 15,
     "metadata": {},
     "output_type": "execute_result"
    }
   ],
   "source": [
    "len(geo_data_1.id.unique())"
   ]
  },
  {
   "cell_type": "markdown",
   "metadata": {},
   "source": [
    "* Скважины повторяются, так как значений в данных 100 000.\n",
    "\n",
    "* Удалим id скважин, так как не влияет на целевую задачу при построении модели."
   ]
  },
  {
   "cell_type": "code",
   "execution_count": 16,
   "metadata": {},
   "outputs": [
    {
     "data": {
      "text/html": [
       "<div>\n",
       "<style scoped>\n",
       "    .dataframe tbody tr th:only-of-type {\n",
       "        vertical-align: middle;\n",
       "    }\n",
       "\n",
       "    .dataframe tbody tr th {\n",
       "        vertical-align: top;\n",
       "    }\n",
       "\n",
       "    .dataframe thead th {\n",
       "        text-align: right;\n",
       "    }\n",
       "</style>\n",
       "<table border=\"1\" class=\"dataframe\">\n",
       "  <thead>\n",
       "    <tr style=\"text-align: right;\">\n",
       "      <th></th>\n",
       "      <th>f0</th>\n",
       "      <th>f1</th>\n",
       "      <th>f2</th>\n",
       "      <th>product</th>\n",
       "    </tr>\n",
       "  </thead>\n",
       "  <tbody>\n",
       "    <tr>\n",
       "      <th>0</th>\n",
       "      <td>-15.001348</td>\n",
       "      <td>-8.276000</td>\n",
       "      <td>-0.005876</td>\n",
       "      <td>3.179103</td>\n",
       "    </tr>\n",
       "    <tr>\n",
       "      <th>1</th>\n",
       "      <td>14.272088</td>\n",
       "      <td>-3.475083</td>\n",
       "      <td>0.999183</td>\n",
       "      <td>26.953261</td>\n",
       "    </tr>\n",
       "    <tr>\n",
       "      <th>2</th>\n",
       "      <td>6.263187</td>\n",
       "      <td>-5.948386</td>\n",
       "      <td>5.001160</td>\n",
       "      <td>134.766305</td>\n",
       "    </tr>\n",
       "  </tbody>\n",
       "</table>\n",
       "</div>"
      ],
      "text/plain": [
       "          f0        f1        f2     product\n",
       "0 -15.001348 -8.276000 -0.005876    3.179103\n",
       "1  14.272088 -3.475083  0.999183   26.953261\n",
       "2   6.263187 -5.948386  5.001160  134.766305"
      ]
     },
     "execution_count": 16,
     "metadata": {},
     "output_type": "execute_result"
    }
   ],
   "source": [
    "geo_data_1 = geo_data_1.drop(columns='id', axis=1)\n",
    "geo_data_1.head(3)"
   ]
  },
  {
   "cell_type": "code",
   "execution_count": 17,
   "metadata": {},
   "outputs": [
    {
     "data": {
      "text/html": [
       "<div>\n",
       "<style scoped>\n",
       "    .dataframe tbody tr th:only-of-type {\n",
       "        vertical-align: middle;\n",
       "    }\n",
       "\n",
       "    .dataframe tbody tr th {\n",
       "        vertical-align: top;\n",
       "    }\n",
       "\n",
       "    .dataframe thead th {\n",
       "        text-align: right;\n",
       "    }\n",
       "</style>\n",
       "<table border=\"1\" class=\"dataframe\">\n",
       "  <thead>\n",
       "    <tr style=\"text-align: right;\">\n",
       "      <th></th>\n",
       "      <th>f0</th>\n",
       "      <th>f1</th>\n",
       "      <th>f2</th>\n",
       "      <th>product</th>\n",
       "    </tr>\n",
       "  </thead>\n",
       "  <tbody>\n",
       "    <tr>\n",
       "      <th>count</th>\n",
       "      <td>100000.000000</td>\n",
       "      <td>100000.000000</td>\n",
       "      <td>100000.000000</td>\n",
       "      <td>100000.000000</td>\n",
       "    </tr>\n",
       "    <tr>\n",
       "      <th>mean</th>\n",
       "      <td>1.141296</td>\n",
       "      <td>-4.796579</td>\n",
       "      <td>2.494541</td>\n",
       "      <td>68.825000</td>\n",
       "    </tr>\n",
       "    <tr>\n",
       "      <th>std</th>\n",
       "      <td>8.965932</td>\n",
       "      <td>5.119872</td>\n",
       "      <td>1.703572</td>\n",
       "      <td>45.944423</td>\n",
       "    </tr>\n",
       "    <tr>\n",
       "      <th>min</th>\n",
       "      <td>-31.609576</td>\n",
       "      <td>-26.358598</td>\n",
       "      <td>-0.018144</td>\n",
       "      <td>0.000000</td>\n",
       "    </tr>\n",
       "    <tr>\n",
       "      <th>25%</th>\n",
       "      <td>-6.298551</td>\n",
       "      <td>-8.267985</td>\n",
       "      <td>1.000021</td>\n",
       "      <td>26.953261</td>\n",
       "    </tr>\n",
       "    <tr>\n",
       "      <th>50%</th>\n",
       "      <td>1.153055</td>\n",
       "      <td>-4.813172</td>\n",
       "      <td>2.011479</td>\n",
       "      <td>57.085625</td>\n",
       "    </tr>\n",
       "    <tr>\n",
       "      <th>75%</th>\n",
       "      <td>8.621015</td>\n",
       "      <td>-1.332816</td>\n",
       "      <td>3.999904</td>\n",
       "      <td>107.813044</td>\n",
       "    </tr>\n",
       "    <tr>\n",
       "      <th>max</th>\n",
       "      <td>29.421755</td>\n",
       "      <td>18.734063</td>\n",
       "      <td>5.019721</td>\n",
       "      <td>137.945408</td>\n",
       "    </tr>\n",
       "  </tbody>\n",
       "</table>\n",
       "</div>"
      ],
      "text/plain": [
       "                  f0             f1             f2        product\n",
       "count  100000.000000  100000.000000  100000.000000  100000.000000\n",
       "mean        1.141296      -4.796579       2.494541      68.825000\n",
       "std         8.965932       5.119872       1.703572      45.944423\n",
       "min       -31.609576     -26.358598      -0.018144       0.000000\n",
       "25%        -6.298551      -8.267985       1.000021      26.953261\n",
       "50%         1.153055      -4.813172       2.011479      57.085625\n",
       "75%         8.621015      -1.332816       3.999904     107.813044\n",
       "max        29.421755      18.734063       5.019721     137.945408"
      ]
     },
     "execution_count": 17,
     "metadata": {},
     "output_type": "execute_result"
    }
   ],
   "source": [
    "geo_data_1.describe()"
   ]
  },
  {
   "cell_type": "code",
   "execution_count": 18,
   "metadata": {},
   "outputs": [
    {
     "data": {
      "text/html": [
       "<div>\n",
       "<style scoped>\n",
       "    .dataframe tbody tr th:only-of-type {\n",
       "        vertical-align: middle;\n",
       "    }\n",
       "\n",
       "    .dataframe tbody tr th {\n",
       "        vertical-align: top;\n",
       "    }\n",
       "\n",
       "    .dataframe thead th {\n",
       "        text-align: right;\n",
       "    }\n",
       "</style>\n",
       "<table border=\"1\" class=\"dataframe\">\n",
       "  <thead>\n",
       "    <tr style=\"text-align: right;\">\n",
       "      <th></th>\n",
       "      <th>f0</th>\n",
       "      <th>f1</th>\n",
       "      <th>f2</th>\n",
       "      <th>product</th>\n",
       "    </tr>\n",
       "  </thead>\n",
       "  <tbody>\n",
       "    <tr>\n",
       "      <th>11</th>\n",
       "      <td>16.320755</td>\n",
       "      <td>-0.562946</td>\n",
       "      <td>-0.001783</td>\n",
       "      <td>0.0</td>\n",
       "    </tr>\n",
       "    <tr>\n",
       "      <th>13</th>\n",
       "      <td>6.695604</td>\n",
       "      <td>-0.749449</td>\n",
       "      <td>-0.007630</td>\n",
       "      <td>0.0</td>\n",
       "    </tr>\n",
       "    <tr>\n",
       "      <th>62</th>\n",
       "      <td>21.418478</td>\n",
       "      <td>-5.134490</td>\n",
       "      <td>-0.002836</td>\n",
       "      <td>0.0</td>\n",
       "    </tr>\n",
       "    <tr>\n",
       "      <th>63</th>\n",
       "      <td>6.822701</td>\n",
       "      <td>3.104979</td>\n",
       "      <td>-0.000723</td>\n",
       "      <td>0.0</td>\n",
       "    </tr>\n",
       "    <tr>\n",
       "      <th>77</th>\n",
       "      <td>6.750150</td>\n",
       "      <td>-11.893512</td>\n",
       "      <td>-0.001601</td>\n",
       "      <td>0.0</td>\n",
       "    </tr>\n",
       "    <tr>\n",
       "      <th>...</th>\n",
       "      <td>...</td>\n",
       "      <td>...</td>\n",
       "      <td>...</td>\n",
       "      <td>...</td>\n",
       "    </tr>\n",
       "    <tr>\n",
       "      <th>99936</th>\n",
       "      <td>5.085749</td>\n",
       "      <td>-3.980305</td>\n",
       "      <td>0.005063</td>\n",
       "      <td>0.0</td>\n",
       "    </tr>\n",
       "    <tr>\n",
       "      <th>99948</th>\n",
       "      <td>8.277805</td>\n",
       "      <td>-9.178818</td>\n",
       "      <td>0.003275</td>\n",
       "      <td>0.0</td>\n",
       "    </tr>\n",
       "    <tr>\n",
       "      <th>99956</th>\n",
       "      <td>13.343983</td>\n",
       "      <td>-1.290200</td>\n",
       "      <td>0.005980</td>\n",
       "      <td>0.0</td>\n",
       "    </tr>\n",
       "    <tr>\n",
       "      <th>99961</th>\n",
       "      <td>13.854163</td>\n",
       "      <td>-11.528089</td>\n",
       "      <td>-0.005556</td>\n",
       "      <td>0.0</td>\n",
       "    </tr>\n",
       "    <tr>\n",
       "      <th>99973</th>\n",
       "      <td>12.698645</td>\n",
       "      <td>-4.384673</td>\n",
       "      <td>-0.002600</td>\n",
       "      <td>0.0</td>\n",
       "    </tr>\n",
       "  </tbody>\n",
       "</table>\n",
       "<p>8235 rows × 4 columns</p>\n",
       "</div>"
      ],
      "text/plain": [
       "              f0         f1        f2  product\n",
       "11     16.320755  -0.562946 -0.001783      0.0\n",
       "13      6.695604  -0.749449 -0.007630      0.0\n",
       "62     21.418478  -5.134490 -0.002836      0.0\n",
       "63      6.822701   3.104979 -0.000723      0.0\n",
       "77      6.750150 -11.893512 -0.001601      0.0\n",
       "...          ...        ...       ...      ...\n",
       "99936   5.085749  -3.980305  0.005063      0.0\n",
       "99948   8.277805  -9.178818  0.003275      0.0\n",
       "99956  13.343983  -1.290200  0.005980      0.0\n",
       "99961  13.854163 -11.528089 -0.005556      0.0\n",
       "99973  12.698645  -4.384673 -0.002600      0.0\n",
       "\n",
       "[8235 rows x 4 columns]"
      ]
     },
     "execution_count": 18,
     "metadata": {},
     "output_type": "execute_result"
    }
   ],
   "source": [
    "geo_data_1[geo_data_1['product'] == 0]"
   ]
  },
  {
   "cell_type": "code",
   "execution_count": 19,
   "metadata": {},
   "outputs": [
    {
     "data": {
      "text/html": [
       "<div>\n",
       "<style scoped>\n",
       "    .dataframe tbody tr th:only-of-type {\n",
       "        vertical-align: middle;\n",
       "    }\n",
       "\n",
       "    .dataframe tbody tr th {\n",
       "        vertical-align: top;\n",
       "    }\n",
       "\n",
       "    .dataframe thead th {\n",
       "        text-align: right;\n",
       "    }\n",
       "</style>\n",
       "<table border=\"1\" class=\"dataframe\">\n",
       "  <thead>\n",
       "    <tr style=\"text-align: right;\">\n",
       "      <th></th>\n",
       "      <th>f0</th>\n",
       "      <th>f1</th>\n",
       "      <th>f2</th>\n",
       "      <th>product</th>\n",
       "    </tr>\n",
       "  </thead>\n",
       "  <tbody>\n",
       "    <tr>\n",
       "      <th>count</th>\n",
       "      <td>8235.000000</td>\n",
       "      <td>8235.000000</td>\n",
       "      <td>8235.000000</td>\n",
       "      <td>8235.0</td>\n",
       "    </tr>\n",
       "    <tr>\n",
       "      <th>mean</th>\n",
       "      <td>8.663769</td>\n",
       "      <td>-3.655963</td>\n",
       "      <td>0.000003</td>\n",
       "      <td>0.0</td>\n",
       "    </tr>\n",
       "    <tr>\n",
       "      <th>std</th>\n",
       "      <td>4.994889</td>\n",
       "      <td>5.027089</td>\n",
       "      <td>0.005013</td>\n",
       "      <td>0.0</td>\n",
       "    </tr>\n",
       "    <tr>\n",
       "      <th>min</th>\n",
       "      <td>-9.460115</td>\n",
       "      <td>-23.108977</td>\n",
       "      <td>-0.017686</td>\n",
       "      <td>0.0</td>\n",
       "    </tr>\n",
       "    <tr>\n",
       "      <th>25%</th>\n",
       "      <td>5.226156</td>\n",
       "      <td>-7.015559</td>\n",
       "      <td>-0.003324</td>\n",
       "      <td>0.0</td>\n",
       "    </tr>\n",
       "    <tr>\n",
       "      <th>50%</th>\n",
       "      <td>8.732015</td>\n",
       "      <td>-3.668352</td>\n",
       "      <td>-0.000070</td>\n",
       "      <td>0.0</td>\n",
       "    </tr>\n",
       "    <tr>\n",
       "      <th>75%</th>\n",
       "      <td>12.008291</td>\n",
       "      <td>-0.277703</td>\n",
       "      <td>0.003373</td>\n",
       "      <td>0.0</td>\n",
       "    </tr>\n",
       "    <tr>\n",
       "      <th>max</th>\n",
       "      <td>25.866134</td>\n",
       "      <td>13.997228</td>\n",
       "      <td>0.020273</td>\n",
       "      <td>0.0</td>\n",
       "    </tr>\n",
       "  </tbody>\n",
       "</table>\n",
       "</div>"
      ],
      "text/plain": [
       "                f0           f1           f2  product\n",
       "count  8235.000000  8235.000000  8235.000000   8235.0\n",
       "mean      8.663769    -3.655963     0.000003      0.0\n",
       "std       4.994889     5.027089     0.005013      0.0\n",
       "min      -9.460115   -23.108977    -0.017686      0.0\n",
       "25%       5.226156    -7.015559    -0.003324      0.0\n",
       "50%       8.732015    -3.668352    -0.000070      0.0\n",
       "75%      12.008291    -0.277703     0.003373      0.0\n",
       "max      25.866134    13.997228     0.020273      0.0"
      ]
     },
     "execution_count": 19,
     "metadata": {},
     "output_type": "execute_result"
    }
   ],
   "source": [
    "geo_data_1[geo_data_1['product'] == 0].describe()"
   ]
  },
  {
   "cell_type": "markdown",
   "metadata": {},
   "source": [
    "Много нулевых значений. Заполнять медианой не будем. Видимо пустые скважины."
   ]
  },
  {
   "cell_type": "markdown",
   "metadata": {},
   "source": [
    "### geo_data_2"
   ]
  },
  {
   "cell_type": "code",
   "execution_count": 20,
   "metadata": {},
   "outputs": [
    {
     "name": "stdout",
     "output_type": "stream",
     "text": [
      "<class 'pandas.core.frame.DataFrame'>\n",
      "RangeIndex: 100000 entries, 0 to 99999\n",
      "Data columns (total 5 columns):\n",
      " #   Column   Non-Null Count   Dtype  \n",
      "---  ------   --------------   -----  \n",
      " 0   id       100000 non-null  object \n",
      " 1   f0       100000 non-null  float64\n",
      " 2   f1       100000 non-null  float64\n",
      " 3   f2       100000 non-null  float64\n",
      " 4   product  100000 non-null  float64\n",
      "dtypes: float64(4), object(1)\n",
      "memory usage: 3.8+ MB\n"
     ]
    }
   ],
   "source": [
    "geo_data_2.info()"
   ]
  },
  {
   "cell_type": "code",
   "execution_count": 21,
   "metadata": {},
   "outputs": [
    {
     "data": {
      "text/html": [
       "<div>\n",
       "<style scoped>\n",
       "    .dataframe tbody tr th:only-of-type {\n",
       "        vertical-align: middle;\n",
       "    }\n",
       "\n",
       "    .dataframe tbody tr th {\n",
       "        vertical-align: top;\n",
       "    }\n",
       "\n",
       "    .dataframe thead th {\n",
       "        text-align: right;\n",
       "    }\n",
       "</style>\n",
       "<table border=\"1\" class=\"dataframe\">\n",
       "  <thead>\n",
       "    <tr style=\"text-align: right;\">\n",
       "      <th></th>\n",
       "      <th>id</th>\n",
       "      <th>f0</th>\n",
       "      <th>f1</th>\n",
       "      <th>f2</th>\n",
       "      <th>product</th>\n",
       "    </tr>\n",
       "  </thead>\n",
       "  <tbody>\n",
       "    <tr>\n",
       "      <th>0</th>\n",
       "      <td>fwXo0</td>\n",
       "      <td>-1.146987</td>\n",
       "      <td>0.963328</td>\n",
       "      <td>-0.828965</td>\n",
       "      <td>27.758673</td>\n",
       "    </tr>\n",
       "    <tr>\n",
       "      <th>1</th>\n",
       "      <td>WJtFt</td>\n",
       "      <td>0.262778</td>\n",
       "      <td>0.269839</td>\n",
       "      <td>-2.530187</td>\n",
       "      <td>56.069697</td>\n",
       "    </tr>\n",
       "    <tr>\n",
       "      <th>2</th>\n",
       "      <td>ovLUW</td>\n",
       "      <td>0.194587</td>\n",
       "      <td>0.289035</td>\n",
       "      <td>-5.586433</td>\n",
       "      <td>62.871910</td>\n",
       "    </tr>\n",
       "  </tbody>\n",
       "</table>\n",
       "</div>"
      ],
      "text/plain": [
       "      id        f0        f1        f2    product\n",
       "0  fwXo0 -1.146987  0.963328 -0.828965  27.758673\n",
       "1  WJtFt  0.262778  0.269839 -2.530187  56.069697\n",
       "2  ovLUW  0.194587  0.289035 -5.586433  62.871910"
      ]
     },
     "execution_count": 21,
     "metadata": {},
     "output_type": "execute_result"
    }
   ],
   "source": [
    "geo_data_2.head(3)"
   ]
  },
  {
   "cell_type": "markdown",
   "metadata": {},
   "source": [
    "* **id** — уникальный идентификатор скважины;\n",
    "* **f0, f1, f2** — три признака точек;\n",
    "* **product** — объём запасов в скважине (тыс. баррелей)."
   ]
  },
  {
   "cell_type": "code",
   "execution_count": 22,
   "metadata": {},
   "outputs": [
    {
     "data": {
      "text/plain": [
       "Index(['id', 'f0', 'f1', 'f2', 'product'], dtype='object')"
      ]
     },
     "execution_count": 22,
     "metadata": {},
     "output_type": "execute_result"
    }
   ],
   "source": [
    "geo_data_2.columns"
   ]
  },
  {
   "cell_type": "code",
   "execution_count": 23,
   "metadata": {
    "scrolled": false
   },
   "outputs": [
    {
     "data": {
      "text/plain": [
       "0"
      ]
     },
     "execution_count": 23,
     "metadata": {},
     "output_type": "execute_result"
    }
   ],
   "source": [
    "geo_data_2.duplicated().sum()"
   ]
  },
  {
   "cell_type": "code",
   "execution_count": 24,
   "metadata": {},
   "outputs": [
    {
     "data": {
      "text/plain": [
       "99996"
      ]
     },
     "execution_count": 24,
     "metadata": {},
     "output_type": "execute_result"
    }
   ],
   "source": [
    "len(geo_data_2.id.unique())"
   ]
  },
  {
   "cell_type": "markdown",
   "metadata": {},
   "source": [
    "* Скважины повторяются, так как значений в данных 100 000.\n",
    "\n",
    "* Удалим id скважин, так как не влияет на целевую задачу при построении модели."
   ]
  },
  {
   "cell_type": "code",
   "execution_count": 25,
   "metadata": {},
   "outputs": [
    {
     "data": {
      "text/html": [
       "<div>\n",
       "<style scoped>\n",
       "    .dataframe tbody tr th:only-of-type {\n",
       "        vertical-align: middle;\n",
       "    }\n",
       "\n",
       "    .dataframe tbody tr th {\n",
       "        vertical-align: top;\n",
       "    }\n",
       "\n",
       "    .dataframe thead th {\n",
       "        text-align: right;\n",
       "    }\n",
       "</style>\n",
       "<table border=\"1\" class=\"dataframe\">\n",
       "  <thead>\n",
       "    <tr style=\"text-align: right;\">\n",
       "      <th></th>\n",
       "      <th>f0</th>\n",
       "      <th>f1</th>\n",
       "      <th>f2</th>\n",
       "      <th>product</th>\n",
       "    </tr>\n",
       "  </thead>\n",
       "  <tbody>\n",
       "    <tr>\n",
       "      <th>0</th>\n",
       "      <td>-1.146987</td>\n",
       "      <td>0.963328</td>\n",
       "      <td>-0.828965</td>\n",
       "      <td>27.758673</td>\n",
       "    </tr>\n",
       "    <tr>\n",
       "      <th>1</th>\n",
       "      <td>0.262778</td>\n",
       "      <td>0.269839</td>\n",
       "      <td>-2.530187</td>\n",
       "      <td>56.069697</td>\n",
       "    </tr>\n",
       "    <tr>\n",
       "      <th>2</th>\n",
       "      <td>0.194587</td>\n",
       "      <td>0.289035</td>\n",
       "      <td>-5.586433</td>\n",
       "      <td>62.871910</td>\n",
       "    </tr>\n",
       "  </tbody>\n",
       "</table>\n",
       "</div>"
      ],
      "text/plain": [
       "         f0        f1        f2    product\n",
       "0 -1.146987  0.963328 -0.828965  27.758673\n",
       "1  0.262778  0.269839 -2.530187  56.069697\n",
       "2  0.194587  0.289035 -5.586433  62.871910"
      ]
     },
     "execution_count": 25,
     "metadata": {},
     "output_type": "execute_result"
    }
   ],
   "source": [
    "geo_data_2 = geo_data_2.drop(columns='id', axis=1)\n",
    "geo_data_2.head(3)"
   ]
  },
  {
   "cell_type": "code",
   "execution_count": 26,
   "metadata": {},
   "outputs": [
    {
     "data": {
      "text/html": [
       "<div>\n",
       "<style scoped>\n",
       "    .dataframe tbody tr th:only-of-type {\n",
       "        vertical-align: middle;\n",
       "    }\n",
       "\n",
       "    .dataframe tbody tr th {\n",
       "        vertical-align: top;\n",
       "    }\n",
       "\n",
       "    .dataframe thead th {\n",
       "        text-align: right;\n",
       "    }\n",
       "</style>\n",
       "<table border=\"1\" class=\"dataframe\">\n",
       "  <thead>\n",
       "    <tr style=\"text-align: right;\">\n",
       "      <th></th>\n",
       "      <th>f0</th>\n",
       "      <th>f1</th>\n",
       "      <th>f2</th>\n",
       "      <th>product</th>\n",
       "    </tr>\n",
       "  </thead>\n",
       "  <tbody>\n",
       "    <tr>\n",
       "      <th>count</th>\n",
       "      <td>100000.000000</td>\n",
       "      <td>100000.000000</td>\n",
       "      <td>100000.000000</td>\n",
       "      <td>100000.000000</td>\n",
       "    </tr>\n",
       "    <tr>\n",
       "      <th>mean</th>\n",
       "      <td>0.002023</td>\n",
       "      <td>-0.002081</td>\n",
       "      <td>2.495128</td>\n",
       "      <td>95.000000</td>\n",
       "    </tr>\n",
       "    <tr>\n",
       "      <th>std</th>\n",
       "      <td>1.732045</td>\n",
       "      <td>1.730417</td>\n",
       "      <td>3.473445</td>\n",
       "      <td>44.749921</td>\n",
       "    </tr>\n",
       "    <tr>\n",
       "      <th>min</th>\n",
       "      <td>-8.760004</td>\n",
       "      <td>-7.084020</td>\n",
       "      <td>-11.970335</td>\n",
       "      <td>0.000000</td>\n",
       "    </tr>\n",
       "    <tr>\n",
       "      <th>25%</th>\n",
       "      <td>-1.162288</td>\n",
       "      <td>-1.174820</td>\n",
       "      <td>0.130359</td>\n",
       "      <td>59.450441</td>\n",
       "    </tr>\n",
       "    <tr>\n",
       "      <th>50%</th>\n",
       "      <td>0.009424</td>\n",
       "      <td>-0.009482</td>\n",
       "      <td>2.484236</td>\n",
       "      <td>94.925613</td>\n",
       "    </tr>\n",
       "    <tr>\n",
       "      <th>75%</th>\n",
       "      <td>1.158535</td>\n",
       "      <td>1.163678</td>\n",
       "      <td>4.858794</td>\n",
       "      <td>130.595027</td>\n",
       "    </tr>\n",
       "    <tr>\n",
       "      <th>max</th>\n",
       "      <td>7.238262</td>\n",
       "      <td>7.844801</td>\n",
       "      <td>16.739402</td>\n",
       "      <td>190.029838</td>\n",
       "    </tr>\n",
       "  </tbody>\n",
       "</table>\n",
       "</div>"
      ],
      "text/plain": [
       "                  f0             f1             f2        product\n",
       "count  100000.000000  100000.000000  100000.000000  100000.000000\n",
       "mean        0.002023      -0.002081       2.495128      95.000000\n",
       "std         1.732045       1.730417       3.473445      44.749921\n",
       "min        -8.760004      -7.084020     -11.970335       0.000000\n",
       "25%        -1.162288      -1.174820       0.130359      59.450441\n",
       "50%         0.009424      -0.009482       2.484236      94.925613\n",
       "75%         1.158535       1.163678       4.858794     130.595027\n",
       "max         7.238262       7.844801      16.739402     190.029838"
      ]
     },
     "execution_count": 26,
     "metadata": {},
     "output_type": "execute_result"
    }
   ],
   "source": [
    "geo_data_2.describe()"
   ]
  },
  {
   "cell_type": "code",
   "execution_count": 27,
   "metadata": {},
   "outputs": [
    {
     "data": {
      "text/html": [
       "<div>\n",
       "<style scoped>\n",
       "    .dataframe tbody tr th:only-of-type {\n",
       "        vertical-align: middle;\n",
       "    }\n",
       "\n",
       "    .dataframe tbody tr th {\n",
       "        vertical-align: top;\n",
       "    }\n",
       "\n",
       "    .dataframe thead th {\n",
       "        text-align: right;\n",
       "    }\n",
       "</style>\n",
       "<table border=\"1\" class=\"dataframe\">\n",
       "  <thead>\n",
       "    <tr style=\"text-align: right;\">\n",
       "      <th></th>\n",
       "      <th>f0</th>\n",
       "      <th>f1</th>\n",
       "      <th>f2</th>\n",
       "      <th>product</th>\n",
       "    </tr>\n",
       "  </thead>\n",
       "  <tbody>\n",
       "    <tr>\n",
       "      <th>68149</th>\n",
       "      <td>-0.865596</td>\n",
       "      <td>-1.615247</td>\n",
       "      <td>-4.126441</td>\n",
       "      <td>0.0</td>\n",
       "    </tr>\n",
       "  </tbody>\n",
       "</table>\n",
       "</div>"
      ],
      "text/plain": [
       "             f0        f1        f2  product\n",
       "68149 -0.865596 -1.615247 -4.126441      0.0"
      ]
     },
     "execution_count": 27,
     "metadata": {},
     "output_type": "execute_result"
    }
   ],
   "source": [
    "geo_data_2[geo_data_2['product'] == 0]"
   ]
  },
  {
   "cell_type": "markdown",
   "metadata": {},
   "source": [
    "### Вывод\n",
    "\n",
    "* Пропущенных значений нет;\n",
    "* id скважин повторяются;\n",
    "* id для построения модели не важен, столбец удален;\n",
    "* Дубликатов нет;\n",
    "* Данные имеют численные признаки;\n",
    "* geo_data_1 имеет 8235 пустых скважин (8%)."
   ]
  },
  {
   "cell_type": "markdown",
   "metadata": {},
   "source": [
    "## Обучение и проверка модели"
   ]
  },
  {
   "cell_type": "markdown",
   "metadata": {},
   "source": [
    "### geo_data_0"
   ]
  },
  {
   "cell_type": "code",
   "execution_count": 28,
   "metadata": {},
   "outputs": [
    {
     "data": {
      "text/html": [
       "<div>\n",
       "<style scoped>\n",
       "    .dataframe tbody tr th:only-of-type {\n",
       "        vertical-align: middle;\n",
       "    }\n",
       "\n",
       "    .dataframe tbody tr th {\n",
       "        vertical-align: top;\n",
       "    }\n",
       "\n",
       "    .dataframe thead th {\n",
       "        text-align: right;\n",
       "    }\n",
       "</style>\n",
       "<table border=\"1\" class=\"dataframe\">\n",
       "  <thead>\n",
       "    <tr style=\"text-align: right;\">\n",
       "      <th></th>\n",
       "      <th>f0</th>\n",
       "      <th>f1</th>\n",
       "      <th>f2</th>\n",
       "      <th>product</th>\n",
       "    </tr>\n",
       "  </thead>\n",
       "  <tbody>\n",
       "    <tr>\n",
       "      <th>0</th>\n",
       "      <td>0.705745</td>\n",
       "      <td>-0.497823</td>\n",
       "      <td>1.221170</td>\n",
       "      <td>105.280062</td>\n",
       "    </tr>\n",
       "    <tr>\n",
       "      <th>1</th>\n",
       "      <td>1.334711</td>\n",
       "      <td>-0.340164</td>\n",
       "      <td>4.365080</td>\n",
       "      <td>73.037750</td>\n",
       "    </tr>\n",
       "    <tr>\n",
       "      <th>2</th>\n",
       "      <td>1.022732</td>\n",
       "      <td>0.151990</td>\n",
       "      <td>1.419926</td>\n",
       "      <td>85.265647</td>\n",
       "    </tr>\n",
       "  </tbody>\n",
       "</table>\n",
       "</div>"
      ],
      "text/plain": [
       "         f0        f1        f2     product\n",
       "0  0.705745 -0.497823  1.221170  105.280062\n",
       "1  1.334711 -0.340164  4.365080   73.037750\n",
       "2  1.022732  0.151990  1.419926   85.265647"
      ]
     },
     "execution_count": 28,
     "metadata": {},
     "output_type": "execute_result"
    }
   ],
   "source": [
    "geo_data_0.head(3)"
   ]
  },
  {
   "cell_type": "code",
   "execution_count": 29,
   "metadata": {},
   "outputs": [],
   "source": [
    "features = geo_data_0.drop(['product'], axis=1) \n",
    "target = geo_data_0['product'] \n",
    "features_train, features_valid, target_train, target_valid = train_test_split(\n",
    "    features, target, test_size=0.25, random_state=12345)"
   ]
  },
  {
   "cell_type": "markdown",
   "metadata": {},
   "source": [
    "Применим масштабирование данных."
   ]
  },
  {
   "cell_type": "code",
   "execution_count": 30,
   "metadata": {},
   "outputs": [],
   "source": [
    "pd.options.mode.chained_assignment = None\n",
    "\n",
    "numeric = ['f0', 'f1', 'f2']\n",
    "\n",
    "scaler = StandardScaler()\n",
    "scaler.fit(features_train[numeric])\n",
    "\n",
    "features_train[numeric] = scaler.transform(features_train[numeric])\n",
    "features_valid[numeric] = scaler.transform(features_valid[numeric])"
   ]
  },
  {
   "cell_type": "code",
   "execution_count": 31,
   "metadata": {
    "scrolled": false
   },
   "outputs": [
    {
     "data": {
      "text/html": [
       "<div>\n",
       "<style scoped>\n",
       "    .dataframe tbody tr th:only-of-type {\n",
       "        vertical-align: middle;\n",
       "    }\n",
       "\n",
       "    .dataframe tbody tr th {\n",
       "        vertical-align: top;\n",
       "    }\n",
       "\n",
       "    .dataframe thead th {\n",
       "        text-align: right;\n",
       "    }\n",
       "</style>\n",
       "<table border=\"1\" class=\"dataframe\">\n",
       "  <thead>\n",
       "    <tr style=\"text-align: right;\">\n",
       "      <th></th>\n",
       "      <th>f0</th>\n",
       "      <th>f1</th>\n",
       "      <th>f2</th>\n",
       "    </tr>\n",
       "  </thead>\n",
       "  <tbody>\n",
       "    <tr>\n",
       "      <th>count</th>\n",
       "      <td>7.500000e+04</td>\n",
       "      <td>7.500000e+04</td>\n",
       "      <td>7.500000e+04</td>\n",
       "    </tr>\n",
       "    <tr>\n",
       "      <th>mean</th>\n",
       "      <td>1.794801e-16</td>\n",
       "      <td>-3.105895e-17</td>\n",
       "      <td>-6.015928e-18</td>\n",
       "    </tr>\n",
       "    <tr>\n",
       "      <th>std</th>\n",
       "      <td>1.000007e+00</td>\n",
       "      <td>1.000007e+00</td>\n",
       "      <td>1.000007e+00</td>\n",
       "    </tr>\n",
       "    <tr>\n",
       "      <th>min</th>\n",
       "      <td>-2.186288e+00</td>\n",
       "      <td>-2.178269e+00</td>\n",
       "      <td>-3.890945e+00</td>\n",
       "    </tr>\n",
       "    <tr>\n",
       "      <th>25%</th>\n",
       "      <td>-6.575544e-01</td>\n",
       "      <td>-8.925344e-01</td>\n",
       "      <td>-6.799576e-01</td>\n",
       "    </tr>\n",
       "    <tr>\n",
       "      <th>50%</th>\n",
       "      <td>1.878842e-03</td>\n",
       "      <td>-7.407961e-04</td>\n",
       "      <td>4.288679e-03</td>\n",
       "    </tr>\n",
       "    <tr>\n",
       "      <th>75%</th>\n",
       "      <td>6.571176e-01</td>\n",
       "      <td>8.928514e-01</td>\n",
       "      <td>6.829752e-01</td>\n",
       "    </tr>\n",
       "    <tr>\n",
       "      <th>max</th>\n",
       "      <td>2.139081e+00</td>\n",
       "      <td>2.169192e+00</td>\n",
       "      <td>4.153623e+00</td>\n",
       "    </tr>\n",
       "  </tbody>\n",
       "</table>\n",
       "</div>"
      ],
      "text/plain": [
       "                 f0            f1            f2\n",
       "count  7.500000e+04  7.500000e+04  7.500000e+04\n",
       "mean   1.794801e-16 -3.105895e-17 -6.015928e-18\n",
       "std    1.000007e+00  1.000007e+00  1.000007e+00\n",
       "min   -2.186288e+00 -2.178269e+00 -3.890945e+00\n",
       "25%   -6.575544e-01 -8.925344e-01 -6.799576e-01\n",
       "50%    1.878842e-03 -7.407961e-04  4.288679e-03\n",
       "75%    6.571176e-01  8.928514e-01  6.829752e-01\n",
       "max    2.139081e+00  2.169192e+00  4.153623e+00"
      ]
     },
     "metadata": {},
     "output_type": "display_data"
    },
    {
     "data": {
      "text/html": [
       "<div>\n",
       "<style scoped>\n",
       "    .dataframe tbody tr th:only-of-type {\n",
       "        vertical-align: middle;\n",
       "    }\n",
       "\n",
       "    .dataframe tbody tr th {\n",
       "        vertical-align: top;\n",
       "    }\n",
       "\n",
       "    .dataframe thead th {\n",
       "        text-align: right;\n",
       "    }\n",
       "</style>\n",
       "<table border=\"1\" class=\"dataframe\">\n",
       "  <thead>\n",
       "    <tr style=\"text-align: right;\">\n",
       "      <th></th>\n",
       "      <th>f0</th>\n",
       "      <th>f1</th>\n",
       "      <th>f2</th>\n",
       "    </tr>\n",
       "  </thead>\n",
       "  <tbody>\n",
       "    <tr>\n",
       "      <th>count</th>\n",
       "      <td>25000.000000</td>\n",
       "      <td>25000.000000</td>\n",
       "      <td>25000.000000</td>\n",
       "    </tr>\n",
       "    <tr>\n",
       "      <th>mean</th>\n",
       "      <td>0.013667</td>\n",
       "      <td>0.000629</td>\n",
       "      <td>-0.004025</td>\n",
       "    </tr>\n",
       "    <tr>\n",
       "      <th>std</th>\n",
       "      <td>0.999992</td>\n",
       "      <td>1.001848</td>\n",
       "      <td>0.998251</td>\n",
       "    </tr>\n",
       "    <tr>\n",
       "      <th>min</th>\n",
       "      <td>-2.064269</td>\n",
       "      <td>-2.096946</td>\n",
       "      <td>-4.491004</td>\n",
       "    </tr>\n",
       "    <tr>\n",
       "      <th>25%</th>\n",
       "      <td>-0.645001</td>\n",
       "      <td>-0.897958</td>\n",
       "      <td>-0.692080</td>\n",
       "    </tr>\n",
       "    <tr>\n",
       "      <th>50%</th>\n",
       "      <td>0.014689</td>\n",
       "      <td>0.002940</td>\n",
       "      <td>-0.000191</td>\n",
       "    </tr>\n",
       "    <tr>\n",
       "      <th>75%</th>\n",
       "      <td>0.673651</td>\n",
       "      <td>0.895259</td>\n",
       "      <td>0.671019</td>\n",
       "    </tr>\n",
       "    <tr>\n",
       "      <th>max</th>\n",
       "      <td>2.067368</td>\n",
       "      <td>2.144367</td>\n",
       "      <td>3.849118</td>\n",
       "    </tr>\n",
       "  </tbody>\n",
       "</table>\n",
       "</div>"
      ],
      "text/plain": [
       "                 f0            f1            f2\n",
       "count  25000.000000  25000.000000  25000.000000\n",
       "mean       0.013667      0.000629     -0.004025\n",
       "std        0.999992      1.001848      0.998251\n",
       "min       -2.064269     -2.096946     -4.491004\n",
       "25%       -0.645001     -0.897958     -0.692080\n",
       "50%        0.014689      0.002940     -0.000191\n",
       "75%        0.673651      0.895259      0.671019\n",
       "max        2.067368      2.144367      3.849118"
      ]
     },
     "metadata": {},
     "output_type": "display_data"
    }
   ],
   "source": [
    "display(features_train.describe())\n",
    "display(features_valid.describe())"
   ]
  },
  {
   "cell_type": "code",
   "execution_count": 32,
   "metadata": {},
   "outputs": [
    {
     "name": "stdout",
     "output_type": "stream",
     "text": [
      "Linear Regression\n",
      "RMSE = 37.5794217150813\n",
      "Средний запас предсказанного сырья = 92.59256778438035\n",
      "R2 на валидационной выборке:  0.27994321524487786\n",
      "MAE =  30.919600777151313\n",
      "\n",
      "Mean\n",
      "RMSE = 44.289591053907365\n",
      "Median\n",
      "MAE =  37.67178003955267\n"
     ]
    }
   ],
   "source": [
    "model = LinearRegression()\n",
    "model.fit(features_train, target_train)\n",
    "predicted_valid_geo_0 = model.predict(features_valid)\n",
    "mse = mean_squared_error(target_valid, predicted_valid_geo_0)\n",
    "target_valid_geo_0 = target_valid\n",
    "\n",
    "print(\"Linear Regression\")\n",
    "print(\"RMSE =\", mse ** 0.5)\n",
    "print(\"Средний запас предсказанного сырья =\", predicted_valid_geo_0.mean())\n",
    "print(\"R2 на валидационной выборке: \", model.score(features_valid, target_valid)) \n",
    "print(\"MAE = \", mean_absolute_error(target_valid, predicted_valid_geo_0))\n",
    "\n",
    "predicted_valid = pd.Series(target_train.mean(), index=target_valid.index)\n",
    "mse = mean_squared_error(target_valid, predicted_valid)\n",
    "\n",
    "print(\"\")\n",
    "print(\"Mean\")\n",
    "print(\"RMSE =\", mse ** 0.5)\n",
    "\n",
    "predicted_valid = pd.Series(target_train.median(), index=target_valid.index)\n",
    "print(\"Median\")\n",
    "print(\"MAE = \", mean_absolute_error(target_valid, predicted_valid))"
   ]
  },
  {
   "cell_type": "markdown",
   "metadata": {},
   "source": [
    "Запишем в функцию."
   ]
  },
  {
   "cell_type": "code",
   "execution_count": 33,
   "metadata": {},
   "outputs": [],
   "source": [
    "def lr_pred(geo_data):\n",
    "\n",
    "    features = geo_data.drop(['product'], axis=1) \n",
    "    target = geo_data['product'] \n",
    "    features_train, features_valid, target_train, target_valid = train_test_split(\n",
    "        features, target, test_size=0.25, random_state=12345)\n",
    "\n",
    "    numeric = ['f0', 'f1', 'f2']\n",
    "\n",
    "    scaler = StandardScaler()\n",
    "    scaler.fit(features_train[numeric])\n",
    "\n",
    "    features_train[numeric] = scaler.transform(features_train[numeric])\n",
    "    features_valid[numeric] = scaler.transform(features_valid[numeric])\n",
    "\n",
    "    model = LinearRegression()\n",
    "    model.fit(features_train, target_train)\n",
    "    predicted_valid_geo = model.predict(features_valid)\n",
    "    mse = mean_squared_error(target_valid, predicted_valid_geo)\n",
    "    target_valid_geo = target_valid\n",
    "\n",
    "    print(\"Linear Regression\")\n",
    "    print(\"RMSE =\", mse ** 0.5)\n",
    "    print(\"Средний запас предсказанного сырья =\", predicted_valid_geo_0.mean())\n",
    "    print(\"R2 на валидационной выборке: \", model.score(features_valid, target_valid)) \n",
    "    print(\"MAE = \", mean_absolute_error(target_valid, predicted_valid_geo_0))\n",
    "\n",
    "    predicted_valid = pd.Series(target_train.mean(), index=target_valid.index)\n",
    "    mse = mean_squared_error(target_valid, predicted_valid)\n",
    "\n",
    "    print(\"\")\n",
    "    print(\"Mean\")\n",
    "    print(\"RMSE =\", mse ** 0.5)\n",
    "\n",
    "    predicted_valid = pd.Series(target_train.median(), index=target_valid.index)\n",
    "    print(\"Median\")\n",
    "    print(\"MAE = \", mean_absolute_error(target_valid, predicted_valid))\n",
    "\n",
    "    return predicted_valid_geo, target_valid_geo"
   ]
  },
  {
   "cell_type": "markdown",
   "metadata": {},
   "source": [
    "### geo_data_1"
   ]
  },
  {
   "cell_type": "code",
   "execution_count": 34,
   "metadata": {},
   "outputs": [
    {
     "data": {
      "text/html": [
       "<div>\n",
       "<style scoped>\n",
       "    .dataframe tbody tr th:only-of-type {\n",
       "        vertical-align: middle;\n",
       "    }\n",
       "\n",
       "    .dataframe tbody tr th {\n",
       "        vertical-align: top;\n",
       "    }\n",
       "\n",
       "    .dataframe thead th {\n",
       "        text-align: right;\n",
       "    }\n",
       "</style>\n",
       "<table border=\"1\" class=\"dataframe\">\n",
       "  <thead>\n",
       "    <tr style=\"text-align: right;\">\n",
       "      <th></th>\n",
       "      <th>f0</th>\n",
       "      <th>f1</th>\n",
       "      <th>f2</th>\n",
       "      <th>product</th>\n",
       "    </tr>\n",
       "  </thead>\n",
       "  <tbody>\n",
       "    <tr>\n",
       "      <th>0</th>\n",
       "      <td>-15.001348</td>\n",
       "      <td>-8.276000</td>\n",
       "      <td>-0.005876</td>\n",
       "      <td>3.179103</td>\n",
       "    </tr>\n",
       "    <tr>\n",
       "      <th>1</th>\n",
       "      <td>14.272088</td>\n",
       "      <td>-3.475083</td>\n",
       "      <td>0.999183</td>\n",
       "      <td>26.953261</td>\n",
       "    </tr>\n",
       "    <tr>\n",
       "      <th>2</th>\n",
       "      <td>6.263187</td>\n",
       "      <td>-5.948386</td>\n",
       "      <td>5.001160</td>\n",
       "      <td>134.766305</td>\n",
       "    </tr>\n",
       "  </tbody>\n",
       "</table>\n",
       "</div>"
      ],
      "text/plain": [
       "          f0        f1        f2     product\n",
       "0 -15.001348 -8.276000 -0.005876    3.179103\n",
       "1  14.272088 -3.475083  0.999183   26.953261\n",
       "2   6.263187 -5.948386  5.001160  134.766305"
      ]
     },
     "execution_count": 34,
     "metadata": {},
     "output_type": "execute_result"
    }
   ],
   "source": [
    "geo_data_1.head(3)"
   ]
  },
  {
   "cell_type": "code",
   "execution_count": 35,
   "metadata": {},
   "outputs": [
    {
     "name": "stdout",
     "output_type": "stream",
     "text": [
      "Linear Regression\n",
      "RMSE = 0.8930992867756168\n",
      "Средний запас предсказанного сырья = 92.59256778438035\n",
      "R2 на валидационной выборке:  0.9996233978805127\n",
      "MAE =  46.977255345615276\n",
      "\n",
      "Mean\n",
      "RMSE = 46.02144533725471\n",
      "Median\n",
      "MAE =  40.26547941945416\n"
     ]
    }
   ],
   "source": [
    "predicted_valid_geo_1, target_valid_geo_1 = lr_pred(geo_data_1)"
   ]
  },
  {
   "cell_type": "markdown",
   "metadata": {},
   "source": [
    "### geo_data_2"
   ]
  },
  {
   "cell_type": "code",
   "execution_count": 36,
   "metadata": {},
   "outputs": [
    {
     "data": {
      "text/html": [
       "<div>\n",
       "<style scoped>\n",
       "    .dataframe tbody tr th:only-of-type {\n",
       "        vertical-align: middle;\n",
       "    }\n",
       "\n",
       "    .dataframe tbody tr th {\n",
       "        vertical-align: top;\n",
       "    }\n",
       "\n",
       "    .dataframe thead th {\n",
       "        text-align: right;\n",
       "    }\n",
       "</style>\n",
       "<table border=\"1\" class=\"dataframe\">\n",
       "  <thead>\n",
       "    <tr style=\"text-align: right;\">\n",
       "      <th></th>\n",
       "      <th>f0</th>\n",
       "      <th>f1</th>\n",
       "      <th>f2</th>\n",
       "      <th>product</th>\n",
       "    </tr>\n",
       "  </thead>\n",
       "  <tbody>\n",
       "    <tr>\n",
       "      <th>0</th>\n",
       "      <td>-1.146987</td>\n",
       "      <td>0.963328</td>\n",
       "      <td>-0.828965</td>\n",
       "      <td>27.758673</td>\n",
       "    </tr>\n",
       "    <tr>\n",
       "      <th>1</th>\n",
       "      <td>0.262778</td>\n",
       "      <td>0.269839</td>\n",
       "      <td>-2.530187</td>\n",
       "      <td>56.069697</td>\n",
       "    </tr>\n",
       "    <tr>\n",
       "      <th>2</th>\n",
       "      <td>0.194587</td>\n",
       "      <td>0.289035</td>\n",
       "      <td>-5.586433</td>\n",
       "      <td>62.871910</td>\n",
       "    </tr>\n",
       "  </tbody>\n",
       "</table>\n",
       "</div>"
      ],
      "text/plain": [
       "         f0        f1        f2    product\n",
       "0 -1.146987  0.963328 -0.828965  27.758673\n",
       "1  0.262778  0.269839 -2.530187  56.069697\n",
       "2  0.194587  0.289035 -5.586433  62.871910"
      ]
     },
     "execution_count": 36,
     "metadata": {},
     "output_type": "execute_result"
    }
   ],
   "source": [
    "geo_data_2.head(3)"
   ]
  },
  {
   "cell_type": "code",
   "execution_count": 37,
   "metadata": {},
   "outputs": [
    {
     "name": "stdout",
     "output_type": "stream",
     "text": [
      "Linear Regression\n",
      "RMSE = 40.02970873393434\n",
      "Средний запас предсказанного сырья = 92.59256778438035\n",
      "R2 на валидационной выборке:  0.20524758386040465\n",
      "MAE =  41.644320201646245\n",
      "\n",
      "Mean\n",
      "RMSE = 44.90234968510567\n",
      "Median\n",
      "MAE =  37.92103997436729\n"
     ]
    }
   ],
   "source": [
    "predicted_valid_geo_2, target_valid_geo_2 = lr_pred(geo_data_2)"
   ]
  },
  {
   "cell_type": "markdown",
   "metadata": {},
   "source": [
    "### Вывод"
   ]
  },
  {
   "cell_type": "markdown",
   "metadata": {},
   "source": [
    "1. **geo_data_0** Linear Regression:\n",
    "    * RMSE = 37.5794217150813\n",
    "    * Средний запас предсказанного сырья = 92.59256778438035\n",
    "    * R2 на валидационной выборке:  0.27994321524487786\n",
    "    * MAE =  30.919600777151313\n",
    "\n",
    "\n",
    "    * Mean: RMSE = 44.289591053907365\n",
    "    * Median: MAE =  37.67178003955267\n",
    "\n",
    "2. **geo_data_1** Linear Regression:\n",
    "    * RMSE = 0.893099286775617\n",
    "    * Средний запас предсказанного сырья = 68.72854689544602\n",
    "    * R2 на валидационной выборке:  0.9996233978805127\n",
    "    * MAE =  0.7187662442124758\n",
    "\n",
    "\n",
    "    * Mean: RMSE = 46.02144533725462\n",
    "    * Median: MAE =  40.26547941945416\n",
    "\n",
    "\n",
    "3. **geo_data_2** Linear Regression:\n",
    "    * RMSE = 40.02970873393434\n",
    "    * Средний запас предсказанного сырья = 94.96504596800489\n",
    "    * R2 на валидационной выборке:  0.20524758386040443\n",
    "    * MAE =  32.792652105481814\n",
    "\n",
    "\n",
    "    * Mean: RMSE = 44.90234968510566\n",
    "    * Median: MAE =  37.92103997436729\n",
    "    \n",
    "    "
   ]
  },
  {
   "cell_type": "markdown",
   "metadata": {},
   "source": [
    "**Вывод:**\n",
    "\n",
    "* Применили масштабирование к признакам;\n",
    "* Модели прошли на адекватность предсказаний;\n",
    "* Лучшая модель в 1 регионе;\n",
    "* Средние запасы предсказанного сырья:\n",
    "    * Регион 2: 94.965\n",
    "    * Регион 0: 92.593\n",
    "    * Регион 1: 68.729"
   ]
  },
  {
   "cell_type": "markdown",
   "metadata": {},
   "source": [
    "## Подготовка к расчёту прибыли"
   ]
  },
  {
   "cell_type": "code",
   "execution_count": 38,
   "metadata": {},
   "outputs": [],
   "source": [
    "PRODUCT_UNIT = 450000 # Доход с каждой единицы продукта\n",
    "BUDGET = 10000000000 # Бюджет\n",
    "PRODUCT_POINT = 500 # При разведке региона исследуют 500 точек\n",
    "PRODUCT_POINT_BEST = 200 # 200 лучших точек для разработки"
   ]
  },
  {
   "cell_type": "code",
   "execution_count": 39,
   "metadata": {},
   "outputs": [
    {
     "name": "stdout",
     "output_type": "stream",
     "text": [
      "Минимальный средний запас сырья в рассчетах:  111.11111111111111\n",
      "Средний запас предсказанного сырья в регионе 0:  92.59256778438035\n",
      "Средний запас предсказанного сырья в регионе 1:  68.728546895446\n",
      "Средний запас предсказанного сырья в регионе 2:  94.96504596800489\n"
     ]
    }
   ],
   "source": [
    "predicted_product = BUDGET / (PRODUCT_POINT_BEST * PRODUCT_UNIT)\n",
    "print(\"Минимальный средний запас сырья в рассчетах: \", predicted_product)\n",
    "print(\"Средний запас предсказанного сырья в регионе 0: \", predicted_valid_geo_0.mean())\n",
    "print(\"Средний запас предсказанного сырья в регионе 1: \", predicted_valid_geo_1.mean())\n",
    "print(\"Средний запас предсказанного сырья в регионе 2: \", predicted_valid_geo_2.mean())"
   ]
  },
  {
   "cell_type": "markdown",
   "metadata": {},
   "source": [
    "**Вывод:**\n",
    "\n",
    "    * Минимальный средний запас сырья в рассчетах:  111.11111111111111\n",
    "    * Средний запас предсказанного сырья в регионе 0:  92.59256778438035\n",
    "    * Средний запас предсказанного сырья в регионе 1:  68.72854689544602\n",
    "    * Средний запас предсказанного сырья в регионе 2:  94.96504596800489\n",
    "    \n",
    "* Наиболее перспективными по среднему запасу являются регионы 0 и 2."
   ]
  },
  {
   "cell_type": "code",
   "execution_count": 40,
   "metadata": {},
   "outputs": [],
   "source": [
    "# функция для рассчета прибыли\n",
    "\n",
    "def profit(target, predicted, count):\n",
    "    predicts_sorted = predicted.sort_values(ascending=False)\n",
    "    selected = target[predicts_sorted.index][:count]\n",
    "    return PRODUCT_UNIT * selected.sum() - BUDGET"
   ]
  },
  {
   "cell_type": "markdown",
   "metadata": {},
   "source": [
    "## Расчёт прибыли и рисков "
   ]
  },
  {
   "cell_type": "code",
   "execution_count": 41,
   "metadata": {},
   "outputs": [],
   "source": [
    "def geo_pred(predicted_valid_geo, target_valid_geo):\n",
    "    \n",
    "    predicted_valid_geo = pd.Series(\n",
    "        predicted_valid_geo, index=target_valid_geo.index)\n",
    "\n",
    "    state = np.random.RandomState(12345)\n",
    "\n",
    "    values = []\n",
    "\n",
    "    # Bootstrap\n",
    "    for i in range(1000):\n",
    "        target_subsample = target_valid_geo.sample(n=PRODUCT_POINT, replace=True, random_state=state)\n",
    "        predicts_subsample = predicted_valid_geo[target_subsample.index]\n",
    "        \n",
    "        values.append(profit(target_subsample, predicts_subsample, PRODUCT_POINT_BEST))\n",
    "\n",
    "    values = pd.Series(values)\n",
    "\n",
    "    mean = values.mean()\n",
    "    print(\"Средняя прибыль:\", mean)\n",
    "\n",
    "    print('95%-ый доверительный интервал: ({0:.3f}, {1:.3f})'.format(values.quantile(0.025), values.quantile(0.975)))\n",
    "\n",
    "    # Риск убытков\n",
    "    count = 0\n",
    "    for value in values:\n",
    "        if value < 0:\n",
    "            count += 1\n",
    "\n",
    "    loss_risk = (count / len(values) * 100)\n",
    "\n",
    "    print('Риск убытков {0} %'.format(loss_risk))\n",
    "\n",
    "    return"
   ]
  },
  {
   "cell_type": "markdown",
   "metadata": {},
   "source": [
    "### geo_data_0"
   ]
  },
  {
   "cell_type": "code",
   "execution_count": 42,
   "metadata": {},
   "outputs": [
    {
     "name": "stdout",
     "output_type": "stream",
     "text": [
      "Средняя прибыль: 425938526.910592\n",
      "95%-ый доверительный интервал: (-102090094.838, 947976353.358)\n",
      "Риск убытков 6.0 %\n"
     ]
    }
   ],
   "source": [
    "geo_pred(predicted_valid_geo_0, target_valid_geo_0)"
   ]
  },
  {
   "cell_type": "markdown",
   "metadata": {},
   "source": [
    "### geo_data_1"
   ]
  },
  {
   "cell_type": "code",
   "execution_count": 43,
   "metadata": {},
   "outputs": [
    {
     "name": "stdout",
     "output_type": "stream",
     "text": [
      "Средняя прибыль: 515222773.44329005\n",
      "95%-ый доверительный интервал: (68873225.371, 931547591.257)\n",
      "Риск убытков 1.0 %\n"
     ]
    }
   ],
   "source": [
    "geo_pred(predicted_valid_geo_1, target_valid_geo_1)"
   ]
  },
  {
   "cell_type": "markdown",
   "metadata": {},
   "source": [
    "### geo_data_2"
   ]
  },
  {
   "cell_type": "code",
   "execution_count": 44,
   "metadata": {},
   "outputs": [
    {
     "name": "stdout",
     "output_type": "stream",
     "text": [
      "Средняя прибыль: 435008362.782756\n",
      "95%-ый доверительный интервал: (-128880547.330, 969706954.180)\n",
      "Риск убытков 6.4 %\n"
     ]
    }
   ],
   "source": [
    "geo_pred(predicted_valid_geo_2, target_valid_geo_2)"
   ]
  },
  {
   "cell_type": "markdown",
   "metadata": {},
   "source": [
    "### Вывод"
   ]
  },
  {
   "cell_type": "markdown",
   "metadata": {},
   "source": [
    "**Вывод расчетов geo_data_0:**\n",
    "\n",
    "    * Средняя прибыль: 425938526.91059244\n",
    "    * 95%-ый доверительный интервал: (-102090094.838, 947976353.358)\n",
    "    * Риск убытков 6.0 %\n",
    "    \n",
    "    \n",
    "**Вывод расчетов geo_data_1:**\n",
    "\n",
    "    * Средняя прибыль: 515222773.4432899\n",
    "    * 95%-ый доверительный интервал: (68873225.371, 931547591.257)\n",
    "    * Риск убытков 1.0 %\n",
    "    \n",
    "    \n",
    "**Вывод расчетов geo_data_2:**\n",
    "\n",
    "    * Средняя прибыль: 435008362.7827556\n",
    "    * 95%-ый доверительный интервал: (-128880547.330, 969706954.180)\n",
    "    * Риск убытков 6.4 %\n",
    "    \n",
    "    \n",
    "    "
   ]
  },
  {
   "cell_type": "markdown",
   "metadata": {},
   "source": [
    "## Общий итог"
   ]
  },
  {
   "cell_type": "markdown",
   "metadata": {},
   "source": [
    "### Загрузка и подготовка данных:\n",
    "\n",
    "* Пропущенных значений нет;\n",
    "* id скважин повторяются;\n",
    "* id для построения модели не важен, столбец удален;\n",
    "* Дубликатов нет;\n",
    "* Данные имеют численные признаки;\n",
    "* geo_data_1 имеет 8235 пустых скважин (8%)."
   ]
  },
  {
   "cell_type": "markdown",
   "metadata": {},
   "source": [
    "### Обучение и проверка модели\n",
    "\n",
    "1. **geo_data_0** Linear Regression:\n",
    "    * RMSE = 37.5794217150813\n",
    "    * Средний запас предсказанного сырья = 92.59256778438035\n",
    "    * R2 на валидационной выборке:  0.27994321524487786\n",
    "    * MAE =  30.919600777151313\n",
    "\n",
    "\n",
    "    * Mean: RMSE = 44.289591053907365\n",
    "    * Median: MAE =  37.67178003955267\n",
    "\n",
    "2. **geo_data_1** Linear Regression:\n",
    "    * RMSE = 0.893099286775617\n",
    "    * Средний запас предсказанного сырья = 68.72854689544602\n",
    "    * R2 на валидационной выборке:  0.9996233978805127\n",
    "    * MAE =  0.7187662442124758\n",
    "\n",
    "\n",
    "    * Mean: RMSE = 46.02144533725462\n",
    "    * Median: MAE =  40.26547941945416\n",
    "\n",
    "\n",
    "3. **geo_data_2** Linear Regression:\n",
    "    * RMSE = 40.02970873393434\n",
    "    * Средний запас предсказанного сырья = 94.96504596800489\n",
    "    * R2 на валидационной выборке:  0.20524758386040443\n",
    "    * MAE =  32.792652105481814\n",
    "\n",
    "\n",
    "    * Mean: RMSE = 44.90234968510566\n",
    "    * Median: MAE =  37.92103997436729\n",
    "    \n",
    "    \n",
    "    \n",
    "    \n",
    "**Вывод:**\n",
    "\n",
    "* Применили масштабирование к признакам;\n",
    "* Модели прошли на адекватность предсказаний;\n",
    "* Лучшая модель в 1 регионе;\n",
    "* Средние запасы предсказанного сырья:\n",
    "    * Регион 2: 94.965\n",
    "    * Регион 0: 92.593\n",
    "    * Регион 1: 68.729"
   ]
  },
  {
   "cell_type": "markdown",
   "metadata": {},
   "source": [
    "### Подготовка к расчёту прибыли\n",
    "\n",
    "    * Минимальный средний запас сырья в рассчетах:  111.11111111111111\n",
    "    * Средний запас предсказанного сырья в регионе 0:  92.59256778438035\n",
    "    * Средний запас предсказанного сырья в регионе 1:  68.72854689544602\n",
    "    * Средний запас предсказанного сырья в регионе 2:  94.96504596800489\n",
    "    \n",
    "* Наиболее перспективными являются регионы 0 и 2."
   ]
  },
  {
   "cell_type": "markdown",
   "metadata": {},
   "source": [
    "### Расчёт прибыли и рисков \n",
    "\n",
    "**Вывод расчетов geo_data_0:**\n",
    "\n",
    "    * Средняя прибыль: 425938526.91059244\n",
    "    * 95%-ый доверительный интервал: (-102090094.838, 947976353.358)\n",
    "    * Риск убытков 6.0 %\n",
    "    \n",
    "    \n",
    "**Вывод расчетов geo_data_1:**\n",
    "\n",
    "    * Средняя прибыль: 515222773.4432899\n",
    "    * 95%-ый доверительный интервал: (68873225.371, 931547591.257)\n",
    "    * Риск убытков 1.0 %\n",
    "    \n",
    "    \n",
    "**Вывод расчетов geo_data_2:**\n",
    "\n",
    "    * Средняя прибыль: 435008362.7827556\n",
    "    * 95%-ый доверительный интервал: (-128880547.330, 969706954.180)\n",
    "    * Риск убытков 6.4 %"
   ]
  },
  {
   "cell_type": "markdown",
   "metadata": {},
   "source": [
    "### Общий вывод по проекту"
   ]
  },
  {
   "cell_type": "markdown",
   "metadata": {},
   "source": [
    "* Несмотря на низкие показатели запасов скважин и наличие большого количества пустых скважин, **регион 1** имеет более высокие показатели по результатам исследования. \n",
    "\n",
    "* При бюджете в 10млрд по рассчетам выбор сделан в пользу **регион 1**:\n",
    "\n",
    "    * Средняя прибыль: 515 222 773\n",
    "    * 95%-ый доверительный интервал: (68 873 225.371 , 931 547 591.257)\n",
    "    * Риск убытков 1.0 %\n",
    "    "
   ]
  }
 ],
 "metadata": {
  "ExecuteTimeLog": [
   {
    "duration": 1138,
    "start_time": "2022-05-03T07:22:18.337Z"
   },
   {
    "duration": 510,
    "start_time": "2022-05-03T07:23:47.984Z"
   },
   {
    "duration": 24,
    "start_time": "2022-05-03T07:24:59.331Z"
   },
   {
    "duration": 12,
    "start_time": "2022-05-03T07:25:17.970Z"
   },
   {
    "duration": 4,
    "start_time": "2022-05-03T07:29:24.043Z"
   },
   {
    "duration": 46,
    "start_time": "2022-05-03T07:29:43.748Z"
   },
   {
    "duration": 88,
    "start_time": "2022-05-03T08:46:17.105Z"
   },
   {
    "duration": 59,
    "start_time": "2022-05-03T08:46:39.930Z"
   },
   {
    "duration": 63,
    "start_time": "2022-05-03T08:46:49.806Z"
   },
   {
    "duration": 13,
    "start_time": "2022-05-03T08:48:57.078Z"
   },
   {
    "duration": 2136,
    "start_time": "2022-05-03T08:49:20.256Z"
   },
   {
    "duration": 2039,
    "start_time": "2022-05-03T08:49:30.747Z"
   },
   {
    "duration": 8,
    "start_time": "2022-05-03T08:50:53.776Z"
   },
   {
    "duration": 7,
    "start_time": "2022-05-03T08:51:09.866Z"
   },
   {
    "duration": 2368,
    "start_time": "2022-05-03T08:51:17.661Z"
   },
   {
    "duration": 16,
    "start_time": "2022-05-03T08:54:44.116Z"
   },
   {
    "duration": 21,
    "start_time": "2022-05-03T08:57:13.060Z"
   },
   {
    "duration": 17,
    "start_time": "2022-05-03T09:00:07.856Z"
   },
   {
    "duration": 14,
    "start_time": "2022-05-03T09:00:34.632Z"
   },
   {
    "duration": 15,
    "start_time": "2022-05-03T09:00:48.511Z"
   },
   {
    "duration": 7,
    "start_time": "2022-05-03T09:01:04.173Z"
   },
   {
    "duration": 9,
    "start_time": "2022-05-03T09:01:43.389Z"
   },
   {
    "duration": 9,
    "start_time": "2022-05-03T09:02:09.138Z"
   },
   {
    "duration": 10,
    "start_time": "2022-05-03T09:02:13.414Z"
   },
   {
    "duration": 51,
    "start_time": "2022-05-03T09:02:19.640Z"
   },
   {
    "duration": 12,
    "start_time": "2022-05-03T09:08:12.281Z"
   },
   {
    "duration": 17,
    "start_time": "2022-05-03T09:09:41.131Z"
   },
   {
    "duration": 9,
    "start_time": "2022-05-03T09:10:12.536Z"
   },
   {
    "duration": 4,
    "start_time": "2022-05-03T09:10:55.841Z"
   },
   {
    "duration": 53,
    "start_time": "2022-05-03T09:11:00.039Z"
   },
   {
    "duration": 18,
    "start_time": "2022-05-03T09:11:03.969Z"
   },
   {
    "duration": 10,
    "start_time": "2022-05-03T09:11:17.240Z"
   },
   {
    "duration": 36,
    "start_time": "2022-05-03T09:11:20.971Z"
   },
   {
    "duration": 15,
    "start_time": "2022-05-03T09:13:02.378Z"
   },
   {
    "duration": 9,
    "start_time": "2022-05-03T09:13:07.598Z"
   },
   {
    "duration": 5,
    "start_time": "2022-05-03T09:13:12.626Z"
   },
   {
    "duration": 48,
    "start_time": "2022-05-03T09:13:15.386Z"
   },
   {
    "duration": 18,
    "start_time": "2022-05-03T09:13:18.809Z"
   },
   {
    "duration": 10,
    "start_time": "2022-05-03T09:13:28.070Z"
   },
   {
    "duration": 38,
    "start_time": "2022-05-03T09:13:31.989Z"
   },
   {
    "duration": 852,
    "start_time": "2022-05-03T09:23:57.366Z"
   },
   {
    "duration": 70,
    "start_time": "2022-05-03T09:24:08.146Z"
   },
   {
    "duration": 24,
    "start_time": "2022-05-03T09:25:24.544Z"
   },
   {
    "duration": 48,
    "start_time": "2022-05-03T09:29:34.251Z"
   },
   {
    "duration": 1751,
    "start_time": "2022-05-03T09:30:20.899Z"
   },
   {
    "duration": 486,
    "start_time": "2022-05-03T09:30:22.652Z"
   },
   {
    "duration": 22,
    "start_time": "2022-05-03T09:30:23.140Z"
   },
   {
    "duration": 14,
    "start_time": "2022-05-03T09:30:23.163Z"
   },
   {
    "duration": 4,
    "start_time": "2022-05-03T09:30:23.194Z"
   },
   {
    "duration": 52,
    "start_time": "2022-05-03T09:30:23.200Z"
   },
   {
    "duration": 19,
    "start_time": "2022-05-03T09:30:23.254Z"
   },
   {
    "duration": 12,
    "start_time": "2022-05-03T09:30:23.293Z"
   },
   {
    "duration": 35,
    "start_time": "2022-05-03T09:30:23.308Z"
   },
   {
    "duration": 13,
    "start_time": "2022-05-03T09:30:23.345Z"
   },
   {
    "duration": 33,
    "start_time": "2022-05-03T09:30:23.360Z"
   },
   {
    "duration": 7,
    "start_time": "2022-05-03T09:30:23.395Z"
   },
   {
    "duration": 41,
    "start_time": "2022-05-03T09:30:23.404Z"
   },
   {
    "duration": 16,
    "start_time": "2022-05-03T09:30:23.448Z"
   },
   {
    "duration": 35,
    "start_time": "2022-05-03T09:30:23.466Z"
   },
   {
    "duration": 35,
    "start_time": "2022-05-03T09:30:23.503Z"
   },
   {
    "duration": 14,
    "start_time": "2022-05-03T09:30:23.540Z"
   },
   {
    "duration": 9,
    "start_time": "2022-05-03T09:30:23.556Z"
   },
   {
    "duration": 29,
    "start_time": "2022-05-03T09:30:23.567Z"
   },
   {
    "duration": 45,
    "start_time": "2022-05-03T09:30:23.598Z"
   },
   {
    "duration": 19,
    "start_time": "2022-05-03T09:30:23.645Z"
   },
   {
    "duration": 36,
    "start_time": "2022-05-03T09:30:23.665Z"
   },
   {
    "duration": 37,
    "start_time": "2022-05-03T09:30:23.703Z"
   },
   {
    "duration": 76,
    "start_time": "2022-05-03T09:30:23.743Z"
   },
   {
    "duration": 1814,
    "start_time": "2022-05-03T09:31:02.206Z"
   },
   {
    "duration": 499,
    "start_time": "2022-05-03T09:31:04.022Z"
   },
   {
    "duration": 17,
    "start_time": "2022-05-03T09:31:04.523Z"
   },
   {
    "duration": 12,
    "start_time": "2022-05-03T09:31:04.542Z"
   },
   {
    "duration": 3,
    "start_time": "2022-05-03T09:31:04.557Z"
   },
   {
    "duration": 72,
    "start_time": "2022-05-03T09:31:04.562Z"
   },
   {
    "duration": 18,
    "start_time": "2022-05-03T09:31:04.635Z"
   },
   {
    "duration": 12,
    "start_time": "2022-05-03T09:31:04.654Z"
   },
   {
    "duration": 39,
    "start_time": "2022-05-03T09:31:04.692Z"
   },
   {
    "duration": 16,
    "start_time": "2022-05-03T09:31:04.733Z"
   },
   {
    "duration": 9,
    "start_time": "2022-05-03T09:31:04.750Z"
   },
   {
    "duration": 5,
    "start_time": "2022-05-03T09:31:04.761Z"
   },
   {
    "duration": 43,
    "start_time": "2022-05-03T09:31:04.794Z"
   },
   {
    "duration": 23,
    "start_time": "2022-05-03T09:31:04.841Z"
   },
   {
    "duration": 36,
    "start_time": "2022-05-03T09:31:04.865Z"
   },
   {
    "duration": 45,
    "start_time": "2022-05-03T09:31:04.902Z"
   },
   {
    "duration": 20,
    "start_time": "2022-05-03T09:31:04.949Z"
   },
   {
    "duration": 31,
    "start_time": "2022-05-03T09:31:04.970Z"
   },
   {
    "duration": 11,
    "start_time": "2022-05-03T09:31:05.003Z"
   },
   {
    "duration": 44,
    "start_time": "2022-05-03T09:31:05.016Z"
   },
   {
    "duration": 36,
    "start_time": "2022-05-03T09:31:05.061Z"
   },
   {
    "duration": 11,
    "start_time": "2022-05-03T09:31:05.099Z"
   },
   {
    "duration": 43,
    "start_time": "2022-05-03T09:31:05.111Z"
   },
   {
    "duration": 68,
    "start_time": "2022-05-03T09:31:05.156Z"
   },
   {
    "duration": 94,
    "start_time": "2022-05-03T09:31:50.015Z"
   },
   {
    "duration": 4691,
    "start_time": "2022-05-03T11:47:44.619Z"
   },
   {
    "duration": 457,
    "start_time": "2022-05-03T11:47:49.313Z"
   },
   {
    "duration": 20,
    "start_time": "2022-05-03T11:47:49.771Z"
   },
   {
    "duration": 22,
    "start_time": "2022-05-03T11:47:49.793Z"
   },
   {
    "duration": 19,
    "start_time": "2022-05-03T11:47:49.818Z"
   },
   {
    "duration": 78,
    "start_time": "2022-05-03T11:47:49.840Z"
   },
   {
    "duration": 26,
    "start_time": "2022-05-03T11:47:49.920Z"
   },
   {
    "duration": 18,
    "start_time": "2022-05-03T11:47:49.948Z"
   },
   {
    "duration": 46,
    "start_time": "2022-05-03T11:47:49.968Z"
   },
   {
    "duration": 36,
    "start_time": "2022-05-03T11:47:50.017Z"
   },
   {
    "duration": 16,
    "start_time": "2022-05-03T11:47:50.056Z"
   },
   {
    "duration": 8,
    "start_time": "2022-05-03T11:47:50.075Z"
   },
   {
    "duration": 80,
    "start_time": "2022-05-03T11:47:50.085Z"
   },
   {
    "duration": 18,
    "start_time": "2022-05-03T11:47:50.168Z"
   },
   {
    "duration": 12,
    "start_time": "2022-05-03T11:47:50.188Z"
   },
   {
    "duration": 69,
    "start_time": "2022-05-03T11:47:50.202Z"
   },
   {
    "duration": 15,
    "start_time": "2022-05-03T11:47:50.273Z"
   },
   {
    "duration": 10,
    "start_time": "2022-05-03T11:47:50.289Z"
   },
   {
    "duration": 13,
    "start_time": "2022-05-03T11:47:50.300Z"
   },
   {
    "duration": 62,
    "start_time": "2022-05-03T11:47:50.335Z"
   },
   {
    "duration": 36,
    "start_time": "2022-05-03T11:47:50.399Z"
   },
   {
    "duration": 19,
    "start_time": "2022-05-03T11:47:50.437Z"
   },
   {
    "duration": 42,
    "start_time": "2022-05-03T11:47:50.457Z"
   },
   {
    "duration": 72,
    "start_time": "2022-05-03T11:47:50.501Z"
   },
   {
    "duration": 128,
    "start_time": "2022-05-03T11:47:50.575Z"
   },
   {
    "duration": 9,
    "start_time": "2022-05-03T11:49:54.480Z"
   },
   {
    "duration": 19,
    "start_time": "2022-05-03T11:53:20.339Z"
   },
   {
    "duration": 132,
    "start_time": "2022-05-03T12:37:54.464Z"
   },
   {
    "duration": 22,
    "start_time": "2022-05-03T12:38:00.487Z"
   },
   {
    "duration": 49,
    "start_time": "2022-05-03T12:38:05.500Z"
   },
   {
    "duration": 16,
    "start_time": "2022-05-03T12:40:22.769Z"
   },
   {
    "duration": 10,
    "start_time": "2022-05-03T12:42:47.925Z"
   },
   {
    "duration": 15,
    "start_time": "2022-05-03T12:43:28.002Z"
   },
   {
    "duration": 83,
    "start_time": "2022-05-03T12:43:32.150Z"
   },
   {
    "duration": 9,
    "start_time": "2022-05-03T12:45:23.828Z"
   },
   {
    "duration": 17,
    "start_time": "2022-05-03T12:45:25.839Z"
   },
   {
    "duration": 18,
    "start_time": "2022-05-03T12:45:26.684Z"
   },
   {
    "duration": 12,
    "start_time": "2022-05-03T12:51:07.977Z"
   },
   {
    "duration": 5,
    "start_time": "2022-05-03T12:51:14.755Z"
   },
   {
    "duration": 7,
    "start_time": "2022-05-03T12:51:37.967Z"
   },
   {
    "duration": 37,
    "start_time": "2022-05-03T12:52:26.595Z"
   },
   {
    "duration": 31,
    "start_time": "2022-05-03T12:52:45.922Z"
   },
   {
    "duration": 1531,
    "start_time": "2022-05-03T12:53:30.751Z"
   },
   {
    "duration": 403,
    "start_time": "2022-05-03T12:53:32.284Z"
   },
   {
    "duration": 17,
    "start_time": "2022-05-03T12:53:32.689Z"
   },
   {
    "duration": 26,
    "start_time": "2022-05-03T12:53:32.708Z"
   },
   {
    "duration": 5,
    "start_time": "2022-05-03T12:53:32.736Z"
   },
   {
    "duration": 55,
    "start_time": "2022-05-03T12:53:32.743Z"
   },
   {
    "duration": 34,
    "start_time": "2022-05-03T12:53:32.800Z"
   },
   {
    "duration": 12,
    "start_time": "2022-05-03T12:53:32.836Z"
   },
   {
    "duration": 44,
    "start_time": "2022-05-03T12:53:32.850Z"
   },
   {
    "duration": 38,
    "start_time": "2022-05-03T12:53:32.896Z"
   },
   {
    "duration": 10,
    "start_time": "2022-05-03T12:53:32.937Z"
   },
   {
    "duration": 7,
    "start_time": "2022-05-03T12:53:32.949Z"
   },
   {
    "duration": 51,
    "start_time": "2022-05-03T12:53:32.958Z"
   },
   {
    "duration": 19,
    "start_time": "2022-05-03T12:53:33.033Z"
   },
   {
    "duration": 10,
    "start_time": "2022-05-03T12:53:33.054Z"
   },
   {
    "duration": 43,
    "start_time": "2022-05-03T12:53:33.066Z"
   },
   {
    "duration": 44,
    "start_time": "2022-05-03T12:53:33.110Z"
   },
   {
    "duration": 13,
    "start_time": "2022-05-03T12:53:33.156Z"
   },
   {
    "duration": 8,
    "start_time": "2022-05-03T12:53:33.171Z"
   },
   {
    "duration": 80,
    "start_time": "2022-05-03T12:53:33.181Z"
   },
   {
    "duration": 21,
    "start_time": "2022-05-03T12:53:33.264Z"
   },
   {
    "duration": 11,
    "start_time": "2022-05-03T12:53:33.288Z"
   },
   {
    "duration": 74,
    "start_time": "2022-05-03T12:53:33.301Z"
   },
   {
    "duration": 56,
    "start_time": "2022-05-03T12:53:33.377Z"
   },
   {
    "duration": 125,
    "start_time": "2022-05-03T12:53:33.436Z"
   },
   {
    "duration": 8,
    "start_time": "2022-05-03T12:53:33.563Z"
   },
   {
    "duration": 24,
    "start_time": "2022-05-03T12:53:33.573Z"
   },
   {
    "duration": 41,
    "start_time": "2022-05-03T12:53:33.599Z"
   },
   {
    "duration": 99,
    "start_time": "2022-05-03T12:53:33.643Z"
   },
   {
    "duration": 90,
    "start_time": "2022-05-03T12:53:33.745Z"
   },
   {
    "duration": 24,
    "start_time": "2022-05-03T12:53:33.837Z"
   },
   {
    "duration": 79,
    "start_time": "2022-05-03T12:53:33.863Z"
   },
   {
    "duration": 102,
    "start_time": "2022-05-03T12:53:33.944Z"
   },
   {
    "duration": 188,
    "start_time": "2022-05-03T12:53:34.048Z"
   },
   {
    "duration": 1427,
    "start_time": "2022-05-03T13:00:27.093Z"
   },
   {
    "duration": 384,
    "start_time": "2022-05-03T13:00:28.522Z"
   },
   {
    "duration": 16,
    "start_time": "2022-05-03T13:00:28.908Z"
   },
   {
    "duration": 13,
    "start_time": "2022-05-03T13:00:28.932Z"
   },
   {
    "duration": 4,
    "start_time": "2022-05-03T13:00:28.947Z"
   },
   {
    "duration": 49,
    "start_time": "2022-05-03T13:00:28.953Z"
   },
   {
    "duration": 36,
    "start_time": "2022-05-03T13:00:29.004Z"
   },
   {
    "duration": 13,
    "start_time": "2022-05-03T13:00:29.041Z"
   },
   {
    "duration": 42,
    "start_time": "2022-05-03T13:00:29.056Z"
   },
   {
    "duration": 41,
    "start_time": "2022-05-03T13:00:29.100Z"
   },
   {
    "duration": 10,
    "start_time": "2022-05-03T13:00:29.143Z"
   },
   {
    "duration": 6,
    "start_time": "2022-05-03T13:00:29.155Z"
   },
   {
    "duration": 46,
    "start_time": "2022-05-03T13:00:29.162Z"
   },
   {
    "duration": 19,
    "start_time": "2022-05-03T13:00:29.233Z"
   },
   {
    "duration": 11,
    "start_time": "2022-05-03T13:00:29.253Z"
   },
   {
    "duration": 40,
    "start_time": "2022-05-03T13:00:29.266Z"
   },
   {
    "duration": 37,
    "start_time": "2022-05-03T13:00:29.308Z"
   },
   {
    "duration": 10,
    "start_time": "2022-05-03T13:00:29.347Z"
   },
   {
    "duration": 6,
    "start_time": "2022-05-03T13:00:29.359Z"
   },
   {
    "duration": 67,
    "start_time": "2022-05-03T13:00:29.367Z"
   },
   {
    "duration": 17,
    "start_time": "2022-05-03T13:00:29.436Z"
   },
   {
    "duration": 13,
    "start_time": "2022-05-03T13:00:29.455Z"
   },
   {
    "duration": 64,
    "start_time": "2022-05-03T13:00:29.470Z"
   },
   {
    "duration": 34,
    "start_time": "2022-05-03T13:00:29.536Z"
   },
   {
    "duration": 119,
    "start_time": "2022-05-03T13:00:29.572Z"
   },
   {
    "duration": 9,
    "start_time": "2022-05-03T13:00:29.693Z"
   },
   {
    "duration": 30,
    "start_time": "2022-05-03T13:00:29.703Z"
   },
   {
    "duration": 100,
    "start_time": "2022-05-03T13:00:29.735Z"
   },
   {
    "duration": 97,
    "start_time": "2022-05-03T13:00:29.838Z"
   },
   {
    "duration": 14,
    "start_time": "2022-05-03T13:00:29.937Z"
   },
   {
    "duration": 82,
    "start_time": "2022-05-03T13:00:29.953Z"
   },
   {
    "duration": 104,
    "start_time": "2022-05-03T13:00:30.037Z"
   },
   {
    "duration": 22,
    "start_time": "2022-05-03T13:00:30.142Z"
   },
   {
    "duration": 75,
    "start_time": "2022-05-03T13:00:30.166Z"
   },
   {
    "duration": 1466,
    "start_time": "2022-05-03T13:04:20.219Z"
   },
   {
    "duration": 382,
    "start_time": "2022-05-03T13:04:21.688Z"
   },
   {
    "duration": 16,
    "start_time": "2022-05-03T13:04:22.072Z"
   },
   {
    "duration": 14,
    "start_time": "2022-05-03T13:04:22.090Z"
   },
   {
    "duration": 4,
    "start_time": "2022-05-03T13:04:22.106Z"
   },
   {
    "duration": 63,
    "start_time": "2022-05-03T13:04:22.111Z"
   },
   {
    "duration": 19,
    "start_time": "2022-05-03T13:04:22.175Z"
   },
   {
    "duration": 39,
    "start_time": "2022-05-03T13:04:22.195Z"
   },
   {
    "duration": 44,
    "start_time": "2022-05-03T13:04:22.236Z"
   },
   {
    "duration": 15,
    "start_time": "2022-05-03T13:04:22.281Z"
   },
   {
    "duration": 9,
    "start_time": "2022-05-03T13:04:22.298Z"
   },
   {
    "duration": 27,
    "start_time": "2022-05-03T13:04:22.309Z"
   },
   {
    "duration": 47,
    "start_time": "2022-05-03T13:04:22.338Z"
   },
   {
    "duration": 18,
    "start_time": "2022-05-03T13:04:22.388Z"
   },
   {
    "duration": 31,
    "start_time": "2022-05-03T13:04:22.408Z"
   },
   {
    "duration": 44,
    "start_time": "2022-05-03T13:04:22.441Z"
   },
   {
    "duration": 15,
    "start_time": "2022-05-03T13:04:22.487Z"
   },
   {
    "duration": 29,
    "start_time": "2022-05-03T13:04:22.504Z"
   },
   {
    "duration": 4,
    "start_time": "2022-05-03T13:04:22.535Z"
   },
   {
    "duration": 51,
    "start_time": "2022-05-03T13:04:22.541Z"
   },
   {
    "duration": 18,
    "start_time": "2022-05-03T13:04:22.593Z"
   },
   {
    "duration": 11,
    "start_time": "2022-05-03T13:04:22.634Z"
   },
   {
    "duration": 41,
    "start_time": "2022-05-03T13:04:22.647Z"
   },
   {
    "duration": 49,
    "start_time": "2022-05-03T13:04:22.690Z"
   },
   {
    "duration": 122,
    "start_time": "2022-05-03T13:04:22.741Z"
   },
   {
    "duration": 9,
    "start_time": "2022-05-03T13:04:22.865Z"
   },
   {
    "duration": 15,
    "start_time": "2022-05-03T13:04:22.876Z"
   },
   {
    "duration": 141,
    "start_time": "2022-05-03T13:04:22.893Z"
   },
   {
    "duration": 101,
    "start_time": "2022-05-03T13:04:23.036Z"
   },
   {
    "duration": 14,
    "start_time": "2022-05-03T13:04:23.139Z"
   },
   {
    "duration": 82,
    "start_time": "2022-05-03T13:04:23.155Z"
   },
   {
    "duration": 99,
    "start_time": "2022-05-03T13:04:23.240Z"
   },
   {
    "duration": 13,
    "start_time": "2022-05-03T13:04:23.341Z"
   },
   {
    "duration": 85,
    "start_time": "2022-05-03T13:04:23.356Z"
   },
   {
    "duration": 195,
    "start_time": "2022-05-03T13:12:27.441Z"
   },
   {
    "duration": 1517,
    "start_time": "2022-05-03T13:13:24.905Z"
   },
   {
    "duration": 427,
    "start_time": "2022-05-03T13:13:26.424Z"
   },
   {
    "duration": 17,
    "start_time": "2022-05-03T13:13:26.853Z"
   },
   {
    "duration": 14,
    "start_time": "2022-05-03T13:13:26.872Z"
   },
   {
    "duration": 5,
    "start_time": "2022-05-03T13:13:26.889Z"
   },
   {
    "duration": 87,
    "start_time": "2022-05-03T13:13:26.896Z"
   },
   {
    "duration": 21,
    "start_time": "2022-05-03T13:13:26.985Z"
   },
   {
    "duration": 31,
    "start_time": "2022-05-03T13:13:27.008Z"
   },
   {
    "duration": 58,
    "start_time": "2022-05-03T13:13:27.042Z"
   },
   {
    "duration": 16,
    "start_time": "2022-05-03T13:13:27.102Z"
   },
   {
    "duration": 22,
    "start_time": "2022-05-03T13:13:27.120Z"
   },
   {
    "duration": 13,
    "start_time": "2022-05-03T13:13:27.145Z"
   },
   {
    "duration": 56,
    "start_time": "2022-05-03T13:13:27.159Z"
   },
   {
    "duration": 33,
    "start_time": "2022-05-03T13:13:27.219Z"
   },
   {
    "duration": 14,
    "start_time": "2022-05-03T13:13:27.254Z"
   },
   {
    "duration": 44,
    "start_time": "2022-05-03T13:13:27.270Z"
   },
   {
    "duration": 23,
    "start_time": "2022-05-03T13:13:27.337Z"
   },
   {
    "duration": 12,
    "start_time": "2022-05-03T13:13:27.362Z"
   },
   {
    "duration": 10,
    "start_time": "2022-05-03T13:13:27.376Z"
   },
   {
    "duration": 80,
    "start_time": "2022-05-03T13:13:27.387Z"
   },
   {
    "duration": 20,
    "start_time": "2022-05-03T13:13:27.469Z"
   },
   {
    "duration": 13,
    "start_time": "2022-05-03T13:13:27.491Z"
   },
   {
    "duration": 67,
    "start_time": "2022-05-03T13:13:27.506Z"
   },
   {
    "duration": 40,
    "start_time": "2022-05-03T13:13:27.575Z"
   },
   {
    "duration": 144,
    "start_time": "2022-05-03T13:13:27.617Z"
   },
   {
    "duration": 10,
    "start_time": "2022-05-03T13:13:27.763Z"
   },
   {
    "duration": 16,
    "start_time": "2022-05-03T13:13:27.774Z"
   },
   {
    "duration": 250,
    "start_time": "2022-05-03T13:13:27.792Z"
   },
   {
    "duration": 94,
    "start_time": "2022-05-03T13:13:28.045Z"
   },
   {
    "duration": 14,
    "start_time": "2022-05-03T13:13:28.150Z"
   },
   {
    "duration": 83,
    "start_time": "2022-05-03T13:13:28.167Z"
   },
   {
    "duration": 83,
    "start_time": "2022-05-03T13:13:28.254Z"
   },
   {
    "duration": 27,
    "start_time": "2022-05-03T13:13:28.339Z"
   },
   {
    "duration": 91,
    "start_time": "2022-05-03T13:13:28.368Z"
   },
   {
    "duration": 3,
    "start_time": "2022-05-03T13:41:24.784Z"
   },
   {
    "duration": 1929,
    "start_time": "2022-05-03T13:47:58.759Z"
   },
   {
    "duration": 555,
    "start_time": "2022-05-03T13:48:00.691Z"
   },
   {
    "duration": 26,
    "start_time": "2022-05-03T13:48:01.248Z"
   },
   {
    "duration": 30,
    "start_time": "2022-05-03T13:48:01.277Z"
   },
   {
    "duration": 23,
    "start_time": "2022-05-03T13:48:01.311Z"
   },
   {
    "duration": 125,
    "start_time": "2022-05-03T13:48:01.337Z"
   },
   {
    "duration": 32,
    "start_time": "2022-05-03T13:48:01.465Z"
   },
   {
    "duration": 26,
    "start_time": "2022-05-03T13:48:01.499Z"
   },
   {
    "duration": 113,
    "start_time": "2022-05-03T13:48:01.544Z"
   },
   {
    "duration": 28,
    "start_time": "2022-05-03T13:48:01.659Z"
   },
   {
    "duration": 32,
    "start_time": "2022-05-03T13:48:01.692Z"
   },
   {
    "duration": 57,
    "start_time": "2022-05-03T13:48:01.727Z"
   },
   {
    "duration": 107,
    "start_time": "2022-05-03T13:48:01.787Z"
   },
   {
    "duration": 54,
    "start_time": "2022-05-03T13:48:01.899Z"
   },
   {
    "duration": 18,
    "start_time": "2022-05-03T13:48:01.955Z"
   },
   {
    "duration": 65,
    "start_time": "2022-05-03T13:48:01.975Z"
   },
   {
    "duration": 27,
    "start_time": "2022-05-03T13:48:02.043Z"
   },
   {
    "duration": 20,
    "start_time": "2022-05-03T13:48:02.072Z"
   },
   {
    "duration": 19,
    "start_time": "2022-05-03T13:48:02.095Z"
   },
   {
    "duration": 101,
    "start_time": "2022-05-03T13:48:02.116Z"
   },
   {
    "duration": 43,
    "start_time": "2022-05-03T13:48:02.219Z"
   },
   {
    "duration": 16,
    "start_time": "2022-05-03T13:48:02.265Z"
   },
   {
    "duration": 73,
    "start_time": "2022-05-03T13:48:02.283Z"
   },
   {
    "duration": 46,
    "start_time": "2022-05-03T13:48:02.358Z"
   },
   {
    "duration": 155,
    "start_time": "2022-05-03T13:48:02.406Z"
   },
   {
    "duration": 11,
    "start_time": "2022-05-03T13:48:02.563Z"
   },
   {
    "duration": 23,
    "start_time": "2022-05-03T13:48:02.577Z"
   },
   {
    "duration": 249,
    "start_time": "2022-05-03T13:48:02.603Z"
   },
   {
    "duration": 15,
    "start_time": "2022-05-03T13:48:02.876Z"
   },
   {
    "duration": 66,
    "start_time": "2022-05-03T13:48:02.894Z"
   },
   {
    "duration": 85,
    "start_time": "2022-05-03T13:48:02.963Z"
   },
   {
    "duration": 29,
    "start_time": "2022-05-03T13:48:03.053Z"
   },
   {
    "duration": 47,
    "start_time": "2022-05-03T13:48:03.138Z"
   },
   {
    "duration": 163,
    "start_time": "2022-05-03T13:48:03.188Z"
   },
   {
    "duration": 8,
    "start_time": "2022-05-03T13:48:03.357Z"
   },
   {
    "duration": 155,
    "start_time": "2022-05-03T13:48:03.368Z"
   },
   {
    "duration": 0,
    "start_time": "2022-05-03T13:48:03.525Z"
   },
   {
    "duration": 5,
    "start_time": "2022-05-03T13:48:10.875Z"
   },
   {
    "duration": 176,
    "start_time": "2022-05-03T13:56:07.821Z"
   },
   {
    "duration": 19,
    "start_time": "2022-05-03T13:56:52.796Z"
   },
   {
    "duration": 10,
    "start_time": "2022-05-03T13:57:28.113Z"
   },
   {
    "duration": 5,
    "start_time": "2022-05-03T14:00:13.262Z"
   },
   {
    "duration": 3,
    "start_time": "2022-05-03T14:45:08.476Z"
   },
   {
    "duration": 4,
    "start_time": "2022-05-03T14:54:22.959Z"
   },
   {
    "duration": 12,
    "start_time": "2022-05-03T15:00:35.313Z"
   },
   {
    "duration": 7,
    "start_time": "2022-05-03T15:02:12.521Z"
   },
   {
    "duration": 2417,
    "start_time": "2022-05-03T15:02:20.487Z"
   },
   {
    "duration": 3509,
    "start_time": "2022-05-03T15:02:27.651Z"
   },
   {
    "duration": 5,
    "start_time": "2022-05-03T15:02:35.722Z"
   },
   {
    "duration": 5,
    "start_time": "2022-05-03T15:03:00.606Z"
   },
   {
    "duration": 4,
    "start_time": "2022-05-03T15:03:13.727Z"
   },
   {
    "duration": 7,
    "start_time": "2022-05-03T15:03:31.159Z"
   },
   {
    "duration": 23,
    "start_time": "2022-05-03T15:04:55.438Z"
   },
   {
    "duration": 9,
    "start_time": "2022-05-03T15:06:49.793Z"
   },
   {
    "duration": 3,
    "start_time": "2022-05-03T15:06:56.584Z"
   },
   {
    "duration": 13,
    "start_time": "2022-05-03T15:06:59.672Z"
   },
   {
    "duration": 8,
    "start_time": "2022-05-03T15:07:22.484Z"
   },
   {
    "duration": 12,
    "start_time": "2022-05-03T15:07:36.859Z"
   },
   {
    "duration": 1746,
    "start_time": "2022-05-03T15:09:24.061Z"
   },
   {
    "duration": 508,
    "start_time": "2022-05-03T15:09:25.809Z"
   },
   {
    "duration": 27,
    "start_time": "2022-05-03T15:09:26.319Z"
   },
   {
    "duration": 38,
    "start_time": "2022-05-03T15:09:26.352Z"
   },
   {
    "duration": 5,
    "start_time": "2022-05-03T15:09:26.393Z"
   },
   {
    "duration": 94,
    "start_time": "2022-05-03T15:09:26.400Z"
   },
   {
    "duration": 27,
    "start_time": "2022-05-03T15:09:26.496Z"
   },
   {
    "duration": 36,
    "start_time": "2022-05-03T15:09:26.525Z"
   },
   {
    "duration": 91,
    "start_time": "2022-05-03T15:09:26.563Z"
   },
   {
    "duration": 32,
    "start_time": "2022-05-03T15:09:26.657Z"
   },
   {
    "duration": 25,
    "start_time": "2022-05-03T15:09:26.696Z"
   },
   {
    "duration": 9,
    "start_time": "2022-05-03T15:09:26.723Z"
   },
   {
    "duration": 112,
    "start_time": "2022-05-03T15:09:26.747Z"
   },
   {
    "duration": 29,
    "start_time": "2022-05-03T15:09:26.864Z"
   },
   {
    "duration": 14,
    "start_time": "2022-05-03T15:09:26.895Z"
   },
   {
    "duration": 61,
    "start_time": "2022-05-03T15:09:26.912Z"
   },
   {
    "duration": 21,
    "start_time": "2022-05-03T15:09:26.977Z"
   },
   {
    "duration": 18,
    "start_time": "2022-05-03T15:09:27.001Z"
   },
   {
    "duration": 50,
    "start_time": "2022-05-03T15:09:27.021Z"
   },
   {
    "duration": 89,
    "start_time": "2022-05-03T15:09:27.073Z"
   },
   {
    "duration": 31,
    "start_time": "2022-05-03T15:09:27.178Z"
   },
   {
    "duration": 14,
    "start_time": "2022-05-03T15:09:27.211Z"
   },
   {
    "duration": 87,
    "start_time": "2022-05-03T15:09:27.228Z"
   },
   {
    "duration": 51,
    "start_time": "2022-05-03T15:09:27.318Z"
   },
   {
    "duration": 137,
    "start_time": "2022-05-03T15:09:27.371Z"
   },
   {
    "duration": 8,
    "start_time": "2022-05-03T15:09:27.510Z"
   },
   {
    "duration": 37,
    "start_time": "2022-05-03T15:09:27.521Z"
   },
   {
    "duration": 223,
    "start_time": "2022-05-03T15:09:27.563Z"
   },
   {
    "duration": 60,
    "start_time": "2022-05-03T15:09:27.790Z"
   },
   {
    "duration": 53,
    "start_time": "2022-05-03T15:09:27.852Z"
   },
   {
    "duration": 225,
    "start_time": "2022-05-03T15:09:27.907Z"
   },
   {
    "duration": 23,
    "start_time": "2022-05-03T15:09:28.135Z"
   },
   {
    "duration": 50,
    "start_time": "2022-05-03T15:09:28.161Z"
   },
   {
    "duration": 139,
    "start_time": "2022-05-03T15:09:28.213Z"
   },
   {
    "duration": 44,
    "start_time": "2022-05-03T15:09:28.354Z"
   },
   {
    "duration": 8,
    "start_time": "2022-05-03T15:09:28.400Z"
   },
   {
    "duration": 45,
    "start_time": "2022-05-03T15:09:28.410Z"
   },
   {
    "duration": 215,
    "start_time": "2022-05-03T15:09:28.457Z"
   },
   {
    "duration": 1521,
    "start_time": "2022-05-03T16:02:49.880Z"
   },
   {
    "duration": 1092,
    "start_time": "2022-05-03T16:02:51.403Z"
   },
   {
    "duration": 17,
    "start_time": "2022-05-03T16:02:52.498Z"
   },
   {
    "duration": 24,
    "start_time": "2022-05-03T16:02:52.517Z"
   },
   {
    "duration": 8,
    "start_time": "2022-05-03T16:02:52.543Z"
   },
   {
    "duration": 51,
    "start_time": "2022-05-03T16:02:52.552Z"
   },
   {
    "duration": 43,
    "start_time": "2022-05-03T16:02:52.605Z"
   },
   {
    "duration": 13,
    "start_time": "2022-05-03T16:02:52.650Z"
   },
   {
    "duration": 41,
    "start_time": "2022-05-03T16:02:52.664Z"
   },
   {
    "duration": 34,
    "start_time": "2022-05-03T16:02:52.708Z"
   },
   {
    "duration": 10,
    "start_time": "2022-05-03T16:02:52.744Z"
   },
   {
    "duration": 13,
    "start_time": "2022-05-03T16:02:52.756Z"
   },
   {
    "duration": 50,
    "start_time": "2022-05-03T16:02:52.770Z"
   },
   {
    "duration": 39,
    "start_time": "2022-05-03T16:02:52.822Z"
   },
   {
    "duration": 16,
    "start_time": "2022-05-03T16:02:52.863Z"
   },
   {
    "duration": 47,
    "start_time": "2022-05-03T16:02:52.881Z"
   },
   {
    "duration": 20,
    "start_time": "2022-05-03T16:02:52.936Z"
   },
   {
    "duration": 9,
    "start_time": "2022-05-03T16:02:52.958Z"
   },
   {
    "duration": 7,
    "start_time": "2022-05-03T16:02:52.969Z"
   },
   {
    "duration": 79,
    "start_time": "2022-05-03T16:02:52.977Z"
   },
   {
    "duration": 17,
    "start_time": "2022-05-03T16:02:53.058Z"
   },
   {
    "duration": 14,
    "start_time": "2022-05-03T16:02:53.076Z"
   },
   {
    "duration": 51,
    "start_time": "2022-05-03T16:02:53.092Z"
   },
   {
    "duration": 36,
    "start_time": "2022-05-03T16:02:53.145Z"
   },
   {
    "duration": 120,
    "start_time": "2022-05-03T16:02:53.182Z"
   },
   {
    "duration": 9,
    "start_time": "2022-05-03T16:02:53.303Z"
   },
   {
    "duration": 26,
    "start_time": "2022-05-03T16:02:53.313Z"
   },
   {
    "duration": 106,
    "start_time": "2022-05-03T16:02:53.343Z"
   },
   {
    "duration": 10,
    "start_time": "2022-05-03T16:02:53.535Z"
   },
   {
    "duration": 26,
    "start_time": "2022-05-03T16:02:53.547Z"
   },
   {
    "duration": 165,
    "start_time": "2022-05-03T16:02:53.575Z"
   },
   {
    "duration": 104,
    "start_time": "2022-05-03T16:02:53.741Z"
   },
   {
    "duration": 14,
    "start_time": "2022-05-03T16:02:53.847Z"
   },
   {
    "duration": 91,
    "start_time": "2022-05-03T16:02:53.863Z"
   },
   {
    "duration": 89,
    "start_time": "2022-05-03T16:02:53.956Z"
   },
   {
    "duration": 8,
    "start_time": "2022-05-03T16:02:54.047Z"
   },
   {
    "duration": 4,
    "start_time": "2022-05-03T16:02:54.057Z"
   },
   {
    "duration": 124,
    "start_time": "2022-05-03T16:02:54.063Z"
   },
   {
    "duration": 6,
    "start_time": "2022-05-03T16:03:22.646Z"
   },
   {
    "duration": 4,
    "start_time": "2022-05-03T16:03:28.625Z"
   },
   {
    "duration": 8,
    "start_time": "2022-05-03T16:03:53.102Z"
   },
   {
    "duration": 12,
    "start_time": "2022-05-03T16:05:04.811Z"
   },
   {
    "duration": 5,
    "start_time": "2022-05-03T16:06:13.507Z"
   },
   {
    "duration": 4,
    "start_time": "2022-05-03T16:07:37.374Z"
   },
   {
    "duration": 9,
    "start_time": "2022-05-03T16:07:45.898Z"
   },
   {
    "duration": 5,
    "start_time": "2022-05-03T16:08:56.314Z"
   },
   {
    "duration": 2583,
    "start_time": "2022-05-03T16:09:49.235Z"
   },
   {
    "duration": 2461,
    "start_time": "2022-05-03T16:09:59.146Z"
   },
   {
    "duration": 4,
    "start_time": "2022-05-03T16:10:10.853Z"
   },
   {
    "duration": 9,
    "start_time": "2022-05-03T16:13:04.446Z"
   },
   {
    "duration": 12,
    "start_time": "2022-05-03T16:13:28.922Z"
   },
   {
    "duration": 1674,
    "start_time": "2022-05-03T16:16:18.958Z"
   },
   {
    "duration": 466,
    "start_time": "2022-05-03T16:16:20.635Z"
   },
   {
    "duration": 17,
    "start_time": "2022-05-03T16:16:21.103Z"
   },
   {
    "duration": 24,
    "start_time": "2022-05-03T16:16:21.121Z"
   },
   {
    "duration": 4,
    "start_time": "2022-05-03T16:16:21.148Z"
   },
   {
    "duration": 66,
    "start_time": "2022-05-03T16:16:21.154Z"
   },
   {
    "duration": 20,
    "start_time": "2022-05-03T16:16:21.221Z"
   },
   {
    "duration": 28,
    "start_time": "2022-05-03T16:16:21.249Z"
   },
   {
    "duration": 43,
    "start_time": "2022-05-03T16:16:21.279Z"
   },
   {
    "duration": 29,
    "start_time": "2022-05-03T16:16:21.324Z"
   },
   {
    "duration": 10,
    "start_time": "2022-05-03T16:16:21.360Z"
   },
   {
    "duration": 6,
    "start_time": "2022-05-03T16:16:21.371Z"
   },
   {
    "duration": 50,
    "start_time": "2022-05-03T16:16:21.379Z"
   },
   {
    "duration": 30,
    "start_time": "2022-05-03T16:16:21.436Z"
   },
   {
    "duration": 16,
    "start_time": "2022-05-03T16:16:21.468Z"
   },
   {
    "duration": 72,
    "start_time": "2022-05-03T16:16:21.486Z"
   },
   {
    "duration": 20,
    "start_time": "2022-05-03T16:16:21.561Z"
   },
   {
    "duration": 10,
    "start_time": "2022-05-03T16:16:21.582Z"
   },
   {
    "duration": 9,
    "start_time": "2022-05-03T16:16:21.593Z"
   },
   {
    "duration": 89,
    "start_time": "2022-05-03T16:16:21.603Z"
   },
   {
    "duration": 18,
    "start_time": "2022-05-03T16:16:21.694Z"
   },
   {
    "duration": 30,
    "start_time": "2022-05-03T16:16:21.714Z"
   },
   {
    "duration": 52,
    "start_time": "2022-05-03T16:16:21.753Z"
   },
   {
    "duration": 49,
    "start_time": "2022-05-03T16:16:21.807Z"
   },
   {
    "duration": 123,
    "start_time": "2022-05-03T16:16:21.860Z"
   },
   {
    "duration": 9,
    "start_time": "2022-05-03T16:16:21.984Z"
   },
   {
    "duration": 15,
    "start_time": "2022-05-03T16:16:21.995Z"
   },
   {
    "duration": 244,
    "start_time": "2022-05-03T16:16:22.012Z"
   },
   {
    "duration": 104,
    "start_time": "2022-05-03T16:16:22.258Z"
   },
   {
    "duration": 13,
    "start_time": "2022-05-03T16:16:22.364Z"
   },
   {
    "duration": 82,
    "start_time": "2022-05-03T16:16:22.378Z"
   },
   {
    "duration": 75,
    "start_time": "2022-05-03T16:16:22.463Z"
   },
   {
    "duration": 42,
    "start_time": "2022-05-03T16:16:22.541Z"
   },
   {
    "duration": 149,
    "start_time": "2022-05-03T16:16:22.585Z"
   },
   {
    "duration": 6,
    "start_time": "2022-05-03T16:16:22.736Z"
   },
   {
    "duration": 34,
    "start_time": "2022-05-03T16:16:22.751Z"
   },
   {
    "duration": 51,
    "start_time": "2022-05-03T16:16:22.786Z"
   },
   {
    "duration": 26,
    "start_time": "2022-05-03T16:16:22.849Z"
   },
   {
    "duration": 119,
    "start_time": "2022-05-03T16:16:22.877Z"
   },
   {
    "duration": 1699,
    "start_time": "2022-05-03T16:16:46.283Z"
   },
   {
    "duration": 6,
    "start_time": "2022-05-03T16:50:49.253Z"
   },
   {
    "duration": 1343,
    "start_time": "2022-05-03T16:50:50.696Z"
   },
   {
    "duration": 6,
    "start_time": "2022-05-03T16:51:10.942Z"
   },
   {
    "duration": 1350,
    "start_time": "2022-05-03T16:51:27.064Z"
   },
   {
    "duration": 1494,
    "start_time": "2022-05-03T16:58:26.210Z"
   },
   {
    "duration": 406,
    "start_time": "2022-05-03T16:58:27.707Z"
   },
   {
    "duration": 18,
    "start_time": "2022-05-03T16:58:28.115Z"
   },
   {
    "duration": 15,
    "start_time": "2022-05-03T16:58:28.135Z"
   },
   {
    "duration": 4,
    "start_time": "2022-05-03T16:58:28.153Z"
   },
   {
    "duration": 51,
    "start_time": "2022-05-03T16:58:28.159Z"
   },
   {
    "duration": 18,
    "start_time": "2022-05-03T16:58:28.233Z"
   },
   {
    "duration": 13,
    "start_time": "2022-05-03T16:58:28.252Z"
   },
   {
    "duration": 68,
    "start_time": "2022-05-03T16:58:28.266Z"
   },
   {
    "duration": 14,
    "start_time": "2022-05-03T16:58:28.336Z"
   },
   {
    "duration": 9,
    "start_time": "2022-05-03T16:58:28.352Z"
   },
   {
    "duration": 9,
    "start_time": "2022-05-03T16:58:28.363Z"
   },
   {
    "duration": 71,
    "start_time": "2022-05-03T16:58:28.374Z"
   },
   {
    "duration": 17,
    "start_time": "2022-05-03T16:58:28.448Z"
   },
   {
    "duration": 10,
    "start_time": "2022-05-03T16:58:28.467Z"
   },
   {
    "duration": 60,
    "start_time": "2022-05-03T16:58:28.478Z"
   },
   {
    "duration": 15,
    "start_time": "2022-05-03T16:58:28.539Z"
   },
   {
    "duration": 9,
    "start_time": "2022-05-03T16:58:28.555Z"
   },
   {
    "duration": 12,
    "start_time": "2022-05-03T16:58:28.565Z"
   },
   {
    "duration": 64,
    "start_time": "2022-05-03T16:58:28.579Z"
   },
   {
    "duration": 17,
    "start_time": "2022-05-03T16:58:28.645Z"
   },
   {
    "duration": 10,
    "start_time": "2022-05-03T16:58:28.664Z"
   },
   {
    "duration": 59,
    "start_time": "2022-05-03T16:58:28.676Z"
   },
   {
    "duration": 37,
    "start_time": "2022-05-03T16:58:28.737Z"
   },
   {
    "duration": 132,
    "start_time": "2022-05-03T16:58:28.776Z"
   },
   {
    "duration": 9,
    "start_time": "2022-05-03T16:58:28.909Z"
   },
   {
    "duration": 27,
    "start_time": "2022-05-03T16:58:28.919Z"
   },
   {
    "duration": 288,
    "start_time": "2022-05-03T16:58:28.947Z"
   },
   {
    "duration": 8,
    "start_time": "2022-05-03T16:58:29.237Z"
   },
   {
    "duration": 16,
    "start_time": "2022-05-03T16:58:29.247Z"
   },
   {
    "duration": 82,
    "start_time": "2022-05-03T16:58:29.264Z"
   },
   {
    "duration": 9,
    "start_time": "2022-05-03T16:58:29.435Z"
   },
   {
    "duration": 14,
    "start_time": "2022-05-03T16:58:29.446Z"
   },
   {
    "duration": 173,
    "start_time": "2022-05-03T16:58:29.462Z"
   },
   {
    "duration": 3,
    "start_time": "2022-05-03T16:58:29.637Z"
   },
   {
    "duration": 99,
    "start_time": "2022-05-03T16:58:29.642Z"
   },
   {
    "duration": 5,
    "start_time": "2022-05-03T16:58:29.743Z"
   },
   {
    "duration": 12,
    "start_time": "2022-05-03T16:58:29.750Z"
   },
   {
    "duration": 1396,
    "start_time": "2022-05-03T16:58:29.763Z"
   },
   {
    "duration": 6,
    "start_time": "2022-05-03T16:58:31.161Z"
   },
   {
    "duration": 2153,
    "start_time": "2022-05-03T16:58:31.171Z"
   },
   {
    "duration": 8,
    "start_time": "2022-05-03T16:58:33.326Z"
   },
   {
    "duration": 1388,
    "start_time": "2022-05-03T16:58:33.336Z"
   },
   {
    "duration": 1321,
    "start_time": "2022-05-03T17:02:46.460Z"
   },
   {
    "duration": 1447,
    "start_time": "2022-05-03T17:02:58.931Z"
   },
   {
    "duration": 1371,
    "start_time": "2022-05-03T17:08:42.469Z"
   },
   {
    "duration": 371,
    "start_time": "2022-05-03T17:08:43.842Z"
   },
   {
    "duration": 18,
    "start_time": "2022-05-03T17:08:44.215Z"
   },
   {
    "duration": 14,
    "start_time": "2022-05-03T17:08:44.234Z"
   },
   {
    "duration": 4,
    "start_time": "2022-05-03T17:08:44.250Z"
   },
   {
    "duration": 47,
    "start_time": "2022-05-03T17:08:44.256Z"
   },
   {
    "duration": 39,
    "start_time": "2022-05-03T17:08:44.305Z"
   },
   {
    "duration": 12,
    "start_time": "2022-05-03T17:08:44.346Z"
   },
   {
    "duration": 41,
    "start_time": "2022-05-03T17:08:44.359Z"
   },
   {
    "duration": 39,
    "start_time": "2022-05-03T17:08:44.402Z"
   },
   {
    "duration": 9,
    "start_time": "2022-05-03T17:08:44.443Z"
   },
   {
    "duration": 9,
    "start_time": "2022-05-03T17:08:44.454Z"
   },
   {
    "duration": 45,
    "start_time": "2022-05-03T17:08:44.464Z"
   },
   {
    "duration": 35,
    "start_time": "2022-05-03T17:08:44.514Z"
   },
   {
    "duration": 10,
    "start_time": "2022-05-03T17:08:44.551Z"
   },
   {
    "duration": 36,
    "start_time": "2022-05-03T17:08:44.563Z"
   },
   {
    "duration": 40,
    "start_time": "2022-05-03T17:08:44.601Z"
   },
   {
    "duration": 9,
    "start_time": "2022-05-03T17:08:44.643Z"
   },
   {
    "duration": 6,
    "start_time": "2022-05-03T17:08:44.654Z"
   },
   {
    "duration": 44,
    "start_time": "2022-05-03T17:08:44.662Z"
   },
   {
    "duration": 40,
    "start_time": "2022-05-03T17:08:44.708Z"
   },
   {
    "duration": 10,
    "start_time": "2022-05-03T17:08:44.750Z"
   },
   {
    "duration": 36,
    "start_time": "2022-05-03T17:08:44.761Z"
   },
   {
    "duration": 59,
    "start_time": "2022-05-03T17:08:44.798Z"
   },
   {
    "duration": 109,
    "start_time": "2022-05-03T17:08:44.859Z"
   },
   {
    "duration": 7,
    "start_time": "2022-05-03T17:08:44.970Z"
   },
   {
    "duration": 22,
    "start_time": "2022-05-03T17:08:44.979Z"
   },
   {
    "duration": 138,
    "start_time": "2022-05-03T17:08:45.003Z"
   },
   {
    "duration": 10,
    "start_time": "2022-05-03T17:08:45.232Z"
   },
   {
    "duration": 18,
    "start_time": "2022-05-03T17:08:45.244Z"
   },
   {
    "duration": 171,
    "start_time": "2022-05-03T17:08:45.264Z"
   },
   {
    "duration": 9,
    "start_time": "2022-05-03T17:08:45.437Z"
   },
   {
    "duration": 90,
    "start_time": "2022-05-03T17:08:45.448Z"
   },
   {
    "duration": 194,
    "start_time": "2022-05-03T17:08:45.540Z"
   },
   {
    "duration": 3,
    "start_time": "2022-05-03T17:08:45.736Z"
   },
   {
    "duration": 8,
    "start_time": "2022-05-03T17:08:45.740Z"
   },
   {
    "duration": 5,
    "start_time": "2022-05-03T17:08:45.750Z"
   },
   {
    "duration": 10,
    "start_time": "2022-05-03T17:08:45.757Z"
   },
   {
    "duration": 1355,
    "start_time": "2022-05-03T17:08:45.769Z"
   },
   {
    "duration": 10,
    "start_time": "2022-05-03T17:08:47.126Z"
   },
   {
    "duration": 1330,
    "start_time": "2022-05-03T17:08:47.140Z"
   },
   {
    "duration": 5,
    "start_time": "2022-05-03T17:08:48.472Z"
   },
   {
    "duration": 1335,
    "start_time": "2022-05-03T17:08:48.479Z"
   },
   {
    "duration": 36,
    "start_time": "2022-05-03T17:47:35.926Z"
   },
   {
    "duration": 11,
    "start_time": "2022-05-03T17:48:09.910Z"
   },
   {
    "duration": 13,
    "start_time": "2022-05-03T17:48:56.826Z"
   },
   {
    "duration": 10,
    "start_time": "2022-05-03T17:50:10.512Z"
   },
   {
    "duration": 24,
    "start_time": "2022-05-03T17:54:21.137Z"
   },
   {
    "duration": 1385,
    "start_time": "2022-05-03T17:57:51.366Z"
   },
   {
    "duration": 400,
    "start_time": "2022-05-03T17:57:52.753Z"
   },
   {
    "duration": 16,
    "start_time": "2022-05-03T17:57:53.154Z"
   },
   {
    "duration": 14,
    "start_time": "2022-05-03T17:57:53.172Z"
   },
   {
    "duration": 4,
    "start_time": "2022-05-03T17:57:53.188Z"
   },
   {
    "duration": 72,
    "start_time": "2022-05-03T17:57:53.193Z"
   },
   {
    "duration": 20,
    "start_time": "2022-05-03T17:57:53.266Z"
   },
   {
    "duration": 12,
    "start_time": "2022-05-03T17:57:53.287Z"
   },
   {
    "duration": 64,
    "start_time": "2022-05-03T17:57:53.301Z"
   },
   {
    "duration": 11,
    "start_time": "2022-05-03T17:57:53.368Z"
   },
   {
    "duration": 17,
    "start_time": "2022-05-03T17:57:53.380Z"
   },
   {
    "duration": 10,
    "start_time": "2022-05-03T17:57:53.399Z"
   },
   {
    "duration": 23,
    "start_time": "2022-05-03T17:57:53.411Z"
   },
   {
    "duration": 49,
    "start_time": "2022-05-03T17:57:53.436Z"
   },
   {
    "duration": 19,
    "start_time": "2022-05-03T17:57:53.486Z"
   },
   {
    "duration": 37,
    "start_time": "2022-05-03T17:57:53.506Z"
   },
   {
    "duration": 42,
    "start_time": "2022-05-03T17:57:53.545Z"
   },
   {
    "duration": 12,
    "start_time": "2022-05-03T17:57:53.589Z"
   },
   {
    "duration": 39,
    "start_time": "2022-05-03T17:57:53.603Z"
   },
   {
    "duration": 17,
    "start_time": "2022-05-03T17:57:53.644Z"
   },
   {
    "duration": 10,
    "start_time": "2022-05-03T17:57:53.663Z"
   },
   {
    "duration": 5,
    "start_time": "2022-05-03T17:57:53.675Z"
   },
   {
    "duration": 77,
    "start_time": "2022-05-03T17:57:53.682Z"
   },
   {
    "duration": 20,
    "start_time": "2022-05-03T17:57:53.761Z"
   },
   {
    "duration": 10,
    "start_time": "2022-05-03T17:57:53.782Z"
   },
   {
    "duration": 59,
    "start_time": "2022-05-03T17:57:53.794Z"
   },
   {
    "duration": 9,
    "start_time": "2022-05-03T17:57:53.855Z"
   },
   {
    "duration": 42,
    "start_time": "2022-05-03T17:57:53.868Z"
   },
   {
    "duration": 113,
    "start_time": "2022-05-03T17:57:53.912Z"
   },
   {
    "duration": 8,
    "start_time": "2022-05-03T17:57:54.034Z"
   },
   {
    "duration": 15,
    "start_time": "2022-05-03T17:57:54.043Z"
   },
   {
    "duration": 175,
    "start_time": "2022-05-03T17:57:54.060Z"
   },
   {
    "duration": 9,
    "start_time": "2022-05-03T17:57:54.237Z"
   },
   {
    "duration": 15,
    "start_time": "2022-05-03T17:57:54.247Z"
   },
   {
    "duration": 171,
    "start_time": "2022-05-03T17:57:54.264Z"
   },
   {
    "duration": 10,
    "start_time": "2022-05-03T17:57:54.436Z"
   },
   {
    "duration": 87,
    "start_time": "2022-05-03T17:57:54.447Z"
   },
   {
    "duration": 199,
    "start_time": "2022-05-03T17:57:54.535Z"
   },
   {
    "duration": 3,
    "start_time": "2022-05-03T17:57:54.736Z"
   },
   {
    "duration": 7,
    "start_time": "2022-05-03T17:57:54.741Z"
   },
   {
    "duration": 5,
    "start_time": "2022-05-03T17:57:54.750Z"
   },
   {
    "duration": 11,
    "start_time": "2022-05-03T17:57:54.757Z"
   },
   {
    "duration": 2244,
    "start_time": "2022-05-03T17:57:54.771Z"
   },
   {
    "duration": 6,
    "start_time": "2022-05-03T17:57:57.016Z"
   },
   {
    "duration": 1361,
    "start_time": "2022-05-03T17:57:57.023Z"
   },
   {
    "duration": 6,
    "start_time": "2022-05-03T17:57:58.386Z"
   },
   {
    "duration": 1355,
    "start_time": "2022-05-03T17:57:58.393Z"
   },
   {
    "duration": 1521,
    "start_time": "2022-05-03T18:06:55.950Z"
   },
   {
    "duration": 432,
    "start_time": "2022-05-03T18:06:57.473Z"
   },
   {
    "duration": 16,
    "start_time": "2022-05-03T18:06:57.906Z"
   },
   {
    "duration": 26,
    "start_time": "2022-05-03T18:06:57.924Z"
   },
   {
    "duration": 13,
    "start_time": "2022-05-03T18:06:57.952Z"
   },
   {
    "duration": 50,
    "start_time": "2022-05-03T18:06:57.967Z"
   },
   {
    "duration": 22,
    "start_time": "2022-05-03T18:06:58.033Z"
   },
   {
    "duration": 13,
    "start_time": "2022-05-03T18:06:58.056Z"
   },
   {
    "duration": 68,
    "start_time": "2022-05-03T18:06:58.071Z"
   },
   {
    "duration": 16,
    "start_time": "2022-05-03T18:06:58.143Z"
   },
   {
    "duration": 22,
    "start_time": "2022-05-03T18:06:58.162Z"
   },
   {
    "duration": 13,
    "start_time": "2022-05-03T18:06:58.186Z"
   },
   {
    "duration": 36,
    "start_time": "2022-05-03T18:06:58.201Z"
   },
   {
    "duration": 58,
    "start_time": "2022-05-03T18:06:58.239Z"
   },
   {
    "duration": 18,
    "start_time": "2022-05-03T18:06:58.299Z"
   },
   {
    "duration": 26,
    "start_time": "2022-05-03T18:06:58.318Z"
   },
   {
    "duration": 45,
    "start_time": "2022-05-03T18:06:58.347Z"
   },
   {
    "duration": 13,
    "start_time": "2022-05-03T18:06:58.393Z"
   },
   {
    "duration": 50,
    "start_time": "2022-05-03T18:06:58.407Z"
   },
   {
    "duration": 16,
    "start_time": "2022-05-03T18:06:58.459Z"
   },
   {
    "duration": 9,
    "start_time": "2022-05-03T18:06:58.476Z"
   },
   {
    "duration": 7,
    "start_time": "2022-05-03T18:06:58.487Z"
   },
   {
    "duration": 90,
    "start_time": "2022-05-03T18:06:58.495Z"
   },
   {
    "duration": 19,
    "start_time": "2022-05-03T18:06:58.587Z"
   },
   {
    "duration": 29,
    "start_time": "2022-05-03T18:06:58.608Z"
   },
   {
    "duration": 55,
    "start_time": "2022-05-03T18:06:58.639Z"
   },
   {
    "duration": 10,
    "start_time": "2022-05-03T18:06:58.696Z"
   },
   {
    "duration": 66,
    "start_time": "2022-05-03T18:06:58.709Z"
   },
   {
    "duration": 134,
    "start_time": "2022-05-03T18:06:58.777Z"
   },
   {
    "duration": 23,
    "start_time": "2022-05-03T18:06:58.913Z"
   },
   {
    "duration": 36,
    "start_time": "2022-05-03T18:06:58.938Z"
   },
   {
    "duration": 162,
    "start_time": "2022-05-03T18:06:58.977Z"
   },
   {
    "duration": 21,
    "start_time": "2022-05-03T18:06:59.142Z"
   },
   {
    "duration": 98,
    "start_time": "2022-05-03T18:06:59.166Z"
   },
   {
    "duration": 90,
    "start_time": "2022-05-03T18:06:59.266Z"
   },
   {
    "duration": 16,
    "start_time": "2022-05-03T18:06:59.434Z"
   },
   {
    "duration": 119,
    "start_time": "2022-05-03T18:06:59.453Z"
   },
   {
    "duration": 260,
    "start_time": "2022-05-03T18:06:59.574Z"
   },
   {
    "duration": 16,
    "start_time": "2022-05-03T18:06:59.838Z"
   },
   {
    "duration": 9,
    "start_time": "2022-05-03T18:06:59.856Z"
   },
   {
    "duration": 10,
    "start_time": "2022-05-03T18:06:59.866Z"
   },
   {
    "duration": 13,
    "start_time": "2022-05-03T18:06:59.877Z"
   },
   {
    "duration": 1570,
    "start_time": "2022-05-03T18:06:59.892Z"
   },
   {
    "duration": 6,
    "start_time": "2022-05-03T18:07:01.464Z"
   },
   {
    "duration": 1575,
    "start_time": "2022-05-03T18:07:01.472Z"
   },
   {
    "duration": 7,
    "start_time": "2022-05-03T18:07:03.050Z"
   },
   {
    "duration": 1546,
    "start_time": "2022-05-03T18:07:03.058Z"
   },
   {
    "duration": 1493,
    "start_time": "2022-05-03T18:09:33.973Z"
   },
   {
    "duration": 397,
    "start_time": "2022-05-03T18:09:35.468Z"
   },
   {
    "duration": 18,
    "start_time": "2022-05-03T18:09:35.867Z"
   },
   {
    "duration": 18,
    "start_time": "2022-05-03T18:09:35.887Z"
   },
   {
    "duration": 4,
    "start_time": "2022-05-03T18:09:35.907Z"
   },
   {
    "duration": 69,
    "start_time": "2022-05-03T18:09:35.913Z"
   },
   {
    "duration": 22,
    "start_time": "2022-05-03T18:09:35.985Z"
   },
   {
    "duration": 34,
    "start_time": "2022-05-03T18:09:36.009Z"
   },
   {
    "duration": 43,
    "start_time": "2022-05-03T18:09:36.045Z"
   },
   {
    "duration": 13,
    "start_time": "2022-05-03T18:09:36.091Z"
   },
   {
    "duration": 44,
    "start_time": "2022-05-03T18:09:36.106Z"
   },
   {
    "duration": 12,
    "start_time": "2022-05-03T18:09:36.152Z"
   },
   {
    "duration": 9,
    "start_time": "2022-05-03T18:09:36.167Z"
   },
   {
    "duration": 67,
    "start_time": "2022-05-03T18:09:36.178Z"
   },
   {
    "duration": 26,
    "start_time": "2022-05-03T18:09:36.247Z"
   },
   {
    "duration": 16,
    "start_time": "2022-05-03T18:09:36.276Z"
   },
   {
    "duration": 80,
    "start_time": "2022-05-03T18:09:36.294Z"
   },
   {
    "duration": 13,
    "start_time": "2022-05-03T18:09:36.376Z"
   },
   {
    "duration": 43,
    "start_time": "2022-05-03T18:09:36.391Z"
   },
   {
    "duration": 16,
    "start_time": "2022-05-03T18:09:36.436Z"
   },
   {
    "duration": 10,
    "start_time": "2022-05-03T18:09:36.453Z"
   },
   {
    "duration": 7,
    "start_time": "2022-05-03T18:09:36.465Z"
   },
   {
    "duration": 74,
    "start_time": "2022-05-03T18:09:36.473Z"
   },
   {
    "duration": 18,
    "start_time": "2022-05-03T18:09:36.549Z"
   },
   {
    "duration": 11,
    "start_time": "2022-05-03T18:09:36.568Z"
   },
   {
    "duration": 68,
    "start_time": "2022-05-03T18:09:36.581Z"
   },
   {
    "duration": 10,
    "start_time": "2022-05-03T18:09:36.650Z"
   },
   {
    "duration": 41,
    "start_time": "2022-05-03T18:09:36.664Z"
   },
   {
    "duration": 135,
    "start_time": "2022-05-03T18:09:36.707Z"
   },
   {
    "duration": 12,
    "start_time": "2022-05-03T18:09:36.844Z"
   },
   {
    "duration": 18,
    "start_time": "2022-05-03T18:09:36.858Z"
   },
   {
    "duration": 355,
    "start_time": "2022-05-03T18:09:36.879Z"
   },
   {
    "duration": 12,
    "start_time": "2022-05-03T18:09:37.236Z"
   },
   {
    "duration": 20,
    "start_time": "2022-05-03T18:09:37.250Z"
   },
   {
    "duration": 264,
    "start_time": "2022-05-03T18:09:37.272Z"
   },
   {
    "duration": 13,
    "start_time": "2022-05-03T18:09:37.538Z"
   },
   {
    "duration": 18,
    "start_time": "2022-05-03T18:09:37.553Z"
   },
   {
    "duration": 164,
    "start_time": "2022-05-03T18:09:37.577Z"
   },
   {
    "duration": 3,
    "start_time": "2022-05-03T18:09:37.743Z"
   },
   {
    "duration": 99,
    "start_time": "2022-05-03T18:09:37.748Z"
   },
   {
    "duration": 10,
    "start_time": "2022-05-03T18:09:37.849Z"
   },
   {
    "duration": 14,
    "start_time": "2022-05-03T18:09:37.861Z"
   },
   {
    "duration": 1432,
    "start_time": "2022-05-03T18:09:37.877Z"
   },
   {
    "duration": 13,
    "start_time": "2022-05-03T18:09:39.311Z"
   },
   {
    "duration": 1433,
    "start_time": "2022-05-03T18:09:39.334Z"
   },
   {
    "duration": 6,
    "start_time": "2022-05-03T18:09:40.768Z"
   },
   {
    "duration": 1390,
    "start_time": "2022-05-03T18:09:40.776Z"
   },
   {
    "duration": 1454,
    "start_time": "2022-05-03T18:18:52.898Z"
   },
   {
    "duration": 4,
    "start_time": "2022-05-03T18:18:58.619Z"
   },
   {
    "duration": 1430,
    "start_time": "2022-05-03T18:19:01.342Z"
   },
   {
    "duration": 3,
    "start_time": "2022-05-03T18:19:10.666Z"
   },
   {
    "duration": 6,
    "start_time": "2022-05-03T18:19:15.212Z"
   },
   {
    "duration": 1363,
    "start_time": "2022-05-03T18:19:16.932Z"
   },
   {
    "duration": 5,
    "start_time": "2022-05-03T18:20:39.557Z"
   },
   {
    "duration": 1591,
    "start_time": "2022-05-03T18:22:53.550Z"
   },
   {
    "duration": 384,
    "start_time": "2022-05-03T18:22:55.145Z"
   },
   {
    "duration": 23,
    "start_time": "2022-05-03T18:22:55.530Z"
   },
   {
    "duration": 13,
    "start_time": "2022-05-03T18:22:55.555Z"
   },
   {
    "duration": 6,
    "start_time": "2022-05-03T18:22:55.570Z"
   },
   {
    "duration": 71,
    "start_time": "2022-05-03T18:22:55.578Z"
   },
   {
    "duration": 17,
    "start_time": "2022-05-03T18:22:55.652Z"
   },
   {
    "duration": 13,
    "start_time": "2022-05-03T18:22:55.670Z"
   },
   {
    "duration": 68,
    "start_time": "2022-05-03T18:22:55.685Z"
   },
   {
    "duration": 11,
    "start_time": "2022-05-03T18:22:55.756Z"
   },
   {
    "duration": 16,
    "start_time": "2022-05-03T18:22:55.768Z"
   },
   {
    "duration": 10,
    "start_time": "2022-05-03T18:22:55.786Z"
   },
   {
    "duration": 9,
    "start_time": "2022-05-03T18:22:55.797Z"
   },
   {
    "duration": 84,
    "start_time": "2022-05-03T18:22:55.808Z"
   },
   {
    "duration": 18,
    "start_time": "2022-05-03T18:22:55.894Z"
   },
   {
    "duration": 12,
    "start_time": "2022-05-03T18:22:55.914Z"
   },
   {
    "duration": 42,
    "start_time": "2022-05-03T18:22:55.932Z"
   },
   {
    "duration": 14,
    "start_time": "2022-05-03T18:22:55.975Z"
   },
   {
    "duration": 51,
    "start_time": "2022-05-03T18:22:55.991Z"
   },
   {
    "duration": 20,
    "start_time": "2022-05-03T18:22:56.043Z"
   },
   {
    "duration": 9,
    "start_time": "2022-05-03T18:22:56.065Z"
   },
   {
    "duration": 7,
    "start_time": "2022-05-03T18:22:56.076Z"
   },
   {
    "duration": 79,
    "start_time": "2022-05-03T18:22:56.085Z"
   },
   {
    "duration": 19,
    "start_time": "2022-05-03T18:22:56.166Z"
   },
   {
    "duration": 11,
    "start_time": "2022-05-03T18:22:56.187Z"
   },
   {
    "duration": 65,
    "start_time": "2022-05-03T18:22:56.200Z"
   },
   {
    "duration": 9,
    "start_time": "2022-05-03T18:22:56.267Z"
   },
   {
    "duration": 53,
    "start_time": "2022-05-03T18:22:56.280Z"
   },
   {
    "duration": 112,
    "start_time": "2022-05-03T18:22:56.342Z"
   },
   {
    "duration": 9,
    "start_time": "2022-05-03T18:22:56.455Z"
   },
   {
    "duration": 15,
    "start_time": "2022-05-03T18:22:56.465Z"
   },
   {
    "duration": 150,
    "start_time": "2022-05-03T18:22:56.482Z"
   },
   {
    "duration": 20,
    "start_time": "2022-05-03T18:22:56.636Z"
   },
   {
    "duration": 102,
    "start_time": "2022-05-03T18:22:56.659Z"
   },
   {
    "duration": 92,
    "start_time": "2022-05-03T18:22:56.763Z"
   },
   {
    "duration": 90,
    "start_time": "2022-05-03T18:22:56.858Z"
   },
   {
    "duration": 19,
    "start_time": "2022-05-03T18:22:56.950Z"
   },
   {
    "duration": 172,
    "start_time": "2022-05-03T18:22:56.971Z"
   },
   {
    "duration": 92,
    "start_time": "2022-05-03T18:22:57.153Z"
   },
   {
    "duration": 13,
    "start_time": "2022-05-03T18:22:57.247Z"
   },
   {
    "duration": 5,
    "start_time": "2022-05-03T18:22:57.261Z"
   },
   {
    "duration": 8,
    "start_time": "2022-05-03T18:22:57.267Z"
   },
   {
    "duration": 1408,
    "start_time": "2022-05-03T18:22:57.277Z"
   },
   {
    "duration": 5,
    "start_time": "2022-05-03T18:22:58.687Z"
   },
   {
    "duration": 1374,
    "start_time": "2022-05-03T18:22:58.694Z"
   },
   {
    "duration": 5,
    "start_time": "2022-05-03T18:23:00.070Z"
   },
   {
    "duration": 1395,
    "start_time": "2022-05-03T18:23:00.077Z"
   },
   {
    "duration": 1915,
    "start_time": "2022-05-03T18:27:52.872Z"
   },
   {
    "duration": 1468,
    "start_time": "2022-05-03T18:30:04.019Z"
   },
   {
    "duration": 393,
    "start_time": "2022-05-03T18:30:05.489Z"
   },
   {
    "duration": 16,
    "start_time": "2022-05-03T18:30:05.884Z"
   },
   {
    "duration": 13,
    "start_time": "2022-05-03T18:30:05.902Z"
   },
   {
    "duration": 26,
    "start_time": "2022-05-03T18:30:05.916Z"
   },
   {
    "duration": 54,
    "start_time": "2022-05-03T18:30:05.944Z"
   },
   {
    "duration": 17,
    "start_time": "2022-05-03T18:30:06.000Z"
   },
   {
    "duration": 21,
    "start_time": "2022-05-03T18:30:06.019Z"
   },
   {
    "duration": 51,
    "start_time": "2022-05-03T18:30:06.042Z"
   },
   {
    "duration": 10,
    "start_time": "2022-05-03T18:30:06.096Z"
   },
   {
    "duration": 36,
    "start_time": "2022-05-03T18:30:06.108Z"
   },
   {
    "duration": 10,
    "start_time": "2022-05-03T18:30:06.146Z"
   },
   {
    "duration": 8,
    "start_time": "2022-05-03T18:30:06.157Z"
   },
   {
    "duration": 47,
    "start_time": "2022-05-03T18:30:06.167Z"
   },
   {
    "duration": 41,
    "start_time": "2022-05-03T18:30:06.215Z"
   },
   {
    "duration": 13,
    "start_time": "2022-05-03T18:30:06.257Z"
   },
   {
    "duration": 44,
    "start_time": "2022-05-03T18:30:06.272Z"
   },
   {
    "duration": 33,
    "start_time": "2022-05-03T18:30:06.318Z"
   },
   {
    "duration": 43,
    "start_time": "2022-05-03T18:30:06.353Z"
   },
   {
    "duration": 53,
    "start_time": "2022-05-03T18:30:06.402Z"
   },
   {
    "duration": 40,
    "start_time": "2022-05-03T18:30:06.457Z"
   },
   {
    "duration": 8,
    "start_time": "2022-05-03T18:30:06.499Z"
   },
   {
    "duration": 56,
    "start_time": "2022-05-03T18:30:06.508Z"
   },
   {
    "duration": 18,
    "start_time": "2022-05-03T18:30:06.566Z"
   },
   {
    "duration": 10,
    "start_time": "2022-05-03T18:30:06.586Z"
   },
   {
    "duration": 58,
    "start_time": "2022-05-03T18:30:06.597Z"
   },
   {
    "duration": 8,
    "start_time": "2022-05-03T18:30:06.657Z"
   },
   {
    "duration": 36,
    "start_time": "2022-05-03T18:30:06.669Z"
   },
   {
    "duration": 141,
    "start_time": "2022-05-03T18:30:06.706Z"
   },
   {
    "duration": 8,
    "start_time": "2022-05-03T18:30:06.849Z"
   },
   {
    "duration": 16,
    "start_time": "2022-05-03T18:30:06.859Z"
   },
   {
    "duration": 74,
    "start_time": "2022-05-03T18:30:06.877Z"
   },
   {
    "duration": 94,
    "start_time": "2022-05-03T18:30:06.952Z"
   },
   {
    "duration": 95,
    "start_time": "2022-05-03T18:30:07.049Z"
   },
   {
    "duration": 197,
    "start_time": "2022-05-03T18:30:07.147Z"
   },
   {
    "duration": 10,
    "start_time": "2022-05-03T18:30:07.347Z"
   },
   {
    "duration": 15,
    "start_time": "2022-05-03T18:30:07.359Z"
   },
   {
    "duration": 171,
    "start_time": "2022-05-03T18:30:07.375Z"
   },
   {
    "duration": 4,
    "start_time": "2022-05-03T18:30:07.548Z"
   },
   {
    "duration": 103,
    "start_time": "2022-05-03T18:30:07.554Z"
   },
   {
    "duration": 5,
    "start_time": "2022-05-03T18:30:07.659Z"
   },
   {
    "duration": 11,
    "start_time": "2022-05-03T18:30:07.666Z"
   },
   {
    "duration": 1433,
    "start_time": "2022-05-03T18:30:07.679Z"
   },
   {
    "duration": 6,
    "start_time": "2022-05-03T18:30:09.114Z"
   },
   {
    "duration": 1382,
    "start_time": "2022-05-03T18:30:09.140Z"
   },
   {
    "duration": 6,
    "start_time": "2022-05-03T18:30:10.524Z"
   },
   {
    "duration": 1391,
    "start_time": "2022-05-03T18:30:10.540Z"
   },
   {
    "duration": 1551,
    "start_time": "2022-05-03T18:31:16.545Z"
   },
   {
    "duration": 425,
    "start_time": "2022-05-03T18:31:18.099Z"
   },
   {
    "duration": 20,
    "start_time": "2022-05-03T18:31:18.526Z"
   },
   {
    "duration": 31,
    "start_time": "2022-05-03T18:31:18.548Z"
   },
   {
    "duration": 8,
    "start_time": "2022-05-03T18:31:18.581Z"
   },
   {
    "duration": 63,
    "start_time": "2022-05-03T18:31:18.590Z"
   },
   {
    "duration": 19,
    "start_time": "2022-05-03T18:31:18.656Z"
   },
   {
    "duration": 14,
    "start_time": "2022-05-03T18:31:18.676Z"
   },
   {
    "duration": 75,
    "start_time": "2022-05-03T18:31:18.692Z"
   },
   {
    "duration": 15,
    "start_time": "2022-05-03T18:31:18.769Z"
   },
   {
    "duration": 25,
    "start_time": "2022-05-03T18:31:18.786Z"
   },
   {
    "duration": 18,
    "start_time": "2022-05-03T18:31:18.833Z"
   },
   {
    "duration": 10,
    "start_time": "2022-05-03T18:31:18.853Z"
   },
   {
    "duration": 61,
    "start_time": "2022-05-03T18:31:18.866Z"
   },
   {
    "duration": 25,
    "start_time": "2022-05-03T18:31:18.932Z"
   },
   {
    "duration": 22,
    "start_time": "2022-05-03T18:31:18.960Z"
   },
   {
    "duration": 77,
    "start_time": "2022-05-03T18:31:18.985Z"
   },
   {
    "duration": 18,
    "start_time": "2022-05-03T18:31:19.065Z"
   },
   {
    "duration": 25,
    "start_time": "2022-05-03T18:31:19.085Z"
   },
   {
    "duration": 32,
    "start_time": "2022-05-03T18:31:19.111Z"
   },
   {
    "duration": 26,
    "start_time": "2022-05-03T18:31:19.145Z"
   },
   {
    "duration": 23,
    "start_time": "2022-05-03T18:31:19.173Z"
   },
   {
    "duration": 83,
    "start_time": "2022-05-03T18:31:19.198Z"
   },
   {
    "duration": 20,
    "start_time": "2022-05-03T18:31:19.283Z"
   },
   {
    "duration": 11,
    "start_time": "2022-05-03T18:31:19.305Z"
   },
   {
    "duration": 64,
    "start_time": "2022-05-03T18:31:19.336Z"
   },
   {
    "duration": 8,
    "start_time": "2022-05-03T18:31:19.402Z"
   },
   {
    "duration": 77,
    "start_time": "2022-05-03T18:31:19.412Z"
   },
   {
    "duration": 115,
    "start_time": "2022-05-03T18:31:19.491Z"
   },
   {
    "duration": 9,
    "start_time": "2022-05-03T18:31:19.608Z"
   },
   {
    "duration": 49,
    "start_time": "2022-05-03T18:31:19.619Z"
   },
   {
    "duration": 170,
    "start_time": "2022-05-03T18:31:19.670Z"
   },
   {
    "duration": 92,
    "start_time": "2022-05-03T18:31:19.842Z"
   },
   {
    "duration": 17,
    "start_time": "2022-05-03T18:31:19.936Z"
   },
   {
    "duration": 180,
    "start_time": "2022-05-03T18:31:19.957Z"
   },
   {
    "duration": 19,
    "start_time": "2022-05-03T18:31:20.139Z"
   },
   {
    "duration": 46,
    "start_time": "2022-05-03T18:31:20.234Z"
   },
   {
    "duration": 162,
    "start_time": "2022-05-03T18:31:20.281Z"
   },
   {
    "duration": 95,
    "start_time": "2022-05-03T18:31:20.448Z"
   },
   {
    "duration": 18,
    "start_time": "2022-05-03T18:31:20.551Z"
   },
   {
    "duration": 13,
    "start_time": "2022-05-03T18:31:20.573Z"
   },
   {
    "duration": 24,
    "start_time": "2022-05-03T18:31:20.588Z"
   },
   {
    "duration": 1513,
    "start_time": "2022-05-03T18:31:20.614Z"
   },
   {
    "duration": 14,
    "start_time": "2022-05-03T18:31:22.129Z"
   },
   {
    "duration": 1483,
    "start_time": "2022-05-03T18:31:22.145Z"
   },
   {
    "duration": 8,
    "start_time": "2022-05-03T18:31:23.632Z"
   },
   {
    "duration": 1477,
    "start_time": "2022-05-03T18:31:23.642Z"
   },
   {
    "duration": 1431,
    "start_time": "2022-05-03T19:03:29.572Z"
   },
   {
    "duration": 395,
    "start_time": "2022-05-03T19:03:31.005Z"
   },
   {
    "duration": 18,
    "start_time": "2022-05-03T19:03:31.402Z"
   },
   {
    "duration": 27,
    "start_time": "2022-05-03T19:03:31.422Z"
   },
   {
    "duration": 12,
    "start_time": "2022-05-03T19:03:31.453Z"
   },
   {
    "duration": 93,
    "start_time": "2022-05-03T19:03:31.467Z"
   },
   {
    "duration": 18,
    "start_time": "2022-05-03T19:03:31.562Z"
   },
   {
    "duration": 13,
    "start_time": "2022-05-03T19:03:31.581Z"
   },
   {
    "duration": 68,
    "start_time": "2022-05-03T19:03:31.595Z"
   },
   {
    "duration": 10,
    "start_time": "2022-05-03T19:03:31.665Z"
   },
   {
    "duration": 17,
    "start_time": "2022-05-03T19:03:31.676Z"
   },
   {
    "duration": 15,
    "start_time": "2022-05-03T19:03:31.694Z"
   },
   {
    "duration": 25,
    "start_time": "2022-05-03T19:03:31.710Z"
   },
   {
    "duration": 52,
    "start_time": "2022-05-03T19:03:31.740Z"
   },
   {
    "duration": 20,
    "start_time": "2022-05-03T19:03:31.794Z"
   },
   {
    "duration": 36,
    "start_time": "2022-05-03T19:03:31.815Z"
   },
   {
    "duration": 44,
    "start_time": "2022-05-03T19:03:31.854Z"
   },
   {
    "duration": 35,
    "start_time": "2022-05-03T19:03:31.900Z"
   },
   {
    "duration": 30,
    "start_time": "2022-05-03T19:03:31.937Z"
   },
   {
    "duration": 16,
    "start_time": "2022-05-03T19:03:31.969Z"
   },
   {
    "duration": 9,
    "start_time": "2022-05-03T19:03:31.987Z"
   },
   {
    "duration": 37,
    "start_time": "2022-05-03T19:03:31.998Z"
   },
   {
    "duration": 63,
    "start_time": "2022-05-03T19:03:32.037Z"
   },
   {
    "duration": 31,
    "start_time": "2022-05-03T19:03:32.103Z"
   },
   {
    "duration": 17,
    "start_time": "2022-05-03T19:03:32.136Z"
   },
   {
    "duration": 45,
    "start_time": "2022-05-03T19:03:32.156Z"
   },
   {
    "duration": 9,
    "start_time": "2022-05-03T19:03:32.203Z"
   },
   {
    "duration": 62,
    "start_time": "2022-05-03T19:03:32.214Z"
   },
   {
    "duration": 121,
    "start_time": "2022-05-03T19:03:32.278Z"
   },
   {
    "duration": 8,
    "start_time": "2022-05-03T19:03:32.400Z"
   },
   {
    "duration": 32,
    "start_time": "2022-05-03T19:03:32.409Z"
   },
   {
    "duration": 98,
    "start_time": "2022-05-03T19:03:32.444Z"
   },
   {
    "duration": 90,
    "start_time": "2022-05-03T19:03:32.547Z"
   },
   {
    "duration": 22,
    "start_time": "2022-05-03T19:03:32.640Z"
   },
   {
    "duration": 171,
    "start_time": "2022-05-03T19:03:32.664Z"
   },
   {
    "duration": 98,
    "start_time": "2022-05-03T19:03:32.838Z"
   },
   {
    "duration": 24,
    "start_time": "2022-05-03T19:03:32.938Z"
   },
   {
    "duration": 87,
    "start_time": "2022-05-03T19:03:32.964Z"
   },
   {
    "duration": 83,
    "start_time": "2022-05-03T19:03:33.054Z"
   },
   {
    "duration": 17,
    "start_time": "2022-05-03T19:03:33.139Z"
   },
   {
    "duration": 7,
    "start_time": "2022-05-03T19:03:33.160Z"
   },
   {
    "duration": 13,
    "start_time": "2022-05-03T19:03:33.169Z"
   },
   {
    "duration": 1440,
    "start_time": "2022-05-03T19:03:33.184Z"
   },
   {
    "duration": 9,
    "start_time": "2022-05-03T19:03:34.626Z"
   },
   {
    "duration": 1511,
    "start_time": "2022-05-03T19:03:34.637Z"
   },
   {
    "duration": 5,
    "start_time": "2022-05-03T19:03:36.150Z"
   },
   {
    "duration": 1425,
    "start_time": "2022-05-03T19:03:36.157Z"
   },
   {
    "duration": 3025,
    "start_time": "2022-05-05T19:17:06.024Z"
   },
   {
    "duration": 665,
    "start_time": "2022-05-05T19:17:09.053Z"
   },
   {
    "duration": 45,
    "start_time": "2022-05-05T19:17:09.722Z"
   },
   {
    "duration": 29,
    "start_time": "2022-05-05T19:17:09.773Z"
   },
   {
    "duration": 8,
    "start_time": "2022-05-05T19:17:09.805Z"
   },
   {
    "duration": 153,
    "start_time": "2022-05-05T19:17:09.816Z"
   },
   {
    "duration": 45,
    "start_time": "2022-05-05T19:17:09.973Z"
   },
   {
    "duration": 42,
    "start_time": "2022-05-05T19:17:10.021Z"
   },
   {
    "duration": 86,
    "start_time": "2022-05-05T19:17:10.067Z"
   },
   {
    "duration": 23,
    "start_time": "2022-05-05T19:17:10.159Z"
   },
   {
    "duration": 51,
    "start_time": "2022-05-05T19:17:10.185Z"
   },
   {
    "duration": 28,
    "start_time": "2022-05-05T19:17:10.239Z"
   },
   {
    "duration": 36,
    "start_time": "2022-05-05T19:17:10.270Z"
   },
   {
    "duration": 141,
    "start_time": "2022-05-05T19:17:10.309Z"
   },
   {
    "duration": 43,
    "start_time": "2022-05-05T19:17:10.454Z"
   },
   {
    "duration": 57,
    "start_time": "2022-05-05T19:17:10.501Z"
   },
   {
    "duration": 76,
    "start_time": "2022-05-05T19:17:10.566Z"
   },
   {
    "duration": 27,
    "start_time": "2022-05-05T19:17:10.653Z"
   },
   {
    "duration": 75,
    "start_time": "2022-05-05T19:17:10.683Z"
   },
   {
    "duration": 37,
    "start_time": "2022-05-05T19:17:10.765Z"
   },
   {
    "duration": 27,
    "start_time": "2022-05-05T19:17:10.805Z"
   },
   {
    "duration": 24,
    "start_time": "2022-05-05T19:17:10.835Z"
   },
   {
    "duration": 142,
    "start_time": "2022-05-05T19:17:10.863Z"
   },
   {
    "duration": 64,
    "start_time": "2022-05-05T19:17:11.009Z"
   },
   {
    "duration": 24,
    "start_time": "2022-05-05T19:17:11.076Z"
   },
   {
    "duration": 80,
    "start_time": "2022-05-05T19:17:11.103Z"
   },
   {
    "duration": 17,
    "start_time": "2022-05-05T19:17:11.186Z"
   },
   {
    "duration": 41,
    "start_time": "2022-05-05T19:17:11.211Z"
   },
   {
    "duration": 22,
    "start_time": "2022-05-05T19:17:11.256Z"
   },
   {
    "duration": 66,
    "start_time": "2022-05-05T19:17:11.281Z"
   },
   {
    "duration": 86,
    "start_time": "2022-05-05T19:17:11.350Z"
   },
   {
    "duration": 238,
    "start_time": "2022-05-05T19:17:11.439Z"
   },
   {
    "duration": 17,
    "start_time": "2022-05-05T19:17:11.751Z"
   },
   {
    "duration": 32,
    "start_time": "2022-05-05T19:17:11.772Z"
   },
   {
    "duration": 51,
    "start_time": "2022-05-05T19:17:11.808Z"
   },
   {
    "duration": 104,
    "start_time": "2022-05-05T19:17:11.862Z"
   },
   {
    "duration": 191,
    "start_time": "2022-05-05T19:17:11.969Z"
   },
   {
    "duration": 16,
    "start_time": "2022-05-05T19:17:12.164Z"
   },
   {
    "duration": 29,
    "start_time": "2022-05-05T19:17:12.184Z"
   },
   {
    "duration": 80,
    "start_time": "2022-05-05T19:17:12.217Z"
   },
   {
    "duration": 93,
    "start_time": "2022-05-05T19:17:12.300Z"
   },
   {
    "duration": 182,
    "start_time": "2022-05-05T19:17:12.396Z"
   },
   {
    "duration": 66,
    "start_time": "2022-05-05T19:17:12.592Z"
   },
   {
    "duration": 27,
    "start_time": "2022-05-05T19:17:12.665Z"
   },
   {
    "duration": 15,
    "start_time": "2022-05-05T19:17:12.698Z"
   },
   {
    "duration": 37,
    "start_time": "2022-05-05T19:17:12.716Z"
   },
   {
    "duration": 338,
    "start_time": "2022-05-05T19:17:12.757Z"
   },
   {
    "duration": 0,
    "start_time": "2022-05-05T19:17:13.098Z"
   },
   {
    "duration": 0,
    "start_time": "2022-05-05T19:17:13.100Z"
   },
   {
    "duration": 1,
    "start_time": "2022-05-05T19:17:13.102Z"
   },
   {
    "duration": 0,
    "start_time": "2022-05-05T19:17:13.105Z"
   },
   {
    "duration": 0,
    "start_time": "2022-05-05T19:17:13.107Z"
   },
   {
    "duration": 0,
    "start_time": "2022-05-05T19:17:13.109Z"
   },
   {
    "duration": 2222,
    "start_time": "2022-05-05T19:22:17.631Z"
   },
   {
    "duration": 16,
    "start_time": "2022-05-05T19:22:28.009Z"
   },
   {
    "duration": 6,
    "start_time": "2022-05-05T19:22:43.874Z"
   },
   {
    "duration": 9,
    "start_time": "2022-05-05T19:31:02.679Z"
   },
   {
    "duration": 14,
    "start_time": "2022-05-05T19:31:21.532Z"
   },
   {
    "duration": 9,
    "start_time": "2022-05-05T19:31:33.741Z"
   },
   {
    "duration": 7,
    "start_time": "2022-05-05T19:32:22.975Z"
   },
   {
    "duration": 5,
    "start_time": "2022-05-05T19:32:33.846Z"
   },
   {
    "duration": 5,
    "start_time": "2022-05-05T19:33:02.830Z"
   },
   {
    "duration": 8,
    "start_time": "2022-05-05T19:33:24.801Z"
   },
   {
    "duration": 1849,
    "start_time": "2022-05-05T19:33:26.339Z"
   },
   {
    "duration": 1885,
    "start_time": "2022-05-05T19:33:47.251Z"
   },
   {
    "duration": 6,
    "start_time": "2022-05-05T19:33:56.642Z"
   },
   {
    "duration": 7,
    "start_time": "2022-05-05T19:35:25.779Z"
   },
   {
    "duration": 9,
    "start_time": "2022-05-05T19:35:55.070Z"
   },
   {
    "duration": 2692,
    "start_time": "2022-05-05T19:35:56.287Z"
   },
   {
    "duration": 7,
    "start_time": "2022-05-05T19:36:00.954Z"
   },
   {
    "duration": 11,
    "start_time": "2022-05-05T19:38:40.662Z"
   },
   {
    "duration": 1984,
    "start_time": "2022-05-05T19:38:41.758Z"
   },
   {
    "duration": 5,
    "start_time": "2022-05-05T19:38:44.632Z"
   },
   {
    "duration": 2685,
    "start_time": "2022-05-05T19:50:37.450Z"
   },
   {
    "duration": 733,
    "start_time": "2022-05-05T19:50:40.139Z"
   },
   {
    "duration": 34,
    "start_time": "2022-05-05T19:50:40.875Z"
   },
   {
    "duration": 56,
    "start_time": "2022-05-05T19:50:40.914Z"
   },
   {
    "duration": 9,
    "start_time": "2022-05-05T19:50:40.973Z"
   },
   {
    "duration": 129,
    "start_time": "2022-05-05T19:50:40.984Z"
   },
   {
    "duration": 42,
    "start_time": "2022-05-05T19:50:41.116Z"
   },
   {
    "duration": 24,
    "start_time": "2022-05-05T19:50:41.161Z"
   },
   {
    "duration": 80,
    "start_time": "2022-05-05T19:50:41.188Z"
   },
   {
    "duration": 18,
    "start_time": "2022-05-05T19:50:41.274Z"
   },
   {
    "duration": 20,
    "start_time": "2022-05-05T19:50:41.295Z"
   },
   {
    "duration": 51,
    "start_time": "2022-05-05T19:50:41.317Z"
   },
   {
    "duration": 6,
    "start_time": "2022-05-05T19:50:41.375Z"
   },
   {
    "duration": 144,
    "start_time": "2022-05-05T19:50:41.384Z"
   },
   {
    "duration": 62,
    "start_time": "2022-05-05T19:50:41.531Z"
   },
   {
    "duration": 25,
    "start_time": "2022-05-05T19:50:41.596Z"
   },
   {
    "duration": 96,
    "start_time": "2022-05-05T19:50:41.625Z"
   },
   {
    "duration": 47,
    "start_time": "2022-05-05T19:50:41.724Z"
   },
   {
    "duration": 46,
    "start_time": "2022-05-05T19:50:41.775Z"
   },
   {
    "duration": 51,
    "start_time": "2022-05-05T19:50:41.823Z"
   },
   {
    "duration": 15,
    "start_time": "2022-05-05T19:50:41.877Z"
   },
   {
    "duration": 15,
    "start_time": "2022-05-05T19:50:41.894Z"
   },
   {
    "duration": 128,
    "start_time": "2022-05-05T19:50:41.912Z"
   },
   {
    "duration": 43,
    "start_time": "2022-05-05T19:50:42.042Z"
   },
   {
    "duration": 16,
    "start_time": "2022-05-05T19:50:42.087Z"
   },
   {
    "duration": 94,
    "start_time": "2022-05-05T19:50:42.106Z"
   },
   {
    "duration": 15,
    "start_time": "2022-05-05T19:50:42.202Z"
   },
   {
    "duration": 37,
    "start_time": "2022-05-05T19:50:42.227Z"
   },
   {
    "duration": 29,
    "start_time": "2022-05-05T19:50:42.271Z"
   },
   {
    "duration": 27,
    "start_time": "2022-05-05T19:50:42.302Z"
   },
   {
    "duration": 82,
    "start_time": "2022-05-05T19:50:42.331Z"
   },
   {
    "duration": 238,
    "start_time": "2022-05-05T19:50:42.415Z"
   },
   {
    "duration": 23,
    "start_time": "2022-05-05T19:50:42.656Z"
   },
   {
    "duration": 40,
    "start_time": "2022-05-05T19:50:42.682Z"
   },
   {
    "duration": 51,
    "start_time": "2022-05-05T19:50:42.725Z"
   },
   {
    "duration": 96,
    "start_time": "2022-05-05T19:50:42.778Z"
   },
   {
    "duration": 196,
    "start_time": "2022-05-05T19:50:42.879Z"
   },
   {
    "duration": 101,
    "start_time": "2022-05-05T19:50:43.083Z"
   },
   {
    "duration": 31,
    "start_time": "2022-05-05T19:50:43.187Z"
   },
   {
    "duration": 51,
    "start_time": "2022-05-05T19:50:43.221Z"
   },
   {
    "duration": 61,
    "start_time": "2022-05-05T19:50:43.274Z"
   },
   {
    "duration": 139,
    "start_time": "2022-05-05T19:50:43.337Z"
   },
   {
    "duration": 89,
    "start_time": "2022-05-05T19:50:43.482Z"
   },
   {
    "duration": 35,
    "start_time": "2022-05-05T19:50:43.573Z"
   },
   {
    "duration": 12,
    "start_time": "2022-05-05T19:50:43.611Z"
   },
   {
    "duration": 34,
    "start_time": "2022-05-05T19:50:43.626Z"
   },
   {
    "duration": 2327,
    "start_time": "2022-05-05T19:50:43.663Z"
   },
   {
    "duration": 7,
    "start_time": "2022-05-05T19:50:45.992Z"
   },
   {
    "duration": 23,
    "start_time": "2022-05-05T19:50:46.001Z"
   },
   {
    "duration": 2751,
    "start_time": "2022-05-05T19:50:46.027Z"
   },
   {
    "duration": 7,
    "start_time": "2022-05-05T19:50:48.780Z"
   },
   {
    "duration": 10,
    "start_time": "2022-05-05T19:50:48.790Z"
   },
   {
    "duration": 3041,
    "start_time": "2022-05-05T19:50:48.803Z"
   },
   {
    "duration": 6,
    "start_time": "2022-05-05T19:50:51.852Z"
   },
   {
    "duration": 2077,
    "start_time": "2022-05-05T19:59:07.544Z"
   },
   {
    "duration": 523,
    "start_time": "2022-05-05T19:59:09.624Z"
   },
   {
    "duration": 25,
    "start_time": "2022-05-05T19:59:10.150Z"
   },
   {
    "duration": 19,
    "start_time": "2022-05-05T19:59:10.180Z"
   },
   {
    "duration": 7,
    "start_time": "2022-05-05T19:59:10.202Z"
   },
   {
    "duration": 111,
    "start_time": "2022-05-05T19:59:10.212Z"
   },
   {
    "duration": 41,
    "start_time": "2022-05-05T19:59:10.326Z"
   },
   {
    "duration": 16,
    "start_time": "2022-05-05T19:59:10.371Z"
   },
   {
    "duration": 87,
    "start_time": "2022-05-05T19:59:10.390Z"
   },
   {
    "duration": 19,
    "start_time": "2022-05-05T19:59:10.483Z"
   },
   {
    "duration": 20,
    "start_time": "2022-05-05T19:59:10.504Z"
   },
   {
    "duration": 31,
    "start_time": "2022-05-05T19:59:10.527Z"
   },
   {
    "duration": 22,
    "start_time": "2022-05-05T19:59:10.566Z"
   },
   {
    "duration": 105,
    "start_time": "2022-05-05T19:59:10.591Z"
   },
   {
    "duration": 53,
    "start_time": "2022-05-05T19:59:10.699Z"
   },
   {
    "duration": 24,
    "start_time": "2022-05-05T19:59:10.755Z"
   },
   {
    "duration": 71,
    "start_time": "2022-05-05T19:59:10.781Z"
   },
   {
    "duration": 19,
    "start_time": "2022-05-05T19:59:10.854Z"
   },
   {
    "duration": 30,
    "start_time": "2022-05-05T19:59:10.876Z"
   },
   {
    "duration": 57,
    "start_time": "2022-05-05T19:59:10.908Z"
   },
   {
    "duration": 14,
    "start_time": "2022-05-05T19:59:10.968Z"
   },
   {
    "duration": 5,
    "start_time": "2022-05-05T19:59:10.984Z"
   },
   {
    "duration": 110,
    "start_time": "2022-05-05T19:59:10.991Z"
   },
   {
    "duration": 53,
    "start_time": "2022-05-05T19:59:11.104Z"
   },
   {
    "duration": 16,
    "start_time": "2022-05-05T19:59:11.159Z"
   },
   {
    "duration": 52,
    "start_time": "2022-05-05T19:59:11.178Z"
   },
   {
    "duration": 40,
    "start_time": "2022-05-05T19:59:11.233Z"
   },
   {
    "duration": 16,
    "start_time": "2022-05-05T19:59:11.283Z"
   },
   {
    "duration": 18,
    "start_time": "2022-05-05T19:59:11.302Z"
   },
   {
    "duration": 56,
    "start_time": "2022-05-05T19:59:11.322Z"
   },
   {
    "duration": 57,
    "start_time": "2022-05-05T19:59:11.380Z"
   },
   {
    "duration": 198,
    "start_time": "2022-05-05T19:59:11.456Z"
   },
   {
    "duration": 107,
    "start_time": "2022-05-05T19:59:11.660Z"
   },
   {
    "duration": 17,
    "start_time": "2022-05-05T19:59:11.774Z"
   },
   {
    "duration": 22,
    "start_time": "2022-05-05T19:59:11.794Z"
   },
   {
    "duration": 85,
    "start_time": "2022-05-05T19:59:11.818Z"
   },
   {
    "duration": 155,
    "start_time": "2022-05-05T19:59:11.906Z"
   },
   {
    "duration": 95,
    "start_time": "2022-05-05T19:59:12.064Z"
   },
   {
    "duration": 24,
    "start_time": "2022-05-05T19:59:12.161Z"
   },
   {
    "duration": 23,
    "start_time": "2022-05-05T19:59:12.188Z"
   },
   {
    "duration": 107,
    "start_time": "2022-05-05T19:59:12.214Z"
   },
   {
    "duration": 147,
    "start_time": "2022-05-05T19:59:12.324Z"
   },
   {
    "duration": 5,
    "start_time": "2022-05-05T19:59:12.473Z"
   },
   {
    "duration": 24,
    "start_time": "2022-05-05T19:59:12.552Z"
   },
   {
    "duration": 25,
    "start_time": "2022-05-05T19:59:12.579Z"
   },
   {
    "duration": 19,
    "start_time": "2022-05-05T19:59:12.607Z"
   },
   {
    "duration": 1953,
    "start_time": "2022-05-05T19:59:12.628Z"
   },
   {
    "duration": 7,
    "start_time": "2022-05-05T19:59:14.583Z"
   },
   {
    "duration": 20,
    "start_time": "2022-05-05T19:59:14.592Z"
   },
   {
    "duration": 2067,
    "start_time": "2022-05-05T19:59:14.615Z"
   },
   {
    "duration": 8,
    "start_time": "2022-05-05T19:59:16.685Z"
   },
   {
    "duration": 15,
    "start_time": "2022-05-05T19:59:16.696Z"
   },
   {
    "duration": 2032,
    "start_time": "2022-05-05T19:59:16.714Z"
   },
   {
    "duration": 8,
    "start_time": "2022-05-05T19:59:18.749Z"
   },
   {
    "duration": 2022,
    "start_time": "2022-05-06T19:03:24.910Z"
   },
   {
    "duration": 427,
    "start_time": "2022-05-06T19:03:26.934Z"
   },
   {
    "duration": 21,
    "start_time": "2022-05-06T19:03:27.363Z"
   },
   {
    "duration": 17,
    "start_time": "2022-05-06T19:03:27.392Z"
   },
   {
    "duration": 5,
    "start_time": "2022-05-06T19:03:27.411Z"
   },
   {
    "duration": 102,
    "start_time": "2022-05-06T19:03:27.418Z"
   },
   {
    "duration": 24,
    "start_time": "2022-05-06T19:03:27.522Z"
   },
   {
    "duration": 14,
    "start_time": "2022-05-06T19:03:27.548Z"
   },
   {
    "duration": 44,
    "start_time": "2022-05-06T19:03:27.592Z"
   },
   {
    "duration": 16,
    "start_time": "2022-05-06T19:03:27.640Z"
   },
   {
    "duration": 43,
    "start_time": "2022-05-06T19:03:27.658Z"
   },
   {
    "duration": 12,
    "start_time": "2022-05-06T19:03:27.703Z"
   },
   {
    "duration": 6,
    "start_time": "2022-05-06T19:03:27.717Z"
   },
   {
    "duration": 91,
    "start_time": "2022-05-06T19:03:27.725Z"
   },
   {
    "duration": 23,
    "start_time": "2022-05-06T19:03:27.818Z"
   },
   {
    "duration": 15,
    "start_time": "2022-05-06T19:03:27.843Z"
   },
   {
    "duration": 69,
    "start_time": "2022-05-06T19:03:27.860Z"
   },
   {
    "duration": 16,
    "start_time": "2022-05-06T19:03:27.931Z"
   },
   {
    "duration": 51,
    "start_time": "2022-05-06T19:03:27.949Z"
   },
   {
    "duration": 20,
    "start_time": "2022-05-06T19:03:28.002Z"
   },
   {
    "duration": 11,
    "start_time": "2022-05-06T19:03:28.024Z"
   },
   {
    "duration": 7,
    "start_time": "2022-05-06T19:03:28.037Z"
   },
   {
    "duration": 101,
    "start_time": "2022-05-06T19:03:28.047Z"
   },
   {
    "duration": 23,
    "start_time": "2022-05-06T19:03:28.151Z"
   },
   {
    "duration": 27,
    "start_time": "2022-05-06T19:03:28.176Z"
   },
   {
    "duration": 45,
    "start_time": "2022-05-06T19:03:28.205Z"
   },
   {
    "duration": 11,
    "start_time": "2022-05-06T19:03:28.252Z"
   },
   {
    "duration": 11,
    "start_time": "2022-05-06T19:03:28.293Z"
   },
   {
    "duration": 17,
    "start_time": "2022-05-06T19:03:28.306Z"
   },
   {
    "duration": 24,
    "start_time": "2022-05-06T19:03:28.326Z"
   },
   {
    "duration": 90,
    "start_time": "2022-05-06T19:03:28.352Z"
   },
   {
    "duration": 155,
    "start_time": "2022-05-06T19:03:28.444Z"
   },
   {
    "duration": 100,
    "start_time": "2022-05-06T19:03:28.602Z"
   },
   {
    "duration": 24,
    "start_time": "2022-05-06T19:03:28.704Z"
   },
   {
    "duration": 20,
    "start_time": "2022-05-06T19:03:28.730Z"
   },
   {
    "duration": 77,
    "start_time": "2022-05-06T19:03:28.753Z"
   },
   {
    "duration": 262,
    "start_time": "2022-05-06T19:03:28.833Z"
   },
   {
    "duration": 97,
    "start_time": "2022-05-06T19:03:29.098Z"
   },
   {
    "duration": 19,
    "start_time": "2022-05-06T19:03:29.198Z"
   },
   {
    "duration": 21,
    "start_time": "2022-05-06T19:03:29.219Z"
   },
   {
    "duration": 79,
    "start_time": "2022-05-06T19:03:29.242Z"
   },
   {
    "duration": 182,
    "start_time": "2022-05-06T19:03:29.324Z"
   },
   {
    "duration": 4,
    "start_time": "2022-05-06T19:03:29.594Z"
   },
   {
    "duration": 10,
    "start_time": "2022-05-06T19:03:29.600Z"
   },
   {
    "duration": 4,
    "start_time": "2022-05-06T19:03:29.613Z"
   },
   {
    "duration": 9,
    "start_time": "2022-05-06T19:03:29.620Z"
   },
   {
    "duration": 161,
    "start_time": "2022-05-06T19:03:29.631Z"
   },
   {
    "duration": 0,
    "start_time": "2022-05-06T19:03:29.794Z"
   },
   {
    "duration": 0,
    "start_time": "2022-05-06T19:03:29.795Z"
   },
   {
    "duration": 0,
    "start_time": "2022-05-06T19:03:29.797Z"
   },
   {
    "duration": 0,
    "start_time": "2022-05-06T19:03:29.798Z"
   },
   {
    "duration": 0,
    "start_time": "2022-05-06T19:03:29.799Z"
   },
   {
    "duration": 0,
    "start_time": "2022-05-06T19:03:29.801Z"
   },
   {
    "duration": 0,
    "start_time": "2022-05-06T19:03:29.802Z"
   },
   {
    "duration": 1902,
    "start_time": "2022-05-06T19:03:57.146Z"
   },
   {
    "duration": 412,
    "start_time": "2022-05-06T19:03:59.051Z"
   },
   {
    "duration": 21,
    "start_time": "2022-05-06T19:03:59.465Z"
   },
   {
    "duration": 17,
    "start_time": "2022-05-06T19:03:59.493Z"
   },
   {
    "duration": 7,
    "start_time": "2022-05-06T19:03:59.512Z"
   },
   {
    "duration": 95,
    "start_time": "2022-05-06T19:03:59.522Z"
   },
   {
    "duration": 24,
    "start_time": "2022-05-06T19:03:59.619Z"
   },
   {
    "duration": 15,
    "start_time": "2022-05-06T19:03:59.646Z"
   },
   {
    "duration": 67,
    "start_time": "2022-05-06T19:03:59.663Z"
   },
   {
    "duration": 17,
    "start_time": "2022-05-06T19:03:59.734Z"
   },
   {
    "duration": 43,
    "start_time": "2022-05-06T19:03:59.753Z"
   },
   {
    "duration": 12,
    "start_time": "2022-05-06T19:03:59.798Z"
   },
   {
    "duration": 7,
    "start_time": "2022-05-06T19:03:59.812Z"
   },
   {
    "duration": 90,
    "start_time": "2022-05-06T19:03:59.821Z"
   },
   {
    "duration": 26,
    "start_time": "2022-05-06T19:03:59.913Z"
   },
   {
    "duration": 14,
    "start_time": "2022-05-06T19:03:59.941Z"
   },
   {
    "duration": 75,
    "start_time": "2022-05-06T19:03:59.957Z"
   },
   {
    "duration": 17,
    "start_time": "2022-05-06T19:04:00.034Z"
   },
   {
    "duration": 48,
    "start_time": "2022-05-06T19:04:00.053Z"
   },
   {
    "duration": 19,
    "start_time": "2022-05-06T19:04:00.103Z"
   },
   {
    "duration": 13,
    "start_time": "2022-05-06T19:04:00.124Z"
   },
   {
    "duration": 7,
    "start_time": "2022-05-06T19:04:00.139Z"
   },
   {
    "duration": 107,
    "start_time": "2022-05-06T19:04:00.148Z"
   },
   {
    "duration": 37,
    "start_time": "2022-05-06T19:04:00.257Z"
   },
   {
    "duration": 14,
    "start_time": "2022-05-06T19:04:00.296Z"
   },
   {
    "duration": 47,
    "start_time": "2022-05-06T19:04:00.312Z"
   },
   {
    "duration": 38,
    "start_time": "2022-05-06T19:04:00.361Z"
   },
   {
    "duration": 38,
    "start_time": "2022-05-06T19:04:00.404Z"
   },
   {
    "duration": 29,
    "start_time": "2022-05-06T19:04:00.445Z"
   },
   {
    "duration": 32,
    "start_time": "2022-05-06T19:04:00.476Z"
   },
   {
    "duration": 53,
    "start_time": "2022-05-06T19:04:00.511Z"
   },
   {
    "duration": 133,
    "start_time": "2022-05-06T19:04:00.566Z"
   },
   {
    "duration": 99,
    "start_time": "2022-05-06T19:04:00.702Z"
   },
   {
    "duration": 30,
    "start_time": "2022-05-06T19:04:00.804Z"
   },
   {
    "duration": 24,
    "start_time": "2022-05-06T19:04:00.836Z"
   },
   {
    "duration": 87,
    "start_time": "2022-05-06T19:04:00.863Z"
   },
   {
    "duration": 146,
    "start_time": "2022-05-06T19:04:00.952Z"
   },
   {
    "duration": 102,
    "start_time": "2022-05-06T19:04:01.101Z"
   },
   {
    "duration": 23,
    "start_time": "2022-05-06T19:04:01.205Z"
   },
   {
    "duration": 22,
    "start_time": "2022-05-06T19:04:01.230Z"
   },
   {
    "duration": 77,
    "start_time": "2022-05-06T19:04:01.254Z"
   },
   {
    "duration": 164,
    "start_time": "2022-05-06T19:04:01.334Z"
   },
   {
    "duration": 92,
    "start_time": "2022-05-06T19:04:01.501Z"
   },
   {
    "duration": 14,
    "start_time": "2022-05-06T19:04:01.596Z"
   },
   {
    "duration": 9,
    "start_time": "2022-05-06T19:04:01.613Z"
   },
   {
    "duration": 16,
    "start_time": "2022-05-06T19:04:01.624Z"
   },
   {
    "duration": 1744,
    "start_time": "2022-05-06T19:04:01.642Z"
   },
   {
    "duration": 7,
    "start_time": "2022-05-06T19:04:03.388Z"
   },
   {
    "duration": 11,
    "start_time": "2022-05-06T19:04:03.397Z"
   },
   {
    "duration": 1732,
    "start_time": "2022-05-06T19:04:03.411Z"
   },
   {
    "duration": 6,
    "start_time": "2022-05-06T19:04:05.145Z"
   },
   {
    "duration": 11,
    "start_time": "2022-05-06T19:04:05.153Z"
   },
   {
    "duration": 1769,
    "start_time": "2022-05-06T19:04:05.166Z"
   },
   {
    "duration": 6,
    "start_time": "2022-05-06T19:04:06.937Z"
   },
   {
    "duration": 1833,
    "start_time": "2022-05-06T19:07:56.419Z"
   },
   {
    "duration": 1724,
    "start_time": "2022-05-06T19:08:05.483Z"
   },
   {
    "duration": 1727,
    "start_time": "2022-05-06T19:08:29.137Z"
   },
   {
    "duration": 1725,
    "start_time": "2022-05-06T19:10:26.638Z"
   },
   {
    "duration": 2014,
    "start_time": "2022-05-06T19:11:04.221Z"
   },
   {
    "duration": 464,
    "start_time": "2022-05-06T19:11:06.238Z"
   },
   {
    "duration": 25,
    "start_time": "2022-05-06T19:11:06.704Z"
   },
   {
    "duration": 17,
    "start_time": "2022-05-06T19:11:06.733Z"
   },
   {
    "duration": 6,
    "start_time": "2022-05-06T19:11:06.752Z"
   },
   {
    "duration": 89,
    "start_time": "2022-05-06T19:11:06.794Z"
   },
   {
    "duration": 29,
    "start_time": "2022-05-06T19:11:06.894Z"
   },
   {
    "duration": 18,
    "start_time": "2022-05-06T19:11:06.925Z"
   },
   {
    "duration": 83,
    "start_time": "2022-05-06T19:11:06.946Z"
   },
   {
    "duration": 18,
    "start_time": "2022-05-06T19:11:07.033Z"
   },
   {
    "duration": 40,
    "start_time": "2022-05-06T19:11:07.053Z"
   },
   {
    "duration": 13,
    "start_time": "2022-05-06T19:11:07.095Z"
   },
   {
    "duration": 11,
    "start_time": "2022-05-06T19:11:07.110Z"
   },
   {
    "duration": 93,
    "start_time": "2022-05-06T19:11:07.123Z"
   },
   {
    "duration": 26,
    "start_time": "2022-05-06T19:11:07.218Z"
   },
   {
    "duration": 15,
    "start_time": "2022-05-06T19:11:07.246Z"
   },
   {
    "duration": 70,
    "start_time": "2022-05-06T19:11:07.263Z"
   },
   {
    "duration": 18,
    "start_time": "2022-05-06T19:11:07.335Z"
   },
   {
    "duration": 57,
    "start_time": "2022-05-06T19:11:07.355Z"
   },
   {
    "duration": 19,
    "start_time": "2022-05-06T19:11:07.414Z"
   },
   {
    "duration": 16,
    "start_time": "2022-05-06T19:11:07.436Z"
   },
   {
    "duration": 12,
    "start_time": "2022-05-06T19:11:07.454Z"
   },
   {
    "duration": 78,
    "start_time": "2022-05-06T19:11:07.493Z"
   },
   {
    "duration": 38,
    "start_time": "2022-05-06T19:11:07.573Z"
   },
   {
    "duration": 14,
    "start_time": "2022-05-06T19:11:07.613Z"
   },
   {
    "duration": 71,
    "start_time": "2022-05-06T19:11:07.629Z"
   },
   {
    "duration": 12,
    "start_time": "2022-05-06T19:11:07.702Z"
   },
   {
    "duration": 33,
    "start_time": "2022-05-06T19:11:07.719Z"
   },
   {
    "duration": 26,
    "start_time": "2022-05-06T19:11:07.755Z"
   },
   {
    "duration": 29,
    "start_time": "2022-05-06T19:11:07.783Z"
   },
   {
    "duration": 63,
    "start_time": "2022-05-06T19:11:07.815Z"
   },
   {
    "duration": 202,
    "start_time": "2022-05-06T19:11:07.892Z"
   },
   {
    "duration": 12,
    "start_time": "2022-05-06T19:11:08.097Z"
   },
   {
    "duration": 18,
    "start_time": "2022-05-06T19:11:08.111Z"
   },
   {
    "duration": 21,
    "start_time": "2022-05-06T19:11:08.131Z"
   },
   {
    "duration": 87,
    "start_time": "2022-05-06T19:11:08.154Z"
   },
   {
    "duration": 251,
    "start_time": "2022-05-06T19:11:08.243Z"
   },
   {
    "duration": 13,
    "start_time": "2022-05-06T19:11:08.497Z"
   },
   {
    "duration": 21,
    "start_time": "2022-05-06T19:11:08.512Z"
   },
   {
    "duration": 21,
    "start_time": "2022-05-06T19:11:08.536Z"
   },
   {
    "duration": 55,
    "start_time": "2022-05-06T19:11:08.594Z"
   },
   {
    "duration": 146,
    "start_time": "2022-05-06T19:11:08.651Z"
   },
   {
    "duration": 94,
    "start_time": "2022-05-06T19:11:08.800Z"
   },
   {
    "duration": 14,
    "start_time": "2022-05-06T19:11:08.897Z"
   },
   {
    "duration": 7,
    "start_time": "2022-05-06T19:11:08.914Z"
   },
   {
    "duration": 26,
    "start_time": "2022-05-06T19:11:08.923Z"
   },
   {
    "duration": 1734,
    "start_time": "2022-05-06T19:11:08.951Z"
   },
   {
    "duration": 7,
    "start_time": "2022-05-06T19:11:10.692Z"
   },
   {
    "duration": 26,
    "start_time": "2022-05-06T19:11:10.701Z"
   },
   {
    "duration": 1686,
    "start_time": "2022-05-06T19:11:10.729Z"
   },
   {
    "duration": 5,
    "start_time": "2022-05-06T19:11:12.418Z"
   },
   {
    "duration": 15,
    "start_time": "2022-05-06T19:11:12.425Z"
   },
   {
    "duration": 1731,
    "start_time": "2022-05-06T19:11:12.442Z"
   },
   {
    "duration": 6,
    "start_time": "2022-05-06T19:11:14.175Z"
   },
   {
    "duration": 1857,
    "start_time": "2022-05-06T19:16:46.202Z"
   },
   {
    "duration": 450,
    "start_time": "2022-05-06T19:16:48.062Z"
   },
   {
    "duration": 22,
    "start_time": "2022-05-06T19:16:48.515Z"
   },
   {
    "duration": 19,
    "start_time": "2022-05-06T19:16:48.540Z"
   },
   {
    "duration": 34,
    "start_time": "2022-05-06T19:16:48.561Z"
   },
   {
    "duration": 71,
    "start_time": "2022-05-06T19:16:48.598Z"
   },
   {
    "duration": 41,
    "start_time": "2022-05-06T19:16:48.672Z"
   },
   {
    "duration": 15,
    "start_time": "2022-05-06T19:16:48.716Z"
   },
   {
    "duration": 69,
    "start_time": "2022-05-06T19:16:48.734Z"
   },
   {
    "duration": 16,
    "start_time": "2022-05-06T19:16:48.808Z"
   },
   {
    "duration": 19,
    "start_time": "2022-05-06T19:16:48.826Z"
   },
   {
    "duration": 12,
    "start_time": "2022-05-06T19:16:48.848Z"
   },
   {
    "duration": 5,
    "start_time": "2022-05-06T19:16:48.893Z"
   },
   {
    "duration": 67,
    "start_time": "2022-05-06T19:16:48.901Z"
   },
   {
    "duration": 46,
    "start_time": "2022-05-06T19:16:48.970Z"
   },
   {
    "duration": 16,
    "start_time": "2022-05-06T19:16:49.019Z"
   },
   {
    "duration": 76,
    "start_time": "2022-05-06T19:16:49.037Z"
   },
   {
    "duration": 17,
    "start_time": "2022-05-06T19:16:49.115Z"
   },
   {
    "duration": 29,
    "start_time": "2022-05-06T19:16:49.134Z"
   },
   {
    "duration": 25,
    "start_time": "2022-05-06T19:16:49.193Z"
   },
   {
    "duration": 15,
    "start_time": "2022-05-06T19:16:49.220Z"
   },
   {
    "duration": 8,
    "start_time": "2022-05-06T19:16:49.237Z"
   },
   {
    "duration": 110,
    "start_time": "2022-05-06T19:16:49.248Z"
   },
   {
    "duration": 37,
    "start_time": "2022-05-06T19:16:49.360Z"
   },
   {
    "duration": 13,
    "start_time": "2022-05-06T19:16:49.399Z"
   },
   {
    "duration": 45,
    "start_time": "2022-05-06T19:16:49.414Z"
   },
   {
    "duration": 36,
    "start_time": "2022-05-06T19:16:49.461Z"
   },
   {
    "duration": 15,
    "start_time": "2022-05-06T19:16:49.502Z"
   },
   {
    "duration": 21,
    "start_time": "2022-05-06T19:16:49.519Z"
   },
   {
    "duration": 24,
    "start_time": "2022-05-06T19:16:49.542Z"
   },
   {
    "duration": 75,
    "start_time": "2022-05-06T19:16:49.569Z"
   },
   {
    "duration": 157,
    "start_time": "2022-05-06T19:16:49.646Z"
   },
   {
    "duration": 11,
    "start_time": "2022-05-06T19:16:49.894Z"
   },
   {
    "duration": 16,
    "start_time": "2022-05-06T19:16:49.907Z"
   },
   {
    "duration": 20,
    "start_time": "2022-05-06T19:16:49.925Z"
   },
   {
    "duration": 89,
    "start_time": "2022-05-06T19:16:49.947Z"
   },
   {
    "duration": 160,
    "start_time": "2022-05-06T19:16:50.038Z"
   },
   {
    "duration": 99,
    "start_time": "2022-05-06T19:16:50.201Z"
   },
   {
    "duration": 18,
    "start_time": "2022-05-06T19:16:50.303Z"
   },
   {
    "duration": 21,
    "start_time": "2022-05-06T19:16:50.323Z"
   },
   {
    "duration": 90,
    "start_time": "2022-05-06T19:16:50.346Z"
   },
   {
    "duration": 156,
    "start_time": "2022-05-06T19:16:50.438Z"
   },
   {
    "duration": 4,
    "start_time": "2022-05-06T19:16:50.598Z"
   },
   {
    "duration": 97,
    "start_time": "2022-05-06T19:16:50.604Z"
   },
   {
    "duration": 4,
    "start_time": "2022-05-06T19:16:50.703Z"
   },
   {
    "duration": 13,
    "start_time": "2022-05-06T19:16:50.709Z"
   },
   {
    "duration": 1745,
    "start_time": "2022-05-06T19:16:50.724Z"
   },
   {
    "duration": 6,
    "start_time": "2022-05-06T19:16:52.471Z"
   },
   {
    "duration": 17,
    "start_time": "2022-05-06T19:16:52.479Z"
   },
   {
    "duration": 1702,
    "start_time": "2022-05-06T19:16:52.498Z"
   },
   {
    "duration": 6,
    "start_time": "2022-05-06T19:16:54.202Z"
   },
   {
    "duration": 15,
    "start_time": "2022-05-06T19:16:54.210Z"
   },
   {
    "duration": 1790,
    "start_time": "2022-05-06T19:16:54.227Z"
   },
   {
    "duration": 5,
    "start_time": "2022-05-06T19:16:56.019Z"
   }
  ],
  "kernelspec": {
   "display_name": "Python 3.9.12 ('base')",
   "language": "python",
   "name": "python3"
  },
  "language_info": {
   "codemirror_mode": {
    "name": "ipython",
    "version": 3
   },
   "file_extension": ".py",
   "mimetype": "text/x-python",
   "name": "python",
   "nbconvert_exporter": "python",
   "pygments_lexer": "ipython3",
   "version": "3.9.12"
  },
  "toc": {
   "base_numbering": 1,
   "nav_menu": {},
   "number_sections": true,
   "sideBar": true,
   "skip_h1_title": true,
   "title_cell": "Table of Contents",
   "title_sidebar": "Contents",
   "toc_cell": false,
   "toc_position": {
    "height": "calc(100% - 180px)",
    "left": "10px",
    "top": "150px",
    "width": "366.391px"
   },
   "toc_section_display": true,
   "toc_window_display": true
  },
  "vscode": {
   "interpreter": {
    "hash": "ad2bdc8ecc057115af97d19610ffacc2b4e99fae6737bb82f5d7fb13d2f2c186"
   }
  }
 },
 "nbformat": 4,
 "nbformat_minor": 2
}
